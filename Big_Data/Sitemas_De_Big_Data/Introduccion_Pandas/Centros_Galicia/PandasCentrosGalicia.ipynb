{
 "cells": [
  {
   "cell_type": "markdown",
   "metadata": {},
   "source": [
    "# **PANDAS CON CENTROS EN PROVINCIAS**\n",
    "\n",
    "Gestión de centros de galicia con pandas"
   ]
  },
  {
   "cell_type": "code",
   "execution_count": 28,
   "metadata": {},
   "outputs": [],
   "source": [
    "import os\n",
    "import tempfile\n",
    "import pandas as pd\n",
    "import numpy as np\n",
    "\n",
    "#Obtener ruta relativa de Centros_Galicia\n",
    "data_dir = os.path.dirname(os.path.abspath('Centros_Galicia')) + \"/\"    #__file__ para los Py\n",
    "\n",
    "#Manera primitiva de recoger datos\n",
    "dfCorunha = pd.read_csv(os.path.join(data_dir,\"corunha.csv\"))\n",
    "dfLugo = pd.read_csv(os.path.join(data_dir+\"lugo.csv\"))\n",
    "dfOurense = pd.read_csv(os.path.join(data_dir+\"ourense.csv\"))\n",
    "dfPontevedra = pd.read_csv(os.path.join(data_dir+\"pontevedra.csv\"))\n",
    "\n",
    "dfTotal = pd.concat([dfCorunha,dfLugo,dfOurense,dfPontevedra])\n"
   ]
  },
  {
   "cell_type": "code",
   "execution_count": null,
   "metadata": {},
   "outputs": [],
   "source": [
    "dfTotal.describe()   #Describe las tablas\n",
    "dfTotal.to_csv()     #Escribe un nuevo csv"
   ]
  },
  {
   "cell_type": "markdown",
   "metadata": {},
   "source": [
    "**TEMPFILE**"
   ]
  },
  {
   "cell_type": "code",
   "execution_count": 27,
   "metadata": {},
   "outputs": [
    {
     "name": "stdout",
     "output_type": "stream",
     "text": [
      "C:\\Users\\DIEGO~1.GUI\\AppData\\Local\\Temp\\tmp7cdgt3sl\n"
     ]
    }
   ],
   "source": [
    "archivo_temporal=os.path.join(data_dir,tempfile.mktemp())\n",
    "dfTotal.to_csv(archivo_temporal)\n",
    "print(archivo_temporal)             #LO GUARDA DONDE QUIERE EL ARCHIVO TEMPORAL"
   ]
  },
  {
   "cell_type": "code",
   "execution_count": null,
   "metadata": {},
   "outputs": [],
   "source": [
    "dfTotal[[\"Código\",\"Concello\"]]\n",
    "type(dfTotal[['Concello']])\n",
    "type(dfTotal['Concello'])\n",
    "type(dfTotal.TITULARIDADE)"
   ]
  },
  {
   "cell_type": "code",
   "execution_count": 32,
   "metadata": {},
   "outputs": [
    {
     "data": {
      "text/html": [
       "<div>\n",
       "<style scoped>\n",
       "    .dataframe tbody tr th:only-of-type {\n",
       "        vertical-align: middle;\n",
       "    }\n",
       "\n",
       "    .dataframe tbody tr th {\n",
       "        vertical-align: top;\n",
       "    }\n",
       "\n",
       "    .dataframe thead th {\n",
       "        text-align: right;\n",
       "    }\n",
       "</style>\n",
       "<table border=\"1\" class=\"dataframe\">\n",
       "  <thead>\n",
       "    <tr style=\"text-align: right;\">\n",
       "      <th></th>\n",
       "      <th>Código</th>\n",
       "      <th>Nome</th>\n",
       "      <th>Enderezo</th>\n",
       "      <th>Concello</th>\n",
       "      <th>Provincia</th>\n",
       "      <th>Cód. postal</th>\n",
       "      <th>Teléfono</th>\n",
       "      <th>Tipo de centro</th>\n",
       "      <th>COORDENADA_X</th>\n",
       "      <th>COORDENADA_Y</th>\n",
       "      <th>TITULARIDADE</th>\n",
       "      <th>ENSINO_CONCERTADO</th>\n",
       "      <th>DEPENDENTE</th>\n",
       "    </tr>\n",
       "  </thead>\n",
       "  <tbody>\n",
       "    <tr>\n",
       "      <th>0</th>\n",
       "      <td>15000016</td>\n",
       "      <td>CEIP Plurilingüe San Marcos</td>\n",
       "      <td>Campo da Feira s/n</td>\n",
       "      <td>Abegondo</td>\n",
       "      <td>A Coruña</td>\n",
       "      <td>15318</td>\n",
       "      <td>881880201</td>\n",
       "      <td>CEIP</td>\n",
       "      <td>43.229183</td>\n",
       "      <td>-8.286580</td>\n",
       "      <td>Pública</td>\n",
       "      <td>Non</td>\n",
       "      <td>Si</td>\n",
       "    </tr>\n",
       "    <tr>\n",
       "      <th>1</th>\n",
       "      <td>15000107</td>\n",
       "      <td>CEIP A Maía</td>\n",
       "      <td>Rúa Peregrina, s/n (Bertamiráns)</td>\n",
       "      <td>Ames</td>\n",
       "      <td>A Coruña</td>\n",
       "      <td>15220</td>\n",
       "      <td>881866002</td>\n",
       "      <td>CEIP</td>\n",
       "      <td>42.867485</td>\n",
       "      <td>-8.657342</td>\n",
       "      <td>Pública</td>\n",
       "      <td>Non</td>\n",
       "      <td>Si</td>\n",
       "    </tr>\n",
       "    <tr>\n",
       "      <th>2</th>\n",
       "      <td>15000132</td>\n",
       "      <td>CPR Plurilingüe Alca</td>\n",
       "      <td>Lugar Biduído de Arriba 36</td>\n",
       "      <td>Ames</td>\n",
       "      <td>A Coruña</td>\n",
       "      <td>15895</td>\n",
       "      <td>981531103</td>\n",
       "      <td>CPR</td>\n",
       "      <td>42.846325</td>\n",
       "      <td>-8.600729</td>\n",
       "      <td>Privada</td>\n",
       "      <td>Si</td>\n",
       "      <td>Non</td>\n",
       "    </tr>\n",
       "    <tr>\n",
       "      <th>3</th>\n",
       "      <td>15000338</td>\n",
       "      <td>CPI As Mirandas</td>\n",
       "      <td>Avenida Celso Emilio Ferreiro 4</td>\n",
       "      <td>Ares</td>\n",
       "      <td>A Coruña</td>\n",
       "      <td>15624</td>\n",
       "      <td>881930020</td>\n",
       "      <td>CPI</td>\n",
       "      <td>43.429363</td>\n",
       "      <td>-8.246173</td>\n",
       "      <td>Pública</td>\n",
       "      <td>Non</td>\n",
       "      <td>Si</td>\n",
       "    </tr>\n",
       "    <tr>\n",
       "      <th>4</th>\n",
       "      <td>15000363</td>\n",
       "      <td>CEIP Ponte dos Brozos</td>\n",
       "      <td>Avenida Arsenio Iglesias, 34 (Sabon)</td>\n",
       "      <td>Arteixo</td>\n",
       "      <td>A Coruña</td>\n",
       "      <td>15142</td>\n",
       "      <td>881960506</td>\n",
       "      <td>CEIP</td>\n",
       "      <td>43.306938</td>\n",
       "      <td>-8.510333</td>\n",
       "      <td>Pública</td>\n",
       "      <td>Non</td>\n",
       "      <td>Si</td>\n",
       "    </tr>\n",
       "  </tbody>\n",
       "</table>\n",
       "</div>"
      ],
      "text/plain": [
       "     Código                         Nome  \\\n",
       "0  15000016  CEIP Plurilingüe San Marcos   \n",
       "1  15000107                  CEIP A Maía   \n",
       "2  15000132         CPR Plurilingüe Alca   \n",
       "3  15000338              CPI As Mirandas   \n",
       "4  15000363        CEIP Ponte dos Brozos   \n",
       "\n",
       "                               Enderezo  Concello Provincia  Cód. postal  \\\n",
       "0                    Campo da Feira s/n  Abegondo  A Coruña        15318   \n",
       "1      Rúa Peregrina, s/n (Bertamiráns)      Ames  A Coruña        15220   \n",
       "2            Lugar Biduído de Arriba 36      Ames  A Coruña        15895   \n",
       "3       Avenida Celso Emilio Ferreiro 4      Ares  A Coruña        15624   \n",
       "4  Avenida Arsenio Iglesias, 34 (Sabon)   Arteixo  A Coruña        15142   \n",
       "\n",
       "    Teléfono Tipo de centro  COORDENADA_X  COORDENADA_Y TITULARIDADE  \\\n",
       "0  881880201           CEIP     43.229183     -8.286580      Pública   \n",
       "1  881866002           CEIP     42.867485     -8.657342      Pública   \n",
       "2  981531103            CPR     42.846325     -8.600729      Privada   \n",
       "3  881930020            CPI     43.429363     -8.246173      Pública   \n",
       "4  881960506           CEIP     43.306938     -8.510333      Pública   \n",
       "\n",
       "  ENSINO_CONCERTADO DEPENDENTE  \n",
       "0               Non         Si  \n",
       "1               Non         Si  \n",
       "2                Si        Non  \n",
       "3               Non         Si  \n",
       "4               Non         Si  "
      ]
     },
     "execution_count": 32,
     "metadata": {},
     "output_type": "execute_result"
    }
   ],
   "source": [
    "dfTotal.head()"
   ]
  },
  {
   "cell_type": "markdown",
   "metadata": {},
   "source": [
    "# **EJERCICIOS**"
   ]
  },
  {
   "cell_type": "code",
   "execution_count": 50,
   "metadata": {},
   "outputs": [
    {
     "data": {
      "text/plain": [
       "424"
      ]
     },
     "execution_count": 50,
     "metadata": {},
     "output_type": "execute_result"
    }
   ],
   "source": [
    "dfTotal[dfTotal.TITULARIDADE==\"Privada\"].shape[0]           #CONTADOR DE CENTROS PRIVADOS"
   ]
  },
  {
   "cell_type": "code",
   "execution_count": 51,
   "metadata": {},
   "outputs": [
    {
     "data": {
      "text/plain": [
       "228"
      ]
     },
     "execution_count": 51,
     "metadata": {},
     "output_type": "execute_result"
    }
   ],
   "source": [
    "dfTotal[dfTotal.ENSINO_CONCERTADO==\"Si\"].shape[0]           #CONTADOR DE CENTROS CON ENSINO CONCERTADO"
   ]
  },
  {
   "cell_type": "code",
   "execution_count": null,
   "metadata": {},
   "outputs": [],
   "source": [
    "dfTotal[(dfTotal.ENSINO_CONCERTADO==\"Si\") & (dfTotal.DEPENDENTE==\"Si\")]         #DOBLE FUNCIÓN DE PANDAS"
   ]
  },
  {
   "cell_type": "code",
   "execution_count": 80,
   "metadata": {},
   "outputs": [
    {
     "data": {
      "text/plain": [
       "454"
      ]
     },
     "execution_count": 80,
     "metadata": {},
     "output_type": "execute_result"
    }
   ],
   "source": [
    "dfCorunha[dfCorunha.TITULARIDADE==\"Pública\"].shape[0] "
   ]
  },
  {
   "cell_type": "code",
   "execution_count": 81,
   "metadata": {},
   "outputs": [
    {
     "data": {
      "text/plain": [
       "184"
      ]
     },
     "execution_count": 81,
     "metadata": {},
     "output_type": "execute_result"
    }
   ],
   "source": [
    "dfLugo[dfLugo.TITULARIDADE==\"Pública\"].shape[0] "
   ]
  },
  {
   "cell_type": "code",
   "execution_count": 82,
   "metadata": {},
   "outputs": [
    {
     "data": {
      "text/plain": [
       "148"
      ]
     },
     "execution_count": 82,
     "metadata": {},
     "output_type": "execute_result"
    }
   ],
   "source": [
    "dfOurense[dfOurense.TITULARIDADE==\"Pública\"].shape[0] "
   ]
  },
  {
   "cell_type": "code",
   "execution_count": 83,
   "metadata": {},
   "outputs": [
    {
     "data": {
      "text/plain": [
       "431"
      ]
     },
     "execution_count": 83,
     "metadata": {},
     "output_type": "execute_result"
    }
   ],
   "source": [
    "dfPontevedra[dfPontevedra.TITULARIDADE==\"Pública\"].shape[0] "
   ]
  },
  {
   "cell_type": "code",
   "execution_count": 85,
   "metadata": {},
   "outputs": [
    {
     "data": {
      "text/plain": [
       "30"
      ]
     },
     "execution_count": 85,
     "metadata": {},
     "output_type": "execute_result"
    }
   ],
   "source": [
    "dfTotal[dfTotal[\"Tipo de centro\"]==\"CIFP\"].shape[0]"
   ]
  },
  {
   "cell_type": "code",
   "execution_count": 7,
   "metadata": {},
   "outputs": [
    {
     "data": {
      "text/plain": [
       "841"
      ]
     },
     "execution_count": 7,
     "metadata": {},
     "output_type": "execute_result"
    }
   ],
   "source": [
    "dfTotal[dfTotal[\"Tipo de centro\"].isin([\"CIFP\",\"CEIP\",\"IES\"])].shape[0]"
   ]
  },
  {
   "cell_type": "code",
   "execution_count": 24,
   "metadata": {},
   "outputs": [
    {
     "data": {
      "text/plain": [
       "Concello\n",
       "A Arnoia                1\n",
       "A Baña                  2\n",
       "A Capela                1\n",
       "A Cañiza                3\n",
       "A Coruña              105\n",
       "                     ... \n",
       "Xermade                 1\n",
       "Xinzo de Limia          6\n",
       "Xove                    3\n",
       "Xunqueira de Ambía      1\n",
       "Zas                     3\n",
       "Length: 288, dtype: int64"
      ]
     },
     "execution_count": 24,
     "metadata": {},
     "output_type": "execute_result"
    }
   ],
   "source": [
    "dfTotal.groupby(\"Concello\").size()"
   ]
  },
  {
   "cell_type": "code",
   "execution_count": 25,
   "metadata": {},
   "outputs": [
    {
     "data": {
      "text/plain": [
       "Tipo de centro  Concello          \n",
       "CAD             A Coruña              3\n",
       "                Lugo                  1\n",
       "                Mondariz-Balneario    1\n",
       "                Oleiros               1\n",
       "                Ourense               3\n",
       "                                     ..\n",
       "IES             Xinzo de Limia        2\n",
       "                Xove                  1\n",
       "                Zas                   1\n",
       "IGAFA           A Illa de Arousa      1\n",
       "INSTITUTO       Vigo                  1\n",
       "Length: 864, dtype: int64"
      ]
     },
     "execution_count": 25,
     "metadata": {},
     "output_type": "execute_result"
    }
   ],
   "source": [
    "dfTotal.groupby([\"Tipo de centro\",\"Concello\"]).size()"
   ]
  }
 ],
 "metadata": {
  "kernelspec": {
   "display_name": "bigdata",
   "language": "python",
   "name": "python3"
  },
  "language_info": {
   "codemirror_mode": {
    "name": "ipython",
    "version": 3
   },
   "file_extension": ".py",
   "mimetype": "text/x-python",
   "name": "python",
   "nbconvert_exporter": "python",
   "pygments_lexer": "ipython3",
   "version": "3.8.18"
  }
 },
 "nbformat": 4,
 "nbformat_minor": 2
}
