{
 "cells": [
  {
   "cell_type": "markdown",
   "metadata": {},
   "source": [
    "# **PANDAS CON CENTROS EN PROVINCIAS**"
   ]
  },
  {
   "cell_type": "code",
   "execution_count": null,
   "metadata": {},
   "outputs": [],
   "source": [
    "import os\n",
    "import tempfile\n",
    "import pandas as pd\n",
    "\n",
    "#Obtener ruta relativa de Centros_Galicia\n",
    "data_dir = os.path.dirname(os.path.abspath('Centros_Galicia')) + \"/\"    #__file__ para los Py\n",
    "\n",
    "#Manera primitiva de recoger datos\n",
    "dfCorunha = pd.read_csv(data_dir+\"corunha.csv\")\n",
    "dfLugo = pd.read_csv(data_dir+\"lugo.csv\")\n",
    "dfOurense = pd.read_csv(data_dir+\"ourense.csv\")\n",
    "dfPontevedra = pd.read_csv(data_dir+\"pontevedra.csv\")\n",
    "\n",
    "valueTotal = pd.concat([dfCorunha,dfLugo,dfOurense,dfPontevedra])"
   ]
  },
  {
   "cell_type": "code",
   "execution_count": null,
   "metadata": {},
   "outputs": [],
   "source": [
    "valueTotal.describe()   #Describe las tablas\n",
    "valueTotal.to_csv()     #Escribe un nuevo csv"
   ]
  },
  {
   "cell_type": "markdown",
   "metadata": {},
   "source": [
    "**TEMPFILE**"
   ]
  },
  {
   "cell_type": "code",
   "execution_count": 22,
   "metadata": {},
   "outputs": [
    {
     "name": "stdout",
     "output_type": "stream",
     "text": [
      "C:\\Users\\DIEGO~1.GUI\\AppData\\Local\\Temp\\tmp0zr707bo\n"
     ]
    }
   ],
   "source": [
    "archivo_temporal=os.path.join(data_dir,tempfile.mktemp())\n",
    "valueTotal.to_csv(archivo_temporal)\n",
    "print(archivo_temporal)             #LO GUARDA DONDE QUIERE EL ARCHIVO TEMPORAL"
   ]
  }
 ],
 "metadata": {
  "kernelspec": {
   "display_name": "bigdata",
   "language": "python",
   "name": "python3"
  },
  "language_info": {
   "codemirror_mode": {
    "name": "ipython",
    "version": 3
   },
   "file_extension": ".py",
   "mimetype": "text/x-python",
   "name": "python",
   "nbconvert_exporter": "python",
   "pygments_lexer": "ipython3",
   "version": "3.8.18"
  }
 },
 "nbformat": 4,
 "nbformat_minor": 2
}
