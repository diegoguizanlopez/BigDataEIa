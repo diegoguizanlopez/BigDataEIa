{
 "cells": [
  {
   "cell_type": "markdown",
   "metadata": {},
   "source": [
    "# T3.2 Analizar e visualizar estatísticas de datos baixados de MongoDB\n",
    "## Conexión a MongoDB dende Python e análise de datos"
   ]
  },
  {
   "cell_type": "markdown",
   "metadata": {},
   "source": [
    "En Atlas mete o dataset de exemplo na túa base de datos.\n",
    "\n",
    "Engade o enderezo IP autorizado a conectar para que poidas conectar á base de datos.\n",
    "\n",
    "Proba a conectar dende compass coa URL de conexión que che da.\n",
    "\n",
    "Da BBDD de proba: sample_mfix, na colección movies: https://www.mongodb.com/docs/atlas/sample-data/sample-mflix/"
   ]
  },
  {
   "cell_type": "code",
   "execution_count": 2,
   "metadata": {},
   "outputs": [
    {
     "name": "stdout",
     "output_type": "stream",
     "text": [
      "Channels:\n",
      " - defaults\n",
      " - conda-forge\n",
      "Platform: linux-64\n",
      "Collecting package metadata (repodata.json): done\n",
      "Solving environment: done\n",
      "\n",
      "## Package Plan ##\n",
      "\n",
      "  environment location: /home/diegogl/miniconda3/envs/bigdata\n",
      "\n",
      "  added / updated specs:\n",
      "    - dnspython\n",
      "    - pymongo\n",
      "\n",
      "\n",
      "The following packages will be downloaded:\n",
      "\n",
      "    package                    |            build\n",
      "    ---------------------------|-----------------\n",
      "    dnspython-2.4.2            |  py311h06a4308_0         485 KB\n",
      "    pymongo-3.12.0             |  py311h6a678d5_0         1.4 MB\n",
      "    ------------------------------------------------------------\n",
      "                                           Total:         1.9 MB\n",
      "\n",
      "The following NEW packages will be INSTALLED:\n",
      "\n",
      "  dnspython          pkgs/main/linux-64::dnspython-2.4.2-py311h06a4308_0 \n",
      "  pymongo            pkgs/main/linux-64::pymongo-3.12.0-py311h6a678d5_0 \n",
      "\n",
      "\n",
      "\n",
      "Downloading and Extracting Packages:\n",
      "pymongo-3.12.0       | 1.4 MB    |                                       |   0% \n",
      "dnspython-2.4.2      | 485 KB    |                                       |   0% \u001b[A\n",
      "pymongo-3.12.0       | 1.4 MB    | 4                                     |   1% \u001b[A\n",
      "dnspython-2.4.2      | 485 KB    | ##############################5       |  83% \u001b[A\n",
      "                                                                                \u001b[A\n",
      "                                                                                \u001b[A\n",
      "Preparing transaction: done\n",
      "Verifying transaction: done\n",
      "Executing transaction: done\n"
     ]
    }
   ],
   "source": [
    "#!conda install -y pymongo dnspython"
   ]
  },
  {
   "cell_type": "markdown",
   "metadata": {},
   "source": [
    "Conecta a Atlas dende Python, carga a colección en Pandas. Averigua o modo máis adecuado."
   ]
  },
  {
   "cell_type": "code",
   "execution_count": 5,
   "metadata": {},
   "outputs": [],
   "source": [
    "from pymongo import MongoClient\n",
    "import pandas as pd\n",
    "\n",
    "#HOST=\"(...).mongodb.net\"\n",
    "HOST=\"diego.hdjanr7.mongodb.net\"\n",
    "PORT=27017\n",
    "USERNAME=\"xuwira05\"\n",
    "PASSWORD=\"abc123.\"\n",
    "\n",
    "if HOST == 'localhost':\n",
    "    if not USERNAME:\n",
    "        cli_mongo = MongoClient(HOST, PORT)\n",
    "    else:\n",
    "        cli_mongo = MongoClient(HOST, PORT, USERNAME, PASSWORD)\n",
    "else:\n",
    "    cli_mongo = MongoClient(f\"mongodb+srv://{USERNAME}:{PASSWORD}@{HOST}/\")\n",
    "\n",
    "movies = cli_mongo['sample_mflix']['movies']\n",
    "df = pd.DataFrame(movies.find({}))"
   ]
  },
  {
   "cell_type": "markdown",
   "metadata": {},
   "source": [
    "A) Contar o total de películas.\n"
   ]
  },
  {
   "cell_type": "code",
   "execution_count": 6,
   "metadata": {},
   "outputs": [
    {
     "data": {
      "text/plain": [
       "21349"
      ]
     },
     "execution_count": 6,
     "metadata": {},
     "output_type": "execute_result"
    }
   ],
   "source": [
    "len(df)"
   ]
  },
  {
   "cell_type": "markdown",
   "metadata": {},
   "source": [
    "B) Contar o número de películas de cada xénero."
   ]
  },
  {
   "cell_type": "code",
   "execution_count": 22,
   "metadata": {},
   "outputs": [
    {
     "data": {
      "text/plain": [
       "genres\n",
       "Drama          12385\n",
       "Comedy          6532\n",
       "Romance         3318\n",
       "Crime           2457\n",
       "Thriller        2454\n",
       "Action          2381\n",
       "Adventure       1900\n",
       "Documentary     1834\n",
       "Horror          1470\n",
       "Biography       1269\n",
       "Family          1249\n",
       "Mystery         1139\n",
       "Fantasy         1055\n",
       "Sci-Fi           958\n",
       "Animation        912\n",
       "History          874\n",
       "Music            780\n",
       "War              699\n",
       "Short            442\n",
       "Musical          440\n",
       "Sport            366\n",
       "Western          242\n",
       "Film-Noir         77\n",
       "News              44\n",
       "Talk-Show          1\n",
       "Name: count, dtype: int64"
      ]
     },
     "execution_count": 22,
     "metadata": {},
     "output_type": "execute_result"
    }
   ],
   "source": [
    "df.explode('genres')['genres'].value_counts()"
   ]
  },
  {
   "cell_type": "markdown",
   "metadata": {},
   "source": [
    "C) Contar cantas películas hai por ano."
   ]
  },
  {
   "cell_type": "code",
   "execution_count": null,
   "metadata": {},
   "outputs": [],
   "source": [
    "df.groupby('year').size()"
   ]
  },
  {
   "cell_type": "markdown",
   "metadata": {},
   "source": [
    "D) Mirar se hai correlación entre imdb e rotten tomatoes."
   ]
  },
  {
   "cell_type": "code",
   "execution_count": null,
   "metadata": {},
   "outputs": [],
   "source": [
    "for i in df.columns:\n",
    "    print(df[df[i]=='imdb'])"
   ]
  },
  {
   "cell_type": "markdown",
   "metadata": {},
   "source": [
    "E) Contar cantas películas ten cada director"
   ]
  },
  {
   "cell_type": "code",
   "execution_count": null,
   "metadata": {},
   "outputs": [],
   "source": []
  },
  {
   "cell_type": "markdown",
   "metadata": {},
   "source": [
    "F) Contar en cantas películas ten participado cada actor"
   ]
  },
  {
   "cell_type": "code",
   "execution_count": null,
   "metadata": {},
   "outputs": [],
   "source": []
  },
  {
   "cell_type": "markdown",
   "metadata": {},
   "source": [
    "G) Contar cantas películas hai de cada idioma"
   ]
  },
  {
   "cell_type": "code",
   "execution_count": null,
   "metadata": {},
   "outputs": [],
   "source": []
  },
  {
   "cell_type": "markdown",
   "metadata": {},
   "source": [
    "H) Cal é a media de premios das películas"
   ]
  },
  {
   "cell_type": "code",
   "execution_count": null,
   "metadata": {},
   "outputs": [],
   "source": []
  },
  {
   "cell_type": "markdown",
   "metadata": {},
   "source": [
    "J) Amosar as películas que teñen alomenos 3 premios"
   ]
  },
  {
   "cell_type": "code",
   "execution_count": null,
   "metadata": {},
   "outputs": [],
   "source": []
  },
  {
   "cell_type": "markdown",
   "metadata": {},
   "source": [
    "K) Contar as películas por país"
   ]
  },
  {
   "cell_type": "code",
   "execution_count": null,
   "metadata": {},
   "outputs": [],
   "source": []
  }
 ],
 "metadata": {
  "kernelspec": {
   "display_name": "bigdata",
   "language": "python",
   "name": "python3"
  },
  "language_info": {
   "codemirror_mode": {
    "name": "ipython",
    "version": 3
   },
   "file_extension": ".py",
   "mimetype": "text/x-python",
   "name": "python",
   "nbconvert_exporter": "python",
   "pygments_lexer": "ipython3",
   "version": "3.11.5"
  }
 },
 "nbformat": 4,
 "nbformat_minor": 2
}
