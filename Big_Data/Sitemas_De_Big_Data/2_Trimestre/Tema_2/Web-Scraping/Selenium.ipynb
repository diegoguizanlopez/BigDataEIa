{
 "cells": [
  {
   "cell_type": "markdown",
   "metadata": {},
   "source": [
    "# **Introducción a Selenium**"
   ]
  },
  {
   "cell_type": "markdown",
   "metadata": {},
   "source": [
    "**Instalamos pip**\n",
    "\n",
    "**Instalamos selenium**\n",
    "\n",
    "**Instalamos webdriver_manager para manejar entornas web**"
   ]
  },
  {
   "cell_type": "code",
   "execution_count": 1,
   "metadata": {},
   "outputs": [
    {
     "name": "stdout",
     "output_type": "stream",
     "text": [
      "Retrieving notices: ...working... done\n",
      "Collecting package metadata (current_repodata.json): ...working... done\n",
      "Solving environment: ...working... done\n",
      "\n",
      "# All requested packages already installed.\n",
      "\n"
     ]
    },
    {
     "name": "stderr",
     "output_type": "stream",
     "text": [
      "\n",
      "\n",
      "==> WARNING: A newer version of conda exists. <==\n",
      "  current version: 23.9.0\n",
      "  latest version: 24.1.2\n",
      "\n",
      "Please update conda by running\n",
      "\n",
      "    $ conda update -n base -c defaults conda\n",
      "\n",
      "Or to minimize the number of packages updated during conda update use\n",
      "\n",
      "     conda install conda=24.1.2\n",
      "\n",
      "\n"
     ]
    },
    {
     "name": "stdout",
     "output_type": "stream",
     "text": [
      "^C\n",
      "Requirement already satisfied: webdriver_manager in c:\\users\\diego.guizanlopez\\appdata\\local\\miniconda3\\envs\\bigdata\\lib\\site-packages (4.0.1)\n",
      "Requirement already satisfied: requests in c:\\users\\diego.guizanlopez\\appdata\\local\\miniconda3\\envs\\bigdata\\lib\\site-packages (from webdriver_manager) (2.31.0)\n",
      "Requirement already satisfied: python-dotenv in c:\\users\\diego.guizanlopez\\appdata\\local\\miniconda3\\envs\\bigdata\\lib\\site-packages (from webdriver_manager) (1.0.1)\n",
      "Requirement already satisfied: packaging in c:\\users\\diego.guizanlopez\\appdata\\local\\miniconda3\\envs\\bigdata\\lib\\site-packages (from webdriver_manager) (23.2)\n",
      "Requirement already satisfied: charset-normalizer<4,>=2 in c:\\users\\diego.guizanlopez\\appdata\\local\\miniconda3\\envs\\bigdata\\lib\\site-packages (from requests->webdriver_manager) (3.3.2)\n",
      "Requirement already satisfied: idna<4,>=2.5 in c:\\users\\diego.guizanlopez\\appdata\\local\\miniconda3\\envs\\bigdata\\lib\\site-packages (from requests->webdriver_manager) (3.4)\n",
      "Requirement already satisfied: urllib3<3,>=1.21.1 in c:\\users\\diego.guizanlopez\\appdata\\local\\miniconda3\\envs\\bigdata\\lib\\site-packages (from requests->webdriver_manager) (1.26.18)\n",
      "Requirement already satisfied: certifi>=2017.4.17 in c:\\users\\diego.guizanlopez\\appdata\\local\\miniconda3\\envs\\bigdata\\lib\\site-packages (from requests->webdriver_manager) (2024.2.2)\n"
     ]
    }
   ],
   "source": [
    "!conda install -y pip\n",
    "!conda install -c conda-forge selenium=4.16\n",
    "!pip install webdriver_manager"
   ]
  }
 ],
 "metadata": {
  "kernelspec": {
   "display_name": "bigdata",
   "language": "python",
   "name": "python3"
  },
  "language_info": {
   "codemirror_mode": {
    "name": "ipython",
    "version": 3
   },
   "file_extension": ".py",
   "mimetype": "text/x-python",
   "name": "python",
   "nbconvert_exporter": "python",
   "pygments_lexer": "ipython3",
   "version": "3.8.18"
  }
 },
 "nbformat": 4,
 "nbformat_minor": 2
}
