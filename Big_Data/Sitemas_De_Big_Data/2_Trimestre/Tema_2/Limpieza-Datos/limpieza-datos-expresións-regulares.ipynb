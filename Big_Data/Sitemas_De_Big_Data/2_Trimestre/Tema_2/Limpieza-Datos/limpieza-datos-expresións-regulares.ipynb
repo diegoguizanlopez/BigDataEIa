{
 "cells": [
  {
   "cell_type": "markdown",
   "metadata": {},
   "source": [
    "# Limpieza de datos\n",
    "## Expresións regulares"
   ]
  },
  {
   "cell_type": "markdown",
   "metadata": {},
   "source": [
    "Imaxinemos o texto:\n",
    "\n",
    "    \"De pelo en peito, feito e dereito foi cortar os fieitos que tiña no primeiro eito da finca, non cortou o do axeito porque había un pelouro con xeito. Saiu na prensa noticia dun suxeito que con ou sen xeito, prohibiu a procesión dos cadaleitos ou baixo o teito do templo. Algúns fregueses tomárono a peito máis non foron a preito. Para algúns é un malfeito e para outros está maltreito. Démoslle xeito! No Peloponeso xogaban á pelota en pelotón. Non che tomo o pelo. O capitán do equipo era un todo un cazapelo que quería porterías dun copelo. Un día estaba cortando carpelos cun escalpelo mentres lle cortaban o pelo. Ese trapelo cometeu un atropelo!\n",
    "\n",
    "    pelo,contrapelo,pelo,feito,desfeito,desfeita,feito, feito refeito"
   ]
  },
  {
   "cell_type": "markdown",
   "metadata": {},
   "source": [
    "En Writer:\n",
    "- Buscar en todo o texto cando aparece **pelo** como **palabra ou parte doutra**. Expresión: pelo\n",
    "- Buscar as palabras que **comezan** por **pelo-**. Expresión regular: \\<pelo\n",
    "- Buscar as palabras que **rematan** en **-pelo**. Expresión regular: pelo\\>\n",
    "- Buscar todas as ocorrencias da **palabra** «pelo»."
   ]
  },
  {
   "cell_type": "markdown",
   "metadata": {},
   "source": [
    "<li>[^[a-z]] - Pelo niega las palabras que empiecen por letra por lo que contendrá espacios o caracteres</li>\n",
    "\n",
    "<li>[a-z]+pelo[a-z]*[,]* - Palabras que acaban en pelo</li>\n",
    "\n",
    "<li>\\Wpelo\\W |\\bpelo\\b - Palabras que son solo Pelo</li>"
   ]
  },
  {
   "cell_type": "code",
   "execution_count": 21,
   "metadata": {},
   "outputs": [
    {
     "data": {
      "text/plain": [
       "['pelo',\n",
       " 'pelo',\n",
       " 'pelo',\n",
       " 'pelo',\n",
       " 'pelo',\n",
       " 'pelo',\n",
       " 'pelo',\n",
       " 'pelo',\n",
       " 'pelo',\n",
       " 'pelo',\n",
       " 'pelo',\n",
       " 'pelo',\n",
       " 'pelo',\n",
       " 'pelo',\n",
       " 'pelo']"
      ]
     },
     "execution_count": 21,
     "metadata": {},
     "output_type": "execute_result"
    }
   ],
   "source": [
    "import re\n",
    "\n",
    "texto = \"De pelo en peito, feito e dereito foi cortar os fieitos que tiña no primeiro eito da finca, \" \\\n",
    "     \"non cortou o do axeito porque había un pelouro con xeito. Saiu na prensa noticia dun suxeito que \" \\\n",
    "     \"con ou sen xeito, prohibiu a procesión dos cadaleitos ou baixo o teito do templo. Algúns fregueses \" \\\n",
    "     \"tomárono a peito máis non foron a preito. Para algúns é un malfeito e para outros está maltreito. \" \\\n",
    "     \"Démoslle xeito! No Peloponeso xogaban á pelota en pelotón. Non che tomo o pelo. O capitán do equipo \" \\\n",
    "     \"era un todo un cazapelo que quería porterías dun copelo. Un día estaba cortando carpelos cun escalpelo \" \\\n",
    "     \"mentres lle cortaban o pelo. Ese trapelo cometeu un atropelo! pelo,contrapelo,pelo,feito,desfeito,\" \\\n",
    "     \"desfeita,feito, feito refeito\"\n",
    "\n",
    "#print (texto)\n",
    "\n",
    "\n",
    "re.search(\"pelo\",texto)\n",
    "re.findall(\"pelo\", texto)\n"
   ]
  },
  {
   "cell_type": "markdown",
   "metadata": {},
   "source": [
    "Utilidades:\n",
    "  - Buscas (e reemplazos) nun procesador de texto.\n",
    "  - Buscas en bases de datos (SQL: %, *, etc) ou na web.\n",
    "  - Validar datas (e distintos formatos).\n",
    "  - Validar datos: Columnas nun CSV, TLV, PARQUET, XML, JSON... ou campos nun formulario web ou sensor.\n",
    "  - Atopar duplicados.\n",
    "  - Recoñecer tipos de datos: URL, emails, números cun significado especial...\n",
    "  - Tratar ou parsear documentos.\n",
    "  "
   ]
  },
  {
   "cell_type": "markdown",
   "metadata": {},
   "source": [
    "Exemplos:\n",
    "\n",
    "Tódolos arquivos que rematen en .csv:\n",
    "\n",
    "    $ ls *.csv\n",
    "\n",
    "Arquivos con alomenos tres caracteres e que rematen en: .csv:\n",
    "\n",
    "    $ ls ???*.csv\n"
   ]
  },
  {
   "cell_type": "markdown",
   "metadata": {},
   "source": [
    "### Más información\n",
    "  - <https://www.w3schools.com/python/python_regex.asp>\n",
    "  - <https://docs.python.org/3/library/re.html>\n",
    "\n",
    "### Lecturas recomendadas\n",
    "  - Beginning Regular Expressions. Autor: Andrew Watt. Ed: Wrox Press\n",
    "\n",
    "### Curiosidades\n",
    "\n",
    "  - O día que unha expresión regular mal feita rompeu internet:\n",
    "    - <https://blog.cloudflare.com/details-of-the-cloudflare-outage-on-july-2-2019/>\n",
    "    - <https://www.youtube.com/watch?v=DDe-S3uef2w>"
   ]
  },
  {
   "cell_type": "markdown",
   "metadata": {},
   "source": []
  }
 ],
 "metadata": {
  "kernelspec": {
   "display_name": "base",
   "language": "python",
   "name": "python3"
  },
  "language_info": {
   "codemirror_mode": {
    "name": "ipython",
    "version": 3
   },
   "file_extension": ".py",
   "mimetype": "text/x-python",
   "name": "python",
   "nbconvert_exporter": "python",
   "pygments_lexer": "ipython3",
   "version": "3.10.12"
  },
  "orig_nbformat": 4
 },
 "nbformat": 4,
 "nbformat_minor": 2
}
