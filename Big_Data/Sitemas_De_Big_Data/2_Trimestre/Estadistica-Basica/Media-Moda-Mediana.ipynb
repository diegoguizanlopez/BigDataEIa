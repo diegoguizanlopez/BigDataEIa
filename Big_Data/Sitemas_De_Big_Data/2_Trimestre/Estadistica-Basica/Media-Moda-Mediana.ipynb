{
 "cells": [
  {
   "cell_type": "markdown",
   "metadata": {},
   "source": [
    "# Estatística básica con Python\n",
    "## Capítulo 1: Medidas de tendencia central\n",
    "### Media, mediana, moda e cuartiles\n",
    "\n",
    "**AVISO**: Para os exemplos empréganse numpy e pandas, para instalalos dende conda executa:\n",
    "\n",
    ">   conda install scipy\n",
    "\n",
    ">   conda install pandas\n",
    "\n",
    "O paquete scipy xa inclúe numpy, xa que fai uso del."
   ]
  },
  {
   "cell_type": "markdown",
   "metadata": {},
   "source": [
    "![](./imaxes-wikipedia/mode_median_mean.png)"
   ]
  },
  {
   "cell_type": "markdown",
   "metadata": {},
   "source": [
    "## Media\n",
    "\n",
    "É o valor promedio. Obtense sumando tódolos valores e dividido entre o número de valores.\n",
    "\n",
    "A fórmula matemática é:\n",
    "\n",
    "$${\\displaystyle {\\bar {x}}={\\frac {1}{n}}\\sum _{i=1}^{n}{x_{i}}}$$\n",
    "\n",
    "Ou empregando unha táboa de frecuencias:\n",
    "\n",
    "$$ \\frac {\\sum {x_i*f_i}}{N}$$"
   ]
  },
  {
   "cell_type": "markdown",
   "metadata": {},
   "source": [
    "Código Python **puro**:"
   ]
  },
  {
   "cell_type": "code",
   "execution_count": 1,
   "metadata": {},
   "outputs": [
    {
     "name": "stdout",
     "output_type": "stream",
     "text": [
      "81.0909090909091\n"
     ]
    }
   ],
   "source": [
    "pesos_estudantes = [87, 83, 90, 65, 58, 67, 88, 87, 90, 89, 88]\n",
    "total_pesos = 0\n",
    "for pesada in pesos_estudantes:\n",
    "    total_pesos+=pesada\n",
    "\n",
    "media_pesos = total_pesos / len(pesos_estudantes)\n",
    "print(media_pesos)"
   ]
  },
  {
   "cell_type": "markdown",
   "metadata": {},
   "source": [
    "Alternativa máis limpa con Python **puro**:"
   ]
  },
  {
   "cell_type": "code",
   "execution_count": 2,
   "metadata": {},
   "outputs": [
    {
     "name": "stdout",
     "output_type": "stream",
     "text": [
      "81.0909090909091\n"
     ]
    }
   ],
   "source": [
    "pesos_estudantes = [87, 83, 90, 65, 58, 67, 88, 87, 90, 89, 88]\n",
    "media_pesos = sum(pesos_estudantes) / len(pesos_estudantes)\n",
    "print(media_pesos)"
   ]
  },
  {
   "cell_type": "markdown",
   "metadata": {},
   "source": [
    "Código Python coa librería **statistics**:"
   ]
  },
  {
   "cell_type": "code",
   "execution_count": 3,
   "metadata": {},
   "outputs": [
    {
     "name": "stdout",
     "output_type": "stream",
     "text": [
      "81.0909090909091\n"
     ]
    }
   ],
   "source": [
    "from statistics import mean\n",
    "pesos_estudantes = [87, 83, 90, 65, 58, 67, 88, 87, 90, 89, 88]\n",
    "media_pesos=mean(pesos_estudantes)\n",
    "print(media_pesos)"
   ]
  },
  {
   "cell_type": "markdown",
   "metadata": {},
   "source": [
    "Código Python coa librería **Numpy**:"
   ]
  },
  {
   "cell_type": "code",
   "execution_count": 4,
   "metadata": {},
   "outputs": [
    {
     "name": "stdout",
     "output_type": "stream",
     "text": [
      "81.0909090909091\n"
     ]
    }
   ],
   "source": [
    "import numpy\n",
    "pesos_estudantes = [87, 83, 90, 65, 58, 67, 88, 87, 90, 89, 88]\n",
    "media_pesos = numpy.mean(pesos_estudantes)\n",
    "print(media_pesos)"
   ]
  },
  {
   "cell_type": "markdown",
   "metadata": {},
   "source": [
    "Código Python coa librería **PANDAS**:"
   ]
  },
  {
   "cell_type": "code",
   "execution_count": 5,
   "metadata": {},
   "outputs": [
    {
     "name": "stdout",
     "output_type": "stream",
     "text": [
      "       Nomes  Pesos  Notas\n",
      "0     Fulano     83      9\n",
      "1    Mengana     56      8\n",
      "2     Zutano     90      7\n",
      "3  Perengana     60      6\n",
      "Pesos    72.25\n",
      "Notas     7.50\n",
      "dtype: float64\n",
      "Pesos    72.25\n",
      "Notas     7.50\n",
      "dtype: float64\n"
     ]
    }
   ],
   "source": [
    "import pandas as pd\n",
    "datos_estudantes = ({\n",
    "    'Nomes':[\"Fulano\", \"Mengana\", \"Zutano\", \"Perengana\"],\n",
    "    'Pesos' :[83, 56, 90, 60],\n",
    "    'Notas':[9, 8, 7, 6]\n",
    "        })\n",
    "df = pd.DataFrame(datos_estudantes)\n",
    "# Imprimir o Data Frame\n",
    "print(df)\n",
    "\n",
    "# Calcular a media de tódolos datos numéricos do Data Frame\n",
    "print(df.mean(numeric_only=1))\n",
    "\n",
    "# Calcular a media dos rangos especificadas\n",
    "print(df[['Pesos','Notas']].mean())"
   ]
  },
  {
   "cell_type": "markdown",
   "metadata": {},
   "source": [
    "Útil cando non temos demasiados valores extremos. Contraexemplos:\n",
    " 1. \"Se ti comes un polo enteiro e eu ningún, de media temos comido cada un medio polo\".\n",
    " 2. \"Se metes os pes no forno e a cabeza no conxelador, de media estarás ben de temperatura\"."
   ]
  },
  {
   "cell_type": "markdown",
   "metadata": {},
   "source": [
    "## Moda\n",
    "\n",
    "É o valor con maior frecuencia, é dicir, o que máis se repite.\n",
    " - Pode haber conxuntos de datos con unha, dúas, tres ou máis modas.\n",
    " - Se o conxunto de dato sigue unha distribución uniforme discreta (tódolos datos contan coa mesma frecuencia: aparecen todos o mesmo número de veces) poderíamos dicir que non existe moda.\n",
    "\n",
    "Exemplo: A principio de setembro, nunha clase, temos as seguintes idades:\n",
    "\n",
    "  - Idades en 1º da ESO = [ 11, 12, 12, 12, 12, 12, 12, 12, 13, 13, 12, 12, 13, 12, 12, 12, 13, 12, 12, 12, 12, 12, 14, 14 ] (24 estudantes)\n",
    "\n",
    "Sacamos a **táboa de frecuencias** dos datos:\n",
    "\n",
    "|Idade (X<sub>i</sub>)|Frecuencia (f<sub>i</sub>)| x<sub>i</sub> * f<sub>i</sub> | Frecuencia <br/>acumulada (F<sub>i</sub>)| Frecuencia <br/>absoluta (h<sub>i</sub>)$$ h_i = \\frac {f_i} {N}$$|%|Frecuencia absoluta <br/>acumulada (H<sub>i</sub>)|\n",
    "|:--:|:--:|:--:|:--:|:--:|:--:|:--:|\n",
    "|11|1|11|1|1/24 = *0,0416...*|4,17%|0,0417...|\n",
    "|12|17|204|18|17/24 = 0,7083...|70,83%|0,7500...|\n",
    "|13|4|52|22|4/24 = *0,1666...*|16,67%|0,9167...|\n",
    "|14|2|28|24|2/24 = 0,0833...|8,33%|1|\n",
    "|Totais:|N = 24|||1|100%||\n",
    "\n",
    "Os números en *cursiva* redondeáronse.\n",
    "\n",
    "Polo que a idade que máis se repite \"Frecuencia (f<sub>i</sub>)\" (que \"está á moda\") son os 12 anos.\n",
    "\n",
    "| Idades en 1º da ESO | $$M_o$$ |\n",
    "| -- |:--:|\n",
    "| 11, 12, 12, 12, 12, 12, 12, 12, 13, 13, 12, 12, 13, 12, 12, 12, 13, 12, 12, 12, 12, 12, 14 ,14 | 12 |\n",
    "\n",
    "Outros exemplos: Os produtos máis mercados dunha tenda, as páxinas máis visitadas"
   ]
  },
  {
   "cell_type": "markdown",
   "metadata": {},
   "source": [
    "Código Python coa librería **statistics**:"
   ]
  },
  {
   "cell_type": "code",
   "execution_count": 20,
   "metadata": {},
   "outputs": [
    {
     "name": "stdout",
     "output_type": "stream",
     "text": [
      "12\n"
     ]
    }
   ],
   "source": [
    "from statistics import mode\n",
    "idades_estudantes = [11, 12, 12, 12, 12, 12, 12, 12, 13, 13, 12, 12, 13, 12, 12, 12, 13, 12, 12, 12, 12, 12, 14, 14]\n",
    "idade_mais_repetida=mode(idades_estudantes)\n",
    "print(idade_mais_repetida)"
   ]
  },
  {
   "cell_type": "markdown",
   "metadata": {},
   "source": [
    "Código Python coa librería **scipy** para o cálculo da moda:"
   ]
  },
  {
   "cell_type": "code",
   "execution_count": 7,
   "metadata": {},
   "outputs": [
    {
     "name": "stdout",
     "output_type": "stream",
     "text": [
      "[12]\n"
     ]
    }
   ],
   "source": [
    "from scipy import stats\n",
    "idades_estudantes = [11, 12, 12, 12, 12, 12, 12, 12, 13, 13, 12, 12, 13, 12, 12, 12, 13, 12, 12, 12, 12, 12, 14, 14]\n",
    "print(stats.mode(idades_estudantes, keepdims=True).mode)"
   ]
  },
  {
   "cell_type": "markdown",
   "metadata": {},
   "source": [
    "Código Python coa librería **PANDAS**:"
   ]
  },
  {
   "cell_type": "code",
   "execution_count": 8,
   "metadata": {},
   "outputs": [
    {
     "name": "stdout",
     "output_type": "stream",
     "text": [
      "   Idades\n",
      "0      12\n",
      "   Idades\n",
      "0      12\n"
     ]
    }
   ],
   "source": [
    "import pandas as pd\n",
    "datos_estudantes = ({\n",
    "    'Idades' :[11, 12, 12, 12, 12, 12, 12, 12, 13, 13, 12, 12, 13, 12, 12, 12, 13, 12, 12, 12, 12, 12, 14, 14]\n",
    "        })\n",
    "df = pd.DataFrame(datos_estudantes)\n",
    "# Imprimir o Data Frame\n",
    "#print(df)\n",
    "\n",
    "# Calcular a media de tódolos datos numéricos do Data Frame\n",
    "print(df.mode(numeric_only=1))\n",
    "\n",
    "# Calcular a media dos rangos especificadas\n",
    "print(df[['Idades']].mode())"
   ]
  },
  {
   "cell_type": "markdown",
   "metadata": {},
   "source": [
    "## Mediana\n",
    "É o valor que ocupa o lugar central de tódolos datos (cando están ordeados de menor a maior). E dicir, corta os datos en dous e deixa a mesma cantidade de valores a cada lado. Represéntanse como: M<sub>e</sub>\n",
    "\n",
    "#### Mediana dun número impar de elementos\n",
    " - Se temos un conxunto **impar** de números, a mediana é o número que ocupa a posición central no conxunto: $$\\mathrm {M_e} (x)=x_{(n+1)/2}$$\n",
    "\n",
    "  **Exemplos**:\n",
    "\n",
    "  |Conxunto | $$\\mathrm {M_e}$$ |\n",
    "  |--|:--:|\n",
    "  | 1, 1, 2, 2, 3, 4, 4, 5, 5 | 3 |\n",
    "  | 2, 3, 4, 5, 6 | 4 |\n",
    "  | 2, 3, 4, 4, 5, 5, 5, 6, 6 | 5 |\n",
    "  | 5, 5, 5, 5, 7, 9, 10 | 5 |\n",
    "\n",
    "  \n",
    "#### Mediana dun número par de elementos\n",
    " - Se temos un conxunto **par** de números, a mediana é a media entre os números que ocupan a posición central do conxunto: $$\\mathrm {M_e} (x)={\\frac {x_{(n/2)}+x_{((n/2)+1)}}{2}}$$\n",
    "\n",
    "  **Exemplos**:\n",
    "  \n",
    "  | Conxunto | M<sub>e</sub> |\n",
    "  |--|:--:|\n",
    "  |7, 8, 9, 10, 11, 12 | 9,5 |\n",
    "  |1, 1, 2, 2, 3, 3 | 2 |\n",
    "  |1, 1, 1, 2, 3, 3, 3, 3 | 2,5 |\n",
    "\n",
    "#### Caso práctico de uso da mediana\n",
    "\n",
    "Temos unha clase con 5 estudantes. Por simplicidade imos imaxinar que son todos do mesmo sexo e idade, xa que no caso contrario estas diferencias farían que a comparativa de datos puidese ser non significativa.\n",
    "\n",
    "Os pesos son: 51, 53, 54, 55, 200\n",
    "\n",
    "Como vemos temos un valor extremo, cunha obesidade mórbida.\n",
    "\n",
    "A media é: 82,6 e a mediana é: 54 como vemos no cálculo:"
   ]
  },
  {
   "cell_type": "code",
   "execution_count": 9,
   "metadata": {},
   "outputs": [
    {
     "name": "stdout",
     "output_type": "stream",
     "text": [
      "Media: 82.6. Mediana: 54\n"
     ]
    }
   ],
   "source": [
    "pesos_estudantes= [51, 53, 54, 55, 200]\n",
    "from statistics import median, mean\n",
    "print(f\"Media: {mean(pesos_estudantes)}. Mediana: {median(pesos_estudantes)}\")"
   ]
  },
  {
   "cell_type": "markdown",
   "metadata": {},
   "source": [
    "Neste caso considerar a media distorsionaría moito os datos polo caso desta obesidade mórbida. A moda (o valor máis repetido) \"non existe\" xa que este conxunto de datos seguiría unha distribución uniforme discreta (tódolos datos contan coa mesma frecuencia: aparecen todos o mesmo número de veces).\n",
    "\n",
    "Algunhas veces, nunha fase de limpieza de datos podemos descartar valores extremos ou que sexan erróneos. Exemplo: Temperatura atmosférica sacada dun sensor se nos da un valor de máis de 60 grados centígrados.\n",
    "\n",
    "**Advertencia**: Algunhas librerías en Python toman o primeiro valor do conxunto como moda."
   ]
  },
  {
   "cell_type": "markdown",
   "metadata": {},
   "source": [
    "Código Python coa librería **statistics**:"
   ]
  },
  {
   "cell_type": "code",
   "execution_count": 10,
   "metadata": {},
   "outputs": [
    {
     "name": "stdout",
     "output_type": "stream",
     "text": [
      "87\n"
     ]
    }
   ],
   "source": [
    "from statistics import median\n",
    "pesos_estudantes = [87, 83, 90, 65, 58, 67, 88, 87, 90, 89, 88]\n",
    "mediana_pesos=median(pesos_estudantes)\n",
    "print(mediana_pesos)"
   ]
  },
  {
   "cell_type": "markdown",
   "metadata": {},
   "source": [
    "Código Python coa librería **Numpy**:"
   ]
  },
  {
   "cell_type": "code",
   "execution_count": 11,
   "metadata": {},
   "outputs": [
    {
     "name": "stdout",
     "output_type": "stream",
     "text": [
      "87.0\n"
     ]
    }
   ],
   "source": [
    "import numpy\n",
    "pesos_estudantes = [87, 83, 90, 65, 58, 67, 88, 87, 90, 89, 88]\n",
    "mediana_pesos = numpy.median(pesos_estudantes)\n",
    "print(mediana_pesos)"
   ]
  },
  {
   "cell_type": "markdown",
   "metadata": {},
   "source": [
    "Código Python coa librería **PANDAS**:"
   ]
  },
  {
   "cell_type": "code",
   "execution_count": 12,
   "metadata": {},
   "outputs": [
    {
     "name": "stdout",
     "output_type": "stream",
     "text": [
      "DataFrame\n",
      "       Nomes  Pesos  Notas\n",
      "0     Fulano     83      9\n",
      "1    Mengana     56      8\n",
      "2     Zutano     90      7\n",
      "3  Perengana     60      6\n",
      "Tódalas medianas de datos numéricos\n",
      "Pesos    71.5\n",
      "Notas     7.5\n",
      "dtype: float64\n",
      "Medianas dos rangos especificados\n",
      "Pesos    71.5\n",
      "Notas     7.5\n",
      "dtype: float64\n"
     ]
    }
   ],
   "source": [
    "import pandas as pd\n",
    "datos_estudantes = ({\n",
    "    'Nomes':[\"Fulano\", \"Mengana\", \"Zutano\", \"Perengana\"],\n",
    "    'Pesos' :[83, 56, 90, 60],\n",
    "    'Notas':[9, 8, 7, 6]\n",
    "        })\n",
    "df = pd.DataFrame(datos_estudantes)\n",
    "print(\"DataFrame\")\n",
    "# Imprimir o Data Frame\n",
    "print(df)\n",
    "\n",
    "print(\"Tódalas medianas de datos numéricos\")\n",
    "# Calcular a media de tódolos datos numéricos do Data Frame\n",
    "print(df.median(numeric_only=1))\n",
    "\n",
    "print(\"Medianas dos rangos especificados\")\n",
    "# Calcular a media das filas especificadas\n",
    "print(df[['Pesos','Notas']].median())"
   ]
  },
  {
   "cell_type": "markdown",
   "metadata": {},
   "source": [
    "## Cuartiles (Q<sub>1</sub>, Q<sub>2</sub>, Q<sub>3</sub>)\n",
    "\n",
    "Permiten dividir os datos en partes:\n",
    "\n",
    " - Q<sub>1</sub>: 25% dos datos\n",
    " - Q<sub>2</sub>: 50% dos datos (coincide coa mediana)\n",
    " - Q<sub>3</sub>: 75% dos datos\n"
   ]
  },
  {
   "cell_type": "markdown",
   "metadata": {},
   "source": [
    "Código Python coa librería **Numpy**:"
   ]
  },
  {
   "cell_type": "code",
   "execution_count": 31,
   "metadata": {},
   "outputs": [
    {
     "name": "stdout",
     "output_type": "stream",
     "text": [
      "[12.   12.   12.25 14.  ]\n"
     ]
    }
   ],
   "source": [
    "import numpy\n",
    "\n",
    "idades = [11, 12, 12, 12, 12, 12, 12, 12, 13, 13, 12, 12, 13, 12, 12, 12, 13, 12, 12, 12, 12, 12, 14, 14]\n",
    "cuartiles = numpy.quantile(idades, [0.25, 0.5, 0.75, 1])\n",
    "\n",
    "print(cuartiles)"
   ]
  },
  {
   "cell_type": "markdown",
   "metadata": {},
   "source": [
    "Código Python coa librería **statistics**:"
   ]
  },
  {
   "cell_type": "code",
   "execution_count": 39,
   "metadata": {},
   "outputs": [
    {
     "name": "stdout",
     "output_type": "stream",
     "text": [
      "[12.0, 12.0, 12.25]\n"
     ]
    }
   ],
   "source": [
    "from statistics import quantiles\n",
    "\n",
    "idades = [11, 12, 12, 12, 12, 12, 12, 12, 13, 13, 12, 12, 13, 12, 12, 12, 13, 12, 12, 12, 12, 12, 14, 14]\n",
    "\n",
    "#Ollo! hai que poñer method='inclusive' porque estamos a falar dese modo de cálculo se comparamos con numpy\n",
    "cuartiles_stats = quantiles(idades, n=4, method='inclusive')\n",
    "print(cuartiles_stats)"
   ]
  },
  {
   "cell_type": "markdown",
   "metadata": {},
   "source": [
    "Código Python coa librería **PANDAS**:"
   ]
  },
  {
   "cell_type": "code",
   "execution_count": 42,
   "metadata": {},
   "outputs": [
    {
     "data": {
      "text/html": [
       "<div>\n",
       "<style scoped>\n",
       "    .dataframe tbody tr th:only-of-type {\n",
       "        vertical-align: middle;\n",
       "    }\n",
       "\n",
       "    .dataframe tbody tr th {\n",
       "        vertical-align: top;\n",
       "    }\n",
       "\n",
       "    .dataframe thead th {\n",
       "        text-align: right;\n",
       "    }\n",
       "</style>\n",
       "<table border=\"1\" class=\"dataframe\">\n",
       "  <thead>\n",
       "    <tr style=\"text-align: right;\">\n",
       "      <th></th>\n",
       "      <th>Idades</th>\n",
       "    </tr>\n",
       "  </thead>\n",
       "  <tbody>\n",
       "    <tr>\n",
       "      <th>0.25</th>\n",
       "      <td>12.00</td>\n",
       "    </tr>\n",
       "    <tr>\n",
       "      <th>0.50</th>\n",
       "      <td>12.00</td>\n",
       "    </tr>\n",
       "    <tr>\n",
       "      <th>0.75</th>\n",
       "      <td>12.25</td>\n",
       "    </tr>\n",
       "  </tbody>\n",
       "</table>\n",
       "</div>"
      ],
      "text/plain": [
       "      Idades\n",
       "0.25   12.00\n",
       "0.50   12.00\n",
       "0.75   12.25"
      ]
     },
     "execution_count": 42,
     "metadata": {},
     "output_type": "execute_result"
    }
   ],
   "source": [
    "import pandas as pd\n",
    "datos_estudantes = ({\n",
    "    'Idades' :[11, 12, 12, 12, 12, 12, 12, 12, 13, 13, 12, 12, 13, 12, 12, 12, 13, 12, 12, 12, 12, 12, 14, 14]\n",
    "        })\n",
    "df = pd.DataFrame(datos_estudantes)\n",
    "\n",
    "df.quantile([0.25, 0.5, 0.75], numeric_only=True)"
   ]
  },
  {
   "cell_type": "markdown",
   "metadata": {},
   "source": [
    "## Bibliografía\n",
    "\n",
    " - <https://es.wikipedia.org/wiki/Media_(matem%C3%A1ticas)>\n",
    " - <https://es.wikipedia.org/wiki/Moda_(estad%C3%ADstica)>\n",
    " - <https://es.wikipedia.org/wiki/Mediana_(estad%C3%ADstica)>\n",
    " - <https://es.wikipedia.org/wiki/Distribuci%C3%B3n_uniforme_discreta>\n",
    " - <https://docs.python.org/3/library/statistics.html>\n",
    " - <https://numpy.org/doc/stable/reference/generated/numpy.mean.html>\n",
    " - <https://pandas.pydata.org/docs/reference/api/pandas.DataFrame.mean.html>\n",
    "\n",
    "## Máis información\n",
    "\n",
    " - Estatística básica: <https://www.youtube.com/watch?v=xq6tBKbg3HQ&list=PLiWRH3aE37VItjWpOg0FDV2w1o4IWJ1Om&index=1>"
   ]
  },
  {
   "cell_type": "markdown",
   "metadata": {},
   "source": [
    "Jose Sánchez &copy; Xullo 2023 &mdash; Materiales para docencia\n",
    "\n",
    "Se atopas erros ou tes suxestións de mellora escríbeme a: &mdash;jfsanchez&#64;edu&#46;xunta&#46;gal&mdash; "
   ]
  }
 ],
 "metadata": {
  "kernelspec": {
   "display_name": "base",
   "language": "python",
   "name": "python3"
  },
  "language_info": {
   "codemirror_mode": {
    "name": "ipython",
    "version": 3
   },
   "file_extension": ".py",
   "mimetype": "text/x-python",
   "name": "python",
   "nbconvert_exporter": "python",
   "pygments_lexer": "ipython3",
   "version": "3.10.12"
  },
  "orig_nbformat": 4
 },
 "nbformat": 4,
 "nbformat_minor": 2
}
