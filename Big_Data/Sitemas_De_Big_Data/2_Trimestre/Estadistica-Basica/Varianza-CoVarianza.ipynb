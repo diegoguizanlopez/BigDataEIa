{
 "cells": [
  {
   "cell_type": "markdown",
   "metadata": {},
   "source": [
    "# Estatística básica con Python\n",
    "## Capítulo 2: Medidas de dispersión\n",
    "### Desviación típica (&sigma;), varianza (&sigma;<sup>2</sup>)...\n",
    "\n",
    "TODO: Mirar e facer:\n",
    " - Covarianza e dispersión\n",
    " - Marxe de erro\n",
    "\n",
    "**AVISO**:\n",
    "\n",
    "Para os exemplos empréganse numpy e pandas, para instalalos dende conda executa:\n",
    "\n",
    ">   conda install scipy\n",
    "\n",
    ">   conda install pandas\n",
    "\n",
    "O paquete scipy xa inclúe numpy, xa que fai uso del."
   ]
  },
  {
   "cell_type": "markdown",
   "metadata": {},
   "source": [
    "**Exemplo**: A principio de setembro, nunha clase, temos as seguintes idades:\n",
    "\n",
    "  - Idades en 1º da ESO = [ 11, 12, 12, 12, 12, 12, 12, 12, 13, 13, 12, 12, 13, 12, 12, 12, 13, 12, 12, 12, 12, 12, 14, 14 ]\n",
    "  - Total: 24 estudantes\n",
    "\n",
    "Sacamos a **táboa de frecuencias** dos datos:\n",
    "\n",
    "|Idade (X<sub>i</sub>)|Frecuencia (f<sub>i</sub>)| x<sub>i</sub> * f<sub>i</sub> | x<sup>2</sup> * f<sub>i</sub>|\n",
    "|:--:|:--:|:--:|:--:|\n",
    "|11|1|11|121|\n",
    "|12|17|204|2448|\n",
    "|13|4|52|676|\n",
    "|14|2|28|392|\n",
    "|Totais:|N = 24|295|3637|"
   ]
  },
  {
   "cell_type": "markdown",
   "metadata": {},
   "source": [
    "### Medidas de tendencia central\n",
    "\n",
    "Estas medidas témolas vistas no capítulo anterior e son:\n",
    "\n",
    " - Media = M = <span style=\"text-decoration:overline;\">x</span> = 12,29 anos\n",
    " - Mediana = M<sub>e</sub> = 12 anos\n",
    " - Moda = M<sub>o</sub> = 12 anos"
   ]
  },
  {
   "cell_type": "markdown",
   "metadata": {},
   "source": [
    "### Medidas de dispersión\n",
    "\n",
    "#### Rango ou percorrido\n",
    "\n",
    "É a diferencia existente entre o dato maior e o dato menor:\n",
    "\n",
    " - 14 - 11 = 3\n",
    "\n",
    "#### Varianza (&sigma;<sup>2</sup>)\n",
    "\n",
    "Fórmula \"abreviada\" (para calcular máis rápidamente en base aos resultados na táboa de frecuencia):\n",
    "\n",
    "$$\\sigma^2 = \\frac{\\sum{x_i^2*f_i}}{N} - \\overline{x}^2 = \\frac{3637}{24} - 12,29^2 = 139,25 = 151.54 - 151.0441 = 0,4975$$\n",
    "\n",
    "A fórmula sae de aquí:\n",
    "\n",
    "$$\\sigma^2 = \\frac{\\sum{(x_i-\\overline{x})^2}*f_i}{N}$$\n",
    "\n",
    "A explicación é que se calcula o cadrado da diferencia que ten cada valor con respecto á media e nesa variación tense en conta con que frecuencia se da en cada caso (o peso que ten ese valor no total).\n",
    "\n",
    "A varianza mide canto se está a separar cada resultado da media.\n",
    "\n",
    "A pregunta evidente é: Por qué se eleva ao cadrado esta diferencia? Por varios motivos:\n",
    "  1. Ás veces nos vai dar un resultado negativo.\n",
    "  2. Se sumamos tódalas diferencias, debería darnos 0 (polo punto anterior).\n",
    "\n",
    "Polo tanto, TODAS as diferencias de TODO o conxunto ao final daríanos a media. Dito doutro modo: **A media das desviacións sobre a media é sempre cero**.\n",
    "\n",
    "#### Desviación típica ou desviación estándar (&sigma;)\n",
    "\n",
    "$$Desviación\\ Típica = \\sigma= \\sqrt{varianza} = \\sqrt{\\sigma^2} = 0,7053\\ anos$$\n",
    "\n",
    "Se te preguntas por qué non calcular directamente a desviación con respecto á media, debes ler o apartado de arriba do cálculo da varianza onde se explica.\n",
    "\n",
    "Indica canta diferencia (ou dispersión) hai típicamente (ou de xeito estándar) nos datos.\n",
    "\n",
    "#### Coeficiente de Variación (CV)\n",
    "\n",
    "$$ CV = \\frac{\\sigma}{\\overline{x}} = \\frac{0,7053}{12,29} = 0,05739$$\n",
    "\n",
    "Canto menor sexa o coeficiente de variación, maior representatividade terá a media."
   ]
  },
  {
   "cell_type": "markdown",
   "metadata": {},
   "source": [
    "### Cómo sacar as táboas de frecuencias a partires dos datos?\n",
    "\n",
    " - Series temporales (agrupando)\n",
    " - Series doutro tipo (agrupando e poñendo marca de clase, por exemplo no punto medio do intervalo)\n",
    " - Datos cuantitativos (contando)\n",
    " - Datos cualitativos (aplicando unha función ou condicións de transformación e converter en cuantitativos)\n",
    " - Outros: ..."
   ]
  },
  {
   "cell_type": "markdown",
   "metadata": {},
   "source": [
    "------------- completar ----------------------"
   ]
  },
  {
   "cell_type": "markdown",
   "metadata": {},
   "source": [
    "### Covarianza\n",
    "\n",
    "Fórmula:\n",
    "\n",
    "$$\\sigma{_{xy}} = \\frac{\\sum{x_iy_jf_{i,j}}}{N} - \\overline{x} *\\overline{y}$$\n",
    "\n",
    "A covarianza indica o sentido da relación/correlación entre dúas variables dun estudio alomenos bidimensional. Segundo o resultado teremos que:\n",
    "\n",
    " - **&gt; 0** (positivo maior que cero) &rarr; A relación entre as dúas variables é **directa**. Cando aumenta ou diminúe unha, tamén o fai a outra do mesmo modo.\n",
    "\n",
    " - **&lt; 0** (negativo) &rarr; A relación entre as dúas variables é **inversa**, é dicir cando unha aumenta a outra diminúe a outra e viceversa.\n",
    "\n",
    "**/<u>!</u>\\\\** Canto **máis se aproxima** a **+1** nas relacións **directas** ou a **-1** nas relacións **inversas** maior é a relación entre as variables.\n",
    "\n",
    " O valor que nos da depende da escala na que están os eixes, por exemplo non é o mesmo facer un estudo das alturas das persoas en metros que en centímetros ou medir o peso dos alimentos en gramos que en quilogramos."
   ]
  },
  {
   "cell_type": "markdown",
   "metadata": {},
   "source": [
    "Código Python coa librería **PANDAS**:"
   ]
  },
  {
   "cell_type": "code",
   "execution_count": 1,
   "metadata": {},
   "outputs": [
    {
     "name": "stdout",
     "output_type": "stream",
     "text": [
      "** Método de Pearson **\n",
      "                  Nota_Matematicas  Nota_Fisica  Ausencias_Clase\n",
      "Nota_Matematicas          1.000000     0.867378        -0.798734\n",
      "Nota_Fisica               0.867378     1.000000        -0.672160\n",
      "Ausencias_Clase          -0.798734    -0.672160         1.000000\n",
      "\n",
      "\n",
      "** Método de Kendall **\n",
      "                  Nota_Matematicas  Nota_Fisica  Ausencias_Clase\n",
      "Nota_Matematicas          1.000000     0.742107        -0.744871\n",
      "Nota_Fisica               0.742107     1.000000        -0.705249\n",
      "Ausencias_Clase          -0.744871    -0.705249         1.000000\n",
      "\n",
      "\n",
      "** Método de Spearman **\n",
      "                  Nota_Matematicas  Nota_Fisica  Ausencias_Clase\n",
      "Nota_Matematicas          1.000000     0.880581        -0.862723\n",
      "Nota_Fisica               0.880581     1.000000        -0.853097\n",
      "Ausencias_Clase          -0.862723    -0.853097         1.000000\n"
     ]
    }
   ],
   "source": [
    "import pandas as pd\n",
    "\n",
    "notas_df = pd.read_csv('https://github.com/jfsanchez/BDA/raw/main/datasets/notas_estudantes.csv')\n",
    "#Coidado! cov devolve unha matriz de covarianza \n",
    "#notas_df[['Nota_Matematicas', 'Nota_Fisica', 'Ausencias_Clase']].cov()\n",
    "\n",
    "#O método corr permite calcular Pearson. method{‘pearson’, ‘kendall’, ‘spearman’} \n",
    "#Máis información e diferencias entre estes métodos: https://ademos.people.uic.edu/Chapter22.html\n",
    "print(\"** Método de Pearson **\")\n",
    "print(notas_df.corr(method=\"pearson\",numeric_only=True))\n",
    "print(\"\\n\\n** Método de Kendall **\")\n",
    "print(notas_df.corr(method=\"kendall\",numeric_only=True))\n",
    "print(\"\\n\\n** Método de Spearman **\")\n",
    "print(notas_df.corr(method=\"spearman\",numeric_only=True))"
   ]
  },
  {
   "cell_type": "markdown",
   "metadata": {},
   "source": [
    "Parece que existe unha dependencia entre a nota de física e matemáticas.\n",
    "\n",
    "As dependencias entre variables poden ser fortes ou débiles, neste caso semella débil aínda que probablemente sexa pola escala."
   ]
  },
  {
   "cell_type": "code",
   "execution_count": 13,
   "metadata": {},
   "outputs": [
    {
     "data": {
      "image/png": "[encoded data removed]",
      "text/plain": [
       "<Figure size 640x480 with 1 Axes>"
      ]
     },
     "metadata": {},
     "output_type": "display_data"
    }
   ],
   "source": [
    "ax1 = notas_df.plot.scatter(x='Nota_Fisica',\n",
    "                      y='Nota_Matematicas',\n",
    "                      c='DarkBlue')"
   ]
  },
  {
   "cell_type": "markdown",
   "metadata": {},
   "source": [
    "Agora analizaremos tres variables empregando un mapa de cores.\n",
    "\n",
    "Pode verse a forte dependencia entre non faltar a clase e sacar boa nota en física e matemáticas."
   ]
  },
  {
   "cell_type": "code",
   "execution_count": 22,
   "metadata": {},
   "outputs": [
    {
     "data": {
      "image/png": "[encoded data removed]",
      "text/plain": [
       "<Figure size 640x480 with 2 Axes>"
      ]
     },
     "metadata": {},
     "output_type": "display_data"
    }
   ],
   "source": [
    "ax1 = notas_df.plot.scatter(x='Nota_Fisica',\n",
    "                      y='Nota_Matematicas',\n",
    "                      c='Ausencias_Clase',\n",
    "                      colormap='viridis')"
   ]
  },
  {
   "cell_type": "markdown",
   "metadata": {},
   "source": [
    "## Bibliografía\n",
    " \n",
    " - https://pandas.pydata.org/docs/reference/api/pandas.DataFrame.plot.scatter.html\n",
    " - https://pandas.pydata.org/docs/reference/api/pandas.DataFrame.plot.hist.html\n",
    " - https://pandas.pydata.org/docs/reference/api/pandas.DataFrame.corr.html\n",
    " - https://pandas.pydata.org/docs/reference/api/pandas.DataFrame.cov.html\n",
    " - https://practicaldatascience.co.uk/data-science/how-to-use-pandas-std-to-calculate-standard-deviation\n",
    " - https://es.wikipedia.org/wiki/Desviaci%C3%B3n_t%C3%ADpica\n",
    " \n",
    "\n",
    " Tamén pode ser interesante ler:\n",
    " - https://es.wikipedia.org/wiki/Prueba_%CF%87%C2%B2#\n",
    " - https://www.questionpro.com/blog/es/varianza/\n",
    " - https://www.sdelsol.com/glosario/covarianza/#\n",
    " - https://es.wikipedia.org/wiki/Prueba_%CF%87%C2%B2#\n",
    " - https://www.sage.com/es-es/blog/varianza-que-es-y-como-se-calcula/\n",
    " - https://elmundodelosdatos.com/entiende-que-son-los-grados-de-libertad-en-estadistica/\n",
    " - https://practicaldatascience.co.uk/data-science/how-to-use-pandas-std-to-calculate-standard-deviation\n",
    " - Cálculo da covarianza en datos sen agrupar: <https://www.youtube.com/watch?v=r_ITkER_bh8>\n",
    " - Cálculo de covarianza e correlación. De onde saen as fórmulas: https://www.youtube.com/watch?v=6V9a4651WFw\n",
    " - https://sparkbyexamples.com/pandas/pandas-correlation-of-columns/\n",
    " - https://medium.com/gradiant-talks/si-correlaci%C3%B3n-no-implica-causalidad-entonces-qu%C3%A9-implica-78cfe84b96cf\n",
    " - https://www.youtube.com/watch?v=G1juPBoxBdc\n",
    " - https://es.wikipedia.org/wiki/Cum_hoc_ergo_propter_hoc\n",
    " - https://www.gaussianos.com/hay-que-decirlo-mas-correlacion-implica-causalidad/\n",
    " - https://www.lasclasesdegonzalo.com/estadisticosbidimensionales\n",
    " - https://sites.google.com/site/probabilidadyestadisticaigf/home/regresi%C3%B3n-lineal-y-correlaci%C3%B3n/covarianza-y-coeficiente-de-correlaci%C3%B3n-de-pearson\n",
    " - https://www.questionpro.com/blog/es/varianza/\n",
    " - https://www.geeksforgeeks.org/pandas-scatter-plot-dataframe-plot-scatter/\n",
    " - https://www.superprof.es/diccionario/matematicas/estadistica/estadistica-bidimensional.html\n"
   ]
  },
  {
   "cell_type": "markdown",
   "metadata": {},
   "source": [
    "Jose Sánchez &copy; Xullo 2023 &mdash; Materiales para docencia\n",
    "\n",
    "Se atopas erros ou tes suxestións de mellora escríbeme a: &mdash;jfsanchez&#64;edu&#46;xunta&#46;gal&mdash; "
   ]
  }
 ],
 "metadata": {
  "kernelspec": {
   "display_name": "base",
   "language": "python",
   "name": "python3"
  },
  "language_info": {
   "codemirror_mode": {
    "name": "ipython",
    "version": 3
   },
   "file_extension": ".py",
   "mimetype": "text/x-python",
   "name": "python",
   "nbconvert_exporter": "python",
   "pygments_lexer": "ipython3",
   "version": "3.8.18"
  },
  "orig_nbformat": 4
 },
 "nbformat": 4,
 "nbformat_minor": 2
}
