{
 "cells": [
  {
   "cell_type": "markdown",
   "metadata": {},
   "source": [
    "# **Extraer con selenium datos de licitacións do Concello da Coruña** "
   ]
  },
  {
   "cell_type": "markdown",
   "metadata": {},
   "source": [
    "**SQL Server**\n",
    "\n",
    "- docker run -e \"ACCEPT_EULA=Y\" -e \"MSSQL_SA_PASSWORD=abc123.\" -e \"MSSQL_PID=Evaluation\" -p 41433:1433  --name sqlpreview --hostname sqlpreview -d mcr.microsoft.com/mssql/server:2022-preview-ubuntu-22.04"
   ]
  },
  {
   "cell_type": "code",
   "execution_count": 86,
   "metadata": {},
   "outputs": [],
   "source": [
    "#Instalar gecko\n",
    "from webdriver_manager.firefox import GeckoDriverManager\n",
    "GeckoDriverManager().install()\n",
    "\n",
    "#Abrir un navegador\n",
    "from selenium import webdriver\n",
    "from selenium.webdriver.common.by import By\n",
    "driver = webdriver.Firefox()"
   ]
  },
  {
   "cell_type": "code",
   "execution_count": 87,
   "metadata": {},
   "outputs": [],
   "source": [
    "import argparse\n",
    "from enum import Enum\n",
    "import sys\n",
    "from selenium import webdriver\n",
    "from selenium.webdriver.common.by import By\n",
    "from selenium import webdriver\n",
    "from selenium.webdriver.common.keys import Keys\n",
    "from selenium.webdriver.support.ui import WebDriverWait\n",
    "from selenium.webdriver.support import expected_conditions as EC\n",
    "from selenium.webdriver.support.select import Select\n",
    "import time\n",
    "import random\n"
   ]
  },
  {
   "cell_type": "code",
   "execution_count": 88,
   "metadata": {},
   "outputs": [],
   "source": [
    "def waitFinishLoad(driver,idLoader,needsDisapeared=False,by=By.ID):\n",
    "    WebDriverWait(driver, timeout=10).until(EC.presence_of_element_located((by, idLoader)))\n",
    "    if needsDisapeared:\n",
    "        WebDriverWait(driver, timeout=10).until(EC.invisibility_of_element((by, idLoader)))\n",
    "    #alea=random.choice([0.5, 0.6])\n",
    "    #time.sleep(alea)\n",
    "\n",
    "def getCurrentPage(driver):\n",
    "\tprint(\"B\")\n",
    "\n",
    "def isThisLastPage(driver):\n",
    "    if (getLastPage(driver) == getCurrentPage(driver)):\n",
    "        return True\n",
    "    return False\n",
    "\n",
    "def goNextPage(driver):\n",
    "    print(\"A\")\n",
    "\n",
    "    \n",
    "def clickByPartialText(auxText, driver):\n",
    "    waitFinishLoad(driver)\n",
    "    elem = driver.find_element_by_partial_link_text(auxText)\n",
    "    elem.click()\n",
    "    waitFinishLoad(driver)\n",
    "\n",
    "def elementByXPATH(query,driver,idLoader=None,by=By.ID,notStart=False):\n",
    "    if not notStart:\n",
    "        waitFinishLoad(driver,idLoader,by=by)\n",
    "    element=driver.find_element(By.XPATH,query)\n",
    "    waitFinishLoad(driver,idLoader,by=by)\n",
    "    return element\n",
    "\n",
    "def elementByXPATHClick(query,driver,idLoader=None,by=By.ID,notStart=False):\n",
    "    if not notStart:\n",
    "        waitFinishLoad(driver,idLoader,by=by)\n",
    "    element=driver.find_element(By.XPATH,query)\n",
    "    element.click()\n",
    "    waitFinishLoad(driver,idLoader,by=by)\n",
    "    return element\n",
    "\n",
    "def elementsByXPATH(query,driver,idLoader=None,notStart=False):\n",
    "    waitFinishLoad(driver,idLoader)\n",
    "    element=driver.find_elements(By.XPATH,query)\n",
    "    waitFinishLoad(driver,idLoader)\n",
    "    return element\n",
    "\n",
    "def clickEvent(driver,element):\n",
    "    driver.execute_script(element.get_dom_attribute(\"onClick\"))"
   ]
  },
  {
   "cell_type": "markdown",
   "metadata": {},
   "source": [
    "Entramos en la página y nos vamos a publicaciones y luego licitaciones"
   ]
  },
  {
   "cell_type": "code",
   "execution_count": 89,
   "metadata": {},
   "outputs": [],
   "source": [
    "driver.get(\"https://contrataciondelestado.es\")"
   ]
  },
  {
   "cell_type": "code",
   "execution_count": 90,
   "metadata": {},
   "outputs": [],
   "source": [
    "elementByXPATH(\"//a[@title='Buscar publicaciones']\",driver,\"footer-newShow\").click()"
   ]
  },
  {
   "cell_type": "code",
   "execution_count": 91,
   "metadata": {},
   "outputs": [],
   "source": [
    "# No es un enlace cualquiera, este esta gestionado por un script que controlaremos por código \n",
    "licitacion=elementByXPATH(\"//div[@class='divLogo']/a\",driver,\"footer-newShow\")\n",
    "\n",
    "clickEvent(driver,licitacion)"
   ]
  },
  {
   "cell_type": "code",
   "execution_count": 92,
   "metadata": {},
   "outputs": [],
   "source": [
    "busqueda_avanzada=elementByXPATH(\"//div[@class='capaAvanzada']/a\",driver,\"contenidoBuscador\")\n",
    "\n",
    "clickEvent(driver,busqueda_avanzada)"
   ]
  },
  {
   "cell_type": "code",
   "execution_count": 93,
   "metadata": {},
   "outputs": [],
   "source": [
    "seleccionar=elementByXPATH(\"//div[@class='inlinebloque   ']/a\",driver,by=By.XPATH,idLoader=\"//div[@class='inlinebloque   ']/a\")\n",
    "clickEvent(driver,seleccionar)"
   ]
  },
  {
   "cell_type": "code",
   "execution_count": 94,
   "metadata": {},
   "outputs": [],
   "source": [
    "def get_corunha(list,driver,i=2):\n",
    "    try:\n",
    "        q=f\"//*[text()='{list[i-2]}']/../../\"\n",
    "    except:\n",
    "        return\n",
    "    query=f\"{q}td[{i}]\"\n",
    "    total = f\"{q}/../../../..\" if i!=2 else 'footer-newShow'\n",
    "    elementByXPATHClick(query,driver,by=By.XPATH if i!=2 else By.ID,idLoader=total,notStart=True)\n",
    "    if i-2!=len(list):\n",
    "        get_corunha(list,driver,i+1)"
   ]
  },
  {
   "cell_type": "code",
   "execution_count": null,
   "metadata": {},
   "outputs": [],
   "source": []
  },
  {
   "cell_type": "code",
   "execution_count": 95,
   "metadata": {},
   "outputs": [],
   "source": [
    "#query=\"//*[text()='ENTIDADES LOCALES']/../../td[2]\"\n",
    "#elemento=elementByXPATH(query,driver,\"footer-newShow\")\n",
    "#elemento.click()\n",
    "waitFinishLoad(driver,by=By.XPATH,idLoader=\"//*[text()='ENTIDADES LOCALES']/../../td[2]\")\n",
    "get_corunha(['ENTIDADES LOCALES','Galicia','A Coruña','Ayuntamientos'],driver)\n"
   ]
  }
 ],
 "metadata": {
  "kernelspec": {
   "display_name": "bigdata",
   "language": "python",
   "name": "python3"
  },
  "language_info": {
   "codemirror_mode": {
    "name": "ipython",
    "version": 3
   },
   "file_extension": ".py",
   "mimetype": "text/x-python",
   "name": "python",
   "nbconvert_exporter": "python",
   "pygments_lexer": "ipython3",
   "version": "3.8.18"
  }
 },
 "nbformat": 4,
 "nbformat_minor": 2
}
