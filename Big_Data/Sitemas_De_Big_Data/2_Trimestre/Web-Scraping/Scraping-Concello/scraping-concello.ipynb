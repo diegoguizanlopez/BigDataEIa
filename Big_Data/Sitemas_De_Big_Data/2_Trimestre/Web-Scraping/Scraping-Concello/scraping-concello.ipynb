{
 "cells": [
  {
   "cell_type": "markdown",
   "metadata": {},
   "source": [
    "# **Extraer con selenium datos de licitacións do Concello da Coruña** "
   ]
  },
  {
   "cell_type": "markdown",
   "metadata": {},
   "source": [
    "**SQL Server**\n",
    "\n",
    "- docker run -e \"ACCEPT_EULA=Y\" -e \"MSSQL_SA_PASSWORD=Abcd1234.\" -e \"MSSQL_PID=Evaluation\" -p 41433:1433  --name sqlpreview --hostname sqlpreview -d mcr.microsoft.com/mssql/server:2022-preview-ubuntu-22.04"
   ]
  },
  {
   "cell_type": "code",
   "execution_count": 45,
   "metadata": {},
   "outputs": [],
   "source": [
    "#Instalar gecko\n",
    "from webdriver_manager.firefox import GeckoDriverManager\n",
    "GeckoDriverManager(version=\"v0.34.0\").install()\n",
    "\n",
    "#Abrir un navegador\n",
    "from selenium import webdriver\n",
    "from selenium.webdriver.common.by import By\n",
    "driver = webdriver.Firefox()"
   ]
  },
  {
   "cell_type": "code",
   "execution_count": 46,
   "metadata": {},
   "outputs": [],
   "source": [
    "import argparse\n",
    "from enum import Enum\n",
    "import sys\n",
    "from selenium import webdriver\n",
    "from selenium.webdriver.common.by import By\n",
    "from selenium import webdriver\n",
    "from selenium.webdriver.common.keys import Keys\n",
    "from selenium.webdriver.support.ui import WebDriverWait\n",
    "from selenium.webdriver.support import expected_conditions as EC\n",
    "from selenium.webdriver.support.select import Select\n",
    "from selenium.webdriver.common.action_chains import ActionChains\n",
    "import time\n",
    "import random\n"
   ]
  },
  {
   "cell_type": "code",
   "execution_count": 47,
   "metadata": {},
   "outputs": [],
   "source": [
    "def waitFinishLoad(driver,idLoader,needsDisapeared=False,by=By.ID,needsWait=False):\n",
    "    if idLoader is None:\n",
    "        return\n",
    "    WebDriverWait(driver, timeout=10).until(EC.presence_of_element_located((by, idLoader)))\n",
    "    if needsDisapeared:\n",
    "        WebDriverWait(driver, timeout=10).until(EC.invisibility_of_element((by, idLoader)))\n",
    "    if needsWait:\n",
    "        time.sleep(random.choice([0.1,0.2,0.3,0.4,0.5,0.6]))\n",
    "    else:\n",
    "        time.sleep(random.choice([0.05,0.1,0.2]))\n",
    "\n",
    "def elementBy(query,driver,**kargs):\n",
    "    if not kargs.get(\"needsWait\",False):\n",
    "        waitFinishLoad(driver,kargs.get(\"idLoader\",None),by=kargs.get(\"by\",By.ID),needsWait=kargs.get(\"needsWait\",False))\n",
    "    try:\n",
    "        element=driver.find_element(By.XPATH,query)\n",
    "    except:\n",
    "        return None\n",
    "    waitFinishLoad(driver,kargs.get(\"idLoader\",None),by=kargs.get(\"by\",By.ID),needsWait=kargs.get(\"needsWait\",False))\n",
    "    return element\n",
    "\n",
    "def elementByClick(query,driver,**kargs):\n",
    "    if not kargs.get(\"needsWait\",False):\n",
    "        waitFinishLoad(driver,kargs.get(\"idLoader\",None),by=kargs.get(\"by\",By.ID),needsWait=kargs.get(\"needsWait\",False))\n",
    "    element=driver.find_element(By.XPATH,query)\n",
    "    element.click()\n",
    "    waitFinishLoad(driver,kargs.get(\"idLoader\",None),by=kargs.get(\"by\",By.ID),needsWait=kargs.get(\"needsWait\",False))\n",
    "    return element\n",
    "\n",
    "def elementsBy(query,driver,**kargs):\n",
    "    if not kargs.get(\"needsWait\",False):\n",
    "        waitFinishLoad(driver,kargs.get(\"idLoader\",None),by=kargs.get(\"by\",By.ID),needsWait=kargs.get(\"needsWait\",False))\n",
    "    element=driver.find_elements(By.XPATH,query)\n",
    "    waitFinishLoad(driver,kargs.get(\"idLoader\",None),by=kargs.get(\"by\",By.ID),needsWait=kargs.get(\"needsWait\",False))\n",
    "    return element\n",
    "\n",
    "def clickEvent(driver,element):\n",
    "    driver.execute_script(element.get_dom_attribute(\"onClick\"))\n",
    "\n",
    "def goToNextPage(driver):\n",
    "    element=elementBy(\"//input[@value='Siguiente']\",driver,idLoader=\"//table[@id='myTablaBusquedaCustom']\",by=By.XPATH)\n",
    "    driver.execute_script(\"arguments[0].scrollIntoView();\", element)\n",
    "    element.click()\n",
    "\n",
    "\n",
    "def checkEndPage(driver):\n",
    "    element=elementBy(\"//input[@value='Siguiente']\",driver,idLoader=\"//table[@id='myTablaBusquedaCustom']\",by=By.XPATH)\n",
    "    if element:\n",
    "        return True\n",
    "    return False"
   ]
  },
  {
   "cell_type": "markdown",
   "metadata": {},
   "source": [
    "Entramos en la página y nos vamos a publicaciones y luego licitaciones"
   ]
  },
  {
   "cell_type": "code",
   "execution_count": 48,
   "metadata": {},
   "outputs": [],
   "source": [
    "driver.get(\"https://contrataciondelestado.es\")"
   ]
  },
  {
   "cell_type": "code",
   "execution_count": 49,
   "metadata": {},
   "outputs": [],
   "source": [
    "elementBy(\"//a[@title='Buscar publicaciones']\",driver,idLoader=\"footer-newShow\").click()"
   ]
  },
  {
   "cell_type": "code",
   "execution_count": 50,
   "metadata": {},
   "outputs": [],
   "source": [
    "# No es un enlace cualquiera, este esta gestionado por un script que controlaremos por código \n",
    "licitacion=elementBy(\"//div[@class='divLogo']/a\",driver,idLoader=\"footer-newShow\")\n",
    "\n",
    "clickEvent(driver,licitacion)"
   ]
  },
  {
   "cell_type": "code",
   "execution_count": 51,
   "metadata": {},
   "outputs": [],
   "source": [
    "busqueda_avanzada=elementBy(\"//div[@class='capaAvanzada']/a\",driver,idLoader=\"contenidoBuscador\")\n",
    "\n",
    "clickEvent(driver,busqueda_avanzada)"
   ]
  },
  {
   "cell_type": "code",
   "execution_count": 52,
   "metadata": {},
   "outputs": [],
   "source": [
    "seleccionar=elementBy(\"//div[@class='inlinebloque   ']/a\",driver,by=By.XPATH,idLoader=\"//div[@class='inlinebloque   ']/a\")\n",
    "clickEvent(driver,seleccionar)"
   ]
  },
  {
   "cell_type": "code",
   "execution_count": 53,
   "metadata": {},
   "outputs": [],
   "source": [
    "def get_corunha(list,driver,i=2):\n",
    "    \"\"\"_summary_\n",
    "\n",
    "    Args:\n",
    "        list (_type_): _description_\n",
    "        driver (_type_): _description_\n",
    "        i (int, optional): _description_. Defaults to 2.\n",
    "    \"\"\"\n",
    "    if i-2<len(list):\n",
    "        q=f\"//*[text()='{list[i-2]}']\"\n",
    "        if len(list)!=i-1:\n",
    "            q+=\"/../..\"\n",
    "            query=f\"{q}/td[{i}]\"\n",
    "            total = f\"{q}/../../../..\" if i!=2 else 'footer-newShow'\n",
    "        else:\n",
    "            query=q\n",
    "            q2=f\"{q}/../..\"\n",
    "            total = f\"{q2}/../../../..\"\n",
    "        if len(list)!=i-1:\n",
    "            elementByClick(query,driver,by=By.XPATH if i!=2 else By.ID,idLoader=total,notStart=True)\n",
    "        else:\n",
    "            return elementsBy(query,driver,by=By.XPATH if i!=2 else By.ID,idLoader=total,notStart=True)\n",
    "        if i-1!=len(list):\n",
    "            return get_corunha(list,driver,i+1)"
   ]
  },
  {
   "cell_type": "code",
   "execution_count": 54,
   "metadata": {},
   "outputs": [
    {
     "data": {
      "text/plain": [
       "<selenium.webdriver.remote.webelement.WebElement (session=\"816b60dd-af9a-4251-b1c6-821b9f0e3365\", element=\"e7abe171-5a5c-4143-833a-97b58bd943ec\")>"
      ]
     },
     "execution_count": 54,
     "metadata": {},
     "output_type": "execute_result"
    }
   ],
   "source": [
    "#query=\"//*[text()='ENTIDADES LOCALES']/../../td[2]\"\n",
    "#elemento=elementByXPATH(query,driver,\"footer-newShow\")\n",
    "#elemento.click()\n",
    "waitFinishLoad(driver,by=By.XPATH,idLoader=\"//*[text()='ENTIDADES LOCALES']\")\n",
    "get_corunha(['ENTIDADES LOCALES','Galicia','A Coruña','Ayuntamientos','A Coruña'],driver)[1].click()\n",
    "elementByClick(\"//span/select/option[1]\",driver)\n",
    "elementByClick(\"//*[@value='Añadir']\",driver)\n",
    "\n",
    "\n"
   ]
  },
  {
   "cell_type": "code",
   "execution_count": 55,
   "metadata": {},
   "outputs": [
    {
     "data": {
      "text/plain": [
       "<selenium.webdriver.remote.webelement.WebElement (session=\"816b60dd-af9a-4251-b1c6-821b9f0e3365\", element=\"614253f0-8a88-40ec-a445-6165b6dc96d7\")>"
      ]
     },
     "execution_count": 55,
     "metadata": {},
     "output_type": "execute_result"
    }
   ],
   "source": [
    "elementByClick(\"//*[@title='Buscar']\",driver)"
   ]
  },
  {
   "cell_type": "code",
   "execution_count": null,
   "metadata": {},
   "outputs": [],
   "source": [
    "from io import StringIO\n",
    "from bs4 import BeautifulSoup\n",
    "import pandas as pd\n",
    "\n",
    "\n",
    "dfT = pd.DataFrame([])\n",
    "while(True):\n",
    "    waitFinishLoad(driver,by=By.XPATH,idLoader=\"//div/span[text()='Importe']\")\n",
    "    \n",
    "    soup=BeautifulSoup(driver.page_source,'html.parser')\n",
    "    df=pd.read_html(StringIO(str(soup.find(id=\"myTablaBusquedaCustom\"))))[0]\n",
    "    df=df[~df.iloc[:,0].str.startswith('Página')]\n",
    "    dfT=pd.concat([dfT,df])\n",
    "    print(dfT.size)\n",
    "    if not checkEndPage(driver):\n",
    "        break\n",
    "    goToNextPage(driver)"
   ]
  },
  {
   "cell_type": "code",
   "execution_count": 57,
   "metadata": {},
   "outputs": [
    {
     "data": {
      "text/html": [
       "<div>\n",
       "<style scoped>\n",
       "    .dataframe tbody tr th:only-of-type {\n",
       "        vertical-align: middle;\n",
       "    }\n",
       "\n",
       "    .dataframe tbody tr th {\n",
       "        vertical-align: top;\n",
       "    }\n",
       "\n",
       "    .dataframe thead th {\n",
       "        text-align: right;\n",
       "    }\n",
       "</style>\n",
       "<table border=\"1\" class=\"dataframe\">\n",
       "  <thead>\n",
       "    <tr style=\"text-align: right;\">\n",
       "      <th></th>\n",
       "      <th>Expediente</th>\n",
       "      <th>Tipo de Contrato</th>\n",
       "      <th>Estado</th>\n",
       "      <th>Importe</th>\n",
       "      <th>Fechas</th>\n",
       "      <th>Órgano de Contratación</th>\n",
       "    </tr>\n",
       "  </thead>\n",
       "  <tbody>\n",
       "    <tr>\n",
       "      <th>0</th>\n",
       "      <td>236/2023/57\\nProcedimiento abierto simplificad...</td>\n",
       "      <td>Servicios\\nServicios de transporte por vía ter...</td>\n",
       "      <td>Resuelta</td>\n",
       "      <td>58.050,00</td>\n",
       "      <td>Publicación P\\nLA\\nCS\\nP:Adjudicación:11/01/20...</td>\n",
       "      <td>Junta de Gobierno del Ayuntamiento de A Coruña</td>\n",
       "    </tr>\n",
       "    <tr>\n",
       "      <th>1</th>\n",
       "      <td>851/2023/103\\nContratación mixta de suministro...</td>\n",
       "      <td>Suministros\\nAdquisición</td>\n",
       "      <td>Adjudicada</td>\n",
       "      <td>231.404,96</td>\n",
       "      <td>Publicación P\\nLA\\nCS\\nP:Adjudicación:29/01/2024</td>\n",
       "      <td>Junta de Gobierno del Ayuntamiento de A Coruña</td>\n",
       "    </tr>\n",
       "    <tr>\n",
       "      <th>2</th>\n",
       "      <td>370/2024/26\\nConcierto de una operación de pré...</td>\n",
       "      <td>Privado</td>\n",
       "      <td>Publicada</td>\n",
       "      <td>22.763.291,51</td>\n",
       "      <td>Present. Solicitud:14/02/2024\\nPresent. Oferta...</td>\n",
       "      <td>Junta de Gobierno del Ayuntamiento de A Coruña</td>\n",
       "    </tr>\n",
       "    <tr>\n",
       "      <th>3</th>\n",
       "      <td>237/2023/208\\nProcedimiento abierto simplifica...</td>\n",
       "      <td>Servicios\\nOtros servicios</td>\n",
       "      <td>Adjudicada</td>\n",
       "      <td>59.534,03</td>\n",
       "      <td>Publicación P\\nLA\\nCS\\nP:Adjudicación:31/01/2024</td>\n",
       "      <td>Junta de Gobierno del Ayuntamiento de A Coruña</td>\n",
       "    </tr>\n",
       "    <tr>\n",
       "      <th>4</th>\n",
       "      <td>231/2022/231\\nAcuerdo Marco de suministro de f...</td>\n",
       "      <td>Suministros\\nAdquisición</td>\n",
       "      <td>Resuelta</td>\n",
       "      <td>93.420,22</td>\n",
       "      <td>Publicación P\\nLA\\nCS\\nP:Adjudicación:29/12/20...</td>\n",
       "      <td>Junta de Gobierno del Ayuntamiento de A Coruña</td>\n",
       "    </tr>\n",
       "    <tr>\n",
       "      <th>...</th>\n",
       "      <td>...</td>\n",
       "      <td>...</td>\n",
       "      <td>...</td>\n",
       "      <td>...</td>\n",
       "      <td>...</td>\n",
       "      <td>...</td>\n",
       "    </tr>\n",
       "    <tr>\n",
       "      <th>2</th>\n",
       "      <td>370/2018/60\\nContrato de préstamo, con previa ...</td>\n",
       "      <td>Privado</td>\n",
       "      <td>Adjudicada</td>\n",
       "      <td>7.975.450,00</td>\n",
       "      <td>Publicación P\\nLA\\nCS\\nP:Adjudicación:15/06/2018</td>\n",
       "      <td>Junta de Gobierno del Ayuntamiento de A Coruña</td>\n",
       "    </tr>\n",
       "    <tr>\n",
       "      <th>3</th>\n",
       "      <td>106/2018/117\\nSuministro de Gas Natural para c...</td>\n",
       "      <td>Suministros\\nAdquisición</td>\n",
       "      <td>Evaluación</td>\n",
       "      <td>28.099,17</td>\n",
       "      <td>Present. Oferta:28/06/2018</td>\n",
       "      <td>Junta de Gobierno del Ayuntamiento de A Coruña</td>\n",
       "    </tr>\n",
       "    <tr>\n",
       "      <th>4</th>\n",
       "      <td>236/2018/41\\nObra de sustitución de la cubiert...</td>\n",
       "      <td>Obras\\nConstrucción</td>\n",
       "      <td>Resuelta</td>\n",
       "      <td>58.162,82</td>\n",
       "      <td>Publicación P\\nLA\\nCS\\nP:Adjudicación:31/05/20...</td>\n",
       "      <td>Junta de Gobierno del Ayuntamiento de A Coruña</td>\n",
       "    </tr>\n",
       "    <tr>\n",
       "      <th>5</th>\n",
       "      <td>541/2018/916\\nRefuerzo de contenedores en la z...</td>\n",
       "      <td>Servicios\\nServicios de alcantarillado y elimi...</td>\n",
       "      <td>Evaluación</td>\n",
       "      <td>16.043,52</td>\n",
       "      <td>Present. Oferta:24/05/2018</td>\n",
       "      <td>Junta de Gobierno del Ayuntamiento de A Coruña</td>\n",
       "    </tr>\n",
       "    <tr>\n",
       "      <th>6</th>\n",
       "      <td>Prueba\\nObras de restauración de la escalera p...</td>\n",
       "      <td>Obras\\nAcabado de edificios y obras</td>\n",
       "      <td>Anulada</td>\n",
       "      <td>123.966,94</td>\n",
       "      <td>NaN</td>\n",
       "      <td>Junta de Gobierno del Ayuntamiento de A Coruña</td>\n",
       "    </tr>\n",
       "  </tbody>\n",
       "</table>\n",
       "<p>887 rows × 6 columns</p>\n",
       "</div>"
      ],
      "text/plain": [
       "                                           Expediente  \\\n",
       "0   236/2023/57\\nProcedimiento abierto simplificad...   \n",
       "1   851/2023/103\\nContratación mixta de suministro...   \n",
       "2   370/2024/26\\nConcierto de una operación de pré...   \n",
       "3   237/2023/208\\nProcedimiento abierto simplifica...   \n",
       "4   231/2022/231\\nAcuerdo Marco de suministro de f...   \n",
       "..                                                ...   \n",
       "2   370/2018/60\\nContrato de préstamo, con previa ...   \n",
       "3   106/2018/117\\nSuministro de Gas Natural para c...   \n",
       "4   236/2018/41\\nObra de sustitución de la cubiert...   \n",
       "5   541/2018/916\\nRefuerzo de contenedores en la z...   \n",
       "6   Prueba\\nObras de restauración de la escalera p...   \n",
       "\n",
       "                                     Tipo de Contrato      Estado  \\\n",
       "0   Servicios\\nServicios de transporte por vía ter...    Resuelta   \n",
       "1                            Suministros\\nAdquisición  Adjudicada   \n",
       "2                                             Privado   Publicada   \n",
       "3                          Servicios\\nOtros servicios  Adjudicada   \n",
       "4                            Suministros\\nAdquisición    Resuelta   \n",
       "..                                                ...         ...   \n",
       "2                                             Privado  Adjudicada   \n",
       "3                            Suministros\\nAdquisición  Evaluación   \n",
       "4                                 Obras\\nConstrucción    Resuelta   \n",
       "5   Servicios\\nServicios de alcantarillado y elimi...  Evaluación   \n",
       "6                 Obras\\nAcabado de edificios y obras     Anulada   \n",
       "\n",
       "          Importe                                             Fechas  \\\n",
       "0       58.050,00  Publicación P\\nLA\\nCS\\nP:Adjudicación:11/01/20...   \n",
       "1      231.404,96   Publicación P\\nLA\\nCS\\nP:Adjudicación:29/01/2024   \n",
       "2   22.763.291,51  Present. Solicitud:14/02/2024\\nPresent. Oferta...   \n",
       "3       59.534,03   Publicación P\\nLA\\nCS\\nP:Adjudicación:31/01/2024   \n",
       "4       93.420,22  Publicación P\\nLA\\nCS\\nP:Adjudicación:29/12/20...   \n",
       "..            ...                                                ...   \n",
       "2    7.975.450,00   Publicación P\\nLA\\nCS\\nP:Adjudicación:15/06/2018   \n",
       "3       28.099,17                         Present. Oferta:28/06/2018   \n",
       "4       58.162,82  Publicación P\\nLA\\nCS\\nP:Adjudicación:31/05/20...   \n",
       "5       16.043,52                         Present. Oferta:24/05/2018   \n",
       "6      123.966,94                                                NaN   \n",
       "\n",
       "                            Órgano de Contratación  \n",
       "0   Junta de Gobierno del Ayuntamiento de A Coruña  \n",
       "1   Junta de Gobierno del Ayuntamiento de A Coruña  \n",
       "2   Junta de Gobierno del Ayuntamiento de A Coruña  \n",
       "3   Junta de Gobierno del Ayuntamiento de A Coruña  \n",
       "4   Junta de Gobierno del Ayuntamiento de A Coruña  \n",
       "..                                             ...  \n",
       "2   Junta de Gobierno del Ayuntamiento de A Coruña  \n",
       "3   Junta de Gobierno del Ayuntamiento de A Coruña  \n",
       "4   Junta de Gobierno del Ayuntamiento de A Coruña  \n",
       "5   Junta de Gobierno del Ayuntamiento de A Coruña  \n",
       "6   Junta de Gobierno del Ayuntamiento de A Coruña  \n",
       "\n",
       "[887 rows x 6 columns]"
      ]
     },
     "execution_count": 57,
     "metadata": {},
     "output_type": "execute_result"
    }
   ],
   "source": [
    "for i in dfT.columns:\n",
    "    dfT[i] = dfT[i].str.replace(r\"(\\w)([A-Z])\", r\"\\1\\\\n\\2\", regex=True)\n",
    "dfT"
   ]
  },
  {
   "attachments": {
    "image-2.png": {
     "image/png": "[encoded data removed]"
    },
    "image.png": {
     "image/png": "[encoded data removed]"
    }
   },
   "cell_type": "markdown",
   "metadata": {},
   "source": [
    "![image.png](attachment:image.png)\n",
    "\n",
    "![image-2.png](attachment:image-2.png)"
   ]
  },
  {
   "cell_type": "code",
   "execution_count": 58,
   "metadata": {},
   "outputs": [],
   "source": [
    "#!conda install -c conda-forge -y pyodbc"
   ]
  },
  {
   "cell_type": "markdown",
   "metadata": {},
   "source": [
    "curl https://packages.microsoft.com/keys/microsoft.asc | sudo tee /etc/apt/trusted.gpg.d/microsoft.asc\n",
    "\n",
    "#Download appropriate package for the OS version\n",
    "#Choose only ONE of the following, corresponding to your OS version\n",
    "\n",
    "#Debian 9\n",
    "curl https://packages.microsoft.com/config/debian/9/prod.list | sudo tee /etc/apt/sources.list.d/mssql-release.list\n",
    "\n",
    "#Debian 10\n",
    "curl https://packages.microsoft.com/config/debian/10/prod.list | sudo tee /etc/apt/sources.list.d/mssql-release.list\n",
    "\n",
    "#Debian 11\n",
    "curl https://packages.microsoft.com/config/debian/11/prod.list | sudo tee /etc/apt/sources.list.d/mssql-release.list\n",
    "\n",
    "#Debian 12\n",
    "curl https://packages.microsoft.com/config/debian/12/prod.list | sudo tee /etc/apt/sources.list.d/mssql-release.list\n",
    "\n",
    "sudo apt-get update\n",
    "sudo ACCEPT_EULA=Y apt-get install -y msodbcsql18\n",
    "# optional: for bcp and sqlcmd\n",
    "sudo ACCEPT_EULA=Y apt-get install -y mssql-tools18\n",
    "echo 'export PATH=\"$PATH:/opt/mssql-tools18/bin\"' >> ~/.bashrc\n",
    "source ~/.bashrc\n",
    "# optional: for unixODBC development headers\n",
    "sudo apt-get install -y unixodbc-dev\n",
    "# optional: kerberos library for debian-slim distributions\n",
    "sudo apt-get install -y libgssapi-krb5-2"
   ]
  },
  {
   "cell_type": "markdown",
   "metadata": {},
   "source": [
    "# Windows\n",
    "\n",
    "<a href=\"https://learn.microsoft.com/en-us/sql/connect/odbc/windows/system-requirements-installation-and-driver-files?view=sql-server-ver16#installing-microsoft-odbc-driver-for-sql-server\">ODBC</a>"
   ]
  },
  {
   "cell_type": "markdown",
   "metadata": {},
   "source": [
    "CREATE TABLE Concellos.dbo.ConcelloDatos (\n",
    "\tExpediente varchar(300) NULL,\n",
    "\t[Tipo de Contrato] varchar(200) NULL,\n",
    "\tEstado varchar(50) NULL,\n",
    "\tImporte decimal(38,0) NULL,\n",
    "\tFechas varchar(100) NULL,\n",
    "\t[Órgano de Contratación] varchar(100) NULL\n",
    ");\n"
   ]
  },
  {
   "cell_type": "code",
   "execution_count": 8,
   "metadata": {},
   "outputs": [],
   "source": [
    "import pyodbc\n",
    "\n",
    "connectionString = f'DRIVER={{ODBC Driver 18 for SQL Server}};SERVER=10.133.29.104,41433;DATABASE=Concellos;UID=sa;PWD=Abcd1234.;Encrypt=no'\n",
    "conexion = pyodbc.connect(connectionString)"
   ]
  },
  {
   "cell_type": "code",
   "execution_count": 9,
   "metadata": {},
   "outputs": [],
   "source": [
    "cursor = conexion.cursor()\n",
    "cursor.execute(\"\"\"\n",
    "               Select *\n",
    "               From ConcelloDatos\n",
    "\"\"\")\n",
    "tuplas = cursor.fetchall()\n",
    "for tupla in tuplas:\n",
    "    tupla.Expediente"
   ]
  },
  {
   "cell_type": "code",
   "execution_count": 4,
   "metadata": {},
   "outputs": [],
   "source": [
    "cursor.close()\n",
    "conexion.close()"
   ]
  }
 ],
 "metadata": {
  "kernelspec": {
   "display_name": "bigdata",
   "language": "python",
   "name": "python3"
  },
  "language_info": {
   "codemirror_mode": {
    "name": "ipython",
    "version": 3
   },
   "file_extension": ".py",
   "mimetype": "text/x-python",
   "name": "python",
   "nbconvert_exporter": "python",
   "pygments_lexer": "ipython3",
   "version": "3.8.18"
  }
 },
 "nbformat": 4,
 "nbformat_minor": 2
}
