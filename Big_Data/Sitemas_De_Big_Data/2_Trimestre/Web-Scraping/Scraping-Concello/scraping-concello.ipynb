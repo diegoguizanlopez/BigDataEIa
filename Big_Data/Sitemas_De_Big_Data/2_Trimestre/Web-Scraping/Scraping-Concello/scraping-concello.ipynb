{
 "cells": [
  {
   "cell_type": "markdown",
   "metadata": {},
   "source": [
    "# **Extraer con selenium datos de licitacións do Concello da Coruña** "
   ]
  },
  {
   "cell_type": "markdown",
   "metadata": {},
   "source": [
    "# Importación"
   ]
  },
  {
   "cell_type": "markdown",
   "metadata": {},
   "source": [
    "Inicializamos el GeckoDriver con la última versión y le decimos que utilice FireFox"
   ]
  },
  {
   "cell_type": "code",
   "execution_count": 135,
   "metadata": {},
   "outputs": [],
   "source": [
    "#Instalar gecko\n",
    "from webdriver_manager.firefox import GeckoDriverManager\n",
    "GeckoDriverManager(version=\"v0.34.0\").install()\n",
    "\n",
    "#Abrir un navegador\n",
    "from selenium import webdriver\n",
    "from selenium.webdriver.common.by import By\n",
    "driver = webdriver.Firefox()"
   ]
  },
  {
   "cell_type": "code",
   "execution_count": 136,
   "metadata": {},
   "outputs": [],
   "source": [
    "import argparse\n",
    "from enum import Enum\n",
    "import sys\n",
    "from selenium import webdriver\n",
    "from selenium.webdriver.common.by import By\n",
    "from selenium import webdriver\n",
    "from selenium.webdriver.common.keys import Keys\n",
    "from selenium.webdriver.support.ui import WebDriverWait\n",
    "from selenium.webdriver.support import expected_conditions as EC\n",
    "from selenium.webdriver.support.select import Select\n",
    "from selenium.webdriver.common.action_chains import ActionChains\n",
    "import time\n",
    "import random\n"
   ]
  },
  {
   "cell_type": "markdown",
   "metadata": {},
   "source": [
    "Definimos la ruta donde se guardarán las capturas de pantalla definidas por el Driver"
   ]
  },
  {
   "cell_type": "code",
   "execution_count": 137,
   "metadata": {},
   "outputs": [],
   "source": [
    "import pathlib\n",
    "\n",
    "path=str(pathlib.Path().resolve())+\"/Imagenes/\""
   ]
  },
  {
   "cell_type": "markdown",
   "metadata": {},
   "source": [
    "# Métodos"
   ]
  },
  {
   "cell_type": "code",
   "execution_count": 138,
   "metadata": {},
   "outputs": [],
   "source": [
    "def waitFinishLoad(driver,idLoader,needsDisapeared=False,by=By.ID,needsWait=True):\n",
    "    \"\"\"Espera a la carga de un elemento antes de continuar\n",
    "\n",
    "    Args:\n",
    "        driver (WebDriver): WebDriver\n",
    "        idLoader (str): Id a buscar, puede ser XPath...\n",
    "        needsDisapeared (bool, optional): Si el elemento a esperar tiene que aparecer o desaparecer como un CircularProgress. Defaults to False.\n",
    "        by (str, optional): Tipo de By a buscar el Wait. Defaults to By.ID.\n",
    "        needsWait (bool, optional): Si necesita esperar un extra para que no pueda saltar un Captcha. Defaults to False.\n",
    "    \"\"\"\n",
    "    if idLoader is None:\n",
    "        return\n",
    "    WebDriverWait(driver, timeout=60).until(EC.presence_of_element_located((by, idLoader)))\n",
    "    if needsDisapeared:\n",
    "        WebDriverWait(driver, timeout=60).until(EC.invisibility_of_element((by, idLoader)))\n",
    "    if needsWait:\n",
    "        time.sleep(random.choice([0.05,0.1,0.2]))\n",
    "\n",
    "def elementBy(query,driver,**kargs):\n",
    "    \"\"\"Devuelve un element|None dependiendo de la consulta\n",
    "\n",
    "    Args:\n",
    "        query (str): Busqueda a realizar del elemento\n",
    "        driver (WebDriver): WebDriver\n",
    "\n",
    "    Returns:\n",
    "        Element|None: Elemento de la búsqueda\n",
    "    \"\"\"\n",
    "    if not kargs.get(\"needsWait\",False):\n",
    "        waitFinishLoad(driver,kargs.get(\"idLoader\",None),by=kargs.get(\"by\",By.ID),needsWait=kargs.get(\"needsWait\",False))\n",
    "    try:\n",
    "        element=driver.find_element(kargs.get(\"byq\",By.XPATH),query)\n",
    "        if kargs.get(\"screenshot\"):\n",
    "            driver.execute_script(\"arguments[0].scrollIntoView();\", element)\n",
    "            screenshot(driver,kargs.get(\"screenshot\"))\n",
    "    except:\n",
    "        screenshot(driver,kargs.get(\"screenshot\"))\n",
    "        return None\n",
    "    waitFinishLoad(driver,kargs.get(\"idLoader\",None),by=kargs.get(\"by\",By.ID),needsWait=kargs.get(\"needsWait\",False))\n",
    "    return element\n",
    "\n",
    "\n",
    "def elementByClick(query,driver,**kargs):\n",
    "    \"\"\"Hace click en un elemento\n",
    "\n",
    "    Args:\n",
    "        query (str): Busqueda a realizar del elemento\n",
    "        driver (WebDriver): WebDriver\n",
    "    \"\"\"\n",
    "    if not kargs.get(\"needsWait\",False):\n",
    "        waitFinishLoad(driver,kargs.get(\"idLoader\",None),by=kargs.get(\"by\",By.ID),needsWait=kargs.get(\"needsWait\",False))\n",
    "    if kargs.get(\"screenshot\"):\n",
    "        screenshot(driver,kargs.get(\"screenshot\"))\n",
    "    element=driver.find_element(kargs.get(\"byq\",By.XPATH),query)\n",
    "    element.click()\n",
    "    waitFinishLoad(driver,kargs.get(\"idLoader\",None),by=kargs.get(\"by\",By.ID),needsWait=kargs.get(\"needsWait\",False))\n",
    "    return element\n",
    "\n",
    "\n",
    "def elementsBy(query,driver,**kargs):\n",
    "    \"\"\"Devuelve una lista de elements dependiendo de la consulta\n",
    "\n",
    "    Args:\n",
    "        query (str): Busqueda a realizar del elemento\n",
    "        driver (WebDriver): WebDriver\n",
    "\n",
    "    Returns:\n",
    "        List<Element>: Lista de elementos\n",
    "    \"\"\"\n",
    "    if not kargs.get(\"needsWait\",False):\n",
    "        waitFinishLoad(driver,kargs.get(\"idLoader\",None),by=kargs.get(\"by\",By.ID),needsWait=kargs.get(\"needsWait\",False))\n",
    "    element=driver.find_elements(kargs.get(\"byq\",By.XPATH),query)\n",
    "    waitFinishLoad(driver,kargs.get(\"idLoader\",None),by=kargs.get(\"by\",By.ID),needsWait=kargs.get(\"needsWait\",False))\n",
    "    return element\n",
    "\n",
    "\n",
    "def clickEvent(driver,element,**kargs):\n",
    "    \"\"\"Click en un elemento que funciona con evento\n",
    "\n",
    "    Args:\n",
    "        driver (WebDriver): WebDriver\n",
    "        element (Element): Elemento que tiene el evento\n",
    "    \"\"\"\n",
    "    if not kargs.get(\"needsWait\",False):\n",
    "        waitFinishLoad(driver,kargs.get(\"idLoader\",None),by=kargs.get(\"by\",By.ID),needsWait=kargs.get(\"needsWait\",False))\n",
    "    if kargs.get(\"normal\",False):\n",
    "        element.click\n",
    "    else:\n",
    "        try:\n",
    "            driver.execute_script(element.get_dom_attribute(\"onClick\"))\n",
    "        except:\n",
    "            element.click\n",
    "    waitFinishLoad(driver,kargs.get(\"idLoader\",None),by=kargs.get(\"by\",By.ID),needsWait=kargs.get(\"needsWait\",False))\n",
    "    if kargs.get(\"screenshot\"):\n",
    "        screenshot(driver,kargs.get(\"screenshot\"))\n",
    "\n",
    "    \n",
    "def clickElement(driver,element,**kargs):\n",
    "    \"\"\"Click en un elemento que funciona con evento\n",
    "\n",
    "    Args:\n",
    "        driver (WebDriver): WebDriver\n",
    "        element (Element): Elemento que tiene el evento\n",
    "    \"\"\"\n",
    "\n",
    "\n",
    "def goToNextPage(driver):\n",
    "    \"\"\"Cambia de página en la pantalla de siguiente\n",
    "\n",
    "    Args:\n",
    "        driver (WebDriver): WebDriver\n",
    "    \"\"\"\n",
    "    element=elementBy(\"//input[@value='Siguiente']\",driver,idLoader=\"//table[@id='myTablaBusquedaCustom']\",by=By.XPATH)\n",
    "    driver.execute_script(\"arguments[0].scrollIntoView();\", element)\n",
    "    element.click()\n",
    "\n",
    "\n",
    "def checkEndPage(driver,**kargs):\n",
    "    \"\"\"Comprueba si es el final y no hay más siguiente devuelve un booleano\n",
    "\n",
    "    Args:\n",
    "        driver (WebDriver): WebDriver\n",
    "\n",
    "    Returns:\n",
    "        Bool: True si es el final o False si no es\n",
    "    \"\"\"\n",
    "    element=elementBy(\"//input[@value='Siguiente']\",driver,idLoader=\"//table[@id='myTablaBusquedaCustom']\",by=By.XPATH)\n",
    "    if kargs.get(\"screenshot\"):\n",
    "        if element:\n",
    "            driver.execute_script(\"arguments[0].scrollIntoView();\", element)\n",
    "        else:\n",
    "            driver.execute_script(\"arguments[0].scrollIntoView();\", elementBy(\"//input[@value='Último']\",driver))\n",
    "        screenshot(driver,kargs.get(\"screenshot\"))\n",
    "    if element:\n",
    "        return True\n",
    "    return False\n",
    "\n",
    "\n",
    "def screenshot(driver,filename):\n",
    "    \"\"\"Saca la captura de pantalla y lo guarda en la ruta Imagenes\n",
    "\n",
    "    Args:\n",
    "        driver (WebDriver): WebDriver\n",
    "        filename (str): Nombre de la captura de pantalla\n",
    "    \"\"\"\n",
    "    if filename:\n",
    "        driver.save_screenshot(path+filename)"
   ]
  },
  {
   "cell_type": "markdown",
   "metadata": {},
   "source": [
    "# Scrapping"
   ]
  },
  {
   "cell_type": "markdown",
   "metadata": {},
   "source": [
    "Entramos en la ruta de la contratación del estado"
   ]
  },
  {
   "cell_type": "code",
   "execution_count": 139,
   "metadata": {},
   "outputs": [],
   "source": [
    "driver.get(\"https://contrataciondelestado.es\")\n"
   ]
  },
  {
   "cell_type": "markdown",
   "metadata": {},
   "source": [
    "Vamos al apartado de públicaciones"
   ]
  },
  {
   "cell_type": "code",
   "execution_count": 140,
   "metadata": {},
   "outputs": [],
   "source": [
    "elementBy(\"//a[@title='Buscar publicaciones']\",driver,idLoader=\"footer-newShow\",screenshot=\"Inicio.png\").click()"
   ]
  },
  {
   "cell_type": "markdown",
   "metadata": {},
   "source": [
    "Vamos al apartado de licitaciones"
   ]
  },
  {
   "cell_type": "code",
   "execution_count": 141,
   "metadata": {},
   "outputs": [],
   "source": [
    "# No es un enlace cualquiera, este esta gestionado por un script que controlaremos por código \n",
    "\n",
    "licitacion=elementBy(\"//div[@class='divLogo']/a\",driver,idLoader=\"footer-newShow\",screenshot=\"Busca.png\")\n",
    "\n",
    "clickEvent(driver,licitacion)"
   ]
  },
  {
   "cell_type": "markdown",
   "metadata": {},
   "source": [
    "Le damos al texto de búsqueda avanzada"
   ]
  },
  {
   "cell_type": "code",
   "execution_count": 142,
   "metadata": {},
   "outputs": [],
   "source": [
    "busqueda_avanzada=elementBy(\"//div[@class='capaAvanzada']/a\",driver,by=By.XPATH,idLoader=\"//div[@class='capaAvanzada']\",screenshot=\"Formulario.png\")\n",
    "\n",
    "clickEvent(driver,busqueda_avanzada)"
   ]
  },
  {
   "cell_type": "markdown",
   "metadata": {},
   "source": [
    "Y seleccionamos el elemento seleccionar para ir a la zona de Organización contratante"
   ]
  },
  {
   "cell_type": "code",
   "execution_count": 143,
   "metadata": {},
   "outputs": [],
   "source": [
    "seleccionar=elementBy(\"//div[@class='inlinebloque   ']/a\",driver,by=By.XPATH,idLoader=\"//div[@class='inlinebloque   ']/a\",screenshot=\"FormularioAvanzado.png\")\n",
    "clickEvent(driver,seleccionar)"
   ]
  },
  {
   "cell_type": "markdown",
   "metadata": {},
   "source": [
    "Definición método en búcle de la lista para obtener el último apartado (Coruña)"
   ]
  },
  {
   "cell_type": "code",
   "execution_count": 144,
   "metadata": {},
   "outputs": [],
   "source": [
    "def get_corunha(list,driver,i=2):\n",
    "    \"\"\"_summary_\n",
    "\n",
    "    Args:\n",
    "        list (_type_): _description_\n",
    "        driver (_type_): _description_\n",
    "        i (int, optional): _description_. Defaults to 2.\n",
    "    \"\"\"\n",
    "    driver.save_screenshot(path+f\"Sector-{list[i-2] if len(list)!=i-1 else f'{list[i-2]}2'}.png\")\n",
    "    if i-2<len(list):\n",
    "        q=f\"//*[text()='{list[i-2]}']\"\n",
    "        if len(list)!=i-1:\n",
    "            q+=\"/../..\"\n",
    "            query=f\"{q}/td[{i}]\"\n",
    "            total = f\"{q}/../../../..\" if i!=2 else 'footer-newShow'\n",
    "        else:\n",
    "            query=q\n",
    "            q2=f\"{q}/../..\"\n",
    "            total = f\"{q2}/../../../..\"\n",
    "        if len(list)!=i-1:\n",
    "            elementByClick(query,driver,by=By.XPATH if i!=2 else By.ID,idLoader=total)\n",
    "        else:\n",
    "            return elementsBy(query,driver,by=By.XPATH if i!=2 else By.ID,idLoader=total)\n",
    "        if i-1!=len(list):\n",
    "            return get_corunha(list,driver,i+1)"
   ]
  },
  {
   "cell_type": "markdown",
   "metadata": {},
   "source": [
    "Esperamos a que cargue el primer elemento y en forma de bucle vamos esperando que el elemento cargue la lista que tiene abajo en forma de \"Tree\" y vaya abriendo de manera repetitiva, hasta obtener el último elemento y le daremos click al texto.\n",
    "Tras esto le diremos que escoja el primer órgano de contratación y le damos a añadir"
   ]
  },
  {
   "cell_type": "code",
   "execution_count": 145,
   "metadata": {},
   "outputs": [
    {
     "data": {
      "text/plain": [
       "<selenium.webdriver.remote.webelement.WebElement (session=\"554e7560-fd0e-45b2-83a8-8d757e21b12b\", element=\"be3540ba-ab29-4684-8c13-2422264fa8c1\")>"
      ]
     },
     "execution_count": 145,
     "metadata": {},
     "output_type": "execute_result"
    }
   ],
   "source": [
    "waitFinishLoad(driver,by=By.XPATH,idLoader=\"//*[text()='ENTIDADES LOCALES']\")\n",
    "get_corunha(['ENTIDADES LOCALES','Galicia','A Coruña','Ayuntamientos','A Coruña'],driver)[1].click()\n",
    "elementByClick(\"//span/select/option[1]\",driver,idLoader=\"//span/select/option[1]\",by=By.XPATH)\n",
    "elementByClick(\"//*[@value='Añadir']\",driver)"
   ]
  },
  {
   "cell_type": "markdown",
   "metadata": {},
   "source": [
    "Le damos al botón de buscar"
   ]
  },
  {
   "cell_type": "code",
   "execution_count": 146,
   "metadata": {},
   "outputs": [
    {
     "data": {
      "text/plain": [
       "<selenium.webdriver.remote.webelement.WebElement (session=\"554e7560-fd0e-45b2-83a8-8d757e21b12b\", element=\"7fc2f784-5076-4d25-a742-2cf6a56cfe4d\")>"
      ]
     },
     "execution_count": 146,
     "metadata": {},
     "output_type": "execute_result"
    }
   ],
   "source": [
    "elementByClick(\"//*[@title='Buscar']\",driver,idLoader=\"//*[@title='Buscar']\",by=By.XPATH)"
   ]
  },
  {
   "cell_type": "markdown",
   "metadata": {},
   "source": [
    "Y le decimos en un bucle que vaya añadiendo a un DataFrame los valores de la tabla y que si es la última pare el bucle\n",
    "\n",
    "También entra en cada uno de los expedientes y saca captura\n",
    "\n",
    "*Solo las dos primeras para probar, si se quitara el if hace de todas hasta el final*"
   ]
  },
  {
   "cell_type": "code",
   "execution_count": 147,
   "metadata": {},
   "outputs": [
    {
     "name": "stdout",
     "output_type": "stream",
     "text": [
      "NO LE DIÓ TIEMPO, se saltará el 1-0\n",
      "NO LE DIÓ TIEMPO, se saltará el 1-1\n"
     ]
    },
    {
     "ename": "InvalidSessionIdException",
     "evalue": "Message: WebDriver session does not exist, or is not active\nStacktrace:\nRemoteError@chrome://remote/content/shared/RemoteError.sys.mjs:8:8\nWebDriverError@chrome://remote/content/shared/webdriver/Errors.sys.mjs:191:5\nInvalidSessionIDError@chrome://remote/content/shared/webdriver/Errors.sys.mjs:446:5\nassert.that/<@chrome://remote/content/shared/webdriver/Assert.sys.mjs:485:13\nassert.session@chrome://remote/content/shared/webdriver/Assert.sys.mjs:37:4\ndespatch@chrome://remote/content/marionette/server.sys.mjs:315:19\nexecute@chrome://remote/content/marionette/server.sys.mjs:289:16\nonPacket/<@chrome://remote/content/marionette/server.sys.mjs:262:20\nonPacket@chrome://remote/content/marionette/server.sys.mjs:263:9\n_onJSONObjectReady/<@chrome://remote/content/marionette/transport.sys.mjs:494:20\n",
     "output_type": "error",
     "traceback": [
      "\u001b[1;31m---------------------------------------------------------------------------\u001b[0m",
      "\u001b[1;31mInvalidSessionIdException\u001b[0m                 Traceback (most recent call last)",
      "\u001b[1;32mc:\\Users\\diego.guizanlopez\\Documents\\BigDataEIa\\Big_Data\\Sitemas_De_Big_Data\\2_Trimestre\\Web-Scraping\\Scraping-Concello\\scraping-concello.ipynb Celda 28\u001b[0m line \u001b[0;36m3\n\u001b[0;32m     <a href='vscode-notebook-cell:/c%3A/Users/diego.guizanlopez/Documents/BigDataEIa/Big_Data/Sitemas_De_Big_Data/2_Trimestre/Web-Scraping/Scraping-Concello/scraping-concello.ipynb#X36sZmlsZQ%3D%3D?line=30'>31</a>\u001b[0m         \u001b[39mexcept\u001b[39;00m:\n\u001b[0;32m     <a href='vscode-notebook-cell:/c%3A/Users/diego.guizanlopez/Documents/BigDataEIa/Big_Data/Sitemas_De_Big_Data/2_Trimestre/Web-Scraping/Scraping-Concello/scraping-concello.ipynb#X36sZmlsZQ%3D%3D?line=31'>32</a>\u001b[0m             \u001b[39mprint\u001b[39m(\u001b[39mf\u001b[39m\u001b[39m\"\u001b[39m\u001b[39mNO LE DIÓ TIEMPO, se saltará el \u001b[39m\u001b[39m{\u001b[39;00mi\u001b[39m}\u001b[39;00m\u001b[39m-\u001b[39m\u001b[39m{\u001b[39;00mx\u001b[39m}\u001b[39;00m\u001b[39m\"\u001b[39m)\n\u001b[1;32m---> <a href='vscode-notebook-cell:/c%3A/Users/diego.guizanlopez/Documents/BigDataEIa/Big_Data/Sitemas_De_Big_Data/2_Trimestre/Web-Scraping/Scraping-Concello/scraping-concello.ipynb#X36sZmlsZQ%3D%3D?line=32'>33</a>\u001b[0m         driver\u001b[39m.\u001b[39;49mget(url)\n\u001b[0;32m     <a href='vscode-notebook-cell:/c%3A/Users/diego.guizanlopez/Documents/BigDataEIa/Big_Data/Sitemas_De_Big_Data/2_Trimestre/Web-Scraping/Scraping-Concello/scraping-concello.ipynb#X36sZmlsZQ%3D%3D?line=33'>34</a>\u001b[0m \u001b[39m#endregion\u001b[39;00m\n\u001b[0;32m     <a href='vscode-notebook-cell:/c%3A/Users/diego.guizanlopez/Documents/BigDataEIa/Big_Data/Sitemas_De_Big_Data/2_Trimestre/Web-Scraping/Scraping-Concello/scraping-concello.ipynb#X36sZmlsZQ%3D%3D?line=35'>36</a>\u001b[0m \u001b[39mif\u001b[39;00m \u001b[39mnot\u001b[39;00m checkEndPage(driver,screenshot\u001b[39m=\u001b[39m\u001b[39mf\u001b[39m\u001b[39m\"\u001b[39m\u001b[39mExpedientes/Tablas/PaginaTabla\u001b[39m\u001b[39m{\u001b[39;00mi\u001b[39m}\u001b[39;00m\u001b[39m.png\u001b[39m\u001b[39m\"\u001b[39m):\n",
      "File \u001b[1;32mc:\\Users\\diego.guizanlopez\\AppData\\Local\\miniconda3\\envs\\bigdata\\lib\\site-packages\\selenium\\webdriver\\remote\\webdriver.py:357\u001b[0m, in \u001b[0;36mWebDriver.get\u001b[1;34m(self, url)\u001b[0m\n\u001b[0;32m    355\u001b[0m \u001b[39mdef\u001b[39;00m \u001b[39mget\u001b[39m(\u001b[39mself\u001b[39m, url: \u001b[39mstr\u001b[39m) \u001b[39m-\u001b[39m\u001b[39m>\u001b[39m \u001b[39mNone\u001b[39;00m:\n\u001b[0;32m    356\u001b[0m \u001b[39m    \u001b[39m\u001b[39m\"\"\"Loads a web page in the current browser session.\"\"\"\u001b[39;00m\n\u001b[1;32m--> 357\u001b[0m     \u001b[39mself\u001b[39;49m\u001b[39m.\u001b[39;49mexecute(Command\u001b[39m.\u001b[39;49mGET, {\u001b[39m\"\u001b[39;49m\u001b[39murl\u001b[39;49m\u001b[39m\"\u001b[39;49m: url})\n",
      "File \u001b[1;32mc:\\Users\\diego.guizanlopez\\AppData\\Local\\miniconda3\\envs\\bigdata\\lib\\site-packages\\selenium\\webdriver\\remote\\webdriver.py:348\u001b[0m, in \u001b[0;36mWebDriver.execute\u001b[1;34m(self, driver_command, params)\u001b[0m\n\u001b[0;32m    346\u001b[0m response \u001b[39m=\u001b[39m \u001b[39mself\u001b[39m\u001b[39m.\u001b[39mcommand_executor\u001b[39m.\u001b[39mexecute(driver_command, params)\n\u001b[0;32m    347\u001b[0m \u001b[39mif\u001b[39;00m response:\n\u001b[1;32m--> 348\u001b[0m     \u001b[39mself\u001b[39;49m\u001b[39m.\u001b[39;49merror_handler\u001b[39m.\u001b[39;49mcheck_response(response)\n\u001b[0;32m    349\u001b[0m     response[\u001b[39m\"\u001b[39m\u001b[39mvalue\u001b[39m\u001b[39m\"\u001b[39m] \u001b[39m=\u001b[39m \u001b[39mself\u001b[39m\u001b[39m.\u001b[39m_unwrap_value(response\u001b[39m.\u001b[39mget(\u001b[39m\"\u001b[39m\u001b[39mvalue\u001b[39m\u001b[39m\"\u001b[39m, \u001b[39mNone\u001b[39;00m))\n\u001b[0;32m    350\u001b[0m     \u001b[39mreturn\u001b[39;00m response\n",
      "File \u001b[1;32mc:\\Users\\diego.guizanlopez\\AppData\\Local\\miniconda3\\envs\\bigdata\\lib\\site-packages\\selenium\\webdriver\\remote\\errorhandler.py:229\u001b[0m, in \u001b[0;36mErrorHandler.check_response\u001b[1;34m(self, response)\u001b[0m\n\u001b[0;32m    227\u001b[0m         alert_text \u001b[39m=\u001b[39m value[\u001b[39m\"\u001b[39m\u001b[39malert\u001b[39m\u001b[39m\"\u001b[39m]\u001b[39m.\u001b[39mget(\u001b[39m\"\u001b[39m\u001b[39mtext\u001b[39m\u001b[39m\"\u001b[39m)\n\u001b[0;32m    228\u001b[0m     \u001b[39mraise\u001b[39;00m exception_class(message, screen, stacktrace, alert_text)  \u001b[39m# type: ignore[call-arg]  # mypy is not smart enough here\u001b[39;00m\n\u001b[1;32m--> 229\u001b[0m \u001b[39mraise\u001b[39;00m exception_class(message, screen, stacktrace)\n",
      "\u001b[1;31mInvalidSessionIdException\u001b[0m: Message: WebDriver session does not exist, or is not active\nStacktrace:\nRemoteError@chrome://remote/content/shared/RemoteError.sys.mjs:8:8\nWebDriverError@chrome://remote/content/shared/webdriver/Errors.sys.mjs:191:5\nInvalidSessionIDError@chrome://remote/content/shared/webdriver/Errors.sys.mjs:446:5\nassert.that/<@chrome://remote/content/shared/webdriver/Assert.sys.mjs:485:13\nassert.session@chrome://remote/content/shared/webdriver/Assert.sys.mjs:37:4\ndespatch@chrome://remote/content/marionette/server.sys.mjs:315:19\nexecute@chrome://remote/content/marionette/server.sys.mjs:289:16\nonPacket/<@chrome://remote/content/marionette/server.sys.mjs:262:20\nonPacket@chrome://remote/content/marionette/server.sys.mjs:263:9\n_onJSONObjectReady/<@chrome://remote/content/marionette/transport.sys.mjs:494:20\n"
     ]
    }
   ],
   "source": [
    "from io import StringIO\n",
    "from bs4 import BeautifulSoup\n",
    "import pandas as pd\n",
    "\n",
    "\n",
    "dfT = pd.DataFrame([])\n",
    "i=0\n",
    "while(True):\n",
    "\n",
    "    #region DataFrame\n",
    "    waitFinishLoad(driver,by=By.XPATH,idLoader=\"//div/span[text()='Importe']\")\n",
    "    i+=1\n",
    "    url = driver.current_url\n",
    "    soup=BeautifulSoup(driver.page_source,'html.parser')\n",
    "    df=pd.read_html(StringIO(str(soup.find(id=\"myTablaBusquedaCustom\"))))[0]\n",
    "    df=df[~df.iloc[:,0].str.startswith('Página')]\n",
    "    dfT=pd.concat([dfT,df])\n",
    "    #endregion\n",
    "    \n",
    "    #region Expediente Independiente\n",
    "    if i<3: # SE TENDRÍA QUE BORRAR LA LÍNEA PARA SACAR CAPTURAS DE TODOS LOS EXPEDIENTES, SOLO SON LAS DOS PRIMERAS PÁGINAS\n",
    "        elements = elementsBy(\"//tbody/tr/td/div/a[1]\",driver)\n",
    "        for x in range(len(elements)):\n",
    "            element = elementsBy(\"//tbody/tr/td/div/a[1]\",driver,by=By.XPATH,idLoader=\"//div/span[text()='Importe']\",needsWait=False)\n",
    "            #print(element.get_dom_attributte(\"href\"))\n",
    "            clickEvent(driver,element[x])\n",
    "            #driver.execute_script(f\"window.open('{element[x].get_dom_attribute('href')}')\")\n",
    "            try:\n",
    "                waitFinishLoad(driver,by=By.XPATH,idLoader=\"//ul/li/span[text()='Expediente:']\",needsWait=False)\n",
    "                screenshot(driver,f\"Expedientes/ExpIndiv/expediente-P{i}-{x}.png\")\n",
    "            except:\n",
    "                print(f\"NO LE DIÓ TIEMPO, se saltará el {i}-{x}\")\n",
    "            driver.get(url)\n",
    "    #endregion\n",
    "\n",
    "    if not checkEndPage(driver,screenshot=f\"Expedientes/Tablas/PaginaTabla{i}.png\"):\n",
    "        break\n",
    "    goToNextPage(driver)"
   ]
  },
  {
   "cell_type": "markdown",
   "metadata": {},
   "source": [
    "Limpiamos un poco las columnas y le decimos que si hay una minúscula más una mayúscula juntas que añada un /n, esto significa que debería haber un salto de línea y remplazamos las , y . para que no de problemas el Float"
   ]
  },
  {
   "cell_type": "code",
   "execution_count": null,
   "metadata": {},
   "outputs": [],
   "source": [
    "from numpy import float64\n",
    "\n",
    "\n",
    "for i in dfT.columns:\n",
    "    dfT[i] = dfT[i].str.replace(r'(?<![A-Z \"“()])([A-Z]+)', lambda x: f\"\\\\n{x.group(1)}\" if x.start() != 0 else x.group(1), regex=True)\n",
    "\n",
    "dfT['Importe'] = dfT['Importe'].apply(lambda x: float(x.replace('.', '').replace(',', '.')))\n"
   ]
  },
  {
   "cell_type": "markdown",
   "metadata": {},
   "source": [
    "Le decimos que rellene los valores con 0 en este caso los floats y para el resto que sean nulos"
   ]
  },
  {
   "cell_type": "code",
   "execution_count": null,
   "metadata": {},
   "outputs": [],
   "source": [
    "import numpy as np\n",
    "\n",
    "\n",
    "dfT['Importe']=dfT['Importe'].fillna(0.0)\n",
    "dfT = dfT.replace({np.nan: None})"
   ]
  },
  {
   "cell_type": "markdown",
   "metadata": {},
   "source": [
    "Instalamos SQL Server en un docker \n",
    "\n",
    "**SQL Server**\n",
    "\n",
    "- docker run -e \"ACCEPT_EULA=Y\" -e \"MSSQL_SA_PASSWORD=Abcd1234.\" -e \"MSSQL_PID=Evaluation\" -p 41433:1433  --name sqlpreview --hostname sqlpreview -d mcr.microsoft.com/mssql/server:2022-preview-ubuntu-22.04\n",
    "\n",
    "Teniendo en cuenta que la contraseña tiene que tener 8 caracteres y mayúscula"
   ]
  },
  {
   "cell_type": "markdown",
   "metadata": {},
   "source": [
    "Instalamos pyodbc para manejar el SQL Server"
   ]
  },
  {
   "cell_type": "code",
   "execution_count": null,
   "metadata": {},
   "outputs": [],
   "source": [
    "#!conda install -c conda-forge -y pyodbc"
   ]
  },
  {
   "cell_type": "markdown",
   "metadata": {},
   "source": [
    "\n",
    "# Instalación Driver\n",
    "## **WINDOWS**\n",
    "\n",
    "Instalar el Driver desde la página del enlace con la versión 18\n",
    "\n",
    "<a href=\"https://learn.microsoft.com/en-us/sql/connect/odbc/download-odbc-driver-for-sql-server?view=sql-server-ver16#download-for-windows\">ODBC Driver .msi para Windows</a>\n",
    "\n",
    "## **DEBIAN**\n",
    "\n",
    "curl https://packages.microsoft.com/keys/microsoft.asc | sudo tee /etc/apt/trusted.gpg.d/microsoft.asc\n",
    "\n",
    "Escoja la versión necesaria para la instalación\n",
    "### Debian 9\n",
    "\n",
    "curl https://packages.microsoft.com/config/debian/9/prod.list | sudo tee /etc/apt/sources.list.d/mssql-release.list\n",
    "### Debian 10\n",
    "\n",
    "curl https://packages.microsoft.com/config/debian/10/prod.list | sudo tee /etc/apt/sources.list.d/mssql-release.list\n",
    "### Debian 11\n",
    "\n",
    "curl https://packages.microsoft.com/config/debian/11/prod.list | sudo tee /etc/apt/sources.list.d/mssql-release.list\n",
    "### Debian 12\n",
    "\n",
    "curl https://packages.microsoft.com/config/debian/12/prod.list | sudo tee /etc/apt/sources.list.d/mssql-release.list\n",
    "\n",
    "sudo apt-get update sudo ACCEPT_EULA=Y apt-get install -y msodbcsql18\n",
    "\n",
    "**optional: for bcp and sqlcmd**\n",
    "\n",
    "sudo ACCEPT_EULA=Y apt-get install -y mssql-tools18 echo 'export PATH=\"$PATH:/opt/mssql-tools18/bin\"' >> ~/.bashrc source ~/.bashrc\n",
    "\n",
    "**optional: for unixODBC development headers**\n",
    "\n",
    "sudo apt-get install -y unixodbc-dev\n",
    "\n",
    "**optional: kerberos library for debian-slim distributions**\n",
    "\n",
    "sudo apt-get install -y libgssapi-krb5-2\n",
    "\n",
    "© MicrosoftDocs"
   ]
  },
  {
   "cell_type": "markdown",
   "metadata": {},
   "source": [
    "# Manejo SQL Server"
   ]
  },
  {
   "cell_type": "markdown",
   "metadata": {},
   "source": [
    "Inicializamos la conexión con el ODBC 18 descrgado anteriormente"
   ]
  },
  {
   "cell_type": "code",
   "execution_count": null,
   "metadata": {},
   "outputs": [],
   "source": [
    "import pyodbc\n",
    "\n",
    "connectionString = f'DRIVER={{ODBC Driver 18 for SQL Server}};SERVER=10.133.29.57,41433;DATABASE=Concellos;UID=sa;PWD=Abcd1234.;Encrypt=no'\n",
    "conexion = pyodbc.connect(connectionString)"
   ]
  },
  {
   "cell_type": "markdown",
   "metadata": {},
   "source": [
    "Eliminamos en este caso la tabla si existe para no repetir datos"
   ]
  },
  {
   "cell_type": "code",
   "execution_count": null,
   "metadata": {},
   "outputs": [],
   "source": [
    "\n",
    "cursor = conexion.cursor()\n",
    "cursor.execute(\"\"\"Drop TABLE if exists ConcelloDatos\"\"\")\n",
    "cursor.commit()"
   ]
  },
  {
   "cell_type": "markdown",
   "metadata": {},
   "source": [
    "Creamos la tabla con los valores, siendo las tablas con [] nombres con espacios"
   ]
  },
  {
   "cell_type": "code",
   "execution_count": null,
   "metadata": {},
   "outputs": [],
   "source": [
    "cursor = conexion.cursor()\n",
    "cursor.execute(\"\"\"CREATE TABLE Concellos.dbo.ConcelloDatos (\n",
    "\t              Expediente varchar(800) NULL,\n",
    "\t              [Tipo de Contrato] varchar(400) NULL,\n",
    "\t              Estado varchar(50) NULL,\n",
    "\t              Importe decimal(38,0) NULL,\n",
    "\t              Fechas varchar(200) NULL,\n",
    "\t              [Órgano de Contratación] varchar(100) NULL\n",
    ")\n",
    "\"\"\")\n",
    "cursor.commit()"
   ]
  },
  {
   "cell_type": "markdown",
   "metadata": {},
   "source": [
    "Ejecutamos un executemany para jugar un PreparedStatment es decir una consulta con parámetros y le pasamos los valores del DataFrame"
   ]
  },
  {
   "cell_type": "code",
   "execution_count": null,
   "metadata": {},
   "outputs": [],
   "source": [
    "cursor.executemany(\"\"\"\n",
    "                   INSERT INTO ConcelloDatos(Expediente,[Tipo de Contrato],Estado,Importe,Fechas,[Órgano de Contratación])\n",
    "                   Values (?,?,?,?,?,?)\n",
    "\"\"\",dfT.values.tolist())\n",
    "cursor.commit()\n",
    "\n",
    "#SQL ALCHEMY\n",
    "#dfT.to_sql(\"ConcelloDatos\",connectionString)"
   ]
  },
  {
   "cell_type": "markdown",
   "metadata": {},
   "source": [
    "Hacemos un Select * de prueba y vemos por ejemplo la columna \"Expediente\""
   ]
  },
  {
   "cell_type": "code",
   "execution_count": null,
   "metadata": {},
   "outputs": [],
   "source": [
    "cursor.execute(\"\"\"\n",
    "                Select * \n",
    "                From ConcelloDatos\n",
    "\"\"\")\n",
    "tuplas = cursor.fetchall()\n",
    "for tupla in tuplas:\n",
    "    print(tupla.Expediente)"
   ]
  },
  {
   "cell_type": "markdown",
   "metadata": {},
   "source": [
    "Cerramos la conexión a SQL Server y su Cursor"
   ]
  },
  {
   "cell_type": "code",
   "execution_count": null,
   "metadata": {},
   "outputs": [],
   "source": [
    "cursor.close()\n",
    "conexion.close()"
   ]
  }
 ],
 "metadata": {
  "kernelspec": {
   "display_name": "bigdata",
   "language": "python",
   "name": "python3"
  },
  "language_info": {
   "codemirror_mode": {
    "name": "ipython",
    "version": 3
   },
   "file_extension": ".py",
   "mimetype": "text/x-python",
   "name": "python",
   "nbconvert_exporter": "python",
   "pygments_lexer": "ipython3",
   "version": "3.8.18"
  }
 },
 "nbformat": 4,
 "nbformat_minor": 2
}
