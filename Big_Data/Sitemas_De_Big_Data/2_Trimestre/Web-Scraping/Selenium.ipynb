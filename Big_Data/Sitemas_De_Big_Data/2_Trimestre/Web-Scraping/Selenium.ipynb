{
 "cells": [
  {
   "cell_type": "markdown",
   "metadata": {},
   "source": [
    "# **Introducción a Selenium**"
   ]
  },
  {
   "cell_type": "markdown",
   "metadata": {},
   "source": [
    "**Instalamos pip**\n",
    "\n",
    "**Instalamos selenium**\n",
    "\n",
    "**Instalamos webdriver_manager para manejar entornas web**"
   ]
  },
  {
   "cell_type": "code",
   "execution_count": null,
   "metadata": {},
   "outputs": [],
   "source": [
    "!conda install -y pip\n",
    "!conda install -c conda-forge selenium=4.16\n",
    "!pip install webdriver_manager"
   ]
  }
 ],
 "metadata": {
  "kernelspec": {
   "display_name": "bigdata",
   "language": "python",
   "name": "python3"
  },
  "language_info": {
   "name": "python",
   "version": "3.8.18"
  }
 },
 "nbformat": 4,
 "nbformat_minor": 2
}
