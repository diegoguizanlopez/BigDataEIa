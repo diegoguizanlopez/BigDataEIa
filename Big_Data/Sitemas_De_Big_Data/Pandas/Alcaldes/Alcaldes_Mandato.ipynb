{
 "cells": [
  {
   "cell_type": "code",
   "execution_count": 3,
   "metadata": {},
   "outputs": [],
   "source": [
    "import pathlib\n",
    "XSLX=str(pathlib.Path().resolve())+\"/XSLX\"\n",
    "from os import listdir\n",
    "from os.path import isfile, join\n",
    "ficherosXSLX = [f for f in listdir(XSLX) if isfile(join(XSLX, f))]"
   ]
  },
  {
   "cell_type": "code",
   "execution_count": 36,
   "metadata": {},
   "outputs": [
    {
     "name": "stdout",
     "output_type": "stream",
     "text": [
      "Alcaldes 1979-1983\n",
      "Alcaldes 1983-1987\n",
      "Alcaldes 1987-1991\n",
      "Alcaldes 1991-1995\n",
      "Alcaldes 1995-1999\n",
      "Alcaldes 1999-2003\n",
      "Alcaldes 2003-2007\n",
      "Alcaldes 2007-2011\n",
      "Alcaldes 2011-2015\n",
      "Alcaldes 2015-2019\n",
      "Alcaldes 2019-2023\n"
     ]
    }
   ],
   "source": [
    "import pandas as pd\n",
    "\n",
    "\n",
    "def cargaAlcaldes(archivo, columna, fila, cabecera, nombreHoja):\n",
    "    return pd.read_excel(archivo, sheet_name=nombreHoja,\n",
    "         names=cabecera, usecols=columna, skiprows=fila)\n",
    "\n",
    "dfAlcaldes = pd.DataFrame([])\n",
    "\n",
    "for fichero in ficherosXSLX:\n",
    "    string = (fichero.replace(\".xlsx\",\"\")).split(\"_\")\n",
    "    string.pop(1)\n",
    "    ficheroIndividual = \"-\".join(string)\n",
    "    ficheroIndividual = ficheroIndividual.replace(\"-\",\" \",1)\n",
    "    print(ficheroIndividual)\n",
    "    dfAlcaldes = pd.concat([dfAlcaldes,\n",
    "                            cargaAlcaldes(XSLX+\"/\"+fichero,\"D:H\",8,\n",
    "        ['CCAA', 'PROVINCIA', 'MUNICIPIO', 'CODIGO INE', 'NOMBRE'], \"Alcaldes 2015-2019\" if ficheroIndividual == \"Alcaldes 2019-2023\" else ficheroIndividual)])\n",
    "\n",
    "\n"
   ]
  },
  {
   "cell_type": "code",
   "execution_count": 37,
   "metadata": {},
   "outputs": [
    {
     "ename": "KeyError",
     "evalue": "''",
     "output_type": "error",
     "traceback": [
      "\u001b[1;31m---------------------------------------------------------------------------\u001b[0m",
      "\u001b[1;31mKeyError\u001b[0m                                  Traceback (most recent call last)",
      "File \u001b[1;32mc:\\Users\\diego.guizanlopez\\AppData\\Local\\miniconda3\\envs\\bigdata\\lib\\site-packages\\pandas\\core\\indexes\\base.py:3653\u001b[0m, in \u001b[0;36mIndex.get_loc\u001b[1;34m(self, key)\u001b[0m\n\u001b[0;32m   3652\u001b[0m \u001b[39mtry\u001b[39;00m:\n\u001b[1;32m-> 3653\u001b[0m     \u001b[39mreturn\u001b[39;00m \u001b[39mself\u001b[39;49m\u001b[39m.\u001b[39;49m_engine\u001b[39m.\u001b[39;49mget_loc(casted_key)\n\u001b[0;32m   3654\u001b[0m \u001b[39mexcept\u001b[39;00m \u001b[39mKeyError\u001b[39;00m \u001b[39mas\u001b[39;00m err:\n",
      "File \u001b[1;32mc:\\Users\\diego.guizanlopez\\AppData\\Local\\miniconda3\\envs\\bigdata\\lib\\site-packages\\pandas\\_libs\\index.pyx:147\u001b[0m, in \u001b[0;36mpandas._libs.index.IndexEngine.get_loc\u001b[1;34m()\u001b[0m\n",
      "File \u001b[1;32mc:\\Users\\diego.guizanlopez\\AppData\\Local\\miniconda3\\envs\\bigdata\\lib\\site-packages\\pandas\\_libs\\index.pyx:176\u001b[0m, in \u001b[0;36mpandas._libs.index.IndexEngine.get_loc\u001b[1;34m()\u001b[0m\n",
      "File \u001b[1;32mpandas\\_libs\\hashtable_class_helper.pxi:7080\u001b[0m, in \u001b[0;36mpandas._libs.hashtable.PyObjectHashTable.get_item\u001b[1;34m()\u001b[0m\n",
      "File \u001b[1;32mpandas\\_libs\\hashtable_class_helper.pxi:7088\u001b[0m, in \u001b[0;36mpandas._libs.hashtable.PyObjectHashTable.get_item\u001b[1;34m()\u001b[0m\n",
      "\u001b[1;31mKeyError\u001b[0m: ''",
      "\nThe above exception was the direct cause of the following exception:\n",
      "\u001b[1;31mKeyError\u001b[0m                                  Traceback (most recent call last)",
      "\u001b[1;32mc:\\Users\\diego.guizanlopez\\Documents\\BigDataEIa\\Big_Data\\Sitemas_De_Big_Data\\Pandas\\Alcaldes\\Alcaldes_Mandato.ipynb Celda 3\u001b[0m line \u001b[0;36m7\n\u001b[0;32m      <a href='vscode-notebook-cell:/c%3A/Users/diego.guizanlopez/Documents/BigDataEIa/Big_Data/Sitemas_De_Big_Data/Pandas/Alcaldes/Alcaldes_Mandato.ipynb#W2sZmlsZQ%3D%3D?line=0'>1</a>\u001b[0m \u001b[39mfrom\u001b[39;00m \u001b[39mlocale\u001b[39;00m \u001b[39mimport\u001b[39;00m normalize\n\u001b[0;32m      <a href='vscode-notebook-cell:/c%3A/Users/diego.guizanlopez/Documents/BigDataEIa/Big_Data/Sitemas_De_Big_Data/Pandas/Alcaldes/Alcaldes_Mandato.ipynb#W2sZmlsZQ%3D%3D?line=1'>2</a>\u001b[0m \u001b[39mimport\u001b[39;00m \u001b[39mre\u001b[39;00m\n\u001b[0;32m      <a href='vscode-notebook-cell:/c%3A/Users/diego.guizanlopez/Documents/BigDataEIa/Big_Data/Sitemas_De_Big_Data/Pandas/Alcaldes/Alcaldes_Mandato.ipynb#W2sZmlsZQ%3D%3D?line=4'>5</a>\u001b[0m dfAlcaldes[\u001b[39m'\u001b[39m\u001b[39mNOMBRE NORMALIZADO\u001b[39m\u001b[39m'\u001b[39m]\u001b[39m=\u001b[39mre\u001b[39m.\u001b[39msub(\n\u001b[0;32m      <a href='vscode-notebook-cell:/c%3A/Users/diego.guizanlopez/Documents/BigDataEIa/Big_Data/Sitemas_De_Big_Data/Pandas/Alcaldes/Alcaldes_Mandato.ipynb#W2sZmlsZQ%3D%3D?line=5'>6</a>\u001b[0m         \u001b[39mr\u001b[39m\u001b[39m\"\u001b[39m\u001b[39m([^n\u001b[39m\u001b[39m\\\u001b[39m\u001b[39mu0300-\u001b[39m\u001b[39m\\\u001b[39m\u001b[39mu036f]|n(?!\u001b[39m\u001b[39m\\\u001b[39m\u001b[39mu0303(?![\u001b[39m\u001b[39m\\\u001b[39m\u001b[39mu0300-\u001b[39m\u001b[39m\\\u001b[39m\u001b[39mu036f])))[\u001b[39m\u001b[39m\\\u001b[39m\u001b[39mu0300-\u001b[39m\u001b[39m\\\u001b[39m\u001b[39mu036f]+\u001b[39m\u001b[39m\"\u001b[39m, \u001b[39mr\u001b[39m\u001b[39m\"\u001b[39m\u001b[39m\\\u001b[39m\u001b[39m1\u001b[39m\u001b[39m\"\u001b[39m, \n\u001b[1;32m----> <a href='vscode-notebook-cell:/c%3A/Users/diego.guizanlopez/Documents/BigDataEIa/Big_Data/Sitemas_De_Big_Data/Pandas/Alcaldes/Alcaldes_Mandato.ipynb#W2sZmlsZQ%3D%3D?line=6'>7</a>\u001b[0m         normalize( \u001b[39m\"\u001b[39m\u001b[39mNFD\u001b[39m\u001b[39m\"\u001b[39m, dfAlcaldes[\u001b[39m'\u001b[39;49m\u001b[39m'\u001b[39;49m]), \u001b[39m0\u001b[39m, re\u001b[39m.\u001b[39mI\n\u001b[0;32m      <a href='vscode-notebook-cell:/c%3A/Users/diego.guizanlopez/Documents/BigDataEIa/Big_Data/Sitemas_De_Big_Data/Pandas/Alcaldes/Alcaldes_Mandato.ipynb#W2sZmlsZQ%3D%3D?line=7'>8</a>\u001b[0m     )\n",
      "File \u001b[1;32mc:\\Users\\diego.guizanlopez\\AppData\\Local\\miniconda3\\envs\\bigdata\\lib\\site-packages\\pandas\\core\\frame.py:3761\u001b[0m, in \u001b[0;36mDataFrame.__getitem__\u001b[1;34m(self, key)\u001b[0m\n\u001b[0;32m   3759\u001b[0m \u001b[39mif\u001b[39;00m \u001b[39mself\u001b[39m\u001b[39m.\u001b[39mcolumns\u001b[39m.\u001b[39mnlevels \u001b[39m>\u001b[39m \u001b[39m1\u001b[39m:\n\u001b[0;32m   3760\u001b[0m     \u001b[39mreturn\u001b[39;00m \u001b[39mself\u001b[39m\u001b[39m.\u001b[39m_getitem_multilevel(key)\n\u001b[1;32m-> 3761\u001b[0m indexer \u001b[39m=\u001b[39m \u001b[39mself\u001b[39;49m\u001b[39m.\u001b[39;49mcolumns\u001b[39m.\u001b[39;49mget_loc(key)\n\u001b[0;32m   3762\u001b[0m \u001b[39mif\u001b[39;00m is_integer(indexer):\n\u001b[0;32m   3763\u001b[0m     indexer \u001b[39m=\u001b[39m [indexer]\n",
      "File \u001b[1;32mc:\\Users\\diego.guizanlopez\\AppData\\Local\\miniconda3\\envs\\bigdata\\lib\\site-packages\\pandas\\core\\indexes\\base.py:3655\u001b[0m, in \u001b[0;36mIndex.get_loc\u001b[1;34m(self, key)\u001b[0m\n\u001b[0;32m   3653\u001b[0m     \u001b[39mreturn\u001b[39;00m \u001b[39mself\u001b[39m\u001b[39m.\u001b[39m_engine\u001b[39m.\u001b[39mget_loc(casted_key)\n\u001b[0;32m   3654\u001b[0m \u001b[39mexcept\u001b[39;00m \u001b[39mKeyError\u001b[39;00m \u001b[39mas\u001b[39;00m err:\n\u001b[1;32m-> 3655\u001b[0m     \u001b[39mraise\u001b[39;00m \u001b[39mKeyError\u001b[39;00m(key) \u001b[39mfrom\u001b[39;00m \u001b[39merr\u001b[39;00m\n\u001b[0;32m   3656\u001b[0m \u001b[39mexcept\u001b[39;00m \u001b[39mTypeError\u001b[39;00m:\n\u001b[0;32m   3657\u001b[0m     \u001b[39m# If we have a listlike key, _check_indexing_error will raise\u001b[39;00m\n\u001b[0;32m   3658\u001b[0m     \u001b[39m#  InvalidIndexError. Otherwise we fall through and re-raise\u001b[39;00m\n\u001b[0;32m   3659\u001b[0m     \u001b[39m#  the TypeError.\u001b[39;00m\n\u001b[0;32m   3660\u001b[0m     \u001b[39mself\u001b[39m\u001b[39m.\u001b[39m_check_indexing_error(key)\n",
      "\u001b[1;31mKeyError\u001b[0m: ''"
     ]
    }
   ],
   "source": [
    "from locale import normalize\n",
    "import re\n",
    "\n",
    "\n",
    "dfAlcaldes['NOMBRE NORMALIZADO']=re.sub(\n",
    "        r\"([^n\\u0300-\\u036f]|n(?!\\u0303(?![\\u0300-\\u036f])))[\\u0300-\\u036f]+\", r\"\\1\", \n",
    "        normalize( \"NFD\", dfAlcaldes['']), 0, re.I\n",
    "    )"
   ]
  },
  {
   "cell_type": "code",
   "execution_count": null,
   "metadata": {},
   "outputs": [],
   "source": []
  }
 ],
 "metadata": {
  "kernelspec": {
   "display_name": "bigdata",
   "language": "python",
   "name": "python3"
  },
  "language_info": {
   "codemirror_mode": {
    "name": "ipython",
    "version": 3
   },
   "file_extension": ".py",
   "mimetype": "text/x-python",
   "name": "python",
   "nbconvert_exporter": "python",
   "pygments_lexer": "ipython3",
   "version": "3.8.18"
  }
 },
 "nbformat": 4,
 "nbformat_minor": 2
}
