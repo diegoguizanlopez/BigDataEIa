{
 "cells": [
  {
   "cell_type": "markdown",
   "metadata": {},
   "source": [
    "# Estadísticas básicas con python\n",
    "## Capítulo 1: Medidas de tendencia central\n",
    "### Medida, mediana, moda e cuartiles\n",
    "\n",
    "**AVISO**: Para os exemplos empregase Numpy\n",
    "\n",
    "conda install scipy\n",
    "\n",
    "conda install pandas\n",
    "\n",
    "O paquete scipy xa trae numpy, xa que fai uso del"
   ]
  },
  {
   "cell_type": "code",
   "execution_count": 1,
   "metadata": {},
   "outputs": [
    {
     "name": "stdout",
     "output_type": "stream",
     "text": [
      "75.76923076923077\n"
     ]
    }
   ],
   "source": [
    "# Alternatíva no óptima\n",
    "\n",
    "peso_estudiantes = [97,83,84,65,83,82,62,56,40,79,71,80,103]\n",
    "total_pesos = 0\n",
    "for peso in peso_estudiantes:\n",
    "    total_pesos+=peso\n",
    "\n",
    "media_pesos = total_pesos / len(peso_estudiantes)\n",
    "print(media_pesos)"
   ]
  },
  {
   "cell_type": "code",
   "execution_count": 5,
   "metadata": {},
   "outputs": [
    {
     "name": "stdout",
     "output_type": "stream",
     "text": [
      "75.76923076923077\n"
     ]
    }
   ],
   "source": [
    "# Medio óptima\n",
    "\n",
    "print(sum(peso_estudiantes) / len(peso_estudiantes))"
   ]
  },
  {
   "cell_type": "code",
   "execution_count": 9,
   "metadata": {},
   "outputs": [
    {
     "name": "stdout",
     "output_type": "stream",
     "text": [
      "75.76923076923077\n"
     ]
    }
   ],
   "source": [
    "# Forma óptima\n",
    "\n",
    "from statistics import mean\n",
    "print(mean(peso_estudiantes))"
   ]
  },
  {
   "cell_type": "code",
   "execution_count": 10,
   "metadata": {},
   "outputs": [
    {
     "name": "stdout",
     "output_type": "stream",
     "text": [
      "75.76923076923077\n"
     ]
    }
   ],
   "source": [
    "# Forma más óptima\n",
    "\n",
    "import numpy\n",
    "print(numpy.mean(peso_estudiantes))"
   ]
  }
 ],
 "metadata": {
  "kernelspec": {
   "display_name": "bigdata",
   "language": "python",
   "name": "python3"
  },
  "language_info": {
   "codemirror_mode": {
    "name": "ipython",
    "version": 3
   },
   "file_extension": ".py",
   "mimetype": "text/x-python",
   "name": "python",
   "nbconvert_exporter": "python",
   "pygments_lexer": "ipython3",
   "version": "3.8.18"
  }
 },
 "nbformat": 4,
 "nbformat_minor": 2
}
