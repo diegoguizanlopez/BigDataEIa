{
 "cells": [
  {
   "cell_type": "markdown",
   "metadata": {},
   "source": [
    "# Conexión con PostgreSQL\n",
    "\n",
    "Imos conectar con PostgreSQL dende Python.\n",
    "\n",
    "Considérase que existe un docker con PostgreSQL e un porto redirixido ao noso equipo.\n",
    "\n",
    "Veremos dúas librerías:\n",
    " - psycopg2\n",
    " - sqlalchemy"
   ]
  },
  {
   "cell_type": "markdown",
   "metadata": {},
   "source": [
    "## Código para a librería psycopg2"
   ]
  },
  {
   "cell_type": "markdown",
   "metadata": {},
   "source": [
    "### Instalación de paquetes necesarios"
   ]
  },
  {
   "cell_type": "code",
   "execution_count": null,
   "metadata": {},
   "outputs": [],
   "source": [
    "! conda install -y psycopg2"
   ]
  },
  {
   "cell_type": "markdown",
   "metadata": {},
   "source": [
    "### Importar a librería e conectar coa base de datos"
   ]
  },
  {
   "cell_type": "code",
   "execution_count": 75,
   "metadata": {},
   "outputs": [],
   "source": [
    "import psycopg2\n",
    "\n",
    "db_name = \"sobremesa\"\n",
    "db_user = \"lambon\"\n",
    "db_password = \"Fl4nD3C4f3\"\n",
    "db_host= 'localhost'\n",
    "db_port = 5432\n",
    "\n",
    "conn = psycopg2.connect(database = db_name,\n",
    "                        user = db_user, password = db_password,\n",
    "                        host= db_host, port = db_port)"
   ]
  },
  {
   "cell_type": "markdown",
   "metadata": {},
   "source": [
    "### Abrir un cursor e persistir unha consulta DDL"
   ]
  },
  {
   "cell_type": "code",
   "execution_count": 76,
   "metadata": {},
   "outputs": [],
   "source": [
    "# Abrimos un cursor para efectuar operacións sobre a BBDD\n",
    "cur = conn.cursor()\n",
    "# Probamos unha consulta DDL: CREATE TABLE\n",
    "cur.execute(\"DROP TABLE IF EXISTS melindre;\")\n",
    "cur.execute(\"\"\"\n",
    "            CREATE TABLE melindre(\n",
    "                    melindre_id SERIAL PRIMARY KEY,\n",
    "                    nome VARCHAR (50) UNIQUE NOT NULL,\n",
    "                    ingredientes TEXT);\n",
    "            \"\"\")\n",
    "# Tipos de datos admitidos: <https://www.postgresql.org/docs/current/datatype.html>\n",
    "\n",
    "# Confirmamos os cambios\n",
    "conn.commit()\n",
    "\n",
    "# Pechamos o cursor\n",
    "cur.close()"
   ]
  },
  {
   "cell_type": "markdown",
   "metadata": {},
   "source": [
    "### Insertamos receitas"
   ]
  },
  {
   "cell_type": "code",
   "execution_count": 77,
   "metadata": {},
   "outputs": [],
   "source": [
    "# Abrimos un cursor para efectuar operacións sobre a BBDD\n",
    "cur = conn.cursor()\n",
    "\n",
    "# Probamos unha consulta DML: INSERT\n",
    "cur.execute(\"INSERT INTO melindre(nome, ingredientes) VALUES ('Melindres de Vila do Conde', 'Ovo, azucre');\")\n",
    "cur.execute(\"INSERT INTO melindre(nome, ingredientes) VALUES ('Melindres galegos', 'Ovo, azucre e cariño');\")\n",
    "\n",
    "# Confirmamos os cambios\n",
    "conn.commit()\n",
    "\n",
    "# Pechamos o cursor\n",
    "cur.close()"
   ]
  },
  {
   "cell_type": "markdown",
   "metadata": {},
   "source": [
    "### Recuperamos as receitas"
   ]
  },
  {
   "cell_type": "code",
   "execution_count": 78,
   "metadata": {},
   "outputs": [
    {
     "name": "stdout",
     "output_type": "stream",
     "text": [
      "(1, 'Melindres de Vila do Conde', 'Ovo, azucre')\n",
      "(2, 'Melindres galegos', 'Ovo, azucre e cariño')\n"
     ]
    }
   ],
   "source": [
    "# Abrimos un cursor para efectuar operacións sobre a BBDD\n",
    "cur = conn.cursor()\n",
    "\n",
    "# Probamos unha consulta DML: SELECT\n",
    "cur.execute('SELECT * FROM melindre;')\n",
    "\n",
    "rows = cur.fetchall()\n",
    "# conn.close() # Unha vez recollidas, xa poderíamos pechar a conexión (commit conveniente)\n",
    "for row in rows:\n",
    "    print(row)\n",
    "\n",
    "# Pechamos o cursor\n",
    "cur.close()"
   ]
  },
  {
   "cell_type": "markdown",
   "metadata": {},
   "source": [
    "### Actualizamos as receitas"
   ]
  },
  {
   "cell_type": "code",
   "execution_count": 79,
   "metadata": {},
   "outputs": [],
   "source": [
    "# Abrimos un cursor para efectuar operacións sobre a BBDD\n",
    "cur = conn.cursor()\n",
    "\n",
    "# Probamos unha consulta DML: UPDATE\n",
    "cur = conn.cursor()\n",
    "cur.execute(\"UPDATE melindre SET ingredientes = 'Os mesmos' WHERE nome LIKE '%Melindres%'\")\n",
    "\n",
    "# Confirmamos os cambios\n",
    "conn.commit()\n",
    "\n",
    "# Pechamos o cursor\n",
    "cur.close()"
   ]
  },
  {
   "cell_type": "markdown",
   "metadata": {},
   "source": [
    "### Borramos as receitas"
   ]
  },
  {
   "cell_type": "code",
   "execution_count": 80,
   "metadata": {},
   "outputs": [],
   "source": [
    "# Abrimos un cursor para efectuar operacións sobre a BBDD\n",
    "cur = conn.cursor()\n",
    "\n",
    "# Probamos unha consulta DML: DELETE\n",
    "cur.execute(\"DELETE FROM melindre WHERE nome ='Melindres de Vila do Conde';\");\n",
    "\n",
    "# Confirmamos os cambios\n",
    "conn.commit()\n",
    "\n",
    "# Pechamos o cursor\n",
    "cur.close()"
   ]
  },
  {
   "cell_type": "markdown",
   "metadata": {},
   "source": [
    "### Pechamos a conexión"
   ]
  },
  {
   "cell_type": "code",
   "execution_count": 81,
   "metadata": {},
   "outputs": [],
   "source": [
    "# Pechamos conexión\n",
    "conn.close()"
   ]
  },
  {
   "cell_type": "markdown",
   "metadata": {},
   "source": [
    "## SQLAlchemy\n",
    "\n",
    "Este paquete é un estándar de facto. Se xa o estás a empregar con outros SXBD, o máis cómodo é empregalo tamén para conectar con PostgreSQL.\n",
    "\n",
    "### Instalación de SQLAlchemy\n"
   ]
  },
  {
   "cell_type": "code",
   "execution_count": null,
   "metadata": {},
   "outputs": [],
   "source": [
    "% conda install sqlalchemy"
   ]
  },
  {
   "cell_type": "markdown",
   "metadata": {},
   "source": [
    "### Código para conectar con SQLAlchemy"
   ]
  },
  {
   "cell_type": "code",
   "execution_count": 83,
   "metadata": {},
   "outputs": [
    {
     "name": "stdout",
     "output_type": "stream",
     "text": [
      "[(2, 'Melindres galegos', 'Os mesmos')]\n"
     ]
    }
   ],
   "source": [
    "import sqlalchemy as db\n",
    "from sqlalchemy import text\n",
    "\n",
    "# Creamos unha conexión\n",
    "engine = db.create_engine(f'postgresql://{db_user}:{db_password}@{db_host}:{db_port}/{db_name}')\n",
    "conn = engine.connect()\n",
    "\n",
    "# Pedimos e sacamos os datos por pantalla\n",
    "sobremesas = conn.execute(text('SELECT * FROM melindre;'))\n",
    "print(sobremesas.fetchall())\n",
    "\n",
    "# Pechamos a conexión\n",
    "conn.close()"
   ]
  },
  {
   "cell_type": "markdown",
   "metadata": {},
   "source": [
    "## Máis información\n",
    "\n",
    " - <https://www.datacamp.com/tutorial/tutorial-postgresql-python>\n",
    " - <https://www.geeksforgeeks.org/postgresql-connecting-to-the-database-using-python/>\n",
    " - <https://www.w3schools.com/postgresql/index.php>\n",
    " - <https://hub.docker.com/_/postgres>"
   ]
  }
 ],
 "metadata": {
  "kernelspec": {
   "display_name": "bigdata",
   "language": "python",
   "name": "python3"
  },
  "language_info": {
   "codemirror_mode": {
    "name": "ipython",
    "version": 3
   },
   "file_extension": ".py",
   "mimetype": "text/x-python",
   "name": "python",
   "nbconvert_exporter": "python",
   "pygments_lexer": "ipython3",
   "version": "3.8.18"
  }
 },
 "nbformat": 4,
 "nbformat_minor": 2
}
