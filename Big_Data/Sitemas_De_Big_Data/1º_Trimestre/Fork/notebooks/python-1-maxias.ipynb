{
 "cells": [
  {
   "cell_type": "markdown",
   "metadata": {},
   "source": [
    "# Maxias pitónicas"
   ]
  },
  {
   "attachments": {
    "image.png": {
     "image/png": "[encoded data removed]"
    }
   },
   "cell_type": "markdown",
   "metadata": {},
   "source": [
    "![image.png](attachment:image.png)"
   ]
  },
  {
   "cell_type": "markdown",
   "metadata": {},
   "source": [
    "## E outras herbas"
   ]
  },
  {
   "cell_type": "markdown",
   "metadata": {},
   "source": [
    "Ipython engade algo de funcionalidade na consola: autocopletado, maxias, etc. É un python interactivo. O jupyterlab precisa de ipython e ipykernel para funcionar correctamente.\n",
    "\n",
    "Podemos lanzar unha consola interactiva de iPython con ese mesmo comando:"
   ]
  },
  {
   "cell_type": "markdown",
   "metadata": {},
   "source": [
    "    (bigdata) PS C:\\> ipython\n",
    "    Python 3.8.18 (default, Sep 11 2023, 13:39:12) [MSC v.1916 64 bit (AMD64)]\n",
    "    Type 'copyright', 'credits' or 'license' for more information\n",
    "    IPython 8.12.0 -- An enhanced Interactive Python. Type '?' for help."
   ]
  },
  {
   "cell_type": "markdown",
   "metadata": {},
   "source": [
    "Podemos completar ou autocompletar e obter axuda con: TAB, Ctrl+TAB, Ctrl+Espacio...\n",
    "\n",
    "Tamén temos dispoñibles unha serie de funcións listas para empregar nos notebooks que poden ser moi útiles:\n",
    "<https://ipython.readthedocs.io/en/stable/interactive/magics.html>\n",
    "\n",
    "A continuación veremos algunhas."
   ]
  },
  {
   "cell_type": "markdown",
   "metadata": {},
   "source": [
    "## %time\n",
    "\n",
    "Permítenos medir canto tempo leva unha execución determinada.\n",
    "\n",
    "**Exemplo:**"
   ]
  },
  {
   "cell_type": "code",
   "execution_count": null,
   "metadata": {},
   "outputs": [],
   "source": [
    "import time\n",
    "from random import randint\n",
    "\n",
    "def tarefa_pitónica():\n",
    "    tempo=randint(1, 10)\n",
    "    print(f'Vaime levar: {tempo}')\n",
    "    time.sleep(tempo)\n",
    "\n",
    "%time tarefa_pitónica()"
   ]
  },
  {
   "cell_type": "markdown",
   "metadata": {},
   "source": [
    "## %run\n",
    "\n",
    "Executa scripts externos. Pode ser moi útil para preparar unha contorna cos datos, etc.\n"
   ]
  },
  {
   "cell_type": "code",
   "execution_count": null,
   "metadata": {},
   "outputs": [],
   "source": [
    "%run holamundo.py"
   ]
  },
  {
   "cell_type": "markdown",
   "metadata": {},
   "source": [
    "## %load\n",
    "\n",
    "Amosa o código e despois o executa"
   ]
  },
  {
   "cell_type": "code",
   "execution_count": null,
   "metadata": {},
   "outputs": [],
   "source": [
    "%load holamundo.py"
   ]
  },
  {
   "cell_type": "markdown",
   "metadata": {},
   "source": [
    "## %edit\n",
    "\n",
    "Abre o código para edición e logo permite executalo"
   ]
  },
  {
   "cell_type": "code",
   "execution_count": null,
   "metadata": {},
   "outputs": [],
   "source": [
    "%edit holamundo.py"
   ]
  },
  {
   "cell_type": "markdown",
   "metadata": {},
   "source": [
    "## Amosar axuda dunha maxia:\n",
    "\n",
    "    %MAXIA??\n"
   ]
  },
  {
   "cell_type": "code",
   "execution_count": null,
   "metadata": {},
   "outputs": [],
   "source": [
    "%edit??"
   ]
  },
  {
   "cell_type": "markdown",
   "metadata": {},
   "source": [
    "## %pycat\n",
    "\n",
    "Amosa o código"
   ]
  },
  {
   "cell_type": "code",
   "execution_count": null,
   "metadata": {},
   "outputs": [],
   "source": [
    "%pycat holamundo.py"
   ]
  },
  {
   "cell_type": "markdown",
   "metadata": {},
   "source": [
    "## %who\n",
    "\n",
    "Amosa as variables en memoria"
   ]
  },
  {
   "cell_type": "code",
   "execution_count": null,
   "metadata": {},
   "outputs": [],
   "source": [
    "%who"
   ]
  },
  {
   "cell_type": "markdown",
   "metadata": {},
   "source": [
    "## %reset\n",
    "\n",
    "Borra o estado da memoria"
   ]
  },
  {
   "cell_type": "code",
   "execution_count": null,
   "metadata": {},
   "outputs": [],
   "source": [
    "%reset"
   ]
  },
  {
   "cell_type": "markdown",
   "metadata": {},
   "source": [
    "## %save\n",
    "\n",
    "Salva o estado da sesión, é dicir, as liñas que foron executadas."
   ]
  },
  {
   "cell_type": "code",
   "execution_count": null,
   "metadata": {},
   "outputs": [],
   "source": [
    "%save C:\\\\Users\\\\USUARIO\\\\sesion.py"
   ]
  },
  {
   "cell_type": "markdown",
   "metadata": {},
   "source": [
    "## %lsmagic\n",
    "\n",
    "Lista as diferentes maxias"
   ]
  },
  {
   "cell_type": "code",
   "execution_count": null,
   "metadata": {},
   "outputs": [],
   "source": [
    "%lsmagic"
   ]
  },
  {
   "cell_type": "markdown",
   "metadata": {},
   "source": [
    "## %env\n",
    "\n",
    "Amosa as variables do sistema"
   ]
  },
  {
   "cell_type": "code",
   "execution_count": null,
   "metadata": {},
   "outputs": [],
   "source": [
    "%env"
   ]
  }
 ],
 "metadata": {
  "kernelspec": {
   "display_name": "bigdata",
   "language": "python",
   "name": "python3"
  },
  "language_info": {
   "codemirror_mode": {
    "name": "ipython",
    "version": 3
   },
   "file_extension": ".py",
   "mimetype": "text/x-python",
   "name": "python",
   "nbconvert_exporter": "python",
   "pygments_lexer": "ipython3",
   "version": "3.8.18"
  }
 },
 "nbformat": 4,
 "nbformat_minor": 2
}
