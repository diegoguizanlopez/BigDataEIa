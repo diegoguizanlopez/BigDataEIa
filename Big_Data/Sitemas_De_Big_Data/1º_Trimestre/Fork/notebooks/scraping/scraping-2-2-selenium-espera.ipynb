{
 "cells": [
  {
   "cell_type": "markdown",
   "metadata": {},
   "source": [
    "# Web Scraping. Capítulo 2.2\n",
    "## Selenium\n",
    "### Esperas\n",
    "\n",
    "Este código permite inicializar selenium, se algo falla durante a execución, non dubides en pechar o navegador e abrir un novo con este bloque."
   ]
  },
  {
   "cell_type": "code",
   "execution_count": null,
   "metadata": {},
   "outputs": [],
   "source": [
    "#Instalar gecko\n",
    "from webdriver_manager.firefox import GeckoDriverManager\n",
    "GeckoDriverManager().install()\n",
    "\n",
    "#Abrir un navegador\n",
    "from selenium import webdriver\n",
    "from selenium.webdriver.common.by import By\n",
    "driver = webdriver.Firefox()"
   ]
  },
  {
   "cell_type": "markdown",
   "metadata": {},
   "source": [
    "### Esperas"
   ]
  },
  {
   "cell_type": "markdown",
   "metadata": {},
   "source": [
    "#### Espera implícita\n",
    "\n",
    "Selenium trae de serie un mecanismo que espera a que un elemento se cargue. Se non se carga nun tempo predefinido (timeout) entón para a carga.\n",
    "\n",
    "Este axuste aplícase de xeito global a cada ruta chamada para toda a sesión sendo o valor por defecto cero, polo tanto, se non atopa o elemento, devolve un erro inmediatamente. Se establecemos esta espera a un número diferente, agardará ese número de segundos antes de devolver un erro. Sen embargo tan pronto localice o elemento, devolverao, co cual esta espera implícita non ten porqué incrementar a duración da sesión (sobre todo si non se producen erros).\n",
    "\n",
    "Está desaconsellado pola documentación mezclar esperas implícitas e explícitas por ter resultados impredecibles e non desexados."
   ]
  },
  {
   "cell_type": "markdown",
   "metadata": {},
   "source": [
    "Esta páxina forza unha espera dun segundo, polo que se non agardamos suficiente (quitamos o implicit wait) fallaría. Podes probar a poñer a 0 (por defecto) o «implicit wait»."
   ]
  },
  {
   "cell_type": "code",
   "execution_count": null,
   "metadata": {},
   "outputs": [],
   "source": [
    "driver.implicitly_wait(2)\n",
    "driver.get('https://www.selenium.dev/selenium/web/dynamic.html')\n",
    "driver.find_element(By.ID, \"adder\").click()\n",
    "added = driver.find_element(By.ID, \"box0\")"
   ]
  },
  {
   "cell_type": "markdown",
   "metadata": {},
   "source": [
    "Agora imos ver que si chamamos un elemento que non exista, tardará dous segundos en lanzar o erro"
   ]
  },
  {
   "cell_type": "code",
   "execution_count": null,
   "metadata": {},
   "outputs": [],
   "source": [
    "driver.implicitly_wait(2)\n",
    "driver.find_element(By.ID, \"adder00\").click()"
   ]
  },
  {
   "cell_type": "markdown",
   "metadata": {},
   "source": [
    "E agora o erro será inmediato:"
   ]
  },
  {
   "cell_type": "code",
   "execution_count": null,
   "metadata": {},
   "outputs": [],
   "source": [
    "driver.implicitly_wait(0)\n",
    "driver.find_element(By.ID, \"adder00\").click()"
   ]
  },
  {
   "cell_type": "markdown",
   "metadata": {},
   "source": [
    "Por qué é importante? Non tódalas páxinas son estáticas, algunhas precisan chamar a unha API para descargar uns datos ou cambian en función da túa interacción coa páxina. Mesmo hai algunhas que traen o típico \"spinner\" e non che deixan interactuar ata que cargan os datos. Nestes casos pode ser útil esperar por un determinado elemento."
   ]
  },
  {
   "cell_type": "markdown",
   "metadata": {},
   "source": [
    "#### Espera explícita\n",
    "\n",
    "Valídase de xeito contínuo (mediante un bucle) que exista unha determinada condición ou elemento antes de continuar. De non cumplirse esta condición nun tempo determinado (timeout) devolverá un erro.\n",
    "\n",
    "O comportamento por defecto da clase Wait de Selenium é esperar que exista o obxecto.\n",
    "\n",
    "É unha das esperas máis empregadas."
   ]
  },
  {
   "cell_type": "code",
   "execution_count": null,
   "metadata": {},
   "outputs": [
    {
     "data": {
      "text/plain": [
       "True"
      ]
     },
     "metadata": {},
     "output_type": "display_data"
    }
   ],
   "source": [
    "driver.get('https://www.selenium.dev/selenium/web/dynamic.html')\n",
    "revealed = driver.find_element(By.ID, \"revealed\")\n",
    "driver.find_element(By.ID, \"reveal\").click()\n",
    "\n",
    "from selenium.common.exceptions import NoSuchElementException, ElementNotInteractableException\n",
    "from selenium.webdriver.support.wait import WebDriverWait\n",
    "\n",
    "errors = [NoSuchElementException, ElementNotInteractableException]\n",
    "wait = WebDriverWait(driver, timeout=2, poll_frequency=.2, ignored_exceptions=errors)\n",
    "wait.until(lambda d : revealed.send_keys(\"Displayed\") or True)"
   ]
  },
  {
   "cell_type": "markdown",
   "metadata": {},
   "source": [
    "**Outro exemplo**:\n",
    "\n",
    "Imaxinemos que temos unha roda de carga (spinner loading...) e que ten que acabar para deixarnos premer nos botóns ou para que cargue a información que nos interesa.\n",
    "\n",
    "- Exemplo: <https://jfsanchez.es/cdn/selenium/carga.html>\n",
    "\n",
    "O texto que nos interesa está nun p con id \"mensaxegatos\", pero este p ten un valor incorrecto ata que non desaparece o spinner (ata que non carga).\n",
    "\n",
    "Debemos esperar a que exista na páxina (se cargue o spinner) e logo a que se volva invisible. Tras volverse invisible poderemos obter os datos que nos interesan."
   ]
  },
  {
   "cell_type": "code",
   "execution_count": null,
   "metadata": {},
   "outputs": [],
   "source": [
    "from selenium.webdriver.support import expected_conditions as EC\n",
    "\n",
    "def espera_Oh(driver):\n",
    "    WebDriverWait(driver, 10).until(EC.presence_of_element_located((By.ID, \"page-loader\")))\n",
    "    WebDriverWait(driver, 10).until(EC.invisibility_of_element((By.ID, \"page-loader\")))\n"
   ]
  },
  {
   "cell_type": "code",
   "execution_count": null,
   "metadata": {},
   "outputs": [
    {
     "name": "stdout",
     "output_type": "stream",
     "text": [
      "MIAU! GUAU! GOF! CROA! CUAC! OINC! GRUNZ!\n"
     ]
    }
   ],
   "source": [
    "CARGA_URL = 'https://jfsanchez.es/cdn/selenium/carga.html'\n",
    "driver.get(CARGA_URL)\n",
    "\n",
    "espera_Oh(driver)\n",
    "print(driver.find_element(By.ID, \"mensaxegatos\").text)"
   ]
  },
  {
   "cell_type": "markdown",
   "metadata": {},
   "source": [
    "### Espera fluída\n",
    "\n",
    "É un tipo de espera cando precisamos unha determinada precisión ou espera entre as comprobación.\n",
    "\n",
    "Normalmente é considerada unha versión de espera explícita, simplemente nos deixa controlar o tempo de comprobación (polling time) para ser máis exactos (reducíndoo) ou para reducir a potencia de procesador empregada (aumentándoo).\n",
    "\n",
    "Cando temos moita carga de traballo, pode ser unha boa idea con determinadas webs.\n",
    "\n",
    "Esta espera fluída cambia na implementación de Java e Python sendo, alomenos en versións anteriores para Java unha clase diferente.\n",
    "\n",
    "En Python poderíamos especificar como parámtros o timeout e o poll_frecuency.\n",
    "\n",
    "    wait=WebDriverWait(driver,timeout=10,poll_frequency=1)\n",
    "    element=wait.until(element_has_text(...))"
   ]
  },
  {
   "cell_type": "markdown",
   "metadata": {},
   "source": [
    "### Bibliografía\n",
    "\n",
    "- <https://www.selenium.dev/>\n",
    "- <https://github.com/SeleniumHQ>\n",
    "- <https://selenium-python.readthedocs.io>"
   ]
  }
 ],
 "metadata": {
  "language_info": {
   "name": "python"
  }
 },
 "nbformat": 4,
 "nbformat_minor": 2
}
