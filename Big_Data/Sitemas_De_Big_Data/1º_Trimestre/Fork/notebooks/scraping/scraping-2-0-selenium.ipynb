{
 "cells": [
  {
   "cell_type": "markdown",
   "metadata": {},
   "source": [
    "# Scraping. Capítulo 2.0\n",
    "\n",
    "Este é un exemplo moi simple para comezar a empregar selenium. Só contén o básico.\n",
    "\n",
    "Non contén:\n",
    "- Seleccionar e filtrar.\n",
    "- Esperar correctamente a que carguen as páxinas e saber se cargaron correctamente.\n",
    "- Probar outros motores como Chromium en modo headless.\n",
    "- Procesar as táboas e outros datos.\n",
    "\n",
    "## Selenium\n",
    "\n",
    "É unha suite para facer probas, sen embargo, dada a súa potencia e posibilidades, emprégase para case todo.\n",
    "\n",
    "### Instalar as dependencias"
   ]
  },
  {
   "cell_type": "code",
   "execution_count": null,
   "metadata": {},
   "outputs": [],
   "source": [
    "!conda install pip\n",
    "!conda install -c conda-forge selenium"
   ]
  },
  {
   "cell_type": "markdown",
   "metadata": {},
   "source": [
    "Imos empregar Mozilla Firefox. O navegador Chrome tamén é compatible.\n",
    "\n",
    "De feito hai unha versión de Chrome para ser executada en modo headless (sen interfaz gráfica).\n",
    "\n",
    "Tanto en Microsoft Windows como en GNU/Linux, imos instalar o driver gecko (un motor de renderizado libre). Para non complicarnos descargando manualmente o driver e poñelo no PATH, imos empregar o paquete geckodriver-autoinstaller, dispoñible no PyPI.\n",
    "\n",
    "Se prefires facer manualmente o paso de descargar o motor e metelo no PATH, podes descargalo dende aquí: <https://github.com/mozilla/geckodriver/releases>"
   ]
  },
  {
   "cell_type": "markdown",
   "metadata": {},
   "source": [
    "### Instalar o geckodriver con pip"
   ]
  },
  {
   "cell_type": "code",
   "execution_count": null,
   "metadata": {},
   "outputs": [],
   "source": [
    "!pip install webdriver_manager"
   ]
  },
  {
   "cell_type": "markdown",
   "metadata": {},
   "source": [
    "En cada script/programa/notebook que fagamos, deberíamos asegurarnos que está instalado, importanto o paquete e seleccionando a opción de instalar."
   ]
  },
  {
   "cell_type": "code",
   "execution_count": 1,
   "metadata": {},
   "outputs": [
    {
     "data": {
      "text/plain": [
       "'/home/jose/.wdm/drivers/geckodriver/linux64/v0.33.0/geckodriver'"
      ]
     },
     "execution_count": 1,
     "metadata": {},
     "output_type": "execute_result"
    }
   ],
   "source": [
    "from webdriver_manager.firefox import GeckoDriverManager\n",
    "GeckoDriverManager().install()"
   ]
  },
  {
   "cell_type": "markdown",
   "metadata": {},
   "source": [
    "### Importar as dependencias de selenium"
   ]
  },
  {
   "cell_type": "code",
   "execution_count": 2,
   "metadata": {},
   "outputs": [],
   "source": [
    "from selenium import webdriver\n",
    "from selenium.webdriver.common.by import By"
   ]
  },
  {
   "cell_type": "markdown",
   "metadata": {},
   "source": [
    "Definimos algunhas variables"
   ]
  },
  {
   "cell_type": "code",
   "execution_count": 8,
   "metadata": {},
   "outputs": [],
   "source": [
    "USUARIO=\"HOLA\"\n",
    "CONTRASINAL=\"HOLA\"\n",
    "#CESGA_URL=\"https://portalusuarios.cesga.es/auth\"\n",
    "CESGA_URL=\"https://cloud.srv.cesga.es\""
   ]
  },
  {
   "cell_type": "markdown",
   "metadata": {},
   "source": [
    "Cargamos o navegador. Facer probas cun notebook é oa idea, poderemos interactuar co navegador mentres non o pechemos"
   ]
  },
  {
   "cell_type": "code",
   "execution_count": 3,
   "metadata": {},
   "outputs": [],
   "source": [
    "driver = webdriver.Firefox()"
   ]
  },
  {
   "cell_type": "markdown",
   "metadata": {},
   "source": [
    "Indicámoslle que cargue a URL que nos interesa"
   ]
  },
  {
   "cell_type": "code",
   "execution_count": null,
   "metadata": {},
   "outputs": [],
   "source": [
    "driver.get(CESGA_URL)"
   ]
  },
  {
   "cell_type": "markdown",
   "metadata": {},
   "source": [
    "Hai varias formar de esperar a que unha web cargue, a máis simple (pero non a máis correcta) é agardar un tempo."
   ]
  },
  {
   "cell_type": "code",
   "execution_count": null,
   "metadata": {},
   "outputs": [],
   "source": [
    "#Ao final do documento: temos un div con id: modal_wrapper, id=\"footer\" se aparece é que xa cargou a páxina\n",
    "import time\n",
    "time.sleep(5)"
   ]
  },
  {
   "cell_type": "markdown",
   "metadata": {},
   "source": [
    "Por simplicidade faremos tódalas buscas no árbol DOM por id, sen embargo hai outros modos de facelas. Podemos filtrar por case calquer propiedade."
   ]
  },
  {
   "cell_type": "markdown",
   "metadata": {},
   "source": [
    "Cubrimos as caixas de texto de usuario e contrasinal cos valores"
   ]
  },
  {
   "cell_type": "code",
   "execution_count": null,
   "metadata": {},
   "outputs": [],
   "source": [
    "driver.find_element(by=By.ID, value=\"id_username\").send_keys(USUARIO)\n",
    "driver.find_element(by=By.ID, value=\"id_password\").send_keys(CONTRASINAL)\n",
    "driver.find_element(by=By.ID, value=\"id_domain\").send_keys(\"hpc\")"
   ]
  },
  {
   "cell_type": "markdown",
   "metadata": {},
   "source": [
    "Facemos click no botón de login"
   ]
  },
  {
   "cell_type": "code",
   "execution_count": null,
   "metadata": {},
   "outputs": [],
   "source": [
    "elem = driver.find_element(By.ID, \"loginBtn\")\n",
    "elem.click()"
   ]
  },
  {
   "cell_type": "markdown",
   "metadata": {},
   "source": [
    "Finalmente pechamos o navegador."
   ]
  },
  {
   "cell_type": "code",
   "execution_count": 10,
   "metadata": {},
   "outputs": [],
   "source": [
    "driver.quit()"
   ]
  }
 ],
 "metadata": {
  "kernelspec": {
   "display_name": "bigdata",
   "language": "python",
   "name": "python3"
  },
  "language_info": {
   "codemirror_mode": {
    "name": "ipython",
    "version": 3
   },
   "file_extension": ".py",
   "mimetype": "text/x-python",
   "name": "python",
   "nbconvert_exporter": "python",
   "pygments_lexer": "ipython3",
   "version": "3.8.18"
  }
 },
 "nbformat": 4,
 "nbformat_minor": 2
}
