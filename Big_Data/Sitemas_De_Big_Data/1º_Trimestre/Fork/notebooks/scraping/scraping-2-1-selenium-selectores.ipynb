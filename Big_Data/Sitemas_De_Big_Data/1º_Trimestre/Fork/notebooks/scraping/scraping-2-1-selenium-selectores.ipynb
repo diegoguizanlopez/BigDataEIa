{
 "cells": [
  {
   "cell_type": "markdown",
   "metadata": {},
   "source": [
    "# Web Scraping. Capítulo 2.1\n",
    "## Selenium\n",
    "### Selectores\n",
    "\n",
    "Este código permite inicializar selenium, se algo falla durante a execución, non dubides en pechar o navegador e abrir un novo con este bloque."
   ]
  },
  {
   "cell_type": "code",
   "execution_count": 2,
   "metadata": {},
   "outputs": [],
   "source": [
    "#Instalar gecko\n",
    "from webdriver_manager.firefox import GeckoDriverManager\n",
    "GeckoDriverManager().install()\n",
    "\n",
    "#Abrir un navegador\n",
    "from selenium import webdriver\n",
    "from selenium.webdriver.common.by import By\n",
    "driver = webdriver.Firefox()"
   ]
  },
  {
   "cell_type": "markdown",
   "metadata": {},
   "source": [
    "#### Seleccionando un ou varios elementos\n",
    "\n",
    "##### find_element()\n",
    "\n",
    "Devolve o primeiro elemento que cumpra cos criterios que lle teñamos especificado.\n",
    "\n",
    "~~~~\n",
    "from selenium.webdriver.common.by import By\n",
    "driver.find_element(By.???, filtro1)\n",
    "~~~~\n",
    "\n",
    "##### find_elements()\n",
    "\n",
    "Devolve unha lista de elementos que cumpren os criterios que lle teñamos especificado.\n",
    "\n",
    "~~~~\n",
    "from selenium.webdriver.common.by import By\n",
    "driver.find_elements(By.???, filtro2)\n",
    "~~~~\n",
    "\n",
    "Ambas funcións devolven un obxecto de selenium: `selenium.webdriver.remote.webelement.WebElement`, sobre o que poderemos seguir executando finds."
   ]
  },
  {
   "cell_type": "markdown",
   "metadata": {},
   "source": [
    "A clase selenium.webdriver.common.by permite seleccionar/filtrar atendendo a unha das seguintes propiedades:\n",
    "- **id**\n",
    "- **name**\n",
    "- **class_name**\n",
    "- **css_selector**\n",
    "- **tag_name**\n",
    "- **xpath**\n",
    "- **link_text**\n",
    "- **partial_link_text**"
   ]
  },
  {
   "cell_type": "markdown",
   "metadata": {},
   "source": [
    "#### Id &mdash; By.ID\n",
    "\n",
    "Nun documento HTML só debería haber un elemento con un mesmo id. En caso de haber máis dun, só devolve o primeiro.\n",
    "\n",
    "**Exemplos**: \n",
    "- &lt;h1 id=\"titulo_principal\"&gt;Título da web&lt;/h1&gt;\n",
    "- &lt;input type=\"text\" id=\"usuario\"/&gt;\n",
    "\n",
    "~~~~\n",
    "    driver.find_element(By.ID, \"id\")\n",
    "~~~~\n",
    "\n",
    "Se non o atopa, devolve unha excepción de tipo: **NoSuchElementException**."
   ]
  },
  {
   "cell_type": "code",
   "execution_count": 3,
   "metadata": {},
   "outputs": [
    {
     "name": "stdout",
     "output_type": "stream",
     "text": [
      "get_property('value') -> \n",
      "Ataúlfo\n",
      "get_dom_attribute('value') -> \n",
      "Ataúlfo\n",
      "get_property('type') -> \n",
      "button\n",
      "get_dom_attribute('type') -> \n",
      "button\n",
      "get_property('data-fechareinado') -> (falla, non é propiedade válida)\n",
      "None\n",
      "get_dom_attribute('data-fechareinado') -> \n",
      "(410-415)\n"
     ]
    }
   ],
   "source": [
    "URL_INICIAL='https://jfsanchez.es/cdn/selenium/cajon-de-sastre.html'\n",
    "driver.get(URL_INICIAL)\n",
    "# <input type=\"button\" id=\"R1\" value=\"Ataúlfo\" data-fechareinado=\"(410-415)\"/>\n",
    "\n",
    "from selenium.common.exceptions import NoSuchElementException\n",
    "try:\n",
    "    variable_rey=driver.find_element(By.ID, 'R1')\n",
    "    print(\"get_property('value') -> \")\n",
    "    print(variable_rey.get_property('value'))\n",
    "\n",
    "    print(\"get_dom_attribute('value') -> \")\n",
    "    print(variable_rey.get_dom_attribute('value'))\n",
    "\n",
    "    print(\"get_property('type') -> \")\n",
    "    print(variable_rey.get_property('type'))\n",
    "\n",
    "    print(\"get_dom_attribute('type') -> \")\n",
    "    print (variable_rey.get_dom_attribute('type'))\n",
    "\n",
    "    print(\"get_property('data-fechareinado') -> (falla, non é propiedade válida)\")\n",
    "    print(variable_rey.get_property('data-fechareinado'))\n",
    "    \n",
    "    print(\"get_dom_attribute('data-fechareinado') -> \")\n",
    "    print (variable_rey.get_dom_attribute('data-fechareinado'))\n",
    "\n",
    "except NoSuchElementException as e:\n",
    "    print(e)"
   ]
  },
  {
   "cell_type": "code",
   "execution_count": 4,
   "metadata": {},
   "outputs": [
    {
     "name": "stdout",
     "output_type": "stream",
     "text": [
      "Non atopo quen deles foi o rei do mambo\n"
     ]
    }
   ],
   "source": [
    "from selenium.common.exceptions import  NoSuchElementException\n",
    "\n",
    "try:\n",
    "    driver.find_element(By.ID, 'oreidomambo')\n",
    "except NoSuchElementException as e:\n",
    "    print('Non atopo quen deles foi o rei do mambo')"
   ]
  },
  {
   "cell_type": "markdown",
   "metadata": {},
   "source": [
    "#### Name &mdash; By.Name\n"
   ]
  },
  {
   "cell_type": "markdown",
   "metadata": {},
   "source": [
    "Pode haber varios elementos co mesmo nome.\n",
    "\n",
    "**Exemplo**:\n",
    "- &lt;h1 name=\"titular\"&gt;Tit1&lt;/h1&gt;\n",
    "- &lt;h1 name=\"titular\"&gt;Tit2&lt;/h1&gt;\n",
    "- ...\n",
    "- &lt;h1 name=\"titular\"&gt;TitN&lt;/h1&gt;\n",
    "\n",
    "`find_element()` devolve o primeiro elemento, mentres que `find_elements()` devolve unha lista de `WebElement`.\n",
    "\n",
    "De seguir iterando por `find_element()`, devolvería cada vez o seguinte, pero ollo, dentro de cada elemento seleccionado.\n",
    "\n",
    "De non existir ningún elemento con ese atributo, lánzase unha excepción de tipo: `NoSuchElementException`"
   ]
  },
  {
   "cell_type": "code",
   "execution_count": 5,
   "metadata": {},
   "outputs": [
    {
     "name": "stdout",
     "output_type": "stream",
     "text": [
      "h1 Los famosos reyes godos\n",
      "h1 Presidentes de España desde 1978\n",
      "h1 Ministros del interior\n",
      "h1 Provincias españolas\n"
     ]
    }
   ],
   "source": [
    "try:\n",
    "    titulares = driver.find_elements(By.NAME, 'titular')\n",
    "    for titular in titulares:\n",
    "        print(f\"{titular.tag_name} {titular.text}\")\n",
    "\n",
    "except NoSuchElementException as e:\n",
    "    print(e)"
   ]
  },
  {
   "cell_type": "markdown",
   "metadata": {},
   "source": [
    "Imprimo agora un titular con `find_element()`. Como vemos, chamar varias veces ao mesmo driver, devolve o mesmo: a primeira ocorrencia."
   ]
  },
  {
   "cell_type": "code",
   "execution_count": 6,
   "metadata": {},
   "outputs": [
    {
     "name": "stdout",
     "output_type": "stream",
     "text": [
      "Los famosos reyes godos\n",
      "Los famosos reyes godos\n"
     ]
    }
   ],
   "source": [
    "try:\n",
    "    titular = driver.find_element(By.NAME, 'titular')\n",
    "    print(titular.text)\n",
    "    titular = driver.find_element(By.NAME, 'titular')\n",
    "    print(titular.text)\n",
    "\n",
    "except NoSuchElementException as e:\n",
    "    print(e)"
   ]
  },
  {
   "cell_type": "markdown",
   "metadata": {},
   "source": [
    "Sen embargo, se iteramos sobre o anterior resultado, o find busca o seguinte, **pero** dentro da subárbore DOM seleccionada:"
   ]
  },
  {
   "cell_type": "code",
   "execution_count": 7,
   "metadata": {},
   "outputs": [
    {
     "name": "stdout",
     "output_type": "stream",
     "text": [
      "Los famosos reyes godos\n",
      "ERRO na segunda búsqueda: NON hai un titular dentro dun titular, están ao mesmo nivel, non podemos buscar así\n"
     ]
    }
   ],
   "source": [
    "try:\n",
    "    titular = driver.find_element(By.NAME, 'titular')\n",
    "    print(titular.text)\n",
    "    titular = titular.find_element(By.NAME, 'titular')\n",
    "    print(titular.text)\n",
    "\n",
    "except NoSuchElementException as e:\n",
    "    print('ERRO na segunda búsqueda: NON hai un titular dentro dun titular, están ao mesmo nivel, non podemos buscar así')"
   ]
  },
  {
   "cell_type": "markdown",
   "metadata": {},
   "source": [
    "E se volvo atrás ao parent?"
   ]
  },
  {
   "cell_type": "code",
   "execution_count": 8,
   "metadata": {},
   "outputs": [
    {
     "name": "stdout",
     "output_type": "stream",
     "text": [
      "Los famosos reyes godos\n",
      "Los famosos reyes godos\n"
     ]
    }
   ],
   "source": [
    "try:\n",
    "    titular = driver.find_element(By.NAME, 'titular')\n",
    "    print(titular.text)\n",
    "    titular = titular.parent.find_element(By.NAME, 'titular')\n",
    "    print(titular.text)\n",
    "\n",
    "except NoSuchElementException as e:\n",
    "    print('ERRO. Non debería aparecer')"
   ]
  },
  {
   "cell_type": "markdown",
   "metadata": {},
   "source": [
    "Evidentemente volver atrás ao mesmo nivel de DOM, fai a mesma búsqueda e ofrece o mesmo (o primeiro).\n",
    "\n",
    "E non só podemos obter propiedades e datos, tamén podemos **enviar pulsacións de teclado** aos elementos seleccionados para interactuar con eles:"
   ]
  },
  {
   "cell_type": "code",
   "execution_count": 9,
   "metadata": {},
   "outputs": [],
   "source": [
    "driver.find_element(by=By.NAME, value='ministrosinterior').send_keys('Manuel Fraga Iribarne')"
   ]
  },
  {
   "cell_type": "markdown",
   "metadata": {},
   "source": [
    "##### Class Name &mdash; By.CLASS_NAME\n",
    "\n",
    "Nome de clase. Habitualmente serve para aplicar estilos CSS a todos os elementos con ese nome de clase.\n",
    "\n",
    "**Exemplo**:\n",
    "\n",
    "&lt;input type=\"button\" id=\"R1\" class=\"rey\" value=\"Ataúlfo\" data-fechareinado=\"(410-415)\"/&gt;\n",
    "\n",
    "De non existir ningún elemento con ese atributo, lánzase unha excepción de tipo: `NoSuchElementException`"
   ]
  },
  {
   "cell_type": "code",
   "execution_count": 29,
   "metadata": {},
   "outputs": [
    {
     "name": "stdout",
     "output_type": "stream",
     "text": [
      "O rei Ataúlfo mandou moito entre os anos (410-415)\n",
      "O rei Sigerico mandou moito entre os anos (415)\n",
      "O rei Walia mandou moito entre os anos (415-418)\n",
      "O rei Teodoredo mandou moito entre os anos (418-451)\n",
      "O rei Turismundo mandou moito entre os anos (451-453)\n",
      "O rei Teodorico II mandou moito entre os anos (453-466)\n",
      "O rei Eurico mandou moito entre os anos (466-484)\n",
      "O rei Alarico II mandou moito entre os anos (484-507)\n",
      "O rei Gesaleico mandou moito entre os anos (507-511)\n",
      "O rei Amalarico mandou moito entre os anos (511-531)\n",
      "O rei Teudis mandou moito entre os anos (531-548)\n",
      "O rei Teudiselo mandou moito entre os anos (548-59)\n",
      "O rei Ágila I mandou moito entre os anos (549-555)\n",
      "O rei Atanagildo mandou moito entre os anos (551-567)\n",
      "O rei Liuva I mandou moito entre os anos (567-572)\n",
      "O rei Leovigildo mandou moito entre os anos (570-586)\n",
      "O rei Recaredo I mandou moito entre os anos (586-601)\n",
      "O rei Luiva II mandou moito entre os anos (601-603)\n",
      "O rei Witerico mandou moito entre os anos (603-610)\n",
      "O rei Gundemaro mandou moito entre os anos (610-612)\n",
      "O rei Sisebuto mandou moito entre os anos (612-621)\n",
      "O rei Recaredo II mandou moito entre os anos (621)\n",
      "O rei Suintila mandou moito entre os anos (621-631)\n",
      "O rei Sisenando mandou moito entre os anos (631-636)\n",
      "O rei Chintila mandou moito entre os anos (636-639)\n",
      "O rei Tulga mandou moito entre os anos (639-642)\n",
      "O rei Chindasvinto mandou moito entre os anos (642-653)\n",
      "O rei Recesvinto mandou moito entre os anos (649-672)\n",
      "O rei Wamba mandou moito entre os anos (672-680)\n",
      "O rei Ervigio mandou moito entre os anos (680-687)\n",
      "O rei Égica mandou moito entre os anos (687-702)\n",
      "O rei Witiza mandou moito entre os anos (702-709)\n",
      "O rei Rodrigo mandou moito entre os anos (709-711)\n"
     ]
    }
   ],
   "source": [
    "try:\n",
    "    for rei in driver.find_elements(By.CLASS_NAME, 'rey'):\n",
    "        print('O rei {} mandou moito entre os anos {}'.format(rei.get_property('value'), rei.get_dom_attribute('data-fechareinado')))\n",
    "except NoSuchElementException as e:\n",
    "    print('ERRO. Non debería aparecer')"
   ]
  },
  {
   "cell_type": "markdown",
   "metadata": {},
   "source": [
    "##### CSS Selector &mdash; By.CSS_SELECTOR\n",
    "\n",
    "O mesmo que o anterior, pero podemos especificar o selector completo.\n",
    "\n",
    "**Exemplo**: button.rey\n",
    "\n",
    "&lt;input type=\"button\" id=\"R1\" class=\"rey\" value=\"Ataúlfo\" data-fechareinado=\"(410-415)\"/&gt;\n",
    "\n",
    "De non existir ningún elemento con ese atributo, lánzase unha excepción de tipo: `NoSuchElementException`"
   ]
  },
  {
   "cell_type": "code",
   "execution_count": 25,
   "metadata": {},
   "outputs": [
    {
     "name": "stdout",
     "output_type": "stream",
     "text": [
      "O rei Ataúlfo mandou moito entre os anos (410-415)\n",
      "O rei Sigerico mandou moito entre os anos (415)\n",
      "O rei Walia mandou moito entre os anos (415-418)\n",
      "O rei Teodoredo mandou moito entre os anos (418-451)\n",
      "O rei Turismundo mandou moito entre os anos (451-453)\n",
      "O rei Teodorico II mandou moito entre os anos (453-466)\n",
      "O rei Eurico mandou moito entre os anos (466-484)\n",
      "O rei Alarico II mandou moito entre os anos (484-507)\n",
      "O rei Gesaleico mandou moito entre os anos (507-511)\n",
      "O rei Amalarico mandou moito entre os anos (511-531)\n",
      "O rei Teudis mandou moito entre os anos (531-548)\n",
      "O rei Teudiselo mandou moito entre os anos (548-59)\n",
      "O rei Ágila I mandou moito entre os anos (549-555)\n",
      "O rei Atanagildo mandou moito entre os anos (551-567)\n",
      "O rei Liuva I mandou moito entre os anos (567-572)\n",
      "O rei Leovigildo mandou moito entre os anos (570-586)\n",
      "O rei Recaredo I mandou moito entre os anos (586-601)\n",
      "O rei Luiva II mandou moito entre os anos (601-603)\n",
      "O rei Witerico mandou moito entre os anos (603-610)\n",
      "O rei Gundemaro mandou moito entre os anos (610-612)\n",
      "O rei Sisebuto mandou moito entre os anos (612-621)\n",
      "O rei Recaredo II mandou moito entre os anos (621)\n",
      "O rei Suintila mandou moito entre os anos (621-631)\n",
      "O rei Sisenando mandou moito entre os anos (631-636)\n",
      "O rei Chintila mandou moito entre os anos (636-639)\n",
      "O rei Tulga mandou moito entre os anos (639-642)\n",
      "O rei Chindasvinto mandou moito entre os anos (642-653)\n",
      "O rei Recesvinto mandou moito entre os anos (649-672)\n",
      "O rei Wamba mandou moito entre os anos (672-680)\n",
      "O rei Ervigio mandou moito entre os anos (680-687)\n",
      "O rei Égica mandou moito entre os anos (687-702)\n",
      "O rei Witiza mandou moito entre os anos (702-709)\n",
      "O rei Rodrigo mandou moito entre os anos (709-711)\n"
     ]
    }
   ],
   "source": [
    "try:\n",
    "    for rey in driver.find_elements(By.CSS_SELECTOR, 'input.rey'):\n",
    "        print('O rei {} mandou moito entre os anos {}'.format(rey.get_dom_attribute('value'), rey.get_dom_attribute('data-fechareinado')))\n",
    "except NoSuchElementException as e:\n",
    "    print('ERRO. Non debería aparecer')"
   ]
  },
  {
   "cell_type": "markdown",
   "metadata": {},
   "source": [
    "##### Tag Name &mdash; By.TAG_NAME\n",
    "\n",
    "Se queremos atopar todas as ocurrencias dun determinado TAG HTML\n",
    "\n",
    "De non existir ningún elemento con ese atributo, lánzase unha excepción de tipo: `NoSuchElementException`"
   ]
  },
  {
   "cell_type": "code",
   "execution_count": 12,
   "metadata": {},
   "outputs": [
    {
     "name": "stdout",
     "output_type": "stream",
     "text": [
      "Los famosos reyes godos\n",
      "Juego de tronos\n",
      "Presidentes de España desde 1978\n",
      "Ministros del interior\n",
      "Provincias españolas\n"
     ]
    }
   ],
   "source": [
    "try:\n",
    "    titulares = driver.find_elements(By.TAG_NAME, 'h1')\n",
    "    for titular in titulares:\n",
    "        print(titular.text)\n",
    "except NoSuchElementException as e:\n",
    "    print('ERRO. Non debería aparecer')"
   ]
  },
  {
   "cell_type": "markdown",
   "metadata": {},
   "source": [
    "Exemplo dunha búsqueda dun tag dentro doutro.\n",
    "\n",
    "Primeiro seleccionanse os tr, despois búscase o primeiro td.\n",
    "\n",
    "**Exemplo**:\n",
    "~~~~\n",
    "<table>\n",
    "    <tr><!-- Fila 1-->\n",
    "        <td>Campo A</td>\n",
    "        <td>Campo B</td>\n",
    "        <td>Campo C</td>\n",
    "    </tr>\n",
    "    <tr><!-- Fila 2-->\n",
    "        <td>Campo A</td>\n",
    "        <td>Campo B</td>\n",
    "        <td>Campo C</td>\n",
    "    </tr>\n",
    "/table\n",
    "~~~~"
   ]
  },
  {
   "cell_type": "code",
   "execution_count": 30,
   "metadata": {},
   "outputs": [
    {
     "name": "stdout",
     "output_type": "stream",
     "text": [
      "Provincia\n",
      "Álava\n",
      "Albacete\n",
      "Alicante\n",
      "Almería\n",
      "Asturias\n",
      "Ávila\n",
      "Badajoz\n",
      "Barcelona\n",
      "Burgos\n",
      "Cáceres\n",
      "Cádiz\n",
      "Cantabria\n",
      "Castellón\n",
      "Ciudad Real\n",
      "Córdoba\n",
      "La Coruña\n",
      "Cuenca\n",
      "Gerona\n",
      "Granada\n",
      "Guadalajara\n",
      "Guipúzcoa\n",
      "Huelva\n",
      "Huesca\n",
      "Baleares\n",
      "Jaén\n",
      "León\n",
      "Lérida\n",
      "Lugo\n",
      "Madrid\n",
      "Málaga\n",
      "Murcia\n",
      "Navarra\n",
      "Orense\n",
      "Palencia\n",
      "Las Palmas\n",
      "Pontevedra\n",
      "La Rioja\n",
      "Salamanca\n",
      "Segovia\n",
      "Sevilla\n",
      "Soria\n",
      "Tarragona\n",
      "Santa Cruz de Tenerife\n",
      "Teruel\n",
      "Toledo\n",
      "Valencia\n",
      "Valladolid\n",
      "Vizcaya\n",
      "Zamora\n",
      "Zaragoza\n"
     ]
    }
   ],
   "source": [
    "try:\n",
    "    filas_tabla_provincias = driver.find_elements(By.TAG_NAME, 'tr')\n",
    "    for provincia in filas_tabla_provincias:\n",
    "        print(provincia.find_element(By.TAG_NAME, 'td').text)\n",
    "except NoSuchElementException as e:\n",
    "    print('ERRO. Non debería aparecer')"
   ]
  },
  {
   "cell_type": "markdown",
   "metadata": {},
   "source": [
    "##### Link Text &mdash; By.LINK_TEXT\n",
    "\n",
    "Buscamos mediante o texto exacto que está na ligazón dun tag de enlace:\n",
    "~~~~\n",
    "<a hfref=\"https://es.wikipedia.org/wiki/Wikipedia:Portada\">Wikipedia</a>.\n",
    "~~~~\n",
    "\n",
    "De non existir ningún elemento con ese atributo, lánzase unha excepción de tipo: `NoSuchElementException`"
   ]
  },
  {
   "cell_type": "code",
   "execution_count": 14,
   "metadata": {},
   "outputs": [],
   "source": [
    "try:\n",
    "    enlace_premer = driver.find_element(By.LINK_TEXT, 'Wikipedia')\n",
    "    enlace_premer.click()\n",
    "except NoSuchElementException as e:\n",
    "    print('ERRO. Non debería aparecer')"
   ]
  },
  {
   "cell_type": "code",
   "execution_count": 15,
   "metadata": {},
   "outputs": [],
   "source": [
    "#Deixamos todo no mesmo estado\n",
    "driver.get(URL_INICIAL)"
   ]
  },
  {
   "cell_type": "markdown",
   "metadata": {},
   "source": [
    "##### Partial Link Text &mdash; By.PARTIAL_LINK_TEXT\n",
    "\n",
    "Buscamos un cacho de texto nos tags de ligazóns:\n",
    "\n",
    "~~~~\n",
    "<a hfref=\"https://es.wikipedia.org/wiki/Wikipedia:Portada\">Wikipedia</a>.\n",
    "~~~~\n",
    "\n",
    "De non existir ningún elemento con ese atributo, lánzase unha excepción de tipo: `NoSuchElementException`"
   ]
  },
  {
   "cell_type": "code",
   "execution_count": 16,
   "metadata": {},
   "outputs": [],
   "source": [
    "try:\n",
    "    enlace_premer = driver.find_element(By.PARTIAL_LINK_TEXT, 'Wiki')\n",
    "    enlace_premer.click()\n",
    "except NoSuchElementException as e:\n",
    "    print('ERRO. Non debería aparecer')"
   ]
  },
  {
   "cell_type": "code",
   "execution_count": 17,
   "metadata": {},
   "outputs": [],
   "source": [
    "#Deixamos todo no mesmo estado\n",
    "driver.get(URL_INICIAL)"
   ]
  },
  {
   "cell_type": "markdown",
   "metadata": {},
   "source": [
    "##### XPATH &mdash; By.XPATH\n",
    "\n",
    "Este é quizás o máis potente, permite buscar de todo, aínda que polo mesmo un uso con toda a súa potencia resulta tamén máis complexo.\n",
    "\n",
    "XPath é unha sorte de linguaxe empregado para localizar nodos nun documento XML.\n",
    "\n",
    "**Titoriais**:\n",
    "- <https://www.w3schools.com/xml/xpath_intro.asp>\n",
    "- <https://www.w3.org/TR/xpath/>\n",
    "- <http://www.zvon.org/comp/r/tut-XPath_1.html>\n",
    "\n",
    "**TODO**: Esta parte pode que mellore nun futuro ou evolucione a outro notebook."
   ]
  },
  {
   "cell_type": "code",
   "execution_count": 40,
   "metadata": {},
   "outputs": [
    {
     "name": "stdout",
     "output_type": "stream",
     "text": [
      "<selenium.webdriver.remote.webelement.WebElement (session=\"05d0cf5b-85f3-47b5-b08f-d715d70432f5\", element=\"f75b336b-7a6c-433a-8b97-5bef2e2936b6\")>\n",
      "[<selenium.webdriver.remote.webelement.WebElement (session=\"05d0cf5b-85f3-47b5-b08f-d715d70432f5\", element=\"f75b336b-7a6c-433a-8b97-5bef2e2936b6\")>]\n",
      "No hay más\n"
     ]
    }
   ],
   "source": [
    "driver.get(URL_INICIAL)\n",
    "\n",
    "print(driver.find_element(By.XPATH, '//button[text()=\"No hay más\"]'))\n",
    "print(driver.find_elements(By.XPATH, '//button'))\n",
    "elemnts = (driver.find_elements(By.XPATH, '//button'))\n",
    "\n",
    "for i in elemnts:\n",
    "    print(i.text)"
   ]
  },
  {
   "cell_type": "markdown",
   "metadata": {},
   "source": [
    "### Accións\n",
    "\n",
    "Estas accións aplícanse aos elementos buscados/seleccionados (`selenium.webdriver.remote.webelement.WebElement`)\n",
    "\n",
    "- **clear**() &mdash; Aplícase a cadros de texto e outros elementos editables.\n",
    "- **send_keys**(): So se aplica aos cadros de texto e elementos editables do estilo.\n",
    "- **click**() &mdash; Aplícase a tódolos elementos.\n",
    "\n",
    "Para enviar un formulario recoméndase facer click no botón submit (a opción de submit quedou obsoleta)."
   ]
  },
  {
   "cell_type": "markdown",
   "metadata": {},
   "source": [
    "#### Elementos seleccionables\n",
    "\n",
    "Primeiro debemos instancialo (buscalo ou filtralo):\n",
    "\n"
   ]
  },
  {
   "cell_type": "code",
   "execution_count": 45,
   "metadata": {},
   "outputs": [],
   "source": [
    "from selenium.webdriver.support.select import Select\n",
    "\n",
    "select_element = driver.find_element(By.ID, 'presidentes')\n",
    "select = Select(select_element)"
   ]
  },
  {
   "cell_type": "markdown",
   "metadata": {},
   "source": [
    "Ver a lista de opcións:"
   ]
  },
  {
   "cell_type": "code",
   "execution_count": 46,
   "metadata": {},
   "outputs": [
    {
     "name": "stdout",
     "output_type": "stream",
     "text": [
      "Adolfo Suárez González\n",
      "Leopoldo Calvo Sotelo\n",
      "Felipe González Márquez\n",
      "José María Aznar López\n",
      "José Luis Rodríguez Zapatero\n",
      "Mariano Rajoy Brey\n",
      "Pedro Sánchez Pérez-Castejón\n"
     ]
    }
   ],
   "source": [
    "lista_opcions = select.options\n",
    "for elemento in lista_opcions:\n",
    "    print(elemento.text)"
   ]
  },
  {
   "cell_type": "markdown",
   "metadata": {},
   "source": [
    "Seleccionar por texto"
   ]
  },
  {
   "cell_type": "code",
   "execution_count": 49,
   "metadata": {},
   "outputs": [],
   "source": [
    "select.select_by_visible_text('Leopoldo Calvo Sotelo')"
   ]
  },
  {
   "cell_type": "markdown",
   "metadata": {},
   "source": [
    "Seleccionar por valor"
   ]
  },
  {
   "cell_type": "code",
   "execution_count": 53,
   "metadata": {},
   "outputs": [],
   "source": [
    "select.select_by_value('2')"
   ]
  },
  {
   "cell_type": "markdown",
   "metadata": {},
   "source": [
    "Seleccionar por índice (a primeira posición do índice é cero)"
   ]
  },
  {
   "cell_type": "code",
   "execution_count": 51,
   "metadata": {},
   "outputs": [],
   "source": [
    "select.select_by_index(3)"
   ]
  },
  {
   "cell_type": "markdown",
   "metadata": {},
   "source": [
    "Outras opcións **para listas múltiples**:\n",
    "\n",
    "Seleccionar tódalas opcións:\n",
    "\n",
    "    selected_option_list = select.all_selected_options()\n",
    "\n",
    "Quitar a selección de  tódalas opcións:\n",
    "\n",
    "    select.deselect_all()"
   ]
  },
  {
   "cell_type": "markdown",
   "metadata": {},
   "source": [
    "Quitar a selección dunha opción (só para listas múltiples):\n",
    "  \n",
    "    \n",
    "    select.deselect_by_value('2')\n",
    "\n",
    "    select.deselect_by_index(2)\n",
    "    \n",
    "    select.deselect_by_visible_text('Texto visible')"
   ]
  },
  {
   "cell_type": "markdown",
   "metadata": {},
   "source": [
    "⚠️ **AVISO**: Se tratamos de quitar a selección dunha lista que só admite seleccionar unha opción (simple, non múltiple) ou seleccionar un item desactivado (que non se pode seleccionar) entón devolveranos unha excepción de tipo: `NotImplementedError`."
   ]
  },
  {
   "cell_type": "markdown",
   "metadata": {},
   "source": [
    "### Bibliografía\n",
    "\n",
    "- <https://www.selenium.dev/>\n",
    "- <https://github.com/SeleniumHQ>\n",
    "- <https://selenium-python.readthedocs.io>\n",
    "- <https://selenium-python.readthedocs.io/locating-elements.html>"
   ]
  }
 ],
 "metadata": {
  "kernelspec": {
   "display_name": "bigdata",
   "language": "python",
   "name": "python3"
  },
  "language_info": {
   "codemirror_mode": {
    "name": "ipython",
    "version": 3
   },
   "file_extension": ".py",
   "mimetype": "text/x-python",
   "name": "python",
   "nbconvert_exporter": "python",
   "pygments_lexer": "ipython3",
   "version": "3.8.18"
  }
 },
 "nbformat": 4,
 "nbformat_minor": 2
}
