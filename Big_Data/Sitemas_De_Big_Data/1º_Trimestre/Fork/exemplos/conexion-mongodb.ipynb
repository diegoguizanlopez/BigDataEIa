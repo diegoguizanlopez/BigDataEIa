{
 "cells": [
  {
   "attachments": {},
   "cell_type": "markdown",
   "metadata": {},
   "source": [
    "# Conexión con MongoDB\n",
    "\n",
    "Cómo efectuar a conexión dende Python.\n",
    "\n",
    "Podes empregar o escenario de MongoDB para vagrant deste repositorio para montar o servidor e cargar un dataset de exemplo."
   ]
  },
  {
   "attachments": {},
   "cell_type": "markdown",
   "metadata": {},
   "source": [
    "## Instalación das librarías\n",
    "\n",
    "Precisamos instalar con conda `pymongo` e `dnspython`\n",
    "\n",
    "  `conda install pymongo dnspython`"
   ]
  },
  {
   "cell_type": "markdown",
   "metadata": {},
   "source": [
    "## Conectando e listando as bases de datos"
   ]
  },
  {
   "cell_type": "code",
   "execution_count": null,
   "metadata": {},
   "outputs": [],
   "source": [
    "from pymongo import MongoClient\n",
    "\n",
    "#HOST=\"(...).mongodb.net\"\n",
    "HOST=\"localhost\"\n",
    "PORT=27017\n",
    "USERNAME=\"\"\n",
    "PASSWORD=\"\"\n",
    "\n",
    "if HOST == 'localhost':\n",
    "    if not USERNAME:\n",
    "        cli_mongo = MongoClient(HOST, PORT)\n",
    "    else:\n",
    "        cli_mongo = MongoClient(HOST, PORT, USERNAME, PASSWORD)\n",
    "else:\n",
    "    cli_mongo = MongoClient(f\"mongodb+srv://{USERNAME}:{PASSWORD}@{HOST}/test\")"
   ]
  },
  {
   "cell_type": "markdown",
   "metadata": {},
   "source": [
    "## Listar as bases de datos"
   ]
  },
  {
   "cell_type": "code",
   "execution_count": null,
   "metadata": {},
   "outputs": [],
   "source": [
    "print (cli_mongo.list_database_names())"
   ]
  },
  {
   "cell_type": "markdown",
   "metadata": {},
   "source": [
    "## Crear unha base de datos"
   ]
  },
  {
   "cell_type": "code",
   "execution_count": null,
   "metadata": {},
   "outputs": [],
   "source": [
    "#Crear base de datos\n",
    "cli_mongo['BBBDD_a_Usar_o_Crear']\n",
    "#Hai que crear unha colección e engadir alomenos un documento para ver a BBDD"
   ]
  },
  {
   "attachments": {},
   "cell_type": "markdown",
   "metadata": {},
   "source": [
    "## Empregar unha base de datos existente\n",
    "\n",
    "Conectarse a unha base de datos e ver os nomes de coleccións"
   ]
  },
  {
   "cell_type": "code",
   "execution_count": null,
   "metadata": {},
   "outputs": [],
   "source": [
    "db_covid=cli_mongo['covid']\n",
    "print (db_covid.list_collection_names())"
   ]
  },
  {
   "attachments": {},
   "cell_type": "markdown",
   "metadata": {},
   "source": [
    "### Inserción dun documento"
   ]
  },
  {
   "cell_type": "code",
   "execution_count": null,
   "metadata": {},
   "outputs": [],
   "source": [
    "coleccion_covid=db_covid['coviditalia']\n",
    "\n",
    "print (\"Antes de insertar, hai: \", coleccion_covid.count_documents({}), \"documentos na BBDD\")\n",
    "\n",
    "coleccion_covid.insert_one({\n",
    "    'codice_regione': '99999',\n",
    "    'totale_casi': 999999999,\n",
    "    'stato': 'ITA'\n",
    "})\n",
    "\n",
    "print (\"Despois de insertar, hai: \", coleccion_covid.count_documents({}), \"documentos na BBDD\")"
   ]
  },
  {
   "attachments": {},
   "cell_type": "markdown",
   "metadata": {},
   "source": [
    "### Inserción dunha colección de elementos"
   ]
  },
  {
   "cell_type": "code",
   "execution_count": null,
   "metadata": {},
   "outputs": [],
   "source": [
    "print (\"Antes de insertar unha colección de 2 novos documentos, hai: \", coleccion_covid.count_documents({}), \"documentos na BBDD\")\n",
    "\n",
    "coleccion_covid.insert_many([ {\n",
    "    'codice_regione': '999991',\n",
    "    'totale_casi': 9999999991,\n",
    "    'stato': 'ITA'\n",
    "},{\n",
    "    'codice_regione': '999992',\n",
    "    'totale_casi': 9999999992,\n",
    "    'stato': 'ITA'\n",
    "}])\n",
    "\n",
    "print (\"Depois de insertar unha colección de 2 novos documentos, hai: \", coleccion_covid.count_documents({}), \"documentos na BBDD\")"
   ]
  },
  {
   "attachments": {},
   "cell_type": "markdown",
   "metadata": {},
   "source": [
    "### Buscando documentos"
   ]
  },
  {
   "cell_type": "code",
   "execution_count": null,
   "metadata": {},
   "outputs": [],
   "source": [
    "#Buscar por valor concreto\n",
    "print (\"Buscando documentos con exactamente 999999999 casos totales\")\n",
    "aux_documentos = coleccion_covid.find({\n",
    "    'totale_casi': 999999999\n",
    "})\n",
    "for documento in aux_documentos:\n",
    "    print (documento)\n",
    "\n",
    "#Buscar usando condiciones (mayor que ese número de casos)\n",
    "print (\"Buscando documentos con más de 999999999 casos totales\")\n",
    "aux_documentos = coleccion_covid.find({\n",
    "    'totale_casi': {\"$gt\": 999999999}\n",
    "})\n",
    "for documento in aux_documentos:\n",
    "    print (documento)\n",
    "\n",
    "#Buscar exactamente un documento (cuidado si hay varios al devolver el primero)\n",
    "print (\"Buscando primer documento con exactamente 9999999991 casos totales\")\n",
    "uno_doc= coleccion_covid.find_one({'totale_casi': 9999999991})\n",
    "print (uno_doc)\n"
   ]
  },
  {
   "attachments": {},
   "cell_type": "markdown",
   "metadata": {},
   "source": [
    "### Borrando documento/s"
   ]
  },
  {
   "cell_type": "code",
   "execution_count": null,
   "metadata": {},
   "outputs": [],
   "source": [
    "#Borrando un documento\n",
    "print (\"Antes de borrar 1 documento, hai: \", coleccion_covid.count_documents({}), \"documentos na BBDD\")\n",
    "borrado=coleccion_covid.delete_one({'codice_regione': '999991', 'totale_casi': 9999999991, 'stato': 'ITA'})\n",
    "print (\"Despois de borrar 1 documento, hai: \", coleccion_covid.count_documents({}), \"documentos na BBDD (\", borrado.deleted_count,\") borrado\")\n",
    "\n",
    "#Borrando varios documentos\n",
    "print (\"Antes de borrar varios documentos, hai: \", coleccion_covid.count_documents({}), \"documentos na BBDD\")\n",
    "borrados=coleccion_covid.delete_many({'codice_regione': {'$regex': '^99999'}})\n",
    "print (\"Despois de borrar varios documentos, hai: \", coleccion_covid.count_documents({}), \n",
    "    \"documentos na BBDD (\", borrados.deleted_count,\") borrados\")"
   ]
  },
  {
   "attachments": {},
   "cell_type": "markdown",
   "metadata": {},
   "source": [
    "### Modificando/Actualizando documentos"
   ]
  },
  {
   "cell_type": "code",
   "execution_count": null,
   "metadata": {},
   "outputs": [],
   "source": [
    "#Primeiro imos meter uns datos de exemplo (os anteriores deberían estar borrados)\n",
    "coleccion_covid.insert_many([ {\n",
    "    'codice_regione': '01234567890',\n",
    "    'totale_casi': 1024,\n",
    "    'stato': 'ITA'\n",
    "},{\n",
    "    'codice_regione': '11234567891',\n",
    "    'totale_casi': 1024,\n",
    "    'stato': 'ITA'\n",
    "}])\n",
    "\n",
    "#Amosamos os documentos\n",
    "def amosar_documentos(texto):\n",
    "    print (texto)\n",
    "    aux_documentos = coleccion_covid.find({\n",
    "        'codice_regione': {\"$regex\": '^[0-1]123456789[0-1]$'}\n",
    "    })\n",
    "    for i in aux_documentos:\n",
    "        print(i)\n",
    "\n",
    "amosar_documentos(\"Documentos de exemplo insertados antes do cambio\")\n",
    "\n",
    "#Actualizar un documento con 2048 casos\n",
    "filtro_busqueda={'codice_regione': '01234567890'}\n",
    "valores_actualizar = {'totale_casi': 2048}\n",
    "coleccion_covid.update_one(\n",
    "    filtro_busqueda,\n",
    "    {\"$set\": valores_actualizar\n",
    "})\n",
    "\n",
    "amosar_documentos(\"Documento de exemplo actualizado (un con 2048 casos)\")\n",
    "\n",
    "#Actualizar os dous documentos con 4096 casos\n",
    "filtro_busqueda={'codice_regione': {\"$regex\": '^[0-1]123456789[0-1]$'}}\n",
    "valores_actualizar = {'totale_casi': 4096}\n",
    "coleccion_covid.update_many(\n",
    "    filtro_busqueda,\n",
    "    {\"$set\": valores_actualizar\n",
    "})\n",
    "\n",
    "amosar_documentos(\"Documentos de exemplo actualizados (ambos con 4096 casos)\")\n",
    "\n",
    "docs_borrados=coleccion_covid.delete_many(filtro_busqueda)\n",
    "\n",
    "print (\"Borrados documentos de proba: \", docs_borrados.deleted_count)"
   ]
  }
 ],
 "metadata": {
  "kernelspec": {
   "display_name": "bigdata",
   "language": "python",
   "name": "python3"
  },
  "language_info": {
   "codemirror_mode": {
    "name": "ipython",
    "version": 3
   },
   "file_extension": ".py",
   "mimetype": "text/x-python",
   "name": "python",
   "nbconvert_exporter": "python",
   "pygments_lexer": "ipython3",
   "version": "3.8.15"
  },
  "orig_nbformat": 4,
  "vscode": {
   "interpreter": {
    "hash": "6f2c8ca1a79d6d82f32e116612cbd8f0319de1d4a0a5509748c0bfa14525846a"
   }
  }
 },
 "nbformat": 4,
 "nbformat_minor": 2
}
