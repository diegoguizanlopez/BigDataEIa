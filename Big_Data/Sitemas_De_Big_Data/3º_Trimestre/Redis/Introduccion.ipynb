{
 "cells": [
  {
   "cell_type": "code",
   "execution_count": 12,
   "metadata": {},
   "outputs": [],
   "source": [
    "#from redis import Redis\n",
    "import redis\n",
    "\n",
    "data = {\n",
    "    'dog': {\n",
    "        'scientific-name' : 'Canis familiaris'\n",
    "    }\n",
    "}\n",
    "\n",
    "r = redis.Redis(host=\"localhost\",port=6379,password=\"123quetal123\")\n",
    "#r.auth(\"123quetal123\")\n",
    "r.ping()\n",
    "#Non instalado no escenario a extensión JSON\n",
    "r.json().set('doc', '$', data)\n",
    "doc = r.json().get('doc', '$')\n",
    "dog = r.json().get('doc', '$.dog')\n",
    "scientific_name = r.json().get('doc', '$..scientific-name')"
   ]
  },
  {
   "cell_type": "code",
   "execution_count": 13,
   "metadata": {},
   "outputs": [
    {
     "data": {
      "text/plain": [
       "['Canis familiaris']"
      ]
     },
     "execution_count": 13,
     "metadata": {},
     "output_type": "execute_result"
    }
   ],
   "source": [
    "scientific_name"
   ]
  }
 ],
 "metadata": {
  "kernelspec": {
   "display_name": "bigdata",
   "language": "python",
   "name": "python3"
  },
  "language_info": {
   "codemirror_mode": {
    "name": "ipython",
    "version": 3
   },
   "file_extension": ".py",
   "mimetype": "text/x-python",
   "name": "python",
   "nbconvert_exporter": "python",
   "pygments_lexer": "ipython3",
   "version": "3.8.18"
  }
 },
 "nbformat": 4,
 "nbformat_minor": 2
}
