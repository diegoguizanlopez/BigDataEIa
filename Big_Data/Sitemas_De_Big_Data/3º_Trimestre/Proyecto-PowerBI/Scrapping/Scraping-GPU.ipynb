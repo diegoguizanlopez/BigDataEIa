{
 "cells": [
  {
   "cell_type": "code",
   "execution_count": null,
   "metadata": {},
   "outputs": [],
   "source": [
    "import argparse\n",
    "from enum import Enum\n",
    "import sys\n",
    "from selenium import webdriver\n",
    "from selenium.webdriver.common.by import By\n",
    "from selenium import webdriver\n",
    "from selenium.webdriver.common.keys import Keys\n",
    "from selenium.webdriver.support.ui import WebDriverWait\n",
    "from selenium.webdriver.support import expected_conditions as EC\n",
    "from selenium.webdriver.support.select import Select\n",
    "from selenium.webdriver.common.action_chains import ActionChains\n",
    "import time\n",
    "import random\n"
   ]
  },
  {
   "cell_type": "code",
   "execution_count": null,
   "metadata": {},
   "outputs": [],
   "source": [
    "#Instalar gecko\n",
    "from webdriver_manager.firefox import GeckoDriverManager\n",
    "from selenium.webdriver.firefox.service import Service\n",
    "\n",
    "\n",
    "#Abrir un navegador\n",
    "from selenium import webdriver\n",
    "from selenium.webdriver.common.by import By\n",
    "driver = webdriver.Firefox(service=Service(executable_path=GeckoDriverManager().install()))"
   ]
  },
  {
   "cell_type": "code",
   "execution_count": null,
   "metadata": {},
   "outputs": [],
   "source": [
    "URL=\"https://technical.city/en/video/rating\""
   ]
  },
  {
   "cell_type": "code",
   "execution_count": null,
   "metadata": {},
   "outputs": [],
   "source": [
    "\n",
    "def waitFinishLoad(driver,idLoader,needsDisapeared=False,by=By.ID,needsWait=True):\n",
    "    \"\"\"Espera a la carga de un elemento antes de continuar\n",
    "\n",
    "    Args:\n",
    "        driver (WebDriver): WebDriver\n",
    "        idLoader (str): Id a buscar, puede ser XPath...\n",
    "        needsDisapeared (bool, optional): Si el elemento a esperar tiene que aparecer o desaparecer como un CircularProgress. Defaults to False.\n",
    "        by (str, optional): Tipo de By a buscar el Wait. Defaults to By.ID.\n",
    "        needsWait (bool, optional): Si necesita esperar un extra para que no pueda saltar un Captcha. Defaults to False.\n",
    "    \"\"\"\n",
    "    if idLoader is None:\n",
    "        return\n",
    "    WebDriverWait(driver, timeout=60).until(EC.presence_of_element_located((by, idLoader)))\n",
    "    if needsDisapeared:\n",
    "        WebDriverWait(driver, timeout=60).until(EC.invisibility_of_element((by, idLoader)))\n",
    "    if needsWait:\n",
    "        time.sleep(random.choice([0.05,0.1,0.2]))\n",
    "\n",
    "def elementBy(query,driver,**kargs):\n",
    "    \"\"\"Devuelve un element|None dependiendo de la consulta\n",
    "\n",
    "    Args:\n",
    "        query (str): Busqueda a realizar del elemento\n",
    "        driver (WebDriver): WebDriver\n",
    "\n",
    "    Returns:\n",
    "        Element|None: Elemento de la búsqueda\n",
    "    \"\"\"\n",
    "    if not kargs.get(\"needsWait\",False):\n",
    "        waitFinishLoad(driver,kargs.get(\"idLoader\",None),by=kargs.get(\"by\",By.ID),needsWait=kargs.get(\"needsWait\",False))\n",
    "    element=driver.find_element(kargs.get(\"by\",By.XPATH),query)\n",
    "    waitFinishLoad(driver,kargs.get(\"idLoader\",None),by=kargs.get(\"by\",By.ID),needsWait=kargs.get(\"needsWait\",False))\n",
    "    return element\n",
    "\n",
    "def clickEvent(driver,element,**kargs):\n",
    "    \"\"\"Click en un elemento que funciona con evento\n",
    "\n",
    "    Args:\n",
    "        driver (WebDriver): WebDriver\n",
    "        element (Element): Elemento que tiene el evento\n",
    "    \"\"\"\n",
    "    if not kargs.get(\"needsWait\",False):\n",
    "        waitFinishLoad(driver,kargs.get(\"idLoader\",None),by=kargs.get(\"by\",By.ID),needsWait=kargs.get(\"needsWait\",False))\n",
    "    if kargs.get(\"normal\",False):\n",
    "        element.click\n",
    "    else:\n",
    "        try:\n",
    "            driver.execute_script(element.get_dom_attribute(\"onClick\"))\n",
    "        except:\n",
    "            element.click\n",
    "    waitFinishLoad(driver,kargs.get(\"idLoader\",None),by=kargs.get(\"by\",By.ID),needsWait=kargs.get(\"needsWait\",False))\n",
    "# endregion"
   ]
  },
  {
   "cell_type": "code",
   "execution_count": null,
   "metadata": {},
   "outputs": [],
   "source": [
    "# id-footer\n",
    "import pandas as pd\n",
    "\n",
    "df = pd.DataFrame([])\n",
    "while True:\n",
    "    "
   ]
  }
 ],
 "metadata": {
  "kernelspec": {
   "display_name": "ProyectoBI",
   "language": "python",
   "name": "python3"
  },
  "language_info": {
   "name": "python",
   "version": "3.8.19"
  }
 },
 "nbformat": 4,
 "nbformat_minor": 2
}
