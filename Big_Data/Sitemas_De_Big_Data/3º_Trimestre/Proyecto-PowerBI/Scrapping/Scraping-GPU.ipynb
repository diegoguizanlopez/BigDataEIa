{
 "cells": [
  {
   "cell_type": "code",
   "execution_count": 3,
   "metadata": {},
   "outputs": [],
   "source": [
    "import argparse\n",
    "from enum import Enum\n",
    "import sys\n",
    "from selenium import webdriver\n",
    "from selenium.webdriver.common.by import By\n",
    "from selenium import webdriver\n",
    "from selenium.webdriver.common.keys import Keys\n",
    "from selenium.webdriver.support.ui import WebDriverWait\n",
    "from selenium.webdriver.support import expected_conditions as EC\n",
    "from selenium.webdriver.support.select import Select\n",
    "from selenium.webdriver.common.action_chains import ActionChains\n",
    "import time\n",
    "import random\n"
   ]
  },
  {
   "cell_type": "code",
   "execution_count": 4,
   "metadata": {},
   "outputs": [
    {
     "data": {
      "text/plain": [
       "'/home/diegogl/.wdm/drivers/geckodriver/linux64/v0.34.0/geckodriver'"
      ]
     },
     "execution_count": 4,
     "metadata": {},
     "output_type": "execute_result"
    }
   ],
   "source": [
    "from webdriver_manager.firefox import GeckoDriverManager\n",
    "GeckoDriverManager().install()"
   ]
  },
  {
   "cell_type": "code",
   "execution_count": 5,
   "metadata": {},
   "outputs": [],
   "source": [
    "#Instalar gecko\n",
    "from webdriver_manager.firefox import GeckoDriverManager\n",
    "from selenium.webdriver.firefox.service import Service\n",
    "\n",
    "\n",
    "#Abrir un navegador\n",
    "from selenium import webdriver\n",
    "from selenium.webdriver.common.by import By\n",
    "driver = webdriver.Firefox()"
   ]
  },
  {
   "cell_type": "code",
   "execution_count": 6,
   "metadata": {},
   "outputs": [],
   "source": [
    "URL=\"https://technical.city/en/video/rating\""
   ]
  },
  {
   "cell_type": "code",
   "execution_count": 7,
   "metadata": {},
   "outputs": [],
   "source": [
    "\n",
    "def waitFinishLoad(driver,idLoader,needsDisapeared=False,by=By.ID,needsWait=True):\n",
    "    \"\"\"Espera a la carga de un elemento antes de continuar\n",
    "\n",
    "    Args:\n",
    "        driver (WebDriver): WebDriver\n",
    "        idLoader (str): Id a buscar, puede ser XPath...\n",
    "        needsDisapeared (bool, optional): Si el elemento a esperar tiene que aparecer o desaparecer como un CircularProgress. Defaults to False.\n",
    "        by (str, optional): Tipo de By a buscar el Wait. Defaults to By.ID.\n",
    "        needsWait (bool, optional): Si necesita esperar un extra para que no pueda saltar un Captcha. Defaults to False.\n",
    "    \"\"\"\n",
    "    if idLoader is None:\n",
    "        return\n",
    "    WebDriverWait(driver, timeout=60).until(EC.presence_of_element_located((by, idLoader)))\n",
    "    if needsDisapeared:\n",
    "        WebDriverWait(driver, timeout=60).until(EC.invisibility_of_element((by, idLoader)))\n",
    "    if needsWait:\n",
    "        time.sleep(random.choice([0.05,0.1,0.2]))\n",
    "\n",
    "def elementBy(query,driver,**kargs):\n",
    "    \"\"\"Devuelve un element|None dependiendo de la consulta\n",
    "\n",
    "    Args:\n",
    "        query (str): Busqueda a realizar del elemento\n",
    "        driver (WebDriver): WebDriver\n",
    "\n",
    "    Returns:\n",
    "        Element|None: Elemento de la búsqueda\n",
    "    \"\"\"\n",
    "    idLoader=kargs.get(\"idLoader\",query)\n",
    "    if not kargs.get(\"needsWait\",False):\n",
    "        waitFinishLoad(driver,idLoader,by=kargs.get(\"by\",By.ID),needsWait=kargs.get(\"needsWait\",False))\n",
    "    element=driver.find_element(kargs.get(\"by\",By.XPATH),query)\n",
    "    waitFinishLoad(driver,idLoader,by=kargs.get(\"by\",By.ID),needsWait=kargs.get(\"needsWait\",False))\n",
    "    return element\n",
    "\n",
    "def clickEvent(driver,element,**kargs):\n",
    "    \"\"\"Click en un elemento que funciona con evento\n",
    "\n",
    "    Args:\n",
    "        driver (WebDriver): WebDriver\n",
    "        element (Element): Elemento que tiene el evento\n",
    "    \"\"\"\n",
    "    if not kargs.get(\"needsWait\",False):\n",
    "        waitFinishLoad(driver,kargs.get(\"idLoader\",None),by=kargs.get(\"by\",By.ID),needsWait=kargs.get(\"needsWait\",False))\n",
    "    if kargs.get(\"normal\",False):\n",
    "        element.click\n",
    "    else:\n",
    "        try:\n",
    "            driver.execute_script(element.get_dom_attribute(\"onClick\"))\n",
    "        except:\n",
    "            element.click\n",
    "    waitFinishLoad(driver,kargs.get(\"idLoader\",None),by=kargs.get(\"by\",By.ID),needsWait=kargs.get(\"needsWait\",False))\n",
    "\n",
    "def elementsBy(query,driver,**kargs):\n",
    "    \"\"\"Devuelve una lista de elements dependiendo de la consulta\n",
    "\n",
    "    Args:\n",
    "        query (str): Busqueda a realizar del elemento\n",
    "        driver (WebDriver): WebDriver\n",
    "\n",
    "    Returns:\n",
    "        List<Element>: Lista de elementos\n",
    "    \"\"\"\n",
    "    if not kargs.get(\"needsWait\",False):\n",
    "        waitFinishLoad(driver,kargs.get(\"idLoader\",None),by=kargs.get(\"by\",By.ID),needsWait=kargs.get(\"needsWait\",False))\n",
    "    element=driver.find_elements(kargs.get(\"byq\",By.XPATH),query)\n",
    "    waitFinishLoad(driver,kargs.get(\"idLoader\",None),by=kargs.get(\"by\",By.ID),needsWait=kargs.get(\"needsWait\",False))\n",
    "    return element\n",
    "# endregion"
   ]
  },
  {
   "cell_type": "code",
   "execution_count": 8,
   "metadata": {},
   "outputs": [],
   "source": [
    "driver.get(URL)"
   ]
  },
  {
   "cell_type": "code",
   "execution_count": 9,
   "metadata": {},
   "outputs": [
    {
     "ename": "KeyboardInterrupt",
     "evalue": "",
     "output_type": "error",
     "traceback": [
      "\u001b[0;31m---------------------------------------------------------------------------\u001b[0m",
      "\u001b[0;31mKeyboardInterrupt\u001b[0m                         Traceback (most recent call last)",
      "Cell \u001b[0;32mIn[9], line 1\u001b[0m\n\u001b[0;32m----> 1\u001b[0m \u001b[43melementBy\u001b[49m\u001b[43m(\u001b[49m\u001b[38;5;124;43m\"\u001b[39;49m\u001b[38;5;124;43m//*[@role=\u001b[39;49m\u001b[38;5;124;43m'\u001b[39;49m\u001b[38;5;124;43mdialog\u001b[39;49m\u001b[38;5;124;43m'\u001b[39;49m\u001b[38;5;124;43m]/div[2]/div/button[2]\u001b[39;49m\u001b[38;5;124;43m\"\u001b[39;49m\u001b[43m,\u001b[49m\u001b[43mdriver\u001b[49m\u001b[43m,\u001b[49m\u001b[43mby\u001b[49m\u001b[38;5;241;43m=\u001b[39;49m\u001b[43mBy\u001b[49m\u001b[38;5;241;43m.\u001b[39;49m\u001b[43mXPATH\u001b[49m\u001b[43m,\u001b[49m\u001b[43mneedsWait\u001b[49m\u001b[38;5;241;43m=\u001b[39;49m\u001b[38;5;28;43;01mFalse\u001b[39;49;00m\u001b[43m)\u001b[49m\u001b[38;5;241m.\u001b[39mclick()\n",
      "Cell \u001b[0;32mIn[7], line 31\u001b[0m, in \u001b[0;36melementBy\u001b[0;34m(query, driver, **kargs)\u001b[0m\n\u001b[1;32m     29\u001b[0m idLoader\u001b[38;5;241m=\u001b[39mkargs\u001b[38;5;241m.\u001b[39mget(\u001b[38;5;124m\"\u001b[39m\u001b[38;5;124midLoader\u001b[39m\u001b[38;5;124m\"\u001b[39m,query)\n\u001b[1;32m     30\u001b[0m \u001b[38;5;28;01mif\u001b[39;00m \u001b[38;5;129;01mnot\u001b[39;00m kargs\u001b[38;5;241m.\u001b[39mget(\u001b[38;5;124m\"\u001b[39m\u001b[38;5;124mneedsWait\u001b[39m\u001b[38;5;124m\"\u001b[39m,\u001b[38;5;28;01mFalse\u001b[39;00m):\n\u001b[0;32m---> 31\u001b[0m     \u001b[43mwaitFinishLoad\u001b[49m\u001b[43m(\u001b[49m\u001b[43mdriver\u001b[49m\u001b[43m,\u001b[49m\u001b[43midLoader\u001b[49m\u001b[43m,\u001b[49m\u001b[43mby\u001b[49m\u001b[38;5;241;43m=\u001b[39;49m\u001b[43mkargs\u001b[49m\u001b[38;5;241;43m.\u001b[39;49m\u001b[43mget\u001b[49m\u001b[43m(\u001b[49m\u001b[38;5;124;43m\"\u001b[39;49m\u001b[38;5;124;43mby\u001b[39;49m\u001b[38;5;124;43m\"\u001b[39;49m\u001b[43m,\u001b[49m\u001b[43mBy\u001b[49m\u001b[38;5;241;43m.\u001b[39;49m\u001b[43mID\u001b[49m\u001b[43m)\u001b[49m\u001b[43m,\u001b[49m\u001b[43mneedsWait\u001b[49m\u001b[38;5;241;43m=\u001b[39;49m\u001b[43mkargs\u001b[49m\u001b[38;5;241;43m.\u001b[39;49m\u001b[43mget\u001b[49m\u001b[43m(\u001b[49m\u001b[38;5;124;43m\"\u001b[39;49m\u001b[38;5;124;43mneedsWait\u001b[39;49m\u001b[38;5;124;43m\"\u001b[39;49m\u001b[43m,\u001b[49m\u001b[38;5;28;43;01mFalse\u001b[39;49;00m\u001b[43m)\u001b[49m\u001b[43m)\u001b[49m\n\u001b[1;32m     32\u001b[0m element\u001b[38;5;241m=\u001b[39mdriver\u001b[38;5;241m.\u001b[39mfind_element(kargs\u001b[38;5;241m.\u001b[39mget(\u001b[38;5;124m\"\u001b[39m\u001b[38;5;124mby\u001b[39m\u001b[38;5;124m\"\u001b[39m,By\u001b[38;5;241m.\u001b[39mXPATH),query)\n\u001b[1;32m     33\u001b[0m waitFinishLoad(driver,idLoader,by\u001b[38;5;241m=\u001b[39mkargs\u001b[38;5;241m.\u001b[39mget(\u001b[38;5;124m\"\u001b[39m\u001b[38;5;124mby\u001b[39m\u001b[38;5;124m\"\u001b[39m,By\u001b[38;5;241m.\u001b[39mID),needsWait\u001b[38;5;241m=\u001b[39mkargs\u001b[38;5;241m.\u001b[39mget(\u001b[38;5;124m\"\u001b[39m\u001b[38;5;124mneedsWait\u001b[39m\u001b[38;5;124m\"\u001b[39m,\u001b[38;5;28;01mFalse\u001b[39;00m))\n",
      "Cell \u001b[0;32mIn[7], line 13\u001b[0m, in \u001b[0;36mwaitFinishLoad\u001b[0;34m(driver, idLoader, needsDisapeared, by, needsWait)\u001b[0m\n\u001b[1;32m     11\u001b[0m \u001b[38;5;28;01mif\u001b[39;00m idLoader \u001b[38;5;129;01mis\u001b[39;00m \u001b[38;5;28;01mNone\u001b[39;00m:\n\u001b[1;32m     12\u001b[0m     \u001b[38;5;28;01mreturn\u001b[39;00m\n\u001b[0;32m---> 13\u001b[0m \u001b[43mWebDriverWait\u001b[49m\u001b[43m(\u001b[49m\u001b[43mdriver\u001b[49m\u001b[43m,\u001b[49m\u001b[43m \u001b[49m\u001b[43mtimeout\u001b[49m\u001b[38;5;241;43m=\u001b[39;49m\u001b[38;5;241;43m60\u001b[39;49m\u001b[43m)\u001b[49m\u001b[38;5;241;43m.\u001b[39;49m\u001b[43muntil\u001b[49m\u001b[43m(\u001b[49m\u001b[43mEC\u001b[49m\u001b[38;5;241;43m.\u001b[39;49m\u001b[43mpresence_of_element_located\u001b[49m\u001b[43m(\u001b[49m\u001b[43m(\u001b[49m\u001b[43mby\u001b[49m\u001b[43m,\u001b[49m\u001b[43m \u001b[49m\u001b[43midLoader\u001b[49m\u001b[43m)\u001b[49m\u001b[43m)\u001b[49m\u001b[43m)\u001b[49m\n\u001b[1;32m     14\u001b[0m \u001b[38;5;28;01mif\u001b[39;00m needsDisapeared:\n\u001b[1;32m     15\u001b[0m     WebDriverWait(driver, timeout\u001b[38;5;241m=\u001b[39m\u001b[38;5;241m60\u001b[39m)\u001b[38;5;241m.\u001b[39muntil(EC\u001b[38;5;241m.\u001b[39minvisibility_of_element((by, idLoader)))\n",
      "File \u001b[0;32m~/miniconda3/envs/bigdata/lib/python3.11/site-packages/selenium/webdriver/support/wait.py:102\u001b[0m, in \u001b[0;36mWebDriverWait.until\u001b[0;34m(self, method, message)\u001b[0m\n\u001b[1;32m    100\u001b[0m     screen \u001b[38;5;241m=\u001b[39m \u001b[38;5;28mgetattr\u001b[39m(exc, \u001b[38;5;124m\"\u001b[39m\u001b[38;5;124mscreen\u001b[39m\u001b[38;5;124m\"\u001b[39m, \u001b[38;5;28;01mNone\u001b[39;00m)\n\u001b[1;32m    101\u001b[0m     stacktrace \u001b[38;5;241m=\u001b[39m \u001b[38;5;28mgetattr\u001b[39m(exc, \u001b[38;5;124m\"\u001b[39m\u001b[38;5;124mstacktrace\u001b[39m\u001b[38;5;124m\"\u001b[39m, \u001b[38;5;28;01mNone\u001b[39;00m)\n\u001b[0;32m--> 102\u001b[0m time\u001b[38;5;241m.\u001b[39msleep(\u001b[38;5;28mself\u001b[39m\u001b[38;5;241m.\u001b[39m_poll)\n\u001b[1;32m    103\u001b[0m \u001b[38;5;28;01mif\u001b[39;00m time\u001b[38;5;241m.\u001b[39mmonotonic() \u001b[38;5;241m>\u001b[39m end_time:\n\u001b[1;32m    104\u001b[0m     \u001b[38;5;28;01mbreak\u001b[39;00m\n",
      "\u001b[0;31mKeyboardInterrupt\u001b[0m: "
     ]
    }
   ],
   "source": [
    "elementBy(\"//*[@role='dialog']/div[2]/div/button[2]\",driver,by=By.XPATH,needsWait=False).click()"
   ]
  },
  {
   "cell_type": "code",
   "execution_count": 10,
   "metadata": {},
   "outputs": [],
   "source": [
    "# id-footer\n",
    "from io import StringIO\n",
    "from bs4 import BeautifulSoup\n",
    "import pandas as pd\n",
    "\n",
    "\n",
    "df = pd.DataFrame([])\n",
    "pastElements=[]\n",
    "laps=0\n",
    "while True:\n",
    "    elements=elementsBy(\"//tr\",driver,by=By.XPATH)\n",
    "    driver.execute_script(\"arguments[0].scrollIntoView();\", elements[-1])\n",
    "    if pastElements==elements:\n",
    "        laps+=1\n",
    "    else:\n",
    "        laps=0\n",
    "    if laps==100:\n",
    "        break\n",
    "    pastElements=elements\n",
    "\n",
    "\n",
    "soup=BeautifulSoup(driver.page_source,'html.parser')\n",
    "df=pd.read_html(StringIO(str(soup.findAll(\"table\")[0])))[0]\n",
    "#df=df[~df.iloc[:,0].str.startswith('Página')]"
   ]
  },
  {
   "cell_type": "code",
   "execution_count": 11,
   "metadata": {},
   "outputs": [],
   "source": [
    "df = df[['Graphics card','Type','Performance','Architecture','Year','Price now','TDP']]"
   ]
  },
  {
   "cell_type": "code",
   "execution_count": 12,
   "metadata": {},
   "outputs": [],
   "source": [
    "if df.columns.tolist()[0].startswith('@media'):\n",
    "    # Si es así, elimina la columna\n",
    "    df = df.drop(columns=[df.columns.tolist()[0]])"
   ]
  },
  {
   "cell_type": "code",
   "execution_count": 13,
   "metadata": {},
   "outputs": [],
   "source": [
    "df=df[df.isna().sum(axis=1)<3]"
   ]
  },
  {
   "cell_type": "code",
   "execution_count": 14,
   "metadata": {},
   "outputs": [
    {
     "data": {
      "text/plain": [
       "1446"
      ]
     },
     "execution_count": 14,
     "metadata": {},
     "output_type": "execute_result"
    }
   ],
   "source": [
    "len(df)"
   ]
  },
  {
   "cell_type": "code",
   "execution_count": 16,
   "metadata": {},
   "outputs": [],
   "source": [
    "df=df.reset_index()"
   ]
  },
  {
   "cell_type": "code",
   "execution_count": 20,
   "metadata": {},
   "outputs": [
    {
     "data": {
      "text/html": [
       "<div>\n",
       "<style scoped>\n",
       "    .dataframe tbody tr th:only-of-type {\n",
       "        vertical-align: middle;\n",
       "    }\n",
       "\n",
       "    .dataframe tbody tr th {\n",
       "        vertical-align: top;\n",
       "    }\n",
       "\n",
       "    .dataframe thead th {\n",
       "        text-align: right;\n",
       "    }\n",
       "</style>\n",
       "<table border=\"1\" class=\"dataframe\">\n",
       "  <thead>\n",
       "    <tr style=\"text-align: right;\">\n",
       "      <th></th>\n",
       "      <th>Graphics card</th>\n",
       "      <th>Type</th>\n",
       "      <th>Performance</th>\n",
       "      <th>Architecture</th>\n",
       "      <th>Year</th>\n",
       "      <th>Price now</th>\n",
       "      <th>TDP</th>\n",
       "    </tr>\n",
       "  </thead>\n",
       "  <tbody>\n",
       "    <tr>\n",
       "      <th>0</th>\n",
       "      <td>GeForce RTX 4090</td>\n",
       "      <td>desktop</td>\n",
       "      <td>100.00</td>\n",
       "      <td>Ada Lovelace</td>\n",
       "      <td>2022</td>\n",
       "      <td>1756 USD</td>\n",
       "      <td>450 W</td>\n",
       "    </tr>\n",
       "    <tr>\n",
       "      <th>1</th>\n",
       "      <td>GeForce RTX 4080</td>\n",
       "      <td>desktop</td>\n",
       "      <td>89.40</td>\n",
       "      <td>Ada Lovelace</td>\n",
       "      <td>2022</td>\n",
       "      <td>1451 USD</td>\n",
       "      <td>320 W</td>\n",
       "    </tr>\n",
       "    <tr>\n",
       "      <th>2</th>\n",
       "      <td>GeForce RTX 4080 SUPER</td>\n",
       "      <td>desktop</td>\n",
       "      <td>88.36</td>\n",
       "      <td>Ada Lovelace</td>\n",
       "      <td>2024</td>\n",
       "      <td>−</td>\n",
       "      <td>320 W</td>\n",
       "    </tr>\n",
       "    <tr>\n",
       "      <th>3</th>\n",
       "      <td>GeForce RTX 4070 Ti</td>\n",
       "      <td>desktop</td>\n",
       "      <td>81.99</td>\n",
       "      <td>Ada Lovelace</td>\n",
       "      <td>2023</td>\n",
       "      <td>837 USD</td>\n",
       "      <td>285 W</td>\n",
       "    </tr>\n",
       "    <tr>\n",
       "      <th>4</th>\n",
       "      <td>GeForce RTX 4070 Ti SUPER</td>\n",
       "      <td>desktop</td>\n",
       "      <td>81.92</td>\n",
       "      <td>Ada Lovelace</td>\n",
       "      <td>2024</td>\n",
       "      <td>−</td>\n",
       "      <td>285 W</td>\n",
       "    </tr>\n",
       "    <tr>\n",
       "      <th>...</th>\n",
       "      <td>...</td>\n",
       "      <td>...</td>\n",
       "      <td>...</td>\n",
       "      <td>...</td>\n",
       "      <td>...</td>\n",
       "      <td>...</td>\n",
       "      <td>...</td>\n",
       "    </tr>\n",
       "    <tr>\n",
       "      <th>1441</th>\n",
       "      <td>GeForce2 Ultra</td>\n",
       "      <td>desktop</td>\n",
       "      <td>−</td>\n",
       "      <td>Celsius</td>\n",
       "      <td>2000</td>\n",
       "      <td>−</td>\n",
       "      <td>−</td>\n",
       "    </tr>\n",
       "    <tr>\n",
       "      <th>1442</th>\n",
       "      <td>GeForce4 Ti 4400</td>\n",
       "      <td>desktop</td>\n",
       "      <td>−</td>\n",
       "      <td>Kelvin</td>\n",
       "      <td>2002</td>\n",
       "      <td>−</td>\n",
       "      <td>−</td>\n",
       "    </tr>\n",
       "    <tr>\n",
       "      <th>1443</th>\n",
       "      <td>GeForce4 Ti 4800 SE</td>\n",
       "      <td>desktop</td>\n",
       "      <td>−</td>\n",
       "      <td>Kelvin</td>\n",
       "      <td>2003</td>\n",
       "      <td>−</td>\n",
       "      <td>−</td>\n",
       "    </tr>\n",
       "    <tr>\n",
       "      <th>1444</th>\n",
       "      <td>Quadro NVS 280 PCI</td>\n",
       "      <td>workstation</td>\n",
       "      <td>−</td>\n",
       "      <td>Rankine</td>\n",
       "      <td>2003</td>\n",
       "      <td>100 USD</td>\n",
       "      <td>13 W</td>\n",
       "    </tr>\n",
       "    <tr>\n",
       "      <th>1445</th>\n",
       "      <td>Quadro4 380 XGL</td>\n",
       "      <td>workstation</td>\n",
       "      <td>−</td>\n",
       "      <td>Celsius</td>\n",
       "      <td>2002</td>\n",
       "      <td>30 USD</td>\n",
       "      <td>−</td>\n",
       "    </tr>\n",
       "  </tbody>\n",
       "</table>\n",
       "<p>1446 rows × 7 columns</p>\n",
       "</div>"
      ],
      "text/plain": [
       "                  Graphics card         Type Performance  Architecture  Year  \\\n",
       "0              GeForce RTX 4090      desktop      100.00  Ada Lovelace  2022   \n",
       "1              GeForce RTX 4080      desktop       89.40  Ada Lovelace  2022   \n",
       "2        GeForce RTX 4080 SUPER      desktop       88.36  Ada Lovelace  2024   \n",
       "3           GeForce RTX 4070 Ti      desktop       81.99  Ada Lovelace  2023   \n",
       "4     GeForce RTX 4070 Ti SUPER      desktop       81.92  Ada Lovelace  2024   \n",
       "...                         ...          ...         ...           ...   ...   \n",
       "1441             GeForce2 Ultra      desktop           −       Celsius  2000   \n",
       "1442           GeForce4 Ti 4400      desktop           −        Kelvin  2002   \n",
       "1443        GeForce4 Ti 4800 SE      desktop           −        Kelvin  2003   \n",
       "1444         Quadro NVS 280 PCI  workstation           −       Rankine  2003   \n",
       "1445            Quadro4 380 XGL  workstation           −       Celsius  2002   \n",
       "\n",
       "     Price now    TDP  \n",
       "0     1756 USD  450 W  \n",
       "1     1451 USD  320 W  \n",
       "2            −  320 W  \n",
       "3      837 USD  285 W  \n",
       "4            −  285 W  \n",
       "...        ...    ...  \n",
       "1441         −      −  \n",
       "1442         −      −  \n",
       "1443         −      −  \n",
       "1444   100 USD   13 W  \n",
       "1445    30 USD      −  \n",
       "\n",
       "[1446 rows x 7 columns]"
      ]
     },
     "execution_count": 20,
     "metadata": {},
     "output_type": "execute_result"
    }
   ],
   "source": [
    "df=df.drop(\"index\",axis=1)\n",
    "df"
   ]
  },
  {
   "cell_type": "code",
   "execution_count": 17,
   "metadata": {},
   "outputs": [],
   "source": [
    "import os\n",
    "import pathlib\n",
    "\n",
    "\n",
    "df.to_csv(os.path.join(str(pathlib.Path().resolve()),\"GPU.csv\"))"
   ]
  },
  {
   "cell_type": "code",
   "execution_count": null,
   "metadata": {},
   "outputs": [],
   "source": []
  }
 ],
 "metadata": {
  "kernelspec": {
   "display_name": "ProyectoBI",
   "language": "python",
   "name": "python3"
  },
  "language_info": {
   "codemirror_mode": {
    "name": "ipython",
    "version": 3
   },
   "file_extension": ".py",
   "mimetype": "text/x-python",
   "name": "python",
   "nbconvert_exporter": "python",
   "pygments_lexer": "ipython3",
   "version": "3.11.5"
  }
 },
 "nbformat": 4,
 "nbformat_minor": 2
}
