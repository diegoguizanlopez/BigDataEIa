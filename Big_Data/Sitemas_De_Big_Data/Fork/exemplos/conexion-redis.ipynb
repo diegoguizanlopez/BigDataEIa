{
 "cells": [
  {
   "attachments": {},
   "cell_type": "markdown",
   "metadata": {},
   "source": [
    "# Redis"
   ]
  },
  {
   "attachments": {},
   "cell_type": "markdown",
   "metadata": {},
   "source": [
    "## Uso con PANDAS"
   ]
  },
  {
   "attachments": {},
   "cell_type": "markdown",
   "metadata": {},
   "source": [
    "### Instalar las librerías\n",
    "\n",
    "    conda activate bigdata\n",
    "    conda install sqlalchemy\n",
    "    conda install -c conda-forge redis-py\n",
    "\n",
    "Asumimos que está instalado PANDAS e MatPlotLib.\n",
    "\n",
    "### Despregar o escenario\n",
    "\n",
    "    cd .../escenarios/redis\n",
    "    vagrant up\n",
    "\n",
    "### Mellor con docker\n",
    "\n",
    "redis-stack-server\n",
    "\n",
    "    docker run -d --name redis-stack-server -p 6379:6379 redis/redis-stack-server:latest\n",
    "\n",
    "### Probar a conexión\n",
    "\n",
    "***Especificando clave para a conexión dende liña de comandos (inseguro):***\n",
    "\n",
    "    redis-cli -h localhost -p 6379 -a 123quetal123\n",
    "    PING\n",
    "\n",
    "***Especificando autenticación posterior (recomendado):***\n",
    "\n",
    "    redis-cli\n",
    "    config set requirepass 123quetal123\n",
    "    AUTH 123quetal123\n",
    "    PING\n",
    "\n",
    "\n"
   ]
  },
  {
   "cell_type": "code",
   "execution_count": null,
   "metadata": {},
   "outputs": [],
   "source": [
    "#from redis import Redis\n",
    "import redis\n",
    "\n",
    "data = {\n",
    "    'dog': {\n",
    "        'scientific-name' : 'Canis familiaris'\n",
    "    }\n",
    "}\n",
    "\n",
    "r = redis.Redis()\n",
    "r.auth(\"123quetal123\")\n",
    "r.ping()\n",
    "#Non instalado no escenario a extensión JSON\n",
    "#r.json().set('doc', '$', data)\n",
    "# doc = r.json().get('doc', '$')\n",
    "# dog = r.json().get('doc', '$.dog')\n",
    "# scientific_name = r.json().get('doc', '$..scientific-name')"
   ]
  }
 ],
 "metadata": {
  "kernelspec": {
   "display_name": "bigdata",
   "language": "python",
   "name": "python3"
  },
  "language_info": {
   "codemirror_mode": {
    "name": "ipython",
    "version": 3
   },
   "file_extension": ".py",
   "mimetype": "text/x-python",
   "name": "python",
   "nbconvert_exporter": "python",
   "pygments_lexer": "ipython3",
   "version": "3.10.9"
  },
  "orig_nbformat": 4
 },
 "nbformat": 4,
 "nbformat_minor": 2
}
