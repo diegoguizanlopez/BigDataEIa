{
 "cells": [
  {
   "cell_type": "markdown",
   "metadata": {},
   "source": [
    "# Empregando SQLite"
   ]
  },
  {
   "attachments": {},
   "cell_type": "markdown",
   "metadata": {},
   "source": [
    "Primeiro debemos instalar as librarías correspondentes (no caso que fagan falta):\n",
    "\n",
    "    conda install sqlite3"
   ]
  },
  {
   "attachments": {},
   "cell_type": "markdown",
   "metadata": {},
   "source": [
    "## Importando a libraría"
   ]
  },
  {
   "cell_type": "code",
   "execution_count": 4,
   "metadata": {},
   "outputs": [],
   "source": [
    "import sqlite3"
   ]
  },
  {
   "attachments": {},
   "cell_type": "markdown",
   "metadata": {},
   "source": [
    "## Establecendo conexión e cursor"
   ]
  },
  {
   "attachments": {},
   "cell_type": "markdown",
   "metadata": {},
   "source": [
    "Engadimos unha conexión (**con**). Unha base de datos SQLite é un arquivo en disco cun determinado formato que contén a nosa base de datos.\n",
    "\n",
    "O cursor (**cur**) emprégase para executar sentencias SQL e sacar os datos."
   ]
  },
  {
   "cell_type": "code",
   "execution_count": 5,
   "metadata": {},
   "outputs": [],
   "source": [
    "con = sqlite3.connect(\"noticias.db\")\n",
    "cur = con.cursor()"
   ]
  },
  {
   "attachments": {},
   "cell_type": "markdown",
   "metadata": {},
   "source": [
    "## Executando comandos SQL"
   ]
  },
  {
   "cell_type": "markdown",
   "metadata": {},
   "source": [
    "O cursor permítenos executar sentencias SQL: DDL, DML, DQL..."
   ]
  },
  {
   "cell_type": "code",
   "execution_count": 6,
   "metadata": {},
   "outputs": [
    {
     "data": {
      "text/plain": [
       "<sqlite3.Cursor at 0x18117ae6c00>"
      ]
     },
     "execution_count": 6,
     "metadata": {},
     "output_type": "execute_result"
    }
   ],
   "source": [
    "cur.execute(\"CREATE TABLE noticia(ano, mes, dia, medio, titular, url, pesorelativo)\")"
   ]
  },
  {
   "cell_type": "code",
   "execution_count": 7,
   "metadata": {},
   "outputs": [],
   "source": [
    "res = cur.execute(\"INSERT INTO noticia(ano, mes, dia, medio, titular, url, pesorelativo) VALUES (1,1,1,'lavoz','hola','http',150)\")"
   ]
  },
  {
   "cell_type": "code",
   "execution_count": 8,
   "metadata": {},
   "outputs": [
    {
     "name": "stdout",
     "output_type": "stream",
     "text": [
      "1 1 1 lavoz hola http 150\n"
     ]
    }
   ],
   "source": [
    "res = cur.execute(\"SELECT ano, mes, dia, medio, titular, url, pesorelativo FROM noticia\")\n",
    "ano, mes, dia, medio, titular, url, pesorelativo = res.fetchone()\n",
    "print (f\"{ano} {mes} {dia} {medio} {titular} {url} {pesorelativo}\")"
   ]
  },
  {
   "cell_type": "markdown",
   "metadata": {},
   "source": [
    "Qué imprime?"
   ]
  },
  {
   "cell_type": "code",
   "execution_count": 9,
   "metadata": {},
   "outputs": [
    {
     "name": "stdout",
     "output_type": "stream",
     "text": [
      "<sqlite3.Cursor object at 0x0000018117AE6C00>\n"
     ]
    }
   ],
   "source": [
    "print (res)"
   ]
  },
  {
   "attachments": {},
   "cell_type": "markdown",
   "metadata": {},
   "source": [
    "A referencia ao cursor...\n",
    "\n",
    "**E este?**"
   ]
  },
  {
   "cell_type": "code",
   "execution_count": 10,
   "metadata": {},
   "outputs": [
    {
     "name": "stdout",
     "output_type": "stream",
     "text": [
      "[]\n"
     ]
    }
   ],
   "source": [
    "print (res.fetchall())"
   ]
  },
  {
   "cell_type": "markdown",
   "metadata": {},
   "source": [
    "Nada porque non hai máis datos (no caso que sexa a primeira execución)"
   ]
  },
  {
   "cell_type": "code",
   "execution_count": 14,
   "metadata": {},
   "outputs": [],
   "source": [
    "noticias = [\n",
    "    (\"2022\", \"02\", \"02\", \n",
    "        \"El Mundo Today\", \"Un niño que tiene que llevar mañana dos cartulinas al colegio espera pacientemente a que sean las 12 de la noche para decírselo a sus padres\",\n",
    "        \"https://www.elmundotoday.com/2022/01/un-nino-que-tiene-que-llevar-manana-2-cartulinas-al-colegio-espera-pacientemente-a-que-sean-las-12-de-la-noche-para-decirselo-a-sus-padres/\",\n",
    "        100),\n",
    "    (\"2022\", \"02\", \"02\", \n",
    "        \"El Mundo Today\", \"Los piojos españoles afrontan la vuelta al cole\",\n",
    "        \"https://www.elmundotoday.com/2022/09/los-piojos-espanoles-afrontan-la-vuelta-al-cole/\",\n",
    "        50),\n",
    "]\n",
    "cur.executemany(\"INSERT INTO noticia(ano,mes,dia,medio,titular,url,pesorelativo) VALUES(?,?,?,?,?,?,?)\", noticias)\n",
    "con.commit()"
   ]
  },
  {
   "cell_type": "code",
   "execution_count": 12,
   "metadata": {},
   "outputs": [
    {
     "name": "stdout",
     "output_type": "stream",
     "text": [
      "(1, 1, 1, 'lavoz', 'hola', 'http', 150)\n",
      "('2022', '02', '02', 'El Mundo Today', 'Un niño que tiene que llevar mañana dos cartulinas al colegio espera pacientemente a que sean las 12 de la noche para decírselo a sus padres', 'https://www.elmundotoday.com/2022/01/un-nino-que-tiene-que-llevar-manana-2-cartulinas-al-colegio-espera-pacientemente-a-que-sean-las-12-de-la-noche-para-decirselo-a-sus-padres/', 100)\n",
      "('2022', '02', '02', 'El Mundo Today', 'Los piojos españoles afrontan la vuelta al cole', 'https://www.elmundotoday.com/2022/09/los-piojos-espanoles-afrontan-la-vuelta-al-cole/', 50)\n"
     ]
    }
   ],
   "source": [
    "sentencia = \"SELECT ano, mes, dia, medio, titular, url, pesorelativo FROM noticia\"\n",
    "for fila in cur.execute(sentencia):\n",
    "    print(fila)"
   ]
  },
  {
   "attachments": {},
   "cell_type": "markdown",
   "metadata": {},
   "source": [
    "Que diferencia hai entre o anterior e este?"
   ]
  },
  {
   "cell_type": "code",
   "execution_count": 13,
   "metadata": {},
   "outputs": [
    {
     "data": {
      "text/plain": [
       "[(1, 1, 1, 'lavoz', 'hola', 'http', 150),\n",
       " ('2022',\n",
       "  '02',\n",
       "  '02',\n",
       "  'El Mundo Today',\n",
       "  'Un niño que tiene que llevar mañana dos cartulinas al colegio espera pacientemente a que sean las 12 de la noche para decírselo a sus padres',\n",
       "  'https://www.elmundotoday.com/2022/01/un-nino-que-tiene-que-llevar-manana-2-cartulinas-al-colegio-espera-pacientemente-a-que-sean-las-12-de-la-noche-para-decirselo-a-sus-padres/',\n",
       "  100),\n",
       " ('2022',\n",
       "  '02',\n",
       "  '02',\n",
       "  'El Mundo Today',\n",
       "  'Los piojos españoles afrontan la vuelta al cole',\n",
       "  'https://www.elmundotoday.com/2022/09/los-piojos-espanoles-afrontan-la-vuelta-al-cole/',\n",
       "  50)]"
      ]
     },
     "execution_count": 13,
     "metadata": {},
     "output_type": "execute_result"
    }
   ],
   "source": [
    "res2=cur.execute(sentencia)\n",
    "res2.fetchall()"
   ]
  },
  {
   "attachments": {},
   "cell_type": "markdown",
   "metadata": {},
   "source": [
    "Que agora se devolve en formato array"
   ]
  },
  {
   "cell_type": "markdown",
   "metadata": {},
   "source": [
    "## Pechando conexión"
   ]
  },
  {
   "cell_type": "code",
   "execution_count": null,
   "metadata": {},
   "outputs": [],
   "source": [
    "con.close()"
   ]
  },
  {
   "attachments": {},
   "cell_type": "markdown",
   "metadata": {},
   "source": [
    "Máis información: <https://docs.python.org/3/library/sqlite3.html>"
   ]
  }
 ],
 "metadata": {
  "kernelspec": {
   "display_name": "bigdata",
   "language": "python",
   "name": "python3"
  },
  "language_info": {
   "codemirror_mode": {
    "name": "ipython",
    "version": 3
   },
   "file_extension": ".py",
   "mimetype": "text/x-python",
   "name": "python",
   "nbconvert_exporter": "python",
   "pygments_lexer": "ipython3",
   "version": "3.8.15"
  },
  "orig_nbformat": 4,
  "vscode": {
   "interpreter": {
    "hash": "6f2c8ca1a79d6d82f32e116612cbd8f0319de1d4a0a5509748c0bfa14525846a"
   }
  }
 },
 "nbformat": 4,
 "nbformat_minor": 2
}
