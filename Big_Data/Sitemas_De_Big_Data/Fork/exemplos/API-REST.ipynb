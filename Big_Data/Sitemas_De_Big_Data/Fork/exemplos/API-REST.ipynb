{
 "cells": [
  {
   "attachments": {},
   "cell_type": "markdown",
   "metadata": {},
   "source": [
    "# Consumindo API REST con requests"
   ]
  },
  {
   "cell_type": "code",
   "execution_count": 3,
   "metadata": {},
   "outputs": [
    {
     "name": "stdout",
     "output_type": "stream",
     "text": [
      "<Response [200]>\n"
     ]
    }
   ],
   "source": [
    "import requests\n",
    "\n",
    "enderezo = \"http://api.open-notify.org/astros.json\"\n",
    "resposta = requests.get(enderezo)\n",
    "\n",
    "print (resposta)"
   ]
  },
  {
   "cell_type": "code",
   "execution_count": 4,
   "metadata": {},
   "outputs": [
    {
     "data": {
      "text/plain": [
       "{'message': 'success',\n",
       " 'people': [{'name': 'Jasmin Moghbeli', 'craft': 'ISS'},\n",
       "  {'name': 'Andreas Mogensen', 'craft': 'ISS'},\n",
       "  {'name': 'Satoshi Furukawa', 'craft': 'ISS'},\n",
       "  {'name': 'Konstantin Borisov', 'craft': 'ISS'},\n",
       "  {'name': 'Oleg Kononenko', 'craft': 'ISS'},\n",
       "  {'name': 'Nikolai Chub', 'craft': 'ISS'},\n",
       "  {'name': \"Loral O'Hara\", 'craft': 'ISS'}],\n",
       " 'number': 7}"
      ]
     },
     "execution_count": 4,
     "metadata": {},
     "output_type": "execute_result"
    }
   ],
   "source": [
    "# print(resposta.content)\n",
    "# print(resposta.text)\n",
    "resposta.json()"
   ]
  },
  {
   "cell_type": "code",
   "execution_count": 5,
   "metadata": {},
   "outputs": [
    {
     "name": "stdout",
     "output_type": "stream",
     "text": [
      "success\n",
      "[{'name': 'Jasmin Moghbeli', 'craft': 'ISS'}, {'name': 'Andreas Mogensen', 'craft': 'ISS'}, {'name': 'Satoshi Furukawa', 'craft': 'ISS'}, {'name': 'Konstantin Borisov', 'craft': 'ISS'}, {'name': 'Oleg Kononenko', 'craft': 'ISS'}, {'name': 'Nikolai Chub', 'craft': 'ISS'}, {'name': \"Loral O'Hara\", 'craft': 'ISS'}]\n",
      "7\n"
     ]
    }
   ],
   "source": [
    "import json\n",
    "variables=json.loads(json.dumps(resposta.json()))\n",
    "for i in variables:\n",
    "    print (variables[i])\n"
   ]
  },
  {
   "cell_type": "code",
   "execution_count": 6,
   "metadata": {},
   "outputs": [
    {
     "name": "stdout",
     "output_type": "stream",
     "text": [
      "Éxito rotundo obtendo datos!\n",
      "Teño 7 pilotos!\n",
      "Jasmin Moghbeli tripulación do: ISS\n",
      "Andreas Mogensen tripulación do: ISS\n",
      "Satoshi Furukawa tripulación do: ISS\n",
      "Konstantin Borisov tripulación do: ISS\n",
      "Oleg Kononenko tripulación do: ISS\n",
      "Nikolai Chub tripulación do: ISS\n",
      "Loral O'Hara tripulación do: ISS\n"
     ]
    }
   ],
   "source": [
    "if (variables['message'] == 'success'):\n",
    "    print('Éxito rotundo obtendo datos!')\n",
    "    print(f\"Teño {variables['number']} pilotos!\")\n",
    "    for piloto in variables['people']:\n",
    "        print(piloto['name'], \"tripulación do:\", piloto['craft'])"
   ]
  },
  {
   "attachments": {},
   "cell_type": "markdown",
   "metadata": {},
   "source": [
    "Baseado en: <https://www.nylas.com/blog/use-python-requests-module-rest-apis/>\n",
    "\n",
    "**Exercicio**: Do servizo: <https://rickandmortyapi.com/api/episode/> podes obter os episodios e personaxes de cada un deles.\n",
    "\n",
    "Queremos saber aqueles personaxes que participan en **tódolos** episodios."
   ]
  },
  {
   "attachments": {},
   "cell_type": "markdown",
   "metadata": {},
   "source": [
    "**Máis información:**\n",
    "   - <https://www.chakray.com/es/que-diferencias-hay-entre-rest-y-soap/>\n",
    "   - <https://blog.hubspot.es/website/que-es-api-rest>\n",
    "   - <https://www.redhat.com/es/topics/integration/whats-the-difference-between-soap-rest>\n",
    "   - <https://es.martech.zone/what-is-an-api/>"
   ]
  },
  {
   "cell_type": "code",
   "execution_count": 7,
   "metadata": {},
   "outputs": [],
   "source": [
    "resposta = requests.get(\"https://rickandmortyapi.com/api/episode/\")\n"
   ]
  },
  {
   "cell_type": "code",
   "execution_count": 52,
   "metadata": {},
   "outputs": [],
   "source": [
    "def recorrerEpisodios(episodios,listaPersonajes,listaPersonajesDict,index):\n",
    "    for episodio in episodios:\n",
    "        personajesCapitulo=[]\n",
    "        for personaje in episodio['characters']:\n",
    "                if(index==0):\n",
    "                    listaPersonajes.append(personaje)\n",
    "                    listaPersonajesDict.append(personaje)\n",
    "                else:\n",
    "                    personajesCapitulo.append(personaje)\n",
    "        for personaje in listaPersonajesDict:\n",
    "                if personaje not in personajesCapitulo and personaje in listaPersonajes and index!=0:\n",
    "                      listaPersonajes.remove(personaje)\n",
    "        index+=1\n",
    "    return listaPersonajes,listaPersonajesDict,index\n",
    "\n",
    "def get_names(url):\n",
    "     return json.loads(json.dumps((requests.get(url)).json()))['name']"
   ]
  },
  {
   "cell_type": "code",
   "execution_count": 51,
   "metadata": {},
   "outputs": [
    {
     "data": {
      "text/plain": [
       "['Rick Sanchez', 'Morty Smith']"
      ]
     },
     "execution_count": 51,
     "metadata": {},
     "output_type": "execute_result"
    }
   ],
   "source": [
    "#from collections import deque\n",
    "\n",
    "import concurrent.futures\n",
    "\n",
    "listaPersonajes=[]\n",
    "listaPersonajesDict=[]\n",
    "index=0\n",
    "variables=json.loads(json.dumps(resposta.json()))\n",
    "\n",
    "\n",
    "while True:\n",
    "    listaPersonajes,listaPersonajesDict,index=recorrerEpisodios(variables['results'],listaPersonajes,listaPersonajesDict,index)\n",
    "    if(variables['info']['next'] == None):\n",
    "         break\n",
    "    variables=json.loads(json.dumps(requests.get(variables['info']['next']).json()))\n",
    "\n",
    "\n",
    "#Lector API x Thread\n",
    "nombres=[]\n",
    "with concurrent.futures.ThreadPoolExecutor() as executor:\n",
    "    threads=list(map(lambda x:executor.submit(get_names,x),listaPersonajes))\n",
    "    for thread in threads:\n",
    "        nombres.append(thread.result())\n",
    "nombres"
   ]
  },
  {
   "cell_type": "code",
   "execution_count": null,
   "metadata": {},
   "outputs": [],
   "source": []
  }
 ],
 "metadata": {
  "kernelspec": {
   "display_name": "bigdata",
   "language": "python",
   "name": "python3"
  },
  "language_info": {
   "codemirror_mode": {
    "name": "ipython",
    "version": 3
   },
   "file_extension": ".py",
   "mimetype": "text/x-python",
   "name": "python",
   "nbconvert_exporter": "python",
   "pygments_lexer": "ipython3",
   "version": "3.8.18"
  },
  "orig_nbformat": 4,
  "vscode": {
   "interpreter": {
    "hash": "6f2c8ca1a79d6d82f32e116612cbd8f0319de1d4a0a5509748c0bfa14525846a"
   }
  }
 },
 "nbformat": 4,
 "nbformat_minor": 2
}
