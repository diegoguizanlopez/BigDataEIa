{
 "cells": [
  {
   "attachments": {},
   "cell_type": "markdown",
   "metadata": {},
   "source": [
    "# Consumindo API REST con requests"
   ]
  },
  {
   "cell_type": "code",
   "execution_count": null,
   "metadata": {},
   "outputs": [],
   "source": [
    "import requests\n",
    "\n",
    "enderezo = \"http://api.open-notify.org/astros.json\"\n",
    "resposta = requests.get(enderezo)\n",
    "\n",
    "print (resposta)"
   ]
  },
  {
   "cell_type": "code",
   "execution_count": null,
   "metadata": {},
   "outputs": [],
   "source": [
    "# print(resposta.content)\n",
    "# print(resposta.text)\n",
    "resposta.json()"
   ]
  },
  {
   "cell_type": "code",
   "execution_count": null,
   "metadata": {},
   "outputs": [],
   "source": [
    "import json\n",
    "variables=json.loads(json.dumps(resposta.json()))\n",
    "for i in variables:\n",
    "    print(i)\n",
    "    print (variables[i])"
   ]
  },
  {
   "cell_type": "code",
   "execution_count": null,
   "metadata": {},
   "outputs": [],
   "source": [
    "if (variables['message'] == 'success'):\n",
    "    print('Éxito rotundo obtendo datos!')\n",
    "    print(f\"Teño {variables['number']} pilotos!\")\n",
    "    for piloto in variables['people']:\n",
    "        print(piloto['name'], \"tripulación do:\", piloto['craft'])"
   ]
  },
  {
   "attachments": {},
   "cell_type": "markdown",
   "metadata": {},
   "source": [
    "Baseado en: <https://www.nylas.com/blog/use-python-requests-module-rest-apis/>\n",
    "\n",
    "**Exercicio**: Do servizo: <https://rickandmortyapi.com/api/episode/> podes obter os episodios e personaxes de cada un deles.\n",
    "\n",
    "Queremos saber aqueles personaxes que participan en **tódolos** episodios."
   ]
  },
  {
   "attachments": {},
   "cell_type": "markdown",
   "metadata": {},
   "source": [
    "**Máis información:**\n",
    "   - <https://www.chakray.com/es/que-diferencias-hay-entre-rest-y-soap/>\n",
    "   - <https://blog.hubspot.es/website/que-es-api-rest>\n",
    "   - <https://www.redhat.com/es/topics/integration/whats-the-difference-between-soap-rest>\n",
    "   - <https://es.martech.zone/what-is-an-api/>"
   ]
  }
 ],
 "metadata": {
  "kernelspec": {
   "display_name": "bigdata",
   "language": "python",
   "name": "python3"
  },
  "language_info": {
   "codemirror_mode": {
    "name": "ipython",
    "version": 3
   },
   "file_extension": ".py",
   "mimetype": "text/x-python",
   "name": "python",
   "nbconvert_exporter": "python",
   "pygments_lexer": "ipython3",
   "version": "3.8.15 (default, Nov 24 2022, 14:38:14) [MSC v.1916 64 bit (AMD64)]"
  },
  "orig_nbformat": 4,
  "vscode": {
   "interpreter": {
    "hash": "6f2c8ca1a79d6d82f32e116612cbd8f0319de1d4a0a5509748c0bfa14525846a"
   }
  }
 },
 "nbformat": 4,
 "nbformat_minor": 2
}
