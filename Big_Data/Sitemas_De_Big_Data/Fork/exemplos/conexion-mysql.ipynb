{
 "cells": [
  {
   "attachments": {},
   "cell_type": "markdown",
   "metadata": {},
   "source": [
    "# Conectar a MySQL"
   ]
  },
  {
   "attachments": {},
   "cell_type": "markdown",
   "metadata": {},
   "source": [
    "## Importar librarías e \"maxias\"\n",
    "\n",
    "Importante ter instalado con conda: \n",
    "* pymysql (para MySQL)\n",
    "* ipython-sql (para as maxias)\n",
    "* sqlalchemy (conexión por código)"
   ]
  },
  {
   "cell_type": "code",
   "execution_count": null,
   "metadata": {},
   "outputs": [],
   "source": [
    "#Librarías para todo o notebook\n",
    "import pandas as pd\n",
    "import pymysql\n",
    "\n",
    "#Para as maxias\n",
    "%load_ext sql"
   ]
  },
  {
   "attachments": {},
   "cell_type": "markdown",
   "metadata": {},
   "source": [
    "## Creando a cadea de conexión"
   ]
  },
  {
   "cell_type": "code",
   "execution_count": null,
   "metadata": {},
   "outputs": [],
   "source": [
    "#Datos de conexión\n",
    "db_host = \"localhost\"\n",
    "db_port=3306\n",
    "db_user = \"usuario\"\n",
    "db_passwd=\"abc123.\"\n",
    "db_name=\"employees\"\n",
    "\n",
    "#Xerar a cadea de conexión en base aos parámetros anteriores\n",
    "connectionString=f'mysql+pymysql://{db_user}:{db_passwd}@{db_host}:{db_port}/{db_name}'"
   ]
  },
  {
   "attachments": {},
   "cell_type": "markdown",
   "metadata": {},
   "source": [
    "## Conectando á BBDD empregando \"maxias\""
   ]
  },
  {
   "cell_type": "code",
   "execution_count": null,
   "metadata": {},
   "outputs": [],
   "source": [
    "%sql $connectionString"
   ]
  },
  {
   "attachments": {},
   "cell_type": "markdown",
   "metadata": {},
   "source": [
    "### Probando unha consulta"
   ]
  },
  {
   "cell_type": "code",
   "execution_count": null,
   "metadata": {},
   "outputs": [],
   "source": [
    "%sql SELECT COUNT(*) FROM salaries;"
   ]
  },
  {
   "attachments": {},
   "cell_type": "markdown",
   "metadata": {},
   "source": [
    "### Gardando o resultado dunha consulta a unha variable"
   ]
  },
  {
   "cell_type": "code",
   "execution_count": null,
   "metadata": {},
   "outputs": [],
   "source": [
    "dfSQL = %sql SELECT * FROM salaries;\n",
    "dfSQL.DataFrame().head(5)"
   ]
  },
  {
   "attachments": {},
   "cell_type": "markdown",
   "metadata": {},
   "source": [
    "## Conexión sen maxias"
   ]
  },
  {
   "cell_type": "code",
   "execution_count": null,
   "metadata": {},
   "outputs": [],
   "source": [
    "#import sqlalchemy\n",
    "from sqlalchemy.engine import create_engine\n",
    "\n",
    "engine = create_engine(connectionString)\n",
    "\n",
    "cadeaSQL = \"SELECT * FROM salaries\"\n",
    "#result=engine.execute(cadenaSQL)\n",
    "dfPanda = pd.read_sql(cadeaSQL, engine)\n",
    "#dfPanda = pd.read_sql(\"SELECT * FROM salaries\", con=connectionString)\n",
    "dfPanda.head()"
   ]
  },
  {
   "cell_type": "markdown",
   "metadata": {},
   "source": [
    "### Sintaxe para cambiar un parámetro a unha variable de código"
   ]
  },
  {
   "cell_type": "code",
   "execution_count": null,
   "metadata": {},
   "outputs": [],
   "source": [
    "state='FINISHED'\n",
    "%sql SELECT :state as \"bind_variable\""
   ]
  },
  {
   "attachments": {},
   "cell_type": "markdown",
   "metadata": {},
   "source": [
    "# Converter a .parquet"
   ]
  },
  {
   "attachments": {},
   "cell_type": "markdown",
   "metadata": {},
   "source": [
    "Empregamos un PANDAS DataFrame e convertirémolo a un arquivo .parquet\n",
    "\n",
    "Fai falta instalar con conda as librarías:\n",
    "* pyarrow\n",
    "* fastparquet\n",
    "\n",
    "**Aviso**: Non é a forma máis recomendada de conversión"
   ]
  },
  {
   "cell_type": "code",
   "execution_count": null,
   "metadata": {},
   "outputs": [],
   "source": [
    "dfPanda.to_parquet(\"salaries.parquet\")"
   ]
  },
  {
   "attachments": {},
   "cell_type": "markdown",
   "metadata": {},
   "source": [
    "### Abrir o novo arquivo .parquet\n",
    "Cargámolo en memoria para comprobar que se xerou correctamente"
   ]
  },
  {
   "cell_type": "code",
   "execution_count": null,
   "metadata": {},
   "outputs": [],
   "source": [
    "df = pd.read_parquet(\"salaries.parquet\")\n",
    "df.head(5)"
   ]
  }
 ],
 "metadata": {
  "kernelspec": {
   "display_name": "bigdata",
   "language": "python",
   "name": "python3"
  },
  "language_info": {
   "codemirror_mode": {
    "name": "ipython",
    "version": 3
   },
   "file_extension": ".py",
   "mimetype": "text/x-python",
   "name": "python",
   "nbconvert_exporter": "python",
   "pygments_lexer": "ipython3",
   "version": "3.10.6"
  },
  "orig_nbformat": 4,
  "vscode": {
   "interpreter": {
    "hash": "f2e17e727900deea8149d85ea5763e45bb65d05a266afb94eb5b64104a5c59e4"
   }
  }
 },
 "nbformat": 4,
 "nbformat_minor": 2
}
