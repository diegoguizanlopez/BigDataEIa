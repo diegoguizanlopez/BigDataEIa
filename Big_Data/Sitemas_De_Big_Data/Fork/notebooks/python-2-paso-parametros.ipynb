{
 "cells": [
  {
   "cell_type": "markdown",
   "metadata": {},
   "source": [
    "## 💊 Pílula de conceptos básicos de Python\n",
    "### Paso de parámetros desde liña de comandos\n",
    "\n"
   ]
  },
  {
   "cell_type": "code",
   "execution_count": null,
   "metadata": {
    "vscode": {
     "languageId": "plaintext"
    }
   },
   "outputs": [],
   "source": [
    "import argparse\n",
    "from enum import Enum\n",
    "import sys\n",
    "\n",
    "parser = argparse.ArgumentParser(description='Este script emprega selenium coas opcións que lle deas')\n",
    "parser.add_argument('-u', action='store', default='', help=\"Nome de usuario\", required=True)\n",
    "parser.add_argument('-p', action='store', default='', help=\"Contrasinal do sitio\", required=True)\n",
    "\n",
    "group = parser.add_mutually_exclusive_group()\n",
    "group.add_argument('--chrome', help=\"Empregar o navegador Chrome\",action=\"store_true\")\n",
    "group.add_argument('--firefox', help=\"Empregar o navegador Firefox\",action=\"store_true\")\n",
    "args = parser.parse_args()\n",
    "\n",
    "class NAVEGADOR(Enum):\n",
    "    FIREFOX='Firefox'\n",
    "    CHROME='Chrome'\n",
    "\n",
    "# Collo os parámetros usuario e contrasinal que me ten facilitado o usuario\n",
    "USUARIO=args.u\n",
    "CONTRASINAL=args.p\n",
    "\n",
    "navegadores=0\n",
    "# Cómo mellorarías esto para obrigar a escoller un navegador? cun grupo? cunha opción true nalgún parámetro? cunha escolla por defecto?\n",
    "if args.firefox:\n",
    "    navegadores+=1\n",
    "    browser=NAVEGADOR.FIREFOX\n",
    "\n",
    "if args.chrome:\n",
    "    navegadores+=1\n",
    "    browser=NAVEGADOR.CHROME\n",
    "\n",
    "if navegadores != 1:\n",
    "    parser.print_help()\n",
    "    sys.exit(\"Selecciona un navegador!\")"
   ]
  }
 ],
 "metadata": {
  "language_info": {
   "name": "python"
  }
 },
 "nbformat": 4,
 "nbformat_minor": 2
}
