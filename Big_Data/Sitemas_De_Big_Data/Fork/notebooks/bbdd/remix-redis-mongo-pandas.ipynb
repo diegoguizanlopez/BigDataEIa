{
 "cells": [
  {
   "attachments": {},
   "cell_type": "markdown",
   "metadata": {},
   "source": [
    "# Conexión Mongo-Redis-PANDAS"
   ]
  },
  {
   "attachments": {},
   "cell_type": "markdown",
   "metadata": {},
   "source": [
    "## Instalar dependencias"
   ]
  },
  {
   "cell_type": "code",
   "execution_count": null,
   "metadata": {},
   "outputs": [],
   "source": [
    "!conda install -y -c conda-forge pymongo redis-py"
   ]
  },
  {
   "attachments": {},
   "cell_type": "markdown",
   "metadata": {},
   "source": [
    "### Importar librerías"
   ]
  },
  {
   "cell_type": "code",
   "execution_count": null,
   "metadata": {},
   "outputs": [],
   "source": [
    "import redis\n",
    "from pymongo import MongoClient\n",
    "import pandas as pd"
   ]
  },
  {
   "cell_type": "code",
   "execution_count": null,
   "metadata": {},
   "outputs": [],
   "source": [
    "def conexion_mongo():\n",
    "    HOST=\"XXX\"\n",
    "    PORT=27017\n",
    "    USERNAME=\"XXX\"\n",
    "    PASSWORD=\"XXX\"\n",
    "    cli_mongo = MongoClient(f\"mongodb+srv://{USERNAME}:{PASSWORD}@{HOST}/test\")\n",
    "    return cli_mongo\n",
    "\n",
    "def conexion_redis():\n",
    "    redis_cli = redis.Redis()\n",
    "    #redis_cli.auth(\"123quetal123\")\n",
    "    #redis_cli.ping()\n",
    "    return redis_cli\n",
    "\n",
    "#Conexión Mongo\n",
    "cli_mongo=conexion_mongo()\n",
    "# @ sample_guides -> planets\n",
    "db_guides=cli_mongo['sample_guides']\n",
    "coleccion_planetas=db_guides['planets']\n",
    "\n",
    "#Conexión Redis\n",
    "redis_cli = conexion_redis()\n",
    "redis_cli.flushall()\n",
    "\n",
    "aux_documentos = coleccion_planetas.find({})\n",
    "for documento in aux_documentos:\n",
    "    idPlaneta = documento.pop('_id')\n",
    "    documento.update({\"_id\": str(idPlaneta) })\n",
    "    redis_cli.json().set(documento.get('name'), \"$\", documento)\n",
    "\n",
    "listaPlanetas = []\n",
    "\n",
    "for i in redis_cli.scan_iter():\n",
    "    auxPlaneta = redis_cli.json().get(i.decode(), '$')\n",
    "    listaPlanetas.append(auxPlaneta[0])\n",
    "\n",
    "df = pd.DataFrame(listaPlanetas)\n",
    "\n",
    "df"
   ]
  },
  {
   "cell_type": "markdown",
   "metadata": {},
   "source": [
    "## De Mongo DB a PANDAS"
   ]
  },
  {
   "cell_type": "code",
   "execution_count": null,
   "metadata": {},
   "outputs": [],
   "source": [
    "dfPlanetasDirectos = pd.DataFrame.from_records(coleccion_planetas.find())\n",
    "dfPlanetasDirectos"
   ]
  }
 ],
 "metadata": {
  "kernelspec": {
   "display_name": "bigdata",
   "language": "python",
   "name": "python3"
  },
  "language_info": {
   "codemirror_mode": {
    "name": "ipython",
    "version": 3
   },
   "file_extension": ".py",
   "mimetype": "text/x-python",
   "name": "python",
   "nbconvert_exporter": "python",
   "pygments_lexer": "ipython3",
   "version": "3.10.13"
  },
  "orig_nbformat": 4
 },
 "nbformat": 4,
 "nbformat_minor": 2
}
