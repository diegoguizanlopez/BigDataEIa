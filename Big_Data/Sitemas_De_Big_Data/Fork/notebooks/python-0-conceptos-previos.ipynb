{
 "cells": [
  {
   "cell_type": "markdown",
   "metadata": {},
   "source": [
    "## 💊 Pílula de conceptos previos de arquivos en Python\n",
    "\n",
    "### Rutas absolutas e relativas en Microsoft Windows e GNU/Linux\n",
    "\n",
    "Así de xeito rápido poderíamos definir:\n",
    "\n",
    "- **Ruta absoluta**: Ruta completa, todas as indicacións dende cero para chegar á ruta.\n",
    "- **Ruta relativa**: Partindo do directorio actual, as indicacións para chegar á ruta.\n",
    "\n",
    "### Son cuestións de formato (de texto)...\n",
    "\n",
    "Hai diferentes maneiras de poñer unha ruta (absoluta ou relativa) e que a mesma sexa compatible con Microsoft Windows e GNU/Linux.\n",
    "\n",
    "A máis simple é poñendo barras inclinadas / en lugar das invertidas \\\\\n",
    "\n",
    "No caso de querer empregar barras invertidas, debemos empregar dobre barra invertida para escapar o carácter de escape por defecto, que é a mesma barra invertida.\n",
    "\n",
    " **Exemplo**: `'C:\\\\Users\\\\USUARIO\\\\Downloads\\\\datasets\\\\proba.csv'`\n",
    "\n",
    "Ademáis debemos detectar o sistema se pretendemos que o noso programa funcione en ambos e pretendemos empregar rutas escritas \"a man\".\n",
    "\n",
    "🗒️ **Nota**: En Microsoft Windows poderíamos omitir a letra da unidade nas rutas «absolutas» e collería por defecto a letra da unidade onde se está a executar o script.\n",
    "\n",
    "⚠️ **AVISO**: Neste exemplo empregaremos rutas absolutas."
   ]
  },
  {
   "cell_type": "code",
   "execution_count": null,
   "metadata": {},
   "outputs": [],
   "source": [
    "import platform\n",
    "sistema = platform.system()\n",
    "\n",
    "if sistema.casefold() == 'Windows'.casefold():\n",
    "    path_base='C:/Users/USUARIO/Downloads/datasets/'\n",
    "else:\n",
    "    path_base='/home/usuario/Downloads/datasets/'"
   ]
  },
  {
   "cell_type": "markdown",
   "metadata": {},
   "source": [
    "### Comparación de cadeas de texto\n",
    "\n",
    "💡 Curiosidade polo método **casefold()** empregado no código de enriba? É unha boa práctica para comparar **determinadas** cadeas de texto, podes mirar a documentación en: <https://docs.python.org/3/library/stdtypes.html#str.casefold>. Básicamente ignora as maiúsculas e minúsculas e ten en conta cousas como que a dobre ss no alemán pode equivaler á: ß. O algoritmo de casefold está descrito aquí: <https://www.unicode.org/versions/Unicode15.0.0/ch03.pdf>. Se simplemente queres ignorar maiúsculas, podes aplicar un **lower()** a ambas cadeas.\n",
    "\n",
    "Para engadir subdirectorios á ruta, temos varias opcións:\n",
    "\n",
    "#### Suma de cadeas de texto"
   ]
  },
  {
   "cell_type": "code",
   "execution_count": null,
   "metadata": {},
   "outputs": [],
   "source": [
    "with open(path_base+'a-coruna.csv') as ficheiro:\n",
    "    print(ficheiro.readline().rstrip())"
   ]
  },
  {
   "cell_type": "markdown",
   "metadata": {},
   "source": [
    "💡 Curiosidade do que fai o método **rstrip()**? Básicamente borra os caracteres da cola que lle indiquemos. Se non indicamos ningún, entón borrará os caracteres que sexan de tipo espacio en branco: **espacios** ' ', **tabuladores** '\\t' e **novas liñas** '\\n'. <https://www.w3schools.com/python/ref_string_rstrip.asp> e <https://docs.python.org/3/library/stdtypes.html>."
   ]
  },
  {
   "cell_type": "markdown",
   "metadata": {},
   "source": [
    "#### Con os.path.join"
   ]
  },
  {
   "cell_type": "code",
   "execution_count": null,
   "metadata": {},
   "outputs": [],
   "source": [
    "import os\n",
    "\n",
    "with open(os.path.join(path_base, 'lugo.csv')) as ficheiro:\n",
    "    print(ficheiro.readline().rstrip())"
   ]
  },
  {
   "cell_type": "markdown",
   "metadata": {},
   "source": [
    "Tamén existe a libraría **pathlib**: <https://docs.python.org/3/library/pathlib.html>."
   ]
  },
  {
   "cell_type": "markdown",
   "metadata": {},
   "source": [
    "#### Con f-string (format string)\n",
    "\n",
    "Poñeremos unha f antes das comillas e logo as variables entre chaves {}:"
   ]
  },
  {
   "cell_type": "code",
   "execution_count": null,
   "metadata": {},
   "outputs": [],
   "source": [
    "with open(f'{path_base}pontevedra.csv') as ficheiro:\n",
    "    print(ficheiro.readline().rstrip())"
   ]
  },
  {
   "cell_type": "markdown",
   "metadata": {},
   "source": [
    "#### Con r-string (raw string)\n",
    "\n",
    "E se nos poñemos burros, con r-string tamén podemos empregas as barras invertidas sen necesidade de escapalas. O texto non se interpreta, é tal cual."
   ]
  },
  {
   "cell_type": "code",
   "execution_count": null,
   "metadata": {},
   "outputs": [],
   "source": [
    "with open(r'C:\\Users\\USUARIO\\Downloads\\datasets\\ourense.csv') as ficheiro:\n",
    "    print(ficheiro.readline().rstrip())"
   ]
  },
  {
   "cell_type": "markdown",
   "metadata": {},
   "source": [
    "#### Con fr-string (format e raw)\n",
    "\n",
    "Tamén podemos mezclar ambas combinacións para obter o mellor de ambos mundos.\n"
   ]
  },
  {
   "cell_type": "code",
   "execution_count": null,
   "metadata": {},
   "outputs": [],
   "source": [
    "arquivo='ourense.csv'\n",
    "with open(fr'C:\\Users\\USUARIO\\Downloads\\datasets\\{arquivo}') as ficheiro:\n",
    "    print(ficheiro.readline().rstrip())"
   ]
  },
  {
   "cell_type": "markdown",
   "metadata": {},
   "source": [
    "\n",
    "### Cómo crear un arquivo temporal"
   ]
  },
  {
   "cell_type": "code",
   "execution_count": null,
   "metadata": {},
   "outputs": [],
   "source": [
    "import os\n",
    "import tempfile\n",
    "\n",
    "arquivo_temporal = os.path.join(tempfile.mktemp())\n",
    "print(arquivo_temporal)"
   ]
  },
  {
   "cell_type": "markdown",
   "metadata": {},
   "source": [
    "Esto daranos unha ruta a un novo arquivo que non existe cun nome que empezará por `tmp` e logo terá varios caracteres aleatorios. **Exemplos**: `tmp3yas5ei1`, `tmpvtwvejgk`.\n",
    "\n",
    "Dependendo do sistema, creará o arquivo en distintas ubicacións:\n",
    "\n",
    "- En **Microsoft Windows** no cartafol: `C:\\Users\\USUARIO\\AppData\\Local\\Temp\\`\n",
    "- En **GNU/Linux** no directorio temporal: `/tmp/`"
   ]
  },
  {
   "cell_type": "markdown",
   "metadata": {},
   "source": [
    "## Ler arquivos (modo simple)"
   ]
  },
  {
   "cell_type": "code",
   "execution_count": null,
   "metadata": {},
   "outputs": [],
   "source": [
    "f = open(\"tmp.txt\", \"r\")\n",
    "print(f.read())"
   ]
  },
  {
   "cell_type": "markdown",
   "metadata": {},
   "source": [
    "## Ler arquivos por liñas"
   ]
  },
  {
   "cell_type": "code",
   "execution_count": null,
   "metadata": {},
   "outputs": [],
   "source": [
    "ficheiro = open('/tmp/tmp.tmp', 'r')\n",
    "\n",
    "while liña := ficheiro.readline():\n",
    "    print(liña.rstrip())"
   ]
  },
  {
   "cell_type": "markdown",
   "metadata": {},
   "source": [
    "## Escribir (e sobreescribir) nun arquivo"
   ]
  },
  {
   "cell_type": "code",
   "execution_count": null,
   "metadata": {},
   "outputs": [],
   "source": [
    "ficheiro = open(\"tmp.txt\", \"w\")\n",
    "ficheiro.write(\"Hola mundo!\")\n",
    "ficheiro.close()"
   ]
  },
  {
   "cell_type": "markdown",
   "metadata": {},
   "source": [
    "## Cómo engadir contido ao final dun arquivo"
   ]
  },
  {
   "cell_type": "code",
   "execution_count": null,
   "metadata": {},
   "outputs": [],
   "source": [
    "## Ler arquivos (modo simple)\n",
    "ficheiro = open(\"tmp.txt\", \"a\")\n",
    "ficheiro.write(\"Outra liña!\")\n",
    "ficheiro.close()"
   ]
  },
  {
   "cell_type": "markdown",
   "metadata": {},
   "source": [
    "## ❗ Manexo de erros"
   ]
  },
  {
   "cell_type": "code",
   "execution_count": null,
   "metadata": {},
   "outputs": [],
   "source": [
    "import sys\n",
    "\n",
    "ruta_arquivo=\"/tmp/tmp.tmp\"\n",
    "\n",
    "try:\n",
    "  ficheiro = open(ruta_arquivo) #Se engado: 'rb' podo abrir o arquivo en binario\n",
    "except FileNotFoundError:\n",
    "    print(f\"Non se pode atopar o arquivo: {ruta_arquivo}.\")\n",
    "    sys.exit(1)\n",
    "except OSError:\n",
    "    print(f\"Erro de sistema abrindo o arquivo: {ruta_arquivo}\")\n",
    "    sys.exit(1)\n",
    "except Exception as err:\n",
    "    print(f\"Ocorreu un erro descoñecido abrindo o arquivo: {ruta_arquivo} Erro: \",repr(err))\n",
    "    sys.exit(1)\n",
    "else:\n",
    "  while liña := ficheiro.readline():\n",
    "    print(liña.rstrip())"
   ]
  },
  {
   "cell_type": "markdown",
   "metadata": {},
   "source": [
    "## Manexo de erros con with"
   ]
  },
  {
   "cell_type": "code",
   "execution_count": null,
   "metadata": {},
   "outputs": [],
   "source": [
    "ruta_arquivo=\"/tmp/tmp.tmp\"\n",
    "\n",
    "with open(ruta_arquivo) as ficheiro:\n",
    "    while liña := ficheiro.readline():\n",
    "        print(liña.rstrip())\n"
   ]
  },
  {
   "cell_type": "markdown",
   "metadata": {},
   "source": [
    "#### Tipos de apertura\n",
    "\n",
    "No **open()** podemos especificar principalmente: **r** (lectura, por defecto), **w** (escritura), **a** (append ou engadir ao final) entre outras.\n",
    "\n",
    "Tamén podemos abrir o arquivo no modo por defecto que é modo texto (**t**) ou en binario (**b**)\n"
   ]
  },
  {
   "cell_type": "markdown",
   "metadata": {},
   "source": [
    "**Máis información**:\n",
    "\n",
    "- <https://www.w3schools.com/python/python_file_write.asp>"
   ]
  }
 ],
 "metadata": {
  "kernelspec": {
   "display_name": "bigdata",
   "language": "python",
   "name": "python3"
  },
  "language_info": {
   "codemirror_mode": {
    "name": "ipython",
    "version": 3
   },
   "file_extension": ".py",
   "mimetype": "text/x-python",
   "name": "python",
   "nbconvert_exporter": "python",
   "pygments_lexer": "ipython3",
   "version": "3.12.0"
  }
 },
 "nbformat": 4,
 "nbformat_minor": 2
}
