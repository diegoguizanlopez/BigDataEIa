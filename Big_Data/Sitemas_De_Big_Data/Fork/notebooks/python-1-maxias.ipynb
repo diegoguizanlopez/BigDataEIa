{
 "cells": [
  {
   "cell_type": "markdown",
   "metadata": {},
   "source": [
    "# Maxias pitónicas"
   ]
  },
  {
   "attachments": {
    "image.png": {
     "image/png": "[encoded data removed]"
    }
   },
   "cell_type": "markdown",
   "metadata": {},
   "source": [
    "![image.png](attachment:image.png)"
   ]
  },
  {
   "cell_type": "markdown",
   "metadata": {},
   "source": [
    "## E outras herbas"
   ]
  },
  {
   "cell_type": "markdown",
   "metadata": {},
   "source": [
    "Ipython engade algo de funcionalidade na consola: autocopletado, maxias, etc. É un python interactivo. O jupyterlab precisa de ipython e ipykernel para funcionar correctamente.\n",
    "\n",
    "Podemos lanzar unha consola interactiva de iPython con ese mesmo comando:"
   ]
  },
  {
   "cell_type": "markdown",
   "metadata": {},
   "source": [
    "    (bigdata) PS C:\\> ipython\n",
    "    Python 3.8.18 (default, Sep 11 2023, 13:39:12) [MSC v.1916 64 bit (AMD64)]\n",
    "    Type 'copyright', 'credits' or 'license' for more information\n",
    "    IPython 8.12.0 -- An enhanced Interactive Python. Type '?' for help."
   ]
  },
  {
   "cell_type": "markdown",
   "metadata": {},
   "source": [
    "Podemos completar ou autocompletar e obter axuda con: TAB, Ctrl+TAB, Ctrl+Espacio...\n",
    "\n",
    "Tamén temos dispoñibles unha serie de funcións listas para empregar nos notebooks que poden ser moi útiles:\n",
    "<https://ipython.readthedocs.io/en/stable/interactive/magics.html>\n",
    "\n",
    "A continuación veremos algunhas."
   ]
  },
  {
   "cell_type": "markdown",
   "metadata": {},
   "source": [
    "## %time\n",
    "\n",
    "Permítenos medir canto tempo leva unha execución determinada.\n",
    "\n",
    "**Exemplo:**"
   ]
  },
  {
   "cell_type": "code",
   "execution_count": null,
   "metadata": {},
   "outputs": [],
   "source": [
    "import time\n",
    "from random import randint\n",
    "\n",
    "def tarefa_pitónica():\n",
    "    tempo=randint(1, 10)\n",
    "    print(f'Vaime levar: {tempo}')\n",
    "    time.sleep(tempo)\n",
    "\n",
    "%time tarefa_pitónica()"
   ]
  },
  {
   "cell_type": "markdown",
   "metadata": {},
   "source": [
    "## %run\n",
    "\n",
    "Executa scripts externos. Pode ser moi útil para preparar unha contorna cos datos, etc.\n"
   ]
  },
  {
   "cell_type": "code",
   "execution_count": null,
   "metadata": {},
   "outputs": [],
   "source": [
    "%run holamundo.py"
   ]
  },
  {
   "cell_type": "markdown",
   "metadata": {},
   "source": [
    "## %load\n",
    "\n",
    "Amosa o código e despois o executa"
   ]
  },
  {
   "cell_type": "code",
   "execution_count": null,
   "metadata": {},
   "outputs": [],
   "source": [
    "%load holamundo.py"
   ]
  },
  {
   "cell_type": "markdown",
   "metadata": {},
   "source": [
    "## %edit\n",
    "\n",
    "Abre o código para edición e logo permite executalo"
   ]
  },
  {
   "cell_type": "code",
   "execution_count": null,
   "metadata": {},
   "outputs": [],
   "source": [
    "%edit holamundo.py"
   ]
  },
  {
   "cell_type": "markdown",
   "metadata": {},
   "source": [
    "## Amosar axuda dunha maxia:\n",
    "\n",
    "    %MAXIA??\n"
   ]
  },
  {
   "cell_type": "code",
   "execution_count": 3,
   "metadata": {},
   "outputs": [
    {
     "name": "stdout",
     "output_type": "stream",
     "text": [
      "\u001b[1;31mSource:\u001b[0m\n",
      "    \u001b[1;33m@\u001b[0m\u001b[0mline_magic\u001b[0m\u001b[1;33m\n",
      "\u001b[0m    \u001b[1;32mdef\u001b[0m \u001b[0medit\u001b[0m\u001b[1;33m(\u001b[0m\u001b[0mself\u001b[0m\u001b[1;33m,\u001b[0m \u001b[0mparameter_s\u001b[0m\u001b[1;33m=\u001b[0m\u001b[1;34m\"\"\u001b[0m\u001b[1;33m,\u001b[0m \u001b[0mlast_call\u001b[0m\u001b[1;33m=\u001b[0m\u001b[1;32mNone\u001b[0m\u001b[1;33m)\u001b[0m\u001b[1;33m:\u001b[0m\u001b[1;33m\n",
      "\u001b[0m        \u001b[1;34m\"\"\"Bring up an editor and execute the resulting code.\n",
      "\n",
      "        Usage:\n",
      "          %edit [options] [args]\n",
      "\n",
      "        %edit runs an external text editor. You will need to set the command for\n",
      "        this editor via the ``TerminalInteractiveShell.editor`` option in your\n",
      "        configuration file before it will work.\n",
      "\n",
      "        This command allows you to conveniently edit multi-line code right in\n",
      "        your IPython session.\n",
      "\n",
      "        If called without arguments, %edit opens up an empty editor with a\n",
      "        temporary file and will execute the contents of this file when you\n",
      "        close it (don't forget to save it!).\n",
      "\n",
      "        Options:\n",
      "\n",
      "        -n <number>\n",
      "          Open the editor at a specified line number. By default, the IPython\n",
      "          editor hook uses the unix syntax 'editor +N filename', but you can\n",
      "          configure this by providing your own modified hook if your favorite\n",
      "          editor supports line-number specifications with a different syntax.\n",
      "\n",
      "        -p\n",
      "          Call the editor with the same data as the previous time it was used,\n",
      "          regardless of how long ago (in your current session) it was.\n",
      "\n",
      "        -r\n",
      "          Use 'raw' input. This option only applies to input taken from the\n",
      "          user's history.  By default, the 'processed' history is used, so that\n",
      "          magics are loaded in their transformed version to valid Python.  If\n",
      "          this option is given, the raw input as typed as the command line is\n",
      "          used instead.  When you exit the editor, it will be executed by\n",
      "          IPython's own processor.\n",
      "\n",
      "        Arguments:\n",
      "\n",
      "        If arguments are given, the following possibilities exist:\n",
      "\n",
      "        - The arguments are numbers or pairs of colon-separated numbers (like\n",
      "          1 4:8 9). These are interpreted as lines of previous input to be\n",
      "          loaded into the editor. The syntax is the same of the %macro command.\n",
      "\n",
      "        - If the argument doesn't start with a number, it is evaluated as a\n",
      "          variable and its contents loaded into the editor. You can thus edit\n",
      "          any string which contains python code (including the result of\n",
      "          previous edits).\n",
      "\n",
      "        - If the argument is the name of an object (other than a string),\n",
      "          IPython will try to locate the file where it was defined and open the\n",
      "          editor at the point where it is defined. You can use ``%edit function``\n",
      "          to load an editor exactly at the point where 'function' is defined,\n",
      "          edit it and have the file be executed automatically.\n",
      "\n",
      "          If the object is a macro (see %macro for details), this opens up your\n",
      "          specified editor with a temporary file containing the macro's data.\n",
      "          Upon exit, the macro is reloaded with the contents of the file.\n",
      "\n",
      "          Note: opening at an exact line is only supported under Unix, and some\n",
      "          editors (like kedit and gedit up to Gnome 2.8) do not understand the\n",
      "          '+NUMBER' parameter necessary for this feature. Good editors like\n",
      "          (X)Emacs, vi, jed, pico and joe all do.\n",
      "\n",
      "        - If the argument is not found as a variable, IPython will look for a\n",
      "          file with that name (adding .py if necessary) and load it into the\n",
      "          editor. It will execute its contents with execfile() when you exit,\n",
      "          loading any code in the file into your interactive namespace.\n",
      "\n",
      "        Unlike in the terminal, this is designed to use a GUI editor, and we do\n",
      "        not know when it has closed. So the file you edit will not be\n",
      "        automatically executed or printed.\n",
      "\n",
      "        Note that %edit is also available through the alias %ed.\n",
      "        \"\"\"\u001b[0m\u001b[1;33m\n",
      "\u001b[0m        \u001b[0mlast_call\u001b[0m \u001b[1;33m=\u001b[0m \u001b[0mlast_call\u001b[0m \u001b[1;32mor\u001b[0m \u001b[1;33m[\u001b[0m\u001b[1;34m\"\"\u001b[0m\u001b[1;33m,\u001b[0m \u001b[1;34m\"\"\u001b[0m\u001b[1;33m]\u001b[0m\u001b[1;33m\n",
      "\u001b[0m        \u001b[0mopts\u001b[0m\u001b[1;33m,\u001b[0m \u001b[0margs\u001b[0m \u001b[1;33m=\u001b[0m \u001b[0mself\u001b[0m\u001b[1;33m.\u001b[0m\u001b[0mparse_options\u001b[0m\u001b[1;33m(\u001b[0m\u001b[0mparameter_s\u001b[0m\u001b[1;33m,\u001b[0m \u001b[1;34m\"prn:\"\u001b[0m\u001b[1;33m)\u001b[0m\u001b[1;33m\n",
      "\u001b[0m\u001b[1;33m\n",
      "\u001b[0m        \u001b[1;32mtry\u001b[0m\u001b[1;33m:\u001b[0m\u001b[1;33m\n",
      "\u001b[0m            \u001b[0mfilename\u001b[0m\u001b[1;33m,\u001b[0m \u001b[0mlineno\u001b[0m\u001b[1;33m,\u001b[0m \u001b[0m_\u001b[0m \u001b[1;33m=\u001b[0m \u001b[0mCodeMagics\u001b[0m\u001b[1;33m.\u001b[0m\u001b[0m_find_edit_target\u001b[0m\u001b[1;33m(\u001b[0m\u001b[0mself\u001b[0m\u001b[1;33m.\u001b[0m\u001b[0mshell\u001b[0m\u001b[1;33m,\u001b[0m \u001b[0margs\u001b[0m\u001b[1;33m,\u001b[0m \u001b[0mopts\u001b[0m\u001b[1;33m,\u001b[0m \u001b[0mlast_call\u001b[0m\u001b[1;33m)\u001b[0m\u001b[1;33m\n",
      "\u001b[0m        \u001b[1;32mexcept\u001b[0m \u001b[0mMacroToEdit\u001b[0m\u001b[1;33m:\u001b[0m\u001b[1;33m\n",
      "\u001b[0m            \u001b[1;31m# TODO: Implement macro editing over 2 processes.\u001b[0m\u001b[1;33m\n",
      "\u001b[0m            \u001b[0mprint\u001b[0m\u001b[1;33m(\u001b[0m\u001b[1;34m\"Macro editing not yet implemented in 2-process model.\"\u001b[0m\u001b[1;33m)\u001b[0m\u001b[1;33m\n",
      "\u001b[0m            \u001b[1;32mreturn\u001b[0m\u001b[1;33m\n",
      "\u001b[0m\u001b[1;33m\n",
      "\u001b[0m        \u001b[1;31m# Make sure we send to the client an absolute path, in case the working\u001b[0m\u001b[1;33m\n",
      "\u001b[0m        \u001b[1;31m# directory of client and kernel don't match\u001b[0m\u001b[1;33m\n",
      "\u001b[0m        \u001b[0mfilename\u001b[0m \u001b[1;33m=\u001b[0m \u001b[0mos\u001b[0m\u001b[1;33m.\u001b[0m\u001b[0mpath\u001b[0m\u001b[1;33m.\u001b[0m\u001b[0mabspath\u001b[0m\u001b[1;33m(\u001b[0m\u001b[0mfilename\u001b[0m\u001b[1;33m)\u001b[0m\u001b[1;33m\n",
      "\u001b[0m\u001b[1;33m\n",
      "\u001b[0m        \u001b[0mpayload\u001b[0m \u001b[1;33m=\u001b[0m \u001b[1;33m{\u001b[0m\u001b[1;34m\"source\"\u001b[0m\u001b[1;33m:\u001b[0m \u001b[1;34m\"edit_magic\"\u001b[0m\u001b[1;33m,\u001b[0m \u001b[1;34m\"filename\"\u001b[0m\u001b[1;33m:\u001b[0m \u001b[0mfilename\u001b[0m\u001b[1;33m,\u001b[0m \u001b[1;34m\"line_number\"\u001b[0m\u001b[1;33m:\u001b[0m \u001b[0mlineno\u001b[0m\u001b[1;33m}\u001b[0m\u001b[1;33m\n",
      "\u001b[0m        \u001b[1;32massert\u001b[0m \u001b[0mself\u001b[0m\u001b[1;33m.\u001b[0m\u001b[0mshell\u001b[0m \u001b[1;32mis\u001b[0m \u001b[1;32mnot\u001b[0m \u001b[1;32mNone\u001b[0m\u001b[1;33m\n",
      "\u001b[0m        \u001b[0mself\u001b[0m\u001b[1;33m.\u001b[0m\u001b[0mshell\u001b[0m\u001b[1;33m.\u001b[0m\u001b[0mpayload_manager\u001b[0m\u001b[1;33m.\u001b[0m\u001b[0mwrite_payload\u001b[0m\u001b[1;33m(\u001b[0m\u001b[0mpayload\u001b[0m\u001b[1;33m)\u001b[0m\u001b[1;33m\u001b[0m\u001b[1;33m\u001b[0m\u001b[0m\n",
      "\u001b[1;31mFile:\u001b[0m   c:\\users\\diego.guizanlopez\\appdata\\local\\miniconda3\\envs\\bigdata\\lib\\site-packages\\ipykernel\\zmqshell.py"
     ]
    }
   ],
   "source": [
    "%edit??"
   ]
  },
  {
   "cell_type": "markdown",
   "metadata": {},
   "source": [
    "## %pycat\n",
    "\n",
    "Amosa o código"
   ]
  },
  {
   "cell_type": "code",
   "execution_count": null,
   "metadata": {},
   "outputs": [],
   "source": [
    "%pycat holamundo.py"
   ]
  },
  {
   "cell_type": "markdown",
   "metadata": {},
   "source": [
    "## %who\n",
    "\n",
    "Amosa as variables en memoria"
   ]
  },
  {
   "cell_type": "code",
   "execution_count": null,
   "metadata": {},
   "outputs": [],
   "source": [
    "%who"
   ]
  },
  {
   "cell_type": "markdown",
   "metadata": {},
   "source": [
    "## %reset\n",
    "\n",
    "Borra o estado da memoria"
   ]
  },
  {
   "cell_type": "code",
   "execution_count": null,
   "metadata": {},
   "outputs": [],
   "source": [
    "%reset"
   ]
  },
  {
   "cell_type": "markdown",
   "metadata": {},
   "source": [
    "## %save\n",
    "\n",
    "Salva o estado da sesión, é dicir, as liñas que foron executadas."
   ]
  },
  {
   "cell_type": "code",
   "execution_count": null,
   "metadata": {},
   "outputs": [],
   "source": [
    "%save C:\\\\Users\\\\USUARIO\\\\sesion.py"
   ]
  },
  {
   "cell_type": "markdown",
   "metadata": {},
   "source": [
    "## %lsmagic\n",
    "\n",
    "Lista as diferentes maxias"
   ]
  },
  {
   "cell_type": "code",
   "execution_count": 2,
   "metadata": {},
   "outputs": [
    {
     "data": {
      "application/json": {
       "cell": {
        "!": "OSMagics",
        "HTML": "Other",
        "SVG": "Other",
        "bash": "Other",
        "capture": "ExecutionMagics",
        "cmd": "Other",
        "debug": "ExecutionMagics",
        "file": "Other",
        "html": "DisplayMagics",
        "javascript": "DisplayMagics",
        "js": "DisplayMagics",
        "latex": "DisplayMagics",
        "markdown": "DisplayMagics",
        "perl": "Other",
        "prun": "ExecutionMagics",
        "pypy": "Other",
        "python": "Other",
        "python2": "Other",
        "python3": "Other",
        "ruby": "Other",
        "script": "ScriptMagics",
        "sh": "Other",
        "svg": "DisplayMagics",
        "sx": "OSMagics",
        "system": "OSMagics",
        "time": "ExecutionMagics",
        "timeit": "ExecutionMagics",
        "writefile": "OSMagics"
       },
       "line": {
        "alias": "OSMagics",
        "alias_magic": "BasicMagics",
        "autoawait": "AsyncMagics",
        "autocall": "AutoMagics",
        "automagic": "AutoMagics",
        "autosave": "KernelMagics",
        "bookmark": "OSMagics",
        "cd": "OSMagics",
        "clear": "KernelMagics",
        "cls": "KernelMagics",
        "colors": "BasicMagics",
        "conda": "PackagingMagics",
        "config": "ConfigMagics",
        "connect_info": "KernelMagics",
        "copy": "Other",
        "ddir": "Other",
        "debug": "ExecutionMagics",
        "dhist": "OSMagics",
        "dirs": "OSMagics",
        "doctest_mode": "BasicMagics",
        "echo": "Other",
        "ed": "Other",
        "edit": "KernelMagics",
        "env": "OSMagics",
        "gui": "BasicMagics",
        "hist": "Other",
        "history": "HistoryMagics",
        "killbgscripts": "ScriptMagics",
        "ldir": "Other",
        "less": "KernelMagics",
        "load": "CodeMagics",
        "load_ext": "ExtensionMagics",
        "loadpy": "CodeMagics",
        "logoff": "LoggingMagics",
        "logon": "LoggingMagics",
        "logstart": "LoggingMagics",
        "logstate": "LoggingMagics",
        "logstop": "LoggingMagics",
        "ls": "Other",
        "lsmagic": "BasicMagics",
        "macro": "ExecutionMagics",
        "magic": "BasicMagics",
        "matplotlib": "PylabMagics",
        "mkdir": "Other",
        "more": "KernelMagics",
        "notebook": "BasicMagics",
        "page": "BasicMagics",
        "pastebin": "CodeMagics",
        "pdb": "ExecutionMagics",
        "pdef": "NamespaceMagics",
        "pdoc": "NamespaceMagics",
        "pfile": "NamespaceMagics",
        "pinfo": "NamespaceMagics",
        "pinfo2": "NamespaceMagics",
        "pip": "PackagingMagics",
        "popd": "OSMagics",
        "pprint": "BasicMagics",
        "precision": "BasicMagics",
        "prun": "ExecutionMagics",
        "psearch": "NamespaceMagics",
        "psource": "NamespaceMagics",
        "pushd": "OSMagics",
        "pwd": "OSMagics",
        "pycat": "OSMagics",
        "pylab": "PylabMagics",
        "qtconsole": "KernelMagics",
        "quickref": "BasicMagics",
        "recall": "HistoryMagics",
        "rehashx": "OSMagics",
        "reload_ext": "ExtensionMagics",
        "ren": "Other",
        "rep": "Other",
        "rerun": "HistoryMagics",
        "reset": "NamespaceMagics",
        "reset_selective": "NamespaceMagics",
        "rmdir": "Other",
        "run": "ExecutionMagics",
        "save": "CodeMagics",
        "sc": "OSMagics",
        "set_env": "OSMagics",
        "store": "StoreMagics",
        "sx": "OSMagics",
        "system": "OSMagics",
        "tb": "ExecutionMagics",
        "time": "ExecutionMagics",
        "timeit": "ExecutionMagics",
        "unalias": "OSMagics",
        "unload_ext": "ExtensionMagics",
        "who": "NamespaceMagics",
        "who_ls": "NamespaceMagics",
        "whos": "NamespaceMagics",
        "xdel": "NamespaceMagics",
        "xmode": "BasicMagics"
       }
      },
      "text/plain": [
       "Available line magics:\n",
       "%alias  %alias_magic  %autoawait  %autocall  %automagic  %autosave  %bookmark  %cd  %clear  %cls  %colors  %conda  %config  %connect_info  %copy  %ddir  %debug  %dhist  %dirs  %doctest_mode  %echo  %ed  %edit  %env  %gui  %hist  %history  %killbgscripts  %ldir  %less  %load  %load_ext  %loadpy  %logoff  %logon  %logstart  %logstate  %logstop  %ls  %lsmagic  %macro  %magic  %matplotlib  %mkdir  %more  %notebook  %page  %pastebin  %pdb  %pdef  %pdoc  %pfile  %pinfo  %pinfo2  %pip  %popd  %pprint  %precision  %prun  %psearch  %psource  %pushd  %pwd  %pycat  %pylab  %qtconsole  %quickref  %recall  %rehashx  %reload_ext  %ren  %rep  %rerun  %reset  %reset_selective  %rmdir  %run  %save  %sc  %set_env  %store  %sx  %system  %tb  %time  %timeit  %unalias  %unload_ext  %who  %who_ls  %whos  %xdel  %xmode\n",
       "\n",
       "Available cell magics:\n",
       "%%!  %%HTML  %%SVG  %%bash  %%capture  %%cmd  %%debug  %%file  %%html  %%javascript  %%js  %%latex  %%markdown  %%perl  %%prun  %%pypy  %%python  %%python2  %%python3  %%ruby  %%script  %%sh  %%svg  %%sx  %%system  %%time  %%timeit  %%writefile\n",
       "\n",
       "Automagic is ON, % prefix IS NOT needed for line magics."
      ]
     },
     "execution_count": 2,
     "metadata": {},
     "output_type": "execute_result"
    }
   ],
   "source": [
    "%lsmagic"
   ]
  },
  {
   "cell_type": "markdown",
   "metadata": {},
   "source": [
    "## %env\n",
    "\n",
    "Amosa as variables do sistema"
   ]
  },
  {
   "cell_type": "code",
   "execution_count": 1,
   "metadata": {},
   "outputs": [
    {
     "data": {
      "text/plain": [
       "{'ALLUSERSPROFILE': 'C:\\\\ProgramData',\n",
       " 'APPDATA': 'C:\\\\Users\\\\diego.guizanlopez\\\\AppData\\\\Roaming',\n",
       " 'CHROME_CRASHPAD_PIPE_NAME': '\\\\\\\\.\\\\pipe\\\\crashpad_2532_JQOOJNVPBYRILPNE',\n",
       " 'COMMONPROGRAMFILES': 'C:\\\\Program Files\\\\Common Files',\n",
       " 'COMMONPROGRAMFILES(X86)': 'C:\\\\Program Files (x86)\\\\Common Files',\n",
       " 'COMMONPROGRAMW6432': 'C:\\\\Program Files\\\\Common Files',\n",
       " 'COMPUTERNAME': 'A23P169C',\n",
       " 'COMSPEC': 'C:\\\\windows\\\\system32\\\\cmd.exe',\n",
       " 'CONDA_DEFAULT_ENV': 'bigdata',\n",
       " 'CONDA_EXE': 'C:\\\\Users\\\\diego.guizanlopez\\\\AppData\\\\Local\\\\miniconda3\\\\Scripts\\\\conda.exe',\n",
       " 'CONDA_PREFIX': 'C:\\\\Users\\\\diego.guizanlopez\\\\AppData\\\\Local\\\\miniconda3\\\\envs\\\\bigdata',\n",
       " 'CONDA_PROMPT_MODIFIER': '(bigdata) ',\n",
       " 'CONDA_PYTHON_EXE': 'C:\\\\Users\\\\diego.guizanlopez\\\\AppData\\\\Local\\\\miniconda3\\\\python.exe',\n",
       " 'CONDA_ROOT': 'C:\\\\Users\\\\diego.guizanlopez\\\\AppData\\\\Local\\\\miniconda3',\n",
       " 'CONDA_SHLVL': '1',\n",
       " 'DRIVERDATA': 'C:\\\\Windows\\\\System32\\\\Drivers\\\\DriverData',\n",
       " 'EFC_2168': '1',\n",
       " 'ELECTRON_RUN_AS_NODE': '1',\n",
       " 'FPS_BROWSER_APP_PROFILE_STRING': 'Internet Explorer',\n",
       " 'FPS_BROWSER_USER_PROFILE_STRING': 'Default',\n",
       " 'HOMEDRIVE': 'C:',\n",
       " 'HOMEPATH': '\\\\Users\\\\diego.guizanlopez',\n",
       " 'JAVA_HOME': 'C:\\\\Users\\\\diego.guizanlopez\\\\AppData\\\\Local\\\\miniconda3\\\\envs\\\\bigdata\\\\Library',\n",
       " 'JPY_INTERRUPT_EVENT': '1636',\n",
       " 'LOCALAPPDATA': 'C:\\\\Users\\\\diego.guizanlopez\\\\AppData\\\\Local',\n",
       " 'LOGONSERVER': '\\\\\\\\SERVIDOR',\n",
       " 'NUMBER_OF_PROCESSORS': '6',\n",
       " 'ONEDRIVE': 'C:\\\\Users\\\\diego.guizanlopez\\\\OneDrive',\n",
       " 'OPENAI_API_KEY': '<hidden>',\n",
       " 'ORIGINAL_XDG_CURRENT_DESKTOP': 'undefined',\n",
       " 'OS': 'Windows_NT',\n",
       " 'PATH': 'c:\\\\Users\\\\diego.guizanlopez\\\\AppData\\\\Local\\\\miniconda3\\\\envs\\\\bigdata;C:\\\\Users\\\\diego.guizanlopez\\\\AppData\\\\Local\\\\miniconda3\\\\envs\\\\bigdata;C:\\\\Users\\\\diego.guizanlopez\\\\AppData\\\\Local\\\\miniconda3\\\\envs\\\\bigdata\\\\Library\\\\mingw-w64\\\\bin;C:\\\\Users\\\\diego.guizanlopez\\\\AppData\\\\Local\\\\miniconda3\\\\envs\\\\bigdata\\\\Library\\\\usr\\\\bin;C:\\\\Users\\\\diego.guizanlopez\\\\AppData\\\\Local\\\\miniconda3\\\\envs\\\\bigdata\\\\Library\\\\bin;C:\\\\Users\\\\diego.guizanlopez\\\\AppData\\\\Local\\\\miniconda3\\\\envs\\\\bigdata\\\\Scripts;C:\\\\Users\\\\diego.guizanlopez\\\\AppData\\\\Local\\\\miniconda3\\\\envs\\\\bigdata\\\\bin;C:\\\\Program Files (x86)\\\\Common Files\\\\Oracle\\\\Java\\\\javapath;C:\\\\windows\\\\system32;C:\\\\windows;C:\\\\windows\\\\System32\\\\Wbem;C:\\\\windows\\\\System32\\\\WindowsPowerShell\\\\v1.0;C:\\\\windows\\\\System32\\\\OpenSSH;C:\\\\Program Files\\\\Git\\\\cmd;C:\\\\Program Files\\\\Microsoft VS Code\\\\bin;C:\\\\HashiCorp\\\\Vagrant\\\\bin;C:\\\\Program Files\\\\PuTTY;C:\\\\Program Files\\\\dotnet;C:\\\\Program Files (x86)\\\\GnuPG\\\\bin;C:\\\\Program Files\\\\WireGuard;C:\\\\Users\\\\diego.guizanlopez\\\\AppData\\\\Local\\\\Microsoft\\\\WindowsApps;C:\\\\Users\\\\diego.guizanlopez\\\\AppData\\\\Local\\\\miniconda3\\\\condabin;.',\n",
       " 'PATHEXT': '.COM;.EXE;.BAT;.CMD;.VBS;.VBE;.JS;.JSE;.WSF;.WSH;.MSC',\n",
       " 'PROCESSOR_ARCHITECTURE': 'AMD64',\n",
       " 'PROCESSOR_IDENTIFIER': 'Intel64 Family 6 Model 158 Stepping 10, GenuineIntel',\n",
       " 'PROCESSOR_LEVEL': '6',\n",
       " 'PROCESSOR_REVISION': '9e0a',\n",
       " 'PROGRAMDATA': 'C:\\\\ProgramData',\n",
       " 'PROGRAMFILES': 'C:\\\\Program Files',\n",
       " 'PROGRAMFILES(X86)': 'C:\\\\Program Files (x86)',\n",
       " 'PROGRAMW6432': 'C:\\\\Program Files',\n",
       " 'PROMPT': '(bigdata) $P$G',\n",
       " 'PSMODULEPATH': 'C:\\\\Program Files\\\\WindowsPowerShell\\\\Modules;C:\\\\windows\\\\system32\\\\WindowsPowerShell\\\\v1.0\\\\Modules',\n",
       " 'PUBLIC': 'C:\\\\Users\\\\Public',\n",
       " 'PYDEVD_IPYTHON_COMPATIBLE_DEBUGGING': '1',\n",
       " 'PYTHONIOENCODING': 'utf-8',\n",
       " 'PYTHONUNBUFFERED': '1',\n",
       " 'PYTHONUTF8': '1',\n",
       " 'SESSIONNAME': 'Console',\n",
       " 'SSL_CERT_FILE': 'C:\\\\Users\\\\diego.guizanlopez\\\\AppData\\\\Local\\\\miniconda3\\\\envs\\\\bigdata\\\\Library\\\\ssl\\\\cacert.pem',\n",
       " 'SYSTEMDRIVE': 'C:',\n",
       " 'SYSTEMROOT': 'C:\\\\windows',\n",
       " 'TEMP': 'C:\\\\Users\\\\DIEGO~1.GUI\\\\AppData\\\\Local\\\\Temp',\n",
       " 'TMP': 'C:\\\\Users\\\\DIEGO~1.GUI\\\\AppData\\\\Local\\\\Temp',\n",
       " 'USERDNSDOMAIN': 'WIRTZ.LOCAL',\n",
       " 'USERDOMAIN': 'WIRTZ',\n",
       " 'USERDOMAIN_ROAMINGPROFILE': 'WIRTZ',\n",
       " 'USERNAME': 'diego.guizanlopez',\n",
       " 'USERPROFILE': 'C:\\\\Users\\\\diego.guizanlopez',\n",
       " 'VBOX_MSI_INSTALL_PATH': 'C:\\\\Program Files\\\\Oracle\\\\VirtualBox\\\\',\n",
       " 'VSCODE_AMD_ENTRYPOINT': 'vs/workbench/api/node/extensionHostProcess',\n",
       " 'VSCODE_CODE_CACHE_PATH': 'C:\\\\Users\\\\diego.guizanlopez\\\\AppData\\\\Roaming\\\\Code\\\\CachedData\\\\d037ac076cee195194f93ce6fe2bdfe2969cc82d',\n",
       " 'VSCODE_CRASH_REPORTER_PROCESS_TYPE': 'extensionHost',\n",
       " 'VSCODE_CWD': 'C:\\\\Program Files\\\\Microsoft VS Code',\n",
       " 'VSCODE_HANDLES_UNCAUGHT_ERRORS': 'true',\n",
       " 'VSCODE_IPC_HOOK': '\\\\\\\\.\\\\pipe\\\\d57d0b0921aec8574c0a442eeb32ffbf-1.84.0-main-sock',\n",
       " 'VSCODE_L10N_BUNDLE_LOCATION': 'file:///c%3A/Users/diego.guizanlopez/.vscode/extensions/ms-ceintl.vscode-language-pack-es-1.84.2023111509/translations/extensions/vscode.markdown-language-features.i18n.json',\n",
       " 'VSCODE_NLS_CONFIG': '{\"locale\":\"es\",\"osLocale\":\"es-es\",\"availableLanguages\":{\"*\":\"es\"},\"_languagePackId\":\"fd0acb673c1c6607bd0ce6affb05c320.es\",\"_translationsConfigFile\":\"C:\\\\\\\\Users\\\\\\\\diego.guizanlopez\\\\\\\\AppData\\\\\\\\Roaming\\\\\\\\Code\\\\\\\\clp\\\\\\\\fd0acb673c1c6607bd0ce6affb05c320.es\\\\\\\\tcf.json\",\"_cacheRoot\":\"C:\\\\\\\\Users\\\\\\\\diego.guizanlopez\\\\\\\\AppData\\\\\\\\Roaming\\\\\\\\Code\\\\\\\\clp\\\\\\\\fd0acb673c1c6607bd0ce6affb05c320.es\",\"_resolvedLanguagePackCoreLocation\":\"C:\\\\\\\\Users\\\\\\\\diego.guizanlopez\\\\\\\\AppData\\\\\\\\Roaming\\\\\\\\Code\\\\\\\\clp\\\\\\\\fd0acb673c1c6607bd0ce6affb05c320.es\\\\\\\\d037ac076cee195194f93ce6fe2bdfe2969cc82d\",\"_corruptedFile\":\"C:\\\\\\\\Users\\\\\\\\diego.guizanlopez\\\\\\\\AppData\\\\\\\\Roaming\\\\\\\\Code\\\\\\\\clp\\\\\\\\fd0acb673c1c6607bd0ce6affb05c320.es\\\\\\\\corrupted.info\",\"_languagePackSupport\":true}',\n",
       " 'VSCODE_PID': '2532',\n",
       " 'WINDIR': 'C:\\\\windows',\n",
       " 'ZES_ENABLE_SYSMAN': '1',\n",
       " '_CONDA_OLD_CHCP': '850',\n",
       " '__CONDA_OPENSLL_CERT_FILE_SET': '\"1\"',\n",
       " 'PYDEVD_USE_FRAME_EVAL': 'NO',\n",
       " 'TERM': 'xterm-color',\n",
       " 'CLICOLOR': '1',\n",
       " 'FORCE_COLOR': '1',\n",
       " 'CLICOLOR_FORCE': '1',\n",
       " 'PAGER': 'cat',\n",
       " 'GIT_PAGER': 'cat',\n",
       " 'MPLBACKEND': 'module://matplotlib_inline.backend_inline'}"
      ]
     },
     "execution_count": 1,
     "metadata": {},
     "output_type": "execute_result"
    }
   ],
   "source": [
    "%env"
   ]
  }
 ],
 "metadata": {
  "kernelspec": {
   "display_name": "bigdata",
   "language": "python",
   "name": "python3"
  },
  "language_info": {
   "codemirror_mode": {
    "name": "ipython",
    "version": 3
   },
   "file_extension": ".py",
   "mimetype": "text/x-python",
   "name": "python",
   "nbconvert_exporter": "python",
   "pygments_lexer": "ipython3",
   "version": "3.8.18"
  }
 },
 "nbformat": 4,
 "nbformat_minor": 2
}
