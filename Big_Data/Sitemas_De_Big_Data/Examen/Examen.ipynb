{
 "cells": [
  {
   "cell_type": "code",
   "execution_count": 61,
   "metadata": {},
   "outputs": [
    {
     "name": "stdout",
     "output_type": "stream",
     "text": [
      "^C\n"
     ]
    }
   ],
   "source": [
    "!conda create -y -n examenbd python=3.8"
   ]
  },
  {
   "cell_type": "code",
   "execution_count": 1,
   "metadata": {},
   "outputs": [
    {
     "name": "stdout",
     "output_type": "stream",
     "text": [
      "^C\n"
     ]
    }
   ],
   "source": [
    "!conda install -y pandas\n",
    "!conda install -y requests\n",
    "!conda install -y pathlib\n",
    "!conda install -y -c conda-forge pyarrow,pyarrow"
   ]
  },
  {
   "cell_type": "markdown",
   "metadata": {},
   "source": [
    "# EJERCICIO 2\n",
    "\n",
    "## Definición de métodos a utilizar\n",
    "\n",
    "    - recorrer: recorre el json con los valores seleccionados adaptados en este caso\n",
    "\n",
    "    - get_json: devuelve el json de una URL\n",
    "\n",
    "    - get_apis_untilnext: recorre la api hasta que no haya más páginas"
   ]
  },
  {
   "cell_type": "code",
   "execution_count": 1,
   "metadata": {},
   "outputs": [],
   "source": [
    "import json\n",
    "\n",
    "import requests\n",
    "\n",
    "def recorrer(data,listaValores,listaResidentes):\n",
    "    for valor in data:\n",
    "        for valor2 in valor['residents']:\n",
    "            if valor2 not in listaResidentes:\n",
    "                listaResidentes.append(valor2)\n",
    "        listaValores.append(valor)\n",
    "    return listaValores,listaResidentes\n",
    "\n",
    "def get_json(url):\n",
    "     return json.loads(json.dumps((requests.get(url)).json()))\n",
    "\n",
    "def get_apis_untilnext(json,listaLoc,listaRe):\n",
    "    while True:\n",
    "        listaLoc,listaRe=recorrer(json['results'],listaLoc,listaRe)\n",
    "        if(json['info']['next'] == None):\n",
    "             break\n",
    "        print(json[\"info\"][\"next\"])\n",
    "        json=get_json(json['info']['next'])\n",
    "    return listaLoc,listaRe"
   ]
  },
  {
   "cell_type": "markdown",
   "metadata": {},
   "source": [
    "**Ejecución del buscador de páginas de location**\n",
    "\n",
    "Aquí recogerá las páginas de la api de location hasta que no haya más"
   ]
  },
  {
   "cell_type": "code",
   "execution_count": 2,
   "metadata": {},
   "outputs": [
    {
     "name": "stdout",
     "output_type": "stream",
     "text": [
      "https://rickandmortyapi.com/api/location?page=2\n",
      "https://rickandmortyapi.com/api/location?page=3\n",
      "https://rickandmortyapi.com/api/location?page=4\n",
      "https://rickandmortyapi.com/api/location?page=5\n",
      "https://rickandmortyapi.com/api/location?page=6\n",
      "https://rickandmortyapi.com/api/location?page=7\n"
     ]
    }
   ],
   "source": [
    "listaLocations=[]\n",
    "listaResidentesTotal=[]\n",
    "listaLocations,listaResidentesTotal=get_apis_untilnext(get_json(\"https://rickandmortyapi.com/api/location\"),listaLocations,listaResidentesTotal)"
   ]
  },
  {
   "cell_type": "markdown",
   "metadata": {},
   "source": [
    "**Recogida de valores totales**\n",
    "\n",
    "Aquí se recoge todos los valores de los residentes y teniendo en cuenta si no hay residente\n",
    "\n",
    "Aclaración: Otro método que también se puede utilizar es guardando los personajes en una lista y comprobando el enlace y en vez de recorrer la api de cada personaje, recorrer la api de personajes para recoger cada uno de los personajes"
   ]
  },
  {
   "cell_type": "code",
   "execution_count": 3,
   "metadata": {},
   "outputs": [
    {
     "name": "stdout",
     "output_type": "stream",
     "text": [
      "{'id': 38, 'name': 'Beth Smith', 'status': 'Alive', 'species': 'Human', 'type': '', 'gender': 'Female', 'origin': {'name': 'Earth (C-137)', 'url': 'https://rickandmortyapi.com/api/location/1'}, 'location': {'name': 'Earth (C-137)', 'url': 'https://rickandmortyapi.com/api/location/1'}, 'image': 'https://rickandmortyapi.com/api/character/avatar/38.jpeg', 'episode': ['https://rickandmortyapi.com/api/episode/1', 'https://rickandmortyapi.com/api/episode/2', 'https://rickandmortyapi.com/api/episode/3', 'https://rickandmortyapi.com/api/episode/4', 'https://rickandmortyapi.com/api/episode/5', 'https://rickandmortyapi.com/api/episode/6', 'https://rickandmortyapi.com/api/episode/22', 'https://rickandmortyapi.com/api/episode/51'], 'url': 'https://rickandmortyapi.com/api/character/38', 'created': '2017-11-05T09:48:44.230Z'}\n",
      "{'id': 6, 'name': 'Abadango Cluster Princess', 'status': 'Alive', 'species': 'Alien', 'type': '', 'gender': 'Female', 'origin': {'name': 'Abadango', 'url': 'https://rickandmortyapi.com/api/location/2'}, 'location': {'name': 'Abadango', 'url': 'https://rickandmortyapi.com/api/location/2'}, 'image': 'https://rickandmortyapi.com/api/character/avatar/6.jpeg', 'episode': ['https://rickandmortyapi.com/api/episode/27'], 'url': 'https://rickandmortyapi.com/api/character/6', 'created': '2017-11-04T19:50:28.250Z'}\n",
      "{'id': 8, 'name': 'Adjudicator Rick', 'status': 'Dead', 'species': 'Human', 'type': '', 'gender': 'Male', 'origin': {'name': 'unknown', 'url': ''}, 'location': {'name': 'Citadel of Ricks', 'url': 'https://rickandmortyapi.com/api/location/3'}, 'image': 'https://rickandmortyapi.com/api/character/avatar/8.jpeg', 'episode': ['https://rickandmortyapi.com/api/episode/28'], 'url': 'https://rickandmortyapi.com/api/character/8', 'created': '2017-11-04T20:03:34.737Z'}\n",
      "{'id': 10, 'name': 'Alan Rails', 'status': 'Dead', 'species': 'Human', 'type': 'Superhuman (Ghost trains summoner)', 'gender': 'Male', 'origin': {'name': 'unknown', 'url': ''}, 'location': {'name': \"Worldender's lair\", 'url': 'https://rickandmortyapi.com/api/location/4'}, 'image': 'https://rickandmortyapi.com/api/character/avatar/10.jpeg', 'episode': ['https://rickandmortyapi.com/api/episode/25'], 'url': 'https://rickandmortyapi.com/api/character/10', 'created': '2017-11-04T20:19:09.017Z'}\n",
      "{'id': 12, 'name': 'Alexander', 'status': 'Dead', 'species': 'Human', 'type': '', 'gender': 'Male', 'origin': {'name': 'Earth (C-137)', 'url': 'https://rickandmortyapi.com/api/location/1'}, 'location': {'name': 'Anatomy Park', 'url': 'https://rickandmortyapi.com/api/location/5'}, 'image': 'https://rickandmortyapi.com/api/character/avatar/12.jpeg', 'episode': ['https://rickandmortyapi.com/api/episode/3'], 'url': 'https://rickandmortyapi.com/api/character/12', 'created': '2017-11-04T20:32:33.144Z'}\n",
      "{'id': 20, 'name': 'Ants in my Eyes Johnson', 'status': 'unknown', 'species': 'Human', 'type': 'Human with ants in his eyes', 'gender': 'Male', 'origin': {'name': 'unknown', 'url': ''}, 'location': {'name': 'Interdimensional Cable', 'url': 'https://rickandmortyapi.com/api/location/6'}, 'image': 'https://rickandmortyapi.com/api/character/avatar/20.jpeg', 'episode': ['https://rickandmortyapi.com/api/episode/8'], 'url': 'https://rickandmortyapi.com/api/character/20', 'created': '2017-11-04T22:34:53.659Z'}\n",
      "{'id': 23, 'name': 'Arcade Alien', 'status': 'unknown', 'species': 'Alien', 'type': '', 'gender': 'Male', 'origin': {'name': 'unknown', 'url': ''}, 'location': {'name': 'Immortality Field Resort', 'url': 'https://rickandmortyapi.com/api/location/7'}, 'image': 'https://rickandmortyapi.com/api/character/avatar/23.jpeg', 'episode': ['https://rickandmortyapi.com/api/episode/13', 'https://rickandmortyapi.com/api/episode/19', 'https://rickandmortyapi.com/api/episode/21', 'https://rickandmortyapi.com/api/episode/25', 'https://rickandmortyapi.com/api/episode/26'], 'url': 'https://rickandmortyapi.com/api/character/23', 'created': '2017-11-05T08:43:05.095Z'}\n",
      "{'id': 25, 'name': 'Armothy', 'status': 'Dead', 'species': 'unknown', 'type': 'Self-aware arm', 'gender': 'Male', 'origin': {'name': 'Post-Apocalyptic Earth', 'url': 'https://rickandmortyapi.com/api/location/8'}, 'location': {'name': 'Post-Apocalyptic Earth', 'url': 'https://rickandmortyapi.com/api/location/8'}, 'image': 'https://rickandmortyapi.com/api/character/avatar/25.jpeg', 'episode': ['https://rickandmortyapi.com/api/episode/23'], 'url': 'https://rickandmortyapi.com/api/character/25', 'created': '2017-11-05T08:54:29.343Z'}\n",
      "{'id': 26, 'name': 'Arthricia', 'status': 'Alive', 'species': 'Alien', 'type': 'Cat-Person', 'gender': 'Female', 'origin': {'name': 'Purge Planet', 'url': 'https://rickandmortyapi.com/api/location/9'}, 'location': {'name': 'Purge Planet', 'url': 'https://rickandmortyapi.com/api/location/9'}, 'image': 'https://rickandmortyapi.com/api/character/avatar/26.jpeg', 'episode': ['https://rickandmortyapi.com/api/episode/20'], 'url': 'https://rickandmortyapi.com/api/character/26', 'created': '2017-11-05T08:56:46.165Z'}\n",
      "{'id': 33, 'name': 'Beebo', 'status': 'Dead', 'species': 'Alien', 'type': '', 'gender': 'Male', 'origin': {'name': 'Venzenulon 7', 'url': 'https://rickandmortyapi.com/api/location/10'}, 'location': {'name': 'Venzenulon 7', 'url': 'https://rickandmortyapi.com/api/location/10'}, 'image': 'https://rickandmortyapi.com/api/character/avatar/33.jpeg', 'episode': ['https://rickandmortyapi.com/api/episode/29'], 'url': 'https://rickandmortyapi.com/api/character/33', 'created': '2017-11-05T09:21:55.595Z'}\n",
      "{'id': 35, 'name': 'Bepisian', 'status': 'Alive', 'species': 'Alien', 'type': 'Bepisian', 'gender': 'unknown', 'origin': {'name': 'Bepis 9', 'url': 'https://rickandmortyapi.com/api/location/11'}, 'location': {'name': 'Bepis 9', 'url': 'https://rickandmortyapi.com/api/location/11'}, 'image': 'https://rickandmortyapi.com/api/character/avatar/35.jpeg', 'episode': ['https://rickandmortyapi.com/api/episode/1', 'https://rickandmortyapi.com/api/episode/11', 'https://rickandmortyapi.com/api/episode/19', 'https://rickandmortyapi.com/api/episode/25'], 'url': 'https://rickandmortyapi.com/api/character/35', 'created': '2017-11-05T09:27:38.491Z'}\n",
      "None\n",
      "{'id': 40, 'name': \"Beth's Mytholog\", 'status': 'Dead', 'species': 'Mythological Creature', 'type': 'Mytholog', 'gender': 'Female', 'origin': {'name': 'Nuptia 4', 'url': 'https://rickandmortyapi.com/api/location/13'}, 'location': {'name': 'Nuptia 4', 'url': 'https://rickandmortyapi.com/api/location/13'}, 'image': 'https://rickandmortyapi.com/api/character/avatar/40.jpeg', 'episode': ['https://rickandmortyapi.com/api/episode/18'], 'url': 'https://rickandmortyapi.com/api/character/40', 'created': '2017-11-05T10:02:26.701Z'}\n",
      "{'id': 89, 'name': 'Dale', 'status': 'Dead', 'species': 'Mythological Creature', 'type': 'Giant', 'gender': 'Male', 'origin': {'name': \"Giant's Town\", 'url': 'https://rickandmortyapi.com/api/location/14'}, 'location': {'name': \"Giant's Town\", 'url': 'https://rickandmortyapi.com/api/location/14'}, 'image': 'https://rickandmortyapi.com/api/character/avatar/89.jpeg', 'episode': ['https://rickandmortyapi.com/api/episode/5'], 'url': 'https://rickandmortyapi.com/api/character/89', 'created': '2017-12-01T10:32:08.340Z'}\n",
      "None\n",
      "{'id': 105, 'name': 'Dr. Glip-Glop', 'status': 'Dead', 'species': 'Alien', 'type': '', 'gender': 'Male', 'origin': {'name': 'unknown', 'url': ''}, 'location': {'name': 'St. Gloopy Noops Hospital', 'url': 'https://rickandmortyapi.com/api/location/16'}, 'image': 'https://rickandmortyapi.com/api/character/avatar/105.jpeg', 'episode': ['https://rickandmortyapi.com/api/episode/19'], 'url': 'https://rickandmortyapi.com/api/character/105', 'created': '2017-12-26T12:39:22.855Z'}\n",
      "None\n",
      "{'id': 63, 'name': 'Centaur', 'status': 'Alive', 'species': 'Mythological Creature', 'type': 'Centaur', 'gender': 'Male', 'origin': {'name': 'unknown', 'url': ''}, 'location': {'name': \"Mr. Goldenfold's dream\", 'url': 'https://rickandmortyapi.com/api/location/18'}, 'image': 'https://rickandmortyapi.com/api/character/avatar/63.jpeg', 'episode': ['https://rickandmortyapi.com/api/episode/2'], 'url': 'https://rickandmortyapi.com/api/character/63', 'created': '2017-11-05T12:22:17.848Z'}\n",
      "None\n",
      "{'id': 3, 'name': 'Summer Smith', 'status': 'Alive', 'species': 'Human', 'type': '', 'gender': 'Female', 'origin': {'name': 'Earth (Replacement Dimension)', 'url': 'https://rickandmortyapi.com/api/location/20'}, 'location': {'name': 'Earth (Replacement Dimension)', 'url': 'https://rickandmortyapi.com/api/location/20'}, 'image': 'https://rickandmortyapi.com/api/character/avatar/3.jpeg', 'episode': ['https://rickandmortyapi.com/api/episode/6', 'https://rickandmortyapi.com/api/episode/7', 'https://rickandmortyapi.com/api/episode/8', 'https://rickandmortyapi.com/api/episode/9', 'https://rickandmortyapi.com/api/episode/10', 'https://rickandmortyapi.com/api/episode/11', 'https://rickandmortyapi.com/api/episode/12', 'https://rickandmortyapi.com/api/episode/14', 'https://rickandmortyapi.com/api/episode/15', 'https://rickandmortyapi.com/api/episode/16', 'https://rickandmortyapi.com/api/episode/17', 'https://rickandmortyapi.com/api/episode/18', 'https://rickandmortyapi.com/api/episode/19', 'https://rickandmortyapi.com/api/episode/20', 'https://rickandmortyapi.com/api/episode/21', 'https://rickandmortyapi.com/api/episode/22', 'https://rickandmortyapi.com/api/episode/23', 'https://rickandmortyapi.com/api/episode/24', 'https://rickandmortyapi.com/api/episode/25', 'https://rickandmortyapi.com/api/episode/26', 'https://rickandmortyapi.com/api/episode/27', 'https://rickandmortyapi.com/api/episode/29', 'https://rickandmortyapi.com/api/episode/30', 'https://rickandmortyapi.com/api/episode/31', 'https://rickandmortyapi.com/api/episode/32', 'https://rickandmortyapi.com/api/episode/33', 'https://rickandmortyapi.com/api/episode/34', 'https://rickandmortyapi.com/api/episode/35', 'https://rickandmortyapi.com/api/episode/36', 'https://rickandmortyapi.com/api/episode/38', 'https://rickandmortyapi.com/api/episode/39', 'https://rickandmortyapi.com/api/episode/40', 'https://rickandmortyapi.com/api/episode/41', 'https://rickandmortyapi.com/api/episode/42', 'https://rickandmortyapi.com/api/episode/43', 'https://rickandmortyapi.com/api/episode/44', 'https://rickandmortyapi.com/api/episode/45', 'https://rickandmortyapi.com/api/episode/46', 'https://rickandmortyapi.com/api/episode/47', 'https://rickandmortyapi.com/api/episode/48', 'https://rickandmortyapi.com/api/episode/49', 'https://rickandmortyapi.com/api/episode/51'], 'url': 'https://rickandmortyapi.com/api/character/3', 'created': '2017-11-04T19:09:56.428Z'}\n",
      "{'id': 7, 'name': 'Abradolf Lincler', 'status': 'unknown', 'species': 'Human', 'type': 'Genetic experiment', 'gender': 'Male', 'origin': {'name': 'Earth (Replacement Dimension)', 'url': 'https://rickandmortyapi.com/api/location/20'}, 'location': {'name': 'Testicle Monster Dimension', 'url': 'https://rickandmortyapi.com/api/location/21'}, 'image': 'https://rickandmortyapi.com/api/character/avatar/7.jpeg', 'episode': ['https://rickandmortyapi.com/api/episode/10', 'https://rickandmortyapi.com/api/episode/11'], 'url': 'https://rickandmortyapi.com/api/character/7', 'created': '2017-11-04T19:59:20.523Z'}\n",
      "{'id': 24, 'name': 'Armagheadon', 'status': 'Alive', 'species': 'Alien', 'type': 'Cromulon', 'gender': 'Male', 'origin': {'name': 'Signus 5 Expanse', 'url': 'https://rickandmortyapi.com/api/location/22'}, 'location': {'name': 'Signus 5 Expanse', 'url': 'https://rickandmortyapi.com/api/location/22'}, 'image': 'https://rickandmortyapi.com/api/character/avatar/24.jpeg', 'episode': ['https://rickandmortyapi.com/api/episode/16'], 'url': 'https://rickandmortyapi.com/api/character/24', 'created': '2017-11-05T08:48:30.776Z'}\n",
      "{'id': 37, 'name': 'Beth Sanchez', 'status': 'Alive', 'species': 'Human', 'type': '', 'gender': 'Female', 'origin': {'name': 'Earth (C-500A)', 'url': 'https://rickandmortyapi.com/api/location/23'}, 'location': {'name': 'Earth (C-500A)', 'url': 'https://rickandmortyapi.com/api/location/23'}, 'image': 'https://rickandmortyapi.com/api/character/avatar/37.jpeg', 'episode': ['https://rickandmortyapi.com/api/episode/8'], 'url': 'https://rickandmortyapi.com/api/character/37', 'created': '2017-11-05T09:38:22.960Z'}\n",
      "{'id': 65, 'name': 'Chris', 'status': 'Alive', 'species': 'Humanoid', 'type': 'Microverse inhabitant', 'gender': 'Male', 'origin': {'name': \"Rick's Battery Microverse\", 'url': 'https://rickandmortyapi.com/api/location/24'}, 'location': {'name': \"Rick's Battery Microverse\", 'url': 'https://rickandmortyapi.com/api/location/24'}, 'image': 'https://rickandmortyapi.com/api/character/avatar/65.jpeg', 'episode': ['https://rickandmortyapi.com/api/episode/17'], 'url': 'https://rickandmortyapi.com/api/character/65', 'created': '2017-11-30T11:02:41.935Z'}\n",
      "{'id': 67, 'name': 'Collector', 'status': 'Alive', 'species': 'Alien', 'type': 'Light bulb-Alien', 'gender': 'Male', 'origin': {'name': 'The Menagerie', 'url': 'https://rickandmortyapi.com/api/location/25'}, 'location': {'name': 'The Menagerie', 'url': 'https://rickandmortyapi.com/api/location/25'}, 'image': 'https://rickandmortyapi.com/api/character/avatar/67.jpeg', 'episode': ['https://rickandmortyapi.com/api/episode/29'], 'url': 'https://rickandmortyapi.com/api/character/67', 'created': '2017-11-30T11:13:46.785Z'}\n",
      "None\n",
      "{'id': 79, 'name': 'Crab Spider', 'status': 'Alive', 'species': 'Alien', 'type': 'Animal', 'gender': 'unknown', 'origin': {'name': 'Hideout Planet', 'url': 'https://rickandmortyapi.com/api/location/27'}, 'location': {'name': 'Hideout Planet', 'url': 'https://rickandmortyapi.com/api/location/27'}, 'image': 'https://rickandmortyapi.com/api/character/avatar/79.jpeg', 'episode': ['https://rickandmortyapi.com/api/episode/10'], 'url': 'https://rickandmortyapi.com/api/character/79', 'created': '2017-11-30T14:18:16.899Z'}\n",
      "{'id': 90, 'name': 'Daron Jefferson', 'status': 'Alive', 'species': 'Alien', 'type': 'Cone-nippled alien', 'gender': 'Male', 'origin': {'name': \"Unity's Planet\", 'url': 'https://rickandmortyapi.com/api/location/28'}, 'location': {'name': \"Unity's Planet\", 'url': 'https://rickandmortyapi.com/api/location/28'}, 'image': 'https://rickandmortyapi.com/api/character/avatar/90.jpeg', 'episode': ['https://rickandmortyapi.com/api/episode/14'], 'url': 'https://rickandmortyapi.com/api/character/90', 'created': '2017-12-01T10:54:34.736Z'}\n",
      "{'id': 93, 'name': 'Diablo Verde', 'status': 'Dead', 'species': 'Mythological Creature', 'type': 'Demon', 'gender': 'Male', 'origin': {'name': 'unknown', 'url': ''}, 'location': {'name': 'Dorian 5', 'url': 'https://rickandmortyapi.com/api/location/29'}, 'image': 'https://rickandmortyapi.com/api/character/avatar/93.jpeg', 'episode': ['https://rickandmortyapi.com/api/episode/25'], 'url': 'https://rickandmortyapi.com/api/character/93', 'created': '2017-12-01T11:36:16.467Z'}\n",
      "{'id': 822, 'name': 'Young Jerry', 'status': 'unknown', 'species': 'Human', 'type': '', 'gender': 'Male', 'origin': {'name': 'Earth (Unknown dimension)', 'url': 'https://rickandmortyapi.com/api/location/30'}, 'location': {'name': 'Earth (Unknown dimension)', 'url': 'https://rickandmortyapi.com/api/location/30'}, 'image': 'https://rickandmortyapi.com/api/character/avatar/822.jpeg', 'episode': ['https://rickandmortyapi.com/api/episode/51'], 'url': 'https://rickandmortyapi.com/api/character/822', 'created': '2021-11-02T17:18:31.934Z'}\n",
      "None\n",
      "{'id': 106, 'name': 'Dr. Schmidt', 'status': 'unknown', 'species': 'Human', 'type': 'Game', 'gender': 'Male', 'origin': {'name': 'Roy: A Life Well Lived', 'url': 'https://rickandmortyapi.com/api/location/32'}, 'location': {'name': 'Roy: A Life Well Lived', 'url': 'https://rickandmortyapi.com/api/location/32'}, 'image': 'https://rickandmortyapi.com/api/character/avatar/106.jpeg', 'episode': ['https://rickandmortyapi.com/api/episode/13'], 'url': 'https://rickandmortyapi.com/api/character/106', 'created': '2017-12-26T12:46:48.805Z'}\n",
      "None\n",
      "{'id': 39, 'name': 'Beth Smith', 'status': 'Alive', 'species': 'Human', 'type': '', 'gender': 'Female', 'origin': {'name': \"Earth (Evil Rick's Target Dimension)\", 'url': 'https://rickandmortyapi.com/api/location/34'}, 'location': {'name': \"Earth (Evil Rick's Target Dimension)\", 'url': 'https://rickandmortyapi.com/api/location/34'}, 'image': 'https://rickandmortyapi.com/api/character/avatar/39.jpeg', 'episode': ['https://rickandmortyapi.com/api/episode/10'], 'url': 'https://rickandmortyapi.com/api/character/39', 'created': '2017-11-05T09:52:31.777Z'}\n",
      "{'id': 47, 'name': 'Birdperson', 'status': 'Alive', 'species': 'Alien', 'type': 'Bird-Person', 'gender': 'Male', 'origin': {'name': 'Bird World', 'url': 'https://rickandmortyapi.com/api/location/15'}, 'location': {'name': 'Planet Squanch', 'url': 'https://rickandmortyapi.com/api/location/35'}, 'image': 'https://rickandmortyapi.com/api/character/avatar/47.jpeg', 'episode': ['https://rickandmortyapi.com/api/episode/11', 'https://rickandmortyapi.com/api/episode/16', 'https://rickandmortyapi.com/api/episode/21', 'https://rickandmortyapi.com/api/episode/22', 'https://rickandmortyapi.com/api/episode/26', 'https://rickandmortyapi.com/api/episode/49', 'https://rickandmortyapi.com/api/episode/51'], 'url': 'https://rickandmortyapi.com/api/character/47', 'created': '2017-11-05T11:13:36.018Z'}\n",
      "None\n",
      "{'id': 142, 'name': 'Gibble Snake', 'status': 'Dead', 'species': 'Alien', 'type': 'Animal', 'gender': 'unknown', 'origin': {'name': 'Resort Planet', 'url': 'https://rickandmortyapi.com/api/location/37'}, 'location': {'name': 'Resort Planet', 'url': 'https://rickandmortyapi.com/api/location/37'}, 'image': 'https://rickandmortyapi.com/api/character/avatar/142.jpeg', 'episode': ['https://rickandmortyapi.com/api/episode/26'], 'url': 'https://rickandmortyapi.com/api/character/142', 'created': '2017-12-27T20:16:32.187Z'}\n",
      "{'id': 144, 'name': 'Glenn', 'status': 'Dead', 'species': 'Alien', 'type': 'Gromflomite', 'gender': 'Male', 'origin': {'name': 'unknown', 'url': ''}, 'location': {'name': 'Interdimensional Customs', 'url': 'https://rickandmortyapi.com/api/location/38'}, 'image': 'https://rickandmortyapi.com/api/character/avatar/144.jpeg', 'episode': ['https://rickandmortyapi.com/api/episode/1'], 'url': 'https://rickandmortyapi.com/api/character/144', 'created': '2017-12-29T10:37:48.319Z'}\n",
      "{'id': 150, 'name': 'Cornvelious Daniel', 'status': 'Dead', 'species': 'Alien', 'type': 'Gromflomite', 'gender': 'Male', 'origin': {'name': 'unknown', 'url': ''}, 'location': {'name': 'Galactic Federation Prison', 'url': 'https://rickandmortyapi.com/api/location/39'}, 'image': 'https://rickandmortyapi.com/api/character/avatar/150.jpeg', 'episode': ['https://rickandmortyapi.com/api/episode/22'], 'url': 'https://rickandmortyapi.com/api/character/150', 'created': '2017-12-29T12:02:33.550Z'}\n",
      "{'id': 168, 'name': 'Jackie', 'status': 'Alive', 'species': 'Alien', 'type': 'Gazorpian', 'gender': 'Female', 'origin': {'name': 'Gazorpazorp', 'url': 'https://rickandmortyapi.com/api/location/40'}, 'location': {'name': 'Gazorpazorp', 'url': 'https://rickandmortyapi.com/api/location/40'}, 'image': 'https://rickandmortyapi.com/api/character/avatar/168.jpeg', 'episode': ['https://rickandmortyapi.com/api/episode/7'], 'url': 'https://rickandmortyapi.com/api/character/168', 'created': '2017-12-29T17:14:03.430Z'}\n",
      "{'id': 153, 'name': 'Hamster In Butt', 'status': 'Alive', 'species': 'Animal', 'type': '', 'gender': 'unknown', 'origin': {'name': 'Hamster in Butt World', 'url': 'https://rickandmortyapi.com/api/location/41'}, 'location': {'name': 'Hamster in Butt World', 'url': 'https://rickandmortyapi.com/api/location/41'}, 'image': 'https://rickandmortyapi.com/api/character/avatar/153.jpeg', 'episode': ['https://rickandmortyapi.com/api/episode/8', 'https://rickandmortyapi.com/api/episode/19'], 'url': 'https://rickandmortyapi.com/api/character/153', 'created': '2017-12-29T15:27:54.281Z'}\n",
      "{'id': 159, 'name': 'Hunter', 'status': 'Dead', 'species': 'Human', 'type': 'Clone', 'gender': 'Male', 'origin': {'name': 'Earth (Giant Telepathic Spiders Dimension)', 'url': 'https://rickandmortyapi.com/api/location/42'}, 'location': {'name': 'Earth (Giant Telepathic Spiders Dimension)', 'url': 'https://rickandmortyapi.com/api/location/42'}, 'image': 'https://rickandmortyapi.com/api/character/avatar/159.jpeg', 'episode': ['https://rickandmortyapi.com/api/episode/17'], 'url': 'https://rickandmortyapi.com/api/character/159', 'created': '2017-12-29T16:03:28.792Z'}\n",
      "{'id': 161, 'name': 'Hydrogen-F', 'status': 'Alive', 'species': 'Alien', 'type': 'Alphabetrian', 'gender': 'Female', 'origin': {'name': 'Alphabetrium', 'url': 'https://rickandmortyapi.com/api/location/43'}, 'location': {'name': 'Alphabetrium', 'url': 'https://rickandmortyapi.com/api/location/43'}, 'image': 'https://rickandmortyapi.com/api/character/avatar/161.jpeg', 'episode': ['https://rickandmortyapi.com/api/episode/16'], 'url': 'https://rickandmortyapi.com/api/character/161', 'created': '2017-12-29T16:10:40.290Z'}\n",
      "{'id': 174, 'name': 'Jerry 5-126', 'status': 'Alive', 'species': 'Human', 'type': '', 'gender': 'Male', 'origin': {'name': 'Earth (5-126)', 'url': 'https://rickandmortyapi.com/api/location/17'}, 'location': {'name': 'Jerryboree', 'url': 'https://rickandmortyapi.com/api/location/44'}, 'image': 'https://rickandmortyapi.com/api/character/avatar/174.jpeg', 'episode': ['https://rickandmortyapi.com/api/episode/13'], 'url': 'https://rickandmortyapi.com/api/character/174', 'created': '2017-12-29T17:50:19.991Z'}\n",
      "None\n",
      "{'id': 87, 'name': 'Cynthia', 'status': 'Dead', 'species': 'Alien', 'type': 'Zigerion', 'gender': 'Female', 'origin': {'name': 'unknown', 'url': ''}, 'location': {'name': \"Zigerion's Base\", 'url': 'https://rickandmortyapi.com/api/location/46'}, 'image': 'https://rickandmortyapi.com/api/character/avatar/87.jpeg', 'episode': ['https://rickandmortyapi.com/api/episode/4'], 'url': 'https://rickandmortyapi.com/api/character/87', 'created': '2017-11-30T21:08:32.534Z'}\n",
      "{'id': 192, 'name': 'King Flippy Nips', 'status': 'Alive', 'species': 'Alien', 'type': 'Plutonian', 'gender': 'Male', 'origin': {'name': 'Pluto', 'url': 'https://rickandmortyapi.com/api/location/47'}, 'location': {'name': 'Pluto', 'url': 'https://rickandmortyapi.com/api/location/47'}, 'image': 'https://rickandmortyapi.com/api/character/avatar/192.jpeg', 'episode': ['https://rickandmortyapi.com/api/episode/9'], 'url': 'https://rickandmortyapi.com/api/character/192', 'created': '2017-12-29T19:49:29.297Z'}\n",
      "{'id': 41, 'name': 'Big Boobed Waitress', 'status': 'Alive', 'species': 'Mythological Creature', 'type': '', 'gender': 'Female', 'origin': {'name': 'Fantasy World', 'url': 'https://rickandmortyapi.com/api/location/48'}, 'location': {'name': 'Fantasy World', 'url': 'https://rickandmortyapi.com/api/location/48'}, 'image': 'https://rickandmortyapi.com/api/character/avatar/41.jpeg', 'episode': ['https://rickandmortyapi.com/api/episode/5'], 'url': 'https://rickandmortyapi.com/api/character/41', 'created': '2017-11-05T10:13:45.960Z'}\n",
      "{'id': 348, 'name': 'The President of the Miniverse', 'status': 'Dead', 'species': 'Humanoid', 'type': 'Miniverse inhabitant', 'gender': 'Male', 'origin': {'name': \"Zeep Xanflorp's Miniverse\", 'url': 'https://rickandmortyapi.com/api/location/49'}, 'location': {'name': \"Zeep Xanflorp's Miniverse\", 'url': 'https://rickandmortyapi.com/api/location/49'}, 'image': 'https://rickandmortyapi.com/api/character/avatar/348.jpeg', 'episode': ['https://rickandmortyapi.com/api/episode/17'], 'url': 'https://rickandmortyapi.com/api/character/348', 'created': '2018-01-10T17:47:59.043Z'}\n",
      "{'id': 197, 'name': 'Kyle', 'status': 'Dead', 'species': 'Humanoid', 'type': 'Miniverse inhabitant', 'gender': 'Male', 'origin': {'name': \"Zeep Xanflorp's Miniverse\", 'url': 'https://rickandmortyapi.com/api/location/49'}, 'location': {'name': \"Kyle's Teenyverse\", 'url': 'https://rickandmortyapi.com/api/location/50'}, 'image': 'https://rickandmortyapi.com/api/character/avatar/197.jpeg', 'episode': ['https://rickandmortyapi.com/api/episode/17'], 'url': 'https://rickandmortyapi.com/api/character/197', 'created': '2017-12-30T12:39:09.025Z'}\n",
      "None\n",
      "None\n",
      "None\n",
      "{'id': 252, 'name': 'Noob-Noob', 'status': 'Alive', 'species': 'Poopybutthole', 'type': '', 'gender': 'Male', 'origin': {'name': 'unknown', 'url': ''}, 'location': {'name': \"Vindicator's Base\", 'url': 'https://rickandmortyapi.com/api/location/54'}, 'image': 'https://rickandmortyapi.com/api/character/avatar/252.jpeg', 'episode': ['https://rickandmortyapi.com/api/episode/25'], 'url': 'https://rickandmortyapi.com/api/character/252', 'created': '2017-12-31T12:57:37.849Z'}\n",
      "{'id': 258, 'name': 'Pawnshop Clerk', 'status': 'Alive', 'species': 'Alien', 'type': '', 'gender': 'Male', 'origin': {'name': 'unknown', 'url': ''}, 'location': {'name': 'Pawn Shop Planet', 'url': 'https://rickandmortyapi.com/api/location/55'}, 'image': 'https://rickandmortyapi.com/api/character/avatar/258.jpeg', 'episode': ['https://rickandmortyapi.com/api/episode/7'], 'url': 'https://rickandmortyapi.com/api/character/258', 'created': '2017-12-31T13:30:33.611Z'}\n",
      "{'id': 269, 'name': 'Presidentress of The Mega Gargantuans', 'status': 'Alive', 'species': 'Humanoid', 'type': 'Mega Gargantuan', 'gender': 'Female', 'origin': {'name': 'Mega Gargantuan Kingdom', 'url': 'https://rickandmortyapi.com/api/location/56'}, 'location': {'name': 'Mega Gargantuan Kingdom', 'url': 'https://rickandmortyapi.com/api/location/56'}, 'image': 'https://rickandmortyapi.com/api/character/avatar/269.jpeg', 'episode': ['https://rickandmortyapi.com/api/episode/31'], 'url': 'https://rickandmortyapi.com/api/character/269', 'created': '2017-12-31T14:01:44.995Z'}\n",
      "{'id': 282, 'name': 'Revolio Clockberg Jr.', 'status': 'unknown', 'species': 'Alien', 'type': 'Gear-Person', 'gender': 'Male', 'origin': {'name': 'Gear World', 'url': 'https://rickandmortyapi.com/api/location/57'}, 'location': {'name': 'Gear World', 'url': 'https://rickandmortyapi.com/api/location/57'}, 'image': 'https://rickandmortyapi.com/api/character/avatar/282.jpeg', 'episode': ['https://rickandmortyapi.com/api/episode/11', 'https://rickandmortyapi.com/api/episode/13', 'https://rickandmortyapi.com/api/episode/25'], 'url': 'https://rickandmortyapi.com/api/character/282', 'created': '2017-12-31T19:21:17.351Z'}\n",
      "None\n",
      "None\n",
      "None\n",
      "None\n",
      "None\n",
      "{'id': 350, 'name': 'Thomas Lipkip', 'status': 'unknown', 'species': 'Human', 'type': '', 'gender': 'Male', 'origin': {'name': 'Earth (Replacement Dimension)', 'url': 'https://rickandmortyapi.com/api/location/20'}, 'location': {'name': 'Froopyland', 'url': 'https://rickandmortyapi.com/api/location/63'}, 'image': 'https://rickandmortyapi.com/api/character/avatar/350.jpeg', 'episode': ['https://rickandmortyapi.com/api/episode/30'], 'url': 'https://rickandmortyapi.com/api/character/350', 'created': '2018-01-10T17:50:33.471Z'}\n",
      "None\n",
      "None\n",
      "{'id': 371, 'name': 'Tumblorkian', 'status': 'Alive', 'species': 'Alien', 'type': 'Tumblorkian', 'gender': 'Male', 'origin': {'name': 'Plopstar', 'url': 'https://rickandmortyapi.com/api/location/66'}, 'location': {'name': 'Plopstar', 'url': 'https://rickandmortyapi.com/api/location/66'}, 'image': 'https://rickandmortyapi.com/api/character/avatar/371.jpeg', 'episode': ['https://rickandmortyapi.com/api/episode/19'], 'url': 'https://rickandmortyapi.com/api/character/371', 'created': '2018-01-10T19:18:44.560Z'}\n",
      "None\n",
      "None\n",
      "None\n",
      "{'id': 397, 'name': 'Fido', 'status': 'Alive', 'species': 'Animal', 'type': 'Dog', 'gender': 'Male', 'origin': {'name': \"Snuffles' Dream\", 'url': 'https://rickandmortyapi.com/api/location/70'}, 'location': {'name': \"Snuffles' Dream\", 'url': 'https://rickandmortyapi.com/api/location/70'}, 'image': 'https://rickandmortyapi.com/api/character/avatar/397.jpeg', 'episode': ['https://rickandmortyapi.com/api/episode/2'], 'url': 'https://rickandmortyapi.com/api/character/397', 'created': '2018-04-15T17:15:28.777Z'}\n",
      "{'id': 424, 'name': 'Pizza-person', 'status': 'Alive', 'species': 'Humanoid', 'type': 'Pizza', 'gender': 'Male', 'origin': {'name': 'Earth (Pizza Dimension)', 'url': 'https://rickandmortyapi.com/api/location/71'}, 'location': {'name': 'Earth (Pizza Dimension)', 'url': 'https://rickandmortyapi.com/api/location/71'}, 'image': 'https://rickandmortyapi.com/api/character/avatar/424.jpeg', 'episode': ['https://rickandmortyapi.com/api/episode/10'], 'url': 'https://rickandmortyapi.com/api/character/424', 'created': '2018-04-16T21:45:55.310Z'}\n",
      "{'id': 404, 'name': 'Michael Jackson', 'status': 'Alive', 'species': 'Humanoid', 'type': 'Phone-Person', 'gender': 'Male', 'origin': {'name': 'Earth (Phone Dimension)', 'url': 'https://rickandmortyapi.com/api/location/72'}, 'location': {'name': 'Earth (Phone Dimension)', 'url': 'https://rickandmortyapi.com/api/location/72'}, 'image': 'https://rickandmortyapi.com/api/character/avatar/404.jpeg', 'episode': ['https://rickandmortyapi.com/api/episode/8'], 'url': 'https://rickandmortyapi.com/api/character/404', 'created': '2018-04-15T18:01:09.637Z'}\n",
      "{'id': 426, 'name': 'Greasy Grandma', 'status': 'Alive', 'species': 'Human', 'type': 'Grandma', 'gender': 'Female', 'origin': {'name': 'Greasy Grandma World', 'url': 'https://rickandmortyapi.com/api/location/73'}, 'location': {'name': 'Greasy Grandma World', 'url': 'https://rickandmortyapi.com/api/location/73'}, 'image': 'https://rickandmortyapi.com/api/character/avatar/426.jpeg', 'episode': ['https://rickandmortyapi.com/api/episode/10'], 'url': 'https://rickandmortyapi.com/api/character/426', 'created': '2018-04-16T21:51:21.379Z'}\n",
      "{'id': 429, 'name': 'Chair-person', 'status': 'Alive', 'species': 'Humanoid', 'type': 'Chair', 'gender': 'Male', 'origin': {'name': 'Earth (Chair Dimension)', 'url': 'https://rickandmortyapi.com/api/location/74'}, 'location': {'name': 'Earth (Chair Dimension)', 'url': 'https://rickandmortyapi.com/api/location/74'}, 'image': 'https://rickandmortyapi.com/api/character/avatar/429.jpeg', 'episode': ['https://rickandmortyapi.com/api/episode/10'], 'url': 'https://rickandmortyapi.com/api/character/429', 'created': '2018-04-16T21:59:25.798Z'}\n",
      "None\n",
      "{'id': 470, 'name': 'Alien Spa Employee', 'status': 'Alive', 'species': 'Alien', 'type': '', 'gender': 'Male', 'origin': {'name': 'unknown', 'url': ''}, 'location': {'name': 'Alien Day Spa', 'url': 'https://rickandmortyapi.com/api/location/76'}, 'image': 'https://rickandmortyapi.com/api/character/avatar/470.jpeg', 'episode': ['https://rickandmortyapi.com/api/episode/27'], 'url': 'https://rickandmortyapi.com/api/character/470', 'created': '2018-05-22T17:01:59.602Z'}\n",
      "{'id': 242, 'name': 'Mr. Meeseeks', 'status': 'unknown', 'species': 'Humanoid', 'type': 'Meeseeks', 'gender': 'Male', 'origin': {'name': 'Mr. Meeseeks Box', 'url': 'https://rickandmortyapi.com/api/location/53'}, 'location': {'name': 'Earth (Fascist Dimension)', 'url': 'https://rickandmortyapi.com/api/location/77'}, 'image': 'https://rickandmortyapi.com/api/character/avatar/242.jpeg', 'episode': ['https://rickandmortyapi.com/api/episode/5', 'https://rickandmortyapi.com/api/episode/10', 'https://rickandmortyapi.com/api/episode/13', 'https://rickandmortyapi.com/api/episode/29', 'https://rickandmortyapi.com/api/episode/32'], 'url': 'https://rickandmortyapi.com/api/character/242', 'created': '2017-12-30T17:52:12.243Z'}\n",
      "{'id': 313, 'name': 'Shleemypants', 'status': 'Alive', 'species': 'unknown', 'type': 'Omniscient being', 'gender': 'Male', 'origin': {'name': 'unknown', 'url': ''}, 'location': {'name': 'Snake Planet', 'url': 'https://rickandmortyapi.com/api/location/78'}, 'image': 'https://rickandmortyapi.com/api/character/avatar/313.jpeg', 'episode': ['https://rickandmortyapi.com/api/episode/12', 'https://rickandmortyapi.com/api/episode/36'], 'url': 'https://rickandmortyapi.com/api/character/313', 'created': '2018-01-05T14:52:31.489Z'}\n",
      "{'id': 494, 'name': 'Crystal Poacher', 'status': 'Dead', 'species': 'Alien', 'type': '', 'gender': 'Male', 'origin': {'name': 'unknown', 'url': ''}, 'location': {'name': 'Forbodulon Prime', 'url': 'https://rickandmortyapi.com/api/location/79'}, 'image': 'https://rickandmortyapi.com/api/character/avatar/494.jpeg', 'episode': ['https://rickandmortyapi.com/api/episode/32'], 'url': 'https://rickandmortyapi.com/api/character/494', 'created': '2020-05-02T10:05:08.737Z'}\n",
      "{'id': 503, 'name': 'Fascist Shrimp Rick', 'status': 'Alive', 'species': 'Animal', 'type': 'Shrimp', 'gender': 'Male', 'origin': {'name': 'Earth (Fascist Shrimp Dimension)', 'url': 'https://rickandmortyapi.com/api/location/80'}, 'location': {'name': 'Earth (Fascist Shrimp Dimension)', 'url': 'https://rickandmortyapi.com/api/location/80'}, 'image': 'https://rickandmortyapi.com/api/character/avatar/503.jpeg', 'episode': ['https://rickandmortyapi.com/api/episode/32'], 'url': 'https://rickandmortyapi.com/api/character/503', 'created': '2020-05-02T11:53:46.229Z'}\n",
      "{'id': 507, 'name': 'Fascist Teddy Bear Rick', 'status': 'Alive', 'species': 'Animal', 'type': 'Teddy Bear', 'gender': 'Male', 'origin': {'name': 'Earth (Fascist Teddy Bear Dimension)', 'url': 'https://rickandmortyapi.com/api/location/81'}, 'location': {'name': 'Earth (Fascist Teddy Bear Dimension)', 'url': 'https://rickandmortyapi.com/api/location/81'}, 'image': 'https://rickandmortyapi.com/api/character/avatar/507.jpeg', 'episode': ['https://rickandmortyapi.com/api/episode/32'], 'url': 'https://rickandmortyapi.com/api/character/507', 'created': '2020-05-02T12:18:23.346Z'}\n",
      "{'id': 515, 'name': 'Caterpillar Mr. Goldenfold', 'status': 'Dead', 'species': 'Animal', 'type': 'Caterpillar', 'gender': 'Male', 'origin': {'name': 'Earth (Wasp Dimension)', 'url': 'https://rickandmortyapi.com/api/location/82'}, 'location': {'name': 'Earth (Wasp Dimension)', 'url': 'https://rickandmortyapi.com/api/location/82'}, 'image': 'https://rickandmortyapi.com/api/character/avatar/515.jpeg', 'episode': ['https://rickandmortyapi.com/api/episode/32'], 'url': 'https://rickandmortyapi.com/api/character/515', 'created': '2020-05-02T12:34:49.151Z'}\n",
      "{'id': 525, 'name': 'Glootie', 'status': 'Alive', 'species': 'Alien', 'type': 'Monogatron', 'gender': 'Male', 'origin': {'name': 'unknown', 'url': ''}, 'location': {'name': 'Monogatron Mothership', 'url': 'https://rickandmortyapi.com/api/location/83'}, 'image': 'https://rickandmortyapi.com/api/character/avatar/525.jpeg', 'episode': ['https://rickandmortyapi.com/api/episode/33'], 'url': 'https://rickandmortyapi.com/api/character/525', 'created': '2020-05-02T13:13:31.593Z'}\n",
      "{'id': 543, 'name': 'Vermigurber', 'status': 'Alive', 'species': 'Alien', 'type': 'Fly', 'gender': 'Male', 'origin': {'name': 'unknown', 'url': ''}, 'location': {'name': 'Gorgon Quadrant', 'url': 'https://rickandmortyapi.com/api/location/84'}, 'image': 'https://rickandmortyapi.com/api/character/avatar/543.jpeg', 'episode': ['https://rickandmortyapi.com/api/episode/33'], 'url': 'https://rickandmortyapi.com/api/character/543', 'created': '2020-05-07T09:05:37.614Z'}\n",
      "{'id': 529, 'name': 'Lizard', 'status': 'Dead', 'species': 'Alien', 'type': 'Lizard', 'gender': 'Male', 'origin': {'name': 'Midland Quasar', 'url': 'https://rickandmortyapi.com/api/location/85'}, 'location': {'name': 'Midland Quasar', 'url': 'https://rickandmortyapi.com/api/location/85'}, 'image': 'https://rickandmortyapi.com/api/character/avatar/529.jpeg', 'episode': ['https://rickandmortyapi.com/api/episode/33'], 'url': 'https://rickandmortyapi.com/api/character/529', 'created': '2020-05-02T13:31:49.867Z'}\n",
      "{'id': 531, 'name': 'Tony', 'status': 'Dead', 'species': 'Alien', 'type': '', 'gender': 'Male', 'origin': {'name': 'unknown', 'url': ''}, 'location': {'name': 'Mount Space Everest', 'url': 'https://rickandmortyapi.com/api/location/86'}, 'image': 'https://rickandmortyapi.com/api/character/avatar/531.jpeg', 'episode': ['https://rickandmortyapi.com/api/episode/33'], 'url': 'https://rickandmortyapi.com/api/character/531', 'created': '2020-05-02T13:35:07.498Z'}\n",
      "{'id': 532, 'name': 'Tony’s Wife', 'status': 'Dead', 'species': 'Alien', 'type': '', 'gender': 'Female', 'origin': {'name': 'Globaflyn', 'url': 'https://rickandmortyapi.com/api/location/87'}, 'location': {'name': 'Globaflyn', 'url': 'https://rickandmortyapi.com/api/location/87'}, 'image': 'https://rickandmortyapi.com/api/character/avatar/532.jpeg', 'episode': ['https://rickandmortyapi.com/api/episode/33'], 'url': 'https://rickandmortyapi.com/api/character/532', 'created': '2020-05-02T13:45:32.092Z'}\n",
      "{'id': 544, 'name': 'Miles Knightly', 'status': 'Dead', 'species': 'Alien', 'type': '', 'gender': 'Male', 'origin': {'name': 'unknown', 'url': ''}, 'location': {'name': 'Heist-Con', 'url': 'https://rickandmortyapi.com/api/location/88'}, 'image': 'https://rickandmortyapi.com/api/character/avatar/544.jpeg', 'episode': ['https://rickandmortyapi.com/api/episode/34'], 'url': 'https://rickandmortyapi.com/api/character/544', 'created': '2020-05-07T09:09:06.114Z'}\n",
      "{'id': 554, 'name': 'Heistotron', 'status': 'Dead', 'species': 'Robot', 'type': '', 'gender': 'Genderless', 'origin': {'name': 'Earth (Replacement Dimension)', 'url': 'https://rickandmortyapi.com/api/location/20'}, 'location': {'name': 'Heistotron Base', 'url': 'https://rickandmortyapi.com/api/location/89'}, 'image': 'https://rickandmortyapi.com/api/character/avatar/554.jpeg', 'episode': ['https://rickandmortyapi.com/api/episode/34'], 'url': 'https://rickandmortyapi.com/api/character/554', 'created': '2020-05-07T10:12:10.339Z'}\n",
      "None\n",
      "None\n",
      "None\n",
      "{'id': 559, 'name': 'Gramuflackian Anchorman', 'status': 'Dead', 'species': 'Alien', 'type': 'Gramuflackian', 'gender': 'Male', 'origin': {'name': 'Gramuflack', 'url': 'https://rickandmortyapi.com/api/location/93'}, 'location': {'name': 'Gramuflack', 'url': 'https://rickandmortyapi.com/api/location/93'}, 'image': 'https://rickandmortyapi.com/api/character/avatar/559.jpeg', 'episode': ['https://rickandmortyapi.com/api/episode/34'], 'url': 'https://rickandmortyapi.com/api/character/559', 'created': '2020-05-07T10:27:19.527Z'}\n",
      "{'id': 563, 'name': 'The Wizard', 'status': 'Dead', 'species': 'Human', 'type': '', 'gender': 'Male', 'origin': {'name': 'Draygon', 'url': 'https://rickandmortyapi.com/api/location/94'}, 'location': {'name': 'Draygon', 'url': 'https://rickandmortyapi.com/api/location/94'}, 'image': 'https://rickandmortyapi.com/api/character/avatar/563.jpeg', 'episode': ['https://rickandmortyapi.com/api/episode/35'], 'url': 'https://rickandmortyapi.com/api/character/563', 'created': '2020-05-07T11:32:52.469Z'}\n",
      "None\n",
      "{'id': 597, 'name': 'Abradolf Lincler', 'status': 'Alive', 'species': 'Human', 'type': 'Soulless Puppet', 'gender': 'Male', 'origin': {'name': 'Story Train', 'url': 'https://rickandmortyapi.com/api/location/96'}, 'location': {'name': 'Story Train', 'url': 'https://rickandmortyapi.com/api/location/96'}, 'image': 'https://rickandmortyapi.com/api/character/avatar/597.jpeg', 'episode': ['https://rickandmortyapi.com/api/episode/37'], 'url': 'https://rickandmortyapi.com/api/character/597', 'created': '2020-08-06T11:33:03.426Z'}\n",
      "{'id': 593, 'name': 'Tickets Please Guy', 'status': 'Dead', 'species': 'Human', 'type': 'Soulless Puppet', 'gender': 'Male', 'origin': {'name': 'Story Train', 'url': 'https://rickandmortyapi.com/api/location/96'}, 'location': {'name': 'Non-Diegetic Alternative Reality', 'url': 'https://rickandmortyapi.com/api/location/97'}, 'image': 'https://rickandmortyapi.com/api/character/avatar/593.jpeg', 'episode': ['https://rickandmortyapi.com/api/episode/37'], 'url': 'https://rickandmortyapi.com/api/character/593', 'created': '2020-08-06T09:51:15.102Z'}\n",
      "{'id': 594, 'name': 'Floaty Bloody Man', 'status': 'Dead', 'species': 'Human', 'type': 'Half Soulless Puppet', 'gender': 'Male', 'origin': {'name': 'Tickets Please Guy Nightmare', 'url': 'https://rickandmortyapi.com/api/location/98'}, 'location': {'name': 'Tickets Please Guy Nightmare', 'url': 'https://rickandmortyapi.com/api/location/98'}, 'image': 'https://rickandmortyapi.com/api/character/avatar/594.jpeg', 'episode': ['https://rickandmortyapi.com/api/episode/37'], 'url': 'https://rickandmortyapi.com/api/character/594', 'created': '2020-08-06T09:54:08.973Z'}\n",
      "{'id': 602, 'name': 'Cookies Guy', 'status': 'Alive', 'species': 'Human', 'type': 'Soulless Puppet', 'gender': 'Male', 'origin': {'name': 'Morty’s Story', 'url': 'https://rickandmortyapi.com/api/location/99'}, 'location': {'name': 'Morty’s Story', 'url': 'https://rickandmortyapi.com/api/location/99'}, 'image': 'https://rickandmortyapi.com/api/character/avatar/602.jpeg', 'episode': ['https://rickandmortyapi.com/api/episode/37'], 'url': 'https://rickandmortyapi.com/api/character/602', 'created': '2020-08-06T11:43:40.230Z'}\n",
      "{'id': 603, 'name': 'Crossy', 'status': 'Alive', 'species': 'unknown', 'type': 'Soulless Puppet', 'gender': 'Genderless', 'origin': {'name': 'Ricks’s Story', 'url': 'https://rickandmortyapi.com/api/location/100'}, 'location': {'name': 'Ricks’s Story', 'url': 'https://rickandmortyapi.com/api/location/100'}, 'image': 'https://rickandmortyapi.com/api/character/avatar/603.jpeg', 'episode': ['https://rickandmortyapi.com/api/episode/37'], 'url': 'https://rickandmortyapi.com/api/character/603', 'created': '2020-08-06T11:46:17.792Z'}\n",
      "{'id': 640, 'name': 'Angry Glorzo', 'status': 'Dead', 'species': 'Alien', 'type': 'Glorzo', 'gender': 'Male', 'origin': {'name': 'Glorzo Asteroid', 'url': 'https://rickandmortyapi.com/api/location/101'}, 'location': {'name': 'Glorzo Asteroid', 'url': 'https://rickandmortyapi.com/api/location/101'}, 'image': 'https://rickandmortyapi.com/api/character/avatar/640.jpeg', 'episode': ['https://rickandmortyapi.com/api/episode/38'], 'url': 'https://rickandmortyapi.com/api/character/640', 'created': '2020-08-07T11:36:14.528Z'}\n",
      "{'id': 648, 'name': 'Crystal Dealers Boss', 'status': 'Dead', 'species': 'Alien', 'type': '', 'gender': 'Male', 'origin': {'name': 'unknown', 'url': ''}, 'location': {'name': 'Alien Acid Plant', 'url': 'https://rickandmortyapi.com/api/location/102'}, 'image': 'https://rickandmortyapi.com/api/character/avatar/648.jpeg', 'episode': ['https://rickandmortyapi.com/api/episode/39'], 'url': 'https://rickandmortyapi.com/api/character/648', 'created': '2020-08-13T10:09:21.278Z'}\n",
      "{'id': 652, 'name': 'SWAT Officer', 'status': 'Dead', 'species': 'Human', 'type': '', 'gender': 'Male', 'origin': {'name': 'Merged Universe', 'url': 'https://rickandmortyapi.com/api/location/103'}, 'location': {'name': 'Merged Universe', 'url': 'https://rickandmortyapi.com/api/location/103'}, 'image': 'https://rickandmortyapi.com/api/character/avatar/652.jpeg', 'episode': ['https://rickandmortyapi.com/api/episode/39'], 'url': 'https://rickandmortyapi.com/api/character/652', 'created': '2020-08-13T10:16:47.618Z'}\n",
      "{'id': 653, 'name': 'Plane Crash Survivor', 'status': 'unknown', 'species': 'Human', 'type': '', 'gender': 'Female', 'origin': {'name': 'Near-Duplicate Reality', 'url': 'https://rickandmortyapi.com/api/location/104'}, 'location': {'name': 'Near-Duplicate Reality', 'url': 'https://rickandmortyapi.com/api/location/104'}, 'image': 'https://rickandmortyapi.com/api/character/avatar/653.jpeg', 'episode': ['https://rickandmortyapi.com/api/episode/39'], 'url': 'https://rickandmortyapi.com/api/character/653', 'created': '2020-08-13T11:16:21.997Z'}\n",
      "{'id': 344, 'name': 'Tammy Guetermann', 'status': 'Dead', 'species': 'Human', 'type': '', 'gender': 'Female', 'origin': {'name': 'Earth (Replacement Dimension)', 'url': 'https://rickandmortyapi.com/api/location/20'}, 'location': {'name': 'NX-5 Planet Remover', 'url': 'https://rickandmortyapi.com/api/location/105'}, 'image': 'https://rickandmortyapi.com/api/character/avatar/344.jpeg', 'episode': ['https://rickandmortyapi.com/api/episode/11', 'https://rickandmortyapi.com/api/episode/16', 'https://rickandmortyapi.com/api/episode/21', 'https://rickandmortyapi.com/api/episode/22', 'https://rickandmortyapi.com/api/episode/41'], 'url': 'https://rickandmortyapi.com/api/character/344', 'created': '2018-01-10T17:31:54.889Z'}\n",
      "{'id': 662, 'name': 'Gaia', 'status': 'Alive', 'species': 'unknown', 'type': 'Planet', 'gender': 'Female', 'origin': {'name': 'Gaia', 'url': 'https://rickandmortyapi.com/api/location/106'}, 'location': {'name': 'Gaia', 'url': 'https://rickandmortyapi.com/api/location/106'}, 'image': 'https://rickandmortyapi.com/api/character/avatar/662.jpeg', 'episode': ['https://rickandmortyapi.com/api/episode/40'], 'url': 'https://rickandmortyapi.com/api/character/662', 'created': '2020-08-13T11:43:23.485Z'}\n",
      "{'id': 668, 'name': 'Defiance Squanchette', 'status': 'Alive', 'species': 'Alien', 'type': 'Cat-Person', 'gender': 'Female', 'origin': {'name': 'Planet Squanch', 'url': 'https://rickandmortyapi.com/api/location/35'}, 'location': {'name': \"Defiance's Ship\", 'url': 'https://rickandmortyapi.com/api/location/107'}, 'image': 'https://rickandmortyapi.com/api/character/avatar/668.jpeg', 'episode': ['https://rickandmortyapi.com/api/episode/41'], 'url': 'https://rickandmortyapi.com/api/character/668', 'created': '2020-08-13T12:52:36.873Z'}\n",
      "{'id': 669, 'name': 'Defiance Doctor', 'status': 'Alive', 'species': 'Alien', 'type': '', 'gender': 'Male', 'origin': {'name': 'unknown', 'url': ''}, 'location': {'name': \"Defiance's Base\", 'url': 'https://rickandmortyapi.com/api/location/108'}, 'image': 'https://rickandmortyapi.com/api/character/avatar/669.jpeg', 'episode': ['https://rickandmortyapi.com/api/episode/41'], 'url': 'https://rickandmortyapi.com/api/character/669', 'created': '2020-08-13T12:55:37.437Z'}\n",
      "None\n",
      "{'id': 673, 'name': 'Hoovy', 'status': 'Dead', 'species': 'Humanoid', 'type': 'Narnian', 'gender': 'Male', 'origin': {'name': 'Narnia Dimension', 'url': 'https://rickandmortyapi.com/api/location/110'}, 'location': {'name': 'Narnia Dimension', 'url': 'https://rickandmortyapi.com/api/location/110'}, 'image': 'https://rickandmortyapi.com/api/character/avatar/673.jpeg', 'episode': ['https://rickandmortyapi.com/api/episode/42'], 'url': 'https://rickandmortyapi.com/api/character/673', 'created': '2021-10-16T12:08:41.055Z'}\n",
      "None\n",
      "{'id': 799, 'name': 'Morglutzian', 'status': 'Dead', 'species': 'Alien', 'type': 'Morglutzian', 'gender': 'Male', 'origin': {'name': 'Morglutz', 'url': 'https://rickandmortyapi.com/api/location/112'}, 'location': {'name': 'Morglutz', 'url': 'https://rickandmortyapi.com/api/location/112'}, 'image': 'https://rickandmortyapi.com/api/character/avatar/799.jpeg', 'episode': ['https://rickandmortyapi.com/api/episode/44'], 'url': 'https://rickandmortyapi.com/api/character/799', 'created': '2021-11-02T13:09:51.886Z'}\n",
      "{'id': 718, 'name': 'Daphne', 'status': 'Alive', 'species': 'Alien', 'type': 'Morglutzian', 'gender': 'Female', 'origin': {'name': 'Morglutz', 'url': 'https://rickandmortyapi.com/api/location/112'}, 'location': {'name': 'Ferkus 9', 'url': 'https://rickandmortyapi.com/api/location/113'}, 'image': 'https://rickandmortyapi.com/api/character/avatar/718.jpeg', 'episode': ['https://rickandmortyapi.com/api/episode/44'], 'url': 'https://rickandmortyapi.com/api/character/718', 'created': '2021-10-17T09:53:07.883Z'}\n",
      "None\n",
      "{'id': 731, 'name': 'Naruto Smith', 'status': 'Alive', 'species': 'Humanoid', 'type': 'Giant Incest Baby', 'gender': 'Male', 'origin': {'name': 'Earth (Replacement Dimension)', 'url': 'https://rickandmortyapi.com/api/location/20'}, 'location': {'name': 'Space', 'url': 'https://rickandmortyapi.com/api/location/115'}, 'image': 'https://rickandmortyapi.com/api/character/avatar/731.jpeg', 'episode': ['https://rickandmortyapi.com/api/episode/45', 'https://rickandmortyapi.com/api/episode/48'], 'url': 'https://rickandmortyapi.com/api/character/731', 'created': '2021-10-17T11:56:17.275Z'}\n",
      "{'id': 744, 'name': 'Cenobite', 'status': 'unknown', 'species': 'Mythological Creature', 'type': 'Demon', 'gender': 'Male', 'origin': {'name': 'Hell', 'url': 'https://rickandmortyapi.com/api/location/116'}, 'location': {'name': 'Hell', 'url': 'https://rickandmortyapi.com/api/location/116'}, 'image': 'https://rickandmortyapi.com/api/character/avatar/744.jpeg', 'episode': ['https://rickandmortyapi.com/api/episode/46'], 'url': 'https://rickandmortyapi.com/api/character/744', 'created': '2021-10-17T13:53:11.250Z'}\n",
      "{'id': 743, 'name': 'Alyson Hannigan', 'status': 'Dead', 'species': 'Alien', 'type': '', 'gender': 'Female', 'origin': {'name': 'unknown', 'url': ''}, 'location': {'name': 'Z. Q. P. D.', 'url': 'https://rickandmortyapi.com/api/location/117'}, 'image': 'https://rickandmortyapi.com/api/character/avatar/743.jpeg', 'episode': ['https://rickandmortyapi.com/api/episode/46'], 'url': 'https://rickandmortyapi.com/api/character/743', 'created': '2021-10-17T13:46:17.880Z'}\n",
      "{'id': 751, 'name': 'Changeformer', 'status': 'Dead', 'species': 'Robot', 'type': 'Changeformer', 'gender': 'Male', 'origin': {'name': 'Space Tahoe', 'url': 'https://rickandmortyapi.com/api/location/118'}, 'location': {'name': 'Space Tahoe', 'url': 'https://rickandmortyapi.com/api/location/118'}, 'image': 'https://rickandmortyapi.com/api/character/avatar/751.jpeg', 'episode': ['https://rickandmortyapi.com/api/episode/46'], 'url': 'https://rickandmortyapi.com/api/character/751', 'created': '2021-10-17T14:03:31.342Z'}\n",
      "None\n",
      "{'id': 780, 'name': 'Memory Tammy', 'status': 'Dead', 'species': 'Human', 'type': 'Memory', 'gender': 'Female', 'origin': {'name': \"Birdperson's Consciousness\", 'url': 'https://rickandmortyapi.com/api/location/120'}, 'location': {'name': \"Birdperson's Consciousness\", 'url': 'https://rickandmortyapi.com/api/location/120'}, 'image': 'https://rickandmortyapi.com/api/character/avatar/780.jpeg', 'episode': ['https://rickandmortyapi.com/api/episode/49'], 'url': 'https://rickandmortyapi.com/api/character/780', 'created': '2021-10-25T09:14:05.923Z'}\n",
      "None\n",
      "{'id': 792, 'name': 'Alien Crow', 'status': 'Dead', 'species': 'Alien', 'type': 'Crow', 'gender': 'Male', 'origin': {'name': 'Avian Planet', 'url': 'https://rickandmortyapi.com/api/location/122'}, 'location': {'name': 'Avian Planet', 'url': 'https://rickandmortyapi.com/api/location/122'}, 'image': 'https://rickandmortyapi.com/api/character/avatar/792.jpeg', 'episode': ['https://rickandmortyapi.com/api/episode/50'], 'url': 'https://rickandmortyapi.com/api/character/792', 'created': '2021-10-26T14:48:36.728Z'}\n",
      "{'id': 795, 'name': 'Palicki', 'status': 'Alive', 'species': 'Alien', 'type': 'Normal Size Bug', 'gender': 'Male', 'origin': {'name': 'Normal Size Bug Dimension', 'url': 'https://rickandmortyapi.com/api/location/123'}, 'location': {'name': 'Normal Size Bug Dimension', 'url': 'https://rickandmortyapi.com/api/location/123'}, 'image': 'https://rickandmortyapi.com/api/character/avatar/795.jpeg', 'episode': ['https://rickandmortyapi.com/api/episode/48'], 'url': 'https://rickandmortyapi.com/api/character/795', 'created': '2021-11-02T13:05:12.642Z'}\n",
      "{'id': 797, 'name': 'Slartivartian', 'status': 'Dead', 'species': 'Alien', 'type': 'Slartivartian', 'gender': 'Male', 'origin': {'name': 'Slartivart', 'url': 'https://rickandmortyapi.com/api/location/124'}, 'location': {'name': 'Slartivart', 'url': 'https://rickandmortyapi.com/api/location/124'}, 'image': 'https://rickandmortyapi.com/api/character/avatar/797.jpeg', 'episode': ['https://rickandmortyapi.com/api/episode/44'], 'url': 'https://rickandmortyapi.com/api/character/797', 'created': '2021-11-02T13:07:40.795Z'}\n",
      "{'id': 809, 'name': 'Pussifer', 'status': 'Dead', 'species': 'Animal', 'type': 'Tiger', 'gender': 'Male', 'origin': {'name': 'Rick and Two Crows Planet', 'url': 'https://rickandmortyapi.com/api/location/125'}, 'location': {'name': 'Rick and Two Crows Planet', 'url': 'https://rickandmortyapi.com/api/location/125'}, 'image': 'https://rickandmortyapi.com/api/character/avatar/809.jpeg', 'episode': ['https://rickandmortyapi.com/api/episode/51'], 'url': 'https://rickandmortyapi.com/api/character/809', 'created': '2021-11-02T13:51:30.942Z'}\n",
      "{'id': 815, 'name': 'Punk Rick', 'status': 'Dead', 'species': 'Human', 'type': '', 'gender': 'Male', 'origin': {'name': 'unknown', 'url': ''}, 'location': {'name': \"Rick's Memories\", 'url': 'https://rickandmortyapi.com/api/location/126'}, 'image': 'https://rickandmortyapi.com/api/character/avatar/815.jpeg', 'episode': ['https://rickandmortyapi.com/api/episode/51'], 'url': 'https://rickandmortyapi.com/api/character/815', 'created': '2021-11-02T15:19:11.398Z'}\n"
     ]
    }
   ],
   "source": [
    "import pandas as pd\n",
    "\n",
    "def get_data(x):\n",
    "    if x['residents'] is None:\n",
    "        return {\"id\":x['id'],\"name\":x['name'],\"type\":x['type'],\"dimension\":x['dimension'],\"resident1-name\":\"EMPTY NAME\",\"resident1-species\":\"EMPTY SPECIES\"}\n",
    "    value=get_json(x['residents'][0]) if len(x['residents'])>0 else None\n",
    "    print(value)\n",
    "    if value is None:\n",
    "        return {\"id\":x['id'],\"name\":x['name'],\"type\":x['type'],\"dimension\":x['dimension'],\"resident1-name\":\"EMPTY NAME\",\"resident1-species\":\"EMPTY SPECIES\"}\n",
    "    return {\"id\":x['id'],\"name\":x['name'],\"type\":x['type'],\"dimension\":x['dimension'],\"resident1-name\":value['name'],\"resident1-species\":value['species']}\n",
    "\n",
    "listaResidentesTotal\n",
    "listaValores = list(map(lambda x:get_data(x),listaLocations))"
   ]
  },
  {
   "cell_type": "markdown",
   "metadata": {},
   "source": [
    "**Transformación lista al DataFrame**"
   ]
  },
  {
   "cell_type": "code",
   "execution_count": 4,
   "metadata": {},
   "outputs": [
    {
     "data": {
      "text/html": [
       "<div>\n",
       "<style scoped>\n",
       "    .dataframe tbody tr th:only-of-type {\n",
       "        vertical-align: middle;\n",
       "    }\n",
       "\n",
       "    .dataframe tbody tr th {\n",
       "        vertical-align: top;\n",
       "    }\n",
       "\n",
       "    .dataframe thead th {\n",
       "        text-align: right;\n",
       "    }\n",
       "</style>\n",
       "<table border=\"1\" class=\"dataframe\">\n",
       "  <thead>\n",
       "    <tr style=\"text-align: right;\">\n",
       "      <th></th>\n",
       "      <th>id</th>\n",
       "      <th>name</th>\n",
       "      <th>type</th>\n",
       "      <th>dimension</th>\n",
       "      <th>resident1-name</th>\n",
       "      <th>resident1-species</th>\n",
       "    </tr>\n",
       "  </thead>\n",
       "  <tbody>\n",
       "    <tr>\n",
       "      <th>0</th>\n",
       "      <td>1</td>\n",
       "      <td>Earth (C-137)</td>\n",
       "      <td>Planet</td>\n",
       "      <td>Dimension C-137</td>\n",
       "      <td>Beth Smith</td>\n",
       "      <td>Human</td>\n",
       "    </tr>\n",
       "    <tr>\n",
       "      <th>1</th>\n",
       "      <td>2</td>\n",
       "      <td>Abadango</td>\n",
       "      <td>Cluster</td>\n",
       "      <td>unknown</td>\n",
       "      <td>Abadango Cluster Princess</td>\n",
       "      <td>Alien</td>\n",
       "    </tr>\n",
       "    <tr>\n",
       "      <th>2</th>\n",
       "      <td>3</td>\n",
       "      <td>Citadel of Ricks</td>\n",
       "      <td>Space station</td>\n",
       "      <td>unknown</td>\n",
       "      <td>Adjudicator Rick</td>\n",
       "      <td>Human</td>\n",
       "    </tr>\n",
       "    <tr>\n",
       "      <th>3</th>\n",
       "      <td>4</td>\n",
       "      <td>Worldender's lair</td>\n",
       "      <td>Planet</td>\n",
       "      <td>unknown</td>\n",
       "      <td>Alan Rails</td>\n",
       "      <td>Human</td>\n",
       "    </tr>\n",
       "    <tr>\n",
       "      <th>4</th>\n",
       "      <td>5</td>\n",
       "      <td>Anatomy Park</td>\n",
       "      <td>Microverse</td>\n",
       "      <td>Dimension C-137</td>\n",
       "      <td>Alexander</td>\n",
       "      <td>Human</td>\n",
       "    </tr>\n",
       "    <tr>\n",
       "      <th>...</th>\n",
       "      <td>...</td>\n",
       "      <td>...</td>\n",
       "      <td>...</td>\n",
       "      <td>...</td>\n",
       "      <td>...</td>\n",
       "      <td>...</td>\n",
       "    </tr>\n",
       "    <tr>\n",
       "      <th>121</th>\n",
       "      <td>122</td>\n",
       "      <td>Avian Planet</td>\n",
       "      <td>Planet</td>\n",
       "      <td>Replacement Dimension</td>\n",
       "      <td>Alien Crow</td>\n",
       "      <td>Alien</td>\n",
       "    </tr>\n",
       "    <tr>\n",
       "      <th>122</th>\n",
       "      <td>123</td>\n",
       "      <td>Normal Size Bug Dimension</td>\n",
       "      <td>Dimension</td>\n",
       "      <td></td>\n",
       "      <td>Palicki</td>\n",
       "      <td>Alien</td>\n",
       "    </tr>\n",
       "    <tr>\n",
       "      <th>123</th>\n",
       "      <td>124</td>\n",
       "      <td>Slartivart</td>\n",
       "      <td>Planet</td>\n",
       "      <td>Replacement Dimension</td>\n",
       "      <td>Slartivartian</td>\n",
       "      <td>Alien</td>\n",
       "    </tr>\n",
       "    <tr>\n",
       "      <th>124</th>\n",
       "      <td>125</td>\n",
       "      <td>Rick and Two Crows Planet</td>\n",
       "      <td>Planet</td>\n",
       "      <td>Replacement Dimension</td>\n",
       "      <td>Pussifer</td>\n",
       "      <td>Animal</td>\n",
       "    </tr>\n",
       "    <tr>\n",
       "      <th>125</th>\n",
       "      <td>126</td>\n",
       "      <td>Rick's Memories</td>\n",
       "      <td>Memory</td>\n",
       "      <td></td>\n",
       "      <td>Punk Rick</td>\n",
       "      <td>Human</td>\n",
       "    </tr>\n",
       "  </tbody>\n",
       "</table>\n",
       "<p>126 rows × 6 columns</p>\n",
       "</div>"
      ],
      "text/plain": [
       "      id                       name           type              dimension  \\\n",
       "0      1              Earth (C-137)         Planet        Dimension C-137   \n",
       "1      2                   Abadango        Cluster                unknown   \n",
       "2      3           Citadel of Ricks  Space station                unknown   \n",
       "3      4          Worldender's lair         Planet                unknown   \n",
       "4      5               Anatomy Park     Microverse        Dimension C-137   \n",
       "..   ...                        ...            ...                    ...   \n",
       "121  122               Avian Planet         Planet  Replacement Dimension   \n",
       "122  123  Normal Size Bug Dimension      Dimension                          \n",
       "123  124                 Slartivart         Planet  Replacement Dimension   \n",
       "124  125  Rick and Two Crows Planet         Planet  Replacement Dimension   \n",
       "125  126            Rick's Memories         Memory                          \n",
       "\n",
       "                resident1-name resident1-species  \n",
       "0                   Beth Smith             Human  \n",
       "1    Abadango Cluster Princess             Alien  \n",
       "2             Adjudicator Rick             Human  \n",
       "3                   Alan Rails             Human  \n",
       "4                    Alexander             Human  \n",
       "..                         ...               ...  \n",
       "121                 Alien Crow             Alien  \n",
       "122                    Palicki             Alien  \n",
       "123              Slartivartian             Alien  \n",
       "124                   Pussifer            Animal  \n",
       "125                  Punk Rick             Human  \n",
       "\n",
       "[126 rows x 6 columns]"
      ]
     },
     "execution_count": 4,
     "metadata": {},
     "output_type": "execute_result"
    }
   ],
   "source": [
    "df=pd.DataFrame(listaValores)\n",
    "df"
   ]
  },
  {
   "cell_type": "markdown",
   "metadata": {},
   "source": [
    "# Ejercicio 3\n",
    "\n",
    "Usaremos una ruta relativa a una carpeta de exportados ahí se guardarán los 3 archivos"
   ]
  },
  {
   "cell_type": "code",
   "execution_count": 5,
   "metadata": {},
   "outputs": [],
   "source": [
    "import pathlib\n",
    "from os import listdir\n",
    "from os.path import isfile, join\n",
    "\n",
    "path=str(pathlib.Path().resolve())+\"/Exportados\"\n",
    "df.to_json(path+\"/location.json\")\n",
    "df.to_csv(path+\"/location.csv\")\n",
    "df.to_parquet(path+\"/location.parquet\")"
   ]
  },
  {
   "cell_type": "markdown",
   "metadata": {},
   "source": [
    "**Recogida de uno de los ficheros**\n",
    "\n",
    "En este caso utilizaremos el JSON para obtener del fichero guardado pero podríamos usar cualquiera adaptandolo"
   ]
  },
  {
   "cell_type": "code",
   "execution_count": 6,
   "metadata": {},
   "outputs": [],
   "source": [
    "dfRead=pd.read_json(path+\"/location.json\")"
   ]
  },
  {
   "cell_type": "markdown",
   "metadata": {},
   "source": [
    "# Ejercicio 4\n",
    "\n",
    "## Operaciones con el DataFrame"
   ]
  },
  {
   "cell_type": "markdown",
   "metadata": {},
   "source": [
    "Aquí recogeremos los planetas que sean de tipo **\"Planet\"** y cuantos hay"
   ]
  },
  {
   "cell_type": "code",
   "execution_count": 7,
   "metadata": {},
   "outputs": [
    {
     "name": "stdout",
     "output_type": "stream",
     "text": [
      "TAMAÑO TOTAL: 62\n"
     ]
    },
    {
     "data": {
      "text/html": [
       "<div>\n",
       "<style scoped>\n",
       "    .dataframe tbody tr th:only-of-type {\n",
       "        vertical-align: middle;\n",
       "    }\n",
       "\n",
       "    .dataframe tbody tr th {\n",
       "        vertical-align: top;\n",
       "    }\n",
       "\n",
       "    .dataframe thead th {\n",
       "        text-align: right;\n",
       "    }\n",
       "</style>\n",
       "<table border=\"1\" class=\"dataframe\">\n",
       "  <thead>\n",
       "    <tr style=\"text-align: right;\">\n",
       "      <th></th>\n",
       "      <th>id</th>\n",
       "      <th>name</th>\n",
       "      <th>type</th>\n",
       "      <th>dimension</th>\n",
       "      <th>resident1-name</th>\n",
       "      <th>resident1-species</th>\n",
       "    </tr>\n",
       "  </thead>\n",
       "  <tbody>\n",
       "    <tr>\n",
       "      <th>0</th>\n",
       "      <td>1</td>\n",
       "      <td>Earth (C-137)</td>\n",
       "      <td>Planet</td>\n",
       "      <td>Dimension C-137</td>\n",
       "      <td>Beth Smith</td>\n",
       "      <td>Human</td>\n",
       "    </tr>\n",
       "    <tr>\n",
       "      <th>3</th>\n",
       "      <td>4</td>\n",
       "      <td>Worldender's lair</td>\n",
       "      <td>Planet</td>\n",
       "      <td>unknown</td>\n",
       "      <td>Alan Rails</td>\n",
       "      <td>Human</td>\n",
       "    </tr>\n",
       "    <tr>\n",
       "      <th>7</th>\n",
       "      <td>8</td>\n",
       "      <td>Post-Apocalyptic Earth</td>\n",
       "      <td>Planet</td>\n",
       "      <td>Post-Apocalyptic Dimension</td>\n",
       "      <td>Armothy</td>\n",
       "      <td>unknown</td>\n",
       "    </tr>\n",
       "    <tr>\n",
       "      <th>8</th>\n",
       "      <td>9</td>\n",
       "      <td>Purge Planet</td>\n",
       "      <td>Planet</td>\n",
       "      <td>Replacement Dimension</td>\n",
       "      <td>Arthricia</td>\n",
       "      <td>Alien</td>\n",
       "    </tr>\n",
       "    <tr>\n",
       "      <th>9</th>\n",
       "      <td>10</td>\n",
       "      <td>Venzenulon 7</td>\n",
       "      <td>Planet</td>\n",
       "      <td>unknown</td>\n",
       "      <td>Beebo</td>\n",
       "      <td>Alien</td>\n",
       "    </tr>\n",
       "    <tr>\n",
       "      <th>...</th>\n",
       "      <td>...</td>\n",
       "      <td>...</td>\n",
       "      <td>...</td>\n",
       "      <td>...</td>\n",
       "      <td>...</td>\n",
       "      <td>...</td>\n",
       "    </tr>\n",
       "    <tr>\n",
       "      <th>111</th>\n",
       "      <td>112</td>\n",
       "      <td>Morglutz</td>\n",
       "      <td>Planet</td>\n",
       "      <td>Replacement Dimension</td>\n",
       "      <td>Morglutzian</td>\n",
       "      <td>Alien</td>\n",
       "    </tr>\n",
       "    <tr>\n",
       "      <th>112</th>\n",
       "      <td>113</td>\n",
       "      <td>Ferkus 9</td>\n",
       "      <td>Planet</td>\n",
       "      <td>Replacement Dimension</td>\n",
       "      <td>Daphne</td>\n",
       "      <td>Alien</td>\n",
       "    </tr>\n",
       "    <tr>\n",
       "      <th>121</th>\n",
       "      <td>122</td>\n",
       "      <td>Avian Planet</td>\n",
       "      <td>Planet</td>\n",
       "      <td>Replacement Dimension</td>\n",
       "      <td>Alien Crow</td>\n",
       "      <td>Alien</td>\n",
       "    </tr>\n",
       "    <tr>\n",
       "      <th>123</th>\n",
       "      <td>124</td>\n",
       "      <td>Slartivart</td>\n",
       "      <td>Planet</td>\n",
       "      <td>Replacement Dimension</td>\n",
       "      <td>Slartivartian</td>\n",
       "      <td>Alien</td>\n",
       "    </tr>\n",
       "    <tr>\n",
       "      <th>124</th>\n",
       "      <td>125</td>\n",
       "      <td>Rick and Two Crows Planet</td>\n",
       "      <td>Planet</td>\n",
       "      <td>Replacement Dimension</td>\n",
       "      <td>Pussifer</td>\n",
       "      <td>Animal</td>\n",
       "    </tr>\n",
       "  </tbody>\n",
       "</table>\n",
       "<p>62 rows × 6 columns</p>\n",
       "</div>"
      ],
      "text/plain": [
       "      id                       name    type                   dimension  \\\n",
       "0      1              Earth (C-137)  Planet             Dimension C-137   \n",
       "3      4          Worldender's lair  Planet                     unknown   \n",
       "7      8     Post-Apocalyptic Earth  Planet  Post-Apocalyptic Dimension   \n",
       "8      9               Purge Planet  Planet       Replacement Dimension   \n",
       "9     10               Venzenulon 7  Planet                     unknown   \n",
       "..   ...                        ...     ...                         ...   \n",
       "111  112                   Morglutz  Planet       Replacement Dimension   \n",
       "112  113                   Ferkus 9  Planet       Replacement Dimension   \n",
       "121  122               Avian Planet  Planet       Replacement Dimension   \n",
       "123  124                 Slartivart  Planet       Replacement Dimension   \n",
       "124  125  Rick and Two Crows Planet  Planet       Replacement Dimension   \n",
       "\n",
       "    resident1-name resident1-species  \n",
       "0       Beth Smith             Human  \n",
       "3       Alan Rails             Human  \n",
       "7          Armothy           unknown  \n",
       "8        Arthricia             Alien  \n",
       "9            Beebo             Alien  \n",
       "..             ...               ...  \n",
       "111    Morglutzian             Alien  \n",
       "112         Daphne             Alien  \n",
       "121     Alien Crow             Alien  \n",
       "123  Slartivartian             Alien  \n",
       "124       Pussifer            Animal  \n",
       "\n",
       "[62 rows x 6 columns]"
      ]
     },
     "execution_count": 7,
     "metadata": {},
     "output_type": "execute_result"
    }
   ],
   "source": [
    "dfLocationsPlanet=dfRead[dfRead['type']==\"Planet\"]\n",
    "print(f\"TAMAÑO TOTAL: {dfLocationsPlanet.__len__()}\")\n",
    "dfLocationsPlanet"
   ]
  },
  {
   "cell_type": "markdown",
   "metadata": {},
   "source": [
    "Aquí contaremos cuantas dimensiones diferentes hay"
   ]
  },
  {
   "cell_type": "code",
   "execution_count": 8,
   "metadata": {},
   "outputs": [
    {
     "name": "stdout",
     "output_type": "stream",
     "text": [
      "HAY: 34 dimensiones diferentes\n"
     ]
    }
   ],
   "source": [
    "dfDimensiones = dfRead['dimension'].drop_duplicates()\n",
    "print(f\"HAY: {dfDimensiones.count()} dimensiones diferentes\")"
   ]
  },
  {
   "cell_type": "markdown",
   "metadata": {},
   "source": [
    "En este tenemos que consultar las Dimensiones donde la localización tiene un id menor al de 100"
   ]
  },
  {
   "cell_type": "code",
   "execution_count": 9,
   "metadata": {},
   "outputs": [
    {
     "data": {
      "text/plain": [
       "0           Dimension C-137\n",
       "1                   unknown\n",
       "2                   unknown\n",
       "3                   unknown\n",
       "4           Dimension C-137\n",
       "              ...          \n",
       "94    Replacement Dimension\n",
       "95    Replacement Dimension\n",
       "96    Replacement Dimension\n",
       "97    Replacement Dimension\n",
       "98    Replacement Dimension\n",
       "Name: dimension, Length: 99, dtype: object"
      ]
     },
     "execution_count": 9,
     "metadata": {},
     "output_type": "execute_result"
    }
   ],
   "source": [
    "dfDimensiones = dfRead[dfRead['id']<100]['dimension']\n",
    "dfDimensiones"
   ]
  },
  {
   "cell_type": "markdown",
   "metadata": {},
   "source": [
    "Y por último pide los planetas que empiecen por Earth"
   ]
  },
  {
   "cell_type": "code",
   "execution_count": 10,
   "metadata": {},
   "outputs": [
    {
     "name": "stderr",
     "output_type": "stream",
     "text": [
      "C:\\Users\\diego.guizanlopez\\AppData\\Local\\Temp\\ipykernel_13064\\833260588.py:2: UserWarning: This pattern is interpreted as a regular expression, and has match groups. To actually get the groups, use str.extract.\n",
      "  dfPlanetas2=dfRead[dfRead['name'].str.contains('^(Earth)', regex=True)]['name']\n"
     ]
    },
    {
     "data": {
      "text/plain": [
       "0                                  Earth (C-137)\n",
       "16                                 Earth (5-126)\n",
       "19                 Earth (Replacement Dimension)\n",
       "22                                Earth (C-500A)\n",
       "25                                  Earth (K-83)\n",
       "29                     Earth (Unknown dimension)\n",
       "30                                 Earth (J19ζ7)\n",
       "33          Earth (Evil Rick's Target Dimension)\n",
       "41    Earth (Giant Telepathic Spiders Dimension)\n",
       "51                                  Earth (K-22)\n",
       "57                                  Earth (D-99)\n",
       "58                                  Earth (D716)\n",
       "59                                Earth (D716-B)\n",
       "60                                Earth (D716-C)\n",
       "61                                  Earth (J-22)\n",
       "68                                  Earth (C-35)\n",
       "70                       Earth (Pizza Dimension)\n",
       "71                       Earth (Phone Dimension)\n",
       "73                       Earth (Chair Dimension)\n",
       "76                     Earth (Fascist Dimension)\n",
       "79              Earth (Fascist Shrimp Dimension)\n",
       "80          Earth (Fascist Teddy Bear Dimension)\n",
       "81                        Earth (Wasp Dimension)\n",
       "91                        Earth (Tusk Dimension)\n",
       "Name: name, dtype: object"
      ]
     },
     "execution_count": 10,
     "metadata": {},
     "output_type": "execute_result"
    }
   ],
   "source": [
    "dfPlanetas2=dfRead['name']\n",
    "dfPlanetas2=dfRead[dfRead['name'].str.contains('^(Earth)', regex=True)]['name']\n",
    "dfPlanetas2"
   ]
  },
  {
   "cell_type": "code",
   "execution_count": null,
   "metadata": {},
   "outputs": [],
   "source": []
  }
 ],
 "metadata": {
  "kernelspec": {
   "display_name": "bigdata",
   "language": "python",
   "name": "python3"
  },
  "language_info": {
   "codemirror_mode": {
    "name": "ipython",
    "version": 3
   },
   "file_extension": ".py",
   "mimetype": "text/x-python",
   "name": "python",
   "nbconvert_exporter": "python",
   "pygments_lexer": "ipython3",
   "version": "3.8.18"
  }
 },
 "nbformat": 4,
 "nbformat_minor": 2
}
