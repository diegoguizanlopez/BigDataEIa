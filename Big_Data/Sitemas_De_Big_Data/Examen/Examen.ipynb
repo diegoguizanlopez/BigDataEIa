{
 "cells": [
  {
   "cell_type": "code",
   "execution_count": 61,
   "metadata": {},
   "outputs": [
    {
     "name": "stdout",
     "output_type": "stream",
     "text": [
      "^C\n"
     ]
    }
   ],
   "source": [
    "!conda create -y -n examenbd python=3.8"
   ]
  },
  {
   "cell_type": "code",
   "execution_count": 1,
   "metadata": {},
   "outputs": [
    {
     "name": "stdout",
     "output_type": "stream",
     "text": [
      "^C\n"
     ]
    }
   ],
   "source": [
    "!conda install -y pandas\n",
    "!conda install -y requests\n",
    "!conda install -y pathlib\n",
    "!conda install -y -c conda-forge pyarrow,pyarrow"
   ]
  },
  {
   "cell_type": "markdown",
   "metadata": {},
   "source": [
    "# EJERCICIO 2\n",
    "\n",
    "## Definición de métodos a utilizar\n",
    "\n",
    "    - recorrer: recorre el json con los valores seleccionados adaptados en este caso\n",
    "\n",
    "    - get_json: devuelve el json de una URL\n",
    "\n",
    "    - get_apis_untilnext: recorre la api hasta que no haya más páginas"
   ]
  },
  {
   "cell_type": "code",
   "execution_count": 17,
   "metadata": {},
   "outputs": [],
   "source": [
    "import json\n",
    "\n",
    "import requests\n",
    "\n",
    "\n",
    "def recorrer(data,listaValores,campo,bucle=True):\n",
    "    for valor in data:\n",
    "        if bucle:\n",
    "            for valor2 in valor[campo]:\n",
    "                if valor2 not in listaValores:\n",
    "                    listaValores.append(valor2)\n",
    "        else:\n",
    "            listaValores.append(valor)\n",
    "    return listaValores\n",
    "\n",
    "def get_json(url):\n",
    "     return json.loads(json.dumps((requests.get(url)).json()))\n",
    "\n",
    "def get_apis_untilnext(json,list,text=None,recursive=False):\n",
    "    while True:\n",
    "        list=recorrer(json['results'],list,text,recursive)\n",
    "        if(json['info']['next'] == None):\n",
    "             break\n",
    "        print(json[\"info\"][\"next\"])\n",
    "        json=get_json(json['info']['next'])\n",
    "    return list"
   ]
  },
  {
   "cell_type": "markdown",
   "metadata": {},
   "source": [
    "**Ejecución del buscador de páginas de location**\n",
    "\n",
    "Aquí recogerá las páginas de la api de location hasta que no haya más"
   ]
  },
  {
   "cell_type": "code",
   "execution_count": 18,
   "metadata": {},
   "outputs": [
    {
     "name": "stdout",
     "output_type": "stream",
     "text": [
      "https://rickandmortyapi.com/api/location/?page=2\n",
      "https://rickandmortyapi.com/api/character/?page=2\n",
      "https://rickandmortyapi.com/api/character/?page=3\n",
      "https://rickandmortyapi.com/api/location/?page=3\n",
      "https://rickandmortyapi.com/api/character/?page=4\n",
      "https://rickandmortyapi.com/api/location/?page=4\n",
      "https://rickandmortyapi.com/api/character/?page=5\n",
      "https://rickandmortyapi.com/api/location/?page=5\n",
      "https://rickandmortyapi.com/api/character/?page=6\n",
      "https://rickandmortyapi.com/api/location/?page=6\n",
      "https://rickandmortyapi.com/api/character/?page=7\n",
      "https://rickandmortyapi.com/api/location/?page=7\n",
      "https://rickandmortyapi.com/api/character/?page=8\n",
      "https://rickandmortyapi.com/api/character/?page=9\n",
      "https://rickandmortyapi.com/api/character/?page=10\n",
      "https://rickandmortyapi.com/api/character/?page=11\n",
      "https://rickandmortyapi.com/api/character/?page=12\n",
      "https://rickandmortyapi.com/api/character/?page=13\n",
      "https://rickandmortyapi.com/api/character/?page=14\n",
      "https://rickandmortyapi.com/api/character/?page=15\n",
      "https://rickandmortyapi.com/api/character/?page=16\n",
      "https://rickandmortyapi.com/api/character/?page=17\n",
      "https://rickandmortyapi.com/api/character/?page=18\n",
      "https://rickandmortyapi.com/api/character/?page=19\n",
      "https://rickandmortyapi.com/api/character/?page=20\n",
      "https://rickandmortyapi.com/api/character/?page=21\n",
      "https://rickandmortyapi.com/api/character/?page=22\n",
      "https://rickandmortyapi.com/api/character/?page=23\n",
      "https://rickandmortyapi.com/api/character/?page=24\n",
      "https://rickandmortyapi.com/api/character/?page=25\n",
      "https://rickandmortyapi.com/api/character/?page=26\n",
      "https://rickandmortyapi.com/api/character/?page=27\n",
      "https://rickandmortyapi.com/api/character/?page=28\n",
      "https://rickandmortyapi.com/api/character/?page=29\n",
      "https://rickandmortyapi.com/api/character/?page=30\n",
      "https://rickandmortyapi.com/api/character/?page=31\n",
      "https://rickandmortyapi.com/api/character/?page=32\n",
      "https://rickandmortyapi.com/api/character/?page=33\n",
      "https://rickandmortyapi.com/api/character/?page=34\n",
      "https://rickandmortyapi.com/api/character/?page=35\n",
      "https://rickandmortyapi.com/api/character/?page=36\n",
      "https://rickandmortyapi.com/api/character/?page=37\n",
      "https://rickandmortyapi.com/api/character/?page=38\n",
      "https://rickandmortyapi.com/api/character/?page=39\n",
      "https://rickandmortyapi.com/api/character/?page=40\n",
      "https://rickandmortyapi.com/api/character/?page=41\n",
      "https://rickandmortyapi.com/api/character/?page=42\n"
     ]
    }
   ],
   "source": [
    "import threading\n",
    "\n",
    "\n",
    "listaLocations=[]\n",
    "listaResidentesTotal=[]\n",
    "tEp=threading.Thread(target=get_apis_untilnext,args=[get_json(\"https://rickandmortyapi.com/api/location/\"),listaLocations,])\n",
    "tRe=threading.Thread(target=get_apis_untilnext,args=[get_json(\"https://rickandmortyapi.com/api/character/\"),listaResidentesTotal,])\n",
    "tEp.start()\n",
    "tRe.start()\n",
    "tEp.join()\n",
    "tRe.join()"
   ]
  },
  {
   "cell_type": "markdown",
   "metadata": {},
   "source": [
    "**Recogida de valores totales**\n",
    "\n",
    "Aquí se recoge todos los valores de los residentes y teniendo en cuenta si no hay residente\n",
    "\n",
    "Aclaración: Otro método que también se puede utilizar es guardando los personajes en una lista y comprobando el enlace y en vez de recorrer la api de cada personaje, recorrer la api de personajes para recoger cada uno de los personajes"
   ]
  },
  {
   "cell_type": "code",
   "execution_count": 19,
   "metadata": {},
   "outputs": [],
   "source": [
    "import pandas as pd\n",
    "\n",
    "def get_data(x,listaResidentesTotal):\n",
    "    if x['residents'] is None:\n",
    "        return {\"id\":x['id'],\"name\":x['name'],\"type\":x['type'],\"dimension\":x['dimension'],\"resident1-name\":\"EMPTY NAME\",\"resident1-species\":\"EMPTY SPECIES\"}\n",
    "    value=(x['residents'][0]) if len(x['residents'])>0 else None\n",
    "    if value is None:\n",
    "        return {\"id\":x['id'],\"name\":x['name'],\"type\":x['type'],\"dimension\":x['dimension'],\"resident1-name\":\"EMPTY NAME\",\"resident1-species\":\"EMPTY SPECIES\"}\n",
    "    value=list(filter(lambda x:int(x['id'])==int((value.split('/'))[-1]),listaResidentesTotal))\n",
    "    return {\"id\":x['id'],\"name\":x['name'],\"type\":x['type'],\"dimension\":x['dimension'],\"resident1-name\":value[0]['name'],\"resident1-species\":value[0]['species']}\n",
    "\n",
    "\n",
    "listaValores = list(map(lambda x:get_data(x,listaResidentesTotal),listaLocations))"
   ]
  },
  {
   "cell_type": "markdown",
   "metadata": {},
   "source": [
    "**Transformación lista al DataFrame**"
   ]
  },
  {
   "cell_type": "code",
   "execution_count": 20,
   "metadata": {},
   "outputs": [
    {
     "data": {
      "text/html": [
       "<div>\n",
       "<style scoped>\n",
       "    .dataframe tbody tr th:only-of-type {\n",
       "        vertical-align: middle;\n",
       "    }\n",
       "\n",
       "    .dataframe tbody tr th {\n",
       "        vertical-align: top;\n",
       "    }\n",
       "\n",
       "    .dataframe thead th {\n",
       "        text-align: right;\n",
       "    }\n",
       "</style>\n",
       "<table border=\"1\" class=\"dataframe\">\n",
       "  <thead>\n",
       "    <tr style=\"text-align: right;\">\n",
       "      <th></th>\n",
       "      <th>id</th>\n",
       "      <th>name</th>\n",
       "      <th>type</th>\n",
       "      <th>dimension</th>\n",
       "      <th>resident1-name</th>\n",
       "      <th>resident1-species</th>\n",
       "    </tr>\n",
       "  </thead>\n",
       "  <tbody>\n",
       "    <tr>\n",
       "      <th>0</th>\n",
       "      <td>1</td>\n",
       "      <td>Earth (C-137)</td>\n",
       "      <td>Planet</td>\n",
       "      <td>Dimension C-137</td>\n",
       "      <td>Beth Smith</td>\n",
       "      <td>Human</td>\n",
       "    </tr>\n",
       "    <tr>\n",
       "      <th>1</th>\n",
       "      <td>2</td>\n",
       "      <td>Abadango</td>\n",
       "      <td>Cluster</td>\n",
       "      <td>unknown</td>\n",
       "      <td>Abadango Cluster Princess</td>\n",
       "      <td>Alien</td>\n",
       "    </tr>\n",
       "    <tr>\n",
       "      <th>2</th>\n",
       "      <td>3</td>\n",
       "      <td>Citadel of Ricks</td>\n",
       "      <td>Space station</td>\n",
       "      <td>unknown</td>\n",
       "      <td>Adjudicator Rick</td>\n",
       "      <td>Human</td>\n",
       "    </tr>\n",
       "    <tr>\n",
       "      <th>3</th>\n",
       "      <td>4</td>\n",
       "      <td>Worldender's lair</td>\n",
       "      <td>Planet</td>\n",
       "      <td>unknown</td>\n",
       "      <td>Alan Rails</td>\n",
       "      <td>Human</td>\n",
       "    </tr>\n",
       "    <tr>\n",
       "      <th>4</th>\n",
       "      <td>5</td>\n",
       "      <td>Anatomy Park</td>\n",
       "      <td>Microverse</td>\n",
       "      <td>Dimension C-137</td>\n",
       "      <td>Alexander</td>\n",
       "      <td>Human</td>\n",
       "    </tr>\n",
       "    <tr>\n",
       "      <th>...</th>\n",
       "      <td>...</td>\n",
       "      <td>...</td>\n",
       "      <td>...</td>\n",
       "      <td>...</td>\n",
       "      <td>...</td>\n",
       "      <td>...</td>\n",
       "    </tr>\n",
       "    <tr>\n",
       "      <th>121</th>\n",
       "      <td>122</td>\n",
       "      <td>Avian Planet</td>\n",
       "      <td>Planet</td>\n",
       "      <td>Replacement Dimension</td>\n",
       "      <td>Alien Crow</td>\n",
       "      <td>Alien</td>\n",
       "    </tr>\n",
       "    <tr>\n",
       "      <th>122</th>\n",
       "      <td>123</td>\n",
       "      <td>Normal Size Bug Dimension</td>\n",
       "      <td>Dimension</td>\n",
       "      <td></td>\n",
       "      <td>Palicki</td>\n",
       "      <td>Alien</td>\n",
       "    </tr>\n",
       "    <tr>\n",
       "      <th>123</th>\n",
       "      <td>124</td>\n",
       "      <td>Slartivart</td>\n",
       "      <td>Planet</td>\n",
       "      <td>Replacement Dimension</td>\n",
       "      <td>Slartivartian</td>\n",
       "      <td>Alien</td>\n",
       "    </tr>\n",
       "    <tr>\n",
       "      <th>124</th>\n",
       "      <td>125</td>\n",
       "      <td>Rick and Two Crows Planet</td>\n",
       "      <td>Planet</td>\n",
       "      <td>Replacement Dimension</td>\n",
       "      <td>Pussifer</td>\n",
       "      <td>Animal</td>\n",
       "    </tr>\n",
       "    <tr>\n",
       "      <th>125</th>\n",
       "      <td>126</td>\n",
       "      <td>Rick's Memories</td>\n",
       "      <td>Memory</td>\n",
       "      <td></td>\n",
       "      <td>Punk Rick</td>\n",
       "      <td>Human</td>\n",
       "    </tr>\n",
       "  </tbody>\n",
       "</table>\n",
       "<p>126 rows × 6 columns</p>\n",
       "</div>"
      ],
      "text/plain": [
       "      id                       name           type              dimension  \\\n",
       "0      1              Earth (C-137)         Planet        Dimension C-137   \n",
       "1      2                   Abadango        Cluster                unknown   \n",
       "2      3           Citadel of Ricks  Space station                unknown   \n",
       "3      4          Worldender's lair         Planet                unknown   \n",
       "4      5               Anatomy Park     Microverse        Dimension C-137   \n",
       "..   ...                        ...            ...                    ...   \n",
       "121  122               Avian Planet         Planet  Replacement Dimension   \n",
       "122  123  Normal Size Bug Dimension      Dimension                          \n",
       "123  124                 Slartivart         Planet  Replacement Dimension   \n",
       "124  125  Rick and Two Crows Planet         Planet  Replacement Dimension   \n",
       "125  126            Rick's Memories         Memory                          \n",
       "\n",
       "                resident1-name resident1-species  \n",
       "0                   Beth Smith             Human  \n",
       "1    Abadango Cluster Princess             Alien  \n",
       "2             Adjudicator Rick             Human  \n",
       "3                   Alan Rails             Human  \n",
       "4                    Alexander             Human  \n",
       "..                         ...               ...  \n",
       "121                 Alien Crow             Alien  \n",
       "122                    Palicki             Alien  \n",
       "123              Slartivartian             Alien  \n",
       "124                   Pussifer            Animal  \n",
       "125                  Punk Rick             Human  \n",
       "\n",
       "[126 rows x 6 columns]"
      ]
     },
     "execution_count": 20,
     "metadata": {},
     "output_type": "execute_result"
    }
   ],
   "source": [
    "df=pd.DataFrame(listaValores)\n",
    "df"
   ]
  },
  {
   "cell_type": "markdown",
   "metadata": {},
   "source": [
    "# Ejercicio 3\n",
    "\n",
    "Usaremos una ruta relativa a una carpeta de exportados ahí se guardarán los 3 archivos"
   ]
  },
  {
   "cell_type": "code",
   "execution_count": 21,
   "metadata": {},
   "outputs": [],
   "source": [
    "import pathlib\n",
    "from os import listdir\n",
    "from os.path import isfile, join\n",
    "\n",
    "path=str(pathlib.Path().resolve())+\"/Exportados\"\n",
    "df.to_json(path+\"/location.json\")\n",
    "df.to_csv(path+\"/location.csv\")\n",
    "df.to_parquet(path+\"/location.parquet\")"
   ]
  },
  {
   "cell_type": "markdown",
   "metadata": {},
   "source": [
    "**Recogida de uno de los ficheros**\n",
    "\n",
    "En este caso utilizaremos el JSON para obtener del fichero guardado pero podríamos usar cualquiera adaptandolo"
   ]
  },
  {
   "cell_type": "code",
   "execution_count": 22,
   "metadata": {},
   "outputs": [],
   "source": [
    "dfRead=pd.read_json(path+\"/location.json\")"
   ]
  },
  {
   "cell_type": "markdown",
   "metadata": {},
   "source": [
    "# Ejercicio 4\n",
    "\n",
    "## Operaciones con el DataFrame"
   ]
  },
  {
   "cell_type": "markdown",
   "metadata": {},
   "source": [
    "Aquí recogeremos los planetas que sean de tipo **\"Planet\"** y cuantos hay"
   ]
  },
  {
   "cell_type": "code",
   "execution_count": 23,
   "metadata": {},
   "outputs": [
    {
     "name": "stdout",
     "output_type": "stream",
     "text": [
      "TAMAÑO TOTAL: 62\n"
     ]
    },
    {
     "data": {
      "text/html": [
       "<div>\n",
       "<style scoped>\n",
       "    .dataframe tbody tr th:only-of-type {\n",
       "        vertical-align: middle;\n",
       "    }\n",
       "\n",
       "    .dataframe tbody tr th {\n",
       "        vertical-align: top;\n",
       "    }\n",
       "\n",
       "    .dataframe thead th {\n",
       "        text-align: right;\n",
       "    }\n",
       "</style>\n",
       "<table border=\"1\" class=\"dataframe\">\n",
       "  <thead>\n",
       "    <tr style=\"text-align: right;\">\n",
       "      <th></th>\n",
       "      <th>id</th>\n",
       "      <th>name</th>\n",
       "      <th>type</th>\n",
       "      <th>dimension</th>\n",
       "      <th>resident1-name</th>\n",
       "      <th>resident1-species</th>\n",
       "    </tr>\n",
       "  </thead>\n",
       "  <tbody>\n",
       "    <tr>\n",
       "      <th>0</th>\n",
       "      <td>1</td>\n",
       "      <td>Earth (C-137)</td>\n",
       "      <td>Planet</td>\n",
       "      <td>Dimension C-137</td>\n",
       "      <td>Beth Smith</td>\n",
       "      <td>Human</td>\n",
       "    </tr>\n",
       "    <tr>\n",
       "      <th>3</th>\n",
       "      <td>4</td>\n",
       "      <td>Worldender's lair</td>\n",
       "      <td>Planet</td>\n",
       "      <td>unknown</td>\n",
       "      <td>Alan Rails</td>\n",
       "      <td>Human</td>\n",
       "    </tr>\n",
       "    <tr>\n",
       "      <th>7</th>\n",
       "      <td>8</td>\n",
       "      <td>Post-Apocalyptic Earth</td>\n",
       "      <td>Planet</td>\n",
       "      <td>Post-Apocalyptic Dimension</td>\n",
       "      <td>Armothy</td>\n",
       "      <td>unknown</td>\n",
       "    </tr>\n",
       "    <tr>\n",
       "      <th>8</th>\n",
       "      <td>9</td>\n",
       "      <td>Purge Planet</td>\n",
       "      <td>Planet</td>\n",
       "      <td>Replacement Dimension</td>\n",
       "      <td>Arthricia</td>\n",
       "      <td>Alien</td>\n",
       "    </tr>\n",
       "    <tr>\n",
       "      <th>9</th>\n",
       "      <td>10</td>\n",
       "      <td>Venzenulon 7</td>\n",
       "      <td>Planet</td>\n",
       "      <td>unknown</td>\n",
       "      <td>Beebo</td>\n",
       "      <td>Alien</td>\n",
       "    </tr>\n",
       "    <tr>\n",
       "      <th>...</th>\n",
       "      <td>...</td>\n",
       "      <td>...</td>\n",
       "      <td>...</td>\n",
       "      <td>...</td>\n",
       "      <td>...</td>\n",
       "      <td>...</td>\n",
       "    </tr>\n",
       "    <tr>\n",
       "      <th>111</th>\n",
       "      <td>112</td>\n",
       "      <td>Morglutz</td>\n",
       "      <td>Planet</td>\n",
       "      <td>Replacement Dimension</td>\n",
       "      <td>Morglutzian</td>\n",
       "      <td>Alien</td>\n",
       "    </tr>\n",
       "    <tr>\n",
       "      <th>112</th>\n",
       "      <td>113</td>\n",
       "      <td>Ferkus 9</td>\n",
       "      <td>Planet</td>\n",
       "      <td>Replacement Dimension</td>\n",
       "      <td>Daphne</td>\n",
       "      <td>Alien</td>\n",
       "    </tr>\n",
       "    <tr>\n",
       "      <th>121</th>\n",
       "      <td>122</td>\n",
       "      <td>Avian Planet</td>\n",
       "      <td>Planet</td>\n",
       "      <td>Replacement Dimension</td>\n",
       "      <td>Alien Crow</td>\n",
       "      <td>Alien</td>\n",
       "    </tr>\n",
       "    <tr>\n",
       "      <th>123</th>\n",
       "      <td>124</td>\n",
       "      <td>Slartivart</td>\n",
       "      <td>Planet</td>\n",
       "      <td>Replacement Dimension</td>\n",
       "      <td>Slartivartian</td>\n",
       "      <td>Alien</td>\n",
       "    </tr>\n",
       "    <tr>\n",
       "      <th>124</th>\n",
       "      <td>125</td>\n",
       "      <td>Rick and Two Crows Planet</td>\n",
       "      <td>Planet</td>\n",
       "      <td>Replacement Dimension</td>\n",
       "      <td>Pussifer</td>\n",
       "      <td>Animal</td>\n",
       "    </tr>\n",
       "  </tbody>\n",
       "</table>\n",
       "<p>62 rows × 6 columns</p>\n",
       "</div>"
      ],
      "text/plain": [
       "      id                       name    type                   dimension  \\\n",
       "0      1              Earth (C-137)  Planet             Dimension C-137   \n",
       "3      4          Worldender's lair  Planet                     unknown   \n",
       "7      8     Post-Apocalyptic Earth  Planet  Post-Apocalyptic Dimension   \n",
       "8      9               Purge Planet  Planet       Replacement Dimension   \n",
       "9     10               Venzenulon 7  Planet                     unknown   \n",
       "..   ...                        ...     ...                         ...   \n",
       "111  112                   Morglutz  Planet       Replacement Dimension   \n",
       "112  113                   Ferkus 9  Planet       Replacement Dimension   \n",
       "121  122               Avian Planet  Planet       Replacement Dimension   \n",
       "123  124                 Slartivart  Planet       Replacement Dimension   \n",
       "124  125  Rick and Two Crows Planet  Planet       Replacement Dimension   \n",
       "\n",
       "    resident1-name resident1-species  \n",
       "0       Beth Smith             Human  \n",
       "3       Alan Rails             Human  \n",
       "7          Armothy           unknown  \n",
       "8        Arthricia             Alien  \n",
       "9            Beebo             Alien  \n",
       "..             ...               ...  \n",
       "111    Morglutzian             Alien  \n",
       "112         Daphne             Alien  \n",
       "121     Alien Crow             Alien  \n",
       "123  Slartivartian             Alien  \n",
       "124       Pussifer            Animal  \n",
       "\n",
       "[62 rows x 6 columns]"
      ]
     },
     "execution_count": 23,
     "metadata": {},
     "output_type": "execute_result"
    }
   ],
   "source": [
    "dfLocationsPlanet=dfRead[dfRead['type']==\"Planet\"]\n",
    "print(f\"TAMAÑO TOTAL: {dfLocationsPlanet.__len__()}\")\n",
    "dfLocationsPlanet"
   ]
  },
  {
   "cell_type": "markdown",
   "metadata": {},
   "source": [
    "Aquí contaremos cuantas dimensiones diferentes hay"
   ]
  },
  {
   "cell_type": "code",
   "execution_count": 24,
   "metadata": {},
   "outputs": [
    {
     "name": "stdout",
     "output_type": "stream",
     "text": [
      "HAY: 34 dimensiones diferentes\n"
     ]
    }
   ],
   "source": [
    "dfDimensiones = dfRead['dimension'].drop_duplicates()\n",
    "print(f\"HAY: {dfDimensiones.count()} dimensiones diferentes\")"
   ]
  },
  {
   "cell_type": "markdown",
   "metadata": {},
   "source": [
    "En este tenemos que consultar las Dimensiones donde la localización tiene un id menor al de 100"
   ]
  },
  {
   "cell_type": "code",
   "execution_count": 25,
   "metadata": {},
   "outputs": [
    {
     "data": {
      "text/plain": [
       "0           Dimension C-137\n",
       "1                   unknown\n",
       "2                   unknown\n",
       "3                   unknown\n",
       "4           Dimension C-137\n",
       "              ...          \n",
       "94    Replacement Dimension\n",
       "95    Replacement Dimension\n",
       "96    Replacement Dimension\n",
       "97    Replacement Dimension\n",
       "98    Replacement Dimension\n",
       "Name: dimension, Length: 99, dtype: object"
      ]
     },
     "execution_count": 25,
     "metadata": {},
     "output_type": "execute_result"
    }
   ],
   "source": [
    "dfDimensiones = dfRead[dfRead['id']<100]['dimension']\n",
    "dfDimensiones"
   ]
  },
  {
   "cell_type": "markdown",
   "metadata": {},
   "source": [
    "Y por último pide los planetas que empiecen por Earth"
   ]
  },
  {
   "cell_type": "code",
   "execution_count": 26,
   "metadata": {},
   "outputs": [
    {
     "name": "stderr",
     "output_type": "stream",
     "text": [
      "C:\\Users\\diego.guizanlopez\\AppData\\Local\\Temp\\ipykernel_9952\\833260588.py:2: UserWarning: This pattern is interpreted as a regular expression, and has match groups. To actually get the groups, use str.extract.\n",
      "  dfPlanetas2=dfRead[dfRead['name'].str.contains('^(Earth)', regex=True)]['name']\n"
     ]
    },
    {
     "data": {
      "text/plain": [
       "0                                  Earth (C-137)\n",
       "16                                 Earth (5-126)\n",
       "19                 Earth (Replacement Dimension)\n",
       "22                                Earth (C-500A)\n",
       "25                                  Earth (K-83)\n",
       "29                     Earth (Unknown dimension)\n",
       "30                                 Earth (J19ζ7)\n",
       "33          Earth (Evil Rick's Target Dimension)\n",
       "41    Earth (Giant Telepathic Spiders Dimension)\n",
       "51                                  Earth (K-22)\n",
       "57                                  Earth (D-99)\n",
       "58                                  Earth (D716)\n",
       "59                                Earth (D716-B)\n",
       "60                                Earth (D716-C)\n",
       "61                                  Earth (J-22)\n",
       "68                                  Earth (C-35)\n",
       "70                       Earth (Pizza Dimension)\n",
       "71                       Earth (Phone Dimension)\n",
       "73                       Earth (Chair Dimension)\n",
       "76                     Earth (Fascist Dimension)\n",
       "79              Earth (Fascist Shrimp Dimension)\n",
       "80          Earth (Fascist Teddy Bear Dimension)\n",
       "81                        Earth (Wasp Dimension)\n",
       "91                        Earth (Tusk Dimension)\n",
       "Name: name, dtype: object"
      ]
     },
     "execution_count": 26,
     "metadata": {},
     "output_type": "execute_result"
    }
   ],
   "source": [
    "dfPlanetas2=dfRead['name']\n",
    "dfPlanetas2=dfRead[dfRead['name'].str.contains('^(Earth)', regex=True)]['name']\n",
    "dfPlanetas2"
   ]
  },
  {
   "cell_type": "code",
   "execution_count": null,
   "metadata": {},
   "outputs": [],
   "source": []
  }
 ],
 "metadata": {
  "kernelspec": {
   "display_name": "bigdata",
   "language": "python",
   "name": "python3"
  },
  "language_info": {
   "codemirror_mode": {
    "name": "ipython",
    "version": 3
   },
   "file_extension": ".py",
   "mimetype": "text/x-python",
   "name": "python",
   "nbconvert_exporter": "python",
   "pygments_lexer": "ipython3",
   "version": "3.8.18"
  }
 },
 "nbformat": 4,
 "nbformat_minor": 2
}
