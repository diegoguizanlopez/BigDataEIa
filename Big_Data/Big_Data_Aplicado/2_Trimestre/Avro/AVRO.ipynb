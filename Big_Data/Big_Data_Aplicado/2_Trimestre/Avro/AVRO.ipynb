{
 "cells": [
  {
   "cell_type": "markdown",
   "metadata": {},
   "source": [
    "# AVRO"
   ]
  },
  {
   "attachments": {},
   "cell_type": "markdown",
   "metadata": {},
   "source": [
    "Traballando con arquivos AVRO:\n",
    "\n",
    "- Crear un schema\n",
    "- Crear un arquivo AVRO baseado no esquema"
   ]
  },
  {
   "cell_type": "code",
   "execution_count": null,
   "metadata": {},
   "outputs": [],
   "source": [
    "!conda install -c conda-forge -y avro"
   ]
  },
  {
   "cell_type": "code",
   "execution_count": 2,
   "metadata": {},
   "outputs": [],
   "source": [
    "import os\n",
    "import tempfile\n",
    "import avro.schema\n",
    "from avro.datafile import DataFileReader, DataFileWriter\n",
    "from avro.io import DatumReader, DatumWriter\n",
    "\n",
    "directorioTemporal=tempfile.mkdtemp()\n",
    "arquivoSchema = os.path.join(directorioTemporal, \"user.avsc\")\n",
    "writer = open(arquivoSchema, \"w\", encoding=\"UTF-8\")\n",
    "\n",
    "writer.write('{\"namespace\": \"example.avro\",')\n",
    "writer.write('\"type\": \"record\",')\n",
    "writer.write('\"name\": \"User\",')\n",
    "writer.write('\"fields\": [')\n",
    "writer.write('     {\"name\": \"name\", \"type\": \"string\"},')\n",
    "writer.write('     {\"name\": \"favorite_number\",  \"type\": [\"int\", \"null\"]},')\n",
    "writer.write('     {\"name\": \"favorite_color\", \"type\": [\"string\", \"null\"]}')\n",
    "writer.write(']')\n",
    "writer.write('}')\n",
    "\n",
    "writer.close()"
   ]
  },
  {
   "cell_type": "code",
   "execution_count": 4,
   "metadata": {},
   "outputs": [
    {
     "name": "stdout",
     "output_type": "stream",
     "text": [
      "{'name': 'Alyssa', 'favorite_number': 256, 'favorite_color': None}\n",
      "{'name': 'Ben', 'favorite_number': 7, 'favorite_color': 'red'}\n"
     ]
    }
   ],
   "source": [
    "arquivoAVRO = os.path.join(directorioTemporal, \"users.avro\")\n",
    "\n",
    "schema = avro.schema.parse(open(arquivoSchema, \"rb\").read())\n",
    "\n",
    "writer = DataFileWriter(open(arquivoAVRO, \"wb\"), DatumWriter(), schema)\n",
    "writer.append({\"name\": \"Alyssa\", \"favorite_number\": 256})\n",
    "writer.append({\"name\": \"Ben\", \"favorite_number\": 7, \"favorite_color\": \"red\"})\n",
    "writer.close()\n",
    "\n",
    "reader = DataFileReader(open(arquivoAVRO, \"rb\"), DatumReader())\n",
    "for user in reader:\n",
    "    print(user)\n",
    "reader.close()"
   ]
  },
  {
   "attachments": {},
   "cell_type": "markdown",
   "metadata": {},
   "source": [
    "**Baseado en**: <https://avro.apache.org/docs/1.11.1/getting-started-python/>"
   ]
  }
 ],
 "metadata": {
  "kernelspec": {
   "display_name": "bigdata",
   "language": "python",
   "name": "python3"
  },
  "language_info": {
   "codemirror_mode": {
    "name": "ipython",
    "version": 3
   },
   "file_extension": ".py",
   "mimetype": "text/x-python",
   "name": "python",
   "nbconvert_exporter": "python",
   "pygments_lexer": "ipython3",
   "version": "3.8.18"
  },
  "orig_nbformat": 4,
  "vscode": {
   "interpreter": {
    "hash": "6f2c8ca1a79d6d82f32e116612cbd8f0319de1d4a0a5509748c0bfa14525846a"
   }
  }
 },
 "nbformat": 4,
 "nbformat_minor": 2
}
