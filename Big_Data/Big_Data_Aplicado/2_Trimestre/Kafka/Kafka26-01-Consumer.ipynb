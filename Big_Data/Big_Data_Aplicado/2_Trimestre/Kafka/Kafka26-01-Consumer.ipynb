{
 "cells": [
  {
   "cell_type": "code",
   "execution_count": 7,
   "metadata": {},
   "outputs": [
    {
     "name": "stdout",
     "output_type": "stream",
     "text": [
      "{'nombre': 'producer 0'}\n",
      "{'nombre': 'producer 1'}\n",
      "{'nombre': 'producer 2'}\n",
      "{'nombre': 'producer 3'}\n",
      "{'nombre': 'producer 4'}\n",
      "{'nombre': 'producer 5'}\n",
      "{'nombre': 'producer 6'}\n",
      "{'nombre': 'producer 7'}\n",
      "{'nombre': 'producer 8'}\n",
      "{'nombre': 'producer 9'}\n",
      "{'nombre': 'producer 0'}\n",
      "{'nombre': 'producer 1'}\n",
      "{'nombre': 'producer 2'}\n",
      "{'nombre': 'producer 3'}\n",
      "{'nombre': 'producer 4'}\n",
      "{'nombre': 'producer 5'}\n",
      "{'nombre': 'producer 6'}\n",
      "{'nombre': 'producer 7'}\n",
      "{'nombre': 'producer 8'}\n",
      "{'nombre': 'producer 9'}\n",
      "{'nombre': 'producer 0'}\n",
      "{'nombre': 'producer 1'}\n",
      "{'nombre': 'producer 2'}\n",
      "{'nombre': 'producer 3'}\n",
      "{'nombre': 'producer 4'}\n",
      "{'nombre': 'producer 5'}\n",
      "{'nombre': 'producer 6'}\n",
      "{'nombre': 'producer 7'}\n",
      "{'nombre': 'producer 8'}\n",
      "{'nombre': 'producer 9'}\n",
      "{'nombre': 'producer 0'}\n",
      "{'nombre': 'producer 1'}\n",
      "{'nombre': 'producer 2'}\n",
      "{'nombre': 'producer 3'}\n",
      "{'nombre': 'producer 4'}\n",
      "{'nombre': 'producer 5'}\n",
      "{'nombre': 'producer 6'}\n",
      "{'nombre': 'producer 7'}\n",
      "{'nombre': 'producer 8'}\n",
      "{'nombre': 'producer 9'}\n"
     ]
    },
    {
     "ename": "KeyboardInterrupt",
     "evalue": "",
     "output_type": "error",
     "traceback": [
      "\u001b[1;31m---------------------------------------------------------------------------\u001b[0m",
      "\u001b[1;31mKeyboardInterrupt\u001b[0m                         Traceback (most recent call last)",
      "\u001b[1;32mc:\\Users\\diego.guizanlopez\\Documents\\BigDataEIa\\Big_Data\\Big_Data_Aplicado\\2_Trimestre\\Kafka\\Kafka26-01-Consumer.ipynb Celda 1\u001b[0m line \u001b[0;36m1\n\u001b[0;32m      <a href='vscode-notebook-cell:/c%3A/Users/diego.guizanlopez/Documents/BigDataEIa/Big_Data/Big_Data_Aplicado/2_Trimestre/Kafka/Kafka26-01-Consumer.ipynb#W0sZmlsZQ%3D%3D?line=1'>2</a>\u001b[0m \u001b[39mfrom\u001b[39;00m \u001b[39mjson\u001b[39;00m \u001b[39mimport\u001b[39;00m loads\n\u001b[0;32m      <a href='vscode-notebook-cell:/c%3A/Users/diego.guizanlopez/Documents/BigDataEIa/Big_Data/Big_Data_Aplicado/2_Trimestre/Kafka/Kafka26-01-Consumer.ipynb#W0sZmlsZQ%3D%3D?line=3'>4</a>\u001b[0m consumer \u001b[39m=\u001b[39m KafkaConsumer(\n\u001b[0;32m      <a href='vscode-notebook-cell:/c%3A/Users/diego.guizanlopez/Documents/BigDataEIa/Big_Data/Big_Data_Aplicado/2_Trimestre/Kafka/Kafka26-01-Consumer.ipynb#W0sZmlsZQ%3D%3D?line=4'>5</a>\u001b[0m     \u001b[39m'\u001b[39m\u001b[39miabd-topic\u001b[39m\u001b[39m'\u001b[39m,\n\u001b[0;32m      <a href='vscode-notebook-cell:/c%3A/Users/diego.guizanlopez/Documents/BigDataEIa/Big_Data/Big_Data_Aplicado/2_Trimestre/Kafka/Kafka26-01-Consumer.ipynb#W0sZmlsZQ%3D%3D?line=5'>6</a>\u001b[0m     auto_offset_reset\u001b[39m=\u001b[39m\u001b[39m'\u001b[39m\u001b[39mearliest\u001b[39m\u001b[39m'\u001b[39m,\n\u001b[1;32m   (...)\u001b[0m\n\u001b[0;32m      <a href='vscode-notebook-cell:/c%3A/Users/diego.guizanlopez/Documents/BigDataEIa/Big_Data/Big_Data_Aplicado/2_Trimestre/Kafka/Kafka26-01-Consumer.ipynb#W0sZmlsZQ%3D%3D?line=8'>9</a>\u001b[0m     value_deserializer\u001b[39m=\u001b[39m\u001b[39mlambda\u001b[39;00m m: loads(m\u001b[39m.\u001b[39mdecode(\u001b[39m'\u001b[39m\u001b[39mutf-8\u001b[39m\u001b[39m'\u001b[39m)),\n\u001b[0;32m     <a href='vscode-notebook-cell:/c%3A/Users/diego.guizanlopez/Documents/BigDataEIa/Big_Data/Big_Data_Aplicado/2_Trimestre/Kafka/Kafka26-01-Consumer.ipynb#W0sZmlsZQ%3D%3D?line=9'>10</a>\u001b[0m     bootstrap_servers\u001b[39m=\u001b[39m[\u001b[39m'\u001b[39m\u001b[39m127.0.0.1:9092\u001b[39m\u001b[39m'\u001b[39m],)\n\u001b[1;32m---> <a href='vscode-notebook-cell:/c%3A/Users/diego.guizanlopez/Documents/BigDataEIa/Big_Data/Big_Data_Aplicado/2_Trimestre/Kafka/Kafka26-01-Consumer.ipynb#W0sZmlsZQ%3D%3D?line=11'>12</a>\u001b[0m \u001b[39mfor\u001b[39;00m m \u001b[39min\u001b[39;00m consumer:\n\u001b[0;32m     <a href='vscode-notebook-cell:/c%3A/Users/diego.guizanlopez/Documents/BigDataEIa/Big_Data/Big_Data_Aplicado/2_Trimestre/Kafka/Kafka26-01-Consumer.ipynb#W0sZmlsZQ%3D%3D?line=12'>13</a>\u001b[0m     \u001b[39mprint\u001b[39m(m\u001b[39m.\u001b[39mvalue)\n",
      "File \u001b[1;32mc:\\Users\\diego.guizanlopez\\AppData\\Local\\miniconda3\\envs\\bigdata\\lib\\site-packages\\kafka\\consumer\\group.py:1193\u001b[0m, in \u001b[0;36mKafkaConsumer.__next__\u001b[1;34m(self)\u001b[0m\n\u001b[0;32m   1191\u001b[0m     \u001b[39mreturn\u001b[39;00m \u001b[39mself\u001b[39m\u001b[39m.\u001b[39mnext_v1()\n\u001b[0;32m   1192\u001b[0m \u001b[39melse\u001b[39;00m:\n\u001b[1;32m-> 1193\u001b[0m     \u001b[39mreturn\u001b[39;00m \u001b[39mself\u001b[39;49m\u001b[39m.\u001b[39;49mnext_v2()\n",
      "File \u001b[1;32mc:\\Users\\diego.guizanlopez\\AppData\\Local\\miniconda3\\envs\\bigdata\\lib\\site-packages\\kafka\\consumer\\group.py:1201\u001b[0m, in \u001b[0;36mKafkaConsumer.next_v2\u001b[1;34m(self)\u001b[0m\n\u001b[0;32m   1199\u001b[0m     \u001b[39mself\u001b[39m\u001b[39m.\u001b[39m_iterator \u001b[39m=\u001b[39m \u001b[39mself\u001b[39m\u001b[39m.\u001b[39m_message_generator_v2()\n\u001b[0;32m   1200\u001b[0m \u001b[39mtry\u001b[39;00m:\n\u001b[1;32m-> 1201\u001b[0m     \u001b[39mreturn\u001b[39;00m \u001b[39mnext\u001b[39;49m(\u001b[39mself\u001b[39;49m\u001b[39m.\u001b[39;49m_iterator)\n\u001b[0;32m   1202\u001b[0m \u001b[39mexcept\u001b[39;00m \u001b[39mStopIteration\u001b[39;00m:\n\u001b[0;32m   1203\u001b[0m     \u001b[39mself\u001b[39m\u001b[39m.\u001b[39m_iterator \u001b[39m=\u001b[39m \u001b[39mNone\u001b[39;00m\n",
      "File \u001b[1;32mc:\\Users\\diego.guizanlopez\\AppData\\Local\\miniconda3\\envs\\bigdata\\lib\\site-packages\\kafka\\consumer\\group.py:1116\u001b[0m, in \u001b[0;36mKafkaConsumer._message_generator_v2\u001b[1;34m(self)\u001b[0m\n\u001b[0;32m   1114\u001b[0m \u001b[39mdef\u001b[39;00m \u001b[39m_message_generator_v2\u001b[39m(\u001b[39mself\u001b[39m):\n\u001b[0;32m   1115\u001b[0m     timeout_ms \u001b[39m=\u001b[39m \u001b[39m1000\u001b[39m \u001b[39m*\u001b[39m (\u001b[39mself\u001b[39m\u001b[39m.\u001b[39m_consumer_timeout \u001b[39m-\u001b[39m time\u001b[39m.\u001b[39mtime())\n\u001b[1;32m-> 1116\u001b[0m     record_map \u001b[39m=\u001b[39m \u001b[39mself\u001b[39;49m\u001b[39m.\u001b[39;49mpoll(timeout_ms\u001b[39m=\u001b[39;49mtimeout_ms, update_offsets\u001b[39m=\u001b[39;49m\u001b[39mFalse\u001b[39;49;00m)\n\u001b[0;32m   1117\u001b[0m     \u001b[39mfor\u001b[39;00m tp, records \u001b[39min\u001b[39;00m six\u001b[39m.\u001b[39miteritems(record_map):\n\u001b[0;32m   1118\u001b[0m         \u001b[39m# Generators are stateful, and it is possible that the tp / records\u001b[39;00m\n\u001b[0;32m   1119\u001b[0m         \u001b[39m# here may become stale during iteration -- i.e., we seek to a\u001b[39;00m\n\u001b[0;32m   1120\u001b[0m         \u001b[39m# different offset, pause consumption, or lose assignment.\u001b[39;00m\n\u001b[0;32m   1121\u001b[0m         \u001b[39mfor\u001b[39;00m record \u001b[39min\u001b[39;00m records:\n\u001b[0;32m   1122\u001b[0m             \u001b[39m# is_fetchable(tp) should handle assignment changes and offset\u001b[39;00m\n\u001b[0;32m   1123\u001b[0m             \u001b[39m# resets; for all other changes (e.g., seeks) we'll rely on the\u001b[39;00m\n\u001b[0;32m   1124\u001b[0m             \u001b[39m# outer function destroying the existing iterator/generator\u001b[39;00m\n\u001b[0;32m   1125\u001b[0m             \u001b[39m# via self._iterator = None\u001b[39;00m\n",
      "File \u001b[1;32mc:\\Users\\diego.guizanlopez\\AppData\\Local\\miniconda3\\envs\\bigdata\\lib\\site-packages\\kafka\\consumer\\group.py:655\u001b[0m, in \u001b[0;36mKafkaConsumer.poll\u001b[1;34m(self, timeout_ms, max_records, update_offsets)\u001b[0m\n\u001b[0;32m    653\u001b[0m remaining \u001b[39m=\u001b[39m timeout_ms\n\u001b[0;32m    654\u001b[0m \u001b[39mwhile\u001b[39;00m \u001b[39mTrue\u001b[39;00m:\n\u001b[1;32m--> 655\u001b[0m     records \u001b[39m=\u001b[39m \u001b[39mself\u001b[39;49m\u001b[39m.\u001b[39;49m_poll_once(remaining, max_records, update_offsets\u001b[39m=\u001b[39;49mupdate_offsets)\n\u001b[0;32m    656\u001b[0m     \u001b[39mif\u001b[39;00m records:\n\u001b[0;32m    657\u001b[0m         \u001b[39mreturn\u001b[39;00m records\n",
      "File \u001b[1;32mc:\\Users\\diego.guizanlopez\\AppData\\Local\\miniconda3\\envs\\bigdata\\lib\\site-packages\\kafka\\consumer\\group.py:702\u001b[0m, in \u001b[0;36mKafkaConsumer._poll_once\u001b[1;34m(self, timeout_ms, max_records, update_offsets)\u001b[0m\n\u001b[0;32m    699\u001b[0m     \u001b[39mself\u001b[39m\u001b[39m.\u001b[39m_client\u001b[39m.\u001b[39mpoll(timeout_ms\u001b[39m=\u001b[39m\u001b[39m0\u001b[39m)\n\u001b[0;32m    701\u001b[0m timeout_ms \u001b[39m=\u001b[39m \u001b[39mmin\u001b[39m(timeout_ms, \u001b[39mself\u001b[39m\u001b[39m.\u001b[39m_coordinator\u001b[39m.\u001b[39mtime_to_next_poll() \u001b[39m*\u001b[39m \u001b[39m1000\u001b[39m)\n\u001b[1;32m--> 702\u001b[0m \u001b[39mself\u001b[39;49m\u001b[39m.\u001b[39;49m_client\u001b[39m.\u001b[39;49mpoll(timeout_ms\u001b[39m=\u001b[39;49mtimeout_ms)\n\u001b[0;32m    703\u001b[0m \u001b[39m# after the long poll, we should check whether the group needs to rebalance\u001b[39;00m\n\u001b[0;32m    704\u001b[0m \u001b[39m# prior to returning data so that the group can stabilize faster\u001b[39;00m\n\u001b[0;32m    705\u001b[0m \u001b[39mif\u001b[39;00m \u001b[39mself\u001b[39m\u001b[39m.\u001b[39m_coordinator\u001b[39m.\u001b[39mneed_rejoin():\n",
      "File \u001b[1;32mc:\\Users\\diego.guizanlopez\\AppData\\Local\\miniconda3\\envs\\bigdata\\lib\\site-packages\\kafka\\client_async.py:602\u001b[0m, in \u001b[0;36mKafkaClient.poll\u001b[1;34m(self, timeout_ms, future)\u001b[0m\n\u001b[0;32m    599\u001b[0m             timeout \u001b[39m=\u001b[39m \u001b[39mmin\u001b[39m(timeout, \u001b[39mself\u001b[39m\u001b[39m.\u001b[39mconfig[\u001b[39m'\u001b[39m\u001b[39mretry_backoff_ms\u001b[39m\u001b[39m'\u001b[39m])\n\u001b[0;32m    600\u001b[0m         timeout \u001b[39m=\u001b[39m \u001b[39mmax\u001b[39m(\u001b[39m0\u001b[39m, timeout)  \u001b[39m# avoid negative timeouts\u001b[39;00m\n\u001b[1;32m--> 602\u001b[0m     \u001b[39mself\u001b[39;49m\u001b[39m.\u001b[39;49m_poll(timeout \u001b[39m/\u001b[39;49m \u001b[39m1000\u001b[39;49m)\n\u001b[0;32m    604\u001b[0m \u001b[39m# called without the lock to avoid deadlock potential\u001b[39;00m\n\u001b[0;32m    605\u001b[0m \u001b[39m# if handlers need to acquire locks\u001b[39;00m\n\u001b[0;32m    606\u001b[0m responses\u001b[39m.\u001b[39mextend(\u001b[39mself\u001b[39m\u001b[39m.\u001b[39m_fire_pending_completed_requests())\n",
      "File \u001b[1;32mc:\\Users\\diego.guizanlopez\\AppData\\Local\\miniconda3\\envs\\bigdata\\lib\\site-packages\\kafka\\client_async.py:634\u001b[0m, in \u001b[0;36mKafkaClient._poll\u001b[1;34m(self, timeout)\u001b[0m\n\u001b[0;32m    631\u001b[0m \u001b[39mself\u001b[39m\u001b[39m.\u001b[39m_register_send_sockets()\n\u001b[0;32m    633\u001b[0m start_select \u001b[39m=\u001b[39m time\u001b[39m.\u001b[39mtime()\n\u001b[1;32m--> 634\u001b[0m ready \u001b[39m=\u001b[39m \u001b[39mself\u001b[39;49m\u001b[39m.\u001b[39;49m_selector\u001b[39m.\u001b[39;49mselect(timeout)\n\u001b[0;32m    635\u001b[0m end_select \u001b[39m=\u001b[39m time\u001b[39m.\u001b[39mtime()\n\u001b[0;32m    636\u001b[0m \u001b[39mif\u001b[39;00m \u001b[39mself\u001b[39m\u001b[39m.\u001b[39m_sensors:\n",
      "File \u001b[1;32mc:\\Users\\diego.guizanlopez\\AppData\\Local\\miniconda3\\envs\\bigdata\\lib\\selectors.py:323\u001b[0m, in \u001b[0;36mSelectSelector.select\u001b[1;34m(self, timeout)\u001b[0m\n\u001b[0;32m    321\u001b[0m ready \u001b[39m=\u001b[39m []\n\u001b[0;32m    322\u001b[0m \u001b[39mtry\u001b[39;00m:\n\u001b[1;32m--> 323\u001b[0m     r, w, _ \u001b[39m=\u001b[39m \u001b[39mself\u001b[39;49m\u001b[39m.\u001b[39;49m_select(\u001b[39mself\u001b[39;49m\u001b[39m.\u001b[39;49m_readers, \u001b[39mself\u001b[39;49m\u001b[39m.\u001b[39;49m_writers, [], timeout)\n\u001b[0;32m    324\u001b[0m \u001b[39mexcept\u001b[39;00m \u001b[39mInterruptedError\u001b[39;00m:\n\u001b[0;32m    325\u001b[0m     \u001b[39mreturn\u001b[39;00m ready\n",
      "File \u001b[1;32mc:\\Users\\diego.guizanlopez\\AppData\\Local\\miniconda3\\envs\\bigdata\\lib\\selectors.py:314\u001b[0m, in \u001b[0;36mSelectSelector._select\u001b[1;34m(self, r, w, _, timeout)\u001b[0m\n\u001b[0;32m    313\u001b[0m \u001b[39mdef\u001b[39;00m \u001b[39m_select\u001b[39m(\u001b[39mself\u001b[39m, r, w, _, timeout\u001b[39m=\u001b[39m\u001b[39mNone\u001b[39;00m):\n\u001b[1;32m--> 314\u001b[0m     r, w, x \u001b[39m=\u001b[39m select\u001b[39m.\u001b[39;49mselect(r, w, w, timeout)\n\u001b[0;32m    315\u001b[0m     \u001b[39mreturn\u001b[39;00m r, w \u001b[39m+\u001b[39m x, []\n",
      "\u001b[1;31mKeyboardInterrupt\u001b[0m: "
     ]
    }
   ],
   "source": [
    "from kafka import KafkaConsumer\n",
    "from json import loads\n",
    "\n",
    "consumer = KafkaConsumer(\n",
    "    'iabd-topic',\n",
    "    auto_offset_reset='earliest',\n",
    "    enable_auto_commit=True,\n",
    "    group_id='iabd-grupo-1',\n",
    "    value_deserializer=lambda m: loads(m.decode('utf-8')),\n",
    "    bootstrap_servers=['127.0.0.1:9092'],)\n",
    "\n",
    "for m in consumer:\n",
    "    print(m.value)"
   ]
  }
 ],
 "metadata": {
  "kernelspec": {
   "display_name": "bigdata",
   "language": "python",
   "name": "python3"
  },
  "language_info": {
   "codemirror_mode": {
    "name": "ipython",
    "version": 3
   },
   "file_extension": ".py",
   "mimetype": "text/x-python",
   "name": "python",
   "nbconvert_exporter": "python",
   "pygments_lexer": "ipython3",
   "version": "3.8.18"
  }
 },
 "nbformat": 4,
 "nbformat_minor": 2
}
