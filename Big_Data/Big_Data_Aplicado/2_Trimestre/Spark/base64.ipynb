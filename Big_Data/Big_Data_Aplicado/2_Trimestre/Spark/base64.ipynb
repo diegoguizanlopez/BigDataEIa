{
 "cells": [
  {
   "cell_type": "code",
   "execution_count": 1,
   "metadata": {},
   "outputs": [
    {
     "data": {
      "text/plain": [
       "b'UFJVRUJBIGRlIHRleHRvIGRlIGJhc2U2NCDDocOxd2E='"
      ]
     },
     "execution_count": 1,
     "metadata": {},
     "output_type": "execute_result"
    }
   ],
   "source": [
    "import base64\n",
    "\n",
    "texto = \"PRUEBA de texto de base64 áñwa\"\n",
    "textob64 = base64.b64encode(bytes(texto,'utf-8'))\n",
    "textob64"
   ]
  },
  {
   "cell_type": "code",
   "execution_count": 2,
   "metadata": {},
   "outputs": [
    {
     "name": "stdout",
     "output_type": "stream",
     "text": [
      "b'PRUEBA de texto de base64 \\xc3\\xa1\\xc3\\xb1wa'\n"
     ]
    }
   ],
   "source": [
    "print(base64.b64decode(textob64))"
   ]
  }
 ],
 "metadata": {
  "kernelspec": {
   "display_name": "bigdata",
   "language": "python",
   "name": "python3"
  },
  "language_info": {
   "codemirror_mode": {
    "name": "ipython",
    "version": 3
   },
   "file_extension": ".py",
   "mimetype": "text/x-python",
   "name": "python",
   "nbconvert_exporter": "python",
   "pygments_lexer": "ipython3",
   "version": "3.8.18"
  }
 },
 "nbformat": 4,
 "nbformat_minor": 2
}
