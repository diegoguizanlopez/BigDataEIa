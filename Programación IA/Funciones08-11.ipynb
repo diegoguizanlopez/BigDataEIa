{
 "cells": [
  {
   "cell_type": "markdown",
   "metadata": {},
   "source": [
    "# Manejo de Funciones"
   ]
  },
  {
   "cell_type": "markdown",
   "metadata": {},
   "source": [
    "Con la lista sobreescribiendo"
   ]
  },
  {
   "cell_type": "code",
   "execution_count": null,
   "metadata": {},
   "outputs": [],
   "source": [
    "def cuadrado(lista=[0,1,2,4,8,16]):\n",
    "    \"\"\"\n",
    "        La idea es utilizar la misma lista sobreescribiendo\n",
    "        :param list lista: Lista que se sobreescribirá\n",
    "    \"\"\"\n",
    "    lista2 = []\n",
    "    for i in lista:\n",
    "        lista2.append(i**2)\n",
    "    return lista2\n",
    "\n",
    "def cuadradoV2(lista):\n",
    "    return list(i**2 for i in lista)\n",
    "\n",
    "\n",
    "l = (1,8,45,78)\n",
    "l = cuadrado(l)\n",
    "l = cuadradoV2(l)\n",
    "l = cuadrado()\n",
    "l = cuadrado(lista=l)\n",
    "print(l)"
   ]
  },
  {
   "cell_type": "markdown",
   "metadata": {},
   "source": [
    "Con varios argumentos"
   ]
  },
  {
   "cell_type": "code",
   "execution_count": null,
   "metadata": {},
   "outputs": [],
   "source": [
    "def funcion_con_cualquier_numero_de_argumentos(*args):\n",
    "    \"\"\"\n",
    "        La idea es utilizar cualquier número de argumentos\n",
    "        :param list(x) args: Lista de valores varios que se sobreescribirá\n",
    "    \"\"\"\n",
    "    print(args[0])\n",
    "    return list(i**2 for i in args[1])\n",
    "\n",
    "l=funcion_con_cualquier_numero_de_argumentos(\"HOLAA\",l)\n",
    "print(l)"
   ]
  },
  {
   "cell_type": "markdown",
   "metadata": {},
   "source": [
    "Con argumentos en forma de mapa"
   ]
  },
  {
   "cell_type": "code",
   "execution_count": 3,
   "metadata": {},
   "outputs": [
    {
     "name": "stdout",
     "output_type": "stream",
     "text": [
      "naranjas\n",
      "melones\n",
      "manzanas\n",
      "12.06\n"
     ]
    }
   ],
   "source": [
    "def suma_compra(**kargs):\n",
    "    s = 0\n",
    "    for k,v in kargs.items():\n",
    "        print(k)\n",
    "        s+=v\n",
    "    return s\n",
    "\n",
    "s = suma_compra(naranjas=4.5,melones=5,manzanas=2.56)\n",
    "print(s)"
   ]
  },
  {
   "cell_type": "markdown",
   "metadata": {},
   "source": [
    "Sirve para indicar que valores hay solo mejora la documentación"
   ]
  },
  {
   "cell_type": "code",
   "execution_count": 6,
   "metadata": {},
   "outputs": [],
   "source": [
    "def funciones_indicando_tipo(numero: int, cadena:str=\"Valor por defecto\"):\n",
    "    pass"
   ]
  },
  {
   "cell_type": "markdown",
   "metadata": {},
   "source": [
    "**EXPRESIÓN LAMBDA**"
   ]
  },
  {
   "cell_type": "code",
   "execution_count": 7,
   "metadata": {},
   "outputs": [
    {
     "name": "stdout",
     "output_type": "stream",
     "text": [
      "100\n"
     ]
    }
   ],
   "source": [
    "f = lambda t: t**2\n",
    "s = f(10)\n",
    "print(s)"
   ]
  },
  {
   "cell_type": "markdown",
   "metadata": {},
   "source": [
    "**ORDENACIÓN POR X VALOR**"
   ]
  },
  {
   "cell_type": "code",
   "execution_count": 12,
   "metadata": {},
   "outputs": [
    {
     "name": "stdout",
     "output_type": "stream",
     "text": [
      "[(1, 7), (5, 9), (6, 3)]\n"
     ]
    }
   ],
   "source": [
    "f = [(1,7),(5,9),(6,3)]\n",
    "s = sorted(f,key=lambda t:t[0])\n",
    "print(s)"
   ]
  }
 ],
 "metadata": {
  "kernelspec": {
   "display_name": "ia",
   "language": "python",
   "name": "python3"
  },
  "language_info": {
   "codemirror_mode": {
    "name": "ipython",
    "version": 3
   },
   "file_extension": ".py",
   "mimetype": "text/x-python",
   "name": "python",
   "nbconvert_exporter": "python",
   "pygments_lexer": "ipython3",
   "version": "3.8.18"
  }
 },
 "nbformat": 4,
 "nbformat_minor": 2
}
