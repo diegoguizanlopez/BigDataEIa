{
 "cells": [
  {
   "cell_type": "markdown",
   "metadata": {},
   "source": [
    "# **PANDAS**\n",
    "Gestión de tablas con recogida de datos via URL"
   ]
  },
  {
   "cell_type": "code",
   "execution_count": 60,
   "metadata": {},
   "outputs": [],
   "source": [
    "import numpy as np\n",
    "import pandas as pd"
   ]
  },
  {
   "cell_type": "code",
   "execution_count": 61,
   "metadata": {},
   "outputs": [
    {
     "data": {
      "text/plain": [
       "ventasA    10\n",
       "ventasB    12\n",
       "ventasC    12\n",
       "ventasD    13\n",
       "Name: VENTAS, dtype: int64"
      ]
     },
     "execution_count": 61,
     "metadata": {},
     "output_type": "execute_result"
    }
   ],
   "source": [
    "s = pd.Series([10,12,12,13], index=[\"ventasA\", \"ventasB\", \"ventasC\", \"ventasD\"], name=\"VENTAS\")\n",
    "s\n"
   ]
  },
  {
   "cell_type": "code",
   "execution_count": 62,
   "metadata": {},
   "outputs": [
    {
     "data": {
      "text/plain": [
       "ventasA    10.0\n",
       "ventasB    12.0\n",
       "ventasC    12.0\n",
       "ventasD    13.0\n",
       "Name: VENTAS, dtype: float64"
      ]
     },
     "execution_count": 62,
     "metadata": {},
     "output_type": "execute_result"
    }
   ],
   "source": [
    "s.index\n",
    "s.values\n",
    "s.dtype\n",
    "s.astype(float)"
   ]
  },
  {
   "cell_type": "code",
   "execution_count": 63,
   "metadata": {},
   "outputs": [
    {
     "data": {
      "text/plain": [
       "12"
      ]
     },
     "execution_count": 63,
     "metadata": {},
     "output_type": "execute_result"
    }
   ],
   "source": [
    "s.iloc[1]\n",
    "#s[\"ventasB\"]\n",
    "s.loc[\"ventasB\"]\n",
    "s.ventasB"
   ]
  },
  {
   "cell_type": "code",
   "execution_count": 64,
   "metadata": {},
   "outputs": [
    {
     "data": {
      "text/plain": [
       "ventasA    10\n",
       "ventasB    12\n",
       "ventasC    12\n",
       "ventasD    13\n",
       "Name: VENTAS, dtype: int64"
      ]
     },
     "execution_count": 64,
     "metadata": {},
     "output_type": "execute_result"
    }
   ],
   "source": [
    "s.head()\n",
    "s.tail()"
   ]
  },
  {
   "cell_type": "code",
   "execution_count": 65,
   "metadata": {},
   "outputs": [
    {
     "data": {
      "text/plain": [
       "ventasA    False\n",
       "ventasB     True\n",
       "ventasC     True\n",
       "ventasD     True\n",
       "Name: VENTAS, dtype: bool"
      ]
     },
     "execution_count": 65,
     "metadata": {},
     "output_type": "execute_result"
    }
   ],
   "source": [
    "s > 11"
   ]
  },
  {
   "cell_type": "code",
   "execution_count": 66,
   "metadata": {},
   "outputs": [
    {
     "data": {
      "text/plain": [
       "ventasB    12\n",
       "ventasC    12\n",
       "ventasD    13\n",
       "Name: VENTAS, dtype: int64"
      ]
     },
     "execution_count": 66,
     "metadata": {},
     "output_type": "execute_result"
    }
   ],
   "source": [
    "s[s>11]"
   ]
  },
  {
   "cell_type": "code",
   "execution_count": 67,
   "metadata": {},
   "outputs": [
    {
     "data": {
      "text/plain": [
       "ventasA    10\n",
       "ventasB    22\n",
       "ventasC    22\n",
       "ventasD    23\n",
       "Name: VENTAS, dtype: int64"
      ]
     },
     "execution_count": 67,
     "metadata": {},
     "output_type": "execute_result"
    }
   ],
   "source": [
    "s[s > 11] = s[s > 11] +10\n",
    "s"
   ]
  },
  {
   "cell_type": "code",
   "execution_count": 68,
   "metadata": {},
   "outputs": [
    {
     "data": {
      "text/plain": [
       "VENTAS\n",
       "22    2\n",
       "10    1\n",
       "23    1\n",
       "Name: count, dtype: int64"
      ]
     },
     "execution_count": 68,
     "metadata": {},
     "output_type": "execute_result"
    }
   ],
   "source": [
    "s.value_counts()"
   ]
  },
  {
   "cell_type": "code",
   "execution_count": 69,
   "metadata": {},
   "outputs": [
    {
     "data": {
      "text/plain": [
       "22.0"
      ]
     },
     "execution_count": 69,
     "metadata": {},
     "output_type": "execute_result"
    }
   ],
   "source": [
    "s.unique()\n",
    "s.mean()\n",
    "s.std()\n",
    "s.median()"
   ]
  },
  {
   "cell_type": "code",
   "execution_count": 70,
   "metadata": {},
   "outputs": [
    {
     "data": {
      "text/html": [
       "<div>\n",
       "<style scoped>\n",
       "    .dataframe tbody tr th:only-of-type {\n",
       "        vertical-align: middle;\n",
       "    }\n",
       "\n",
       "    .dataframe tbody tr th {\n",
       "        vertical-align: top;\n",
       "    }\n",
       "\n",
       "    .dataframe thead th {\n",
       "        text-align: right;\n",
       "    }\n",
       "</style>\n",
       "<table border=\"1\" class=\"dataframe\">\n",
       "  <thead>\n",
       "    <tr style=\"text-align: right;\">\n",
       "      <th></th>\n",
       "      <th>A</th>\n",
       "      <th>B</th>\n",
       "    </tr>\n",
       "  </thead>\n",
       "  <tbody>\n",
       "    <tr>\n",
       "      <th>0</th>\n",
       "      <td>1</td>\n",
       "      <td>4</td>\n",
       "    </tr>\n",
       "    <tr>\n",
       "      <th>1</th>\n",
       "      <td>2</td>\n",
       "      <td>5</td>\n",
       "    </tr>\n",
       "    <tr>\n",
       "      <th>2</th>\n",
       "      <td>3</td>\n",
       "      <td>6</td>\n",
       "    </tr>\n",
       "  </tbody>\n",
       "</table>\n",
       "</div>"
      ],
      "text/plain": [
       "   A  B\n",
       "0  1  4\n",
       "1  2  5\n",
       "2  3  6"
      ]
     },
     "execution_count": 70,
     "metadata": {},
     "output_type": "execute_result"
    }
   ],
   "source": [
    "df = pd.DataFrame({\"A\":[1,2,3], \"B\":[4,5,6]})\n",
    "df"
   ]
  },
  {
   "cell_type": "code",
   "execution_count": 71,
   "metadata": {},
   "outputs": [
    {
     "data": {
      "text/html": [
       "<div>\n",
       "<style scoped>\n",
       "    .dataframe tbody tr th:only-of-type {\n",
       "        vertical-align: middle;\n",
       "    }\n",
       "\n",
       "    .dataframe tbody tr th {\n",
       "        vertical-align: top;\n",
       "    }\n",
       "\n",
       "    .dataframe thead th {\n",
       "        text-align: right;\n",
       "    }\n",
       "</style>\n",
       "<table border=\"1\" class=\"dataframe\">\n",
       "  <thead>\n",
       "    <tr style=\"text-align: right;\">\n",
       "      <th></th>\n",
       "      <th>A</th>\n",
       "      <th>B</th>\n",
       "      <th>C</th>\n",
       "    </tr>\n",
       "  </thead>\n",
       "  <tbody>\n",
       "    <tr>\n",
       "      <th>0</th>\n",
       "      <td>1</td>\n",
       "      <td>2</td>\n",
       "      <td>3</td>\n",
       "    </tr>\n",
       "    <tr>\n",
       "      <th>1</th>\n",
       "      <td>4</td>\n",
       "      <td>5</td>\n",
       "      <td>6</td>\n",
       "    </tr>\n",
       "  </tbody>\n",
       "</table>\n",
       "</div>"
      ],
      "text/plain": [
       "   A  B  C\n",
       "0  1  2  3\n",
       "1  4  5  6"
      ]
     },
     "execution_count": 71,
     "metadata": {},
     "output_type": "execute_result"
    }
   ],
   "source": [
    "df = pd.DataFrame([{\"A\":1, \"B\":2, \"C\":3}, {\"A\":4, \"B\":5, \"C\":6}])\n",
    "df"
   ]
  },
  {
   "cell_type": "code",
   "execution_count": 82,
   "metadata": {},
   "outputs": [
    {
     "data": {
      "text/html": [
       "<div>\n",
       "<style scoped>\n",
       "    .dataframe tbody tr th:only-of-type {\n",
       "        vertical-align: middle;\n",
       "    }\n",
       "\n",
       "    .dataframe tbody tr th {\n",
       "        vertical-align: top;\n",
       "    }\n",
       "\n",
       "    .dataframe thead th {\n",
       "        text-align: right;\n",
       "    }\n",
       "</style>\n",
       "<table border=\"1\" class=\"dataframe\">\n",
       "  <thead>\n",
       "    <tr style=\"text-align: right;\">\n",
       "      <th></th>\n",
       "      <th>Isla (excepto La Graciosa)</th>\n",
       "      <th>Bandera</th>\n",
       "      <th>Escudo</th>\n",
       "      <th>Municipios</th>\n",
       "      <th>Capital</th>\n",
       "      <th>Área (km²)</th>\n",
       "      <th>Población (2022)[18]​</th>\n",
       "    </tr>\n",
       "  </thead>\n",
       "  <tbody>\n",
       "    <tr>\n",
       "      <th>0</th>\n",
       "      <td>El Hierro</td>\n",
       "      <td>NaN</td>\n",
       "      <td>NaN</td>\n",
       "      <td>3</td>\n",
       "      <td>Valverde</td>\n",
       "      <td>26871</td>\n",
       "      <td>11 423</td>\n",
       "    </tr>\n",
       "    <tr>\n",
       "      <th>1</th>\n",
       "      <td>Fuerteventura[nota 10]​</td>\n",
       "      <td>NaN</td>\n",
       "      <td>NaN</td>\n",
       "      <td>6</td>\n",
       "      <td>Puerto del Rosario</td>\n",
       "      <td>1665,74[nota 11]​</td>\n",
       "      <td>120 021</td>\n",
       "    </tr>\n",
       "    <tr>\n",
       "      <th>2</th>\n",
       "      <td>Gran Canaria</td>\n",
       "      <td>NaN</td>\n",
       "      <td>NaN</td>\n",
       "      <td>21</td>\n",
       "      <td>Las Palmas de Gran Canaria</td>\n",
       "      <td>156010</td>\n",
       "      <td>853 262</td>\n",
       "    </tr>\n",
       "    <tr>\n",
       "      <th>3</th>\n",
       "      <td>La Gomera</td>\n",
       "      <td>NaN</td>\n",
       "      <td>NaN</td>\n",
       "      <td>6</td>\n",
       "      <td>San Sebastián de La Gomera</td>\n",
       "      <td>36976</td>\n",
       "      <td>21 798</td>\n",
       "    </tr>\n",
       "    <tr>\n",
       "      <th>4</th>\n",
       "      <td>Lanzarote[nota 12]​</td>\n",
       "      <td>NaN</td>\n",
       "      <td>NaN</td>\n",
       "      <td>7</td>\n",
       "      <td>Arrecife</td>\n",
       "      <td>888,07[nota 13]​</td>\n",
       "      <td>156 112[nota 14]​</td>\n",
       "    </tr>\n",
       "    <tr>\n",
       "      <th>5</th>\n",
       "      <td>La Palma</td>\n",
       "      <td>NaN</td>\n",
       "      <td>NaN</td>\n",
       "      <td>14</td>\n",
       "      <td>Santa Cruz de La Palma</td>\n",
       "      <td>70832</td>\n",
       "      <td>83 439</td>\n",
       "    </tr>\n",
       "    <tr>\n",
       "      <th>6</th>\n",
       "      <td>Tenerife</td>\n",
       "      <td>NaN</td>\n",
       "      <td>NaN</td>\n",
       "      <td>31</td>\n",
       "      <td>Santa Cruz de Tenerife</td>\n",
       "      <td>203438</td>\n",
       "      <td>931 646</td>\n",
       "    </tr>\n",
       "  </tbody>\n",
       "</table>\n",
       "</div>"
      ],
      "text/plain": [
       "  Isla (excepto La Graciosa)  Bandera  Escudo  Municipios  \\\n",
       "0                  El Hierro      NaN     NaN           3   \n",
       "1    Fuerteventura[nota 10]​      NaN     NaN           6   \n",
       "2               Gran Canaria      NaN     NaN          21   \n",
       "3                  La Gomera      NaN     NaN           6   \n",
       "4        Lanzarote[nota 12]​      NaN     NaN           7   \n",
       "5                   La Palma      NaN     NaN          14   \n",
       "6                   Tenerife      NaN     NaN          31   \n",
       "\n",
       "                      Capital         Área (km²) Población (2022)[18]​  \n",
       "0                    Valverde              26871                11 423  \n",
       "1          Puerto del Rosario  1665,74[nota 11]​               120 021  \n",
       "2  Las Palmas de Gran Canaria             156010               853 262  \n",
       "3  San Sebastián de La Gomera              36976                21 798  \n",
       "4                    Arrecife   888,07[nota 13]​     156 112[nota 14]​  \n",
       "5      Santa Cruz de La Palma              70832                83 439  \n",
       "6      Santa Cruz de Tenerife             203438               931 646  "
      ]
     },
     "execution_count": 82,
     "metadata": {},
     "output_type": "execute_result"
    }
   ],
   "source": [
    "dfl = pd.read_html(\"https://es.wikipedia.org/wiki/Canarias\")    #RECUPERA LOS DATOS DE LA WIKI\n",
    "dfl\n",
    "df = dfl[9]     #RESTRINGE SOLO A 9 COLUMNAS\n",
    "df"
   ]
  },
  {
   "cell_type": "code",
   "execution_count": 83,
   "metadata": {},
   "outputs": [
    {
     "name": "stdout",
     "output_type": "stream",
     "text": [
      "Index(['Isla (excepto La Graciosa)', 'Bandera', 'Escudo', 'Municipios',\n",
      "       'Capital', 'Área (km²)', 'Población (2022)[18]​'],\n",
      "      dtype='object')\n"
     ]
    },
    {
     "data": {
      "text/html": [
       "<div>\n",
       "<style scoped>\n",
       "    .dataframe tbody tr th:only-of-type {\n",
       "        vertical-align: middle;\n",
       "    }\n",
       "\n",
       "    .dataframe tbody tr th {\n",
       "        vertical-align: top;\n",
       "    }\n",
       "\n",
       "    .dataframe thead th {\n",
       "        text-align: right;\n",
       "    }\n",
       "</style>\n",
       "<table border=\"1\" class=\"dataframe\">\n",
       "  <thead>\n",
       "    <tr style=\"text-align: right;\">\n",
       "      <th></th>\n",
       "      <th>Isla</th>\n",
       "      <th>Municipios</th>\n",
       "      <th>Capital</th>\n",
       "      <th>Area</th>\n",
       "      <th>Poblacion</th>\n",
       "    </tr>\n",
       "  </thead>\n",
       "  <tbody>\n",
       "    <tr>\n",
       "      <th>0</th>\n",
       "      <td>El Hierro</td>\n",
       "      <td>3</td>\n",
       "      <td>Valverde</td>\n",
       "      <td>26871</td>\n",
       "      <td>11 423</td>\n",
       "    </tr>\n",
       "    <tr>\n",
       "      <th>1</th>\n",
       "      <td>Fuerteventura[nota 10]​</td>\n",
       "      <td>6</td>\n",
       "      <td>Puerto del Rosario</td>\n",
       "      <td>1665,74[nota 11]​</td>\n",
       "      <td>120 021</td>\n",
       "    </tr>\n",
       "    <tr>\n",
       "      <th>2</th>\n",
       "      <td>Gran Canaria</td>\n",
       "      <td>21</td>\n",
       "      <td>Las Palmas de Gran Canaria</td>\n",
       "      <td>156010</td>\n",
       "      <td>853 262</td>\n",
       "    </tr>\n",
       "    <tr>\n",
       "      <th>3</th>\n",
       "      <td>La Gomera</td>\n",
       "      <td>6</td>\n",
       "      <td>San Sebastián de La Gomera</td>\n",
       "      <td>36976</td>\n",
       "      <td>21 798</td>\n",
       "    </tr>\n",
       "    <tr>\n",
       "      <th>4</th>\n",
       "      <td>Lanzarote[nota 12]​</td>\n",
       "      <td>7</td>\n",
       "      <td>Arrecife</td>\n",
       "      <td>888,07[nota 13]​</td>\n",
       "      <td>156 112[nota 14]​</td>\n",
       "    </tr>\n",
       "    <tr>\n",
       "      <th>5</th>\n",
       "      <td>La Palma</td>\n",
       "      <td>14</td>\n",
       "      <td>Santa Cruz de La Palma</td>\n",
       "      <td>70832</td>\n",
       "      <td>83 439</td>\n",
       "    </tr>\n",
       "    <tr>\n",
       "      <th>6</th>\n",
       "      <td>Tenerife</td>\n",
       "      <td>31</td>\n",
       "      <td>Santa Cruz de Tenerife</td>\n",
       "      <td>203438</td>\n",
       "      <td>931 646</td>\n",
       "    </tr>\n",
       "  </tbody>\n",
       "</table>\n",
       "</div>"
      ],
      "text/plain": [
       "                      Isla  Municipios                     Capital  \\\n",
       "0                El Hierro           3                    Valverde   \n",
       "1  Fuerteventura[nota 10]​           6          Puerto del Rosario   \n",
       "2             Gran Canaria          21  Las Palmas de Gran Canaria   \n",
       "3                La Gomera           6  San Sebastián de La Gomera   \n",
       "4      Lanzarote[nota 12]​           7                    Arrecife   \n",
       "5                 La Palma          14      Santa Cruz de La Palma   \n",
       "6                 Tenerife          31      Santa Cruz de Tenerife   \n",
       "\n",
       "                Area          Poblacion  \n",
       "0              26871             11 423  \n",
       "1  1665,74[nota 11]​            120 021  \n",
       "2             156010            853 262  \n",
       "3              36976             21 798  \n",
       "4   888,07[nota 13]​  156 112[nota 14]​  \n",
       "5              70832             83 439  \n",
       "6             203438            931 646  "
      ]
     },
     "execution_count": 83,
     "metadata": {},
     "output_type": "execute_result"
    }
   ],
   "source": [
    "print(df.columns)   #DICE QUE COLUMNAS HAY\n",
    "#df.drop([\"Bandera\", \"Escudo\"], axis=1, inplace=True)\n",
    "df = df.drop([\"Bandera\", \"Escudo\"], axis=1)         #BORRA ESTAS COLUMNAS PARA QUE NO APAREZCAN\n",
    "df.columns = [\"Isla\", \"Municipios\", \"Capital\", \"Area\", \"Poblacion\"]     #INDICA QUE COLUMNAS MOSTRAR\n",
    "df\n"
   ]
  },
  {
   "cell_type": "code",
   "execution_count": 84,
   "metadata": {},
   "outputs": [
    {
     "data": {
      "text/plain": [
       "0     26871.00\n",
       "1      1665.74\n",
       "2    156010.00\n",
       "3     36976.00\n",
       "4       888.07\n",
       "5     70832.00\n",
       "6    203438.00\n",
       "Name: Area, dtype: float64"
      ]
     },
     "execution_count": 84,
     "metadata": {},
     "output_type": "execute_result"
    }
   ],
   "source": [
    "df.columns = [\"Isla\", \"Municipios\", \"Capital\", \"Area\", \"Poblacion\"] #INDICA LAS COLUMNAS\n",
    "#df[[\"Area\", \"Capital\"]] #SE MUESTRAN SOLO ESAS DE LAS ANTERIOR SELECCIONADAS\n",
    "df[\"Area\"] = df[\"Area\"].str.replace(\",\", \".\")       #REMPLAZA LAS \",\" por \".\" en AREA\n",
    "df[\"Area\"] = df[\"Area\"].str.extract(f\"(^[.0-9]+)\")  #LIMPIA LOS QUE NO TIENEN FORMATO CORRECTO\n",
    "df[\"Area\"] = df[\"Area\"].astype(float)               #TRANSFORMA EL TIPO A FLOAT\n",
    "df[\"Area\"]"
   ]
  },
  {
   "cell_type": "code",
   "execution_count": 85,
   "metadata": {},
   "outputs": [
    {
     "name": "stdout",
     "output_type": "stream",
     "text": [
      "11 423\n",
      "49\n",
      "49\n",
      "160\n",
      "52\n",
      "50\n",
      "51\n"
     ]
    }
   ],
   "source": [
    "df                                                  #ASÍ IRÍA EL FILTRADO DE DATOS POR LO DE AHORA APLICADO EL ÁREA\n",
    "s=df.Poblacion.iloc[0]\n",
    "print(s)\n",
    "for i in s:\n",
    "  print(ord(i))                                     #PARA SABER EL ORI CORE Y NOS VAMOS A LA TABLA ASCII"
   ]
  },
  {
   "cell_type": "code",
   "execution_count": null,
   "metadata": {},
   "outputs": [],
   "source": [
    "df[\"Poblacion\"] = df[\"Poblacion\"].str.replace(chr(160), \"\").str.extract(f\"(^[.0-9]+)\").astype(float)  #REMPLAZAMOS EL CHARACTER 160 QUE ERA ESPACIO RARO POR NADA Y FORMATO PARA FILTRAR LO QUE NO CONTIENE 0-9"
   ]
  },
  {
   "cell_type": "code",
   "execution_count": 89,
   "metadata": {},
   "outputs": [
    {
     "data": {
      "text/html": [
       "<div>\n",
       "<style scoped>\n",
       "    .dataframe tbody tr th:only-of-type {\n",
       "        vertical-align: middle;\n",
       "    }\n",
       "\n",
       "    .dataframe tbody tr th {\n",
       "        vertical-align: top;\n",
       "    }\n",
       "\n",
       "    .dataframe thead th {\n",
       "        text-align: right;\n",
       "    }\n",
       "</style>\n",
       "<table border=\"1\" class=\"dataframe\">\n",
       "  <thead>\n",
       "    <tr style=\"text-align: right;\">\n",
       "      <th></th>\n",
       "      <th>Isla</th>\n",
       "      <th>Municipios</th>\n",
       "      <th>Capital</th>\n",
       "      <th>Area</th>\n",
       "      <th>Poblacion</th>\n",
       "    </tr>\n",
       "  </thead>\n",
       "  <tbody>\n",
       "    <tr>\n",
       "      <th>0</th>\n",
       "      <td>El Hierro</td>\n",
       "      <td>3</td>\n",
       "      <td>Valverde</td>\n",
       "      <td>26871.00</td>\n",
       "      <td>11423.0</td>\n",
       "    </tr>\n",
       "    <tr>\n",
       "      <th>1</th>\n",
       "      <td>Fuerteventura</td>\n",
       "      <td>6</td>\n",
       "      <td>Puerto del Rosario</td>\n",
       "      <td>1665.74</td>\n",
       "      <td>120021.0</td>\n",
       "    </tr>\n",
       "    <tr>\n",
       "      <th>2</th>\n",
       "      <td>Gran Canaria</td>\n",
       "      <td>21</td>\n",
       "      <td>Las Palmas de Gran Canaria</td>\n",
       "      <td>156010.00</td>\n",
       "      <td>853262.0</td>\n",
       "    </tr>\n",
       "    <tr>\n",
       "      <th>3</th>\n",
       "      <td>La Gomera</td>\n",
       "      <td>6</td>\n",
       "      <td>San Sebastián de La Gomera</td>\n",
       "      <td>36976.00</td>\n",
       "      <td>21798.0</td>\n",
       "    </tr>\n",
       "    <tr>\n",
       "      <th>4</th>\n",
       "      <td>Lanzarote</td>\n",
       "      <td>7</td>\n",
       "      <td>Arrecife</td>\n",
       "      <td>888.07</td>\n",
       "      <td>156112.0</td>\n",
       "    </tr>\n",
       "    <tr>\n",
       "      <th>5</th>\n",
       "      <td>La Palma</td>\n",
       "      <td>14</td>\n",
       "      <td>Santa Cruz de La Palma</td>\n",
       "      <td>70832.00</td>\n",
       "      <td>83439.0</td>\n",
       "    </tr>\n",
       "    <tr>\n",
       "      <th>6</th>\n",
       "      <td>Tenerife</td>\n",
       "      <td>31</td>\n",
       "      <td>Santa Cruz de Tenerife</td>\n",
       "      <td>203438.00</td>\n",
       "      <td>931646.0</td>\n",
       "    </tr>\n",
       "  </tbody>\n",
       "</table>\n",
       "</div>"
      ],
      "text/plain": [
       "            Isla  Municipios                     Capital       Area  Poblacion\n",
       "0      El Hierro           3                    Valverde   26871.00    11423.0\n",
       "1  Fuerteventura           6          Puerto del Rosario    1665.74   120021.0\n",
       "2   Gran Canaria          21  Las Palmas de Gran Canaria  156010.00   853262.0\n",
       "3      La Gomera           6  San Sebastián de La Gomera   36976.00    21798.0\n",
       "4      Lanzarote           7                    Arrecife     888.07   156112.0\n",
       "5       La Palma          14      Santa Cruz de La Palma   70832.00    83439.0\n",
       "6       Tenerife          31      Santa Cruz de Tenerife  203438.00   931646.0"
      ]
     },
     "execution_count": 89,
     "metadata": {},
     "output_type": "execute_result"
    }
   ],
   "source": [
    "df[\"Isla\"] = df[\"Isla\"].str.extract(f\"(^[^\\[]+)\")           #EXTRAEMOS TODA LA BASURA DE ISLA\n",
    "df"
   ]
  },
  {
   "cell_type": "code",
   "execution_count": null,
   "metadata": {},
   "outputs": [],
   "source": []
  }
 ],
 "metadata": {
  "kernelspec": {
   "display_name": "ia",
   "language": "python",
   "name": "python3"
  },
  "language_info": {
   "codemirror_mode": {
    "name": "ipython",
    "version": 3
   },
   "file_extension": ".py",
   "mimetype": "text/x-python",
   "name": "python",
   "nbconvert_exporter": "python",
   "pygments_lexer": "ipython3",
   "version": "3.8.18"
  }
 },
 "nbformat": 4,
 "nbformat_minor": 2
}
