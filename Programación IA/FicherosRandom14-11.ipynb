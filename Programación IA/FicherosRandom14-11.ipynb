{
 "cells": [
  {
   "cell_type": "markdown",
   "metadata": {},
   "source": [
    "# **RANDOM**"
   ]
  },
  {
   "cell_type": "code",
   "execution_count": 26,
   "metadata": {},
   "outputs": [
    {
     "name": "stdout",
     "output_type": "stream",
     "text": [
      "9.095134 --- 0\n",
      "9.09164 --- 1\n",
      "9.085266 --- 2\n",
      "9.089716000000001 --- 3\n",
      "9.091172 --- 4\n",
      "9.088826 --- 5\n",
      "9.090479 --- 6\n",
      "9.088528 --- 7\n",
      "9.094326 --- 8\n",
      "9.092347 --- 9\n",
      "9.092566 --- 10\n"
     ]
    }
   ],
   "source": [
    "from random import randint as rdi\n",
    "\n",
    "list=[0 for i in range(11)]\n",
    "x=100000000\n",
    "for i in range(x):\n",
    "    list[rdi(0,10)]+=1\n",
    "for index,i in enumerate(list):\n",
    "    \tprint(f\"{(i/x)*100} --- {index}\")"
   ]
  },
  {
   "cell_type": "markdown",
   "metadata": {},
   "source": [
    "**FICHEROS**"
   ]
  },
  {
   "cell_type": "code",
   "execution_count": 20,
   "metadata": {},
   "outputs": [
    {
     "data": {
      "text/plain": [
       "['c:\\\\Users\\\\diego.guizanlopez\\\\Desktop\\\\Programación IA',\n",
       " 'c:\\\\Users\\\\diego.guizanlopez\\\\AppData\\\\Local\\\\miniconda3\\\\envs\\\\ia\\\\python38.zip',\n",
       " 'c:\\\\Users\\\\diego.guizanlopez\\\\AppData\\\\Local\\\\miniconda3\\\\envs\\\\ia\\\\DLLs',\n",
       " 'c:\\\\Users\\\\diego.guizanlopez\\\\AppData\\\\Local\\\\miniconda3\\\\envs\\\\ia\\\\lib',\n",
       " 'c:\\\\Users\\\\diego.guizanlopez\\\\AppData\\\\Local\\\\miniconda3\\\\envs\\\\ia',\n",
       " '',\n",
       " 'c:\\\\Users\\\\diego.guizanlopez\\\\AppData\\\\Local\\\\miniconda3\\\\envs\\\\ia\\\\lib\\\\site-packages',\n",
       " 'c:\\\\Users\\\\diego.guizanlopez\\\\AppData\\\\Local\\\\miniconda3\\\\envs\\\\ia\\\\lib\\\\site-packages\\\\win32',\n",
       " 'c:\\\\Users\\\\diego.guizanlopez\\\\AppData\\\\Local\\\\miniconda3\\\\envs\\\\ia\\\\lib\\\\site-packages\\\\win32\\\\lib',\n",
       " 'c:\\\\Users\\\\diego.guizanlopez\\\\AppData\\\\Local\\\\miniconda3\\\\envs\\\\ia\\\\lib\\\\site-packages\\\\Pythonwin']"
      ]
     },
     "execution_count": 20,
     "metadata": {},
     "output_type": "execute_result"
    }
   ],
   "source": [
    "import sys\n",
    "\n",
    "\n",
    "sys.path"
   ]
  }
 ],
 "metadata": {
  "kernelspec": {
   "display_name": "ia",
   "language": "python",
   "name": "python3"
  },
  "language_info": {
   "codemirror_mode": {
    "name": "ipython",
    "version": 3
   },
   "file_extension": ".py",
   "mimetype": "text/x-python",
   "name": "python",
   "nbconvert_exporter": "python",
   "pygments_lexer": "ipython3",
   "version": "3.8.18"
  }
 },
 "nbformat": 4,
 "nbformat_minor": 2
}
