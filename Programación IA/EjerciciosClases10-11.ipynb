{
 "cells": [
  {
   "cell_type": "markdown",
   "metadata": {},
   "source": [
    "# **CREACIÓN DE CLASES EJERCICIO 10/11**"
   ]
  },
  {
   "cell_type": "markdown",
   "metadata": {},
   "source": [
    "**PERSONA**"
   ]
  },
  {
   "cell_type": "code",
   "execution_count": 49,
   "metadata": {},
   "outputs": [],
   "source": [
    "class Persona:\n",
    "    def __init__(self,nombre,edad,dni):\n",
    "        self._nombre=nombre\n",
    "        self._edad=edad\n",
    "        self._dni=dni\n",
    "    \n",
    "    @property\n",
    "    def Nombre(self):\n",
    "        return self._nombre\n",
    "\n",
    "    @Nombre.setter\n",
    "    def Nombre(self,v):\n",
    "        self._nombre = v\n",
    "\n",
    "    @property\n",
    "    def Edad(self):\n",
    "        return self._edad\n",
    "\n",
    "    @Edad.setter\n",
    "    def Edad(self,v):\n",
    "        self._edad = v\n",
    "\n",
    "    @property\n",
    "    def Dni(self):\n",
    "        return self._dni\n",
    "\n",
    "    @Dni.setter\n",
    "    def Dni(self,v):\n",
    "        self._dni = v\n",
    "    \n",
    "    def mostrar(self):\n",
    "        print(f\"\"\"Persona:\n",
    "        Nombre: {self._nombre}\n",
    "        Edad: {self._edad}\n",
    "        DNI: {self._dni}\"\"\")\n",
    "    \n",
    "    def esMayorDeEdad(self):\n",
    "        return self._edad >=18\n",
    "        \n",
    "    \n"
   ]
  },
  {
   "cell_type": "code",
   "execution_count": null,
   "metadata": {},
   "outputs": [],
   "source": [
    "p = Persona(\"Juan\",21,\"80291293P\")\n",
    "print(p.Edad)\n",
    "p.mostrar()\n",
    "print(p.esMayorDeEdad())"
   ]
  },
  {
   "cell_type": "markdown",
   "metadata": {},
   "source": [
    "**CUENTA**"
   ]
  },
  {
   "cell_type": "code",
   "execution_count": 2,
   "metadata": {},
   "outputs": [],
   "source": [
    "class Cuenta:\n",
    "    \n",
    "    def __init__(self,titular,cantidad=0):\n",
    "        self._titular=titular\n",
    "        self._cantidad=cantidad\n",
    "\n",
    "    @property\n",
    "    def Titular(self):\n",
    "        return self._nombre\n",
    "\n",
    "    @Titular.setter\n",
    "    def Titular(self,v):\n",
    "        self._titular = v\n",
    "\n",
    "    @property\n",
    "    def Cantidad(self):\n",
    "        return self._cantidad\n",
    "\n",
    "    @Cantidad.setter\n",
    "    def Cantidad(self,v):\n",
    "        self._cantidad = v\n",
    "\n",
    "    def mostrar(self):\n",
    "        print(f\"\"\"Cuenta:\n",
    "        Cantidad: {self._cantidad}\"\"\")\n",
    "        self._titular.mostrar()\n",
    "\n",
    "    def ingresar(self,cantidad):\n",
    "        self._cantidad += cantidad if cantidad>0 else 0 \n",
    "\n",
    "    def retirar(self,cantidad):\n",
    "        self._cantidad -= cantidad if cantidad>0 else 0\n"
   ]
  },
  {
   "cell_type": "code",
   "execution_count": 50,
   "metadata": {},
   "outputs": [
    {
     "name": "stdout",
     "output_type": "stream",
     "text": [
      "Cuenta:\n",
      "        Cantidad: 200\n",
      "Persona:\n",
      "        Nombre: Juan\n",
      "        Edad: 21\n",
      "        DNI: 80291293P\n",
      "----------------\n",
      "Cuenta:\n",
      "        Cantidad: 50\n",
      "Persona:\n",
      "        Nombre: Juan\n",
      "        Edad: 21\n",
      "        DNI: 80291293P\n",
      "----------------\n",
      "Cuenta:\n",
      "        Cantidad: 50\n",
      "Persona:\n",
      "        Nombre: Juan\n",
      "        Edad: 21\n",
      "        DNI: 80291293P\n",
      "----------------\n"
     ]
    }
   ],
   "source": [
    "c = Cuenta(p,100)\n",
    "c.ingresar(100)\n",
    "c.mostrar()\n",
    "print(\"----------------\")\n",
    "c.retirar(150)\n",
    "c.mostrar()\n",
    "print(\"----------------\")\n",
    "c.retirar(-10)\n",
    "c.mostrar()\n",
    "print(\"----------------\")"
   ]
  },
  {
   "cell_type": "markdown",
   "metadata": {},
   "source": [
    "**CUENTA JOVEN**"
   ]
  },
  {
   "cell_type": "code",
   "execution_count": 53,
   "metadata": {},
   "outputs": [],
   "source": [
    "class CuentaJoven(Cuenta):\n",
    "    def __init__(self, titular,bonificacion,cantidad=0):\n",
    "        super().__init__(titular, cantidad)\n",
    "        self._bonificacion=bonificacion\n",
    "\n",
    "    @property\n",
    "    def Bonificacion(self):\n",
    "        return self._bonificacion\n",
    "\n",
    "    @Bonificacion.setter\n",
    "    def Bonificacion(self,v):\n",
    "        self._bonificacion = v\n",
    "    \n",
    "    def esTitularValido(self):\n",
    "        return self._titular._edad >= 18 and self._titular._edad <25\n",
    "\n",
    "    def retirar(self, cantidad):\n",
    "        return super().retirar(cantidad) if self.esTitularValido() and self._cantidad-cantidad>=0 else None\n",
    "    \n",
    "    def mostrar(self):\n",
    "        print(f\"\"\"CUENTA JOVEN:\n",
    "        Bonificación: {self._bonificacion}% \"\"\")\n",
    "        return super().mostrar()\n",
    "    "
   ]
  },
  {
   "cell_type": "code",
   "execution_count": 52,
   "metadata": {},
   "outputs": [
    {
     "name": "stdout",
     "output_type": "stream",
     "text": [
      "True\n",
      "CUENTA JOVEN:\n",
      "        Bonificación: 40% \n",
      "Cuenta:\n",
      "        Cantidad: 200\n",
      "Persona:\n",
      "        Nombre: Juan\n",
      "        Edad: 21\n",
      "        DNI: 80291293P\n"
     ]
    }
   ],
   "source": [
    "c = CuentaJoven(p,40,200)\n",
    "print(c.esTitularValido())\n",
    "c.retirar(300)\n",
    "c.mostrar()"
   ]
  },
  {
   "cell_type": "code",
   "execution_count": null,
   "metadata": {},
   "outputs": [],
   "source": []
  }
 ],
 "metadata": {
  "kernelspec": {
   "display_name": "ia",
   "language": "python",
   "name": "python3"
  },
  "language_info": {
   "codemirror_mode": {
    "name": "ipython",
    "version": 3
   },
   "file_extension": ".py",
   "mimetype": "text/x-python",
   "name": "python",
   "nbconvert_exporter": "python",
   "pygments_lexer": "ipython3",
   "version": "3.8.18"
  }
 },
 "nbformat": 4,
 "nbformat_minor": 2
}
