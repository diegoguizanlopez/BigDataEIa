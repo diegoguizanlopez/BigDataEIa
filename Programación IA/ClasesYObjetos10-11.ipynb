{
 "cells": [
  {
   "cell_type": "markdown",
   "metadata": {},
   "source": [
    "# **PROGRAMACIÓN ORIENTADA A OBJETOS**"
   ]
  },
  {
   "cell_type": "code",
   "execution_count": 2,
   "metadata": {},
   "outputs": [],
   "source": [
    "class Vehiculo:\n",
    "    #Inicializar todas las variables que se van utilizar\n",
    "    # edad = 0 Es una variable que en todos los vehículos se comparten\n",
    "    def __init__(self,nombre=\"Este es mi nombre por defecto\"):\n",
    "        self._nombre = nombre\n",
    "        self.__vMax = 10\n",
    "        self.sonido = \"Brummmmmmm\"\n",
    "        self.potencia = 20\n",
    "\n",
    "    def haz_ruido(self,ruido):\n",
    "        if isinstance(ruido,str):\n",
    "            print(ruido)\n",
    "        else:\n",
    "            print(f\"BRUM x{ruido}\")\n",
    "\n",
    "    @property\n",
    "    def nombre(self):\n",
    "        \"\"\"\n",
    "        NOMBRE DEL OBJETO\n",
    "        \"\"\" \n",
    "        return f\"Nombre -> {self._nombre}\"\n",
    "\n",
    "    @nombre.setter\n",
    "    def nombre(self, v):\n",
    "        self._nombre = v\n",
    "\n",
    "    def __add__(self,Vehiculo_2):\n",
    "        \"\"\"\n",
    "        PERMITE SUMAR LOS OBJETOS REALIZANDO LO Q SE INDICA ABAJO\n",
    "        \"\"\"\n",
    "        nuevo = Vehiculo(\"abc\")\n",
    "        nuevo.potencia = self.potencia + Vehiculo_2.potencia\n",
    "        return nuevo\n",
    "        "
   ]
  },
  {
   "cell_type": "code",
   "execution_count": null,
   "metadata": {},
   "outputs": [],
   "source": [
    "v = Vehiculo()\n",
    "v.haz_ruido(\"FIUM\",\"U\")\n",
    "v.haz_ruido(10)\n",
    "v.nombre = \"Prueba\"\n",
    "print(v.nombre)\n",
    "\n",
    "#Variables creadas sobre la marcha\n",
    "v.sonidoCreadaSobreMarcha = \"Brrrr\"\n",
    "print(v.sonido)"
   ]
  },
  {
   "cell_type": "markdown",
   "metadata": {},
   "source": [
    "**CLASES SUPEROCULTAS**"
   ]
  },
  {
   "cell_type": "code",
   "execution_count": null,
   "metadata": {},
   "outputs": [],
   "source": [
    "print(v._Vehiculo__vMax)\n",
    "v._Vehiculo__vMax = 5\n",
    "print(v._Vehiculo__vMax)"
   ]
  },
  {
   "cell_type": "markdown",
   "metadata": {},
   "source": [
    "**SOBRECARGA DE MÉTODOS**"
   ]
  },
  {
   "cell_type": "code",
   "execution_count": null,
   "metadata": {},
   "outputs": [],
   "source": [
    "print((Vehiculo(\"Prueba de vehiculo\")+v).potencia)"
   ]
  },
  {
   "cell_type": "markdown",
   "metadata": {},
   "source": [
    "**HERENCIA**"
   ]
  },
  {
   "cell_type": "code",
   "execution_count": 14,
   "metadata": {},
   "outputs": [],
   "source": [
    "class Coche(Vehiculo):\n",
    "    \n",
    "    def __init__(self,nombre):\n",
    "        super().__init__(nombre)\n",
    "        self.sonido = \"PIIII\"\n",
    "        self.ruedas = 4\n",
    "\n",
    "    def __str__(self) :\n",
    "        return f\"Coche de tipo {self.nombre} , potencia {self.potencia} y {self.ruedas} ruedas\""
   ]
  },
  {
   "cell_type": "code",
   "execution_count": 15,
   "metadata": {},
   "outputs": [
    {
     "name": "stdout",
     "output_type": "stream",
     "text": [
      "PIIII\n",
      "4\n",
      "Nombre -> Nombre del coche\n",
      "Coche de tipo Nombre -> Nombre del coche , potencia 20 y 4 ruedas\n"
     ]
    }
   ],
   "source": [
    "c = Coche(\"Nombre del coche\")\n",
    "print(c.sonido)\n",
    "print(c.ruedas)\n",
    "print(c.nombre)\n",
    "print(c)"
   ]
  },
  {
   "cell_type": "code",
   "execution_count": null,
   "metadata": {},
   "outputs": [],
   "source": []
  }
 ],
 "metadata": {
  "kernelspec": {
   "display_name": "ia",
   "language": "python",
   "name": "python3"
  },
  "language_info": {
   "codemirror_mode": {
    "name": "ipython",
    "version": 3
   },
   "file_extension": ".py",
   "mimetype": "text/x-python",
   "name": "python",
   "nbconvert_exporter": "python",
   "pygments_lexer": "ipython3",
   "version": "3.8.18"
  }
 },
 "nbformat": 4,
 "nbformat_minor": 2
}
