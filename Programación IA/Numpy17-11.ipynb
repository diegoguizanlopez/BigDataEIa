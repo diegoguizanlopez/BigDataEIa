{
 "cells": [
  {
   "cell_type": "markdown",
   "metadata": {},
   "source": [
    "# **NUMPY**"
   ]
  },
  {
   "cell_type": "markdown",
   "metadata": {},
   "source": [
    "Trabajar con arrays"
   ]
  },
  {
   "cell_type": "code",
   "execution_count": 86,
   "metadata": {},
   "outputs": [
    {
     "name": "stdout",
     "output_type": "stream",
     "text": [
      "[[1 2 4 6]\n",
      " [5 2 6 9]] -- <class 'numpy.ndarray'>\n",
      "2\n",
      "(2, 4)\n",
      "int32\n",
      "float64\n",
      "8\n",
      "[[1. 2.]\n",
      " [4. 6.]\n",
      " [5. 2.]\n",
      " [6. 9.]]\n"
     ]
    }
   ],
   "source": [
    "import numpy as np\n",
    "\n",
    "x = np.array([[1,2,4,6],[5,2,6,9]])\n",
    "print(f\"{x} -- {type(x)}\")\n",
    "print(x.ndim)           #Nivel de dimensión \n",
    "print(x.shape)          #Altura por anchura\n",
    "print(x.dtype)          #Tipo de datos\n",
    "x = x.astype(float)     #Parseo de los datos\n",
    "print(x.dtype)\n",
    "print(x.size)           #Tamaño total\n",
    "x = np.resize(x,[8,1])  #Cambia el tamaño\n",
    "x.shape=([4,2])         #Cambia el tamaño\n",
    "print(x)"
   ]
  },
  {
   "cell_type": "code",
   "execution_count": 87,
   "metadata": {},
   "outputs": [
    {
     "name": "stdout",
     "output_type": "stream",
     "text": [
      "[[0. 0.]\n",
      " [0. 0.]\n",
      " [0. 0.]\n",
      " [0. 0.]\n",
      " [0. 0.]]\n",
      "##################\n",
      "[[1. 0. 0.]\n",
      " [0. 1. 0.]\n",
      " [0. 0. 1.]]\n"
     ]
    }
   ],
   "source": [
    "y = np.zeros((5,2))     #Generación de arrays de 0s\n",
    "print(y)\n",
    "print(\"##################\")\n",
    "y = np.eye(3)           #Matriz de identidad\n",
    "print(y)"
   ]
  },
  {
   "cell_type": "code",
   "execution_count": 88,
   "metadata": {},
   "outputs": [
    {
     "data": {
      "text/plain": [
       "array([2. , 2.5, 3. , 3.5, 4. , 4.5, 5. , 5.5])"
      ]
     },
     "execution_count": 88,
     "metadata": {},
     "output_type": "execute_result"
    }
   ],
   "source": [
    "x = np.arange(2,6,0.5,dtype=float) #Hace un array partiendo de x valor com suma de 0.5 6 cifras\n",
    "x"
   ]
  },
  {
   "cell_type": "code",
   "execution_count": 89,
   "metadata": {},
   "outputs": [
    {
     "name": "stdout",
     "output_type": "stream",
     "text": [
      "[2.         2.55555556 3.11111111 3.66666667 4.22222222 4.77777778\n",
      " 5.33333333 5.88888889 6.44444444 7.        ]\n"
     ]
    }
   ],
   "source": [
    "x = np.linspace(2,7, 10) #A partir de un valor inicial y final rellena 10 numeros intermedios para llegar al resultado\n",
    "print(x)"
   ]
  },
  {
   "cell_type": "code",
   "execution_count": 90,
   "metadata": {},
   "outputs": [
    {
     "data": {
      "text/plain": [
       "inf"
      ]
     },
     "execution_count": 90,
     "metadata": {},
     "output_type": "execute_result"
    }
   ],
   "source": [
    "np.random.seed(42)      #Inicializar generador 42 por el sentido de la vida xd\n",
    "x = np.random.randint(2,8)  #Random de números entre x e Y\n",
    "x = np.random.random(9)     #Genera nueve valores random entre 0-1\n",
    "x = np.random.uniform(10,20, size=10) #Entre 10 y 20 de 10 tamaño\n",
    "x = np.random.normal(10,20, size=10) #Genera un array que da de media 20 con 10 elementos\n",
    "x = np.random.choice([\"cara\", \"cruz\"], size = 10) #Elige 10 veces entre esos dos\n",
    "x = np.random.choice([0, 1], size = 10,p=[0.7,0.3]) #Entre 0 y 1 con probabilidades\n",
    "x = np.nan\n",
    "x = np.inf\n",
    "x "
   ]
  },
  {
   "cell_type": "code",
   "execution_count": 93,
   "metadata": {},
   "outputs": [
    {
     "name": "stdout",
     "output_type": "stream",
     "text": [
      "[[0 1 2]\n",
      " [3 4 5]\n",
      " [6 7 8]]\n",
      "[[ 0  1  2]\n",
      " [11 11 11]\n",
      " [11 11 11]]\n"
     ]
    }
   ],
   "source": [
    "x = np.array(range(9)).reshape((3,3))   #Crea un array hasta 9 de 3-3\n",
    "print(x)\n",
    "x[0:2, 1]               #Lonchea el array\n",
    "x[:, 1:3]               #Lonchea empezando por el 1 y 3 sin contar\n",
    "x[[2,1], [2,2]]         #De la fila 2 coge el elemento 2 luego de la fila 1 coge el elemento 2 teniendo en cuenta que se empieza en el 0\n",
    "x[[1,2, 0], [1,1, 1]]   #Lo mismo\n",
    "\n",
    "x[1:3, 0:3] = [[11], [11]]  #Subsituye los valores de cordenadas por 11s\n",
    "print(x)\n"
   ]
  },
  {
   "cell_type": "code",
   "execution_count": 104,
   "metadata": {},
   "outputs": [
    {
     "name": "stdout",
     "output_type": "stream",
     "text": [
      "[[False False False]\n",
      " [False  True  True]\n",
      " [ True  True  True]]\n"
     ]
    },
    {
     "data": {
      "text/plain": [
       "array([[ True,  True,  True],\n",
       "       [False, False, False],\n",
       "       [False, False, False]])"
      ]
     },
     "execution_count": 104,
     "metadata": {},
     "output_type": "execute_result"
    }
   ],
   "source": [
    "print(x >3)     #Dice cuales de los valores son mayores de 3 y hace un array booleano (SELECCIÓN BOOLEANA)\n",
    "x[x>3]          #Hace un array de valores > 3\n",
    "b = (x > 2)\n",
    "b = np.logical_not(b)   #Da la vuelta a los booleanos\n",
    "b"
   ]
  },
  {
   "cell_type": "code",
   "execution_count": 107,
   "metadata": {},
   "outputs": [
    {
     "name": "stdout",
     "output_type": "stream",
     "text": [
      "[[0 1 2]\n",
      " [3 4 5]\n",
      " [6 7 8]]\n",
      "[[ 5  6  7]\n",
      " [ 8  9 10]\n",
      " [11 12 13]]\n"
     ]
    }
   ],
   "source": [
    "x = np.array(range(9)).reshape((3,3))\n",
    "print(x)\n",
    "x=x+5\n",
    "print(x)"
   ]
  },
  {
   "cell_type": "code",
   "execution_count": 112,
   "metadata": {},
   "outputs": [
    {
     "data": {
      "text/plain": [
       "array([[ True,  True,  True],\n",
       "       [ True,  True,  True],\n",
       "       [ True,  True,  True]])"
      ]
     },
     "execution_count": 112,
     "metadata": {},
     "output_type": "execute_result"
    }
   ],
   "source": [
    "x = np.full(fill_value=True,shape=(3,3))    #3x3 De Trues\n",
    "x"
   ]
  },
  {
   "cell_type": "code",
   "execution_count": 115,
   "metadata": {},
   "outputs": [
    {
     "data": {
      "text/plain": [
       "array([0, 2, 4, 6, 8])"
      ]
     },
     "execution_count": 115,
     "metadata": {},
     "output_type": "execute_result"
    }
   ],
   "source": [
    "x=np.arange(10)     #Printar pares\n",
    "x[x%2==0]"
   ]
  },
  {
   "cell_type": "code",
   "execution_count": 116,
   "metadata": {},
   "outputs": [
    {
     "data": {
      "text/plain": [
       "array([ 0, -1,  2, -1,  4, -1,  6, -1,  8, -1])"
      ]
     },
     "execution_count": 116,
     "metadata": {},
     "output_type": "execute_result"
    }
   ],
   "source": [
    "x[x%2!=0]=-1        #Remplazar impares\n",
    "x"
   ]
  },
  {
   "cell_type": "code",
   "execution_count": 125,
   "metadata": {},
   "outputs": [
    {
     "name": "stdout",
     "output_type": "stream",
     "text": [
      "[[0 1 2 3 4]\n",
      " [5 6 7 8 9]]\n",
      "[ 5  7  9 11 13]\n",
      "[[10]\n",
      " [35]]\n"
     ]
    }
   ],
   "source": [
    "x = np.arange(10).reshape((-1,5))\n",
    "print(x)\n",
    "print(np.sum(x,axis=0))\n",
    "x = np.arange(10).reshape((-1,5))\n",
    "print(np.sum(x,axis=1,keepdims=True))       #KeepDims mantiene forma"
   ]
  },
  {
   "cell_type": "code",
   "execution_count": 134,
   "metadata": {},
   "outputs": [
    {
     "name": "stdout",
     "output_type": "stream",
     "text": [
      "[False  True False  True False  True False  True False False]\n"
     ]
    },
    {
     "data": {
      "text/plain": [
       "(array([0, 4, 6, 8, 9], dtype=int64),)"
      ]
     },
     "execution_count": 134,
     "metadata": {},
     "output_type": "execute_result"
    }
   ],
   "source": [
    "a = np.array([1,2,3,2,3,4,3,4,5,6])\n",
    "b = np.array([7,2,10,2,7,4,9,4,9,8])\n",
    "\n",
    "print(a == b)\n",
    "np.where((b > 5) & (b < 10))"
   ]
  },
  {
   "cell_type": "code",
   "execution_count": 136,
   "metadata": {},
   "outputs": [
    {
     "data": {
      "text/plain": [
       "array([[2, 1, 0],\n",
       "       [5, 4, 3],\n",
       "       [8, 7, 6]])"
      ]
     },
     "execution_count": 136,
     "metadata": {},
     "output_type": "execute_result"
    }
   ],
   "source": [
    "arr = np.arange(9).reshape(3,3)\n",
    "arr[:,[2,1,0]]                 # : Significa todas las filas"
   ]
  },
  {
   "cell_type": "code",
   "execution_count": 151,
   "metadata": {},
   "outputs": [
    {
     "data": {
      "text/plain": [
       "array([[9.53783237, 6.24646115, 7.05191462],\n",
       "       [8.77775569, 6.14399083, 5.38489955],\n",
       "       [6.44875726, 5.80610644, 9.64848826],\n",
       "       [9.0406019 , 8.16701878, 9.35730295],\n",
       "       [9.01836038, 5.93285029, 9.46279499]])"
      ]
     },
     "execution_count": 151,
     "metadata": {},
     "output_type": "execute_result"
    }
   ],
   "source": [
    "np.random.uniform(5,10,size=(5,3))"
   ]
  }
 ],
 "metadata": {
  "kernelspec": {
   "display_name": "ia",
   "language": "python",
   "name": "python3"
  },
  "language_info": {
   "codemirror_mode": {
    "name": "ipython",
    "version": 3
   },
   "file_extension": ".py",
   "mimetype": "text/x-python",
   "name": "python",
   "nbconvert_exporter": "python",
   "pygments_lexer": "ipython3",
   "version": "3.8.18"
  }
 },
 "nbformat": 4,
 "nbformat_minor": 2
}
