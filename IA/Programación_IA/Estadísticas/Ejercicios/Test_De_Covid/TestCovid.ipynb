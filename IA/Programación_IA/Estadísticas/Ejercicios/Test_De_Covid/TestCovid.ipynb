{
 "cells": [
  {
   "cell_type": "markdown",
   "metadata": {},
   "source": [
    "# Problema Bayes\n",
    "## Test de covid\n",
    "(datos extraídos de https://www.cochrane.org/es/CD013705/INFECTN_como-de-exactas-son-las-pruebas-rapidas-para-diagnosticar-la-covid-19 )\n",
    "\n",
    "Realizas el test de covid\n",
    "\n",
    "Calcula la probabilidad de estar infectado si el test dió positivo, y la probabilidad de estar infectado si el test dió negativo. Dibuja la matriz de contingencia\n",
    "\n",
    "- Según los resultados resumidos del SD Biosensor STANDARD Q en una mayor población de 10 000 personas sin síntomas, en la que 50  personas tuvieran realmente covid-19:\n",
    "- 125 personas darían positivo en la prueba de covid-19. De estas, 90 personas no tendrían covid-19 (resultado falso positivo).\n",
    "- 9875 personas darían negativo en la prueba de covid-19. De estas, 15 personas  tendrían realmente covid-19 (resultado falso negativo).\n",
    "-----------------------------------------------------------------------------------\n",
    "\n",
    "Calcula las probabilidades con los siguientes datos\n",
    "\n",
    "- Según los resultados resumidos del SD Biosensor STANDARD Q, si 1000 personas con síntomas se sometieran a la prueba de antígeno, y 50 de ellas tuvieran realmente covid-19:\n",
    "- 53 personas darían positivo en la prueba de covid-19. De estas, nueve personas  no tendrían covid-19 (resultado falso positivo).\n",
    "- 947 personas darían negativo en la prueba de covid-19. De estas, seis personas tendrían realmente covid-19 (resultado falso negativo)."
   ]
  },
  {
   "cell_type": "markdown",
   "metadata": {},
   "source": [
    "- SI INFECTADOS **I** = 50    **P(I)** = 50/10000 = 0.005\n",
    "\n",
    "- NO INFECTADOS **Î** = 9950  **P(Î)** = 9950/10000 = 0.995\n",
    "\n",
    "- SI TestCov+ **T+** = 125    **P(T+)** = 125/10000 = 0.0125\n",
    "\n",
    "- TestCov- **T-** = 9875      **P(T-)** = 9875/10000 = 0.9875"
   ]
  },
  {
   "cell_type": "markdown",
   "metadata": {},
   "source": [
    "- Test+ y NO Infectados = 90/9950 **P(T+/Î)**\n",
    "\n",
    "**P(Î/T+)** = 90/125\n",
    "\n",
    "- Test+ y SI Infectados = (125-90)/50 = 0.70 **P(T+/I)**\n",
    "\n",
    "**P(I/T+)** = (125-90)/125 = 0.28\n",
    "\n",
    "- Test- y SI Infectados = 15/50 = 0.30 **P(T-/I)** \n",
    "\n",
    "**P(I/T-)** = 15/9875 = 0.001519\n",
    "\n",
    "- Test- y NO Infectados = 9875-15 = 9860, 9860/9950 = 0.9909 **P(T-/Î)** \n",
    "\n",
    "**P(Î/T-)** = 9860/9875 = 0.9985"
   ]
  },
  {
   "cell_type": "markdown",
   "metadata": {},
   "source": [
    "|  | Test+ | Test- | Total\n",
    "---| --- | --- | --- |\n",
    "**Infección** | 35(Verdadero positivo) | 15(Falsos negativos) | 50\n",
    "**No Infección** | 90(Falsos positivos) | 9860 (Verdaderos negativos) | 9950\n",
    "**Total tipo** | 125 | 9875 | 10000\n"
   ]
  },
  {
   "cell_type": "markdown",
   "metadata": {},
   "source": [
    "P(I/T+) = ( P(T+/I) * P(I) ) / P(T+)\n",
    "\n",
    "P(I/T+) = ((35/50) * (50/10000) / (125/10000))"
   ]
  },
  {
   "cell_type": "markdown",
   "metadata": {},
   "source": [
    "# RESUMEN:\n",
    "- TOTAL\n",
    "    - 0.05\n",
    "        - 0.05 * **(P(T+/I)=35/50)**\n",
    "        - 0.05 * **(P(T-/I)=15/50)**\n",
    "    - 0.995\n",
    "        - 0.995 * **(P(T+/Î)=90/9950)**\n",
    "        - 0.995 * **(P(T-/Î)=(9875-15)/9950)**"
   ]
  }
 ],
 "metadata": {
  "kernelspec": {
   "display_name": "ia",
   "language": "python",
   "name": "python3"
  },
  "language_info": {
   "codemirror_mode": {
    "name": "ipython",
    "version": 3
   },
   "file_extension": ".py",
   "mimetype": "text/x-python",
   "name": "python",
   "nbconvert_exporter": "python",
   "pygments_lexer": "ipython3",
   "version": "3.8.18"
  }
 },
 "nbformat": 4,
 "nbformat_minor": 2
}
