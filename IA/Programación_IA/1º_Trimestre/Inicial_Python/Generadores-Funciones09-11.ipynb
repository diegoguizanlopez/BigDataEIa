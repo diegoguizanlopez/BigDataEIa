{
 "cells": [
  {
   "cell_type": "markdown",
   "metadata": {},
   "source": [
    "# **Generadores**"
   ]
  },
  {
   "cell_type": "code",
   "execution_count": null,
   "metadata": {},
   "outputs": [],
   "source": [
    "# Aquí se crea cuando es necesario a diferencia de range(x), entonces se realiza más rápido\n",
    "for i in [0,1,2,3,4,5]:\n",
    "    print(i)"
   ]
  },
  {
   "cell_type": "markdown",
   "metadata": {},
   "source": [
    "**Función generadora para generar pares**"
   ]
  },
  {
   "cell_type": "code",
   "execution_count": null,
   "metadata": {},
   "outputs": [],
   "source": [
    "# Yield permite suspender en ese momento la ejecución por lo que los valores se van suspendiendo hasta continua\n",
    "\n",
    "def pares(maximo):\n",
    "    for i in range(0,maximo,2):\n",
    "        yield i\n",
    "\n",
    "for i in pares(5000000):\n",
    "    print(i)"
   ]
  },
  {
   "cell_type": "markdown",
   "metadata": {},
   "source": [
    "# **Funciones**"
   ]
  },
  {
   "cell_type": "code",
   "execution_count": 1,
   "metadata": {},
   "outputs": [
    {
     "name": "stdout",
     "output_type": "stream",
     "text": [
      "Hola Pepe\n"
     ]
    }
   ],
   "source": [
    "def saluda(nombre):\n",
    "    print(f\"Hola {nombre}\")\n",
    "\n",
    "\n",
    "f = saluda\n",
    "\n",
    "f(\"Pepe\")"
   ]
  },
  {
   "cell_type": "markdown",
   "metadata": {},
   "source": [
    "# Llamar a una función en una función"
   ]
  },
  {
   "cell_type": "code",
   "execution_count": null,
   "metadata": {},
   "outputs": [],
   "source": [
    "def saludo(nombre):\n",
    "    x=3\n",
    "    def otro_saludo():\n",
    "        print(f\"x vale {3}\")\n",
    "    print(f\"Hola {nombre}\")\n",
    "    otro_saludo()\n",
    "\n",
    "saludo(\"Juan\")"
   ]
  },
  {
   "cell_type": "markdown",
   "metadata": {},
   "source": [
    "Acceder a la función por un puntero de la otra función"
   ]
  },
  {
   "cell_type": "code",
   "execution_count": 6,
   "metadata": {},
   "outputs": [
    {
     "name": "stdout",
     "output_type": "stream",
     "text": [
      "Hola Pepe\n",
      "x vale 3\n"
     ]
    }
   ],
   "source": [
    "def saludo(nombre):\n",
    "    x=3\n",
    "    def otro_saludo():\n",
    "        print(f\"x vale {3}\")\n",
    "    print(f\"Hola {nombre}\")\n",
    "    f = otro_saludo\n",
    "    return f\n",
    "\n",
    "f2 = saludo(\"Pepe\")\n",
    "f2()"
   ]
  },
  {
   "cell_type": "markdown",
   "metadata": {},
   "source": [
    "# Decoradores"
   ]
  },
  {
   "cell_type": "markdown",
   "metadata": {},
   "source": [
    "**Sirve para interceptar los valores y realizar funciones por el medio**"
   ]
  },
  {
   "cell_type": "code",
   "execution_count": null,
   "metadata": {},
   "outputs": [],
   "source": [
    "def decorador_prueba(funcion_org):\n",
    "    def envolvente():\n",
    "        print(\"entro en la envolvente\")\n",
    "        funcion_org()\n",
    "        print(\"salgo de la envolvente\")\n",
    "    return envolvente\n",
    "\n",
    "@decorador_prueba\n",
    "def functionTest():\n",
    "    print(\"Entro en la función\")\n",
    "    for i in range(1000):\n",
    "        for j in range(1000):\n",
    "            h = i+j\n",
    "    print(\"Salgo de la funcion\")\n",
    "\n",
    "functionTest()"
   ]
  },
  {
   "cell_type": "markdown",
   "metadata": {},
   "source": [
    "EJEMPLO"
   ]
  },
  {
   "cell_type": "code",
   "execution_count": null,
   "metadata": {},
   "outputs": [],
   "source": [
    "def calcula_demora(funcion):\n",
    "    def wrapper(*args,**kargs):\n",
    "        import time\n",
    "        start = time.time()\n",
    "        for i in range(1000):\n",
    "            result = funcion(*args,**kargs)\n",
    "        total = time.time()-start\n",
    "        print(total, 'Segundos gastados')\n",
    "        return result\n",
    "    return wrapper\n",
    "\n",
    "@calcula_demora\n",
    "def funcion_test_bucle_final():\n",
    "  for i in range(1000):\n",
    "    for j in range(1000):\n",
    "      h = i+j\n",
    "\n",
    "funcion_test_bucle_final()"
   ]
  },
  {
   "cell_type": "markdown",
   "metadata": {},
   "source": [
    "# **Recursividad**"
   ]
  },
  {
   "cell_type": "code",
   "execution_count": 40,
   "metadata": {},
   "outputs": [
    {
     "name": "stdout",
     "output_type": "stream",
     "text": [
      "0-0\n",
      "1-1\n",
      "2-1\n",
      "3-2\n",
      "4-3\n",
      "5-5\n",
      "6-8\n",
      "7-13\n",
      "8-21\n",
      "9-34\n",
      "10-55\n",
      "11-89\n",
      "12-144\n",
      "13-233\n",
      "14-377\n",
      "15-610\n",
      "16-987\n",
      "17-1597\n",
      "18-2584\n",
      "19-4181\n",
      "20-6765\n",
      "21-10946\n",
      "22-17711\n",
      "23-28657\n",
      "24-46368\n",
      "25-75025\n",
      "26-121393\n",
      "27-196418\n",
      "28-317811\n",
      "29-514229\n",
      "30-832040\n",
      "31-1346269\n",
      "32-2178309\n",
      "33-3524578\n",
      "34-5702887\n",
      "35-9227465\n",
      "36-14930352\n",
      "37-24157817\n",
      "38-39088169\n",
      "39-63245986\n"
     ]
    }
   ],
   "source": [
    "def fibonnaci(n):\n",
    "    if n==0 or n==1: return n\n",
    "    return fibonnaci(n-1) + fibonnaci(n-2)\n",
    "\n",
    "for i in range(40):\n",
    "    print(f\"{i}-{fibonnaci(i)}\")"
   ]
  },
  {
   "cell_type": "code",
   "execution_count": null,
   "metadata": {},
   "outputs": [],
   "source": []
  }
 ],
 "metadata": {
  "kernelspec": {
   "display_name": "ia",
   "language": "python",
   "name": "python3"
  },
  "language_info": {
   "codemirror_mode": {
    "name": "ipython",
    "version": 3
   },
   "file_extension": ".py",
   "mimetype": "text/x-python",
   "name": "python",
   "nbconvert_exporter": "python",
   "pygments_lexer": "ipython3",
   "version": "3.8.18"
  }
 },
 "nbformat": 4,
 "nbformat_minor": 2
}
