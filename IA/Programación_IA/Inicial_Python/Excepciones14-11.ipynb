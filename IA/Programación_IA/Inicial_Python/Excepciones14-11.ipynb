{
 "cells": [
  {
   "cell_type": "markdown",
   "metadata": {},
   "source": [
    "# **EXCEPCIONES**"
   ]
  },
  {
   "cell_type": "code",
   "execution_count": 12,
   "metadata": {},
   "outputs": [
    {
     "name": "stdout",
     "output_type": "stream",
     "text": [
      "NO VALE 100\n",
      "EJECUTA SIEMPRE\n"
     ]
    }
   ],
   "source": [
    "\n",
    "def calcular_inversa(x):\n",
    "    if (x == 100): raise Exception(\"NO VALE 100\")\n",
    "    inv = 1/x\n",
    "    print(f\"la inversa de {x} es {inv}\")\n",
    "\n",
    "def f1(x):\n",
    "    calcular_inversa(x)\n",
    "\n",
    "def f2(x):\n",
    "    f1(x)\n",
    "\n",
    "def f3(x):\n",
    "    try:\n",
    "        f2(x)\n",
    "    except ZeroDivisionError:\n",
    "        print(\"NO ES DIVISIBLE POR 0\")\n",
    "    except ValueError:\n",
    "        print(\"ESE VALOR ES INVALIDO\")\n",
    "    except Exception as e:\n",
    "        print(e)\n",
    "    finally:\n",
    "        print(\"EJECUTA SIEMPRE\")\n",
    "\n",
    "f3(100)"
   ]
  }
 ],
 "metadata": {
  "kernelspec": {
   "display_name": "ia",
   "language": "python",
   "name": "python3"
  },
  "language_info": {
   "codemirror_mode": {
    "name": "ipython",
    "version": 3
   },
   "file_extension": ".py",
   "mimetype": "text/x-python",
   "name": "python",
   "nbconvert_exporter": "python",
   "pygments_lexer": "ipython3",
   "version": "3.8.18"
  }
 },
 "nbformat": 4,
 "nbformat_minor": 2
}
