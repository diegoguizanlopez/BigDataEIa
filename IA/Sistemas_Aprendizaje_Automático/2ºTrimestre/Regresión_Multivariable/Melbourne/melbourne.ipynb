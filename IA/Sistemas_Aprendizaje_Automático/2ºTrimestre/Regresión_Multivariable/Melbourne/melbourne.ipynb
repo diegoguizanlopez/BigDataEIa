{
 "cells": [
  {
   "cell_type": "code",
   "execution_count": 28,
   "metadata": {},
   "outputs": [],
   "source": [
    "import pathlib\n",
    "\n",
    "\n",
    "path=str(pathlib.Path().resolve())+\"/\""
   ]
  },
  {
   "cell_type": "code",
   "execution_count": 32,
   "metadata": {},
   "outputs": [
    {
     "name": "stderr",
     "output_type": "stream",
     "text": [
      "La sintaxis del comando no es correcta.\n"
     ]
    },
    {
     "name": "stdout",
     "output_type": "stream",
     "text": [
      "El sistema no puede encontrar el archivo especificado.\n"
     ]
    },
    {
     "name": "stderr",
     "output_type": "stream",
     "text": [
      "Traceback (most recent call last):\n",
      "  File \"C:\\Users\\diego.guizanlopez\\AppData\\Local\\miniconda3\\envs\\ia\\lib\\runpy.py\", line 194, in _run_module_as_main\n",
      "    return _run_code(code, main_globals, None,\n",
      "  File \"C:\\Users\\diego.guizanlopez\\AppData\\Local\\miniconda3\\envs\\ia\\lib\\runpy.py\", line 87, in _run_code\n",
      "    exec(code, run_globals)\n",
      "  File \"C:\\Users\\diego.guizanlopez\\AppData\\Local\\miniconda3\\envs\\ia\\Scripts\\kaggle.exe\\__main__.py\", line 4, in <module>\n",
      "  File \"C:\\Users\\diego.guizanlopez\\AppData\\Local\\miniconda3\\envs\\ia\\lib\\site-packages\\kaggle\\__init__.py\", line 23, in <module>\n",
      "    api.authenticate()\n",
      "  File \"C:\\Users\\diego.guizanlopez\\AppData\\Local\\miniconda3\\envs\\ia\\lib\\site-packages\\kaggle\\api\\kaggle_api_extended.py\", line 403, in authenticate\n",
      "    raise IOError('Could not find {}. Make sure it\\'s located in'\n",
      "OSError: Could not find kaggle.json. Make sure it's located in C:\\Users\\diego.guizanlopez\\.kaggle. Or use the environment method.\n"
     ]
    },
    {
     "name": "stdout",
     "output_type": "stream",
     "text": [
      " El volumen de la unidad C es Windows\n",
      " El n�mero de serie del volumen es: 5401-151F\n",
      "\n",
      " Directorio de c:\\Users\\diego.guizanlopez\\Documents\\BigDataEIa\\IA\\Sistemas_Aprendizaje_Autom�tico\\2�Trimestre\\Regresi�n_Multivariable\\Melbourne\n",
      "\n",
      "07/02/2024  18:05    <DIR>          .\n",
      "07/02/2024  17:54    <DIR>          ..\n",
      "07/02/2024  18:05                72 kaggle.json\n",
      "07/02/2024  18:07             5.550 melbourne.ipynb\n",
      "               2 archivos          5.622 bytes\n",
      "               2 dirs  819.105.873.920 bytes libres\n"
     ]
    }
   ],
   "source": [
    "#Subir el json (descargarlo a local de kaggle con “general nueva api”, subirlo con files.upload y pasarlo a la carpeta .kaggle\n",
    "\n",
    "!pip install -q kaggle\n",
    "\n",
    "\n",
    "!mkdir %USERPROFILE%/.kaggle\n",
    "!copy path/kaggle.json %USERPROFILE%/.kaggle\n",
    "#!chmod 600 ~/.kaggle/kaggle.json\n",
    "!kaggle datasets list\n",
    "\n",
    "!dir"
   ]
  },
  {
   "cell_type": "code",
   "execution_count": 11,
   "metadata": {},
   "outputs": [
    {
     "name": "stderr",
     "output_type": "stream",
     "text": [
      "Traceback (most recent call last):\n",
      "  File \"C:\\Users\\diego.guizanlopez\\AppData\\Local\\miniconda3\\envs\\ia\\lib\\runpy.py\", line 194, in _run_module_as_main\n",
      "    return _run_code(code, main_globals, None,\n",
      "  File \"C:\\Users\\diego.guizanlopez\\AppData\\Local\\miniconda3\\envs\\ia\\lib\\runpy.py\", line 87, in _run_code\n",
      "    exec(code, run_globals)\n",
      "  File \"C:\\Users\\diego.guizanlopez\\AppData\\Local\\miniconda3\\envs\\ia\\Scripts\\kaggle.exe\\__main__.py\", line 4, in <module>\n",
      "  File \"C:\\Users\\diego.guizanlopez\\AppData\\Local\\miniconda3\\envs\\ia\\lib\\site-packages\\kaggle\\__init__.py\", line 23, in <module>\n",
      "    api.authenticate()\n",
      "  File \"C:\\Users\\diego.guizanlopez\\AppData\\Local\\miniconda3\\envs\\ia\\lib\\site-packages\\kaggle\\api\\kaggle_api_extended.py\", line 403, in authenticate\n",
      "    raise IOError('Could not find {}. Make sure it\\'s located in'\n",
      "OSError: Could not find kaggle.json. Make sure it's located in C:\\Users\\diego.guizanlopez\\.kaggle. Or use the environment method.\n",
      "\"unzip\" no se reconoce como un comando interno o externo,\n",
      "programa o archivo por lotes ejecutable.\n",
      "\"rm\" no se reconoce como un comando interno o externo,\n",
      "programa o archivo por lotes ejecutable.\n",
      "\"mv\" no se reconoce como un comando interno o externo,\n",
      "programa o archivo por lotes ejecutable.\n",
      "\"ls\" no se reconoce como un comando interno o externo,\n",
      "programa o archivo por lotes ejecutable.\n"
     ]
    }
   ],
   "source": [
    "#Trae el dataset de kaggle\n",
    "!kaggle datasets download \"anthonypino/melbourne-housing-market\"\n",
    "name_zip = \"melbourne-housing-market\" + \".zip\"\n",
    "!unzip \"melbourne-housing-market.zip\"\n",
    "\n",
    "\n",
    "# Copiarlo al drive\n",
    "full_name = path + \"Melbourne_housing_FULL.csv\"\n",
    "!rm -rf full_name\n",
    "!mv \"Melbourne_housing_FULL.csv\" \"/content/drive/MyDrive/Colab Notebooks/datasets/\"\n",
    "!ls \"/content/drive/MyDrive/Colab Notebooks/datasets/\""
   ]
  }
 ],
 "metadata": {
  "kernelspec": {
   "display_name": "ia",
   "language": "python",
   "name": "python3"
  },
  "language_info": {
   "codemirror_mode": {
    "name": "ipython",
    "version": 3
   },
   "file_extension": ".py",
   "mimetype": "text/x-python",
   "name": "python",
   "nbconvert_exporter": "python",
   "pygments_lexer": "ipython3",
   "version": "3.8.18"
  }
 },
 "nbformat": 4,
 "nbformat_minor": 2
}
