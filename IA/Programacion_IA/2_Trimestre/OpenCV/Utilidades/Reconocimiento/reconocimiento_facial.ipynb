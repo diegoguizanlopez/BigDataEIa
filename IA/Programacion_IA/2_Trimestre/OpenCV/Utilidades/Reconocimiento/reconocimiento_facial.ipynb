{
 "cells": [
  {
   "cell_type": "code",
   "execution_count": 2,
   "metadata": {},
   "outputs": [],
   "source": [
    "import pathlib\n",
    "path=str(pathlib.Path().resolve().parent)+\"/imagenes/\""
   ]
  },
  {
   "cell_type": "code",
   "execution_count": 7,
   "metadata": {},
   "outputs": [],
   "source": [
    "import cv2 as cv\n",
    "video = cv.VideoCapture(path+\"video_caras.mp4\")\n",
    "\n",
    "while(True):\n",
    "    ret, frame = video.read()\n",
    "    if ret == True:\n",
    "        frame = cv.flip(frame, 1)\n",
    "        cv.imshow(\"Salida\", frame)\n",
    "\n",
    "        face_cascade = cv.CascadeClassifier(cv.data.haarcascades + \\\n",
    "                                'haarcascade_frontalface_default.xml')\n",
    "    if cv.waitKey(10) & 0xFF == 27: break\n",
    "\n",
    "video.release()\n",
    "cv.destroyAllWindows()"
   ]
  },
  {
   "cell_type": "code",
   "execution_count": null,
   "metadata": {},
   "outputs": [],
   "source": []
  }
 ],
 "metadata": {
  "kernelspec": {
   "display_name": "ia",
   "language": "python",
   "name": "python3"
  },
  "language_info": {
   "codemirror_mode": {
    "name": "ipython",
    "version": 3
   },
   "file_extension": ".py",
   "mimetype": "text/x-python",
   "name": "python",
   "nbconvert_exporter": "python",
   "pygments_lexer": "ipython3",
   "version": "3.8.18"
  }
 },
 "nbformat": 4,
 "nbformat_minor": 2
}
