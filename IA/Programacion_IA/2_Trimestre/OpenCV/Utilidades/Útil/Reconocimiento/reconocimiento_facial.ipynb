{
 "cells": [
  {
   "cell_type": "code",
   "execution_count": 1,
   "metadata": {},
   "outputs": [],
   "source": [
    "import pathlib\n",
    "path=str(pathlib.Path().resolve().parent)+\"/imagenes/\""
   ]
  },
  {
   "cell_type": "code",
   "execution_count": null,
   "metadata": {},
   "outputs": [],
   "source": [
    "import cv2 as cv\n",
    "\n",
    "video = cv.VideoCapture(path+\"video_caras.mp4\")\n",
    "eye_cascade = cv.CascadeClassifier(cv.data.haarcascades + \\\n",
    "                                'haarcascade_eye.xml')\n",
    "face_cascade = cv.CascadeClassifier(cv.data.haarcascades + \\\n",
    "                                'haarcascade_frontalface_default.xml')"
   ]
  },
  {
   "cell_type": "code",
   "execution_count": 12,
   "metadata": {},
   "outputs": [],
   "source": [
    "\n",
    "\n",
    "while(True):\n",
    "    ret, frame = video.read()\n",
    "    if ret == True:\n",
    "        frame = cv.flip(frame, 1)\n",
    "        cv.imshow(\"Salida\", frame)\n",
    "\n",
    "        #region Cara \n",
    "        gris = cv.cvtColor(frame,cv.COLOR_BGR2GRAY)\n",
    "        caras = face_cascade.detectMultiScale(gris, 2.3, 1)\n",
    "        img2 = frame.copy()\n",
    "        for (x,y,w,h) in caras:\n",
    "            cv.rectangle(img2, (x,y), (x+w, y+h), (0,0,255), 4)\n",
    "            roi = gris[y:y+h, x:x+w]\n",
    "            roi_color = img2[y:y+h, x:x+w]\n",
    "            ojos = eye_cascade.detectMultiScale(roi, 3, 1)\n",
    "            for (x,y,w,h) in ojos:\n",
    "              cv.rectangle(roi_color, (x,y), (x+w, y+h), (0,255, 0), 4)\n",
    "        cv.imshow(\"Caras\", img2)\n",
    "        #endregion\n",
    "\n",
    "        #region Ojos\n",
    "        #endregion\n",
    "    else:\n",
    "        break\n",
    "    if cv.waitKey(10) & 0xFF == 27: break\n",
    "\n",
    "video.release()\n",
    "cv.destroyAllWindows()"
   ]
  },
  {
   "cell_type": "code",
   "execution_count": null,
   "metadata": {},
   "outputs": [],
   "source": []
  }
 ],
 "metadata": {
  "kernelspec": {
   "display_name": "ia",
   "language": "python",
   "name": "python3"
  },
  "language_info": {
   "codemirror_mode": {
    "name": "ipython",
    "version": 3
   },
   "file_extension": ".py",
   "mimetype": "text/x-python",
   "name": "python",
   "nbconvert_exporter": "python",
   "pygments_lexer": "ipython3",
   "version": "3.8.18"
  }
 },
 "nbformat": 4,
 "nbformat_minor": 2
}
