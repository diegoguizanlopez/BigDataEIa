{
 "cells": [
  {
   "cell_type": "markdown",
   "metadata": {},
   "source": [
    "#!pip install mediapipe-model-maker"
   ]
  },
  {
   "cell_type": "markdown",
   "metadata": {},
   "source": [
    "\n",
    "import os\n",
    "import pathlib\n",
    "import tensorflow as tf\n",
    "assert tf.__version__.startswith('2')\n",
    "\n",
    "from mediapipe_model_maker import gesture_recognizer\n",
    "\n",
    "import matplotlib.pyplot as plt"
   ]
  },
  {
   "cell_type": "markdown",
   "metadata": {},
   "source": [
    "path=str(pathlib.Path().resolve())+\"/\""
   ]
  },
  {
   "cell_type": "markdown",
   "metadata": {},
   "source": [
    "from genericpath import isfile\n",
    "from os import listdir, mkdir\n",
    "import shutil\n",
    "\n",
    "if not os.path.exists(path+\"Piedra_Papel_Tijera_Formated\"):\n",
    "    gestos=([],[],[],[])\n",
    "    directories = [f for f in listdir(path+\"Piedra_Papel_Tijeras\")]\n",
    "    for i in directories:\n",
    "        for index,(dirpath, dirnames, filenames) in enumerate(os.walk(path+\"Piedra_Papel_Tijeras/\"+i+\"/\")):\n",
    "            if len(dirnames)==0:\n",
    "                for filename in filenames:\n",
    "                    gestos[index-1].append(dirpath+\"/\"+filename)\n",
    "    mkdir(path+\"Piedra_Papel_Tijera_Formated\")\n",
    "    mkdir(path+\"Piedra_Papel_Tijera_Formated/None\")\n",
    "    mkdir(path+\"Piedra_Papel_Tijera_Formated/Piedra\")\n",
    "    mkdir(path+\"Piedra_Papel_Tijera_Formated/Papel\")\n",
    "    mkdir(path+\"Piedra_Papel_Tijera_Formated/Tijeras\")\n",
    "\n",
    "# Comprueba si el directorio existe\n",
    "    if not os.path.exists(path):\n",
    "    # Si no existe, créalo\n",
    "        os.makedirs(path)\n",
    "    for index,i in enumerate(gestos):\n",
    "        for j in i:\n",
    "            split=i[index].split(\"/\")\n",
    "            split.remove(split[-3])\n",
    "            shutil.copy(j,path+\"Piedra_Papel_Tijera_Formated/\"+split[-2].title())\n"
   ]
  },
  {
   "cell_type": "markdown",
   "metadata": {},
   "source": [
    "data = gesture_recognizer.Dataset.from_folder(\n",
    "    dirname=os.path.join(path,\"Piedra_Papel_Tijera_Formated\"),\n",
    "    hparams=gesture_recognizer.HandDataPreprocessingParams()\n",
    ")\n",
    "train_data, rest_data = data.split(0.8)\n",
    "validation_data, test_data = rest_data.split(0.5)"
   ]
  },
  {
   "cell_type": "markdown",
   "metadata": {},
   "source": [
    "hparams = gesture_recognizer.HParams(export_dir=\"exported_model\")\n",
    "options = gesture_recognizer.GestureRecognizerOptions(hparams=hparams)\n",
    "model = gesture_recognizer.GestureRecognizer.create(\n",
    "    train_data=train,\n",
    "    validation_data=validation,\n",
    "    options=options\n",
    ")"
   ]
  },
  {
   "cell_type": "markdown",
   "metadata": {},
   "source": [
    "from google.colab import files\n",
    "model.export_model()\n",
    "files.download('exported_model/gesture_recognizer.task')"
   ]
  },
  {
   "cell_type": "markdown",
   "metadata": {},
   "source": [
    "hparams = gesture_recognizer.HParams(learning_rate=0.003, export_dir=\"exported_model_2\")\n",
    "model_options = gesture_recognizer.ModelOptions(dropout_rate=0.2)\n",
    "options = gesture_recognizer.GestureRecognizerOptions(model_options=model_options, hparams=hparams)\n",
    "model_2 = gesture_recognizer.GestureRecognizer.create(\n",
    "    train_data=train_data,\n",
    "    validation_data=validation_data,\n",
    "    options=options\n",
    ")"
   ]
  },
  {
   "cell_type": "markdown",
   "metadata": {},
   "source": [
    "loss, accuracy = model.evaluate(test_data)\n",
    "print(f\"Test loss:{loss}, Test accuracy:{accuracy}\")\n",
    "loss, accuracy = model_2.evaluate(test_data)\n",
    "print(f\"Test loss:{loss}, Test accuracy:{accuracy}\")"
   ]
  },
  {
   "cell_type": "markdown",
   "metadata": {},
   "source": [
    "from google.colab import files\n",
    "model_2.export_model()\n",
    "files.download('exported_model/gesture_recognizer.task')"
   ]
  },
  {
   "cell_type": "code",
   "execution_count": 1,
   "metadata": {},
   "outputs": [],
   "source": [
    "import pathlib\n",
    "\n",
    "\n",
    "path=str(pathlib.Path().resolve())+\"/\""
   ]
  },
  {
   "cell_type": "code",
   "execution_count": 3,
   "metadata": {},
   "outputs": [],
   "source": [
    "from mediapipe.tasks import python\n",
    "from mediapipe.tasks.python import vision\n",
    "\n",
    "model_path = path+'gesture_recognizer.task'\n",
    "base_options = python.BaseOptions(model_asset_path=model_path)"
   ]
  },
  {
   "cell_type": "code",
   "execution_count": null,
   "metadata": {},
   "outputs": [],
   "source": []
  }
 ],
 "metadata": {
  "kernelspec": {
   "display_name": "ia",
   "language": "python",
   "name": "python3"
  },
  "language_info": {
   "codemirror_mode": {
    "name": "ipython",
    "version": 3
   },
   "file_extension": ".py",
   "mimetype": "text/x-python",
   "name": "python",
   "nbconvert_exporter": "python",
   "pygments_lexer": "ipython3",
   "version": "3.8.18"
  }
 },
 "nbformat": 4,
 "nbformat_minor": 2
}
