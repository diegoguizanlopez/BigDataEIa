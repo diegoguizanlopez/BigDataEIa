{
 "cells": [
  {
   "cell_type": "markdown",
   "metadata": {},
   "source": [
    "#!pip install mediapipe-model-maker"
   ]
  },
  {
   "cell_type": "markdown",
   "metadata": {},
   "source": [
    "\n",
    "import os\n",
    "import pathlib\n",
    "import tensorflow as tf\n",
    "assert tf.__version__.startswith('2')\n",
    "\n",
    "from mediapipe_model_maker import gesture_recognizer\n",
    "\n",
    "import matplotlib.pyplot as plt"
   ]
  },
  {
   "cell_type": "markdown",
   "metadata": {},
   "source": [
    "path=str(pathlib.Path().resolve())+\"/\""
   ]
  },
  {
   "cell_type": "markdown",
   "metadata": {},
   "source": [
    "from genericpath import isfile\n",
    "from os import listdir, mkdir\n",
    "import shutil\n",
    "\n",
    "if not os.path.exists(path+\"Piedra_Papel_Tijera_Formated\"):\n",
    "    gestos=([],[],[],[])\n",
    "    directories = [f for f in listdir(path+\"Piedra_Papel_Tijeras\")]\n",
    "    for i in directories:\n",
    "        for index,(dirpath, dirnames, filenames) in enumerate(os.walk(path+\"Piedra_Papel_Tijeras/\"+i+\"/\")):\n",
    "            if len(dirnames)==0:\n",
    "                for filename in filenames:\n",
    "                    gestos[index-1].append(dirpath+\"/\"+filename)\n",
    "    mkdir(path+\"Piedra_Papel_Tijera_Formated\")\n",
    "    mkdir(path+\"Piedra_Papel_Tijera_Formated/None\")\n",
    "    mkdir(path+\"Piedra_Papel_Tijera_Formated/Piedra\")\n",
    "    mkdir(path+\"Piedra_Papel_Tijera_Formated/Papel\")\n",
    "    mkdir(path+\"Piedra_Papel_Tijera_Formated/Tijeras\")\n",
    "\n",
    "# Comprueba si el directorio existe\n",
    "    if not os.path.exists(path):\n",
    "    # Si no existe, créalo\n",
    "        os.makedirs(path)\n",
    "    for index,i in enumerate(gestos):\n",
    "        for j in i:\n",
    "            split=i[index].split(\"/\")\n",
    "            split.remove(split[-3])\n",
    "            shutil.copy(j,path+\"Piedra_Papel_Tijera_Formated/\"+split[-2].title())\n"
   ]
  },
  {
   "cell_type": "markdown",
   "metadata": {},
   "source": [
    "data = gesture_recognizer.Dataset.from_folder(\n",
    "    dirname=os.path.join(path,\"Piedra_Papel_Tijera_Formated\"),\n",
    "    hparams=gesture_recognizer.HandDataPreprocessingParams()\n",
    ")\n",
    "train_data, rest_data = data.split(0.8)\n",
    "validation_data, test_data = rest_data.split(0.5)"
   ]
  },
  {
   "cell_type": "markdown",
   "metadata": {},
   "source": [
    "hparams = gesture_recognizer.HParams(export_dir=\"exported_model\")\n",
    "options = gesture_recognizer.GestureRecognizerOptions(hparams=hparams)\n",
    "model = gesture_recognizer.GestureRecognizer.create(\n",
    "    train_data=train,\n",
    "    validation_data=validation,\n",
    "    options=options\n",
    ")"
   ]
  },
  {
   "cell_type": "markdown",
   "metadata": {},
   "source": [
    "from google.colab import files\n",
    "model.export_model()\n",
    "files.download('exported_model/gesture_recognizer.task')"
   ]
  },
  {
   "cell_type": "markdown",
   "metadata": {},
   "source": [
    "hparams = gesture_recognizer.HParams(learning_rate=0.003, export_dir=\"exported_model_2\")\n",
    "model_options = gesture_recognizer.ModelOptions(dropout_rate=0.2)\n",
    "options = gesture_recognizer.GestureRecognizerOptions(model_options=model_options, hparams=hparams)\n",
    "model_2 = gesture_recognizer.GestureRecognizer.create(\n",
    "    train_data=train_data,\n",
    "    validation_data=validation_data,\n",
    "    options=options\n",
    ")"
   ]
  },
  {
   "cell_type": "markdown",
   "metadata": {},
   "source": [
    "loss, accuracy = model.evaluate(test_data)\n",
    "print(f\"Test loss:{loss}, Test accuracy:{accuracy}\")\n",
    "loss, accuracy = model_2.evaluate(test_data)\n",
    "print(f\"Test loss:{loss}, Test accuracy:{accuracy}\")"
   ]
  },
  {
   "cell_type": "markdown",
   "metadata": {},
   "source": [
    "from google.colab import files\n",
    "model_2.export_model()\n",
    "files.download('exported_model/gesture_recognizer.task')"
   ]
  },
  {
   "cell_type": "markdown",
   "metadata": {},
   "source": [
    "# pip install --upgrade protobuf \n",
    "# No instalar el model maker si eres de Windows"
   ]
  },
  {
   "cell_type": "code",
   "execution_count": 324,
   "metadata": {},
   "outputs": [],
   "source": [
    "import pathlib\n",
    "\n",
    "\n",
    "path=str(pathlib.Path().resolve())+\"/\""
   ]
  },
  {
   "cell_type": "code",
   "execution_count": 325,
   "metadata": {},
   "outputs": [],
   "source": [
    "from mediapipe.tasks import python\n",
    "from mediapipe.tasks.python import vision\n",
    "\n",
    "# Cargamos las opciones del modelo\n",
    "model_path = path+'gesture_recognizer_FINAL.task'\n",
    "base_options = python.BaseOptions(model_asset_path=model_path)"
   ]
  },
  {
   "cell_type": "code",
   "execution_count": 327,
   "metadata": {},
   "outputs": [],
   "source": [
    "# region Código de MediaPipe\n",
    "\n",
    "from mediapipe import solutions\n",
    "from mediapipe.framework.formats import landmark_pb2\n",
    "import numpy as np\n",
    "\n",
    "MARGIN = 10  # pixels\n",
    "FONT_SIZE = 1\n",
    "FONT_THICKNESS = 1\n",
    "HANDEDNESS_TEXT_COLOR = (88, 205, 54) # vibrant green\n",
    "\n",
    "def draw_landmarks_on_image(rgb_image, detection_result):\n",
    "  hand_landmarks_list = detection_result.hand_landmarks\n",
    "  handedness_list = detection_result.handedness\n",
    "  annotated_image = np.copy(rgb_image)\n",
    "  \n",
    "\n",
    "  # Loop through the detected hands to visualize.\n",
    "  for idx in range(len(hand_landmarks_list)):\n",
    "    hand_landmarks = hand_landmarks_list[idx]\n",
    "    handedness = handedness_list[idx]\n",
    "\n",
    "    # Draw the hand landmarks.\n",
    "    hand_landmarks_proto = landmark_pb2.NormalizedLandmarkList()\n",
    "    hand_landmarks_proto.landmark.extend([\n",
    "      landmark_pb2.NormalizedLandmark(x=landmark.x, y=landmark.y, z=landmark.z) for landmark in hand_landmarks\n",
    "    ])\n",
    "    solutions.drawing_utils.draw_landmarks(\n",
    "      annotated_image,\n",
    "      hand_landmarks_proto,\n",
    "      solutions.hands.HAND_CONNECTIONS,\n",
    "      solutions.drawing_styles.get_default_hand_landmarks_style(),\n",
    "      solutions.drawing_styles.get_default_hand_connections_style())\n",
    "\n",
    "    # Get the top left corner of the detected hand's bounding box.\n",
    "    height, width, _ = annotated_image.shape\n",
    "    x_coordinates = [landmark.x for landmark in hand_landmarks]\n",
    "    y_coordinates = [landmark.y for landmark in hand_landmarks]\n",
    "    text_x = int(min(x_coordinates) * width)\n",
    "    text_y = int(min(y_coordinates) * height) - MARGIN\n",
    "\n",
    "    # Draw handedness (left or right hand) on the image.\n",
    "\n",
    "  return annotated_image\n",
    "\n",
    "# endregion"
   ]
  },
  {
   "cell_type": "code",
   "execution_count": 328,
   "metadata": {},
   "outputs": [],
   "source": [
    "import math\n",
    "import cv2 as cv\n",
    "\n",
    "def text(imagen,hand_landmarker_result,w,h):\n",
    "    \"\"\" Escribe el texto de la solución x mano\n",
    "\n",
    "    Args:\n",
    "        imagen (CV.IMAGE): Imagen\n",
    "        hand_landmarker_result (Result): Resultado de la detección\n",
    "        w (float): width\n",
    "        h (float): height\n",
    "\n",
    "    Returns:\n",
    "        CV.IMAGE: Imagen\n",
    "    \"\"\"\n",
    "    for index,landmark in enumerate(hand_landmarker_result.hand_landmarks):\n",
    "        x_max = 0\n",
    "        y_max = 0\n",
    "        x_min = w\n",
    "        y_min = h\n",
    "        points=[]\n",
    "        for point in landmark:\n",
    "            x, y = int(point.x * w), int(point.y * h)\n",
    "            points.append((point.x,point.y,point.z))\n",
    "            if x > x_max:\n",
    "                x_max = x\n",
    "            if x < x_min:\n",
    "                x_min = x\n",
    "            if y > y_max:\n",
    "                y_max = y\n",
    "            if y < y_min:\n",
    "                y_min = y\n",
    "        top_gesture = detection_result.gestures[index][0]\n",
    "        hand_landmarks = detection_result.hand_landmarks\n",
    "        results = (top_gesture, hand_landmarks)\n",
    "        title = results[0].category_name\n",
    "        a=(x_min,y_min)\n",
    "        imagen=cv.putText(np.copy(imagen), title, a,  cv.FONT_HERSHEY_SIMPLEX, 2, (255,0,0),2)\n",
    "    return imagen\n"
   ]
  },
  {
   "cell_type": "code",
   "execution_count": 329,
   "metadata": {},
   "outputs": [],
   "source": [
    "import cv2 as cv\n",
    "from matplotlib import pyplot as plt\n",
    "import numpy as np\n",
    "import mediapipe as mp\n",
    "from mediapipe.tasks import python\n",
    "from mediapipe.tasks.python import vision\n",
    "\n",
    "video = cv.VideoCapture(0)\n",
    "while(True):\n",
    "    ret, frame = video.read()\n",
    "    if ret == True:\n",
    "        frame = cv.flip(frame, 1)\n",
    "        h, w, c = frame.shape\n",
    "        cv.imshow(\"Salida\", frame)\n",
    "        image_bgr = cv.cvtColor(frame, cv.COLOR_RGB2BGR)\n",
    "\n",
    "        options = vision.GestureRecognizerOptions(base_options=base_options,num_hands=2)\n",
    "        detector = vision.GestureRecognizer.create_from_options(options)\n",
    "\n",
    "        imagen_f=mp.Image(image_format=mp.ImageFormat.SRGB, data=image_bgr)\n",
    "        detection_result = detector.recognize(imagen_f)\n",
    "        \n",
    "        # Si tiene gestos los detecta si no lo transforma en numpy image\n",
    "        if len(detection_result.gestures)>0:\n",
    "            imagen_f=text(imagen_f.numpy_view(),detection_result,h,w)\n",
    "            imagen_f=draw_landmarks_on_image(imagen_f, detection_result)\n",
    "        else:\n",
    "            imagen_f = imagen_f.numpy_view()\n",
    "            \n",
    "        cv.imshow(\"Result\", cv.cvtColor(imagen_f,cv.COLOR_BGR2RGB))\n",
    "    if ret == False:\n",
    "        video.set(cv.CAP_PROP_POS_FRAMES, 0)\n",
    "    if cv.waitKey(10) & 0xFF == 27: break\n",
    "\n",
    "video.release()\n",
    "cv.destroyAllWindows()"
   ]
  },
  {
   "attachments": {
    "image.png": {
     "image/png": "[encoded data removed]"
    }
   },
   "cell_type": "markdown",
   "metadata": {},
   "source": [
    "![image.png](attachment:image.png)"
   ]
  }
 ],
 "metadata": {
  "kernelspec": {
   "display_name": "ia",
   "language": "python",
   "name": "python3"
  },
  "language_info": {
   "codemirror_mode": {
    "name": "ipython",
    "version": 3
   },
   "file_extension": ".py",
   "mimetype": "text/x-python",
   "name": "python",
   "nbconvert_exporter": "python",
   "pygments_lexer": "ipython3",
   "version": "3.8.18"
  }
 },
 "nbformat": 4,
 "nbformat_minor": 2
}
