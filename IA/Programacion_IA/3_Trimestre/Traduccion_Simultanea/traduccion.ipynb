{
 "cells": [
  {
   "cell_type": "code",
   "execution_count": null,
   "metadata": {},
   "outputs": [],
   "source": [
    "#!conda install -y anaconda::whisper\n",
    "#!pip install SpeechRecognition\n",
    "#!sudo apt-get install python3-dev portaudio19-dev\n",
    "#!pip install PyAudio\n",
    "#!pip install googletrans==4.0.0-rc1\n",
    "#!pip install deepl"
   ]
  },
  {
   "cell_type": "code",
   "execution_count": null,
   "metadata": {},
   "outputs": [],
   "source": []
  },
  {
   "cell_type": "code",
   "execution_count": null,
   "metadata": {},
   "outputs": [],
   "source": [
    "import speech_recognition as sr\n",
    "from googletrans import Translator\n",
    "import time\n",
    "\n",
    "def recognize_speech():\n",
    "    recognizer = sr.Recognizer()\n",
    "    with sr.Microphone() as source:\n",
    "        print(\"Escuchando...\")\n",
    "        recognizer.adjust_for_ambient_noise(source)  \n",
    "        while True:\n",
    "            audio = recognizer.listen(source, phrase_time_limit=5)  # Aumenta el límite de tiempo\n",
    "            try:\n",
    "                print(\"Reconociendo discurso...\")\n",
    "                word = recognizer.recognize_google(audio, language=\"es-ES\")\n",
    "                print(\"Palabra reconocida:\", word)\n",
    "                yield word\n",
    "            except sr.UnknownValueError:\n",
    "                print(\"No se pudo entender el audio\")\n",
    "            except sr.RequestError as e:\n",
    "                print(\"No se pudieron solicitar resultados; {0}\".format(e))\n",
    "\n",
    "def translate(word):\n",
    "    translator = Translator()\n",
    "    try:\n",
    "        translation = translator.translate(word, dest='en')\n",
    "        return translation.text\n",
    "    except Exception as e:\n",
    "        print(\"Error de traducción:\", e)\n",
    "        return \"Error de traducción\"\n",
    "\n",
    "def conversation():\n",
    "    print(\"Bienvenido a la aplicación de traducción simultánea. Habla algo en español para comenzar la conversación, escribe 'exit' para salir.\")\n",
    "    for word in recognize_speech():\n",
    "        if word.lower() == 'exit':\n",
    "            print(\"¡Adiós!\")\n",
    "            break\n",
    "        translated_word = translate(word)\n",
    "        print(\"Traducido:\", translated_word)\n"
   ]
  },
  {
   "cell_type": "code",
   "execution_count": null,
   "metadata": {},
   "outputs": [],
   "source": [
    "conversation()"
   ]
  }
 ],
 "metadata": {
  "kernelspec": {
   "display_name": "tf-gpu",
   "language": "python",
   "name": "python3"
  },
  "language_info": {
   "codemirror_mode": {
    "name": "ipython",
    "version": 3
   },
   "file_extension": ".py",
   "mimetype": "text/x-python",
   "name": "python",
   "nbconvert_exporter": "python",
   "pygments_lexer": "ipython3",
   "version": "3.11.8"
  }
 },
 "nbformat": 4,
 "nbformat_minor": 2
}
