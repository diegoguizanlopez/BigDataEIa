{
 "cells": [
  {
   "cell_type": "code",
   "execution_count": 1,
   "metadata": {},
   "outputs": [],
   "source": [
    "#!pip install git+https://github.com/openai/whisper.git\n",
    "#!conda install -y -c conda-forge ffmpeg"
   ]
  },
  {
   "cell_type": "code",
   "execution_count": 2,
   "metadata": {},
   "outputs": [],
   "source": [
    "import pandas as pd\n",
    "import os\n",
    "import whisper\n",
    "from whisper.utils import WriteTXT, WriteSRT, WriteVTT"
   ]
  },
  {
   "cell_type": "code",
   "execution_count": 3,
   "metadata": {},
   "outputs": [],
   "source": [
    "model = whisper.load_model(\"small\")"
   ]
  },
  {
   "cell_type": "code",
   "execution_count": 4,
   "metadata": {},
   "outputs": [],
   "source": [
    "import pathlib\n",
    "\n",
    "path=str(pathlib.Path().resolve())+\"/\""
   ]
  },
  {
   "cell_type": "code",
   "execution_count": 6,
   "metadata": {},
   "outputs": [],
   "source": [
    "result = model.transcribe(path + \"harvard.wav\")"
   ]
  },
  {
   "cell_type": "code",
   "execution_count": 7,
   "metadata": {},
   "outputs": [
    {
     "data": {
      "text/plain": [
       "{'text': ' The stale smell of old beer lingers. It takes heat to bring out the odor. A cold dip restores health and zest. A salt pickle tastes fine with ham. Tacos al pastor are my favorite. A zestful food is the hot cross bun.',\n",
       " 'segments': [{'id': 0,\n",
       "   'seek': 0,\n",
       "   'start': 0.0,\n",
       "   'end': 4.0,\n",
       "   'text': ' The stale smell of old beer lingers.',\n",
       "   'tokens': [50364,\n",
       "    440,\n",
       "    342,\n",
       "    1220,\n",
       "    4316,\n",
       "    295,\n",
       "    1331,\n",
       "    8795,\n",
       "    22949,\n",
       "    433,\n",
       "    13,\n",
       "    50564],\n",
       "   'temperature': 0.0,\n",
       "   'avg_logprob': -0.13602441816187616,\n",
       "   'compression_ratio': 1.4210526315789473,\n",
       "   'no_speech_prob': 0.04962483420968056},\n",
       "  {'id': 1,\n",
       "   'seek': 0,\n",
       "   'start': 4.0,\n",
       "   'end': 7.0,\n",
       "   'text': ' It takes heat to bring out the odor.',\n",
       "   'tokens': [50564, 467, 2516, 3738, 281, 1565, 484, 264, 41176, 13, 50714],\n",
       "   'temperature': 0.0,\n",
       "   'avg_logprob': -0.13602441816187616,\n",
       "   'compression_ratio': 1.4210526315789473,\n",
       "   'no_speech_prob': 0.04962483420968056},\n",
       "  {'id': 2,\n",
       "   'seek': 0,\n",
       "   'start': 7.0,\n",
       "   'end': 10.0,\n",
       "   'text': ' A cold dip restores health and zest.',\n",
       "   'tokens': [50714,\n",
       "    316,\n",
       "    3554,\n",
       "    10460,\n",
       "    1472,\n",
       "    2706,\n",
       "    1585,\n",
       "    293,\n",
       "    37889,\n",
       "    13,\n",
       "    50864],\n",
       "   'temperature': 0.0,\n",
       "   'avg_logprob': -0.13602441816187616,\n",
       "   'compression_ratio': 1.4210526315789473,\n",
       "   'no_speech_prob': 0.04962483420968056},\n",
       "  {'id': 3,\n",
       "   'seek': 0,\n",
       "   'start': 10.0,\n",
       "   'end': 12.0,\n",
       "   'text': ' A salt pickle tastes fine with ham.',\n",
       "   'tokens': [50864, 316, 5139, 31433, 8666, 2489, 365, 7852, 13, 50964],\n",
       "   'temperature': 0.0,\n",
       "   'avg_logprob': -0.13602441816187616,\n",
       "   'compression_ratio': 1.4210526315789473,\n",
       "   'no_speech_prob': 0.04962483420968056},\n",
       "  {'id': 4,\n",
       "   'seek': 0,\n",
       "   'start': 12.0,\n",
       "   'end': 15.0,\n",
       "   'text': ' Tacos al pastor are my favorite.',\n",
       "   'tokens': [50964, 38848, 329, 419, 21193, 366, 452, 2954, 13, 51114],\n",
       "   'temperature': 0.0,\n",
       "   'avg_logprob': -0.13602441816187616,\n",
       "   'compression_ratio': 1.4210526315789473,\n",
       "   'no_speech_prob': 0.04962483420968056},\n",
       "  {'id': 5,\n",
       "   'seek': 0,\n",
       "   'start': 15.0,\n",
       "   'end': 18.0,\n",
       "   'text': ' A zestful food is the hot cross bun.',\n",
       "   'tokens': [51114,\n",
       "    316,\n",
       "    37889,\n",
       "    906,\n",
       "    1755,\n",
       "    307,\n",
       "    264,\n",
       "    2368,\n",
       "    3278,\n",
       "    6702,\n",
       "    13,\n",
       "    51264],\n",
       "   'temperature': 0.0,\n",
       "   'avg_logprob': -0.13602441816187616,\n",
       "   'compression_ratio': 1.4210526315789473,\n",
       "   'no_speech_prob': 0.04962483420968056}],\n",
       " 'language': 'en'}"
      ]
     },
     "execution_count": 7,
     "metadata": {},
     "output_type": "execute_result"
    }
   ],
   "source": [
    "result"
   ]
  },
  {
   "cell_type": "code",
   "execution_count": 8,
   "metadata": {},
   "outputs": [],
   "source": [
    "output_dir = \"output\"\n",
    "if not os.path.exists(output_dir):\n",
    "    os.makedirs(output_dir)\n",
    "\n",
    "# Crear instancias de las clases para escribir los resultados\n",
    "write_txt = WriteTXT(output_dir)\n",
    "write_srt = WriteSRT(output_dir)\n",
    "write_vtt = WriteVTT(output_dir)\n",
    "\n",
    "# Escribir la transcripción en un archivo TXT\n",
    "write_txt(result, \"test\")\n",
    "# Escribir los subtítulos en archivos SRT y VTT\n",
    "write_srt(result, \"test\")\n",
    "write_vtt(result, \"test\")\n"
   ]
  },
  {
   "cell_type": "code",
   "execution_count": 9,
   "metadata": {},
   "outputs": [
    {
     "name": "stdout",
     "output_type": "stream",
     "text": [
      "Detected language: en\n",
      "The stale smell of old beer lingers. It takes heat to bring out the odor. A cold dip restores health and zest. A salt pickle tastes fine with ham. Tacos al pastor are my favorite. A zestful food is the hot cross bun.\n"
     ]
    }
   ],
   "source": [
    "# a más bajo nivel, pasando el contenido de audio\n",
    "import whisper\n",
    "\n",
    "model = whisper.load_model(\"small\")\n",
    "\n",
    "# load audio and pad/trim it to fit 30 seconds\n",
    "audio = whisper.load_audio(path + \"harvard.wav\")\n",
    "audio = whisper.pad_or_trim(audio)\n",
    "\n",
    "# make log-Mel spectrogram and move to the same device as the model\n",
    "mel = whisper.log_mel_spectrogram(audio).to(model.device)\n",
    "\n",
    "# detect the spoken language\n",
    "_, probs = model.detect_language(mel)\n",
    "print(f\"Detected language: {max(probs, key=probs.get)}\")\n",
    "\n",
    "# decode the audio\n",
    "options = whisper.DecodingOptions()\n",
    "result = whisper.decode(model, mel, options)\n",
    "\n",
    "# print the recognized text\n",
    "print(result.text)\n"
   ]
  },
  {
   "cell_type": "code",
   "execution_count": null,
   "metadata": {},
   "outputs": [],
   "source": []
  }
 ],
 "metadata": {
  "kernelspec": {
   "display_name": "deep-learning",
   "language": "python",
   "name": "python3"
  },
  "language_info": {
   "codemirror_mode": {
    "name": "ipython",
    "version": 3
   },
   "file_extension": ".py",
   "mimetype": "text/x-python",
   "name": "python",
   "nbconvert_exporter": "python",
   "pygments_lexer": "ipython3",
   "version": "3.11.8"
  }
 },
 "nbformat": 4,
 "nbformat_minor": 2
}
