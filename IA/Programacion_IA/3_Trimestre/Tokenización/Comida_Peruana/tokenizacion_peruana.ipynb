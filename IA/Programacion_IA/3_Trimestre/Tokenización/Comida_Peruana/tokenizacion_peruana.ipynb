{
 "cells": [
  {
   "cell_type": "code",
   "execution_count": 41,
   "metadata": {},
   "outputs": [],
   "source": [
    "import pathlib\n",
    "\n",
    "path=str(pathlib.Path().resolve())+\"/\""
   ]
  },
  {
   "cell_type": "code",
   "execution_count": 42,
   "metadata": {},
   "outputs": [],
   "source": [
    "import pandas as pd\n",
    "\n",
    "\n",
    "df = pd.read_csv(path+\"reviews.csv\")"
   ]
  },
  {
   "cell_type": "code",
   "execution_count": 43,
   "metadata": {},
   "outputs": [],
   "source": [
    "df=df[:1000]"
   ]
  },
  {
   "cell_type": "code",
   "execution_count": 98,
   "metadata": {},
   "outputs": [],
   "source": [
    "import torch\n",
    "import transformers\n",
    "from transformers import pipeline\n",
    "from transformers import AutoTokenizer\n",
    "\n",
    "device = 0 if torch.cuda.is_available() else -1\n",
    "transformers.utils.logging.set_verbosity_error()\n",
    "\n",
    "nlp = pipeline(\"text-classification\", model=\"nlptown/bert-base-multilingual-uncased-sentiment\", device=device)\n",
    "tokenize = AutoTokenizer.from_pretrained(\"nlptown/bert-base-multilingual-uncased-sentiment\")"
   ]
  },
  {
   "cell_type": "code",
   "execution_count": 117,
   "metadata": {},
   "outputs": [],
   "source": [
    "import numpy as np\n",
    "\n",
    "def tokenizer(x):\n",
    "    #tokenizer = \" \".join(x.split(\" \")).split(\"\\n\")\n",
    "    #print(tokenizer.count(\" \"))\n",
    "    \n",
    "    if len(tokenize.tokenize(x))>512:\n",
    "        segments = [x[i:i + 512] for i in range(0, len(x.split(\" \")), 512)]\n",
    "        results = []\n",
    "        for segment in segments:\n",
    "            predict = nlp(segment)[0]\n",
    "            results.append((predict['label'].split(\" \")[0], round(predict['score'], 4)))\n",
    "        labels=np.array(results)[:,0]\n",
    "        resultados=np.array(results)[:,1]\n",
    "        return f\"{np.average(int(labels)) if len(results)>1 else labels[0]} stars\",np.average(results) if len(results)>1 else resultados[0]\n",
    "    \n",
    "    predict = nlp(x)[0]\n",
    "    return predict['label'], round(predict['score'], 4)\n",
    "\n",
    "x = df['review'].apply(tokenizer)\n"
   ]
  },
  {
   "cell_type": "code",
   "execution_count": null,
   "metadata": {},
   "outputs": [],
   "source": [
    "for i in x:\n",
    "    print(i)"
   ]
  },
  {
   "cell_type": "code",
   "execution_count": 119,
   "metadata": {},
   "outputs": [],
   "source": [
    "import numpy as np\n",
    "l = np.array(x.tolist())\n",
    "df['label'],df['label_score'] = l[:,0],l[:,1]"
   ]
  },
  {
   "cell_type": "code",
   "execution_count": 130,
   "metadata": {},
   "outputs": [
    {
     "data": {
      "text/html": [
       "<div>\n",
       "<style scoped>\n",
       "    .dataframe tbody tr th:only-of-type {\n",
       "        vertical-align: middle;\n",
       "    }\n",
       "\n",
       "    .dataframe tbody tr th {\n",
       "        vertical-align: top;\n",
       "    }\n",
       "\n",
       "    .dataframe thead th {\n",
       "        text-align: right;\n",
       "    }\n",
       "</style>\n",
       "<table border=\"1\" class=\"dataframe\">\n",
       "  <thead>\n",
       "    <tr style=\"text-align: right;\">\n",
       "      <th></th>\n",
       "      <th>id_review</th>\n",
       "      <th>review</th>\n",
       "      <th>title</th>\n",
       "      <th>score</th>\n",
       "      <th>likes</th>\n",
       "      <th>id_nick</th>\n",
       "      <th>service</th>\n",
       "      <th>date</th>\n",
       "      <th>platform</th>\n",
       "      <th>label</th>\n",
       "      <th>label_score</th>\n",
       "    </tr>\n",
       "  </thead>\n",
       "  <tbody>\n",
       "  </tbody>\n",
       "</table>\n",
       "</div>"
      ],
      "text/plain": [
       "Empty DataFrame\n",
       "Columns: [id_review, review, title, score, likes, id_nick, service, date, platform, label, label_score]\n",
       "Index: []"
      ]
     },
     "execution_count": 130,
     "metadata": {},
     "output_type": "execute_result"
    }
   ],
   "source": []
  },
  {
   "cell_type": "code",
   "execution_count": null,
   "metadata": {},
   "outputs": [],
   "source": []
  }
 ],
 "metadata": {
  "kernelspec": {
   "display_name": "deep-learning",
   "language": "python",
   "name": "python3"
  },
  "language_info": {
   "codemirror_mode": {
    "name": "ipython",
    "version": 3
   },
   "file_extension": ".py",
   "mimetype": "text/x-python",
   "name": "python",
   "nbconvert_exporter": "python",
   "pygments_lexer": "ipython3",
   "version": "3.11.8"
  }
 },
 "nbformat": 4,
 "nbformat_minor": 2
}
