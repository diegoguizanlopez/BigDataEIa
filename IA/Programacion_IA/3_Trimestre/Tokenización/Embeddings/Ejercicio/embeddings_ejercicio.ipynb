{
 "cells": [
  {
   "cell_type": "code",
   "execution_count": 341,
   "metadata": {},
   "outputs": [],
   "source": [
    "import pathlib\n",
    "\n",
    "path=str(pathlib.Path().resolve())+\"/\""
   ]
  },
  {
   "cell_type": "code",
   "execution_count": 342,
   "metadata": {},
   "outputs": [],
   "source": [
    "from gensim.models import Word2Vec\n",
    "import numpy as np\n",
    "from nltk.tokenize import word_tokenize\n",
    "import nltk"
   ]
  },
  {
   "cell_type": "code",
   "execution_count": 343,
   "metadata": {},
   "outputs": [
    {
     "name": "stderr",
     "output_type": "stream",
     "text": [
      "[nltk_data] Downloading package punkt to\n",
      "[nltk_data]     C:\\Users\\diego.guizanlopez\\AppData\\Roaming\\nltk_data..\n",
      "[nltk_data]     .\n",
      "[nltk_data]   Package punkt is already up-to-date!\n"
     ]
    },
    {
     "data": {
      "text/plain": [
       "True"
      ]
     },
     "execution_count": 343,
     "metadata": {},
     "output_type": "execute_result"
    }
   ],
   "source": [
    "nltk.download('punkt')"
   ]
  },
  {
   "cell_type": "code",
   "execution_count": 344,
   "metadata": {},
   "outputs": [],
   "source": [
    "text1 = \"\"\"\n",
    "Lo recuerdo (yo no tengo derecho a pronunciar ese verbo sagrado, sólo un hombre en la tierra tuvo derecho y ese hombre ha muerto) con una oscura pasionaria en la mano, viéndola como nadie la ha visto, aunque la mirara desde el crepúsculo del día hasta el de la noche, toda una vida entera. Lo recuerdo, la cara taciturna y aindiada y singularmente remota, detrás del cigarrillo. Recuerdo (creo) sus manos afiladas de trenzado. Recuerdo cerca de esas manos un mate, con las armas de la Banda Oriental; recuerdo en la ventana de la casa una estera amarilla, con un vago paisaje lacustre. Recuerdo claramente su voz; la voz pausada, resentida y nasal del orillero antiguo, sin los silbidos italianos de ahora. Más de tres veces no lo vi; la última, en 1887... Me parece muy feliz el proyecto de que todos aquellos que lo trataron escriban sobre él; mi testimonio será acaso el más breve y sin duda el más pobre, pero no el menos imparcial del volumen que editarán ustedes.\n",
    "\"\"\"\n",
    "text2 = \"\"\"Mi deplorable condición de argentino me impedirá incurrir en el ditirambo -género obligatorio en el Uruguay, cuando el tema es un uruguayo. Literato, cajetilla, porteño; Funes no dijo esas injuriosas palabras, pero de un modo suficiente me consta que yo representaba para él esas desventuras. Pedro Leandro Ipuche ha escrito que Funes era un precursor de los superhombres, \"un Zarathustra cimarrón y vernáculo \"; no lo discuto, pero no hay que olvidar que era también un compadrito de Fray Bentos, con ciertas incurables limitaciones.\"\"\"\n",
    "\n",
    "text3 = \"\"\"Mi primer recuerdo de Funes es muy perspicuo. Lo veo en un atardecer de marzo o febrero del año 84. Mi padre, ese año, me había llevado a veranear a Fray Bentos. Yo volvía con mi primo Bernardo Haedo de la estancia de San Francisco. Volvíamos cantando, a caballo, y ésa no era la única circunstancia de mi felicidad. Después de un día bochornoso, una enorme tormenta color pizarra había escondido el cielo. La alentaba el viento del Sur, ya se enloquecían los árboles; yo tenía el temor la esperanza) de que nos sorprendiera en un descampado el agua elemental. Corrimos una especie de carrera con la tormenta.\"\"\""
   ]
  },
  {
   "cell_type": "code",
   "execution_count": 345,
   "metadata": {},
   "outputs": [],
   "source": [
    "token1 = word_tokenize(text1.lower())\n",
    "token2 = word_tokenize(text2.lower())\n",
    "token3 = word_tokenize(text3.lower())\n"
   ]
  },
  {
   "cell_type": "code",
   "execution_count": 346,
   "metadata": {},
   "outputs": [],
   "source": [
    "# Entrenamos al tokenizador para que aprenda a separar frases, palabras\n",
    "# Ponemos el tamaño del Vector 10 para probar\n",
    "# Tamaño de salto de palabras es decir, palabras que contara seguidas\n",
    "# Min count para que tenga que aparecer X veces para que haga caso\n",
    "\n",
    "model = Word2Vec([token1,token2,token3],vector_size=10,window=5,min_count=1,sg=0)"
   ]
  },
  {
   "cell_type": "code",
   "execution_count": 347,
   "metadata": {},
   "outputs": [
    {
     "data": {
      "text/plain": [
       "[',',\n",
       " 'de',\n",
       " '.',\n",
       " 'la',\n",
       " 'el',\n",
       " 'un',\n",
       " 'que',\n",
       " 'en',\n",
       " 'recuerdo',\n",
       " ';',\n",
       " 'no',\n",
       " 'y',\n",
       " 'con',\n",
       " 'del',\n",
       " 'lo',\n",
       " 'mi',\n",
       " 'una',\n",
       " 'me',\n",
       " 'yo',\n",
       " 'a',\n",
       " 'más',\n",
       " ')',\n",
       " 'esas',\n",
       " 'era',\n",
       " 'ha',\n",
       " 'funes',\n",
       " 'ese',\n",
       " 'pero',\n",
       " 'los',\n",
       " 'bentos',\n",
       " 'año',\n",
       " 'había',\n",
       " 'es',\n",
       " 'manos',\n",
       " '``',\n",
       " 'voz',\n",
       " 'sin',\n",
       " 'muy',\n",
       " 'él',\n",
       " 'día',\n",
       " 'fray',\n",
       " 'tormenta',\n",
       " '(',\n",
       " 'hombre',\n",
       " 'derecho',\n",
       " 'resentida',\n",
       " 'tierra',\n",
       " 'antiguo',\n",
       " 'orillero',\n",
       " 'nasal',\n",
       " 'tuvo',\n",
       " 'crepúsculo',\n",
       " 'pausada',\n",
       " 'italianos',\n",
       " 'su',\n",
       " 'muerto',\n",
       " 'claramente',\n",
       " 'lacustre',\n",
       " 'paisaje',\n",
       " 'silbidos',\n",
       " 'sólo',\n",
       " 'ahora',\n",
       " 'verbo',\n",
       " 'tengo',\n",
       " 'todos',\n",
       " 'proyecto',\n",
       " 'feliz',\n",
       " 'pronunciar',\n",
       " 'parece',\n",
       " 'sagrado',\n",
       " 'desde',\n",
       " '...',\n",
       " '1887',\n",
       " 'última',\n",
       " 'vi',\n",
       " 'veces',\n",
       " 'tres',\n",
       " 'vago',\n",
       " 'amarilla',\n",
       " 'estera',\n",
       " 'casa',\n",
       " 'trataron',\n",
       " 'nadie',\n",
       " 'remota',\n",
       " 'singularmente',\n",
       " 'aindiada',\n",
       " 'taciturna',\n",
       " 'cara',\n",
       " 'visto',\n",
       " 'entera',\n",
       " 'vida',\n",
       " 'toda',\n",
       " 'noche',\n",
       " 'aunque',\n",
       " 'mirara',\n",
       " 'hasta',\n",
       " 'detrás',\n",
       " 'cigarrillo',\n",
       " 'creo',\n",
       " 'pasionaria',\n",
       " 'ventana',\n",
       " 'oscura',\n",
       " 'oriental',\n",
       " 'banda',\n",
       " 'armas',\n",
       " 'las',\n",
       " 'mate',\n",
       " 'sus',\n",
       " 'mano',\n",
       " 'viéndola',\n",
       " 'cerca',\n",
       " 'trenzado',\n",
       " 'afiladas',\n",
       " 'como',\n",
       " 'aquellos',\n",
       " 'carrera',\n",
       " 'escriban',\n",
       " 'volvía',\n",
       " 'ésa',\n",
       " 'caballo',\n",
       " 'cantando',\n",
       " 'volvíamos',\n",
       " 'francisco',\n",
       " 'san',\n",
       " 'estancia',\n",
       " 'haedo',\n",
       " 'bernardo',\n",
       " 'primo',\n",
       " 'veranear',\n",
       " 'circunstancia',\n",
       " 'llevado',\n",
       " 'padre',\n",
       " '84.',\n",
       " 'febrero',\n",
       " 'o',\n",
       " 'marzo',\n",
       " 'atardecer',\n",
       " 'veo',\n",
       " 'perspicuo',\n",
       " 'primer',\n",
       " 'única',\n",
       " 'felicidad',\n",
       " 'incurables',\n",
       " 'enloquecían',\n",
       " 'corrimos',\n",
       " 'elemental',\n",
       " 'agua',\n",
       " 'descampado',\n",
       " 'sorprendiera',\n",
       " 'nos',\n",
       " 'esperanza',\n",
       " 'temor',\n",
       " 'tenía',\n",
       " 'árboles',\n",
       " 'se',\n",
       " 'después',\n",
       " 'ya',\n",
       " 'sur',\n",
       " 'viento',\n",
       " 'alentaba',\n",
       " 'cielo',\n",
       " 'escondido',\n",
       " 'pizarra',\n",
       " 'color',\n",
       " 'enorme',\n",
       " 'bochornoso',\n",
       " 'limitaciones',\n",
       " 'ciertas',\n",
       " 'sobre',\n",
       " 'deplorable',\n",
       " 'tema',\n",
       " 'cuando',\n",
       " 'uruguay',\n",
       " 'obligatorio',\n",
       " '-género',\n",
       " 'ditirambo',\n",
       " 'incurrir',\n",
       " 'impedirá',\n",
       " 'argentino',\n",
       " 'condición',\n",
       " 'ustedes',\n",
       " 'literato',\n",
       " 'editarán',\n",
       " 'volumen',\n",
       " 'imparcial',\n",
       " 'menos',\n",
       " 'pobre',\n",
       " 'duda',\n",
       " 'breve',\n",
       " 'especie',\n",
       " 'será',\n",
       " 'testimonio',\n",
       " 'uruguayo',\n",
       " 'cajetilla',\n",
       " 'compadrito',\n",
       " 'ipuche',\n",
       " 'también',\n",
       " 'olvidar',\n",
       " 'hay',\n",
       " 'discuto',\n",
       " 'vernáculo',\n",
       " 'cimarrón',\n",
       " 'zarathustra',\n",
       " 'superhombres',\n",
       " 'precursor',\n",
       " 'escrito',\n",
       " 'leandro',\n",
       " 'porteño',\n",
       " 'pedro',\n",
       " 'desventuras',\n",
       " 'para',\n",
       " 'representaba',\n",
       " 'consta',\n",
       " 'suficiente',\n",
       " 'modo',\n",
       " 'palabras',\n",
       " 'injuriosas',\n",
       " 'dijo',\n",
       " 'acaso']"
      ]
     },
     "execution_count": 347,
     "metadata": {},
     "output_type": "execute_result"
    }
   ],
   "source": [
    "model.wv.index_to_key"
   ]
  },
  {
   "cell_type": "code",
   "execution_count": 348,
   "metadata": {},
   "outputs": [],
   "source": [
    "embeddingV = token1+token2+token3"
   ]
  },
  {
   "cell_type": "code",
   "execution_count": 349,
   "metadata": {},
   "outputs": [
    {
     "data": {
      "text/plain": [
       "419"
      ]
     },
     "execution_count": 349,
     "metadata": {},
     "output_type": "execute_result"
    }
   ],
   "source": [
    "len(embeddingV)"
   ]
  },
  {
   "cell_type": "code",
   "execution_count": 350,
   "metadata": {},
   "outputs": [],
   "source": [
    "embedding = model.wv.vectors\n"
   ]
  },
  {
   "cell_type": "code",
   "execution_count": 351,
   "metadata": {},
   "outputs": [],
   "source": [
    "#from scipy.spatial import distance\n",
    "\n",
    "# Da la distancia del coseno para calcular con los dos arrays de los tokens \n",
    "\n",
    "#cosine_dist =  distance.cosine(embedding2,embedding3)\n",
    "#print(cosine_dist)"
   ]
  },
  {
   "cell_type": "code",
   "execution_count": 352,
   "metadata": {},
   "outputs": [],
   "source": [
    "import pandas as pd\n",
    "\n",
    "\n",
    "\n",
    "\n",
    "from sklearn.decomposition import PCA\n",
    "pca = PCA(n_components=2)\n",
    "X_reduced = pca.fit_transform(pd.DataFrame(embedding))\n"
   ]
  },
  {
   "cell_type": "code",
   "execution_count": 353,
   "metadata": {},
   "outputs": [
    {
     "data": {
      "text/plain": [
       "219"
      ]
     },
     "execution_count": 353,
     "metadata": {},
     "output_type": "execute_result"
    }
   ],
   "source": [
    "len(X_reduced)"
   ]
  },
  {
   "cell_type": "code",
   "execution_count": null,
   "metadata": {},
   "outputs": [],
   "source": []
  },
  {
   "cell_type": "code",
   "execution_count": 354,
   "metadata": {},
   "outputs": [
    {
     "data": {
      "image/png": "[encoded data removed]",
      "text/plain": [
       "<Figure size 640x480 with 1 Axes>"
      ]
     },
     "metadata": {},
     "output_type": "display_data"
    }
   ],
   "source": [
    "from matplotlib import pyplot as plt\n",
    "\n",
    "for x in range(len(X_reduced)):\n",
    "    plt.scatter(X_reduced[x,0],X_reduced[x,1],label=embeddingV[x])"
   ]
  },
  {
   "cell_type": "code",
   "execution_count": null,
   "metadata": {},
   "outputs": [],
   "source": []
  },
  {
   "cell_type": "code",
   "execution_count": null,
   "metadata": {},
   "outputs": [],
   "source": []
  }
 ],
 "metadata": {
  "kernelspec": {
   "display_name": "deep-learning",
   "language": "python",
   "name": "python3"
  },
  "language_info": {
   "codemirror_mode": {
    "name": "ipython",
    "version": 3
   },
   "file_extension": ".py",
   "mimetype": "text/x-python",
   "name": "python",
   "nbconvert_exporter": "python",
   "pygments_lexer": "ipython3",
   "version": "3.11.8"
  }
 },
 "nbformat": 4,
 "nbformat_minor": 2
}
