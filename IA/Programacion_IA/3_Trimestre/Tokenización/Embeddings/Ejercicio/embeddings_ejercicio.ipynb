{
 "cells": [
  {
   "cell_type": "markdown",
   "metadata": {},
   "source": [
    "!conda install -y -c plotly plotly\n",
    "\n",
    "!conda install -y -c plotly nbformat"
   ]
  },
  {
   "cell_type": "code",
   "execution_count": 1,
   "metadata": {},
   "outputs": [],
   "source": [
    "import pathlib\n",
    "\n",
    "path=str(pathlib.Path().resolve())+\"/\""
   ]
  },
  {
   "cell_type": "code",
   "execution_count": 2,
   "metadata": {},
   "outputs": [],
   "source": [
    "from gensim.models import Word2Vec\n",
    "import numpy as np\n",
    "from nltk.tokenize import word_tokenize\n",
    "import nltk"
   ]
  },
  {
   "cell_type": "code",
   "execution_count": 3,
   "metadata": {},
   "outputs": [
    {
     "name": "stderr",
     "output_type": "stream",
     "text": [
      "[nltk_data] Downloading package punkt to\n",
      "[nltk_data]     C:\\Users\\diego.guizanlopez\\AppData\\Roaming\\nltk_data..\n",
      "[nltk_data]     .\n",
      "[nltk_data]   Package punkt is already up-to-date!\n"
     ]
    },
    {
     "data": {
      "text/plain": [
       "True"
      ]
     },
     "execution_count": 3,
     "metadata": {},
     "output_type": "execute_result"
    }
   ],
   "source": [
    "nltk.download('punkt')"
   ]
  },
  {
   "cell_type": "code",
   "execution_count": 4,
   "metadata": {},
   "outputs": [],
   "source": [
    "text1 = \"\"\"Lo recuerdo (yo no tengo derecho a pronunciar ese verbo sagrado, sólo un hombre en la tierra tuvo derecho y ese hombre ha muerto) con una oscura pasionaria en la mano, viéndola como nadie la ha visto, aunque la mirara desde el crepúsculo del día hasta el de la noche, toda una vida entera. Lo recuerdo, la cara taciturna y aindiada y singularmente remota, detrás del cigarrillo. Recuerdo (creo) sus manos afiladas de trenzado. Recuerdo cerca de esas manos un mate, con las armas de la Banda Oriental; recuerdo en la ventana de la casa una estera amarilla, con un vago paisaje lacustre. Recuerdo claramente su voz; la voz pausada, resentida y nasal del orillero antiguo, sin los silbidos italianos de ahora. Más de tres veces no lo vi; la última, en 1887... Me parece muy feliz el proyecto de que todos aquellos que lo trataron escriban sobre él; mi testimonio será acaso el más breve y sin duda el más pobre, pero no el menos imparcial del volumen que editarán ustedes.\"\"\"\n",
    "\n",
    "text2 = \"\"\"Mi deplorable condición de argentino me impedirá incurrir en el ditirambo -género obligatorio en el Uruguay, cuando el tema es un uruguayo. Literato, cajetilla, porteño; Funes no dijo esas injuriosas palabras, pero de un modo suficiente me consta que yo representaba para él esas desventuras. Pedro Leandro Ipuche ha escrito que Funes era un precursor de los superhombres, \"un Zarathustra cimarrón y vernáculo \"; no lo discuto, pero no hay que olvidar que era también un compadrito de Fray Bentos, con ciertas incurables limitaciones.\"\"\"\n",
    "\n",
    "text3 = \"\"\"Mi primer recuerdo de Funes es muy perspicuo. Lo veo en un atardecer de marzo o febrero del año 84. Mi padre, ese año, me había llevado a veranear a Fray Bentos. Yo volvía con mi primo Bernardo Haedo de la estancia de San Francisco. Volvíamos cantando, a caballo, y ésa no era la única circunstancia de mi felicidad. Después de un día bochornoso, una enorme tormenta color pizarra había escondido el cielo. La alentaba el viento del Sur, ya se enloquecían los árboles; yo tenía el temor la esperanza) de que nos sorprendiera en un descampado el agua elemental. Corrimos una especie de carrera con la tormenta.\"\"\""
   ]
  },
  {
   "cell_type": "code",
   "execution_count": 5,
   "metadata": {},
   "outputs": [],
   "source": [
    "import re\n",
    "\n",
    "\n",
    "textL = [text1,text2,text3]\n",
    "\n",
    "textL = list(map(lambda x : re.sub(r\"[^\\w\\s]\",' ',x),textL))"
   ]
  },
  {
   "cell_type": "code",
   "execution_count": 6,
   "metadata": {},
   "outputs": [],
   "source": [
    "token1 = word_tokenize(textL[0].lower())\n",
    "token2 = word_tokenize(textL[1].lower())\n",
    "token3 = word_tokenize(textL[2].lower())\n"
   ]
  },
  {
   "cell_type": "code",
   "execution_count": 7,
   "metadata": {},
   "outputs": [],
   "source": [
    "# Entrenamos al tokenizador para que aprenda a separar frases, palabras\n",
    "# Ponemos el tamaño del Vector 10 para probar\n",
    "# Tamaño de salto de palabras es decir, palabras que contara seguidas\n",
    "# Min count para que tenga que aparecer X veces para que haga caso\n",
    "\n",
    "model = Word2Vec([token1,token2,token3],vector_size=10,window=5,min_count=1,sg=0)"
   ]
  },
  {
   "cell_type": "code",
   "execution_count": 8,
   "metadata": {},
   "outputs": [
    {
     "data": {
      "text/plain": [
       "['de',\n",
       " 'la',\n",
       " 'el',\n",
       " 'un',\n",
       " 'que',\n",
       " 'en',\n",
       " 'recuerdo',\n",
       " 'no',\n",
       " 'y',\n",
       " 'lo',\n",
       " 'mi',\n",
       " 'con',\n",
       " 'del',\n",
       " 'una',\n",
       " 'me',\n",
       " 'yo',\n",
       " 'a',\n",
       " 'pero',\n",
       " 'más',\n",
       " 'ese',\n",
       " 'funes',\n",
       " 'ha',\n",
       " 'era',\n",
       " 'los',\n",
       " 'esas',\n",
       " 'día',\n",
       " 'había',\n",
       " 'año',\n",
       " 'es',\n",
       " 'bentos',\n",
       " 'fray',\n",
       " 'manos',\n",
       " 'voz',\n",
       " 'muy',\n",
       " 'sin',\n",
       " 'él',\n",
       " 'tormenta',\n",
       " 'hombre',\n",
       " 'derecho',\n",
       " 'crepúsculo',\n",
       " 'orillero',\n",
       " 'italianos',\n",
       " 'silbidos',\n",
       " 'sólo',\n",
       " 'tierra',\n",
       " 'antiguo',\n",
       " 'nasal',\n",
       " 'tuvo',\n",
       " 'sagrado',\n",
       " 'resentida',\n",
       " 'pausada',\n",
       " 'muerto',\n",
       " 'su',\n",
       " 'claramente',\n",
       " 'ahora',\n",
       " 'tres',\n",
       " 'paisaje',\n",
       " 'proyecto',\n",
       " 'sobre',\n",
       " 'escriban',\n",
       " 'trataron',\n",
       " 'aquellos',\n",
       " 'tengo',\n",
       " 'todos',\n",
       " 'feliz',\n",
       " 'veces',\n",
       " 'pronunciar',\n",
       " 'parece',\n",
       " 'verbo',\n",
       " '1887',\n",
       " 'última',\n",
       " 'vi',\n",
       " 'lacustre',\n",
       " 'vago',\n",
       " 'desde',\n",
       " 'amarilla',\n",
       " 'detrás',\n",
       " 'remota',\n",
       " 'singularmente',\n",
       " 'aindiada',\n",
       " 'taciturna',\n",
       " 'cara',\n",
       " 'entera',\n",
       " 'nadie',\n",
       " 'vida',\n",
       " 'toda',\n",
       " 'visto',\n",
       " 'noche',\n",
       " 'aunque',\n",
       " 'hasta',\n",
       " 'mirara',\n",
       " 'cigarrillo',\n",
       " 'creo',\n",
       " 'como',\n",
       " 'las',\n",
       " 'estera',\n",
       " 'casa',\n",
       " 'ventana',\n",
       " 'oriental',\n",
       " 'banda',\n",
       " 'armas',\n",
       " 'mate',\n",
       " 'viéndola',\n",
       " 'oscura',\n",
       " 'cerca',\n",
       " 'trenzado',\n",
       " 'afiladas',\n",
       " 'pasionaria',\n",
       " 'mano',\n",
       " 'sus',\n",
       " 'carrera',\n",
       " 'testimonio',\n",
       " 'primo',\n",
       " 'única',\n",
       " 'ésa',\n",
       " 'caballo',\n",
       " 'cantando',\n",
       " 'volvíamos',\n",
       " 'francisco',\n",
       " 'san',\n",
       " 'estancia',\n",
       " 'haedo',\n",
       " 'bernardo',\n",
       " 'volvía',\n",
       " 'limitaciones',\n",
       " 'veranear',\n",
       " 'llevado',\n",
       " 'padre',\n",
       " '84',\n",
       " 'febrero',\n",
       " 'o',\n",
       " 'marzo',\n",
       " 'atardecer',\n",
       " 'veo',\n",
       " 'perspicuo',\n",
       " 'circunstancia',\n",
       " 'felicidad',\n",
       " 'después',\n",
       " 'bochornoso',\n",
       " 'corrimos',\n",
       " 'elemental',\n",
       " 'agua',\n",
       " 'descampado',\n",
       " 'sorprendiera',\n",
       " 'nos',\n",
       " 'esperanza',\n",
       " 'temor',\n",
       " 'tenía',\n",
       " 'árboles',\n",
       " 'enloquecían',\n",
       " 'se',\n",
       " 'ya',\n",
       " 'sur',\n",
       " 'viento',\n",
       " 'alentaba',\n",
       " 'cielo',\n",
       " 'escondido',\n",
       " 'pizarra',\n",
       " 'color',\n",
       " 'enorme',\n",
       " 'primer',\n",
       " 'incurables',\n",
       " 'será',\n",
       " 'argentino',\n",
       " 'literato',\n",
       " 'uruguayo',\n",
       " 'tema',\n",
       " 'cuando',\n",
       " 'uruguay',\n",
       " 'obligatorio',\n",
       " 'género',\n",
       " 'ditirambo',\n",
       " 'incurrir',\n",
       " 'impedirá',\n",
       " 'condición',\n",
       " 'ciertas',\n",
       " 'deplorable',\n",
       " 'ustedes',\n",
       " 'editarán',\n",
       " 'volumen',\n",
       " 'imparcial',\n",
       " 'menos',\n",
       " 'pobre',\n",
       " 'especie',\n",
       " 'breve',\n",
       " 'acaso',\n",
       " 'cajetilla',\n",
       " 'porteño',\n",
       " 'dijo',\n",
       " 'injuriosas',\n",
       " 'compadrito',\n",
       " 'también',\n",
       " 'olvidar',\n",
       " 'hay',\n",
       " 'discuto',\n",
       " 'vernáculo',\n",
       " 'cimarrón',\n",
       " 'zarathustra',\n",
       " 'superhombres',\n",
       " 'precursor',\n",
       " 'escrito',\n",
       " 'ipuche',\n",
       " 'leandro',\n",
       " 'pedro',\n",
       " 'desventuras',\n",
       " 'para',\n",
       " 'representaba',\n",
       " 'consta',\n",
       " 'suficiente',\n",
       " 'modo',\n",
       " 'palabras',\n",
       " 'duda']"
      ]
     },
     "execution_count": 8,
     "metadata": {},
     "output_type": "execute_result"
    }
   ],
   "source": [
    "model.wv.index_to_key"
   ]
  },
  {
   "cell_type": "code",
   "execution_count": 9,
   "metadata": {},
   "outputs": [],
   "source": [
    "embedding = model.wv.vectors\n"
   ]
  },
  {
   "cell_type": "code",
   "execution_count": 10,
   "metadata": {},
   "outputs": [],
   "source": [
    "#from scipy.spatial import distance\n",
    "\n",
    "# Da la distancia del coseno para calcular con los dos arrays de los tokens \n",
    "\n",
    "#cosine_dist =  distance.cosine(embedding2,embedding3)\n",
    "#print(cosine_dist)"
   ]
  },
  {
   "cell_type": "code",
   "execution_count": 11,
   "metadata": {},
   "outputs": [],
   "source": [
    "import pandas as pd\n",
    "\n",
    "\n",
    "\n",
    "\n",
    "from sklearn.decomposition import PCA\n",
    "pca = PCA(n_components=2)\n",
    "X_reduced = pca.fit_transform(pd.DataFrame(embedding))\n"
   ]
  },
  {
   "cell_type": "code",
   "execution_count": 12,
   "metadata": {},
   "outputs": [
    {
     "data": {
      "text/plain": [
       "212"
      ]
     },
     "execution_count": 12,
     "metadata": {},
     "output_type": "execute_result"
    }
   ],
   "source": [
    "len(X_reduced)"
   ]
  },
  {
   "cell_type": "code",
   "execution_count": 13,
   "metadata": {},
   "outputs": [],
   "source": [
    "words=list(model.wv.index_to_key)"
   ]
  },
  {
   "cell_type": "code",
   "execution_count": 14,
   "metadata": {},
   "outputs": [
    {
     "data": {
      "image/png": "[encoded data removed]",
      "text/plain": [
       "<Figure size 640x480 with 1 Axes>"
      ]
     },
     "metadata": {},
     "output_type": "display_data"
    }
   ],
   "source": [
    "from matplotlib import pyplot as plt\n",
    "\n",
    "plt.scatter(X_reduced[:,0],X_reduced[:,1])\n",
    "\n",
    "for x in range(len(X_reduced)):\n",
    "    plt.text(X_reduced[x,0],X_reduced[x,1],words[x])"
   ]
  },
  {
   "cell_type": "code",
   "execution_count": 15,
   "metadata": {},
   "outputs": [
    {
     "data": {
      "application/vnd.plotly.v1+json": {
       "config": {
        "plotlyServerURL": "https://plot.ly"
       },
       "data": [
        {
         "hovertemplate": "color=de<br>x=%{x}<br>y=%{y}<br>z=%{z}<extra></extra>",
         "legendgroup": "de",
         "marker": {
          "color": "#636efa",
          "symbol": "circle"
         },
         "mode": "markers",
         "name": "de",
         "scene": "scene",
         "showlegend": true,
         "type": "scatter3d",
         "x": [
          -0.07903017103672028
         ],
         "y": [
          -0.01868453063070774
         ],
         "z": [
          "de"
         ]
        },
        {
         "hovertemplate": "color=la<br>x=%{x}<br>y=%{y}<br>z=%{z}<extra></extra>",
         "legendgroup": "la",
         "marker": {
          "color": "#EF553B",
          "symbol": "circle"
         },
         "mode": "markers",
         "name": "la",
         "scene": "scene",
         "showlegend": true,
         "type": "scatter3d",
         "x": [
          -0.04226010665297508
         ],
         "y": [
          -0.005278485827147961
         ],
         "z": [
          "la"
         ]
        },
        {
         "hovertemplate": "color=el<br>x=%{x}<br>y=%{y}<br>z=%{z}<extra></extra>",
         "legendgroup": "el",
         "marker": {
          "color": "#00cc96",
          "symbol": "circle"
         },
         "mode": "markers",
         "name": "el",
         "scene": "scene",
         "showlegend": true,
         "type": "scatter3d",
         "x": [
          -0.018774397671222687
         ],
         "y": [
          0.09461091458797455
         ],
         "z": [
          "el"
         ]
        },
        {
         "hovertemplate": "color=un<br>x=%{x}<br>y=%{y}<br>z=%{z}<extra></extra>",
         "legendgroup": "un",
         "marker": {
          "color": "#ab63fa",
          "symbol": "circle"
         },
         "mode": "markers",
         "name": "un",
         "scene": "scene",
         "showlegend": true,
         "type": "scatter3d",
         "x": [
          -0.07474380731582642
         ],
         "y": [
          0.05825674161314964
         ],
         "z": [
          "un"
         ]
        },
        {
         "hovertemplate": "color=que<br>x=%{x}<br>y=%{y}<br>z=%{z}<extra></extra>",
         "legendgroup": "que",
         "marker": {
          "color": "#FFA15A",
          "symbol": "circle"
         },
         "mode": "markers",
         "name": "que",
         "scene": "scene",
         "showlegend": true,
         "type": "scatter3d",
         "x": [
          0.13572265207767487
         ],
         "y": [
          -0.07725498825311661
         ],
         "z": [
          "que"
         ]
        },
        {
         "hovertemplate": "color=en<br>x=%{x}<br>y=%{y}<br>z=%{z}<extra></extra>",
         "legendgroup": "en",
         "marker": {
          "color": "#19d3f3",
          "symbol": "circle"
         },
         "mode": "markers",
         "name": "en",
         "scene": "scene",
         "showlegend": true,
         "type": "scatter3d",
         "x": [
          -0.006701040081679821
         ],
         "y": [
          -0.027075957506895065
         ],
         "z": [
          "en"
         ]
        },
        {
         "hovertemplate": "color=recuerdo<br>x=%{x}<br>y=%{y}<br>z=%{z}<extra></extra>",
         "legendgroup": "recuerdo",
         "marker": {
          "color": "#FF6692",
          "symbol": "circle"
         },
         "mode": "markers",
         "name": "recuerdo",
         "scene": "scene",
         "showlegend": true,
         "type": "scatter3d",
         "x": [
          0.041298020631074905
         ],
         "y": [
          0.00832117348909378
         ],
         "z": [
          "recuerdo"
         ]
        },
        {
         "hovertemplate": "color=no<br>x=%{x}<br>y=%{y}<br>z=%{z}<extra></extra>",
         "legendgroup": "no",
         "marker": {
          "color": "#B6E880",
          "symbol": "circle"
         },
         "mode": "markers",
         "name": "no",
         "scene": "scene",
         "showlegend": true,
         "type": "scatter3d",
         "x": [
          0.0028597910422831774
         ],
         "y": [
          0.14783702790737152
         ],
         "z": [
          "no"
         ]
        },
        {
         "hovertemplate": "color=y<br>x=%{x}<br>y=%{y}<br>z=%{z}<extra></extra>",
         "legendgroup": "y",
         "marker": {
          "color": "#FF97FF",
          "symbol": "circle"
         },
         "mode": "markers",
         "name": "y",
         "scene": "scene",
         "showlegend": true,
         "type": "scatter3d",
         "x": [
          -0.12498049437999725
         ],
         "y": [
          -0.0485527329146862
         ],
         "z": [
          "y"
         ]
        },
        {
         "hovertemplate": "color=lo<br>x=%{x}<br>y=%{y}<br>z=%{z}<extra></extra>",
         "legendgroup": "lo",
         "marker": {
          "color": "#FECB52",
          "symbol": "circle"
         },
         "mode": "markers",
         "name": "lo",
         "scene": "scene",
         "showlegend": true,
         "type": "scatter3d",
         "x": [
          0.022406574338674545
         ],
         "y": [
          -0.019328894093632698
         ],
         "z": [
          "lo"
         ]
        },
        {
         "hovertemplate": "color=mi<br>x=%{x}<br>y=%{y}<br>z=%{z}<extra></extra>",
         "legendgroup": "mi",
         "marker": {
          "color": "#636efa",
          "symbol": "circle"
         },
         "mode": "markers",
         "name": "mi",
         "scene": "scene",
         "showlegend": true,
         "type": "scatter3d",
         "x": [
          0.00957920029759407
         ],
         "y": [
          0.03139976039528847
         ],
         "z": [
          "mi"
         ]
        },
        {
         "hovertemplate": "color=con<br>x=%{x}<br>y=%{y}<br>z=%{z}<extra></extra>",
         "legendgroup": "con",
         "marker": {
          "color": "#EF553B",
          "symbol": "circle"
         },
         "mode": "markers",
         "name": "con",
         "scene": "scene",
         "showlegend": true,
         "type": "scatter3d",
         "x": [
          0.005688877310603857
         ],
         "y": [
          -0.007987556979060173
         ],
         "z": [
          "con"
         ]
        },
        {
         "hovertemplate": "color=del<br>x=%{x}<br>y=%{y}<br>z=%{z}<extra></extra>",
         "legendgroup": "del",
         "marker": {
          "color": "#00cc96",
          "symbol": "circle"
         },
         "mode": "markers",
         "name": "del",
         "scene": "scene",
         "showlegend": true,
         "type": "scatter3d",
         "x": [
          0.03025132603943348
         ],
         "y": [
          0.060440439730882645
         ],
         "z": [
          "del"
         ]
        },
        {
         "hovertemplate": "color=una<br>x=%{x}<br>y=%{y}<br>z=%{z}<extra></extra>",
         "legendgroup": "una",
         "marker": {
          "color": "#ab63fa",
          "symbol": "circle"
         },
         "mode": "markers",
         "name": "una",
         "scene": "scene",
         "showlegend": true,
         "type": "scatter3d",
         "x": [
          0.06728203594684601
         ],
         "y": [
          0.07062861323356628
         ],
         "z": [
          "una"
         ]
        },
        {
         "hovertemplate": "color=me<br>x=%{x}<br>y=%{y}<br>z=%{z}<extra></extra>",
         "legendgroup": "me",
         "marker": {
          "color": "#FFA15A",
          "symbol": "circle"
         },
         "mode": "markers",
         "name": "me",
         "scene": "scene",
         "showlegend": true,
         "type": "scatter3d",
         "x": [
          0.01041969284415245
         ],
         "y": [
          -0.013843601569533348
         ],
         "z": [
          "me"
         ]
        },
        {
         "hovertemplate": "color=yo<br>x=%{x}<br>y=%{y}<br>z=%{z}<extra></extra>",
         "legendgroup": "yo",
         "marker": {
          "color": "#19d3f3",
          "symbol": "circle"
         },
         "mode": "markers",
         "name": "yo",
         "scene": "scene",
         "showlegend": true,
         "type": "scatter3d",
         "x": [
          -0.03430606424808502
         ],
         "y": [
          0.010345146991312504
         ],
         "z": [
          "yo"
         ]
        },
        {
         "hovertemplate": "color=a<br>x=%{x}<br>y=%{y}<br>z=%{z}<extra></extra>",
         "legendgroup": "a",
         "marker": {
          "color": "#FF6692",
          "symbol": "circle"
         },
         "mode": "markers",
         "name": "a",
         "scene": "scene",
         "showlegend": true,
         "type": "scatter3d",
         "x": [
          0.023618174716830254
         ],
         "y": [
          0.00250232988037169
         ],
         "z": [
          "a"
         ]
        },
        {
         "hovertemplate": "color=pero<br>x=%{x}<br>y=%{y}<br>z=%{z}<extra></extra>",
         "legendgroup": "pero",
         "marker": {
          "color": "#B6E880",
          "symbol": "circle"
         },
         "mode": "markers",
         "name": "pero",
         "scene": "scene",
         "showlegend": true,
         "type": "scatter3d",
         "x": [
          0.03156212344765663
         ],
         "y": [
          -0.0851145088672638
         ],
         "z": [
          "pero"
         ]
        },
        {
         "hovertemplate": "color=más<br>x=%{x}<br>y=%{y}<br>z=%{z}<extra></extra>",
         "legendgroup": "más",
         "marker": {
          "color": "#FF97FF",
          "symbol": "circle"
         },
         "mode": "markers",
         "name": "más",
         "scene": "scene",
         "showlegend": true,
         "type": "scatter3d",
         "x": [
          -0.012546900659799576
         ],
         "y": [
          0.015142426826059818
         ],
         "z": [
          "más"
         ]
        },
        {
         "hovertemplate": "color=ese<br>x=%{x}<br>y=%{y}<br>z=%{z}<extra></extra>",
         "legendgroup": "ese",
         "marker": {
          "color": "#FECB52",
          "symbol": "circle"
         },
         "mode": "markers",
         "name": "ese",
         "scene": "scene",
         "showlegend": true,
         "type": "scatter3d",
         "x": [
          -0.08079599589109421
         ],
         "y": [
          0.03364913910627365
         ],
         "z": [
          "ese"
         ]
        },
        {
         "hovertemplate": "color=funes<br>x=%{x}<br>y=%{y}<br>z=%{z}<extra></extra>",
         "legendgroup": "funes",
         "marker": {
          "color": "#636efa",
          "symbol": "circle"
         },
         "mode": "markers",
         "name": "funes",
         "scene": "scene",
         "showlegend": true,
         "type": "scatter3d",
         "x": [
          0.02970440313220024
         ],
         "y": [
          -0.0029260136652737856
         ],
         "z": [
          "funes"
         ]
        },
        {
         "hovertemplate": "color=ha<br>x=%{x}<br>y=%{y}<br>z=%{z}<extra></extra>",
         "legendgroup": "ha",
         "marker": {
          "color": "#EF553B",
          "symbol": "circle"
         },
         "mode": "markers",
         "name": "ha",
         "scene": "scene",
         "showlegend": true,
         "type": "scatter3d",
         "x": [
          -0.024084262549877167
         ],
         "y": [
          0.08721750229597092
         ],
         "z": [
          "ha"
         ]
        },
        {
         "hovertemplate": "color=era<br>x=%{x}<br>y=%{y}<br>z=%{z}<extra></extra>",
         "legendgroup": "era",
         "marker": {
          "color": "#00cc96",
          "symbol": "circle"
         },
         "mode": "markers",
         "name": "era",
         "scene": "scene",
         "showlegend": true,
         "type": "scatter3d",
         "x": [
          0.03711739555001259
         ],
         "y": [
          0.05854494869709015
         ],
         "z": [
          "era"
         ]
        },
        {
         "hovertemplate": "color=los<br>x=%{x}<br>y=%{y}<br>z=%{z}<extra></extra>",
         "legendgroup": "los",
         "marker": {
          "color": "#ab63fa",
          "symbol": "circle"
         },
         "mode": "markers",
         "name": "los",
         "scene": "scene",
         "showlegend": true,
         "type": "scatter3d",
         "x": [
          0.046610523015260696
         ],
         "y": [
          -0.04631270840764046
         ],
         "z": [
          "los"
         ]
        },
        {
         "hovertemplate": "color=esas<br>x=%{x}<br>y=%{y}<br>z=%{z}<extra></extra>",
         "legendgroup": "esas",
         "marker": {
          "color": "#FFA15A",
          "symbol": "circle"
         },
         "mode": "markers",
         "name": "esas",
         "scene": "scene",
         "showlegend": true,
         "type": "scatter3d",
         "x": [
          -0.03427748754620552
         ],
         "y": [
          -0.030286366119980812
         ],
         "z": [
          "esas"
         ]
        },
        {
         "hovertemplate": "color=día<br>x=%{x}<br>y=%{y}<br>z=%{z}<extra></extra>",
         "legendgroup": "día",
         "marker": {
          "color": "#19d3f3",
          "symbol": "circle"
         },
         "mode": "markers",
         "name": "día",
         "scene": "scene",
         "showlegend": true,
         "type": "scatter3d",
         "x": [
          0.0018867701292037964
         ],
         "y": [
          -0.03837661072611809
         ],
         "z": [
          "día"
         ]
        },
        {
         "hovertemplate": "color=había<br>x=%{x}<br>y=%{y}<br>z=%{z}<extra></extra>",
         "legendgroup": "había",
         "marker": {
          "color": "#FF6692",
          "symbol": "circle"
         },
         "mode": "markers",
         "name": "había",
         "scene": "scene",
         "showlegend": true,
         "type": "scatter3d",
         "x": [
          -0.12934479117393494
         ],
         "y": [
          0.01828383095562458
         ],
         "z": [
          "había"
         ]
        },
        {
         "hovertemplate": "color=año<br>x=%{x}<br>y=%{y}<br>z=%{z}<extra></extra>",
         "legendgroup": "año",
         "marker": {
          "color": "#B6E880",
          "symbol": "circle"
         },
         "mode": "markers",
         "name": "año",
         "scene": "scene",
         "showlegend": true,
         "type": "scatter3d",
         "x": [
          -0.08921908587217331
         ],
         "y": [
          0.062006283551454544
         ],
         "z": [
          "año"
         ]
        },
        {
         "hovertemplate": "color=es<br>x=%{x}<br>y=%{y}<br>z=%{z}<extra></extra>",
         "legendgroup": "es",
         "marker": {
          "color": "#FF97FF",
          "symbol": "circle"
         },
         "mode": "markers",
         "name": "es",
         "scene": "scene",
         "showlegend": true,
         "type": "scatter3d",
         "x": [
          0.10512663424015045
         ],
         "y": [
          -0.08024074137210846
         ],
         "z": [
          "es"
         ]
        },
        {
         "hovertemplate": "color=bentos<br>x=%{x}<br>y=%{y}<br>z=%{z}<extra></extra>",
         "legendgroup": "bentos",
         "marker": {
          "color": "#FECB52",
          "symbol": "circle"
         },
         "mode": "markers",
         "name": "bentos",
         "scene": "scene",
         "showlegend": true,
         "type": "scatter3d",
         "x": [
          0.012364796362817287
         ],
         "y": [
          0.12345464527606964
         ],
         "z": [
          "bentos"
         ]
        },
        {
         "hovertemplate": "color=fray<br>x=%{x}<br>y=%{y}<br>z=%{z}<extra></extra>",
         "legendgroup": "fray",
         "marker": {
          "color": "#636efa",
          "symbol": "circle"
         },
         "mode": "markers",
         "name": "fray",
         "scene": "scene",
         "showlegend": true,
         "type": "scatter3d",
         "x": [
          0.07807880640029907
         ],
         "y": [
          0.06275010854005814
         ],
         "z": [
          "fray"
         ]
        },
        {
         "hovertemplate": "color=manos<br>x=%{x}<br>y=%{y}<br>z=%{z}<extra></extra>",
         "legendgroup": "manos",
         "marker": {
          "color": "#EF553B",
          "symbol": "circle"
         },
         "mode": "markers",
         "name": "manos",
         "scene": "scene",
         "showlegend": true,
         "type": "scatter3d",
         "x": [
          -0.07127832621335983
         ],
         "y": [
          0.11993304640054703
         ],
         "z": [
          "manos"
         ]
        },
        {
         "hovertemplate": "color=voz<br>x=%{x}<br>y=%{y}<br>z=%{z}<extra></extra>",
         "legendgroup": "voz",
         "marker": {
          "color": "#00cc96",
          "symbol": "circle"
         },
         "mode": "markers",
         "name": "voz",
         "scene": "scene",
         "showlegend": true,
         "type": "scatter3d",
         "x": [
          -0.10044951736927032
         ],
         "y": [
          -0.031813185662031174
         ],
         "z": [
          "voz"
         ]
        },
        {
         "hovertemplate": "color=muy<br>x=%{x}<br>y=%{y}<br>z=%{z}<extra></extra>",
         "legendgroup": "muy",
         "marker": {
          "color": "#ab63fa",
          "symbol": "circle"
         },
         "mode": "markers",
         "name": "muy",
         "scene": "scene",
         "showlegend": true,
         "type": "scatter3d",
         "x": [
          -0.06319264322519302
         ],
         "y": [
          -0.002218443201854825
         ],
         "z": [
          "muy"
         ]
        },
        {
         "hovertemplate": "color=sin<br>x=%{x}<br>y=%{y}<br>z=%{z}<extra></extra>",
         "legendgroup": "sin",
         "marker": {
          "color": "#FFA15A",
          "symbol": "circle"
         },
         "mode": "markers",
         "name": "sin",
         "scene": "scene",
         "showlegend": true,
         "type": "scatter3d",
         "x": [
          -0.0354614220559597
         ],
         "y": [
          0.09812452644109726
         ],
         "z": [
          "sin"
         ]
        },
        {
         "hovertemplate": "color=él<br>x=%{x}<br>y=%{y}<br>z=%{z}<extra></extra>",
         "legendgroup": "él",
         "marker": {
          "color": "#19d3f3",
          "symbol": "circle"
         },
         "mode": "markers",
         "name": "él",
         "scene": "scene",
         "showlegend": true,
         "type": "scatter3d",
         "x": [
          0.10919848084449768
         ],
         "y": [
          0.037171222269535065
         ],
         "z": [
          "él"
         ]
        },
        {
         "hovertemplate": "color=tormenta<br>x=%{x}<br>y=%{y}<br>z=%{z}<extra></extra>",
         "legendgroup": "tormenta",
         "marker": {
          "color": "#FF6692",
          "symbol": "circle"
         },
         "mode": "markers",
         "name": "tormenta",
         "scene": "scene",
         "showlegend": true,
         "type": "scatter3d",
         "x": [
          0.01962948776781559
         ],
         "y": [
          0.09445314109325409
         ],
         "z": [
          "tormenta"
         ]
        },
        {
         "hovertemplate": "color=hombre<br>x=%{x}<br>y=%{y}<br>z=%{z}<extra></extra>",
         "legendgroup": "hombre",
         "marker": {
          "color": "#B6E880",
          "symbol": "circle"
         },
         "mode": "markers",
         "name": "hombre",
         "scene": "scene",
         "showlegend": true,
         "type": "scatter3d",
         "x": [
          0.006731363944709301
         ],
         "y": [
          -0.07487968355417252
         ],
         "z": [
          "hombre"
         ]
        },
        {
         "hovertemplate": "color=derecho<br>x=%{x}<br>y=%{y}<br>z=%{z}<extra></extra>",
         "legendgroup": "derecho",
         "marker": {
          "color": "#FF97FF",
          "symbol": "circle"
         },
         "mode": "markers",
         "name": "derecho",
         "scene": "scene",
         "showlegend": true,
         "type": "scatter3d",
         "x": [
          -0.04498666524887085
         ],
         "y": [
          0.06257712095975876
         ],
         "z": [
          "derecho"
         ]
        },
        {
         "hovertemplate": "color=crepúsculo<br>x=%{x}<br>y=%{y}<br>z=%{z}<extra></extra>",
         "legendgroup": "crepúsculo",
         "marker": {
          "color": "#FECB52",
          "symbol": "circle"
         },
         "mode": "markers",
         "name": "crepúsculo",
         "scene": "scene",
         "showlegend": true,
         "type": "scatter3d",
         "x": [
          -0.00015310666640289128
         ],
         "y": [
          0.04840315878391266
         ],
         "z": [
          "crepúsculo"
         ]
        },
        {
         "hovertemplate": "color=orillero<br>x=%{x}<br>y=%{y}<br>z=%{z}<extra></extra>",
         "legendgroup": "orillero",
         "marker": {
          "color": "#636efa",
          "symbol": "circle"
         },
         "mode": "markers",
         "name": "orillero",
         "scene": "scene",
         "showlegend": true,
         "type": "scatter3d",
         "x": [
          0.025564590469002724
         ],
         "y": [
          -0.030345851555466652
         ],
         "z": [
          "orillero"
         ]
        },
        {
         "hovertemplate": "color=italianos<br>x=%{x}<br>y=%{y}<br>z=%{z}<extra></extra>",
         "legendgroup": "italianos",
         "marker": {
          "color": "#EF553B",
          "symbol": "circle"
         },
         "mode": "markers",
         "name": "italianos",
         "scene": "scene",
         "showlegend": true,
         "type": "scatter3d",
         "x": [
          0.09419132769107819
         ],
         "y": [
          -0.06387560814619064
         ],
         "z": [
          "italianos"
         ]
        },
        {
         "hovertemplate": "color=silbidos<br>x=%{x}<br>y=%{y}<br>z=%{z}<extra></extra>",
         "legendgroup": "silbidos",
         "marker": {
          "color": "#00cc96",
          "symbol": "circle"
         },
         "mode": "markers",
         "name": "silbidos",
         "scene": "scene",
         "showlegend": true,
         "type": "scatter3d",
         "x": [
          -0.08468638360500336
         ],
         "y": [
          -0.039517953991889954
         ],
         "z": [
          "silbidos"
         ]
        },
        {
         "hovertemplate": "color=sólo<br>x=%{x}<br>y=%{y}<br>z=%{z}<extra></extra>",
         "legendgroup": "sólo",
         "marker": {
          "color": "#ab63fa",
          "symbol": "circle"
         },
         "mode": "markers",
         "name": "sólo",
         "scene": "scene",
         "showlegend": true,
         "type": "scatter3d",
         "x": [
          0.07869581133127213
         ],
         "y": [
          0.09140113741159439
         ],
         "z": [
          "sólo"
         ]
        },
        {
         "hovertemplate": "color=tierra<br>x=%{x}<br>y=%{y}<br>z=%{z}<extra></extra>",
         "legendgroup": "tierra",
         "marker": {
          "color": "#FFA15A",
          "symbol": "circle"
         },
         "mode": "markers",
         "name": "tierra",
         "scene": "scene",
         "showlegend": true,
         "type": "scatter3d",
         "x": [
          0.09413019567728043
         ],
         "y": [
          -0.027600323781371117
         ],
         "z": [
          "tierra"
         ]
        },
        {
         "hovertemplate": "color=antiguo<br>x=%{x}<br>y=%{y}<br>z=%{z}<extra></extra>",
         "legendgroup": "antiguo",
         "marker": {
          "color": "#19d3f3",
          "symbol": "circle"
         },
         "mode": "markers",
         "name": "antiguo",
         "scene": "scene",
         "showlegend": true,
         "type": "scatter3d",
         "x": [
          -0.023235155269503593
         ],
         "y": [
          0.016726886853575706
         ],
         "z": [
          "antiguo"
         ]
        },
        {
         "hovertemplate": "color=nasal<br>x=%{x}<br>y=%{y}<br>z=%{z}<extra></extra>",
         "legendgroup": "nasal",
         "marker": {
          "color": "#FF6692",
          "symbol": "circle"
         },
         "mode": "markers",
         "name": "nasal",
         "scene": "scene",
         "showlegend": true,
         "type": "scatter3d",
         "x": [
          -0.05185911804437637
         ],
         "y": [
          0.01888042874634266
         ],
         "z": [
          "nasal"
         ]
        },
        {
         "hovertemplate": "color=tuvo<br>x=%{x}<br>y=%{y}<br>z=%{z}<extra></extra>",
         "legendgroup": "tuvo",
         "marker": {
          "color": "#B6E880",
          "symbol": "circle"
         },
         "mode": "markers",
         "name": "tuvo",
         "scene": "scene",
         "showlegend": true,
         "type": "scatter3d",
         "x": [
          0.09611722826957703
         ],
         "y": [
          0.014454652555286884
         ],
         "z": [
          "tuvo"
         ]
        },
        {
         "hovertemplate": "color=sagrado<br>x=%{x}<br>y=%{y}<br>z=%{z}<extra></extra>",
         "legendgroup": "sagrado",
         "marker": {
          "color": "#FF97FF",
          "symbol": "circle"
         },
         "mode": "markers",
         "name": "sagrado",
         "scene": "scene",
         "showlegend": true,
         "type": "scatter3d",
         "x": [
          -0.07120451331138611
         ],
         "y": [
          -0.003759743645787239
         ],
         "z": [
          "sagrado"
         ]
        },
        {
         "hovertemplate": "color=resentida<br>x=%{x}<br>y=%{y}<br>z=%{z}<extra></extra>",
         "legendgroup": "resentida",
         "marker": {
          "color": "#FECB52",
          "symbol": "circle"
         },
         "mode": "markers",
         "name": "resentida",
         "scene": "scene",
         "showlegend": true,
         "type": "scatter3d",
         "x": [
          0.011043990030884743
         ],
         "y": [
          0.06362447887659073
         ],
         "z": [
          "resentida"
         ]
        },
        {
         "hovertemplate": "color=pausada<br>x=%{x}<br>y=%{y}<br>z=%{z}<extra></extra>",
         "legendgroup": "pausada",
         "marker": {
          "color": "#636efa",
          "symbol": "circle"
         },
         "mode": "markers",
         "name": "pausada",
         "scene": "scene",
         "showlegend": true,
         "type": "scatter3d",
         "x": [
          -0.030945852398872375
         ],
         "y": [
          0.019391320645809174
         ],
         "z": [
          "pausada"
         ]
        },
        {
         "hovertemplate": "color=muerto<br>x=%{x}<br>y=%{y}<br>z=%{z}<extra></extra>",
         "legendgroup": "muerto",
         "marker": {
          "color": "#EF553B",
          "symbol": "circle"
         },
         "mode": "markers",
         "name": "muerto",
         "scene": "scene",
         "showlegend": true,
         "type": "scatter3d",
         "x": [
          0.06586018204689026
         ],
         "y": [
          -0.052813559770584106
         ],
         "z": [
          "muerto"
         ]
        },
        {
         "hovertemplate": "color=su<br>x=%{x}<br>y=%{y}<br>z=%{z}<extra></extra>",
         "legendgroup": "su",
         "marker": {
          "color": "#00cc96",
          "symbol": "circle"
         },
         "mode": "markers",
         "name": "su",
         "scene": "scene",
         "showlegend": true,
         "type": "scatter3d",
         "x": [
          -0.11232752352952957
         ],
         "y": [
          -0.11028484255075455
         ],
         "z": [
          "su"
         ]
        },
        {
         "hovertemplate": "color=claramente<br>x=%{x}<br>y=%{y}<br>z=%{z}<extra></extra>",
         "legendgroup": "claramente",
         "marker": {
          "color": "#ab63fa",
          "symbol": "circle"
         },
         "mode": "markers",
         "name": "claramente",
         "scene": "scene",
         "showlegend": true,
         "type": "scatter3d",
         "x": [
          0.06257462501525879
         ],
         "y": [
          0.06845758110284805
         ],
         "z": [
          "claramente"
         ]
        },
        {
         "hovertemplate": "color=ahora<br>x=%{x}<br>y=%{y}<br>z=%{z}<extra></extra>",
         "legendgroup": "ahora",
         "marker": {
          "color": "#FFA15A",
          "symbol": "circle"
         },
         "mode": "markers",
         "name": "ahora",
         "scene": "scene",
         "showlegend": true,
         "type": "scatter3d",
         "x": [
          0.08167307078838348
         ],
         "y": [
          0.010124210268259048
         ],
         "z": [
          "ahora"
         ]
        },
        {
         "hovertemplate": "color=tres<br>x=%{x}<br>y=%{y}<br>z=%{z}<extra></extra>",
         "legendgroup": "tres",
         "marker": {
          "color": "#19d3f3",
          "symbol": "circle"
         },
         "mode": "markers",
         "name": "tres",
         "scene": "scene",
         "showlegend": true,
         "type": "scatter3d",
         "x": [
          -0.17503875494003296
         ],
         "y": [
          -0.019562121480703354
         ],
         "z": [
          "tres"
         ]
        },
        {
         "hovertemplate": "color=paisaje<br>x=%{x}<br>y=%{y}<br>z=%{z}<extra></extra>",
         "legendgroup": "paisaje",
         "marker": {
          "color": "#FF6692",
          "symbol": "circle"
         },
         "mode": "markers",
         "name": "paisaje",
         "scene": "scene",
         "showlegend": true,
         "type": "scatter3d",
         "x": [
          -0.035917017608881
         ],
         "y": [
          0.14280423521995544
         ],
         "z": [
          "paisaje"
         ]
        },
        {
         "hovertemplate": "color=proyecto<br>x=%{x}<br>y=%{y}<br>z=%{z}<extra></extra>",
         "legendgroup": "proyecto",
         "marker": {
          "color": "#B6E880",
          "symbol": "circle"
         },
         "mode": "markers",
         "name": "proyecto",
         "scene": "scene",
         "showlegend": true,
         "type": "scatter3d",
         "x": [
          -0.02432400919497013
         ],
         "y": [
          -0.034730345010757446
         ],
         "z": [
          "proyecto"
         ]
        },
        {
         "hovertemplate": "color=sobre<br>x=%{x}<br>y=%{y}<br>z=%{z}<extra></extra>",
         "legendgroup": "sobre",
         "marker": {
          "color": "#FF97FF",
          "symbol": "circle"
         },
         "mode": "markers",
         "name": "sobre",
         "scene": "scene",
         "showlegend": true,
         "type": "scatter3d",
         "x": [
          0.05657958984375
         ],
         "y": [
          0.04396449774503708
         ],
         "z": [
          "sobre"
         ]
        },
        {
         "hovertemplate": "color=escriban<br>x=%{x}<br>y=%{y}<br>z=%{z}<extra></extra>",
         "legendgroup": "escriban",
         "marker": {
          "color": "#FECB52",
          "symbol": "circle"
         },
         "mode": "markers",
         "name": "escriban",
         "scene": "scene",
         "showlegend": true,
         "type": "scatter3d",
         "x": [
          0.0682738870382309
         ],
         "y": [
          0.07380841672420502
         ],
         "z": [
          "escriban"
         ]
        },
        {
         "hovertemplate": "color=trataron<br>x=%{x}<br>y=%{y}<br>z=%{z}<extra></extra>",
         "legendgroup": "trataron",
         "marker": {
          "color": "#636efa",
          "symbol": "circle"
         },
         "mode": "markers",
         "name": "trataron",
         "scene": "scene",
         "showlegend": true,
         "type": "scatter3d",
         "x": [
          -0.02893439307808876
         ],
         "y": [
          0.034141119569540024
         ],
         "z": [
          "trataron"
         ]
        },
        {
         "hovertemplate": "color=aquellos<br>x=%{x}<br>y=%{y}<br>z=%{z}<extra></extra>",
         "legendgroup": "aquellos",
         "marker": {
          "color": "#EF553B",
          "symbol": "circle"
         },
         "mode": "markers",
         "name": "aquellos",
         "scene": "scene",
         "showlegend": true,
         "type": "scatter3d",
         "x": [
          -0.026211922988295555
         ],
         "y": [
          0.02846010960638523
         ],
         "z": [
          "aquellos"
         ]
        },
        {
         "hovertemplate": "color=tengo<br>x=%{x}<br>y=%{y}<br>z=%{z}<extra></extra>",
         "legendgroup": "tengo",
         "marker": {
          "color": "#00cc96",
          "symbol": "circle"
         },
         "mode": "markers",
         "name": "tengo",
         "scene": "scene",
         "showlegend": true,
         "type": "scatter3d",
         "x": [
          -0.04562391713261604
         ],
         "y": [
          0.010015944018959999
         ],
         "z": [
          "tengo"
         ]
        },
        {
         "hovertemplate": "color=todos<br>x=%{x}<br>y=%{y}<br>z=%{z}<extra></extra>",
         "legendgroup": "todos",
         "marker": {
          "color": "#ab63fa",
          "symbol": "circle"
         },
         "mode": "markers",
         "name": "todos",
         "scene": "scene",
         "showlegend": true,
         "type": "scatter3d",
         "x": [
          -0.056229859590530396
         ],
         "y": [
          -0.026588231325149536
         ],
         "z": [
          "todos"
         ]
        },
        {
         "hovertemplate": "color=feliz<br>x=%{x}<br>y=%{y}<br>z=%{z}<extra></extra>",
         "legendgroup": "feliz",
         "marker": {
          "color": "#FFA15A",
          "symbol": "circle"
         },
         "mode": "markers",
         "name": "feliz",
         "scene": "scene",
         "showlegend": true,
         "type": "scatter3d",
         "x": [
          -0.041435617953538895
         ],
         "y": [
          0.039393652230501175
         ],
         "z": [
          "feliz"
         ]
        },
        {
         "hovertemplate": "color=veces<br>x=%{x}<br>y=%{y}<br>z=%{z}<extra></extra>",
         "legendgroup": "veces",
         "marker": {
          "color": "#19d3f3",
          "symbol": "circle"
         },
         "mode": "markers",
         "name": "veces",
         "scene": "scene",
         "showlegend": true,
         "type": "scatter3d",
         "x": [
          -0.011317368596792221
         ],
         "y": [
          -0.10534301400184631
         ],
         "z": [
          "veces"
         ]
        },
        {
         "hovertemplate": "color=pronunciar<br>x=%{x}<br>y=%{y}<br>z=%{z}<extra></extra>",
         "legendgroup": "pronunciar",
         "marker": {
          "color": "#FF6692",
          "symbol": "circle"
         },
         "mode": "markers",
         "name": "pronunciar",
         "scene": "scene",
         "showlegend": true,
         "type": "scatter3d",
         "x": [
          -0.072677843272686
         ],
         "y": [
          -0.03654732182621956
         ],
         "z": [
          "pronunciar"
         ]
        },
        {
         "hovertemplate": "color=parece<br>x=%{x}<br>y=%{y}<br>z=%{z}<extra></extra>",
         "legendgroup": "parece",
         "marker": {
          "color": "#B6E880",
          "symbol": "circle"
         },
         "mode": "markers",
         "name": "parece",
         "scene": "scene",
         "showlegend": true,
         "type": "scatter3d",
         "x": [
          0.022923970595002174
         ],
         "y": [
          0.008550424128770828
         ],
         "z": [
          "parece"
         ]
        },
        {
         "hovertemplate": "color=verbo<br>x=%{x}<br>y=%{y}<br>z=%{z}<extra></extra>",
         "legendgroup": "verbo",
         "marker": {
          "color": "#FF97FF",
          "symbol": "circle"
         },
         "mode": "markers",
         "name": "verbo",
         "scene": "scene",
         "showlegend": true,
         "type": "scatter3d",
         "x": [
          -0.04267879202961922
         ],
         "y": [
          -0.010440938174724579
         ],
         "z": [
          "verbo"
         ]
        },
        {
         "hovertemplate": "color=1887<br>x=%{x}<br>y=%{y}<br>z=%{z}<extra></extra>",
         "legendgroup": "1887",
         "marker": {
          "color": "#FECB52",
          "symbol": "circle"
         },
         "mode": "markers",
         "name": "1887",
         "scene": "scene",
         "showlegend": true,
         "type": "scatter3d",
         "x": [
          -0.043846819549798965
         ],
         "y": [
          -0.018907442688941956
         ],
         "z": [
          "1887"
         ]
        },
        {
         "hovertemplate": "color=última<br>x=%{x}<br>y=%{y}<br>z=%{z}<extra></extra>",
         "legendgroup": "última",
         "marker": {
          "color": "#636efa",
          "symbol": "circle"
         },
         "mode": "markers",
         "name": "última",
         "scene": "scene",
         "showlegend": true,
         "type": "scatter3d",
         "x": [
          -0.12175313383340836
         ],
         "y": [
          0.010778912343084812
         ],
         "z": [
          "última"
         ]
        },
        {
         "hovertemplate": "color=vi<br>x=%{x}<br>y=%{y}<br>z=%{z}<extra></extra>",
         "legendgroup": "vi",
         "marker": {
          "color": "#EF553B",
          "symbol": "circle"
         },
         "mode": "markers",
         "name": "vi",
         "scene": "scene",
         "showlegend": true,
         "type": "scatter3d",
         "x": [
          -0.056709371507167816
         ],
         "y": [
          0.06896179169416428
         ],
         "z": [
          "vi"
         ]
        },
        {
         "hovertemplate": "color=lacustre<br>x=%{x}<br>y=%{y}<br>z=%{z}<extra></extra>",
         "legendgroup": "lacustre",
         "marker": {
          "color": "#00cc96",
          "symbol": "circle"
         },
         "mode": "markers",
         "name": "lacustre",
         "scene": "scene",
         "showlegend": true,
         "type": "scatter3d",
         "x": [
          -0.032943643629550934
         ],
         "y": [
          -0.006260580848902464
         ],
         "z": [
          "lacustre"
         ]
        },
        {
         "hovertemplate": "color=vago<br>x=%{x}<br>y=%{y}<br>z=%{z}<extra></extra>",
         "legendgroup": "vago",
         "marker": {
          "color": "#ab63fa",
          "symbol": "circle"
         },
         "mode": "markers",
         "name": "vago",
         "scene": "scene",
         "showlegend": true,
         "type": "scatter3d",
         "x": [
          -0.008725117892026901
         ],
         "y": [
          -0.039539143443107605
         ],
         "z": [
          "vago"
         ]
        },
        {
         "hovertemplate": "color=desde<br>x=%{x}<br>y=%{y}<br>z=%{z}<extra></extra>",
         "legendgroup": "desde",
         "marker": {
          "color": "#FFA15A",
          "symbol": "circle"
         },
         "mode": "markers",
         "name": "desde",
         "scene": "scene",
         "showlegend": true,
         "type": "scatter3d",
         "x": [
          0.10805892199277878
         ],
         "y": [
          -0.008667842485010624
         ],
         "z": [
          "desde"
         ]
        },
        {
         "hovertemplate": "color=amarilla<br>x=%{x}<br>y=%{y}<br>z=%{z}<extra></extra>",
         "legendgroup": "amarilla",
         "marker": {
          "color": "#19d3f3",
          "symbol": "circle"
         },
         "mode": "markers",
         "name": "amarilla",
         "scene": "scene",
         "showlegend": true,
         "type": "scatter3d",
         "x": [
          -0.01051743421703577
         ],
         "y": [
          -0.045680802315473557
         ],
         "z": [
          "amarilla"
         ]
        },
        {
         "hovertemplate": "color=detrás<br>x=%{x}<br>y=%{y}<br>z=%{z}<extra></extra>",
         "legendgroup": "detrás",
         "marker": {
          "color": "#FF6692",
          "symbol": "circle"
         },
         "mode": "markers",
         "name": "detrás",
         "scene": "scene",
         "showlegend": true,
         "type": "scatter3d",
         "x": [
          0.07249009609222412
         ],
         "y": [
          -0.030052531510591507
         ],
         "z": [
          "detrás"
         ]
        },
        {
         "hovertemplate": "color=remota<br>x=%{x}<br>y=%{y}<br>z=%{z}<extra></extra>",
         "legendgroup": "remota",
         "marker": {
          "color": "#B6E880",
          "symbol": "circle"
         },
         "mode": "markers",
         "name": "remota",
         "scene": "scene",
         "showlegend": true,
         "type": "scatter3d",
         "x": [
          -0.058673158288002014
         ],
         "y": [
          0.06086214631795883
         ],
         "z": [
          "remota"
         ]
        },
        {
         "hovertemplate": "color=singularmente<br>x=%{x}<br>y=%{y}<br>z=%{z}<extra></extra>",
         "legendgroup": "singularmente",
         "marker": {
          "color": "#FF97FF",
          "symbol": "circle"
         },
         "mode": "markers",
         "name": "singularmente",
         "scene": "scene",
         "showlegend": true,
         "type": "scatter3d",
         "x": [
          0.11420977115631104
         ],
         "y": [
          -0.017938150092959404
         ],
         "z": [
          "singularmente"
         ]
        },
        {
         "hovertemplate": "color=aindiada<br>x=%{x}<br>y=%{y}<br>z=%{z}<extra></extra>",
         "legendgroup": "aindiada",
         "marker": {
          "color": "#FECB52",
          "symbol": "circle"
         },
         "mode": "markers",
         "name": "aindiada",
         "scene": "scene",
         "showlegend": true,
         "type": "scatter3d",
         "x": [
          0.04686355218291283
         ],
         "y": [
          -0.0767204612493515
         ],
         "z": [
          "aindiada"
         ]
        },
        {
         "hovertemplate": "color=taciturna<br>x=%{x}<br>y=%{y}<br>z=%{z}<extra></extra>",
         "legendgroup": "taciturna",
         "marker": {
          "color": "#636efa",
          "symbol": "circle"
         },
         "mode": "markers",
         "name": "taciturna",
         "scene": "scene",
         "showlegend": true,
         "type": "scatter3d",
         "x": [
          -0.11399385333061218
         ],
         "y": [
          0.0036481572315096855
         ],
         "z": [
          "taciturna"
         ]
        },
        {
         "hovertemplate": "color=cara<br>x=%{x}<br>y=%{y}<br>z=%{z}<extra></extra>",
         "legendgroup": "cara",
         "marker": {
          "color": "#EF553B",
          "symbol": "circle"
         },
         "mode": "markers",
         "name": "cara",
         "scene": "scene",
         "showlegend": true,
         "type": "scatter3d",
         "x": [
          -0.012062734924256802
         ],
         "y": [
          0.0616011843085289
         ],
         "z": [
          "cara"
         ]
        },
        {
         "hovertemplate": "color=entera<br>x=%{x}<br>y=%{y}<br>z=%{z}<extra></extra>",
         "legendgroup": "entera",
         "marker": {
          "color": "#00cc96",
          "symbol": "circle"
         },
         "mode": "markers",
         "name": "entera",
         "scene": "scene",
         "showlegend": true,
         "type": "scatter3d",
         "x": [
          -0.03477518633008003
         ],
         "y": [
          0.08893457055091858
         ],
         "z": [
          "entera"
         ]
        },
        {
         "hovertemplate": "color=nadie<br>x=%{x}<br>y=%{y}<br>z=%{z}<extra></extra>",
         "legendgroup": "nadie",
         "marker": {
          "color": "#ab63fa",
          "symbol": "circle"
         },
         "mode": "markers",
         "name": "nadie",
         "scene": "scene",
         "showlegend": true,
         "type": "scatter3d",
         "x": [
          0.01440654881298542
         ],
         "y": [
          0.006913426797837019
         ],
         "z": [
          "nadie"
         ]
        },
        {
         "hovertemplate": "color=vida<br>x=%{x}<br>y=%{y}<br>z=%{z}<extra></extra>",
         "legendgroup": "vida",
         "marker": {
          "color": "#FFA15A",
          "symbol": "circle"
         },
         "mode": "markers",
         "name": "vida",
         "scene": "scene",
         "showlegend": true,
         "type": "scatter3d",
         "x": [
          -0.0001852822897490114
         ],
         "y": [
          0.017681552097201347
         ],
         "z": [
          "vida"
         ]
        },
        {
         "hovertemplate": "color=toda<br>x=%{x}<br>y=%{y}<br>z=%{z}<extra></extra>",
         "legendgroup": "toda",
         "marker": {
          "color": "#19d3f3",
          "symbol": "circle"
         },
         "mode": "markers",
         "name": "toda",
         "scene": "scene",
         "showlegend": true,
         "type": "scatter3d",
         "x": [
          0.06857318431138992
         ],
         "y": [
          0.0643182173371315
         ],
         "z": [
          "toda"
         ]
        },
        {
         "hovertemplate": "color=visto<br>x=%{x}<br>y=%{y}<br>z=%{z}<extra></extra>",
         "legendgroup": "visto",
         "marker": {
          "color": "#FF6692",
          "symbol": "circle"
         },
         "mode": "markers",
         "name": "visto",
         "scene": "scene",
         "showlegend": true,
         "type": "scatter3d",
         "x": [
          -0.07736575603485107
         ],
         "y": [
          -0.05879365652799606
         ],
         "z": [
          "visto"
         ]
        },
        {
         "hovertemplate": "color=noche<br>x=%{x}<br>y=%{y}<br>z=%{z}<extra></extra>",
         "legendgroup": "noche",
         "marker": {
          "color": "#B6E880",
          "symbol": "circle"
         },
         "mode": "markers",
         "name": "noche",
         "scene": "scene",
         "showlegend": true,
         "type": "scatter3d",
         "x": [
          -0.10344346612691879
         ],
         "y": [
          -0.12468018382787704
         ],
         "z": [
          "noche"
         ]
        },
        {
         "hovertemplate": "color=aunque<br>x=%{x}<br>y=%{y}<br>z=%{z}<extra></extra>",
         "legendgroup": "aunque",
         "marker": {
          "color": "#FF97FF",
          "symbol": "circle"
         },
         "mode": "markers",
         "name": "aunque",
         "scene": "scene",
         "showlegend": true,
         "type": "scatter3d",
         "x": [
          -0.04669919237494469
         ],
         "y": [
          -0.008130328729748726
         ],
         "z": [
          "aunque"
         ]
        },
        {
         "hovertemplate": "color=hasta<br>x=%{x}<br>y=%{y}<br>z=%{z}<extra></extra>",
         "legendgroup": "hasta",
         "marker": {
          "color": "#FECB52",
          "symbol": "circle"
         },
         "mode": "markers",
         "name": "hasta",
         "scene": "scene",
         "showlegend": true,
         "type": "scatter3d",
         "x": [
          0.06836996227502823
         ],
         "y": [
          0.08460316807031631
         ],
         "z": [
          "hasta"
         ]
        },
        {
         "hovertemplate": "color=mirara<br>x=%{x}<br>y=%{y}<br>z=%{z}<extra></extra>",
         "legendgroup": "mirara",
         "marker": {
          "color": "#636efa",
          "symbol": "circle"
         },
         "mode": "markers",
         "name": "mirara",
         "scene": "scene",
         "showlegend": true,
         "type": "scatter3d",
         "x": [
          0.06189724802970886
         ],
         "y": [
          -0.10842426866292953
         ],
         "z": [
          "mirara"
         ]
        },
        {
         "hovertemplate": "color=cigarrillo<br>x=%{x}<br>y=%{y}<br>z=%{z}<extra></extra>",
         "legendgroup": "cigarrillo",
         "marker": {
          "color": "#EF553B",
          "symbol": "circle"
         },
         "mode": "markers",
         "name": "cigarrillo",
         "scene": "scene",
         "showlegend": true,
         "type": "scatter3d",
         "x": [
          -0.02177330292761326
         ],
         "y": [
          -0.00950591079890728
         ],
         "z": [
          "cigarrillo"
         ]
        },
        {
         "hovertemplate": "color=creo<br>x=%{x}<br>y=%{y}<br>z=%{z}<extra></extra>",
         "legendgroup": "creo",
         "marker": {
          "color": "#00cc96",
          "symbol": "circle"
         },
         "mode": "markers",
         "name": "creo",
         "scene": "scene",
         "showlegend": true,
         "type": "scatter3d",
         "x": [
          0.12352094799280167
         ],
         "y": [
          0.03433338925242424
         ],
         "z": [
          "creo"
         ]
        },
        {
         "hovertemplate": "color=como<br>x=%{x}<br>y=%{y}<br>z=%{z}<extra></extra>",
         "legendgroup": "como",
         "marker": {
          "color": "#ab63fa",
          "symbol": "circle"
         },
         "mode": "markers",
         "name": "como",
         "scene": "scene",
         "showlegend": true,
         "type": "scatter3d",
         "x": [
          -0.0700414851307869
         ],
         "y": [
          -0.033892665058374405
         ],
         "z": [
          "como"
         ]
        },
        {
         "hovertemplate": "color=las<br>x=%{x}<br>y=%{y}<br>z=%{z}<extra></extra>",
         "legendgroup": "las",
         "marker": {
          "color": "#FFA15A",
          "symbol": "circle"
         },
         "mode": "markers",
         "name": "las",
         "scene": "scene",
         "showlegend": true,
         "type": "scatter3d",
         "x": [
          0.06762708723545074
         ],
         "y": [
          0.0036777863278985023
         ],
         "z": [
          "las"
         ]
        },
        {
         "hovertemplate": "color=estera<br>x=%{x}<br>y=%{y}<br>z=%{z}<extra></extra>",
         "legendgroup": "estera",
         "marker": {
          "color": "#19d3f3",
          "symbol": "circle"
         },
         "mode": "markers",
         "name": "estera",
         "scene": "scene",
         "showlegend": true,
         "type": "scatter3d",
         "x": [
          0.04688975214958191
         ],
         "y": [
          -0.03272657468914986
         ],
         "z": [
          "estera"
         ]
        },
        {
         "hovertemplate": "color=casa<br>x=%{x}<br>y=%{y}<br>z=%{z}<extra></extra>",
         "legendgroup": "casa",
         "marker": {
          "color": "#FF6692",
          "symbol": "circle"
         },
         "mode": "markers",
         "name": "casa",
         "scene": "scene",
         "showlegend": true,
         "type": "scatter3d",
         "x": [
          -0.056607507169246674
         ],
         "y": [
          -0.01693001016974449
         ],
         "z": [
          "casa"
         ]
        },
        {
         "hovertemplate": "color=ventana<br>x=%{x}<br>y=%{y}<br>z=%{z}<extra></extra>",
         "legendgroup": "ventana",
         "marker": {
          "color": "#B6E880",
          "symbol": "circle"
         },
         "mode": "markers",
         "name": "ventana",
         "scene": "scene",
         "showlegend": true,
         "type": "scatter3d",
         "x": [
          0.07265006005764008
         ],
         "y": [
          0.04903480038046837
         ],
         "z": [
          "ventana"
         ]
        },
        {
         "hovertemplate": "color=oriental<br>x=%{x}<br>y=%{y}<br>z=%{z}<extra></extra>",
         "legendgroup": "oriental",
         "marker": {
          "color": "#FF97FF",
          "symbol": "circle"
         },
         "mode": "markers",
         "name": "oriental",
         "scene": "scene",
         "showlegend": true,
         "type": "scatter3d",
         "x": [
          0.07718386501073837
         ],
         "y": [
          -0.09107982367277145
         ],
         "z": [
          "oriental"
         ]
        },
        {
         "hovertemplate": "color=banda<br>x=%{x}<br>y=%{y}<br>z=%{z}<extra></extra>",
         "legendgroup": "banda",
         "marker": {
          "color": "#FECB52",
          "symbol": "circle"
         },
         "mode": "markers",
         "name": "banda",
         "scene": "scene",
         "showlegend": true,
         "type": "scatter3d",
         "x": [
          0.11018148064613342
         ],
         "y": [
          -0.043248020112514496
         ],
         "z": [
          "banda"
         ]
        },
        {
         "hovertemplate": "color=armas<br>x=%{x}<br>y=%{y}<br>z=%{z}<extra></extra>",
         "legendgroup": "armas",
         "marker": {
          "color": "#636efa",
          "symbol": "circle"
         },
         "mode": "markers",
         "name": "armas",
         "scene": "scene",
         "showlegend": true,
         "type": "scatter3d",
         "x": [
          -0.007567694876343012
         ],
         "y": [
          0.06229959800839424
         ],
         "z": [
          "armas"
         ]
        },
        {
         "hovertemplate": "color=mate<br>x=%{x}<br>y=%{y}<br>z=%{z}<extra></extra>",
         "legendgroup": "mate",
         "marker": {
          "color": "#EF553B",
          "symbol": "circle"
         },
         "mode": "markers",
         "name": "mate",
         "scene": "scene",
         "showlegend": true,
         "type": "scatter3d",
         "x": [
          -0.013091810047626495
         ],
         "y": [
          0.1112591028213501
         ],
         "z": [
          "mate"
         ]
        },
        {
         "hovertemplate": "color=viéndola<br>x=%{x}<br>y=%{y}<br>z=%{z}<extra></extra>",
         "legendgroup": "viéndola",
         "marker": {
          "color": "#00cc96",
          "symbol": "circle"
         },
         "mode": "markers",
         "name": "viéndola",
         "scene": "scene",
         "showlegend": true,
         "type": "scatter3d",
         "x": [
          -0.028765296563506126
         ],
         "y": [
          -0.034263867884874344
         ],
         "z": [
          "viéndola"
         ]
        },
        {
         "hovertemplate": "color=oscura<br>x=%{x}<br>y=%{y}<br>z=%{z}<extra></extra>",
         "legendgroup": "oscura",
         "marker": {
          "color": "#ab63fa",
          "symbol": "circle"
         },
         "mode": "markers",
         "name": "oscura",
         "scene": "scene",
         "showlegend": true,
         "type": "scatter3d",
         "x": [
          -0.08792807161808014
         ],
         "y": [
          0.012627274729311466
         ],
         "z": [
          "oscura"
         ]
        },
        {
         "hovertemplate": "color=cerca<br>x=%{x}<br>y=%{y}<br>z=%{z}<extra></extra>",
         "legendgroup": "cerca",
         "marker": {
          "color": "#FFA15A",
          "symbol": "circle"
         },
         "mode": "markers",
         "name": "cerca",
         "scene": "scene",
         "showlegend": true,
         "type": "scatter3d",
         "x": [
          -0.023318223655223846
         ],
         "y": [
          -0.11574278026819229
         ],
         "z": [
          "cerca"
         ]
        },
        {
         "hovertemplate": "color=trenzado<br>x=%{x}<br>y=%{y}<br>z=%{z}<extra></extra>",
         "legendgroup": "trenzado",
         "marker": {
          "color": "#19d3f3",
          "symbol": "circle"
         },
         "mode": "markers",
         "name": "trenzado",
         "scene": "scene",
         "showlegend": true,
         "type": "scatter3d",
         "x": [
          0.10054148733615875
         ],
         "y": [
          -0.08525439351797104
         ],
         "z": [
          "trenzado"
         ]
        },
        {
         "hovertemplate": "color=afiladas<br>x=%{x}<br>y=%{y}<br>z=%{z}<extra></extra>",
         "legendgroup": "afiladas",
         "marker": {
          "color": "#FF6692",
          "symbol": "circle"
         },
         "mode": "markers",
         "name": "afiladas",
         "scene": "scene",
         "showlegend": true,
         "type": "scatter3d",
         "x": [
          -0.017818447202444077
         ],
         "y": [
          -0.12829747796058655
         ],
         "z": [
          "afiladas"
         ]
        },
        {
         "hovertemplate": "color=pasionaria<br>x=%{x}<br>y=%{y}<br>z=%{z}<extra></extra>",
         "legendgroup": "pasionaria",
         "marker": {
          "color": "#B6E880",
          "symbol": "circle"
         },
         "mode": "markers",
         "name": "pasionaria",
         "scene": "scene",
         "showlegend": true,
         "type": "scatter3d",
         "x": [
          -0.09276613593101501
         ],
         "y": [
          -0.03229312226176262
         ],
         "z": [
          "pasionaria"
         ]
        },
        {
         "hovertemplate": "color=mano<br>x=%{x}<br>y=%{y}<br>z=%{z}<extra></extra>",
         "legendgroup": "mano",
         "marker": {
          "color": "#FF97FF",
          "symbol": "circle"
         },
         "mode": "markers",
         "name": "mano",
         "scene": "scene",
         "showlegend": true,
         "type": "scatter3d",
         "x": [
          -0.04018586128950119
         ],
         "y": [
          -0.060329992324113846
         ],
         "z": [
          "mano"
         ]
        },
        {
         "hovertemplate": "color=sus<br>x=%{x}<br>y=%{y}<br>z=%{z}<extra></extra>",
         "legendgroup": "sus",
         "marker": {
          "color": "#FECB52",
          "symbol": "circle"
         },
         "mode": "markers",
         "name": "sus",
         "scene": "scene",
         "showlegend": true,
         "type": "scatter3d",
         "x": [
          -0.051690034568309784
         ],
         "y": [
          0.019239461049437523
         ],
         "z": [
          "sus"
         ]
        },
        {
         "hovertemplate": "color=carrera<br>x=%{x}<br>y=%{y}<br>z=%{z}<extra></extra>",
         "legendgroup": "carrera",
         "marker": {
          "color": "#636efa",
          "symbol": "circle"
         },
         "mode": "markers",
         "name": "carrera",
         "scene": "scene",
         "showlegend": true,
         "type": "scatter3d",
         "x": [
          0.0035513318143785
         ],
         "y": [
          0.04535249248147011
         ],
         "z": [
          "carrera"
         ]
        },
        {
         "hovertemplate": "color=testimonio<br>x=%{x}<br>y=%{y}<br>z=%{z}<extra></extra>",
         "legendgroup": "testimonio",
         "marker": {
          "color": "#EF553B",
          "symbol": "circle"
         },
         "mode": "markers",
         "name": "testimonio",
         "scene": "scene",
         "showlegend": true,
         "type": "scatter3d",
         "x": [
          0.026882285252213478
         ],
         "y": [
          0.04801763594150543
         ],
         "z": [
          "testimonio"
         ]
        },
        {
         "hovertemplate": "color=primo<br>x=%{x}<br>y=%{y}<br>z=%{z}<extra></extra>",
         "legendgroup": "primo",
         "marker": {
          "color": "#00cc96",
          "symbol": "circle"
         },
         "mode": "markers",
         "name": "primo",
         "scene": "scene",
         "showlegend": true,
         "type": "scatter3d",
         "x": [
          0.07379163056612015
         ],
         "y": [
          -0.060857824981212616
         ],
         "z": [
          "primo"
         ]
        },
        {
         "hovertemplate": "color=única<br>x=%{x}<br>y=%{y}<br>z=%{z}<extra></extra>",
         "legendgroup": "única",
         "marker": {
          "color": "#ab63fa",
          "symbol": "circle"
         },
         "mode": "markers",
         "name": "única",
         "scene": "scene",
         "showlegend": true,
         "type": "scatter3d",
         "x": [
          -0.027716269716620445
         ],
         "y": [
          -0.007424996700137854
         ],
         "z": [
          "única"
         ]
        },
        {
         "hovertemplate": "color=ésa<br>x=%{x}<br>y=%{y}<br>z=%{z}<extra></extra>",
         "legendgroup": "ésa",
         "marker": {
          "color": "#FFA15A",
          "symbol": "circle"
         },
         "mode": "markers",
         "name": "ésa",
         "scene": "scene",
         "showlegend": true,
         "type": "scatter3d",
         "x": [
          -0.07595089823007584
         ],
         "y": [
          -0.061298731714487076
         ],
         "z": [
          "ésa"
         ]
        },
        {
         "hovertemplate": "color=caballo<br>x=%{x}<br>y=%{y}<br>z=%{z}<extra></extra>",
         "legendgroup": "caballo",
         "marker": {
          "color": "#19d3f3",
          "symbol": "circle"
         },
         "mode": "markers",
         "name": "caballo",
         "scene": "scene",
         "showlegend": true,
         "type": "scatter3d",
         "x": [
          -0.045779477804899216
         ],
         "y": [
          -0.018251720815896988
         ],
         "z": [
          "caballo"
         ]
        },
        {
         "hovertemplate": "color=cantando<br>x=%{x}<br>y=%{y}<br>z=%{z}<extra></extra>",
         "legendgroup": "cantando",
         "marker": {
          "color": "#FF6692",
          "symbol": "circle"
         },
         "mode": "markers",
         "name": "cantando",
         "scene": "scene",
         "showlegend": true,
         "type": "scatter3d",
         "x": [
          -0.07548196613788605
         ],
         "y": [
          0.03824359551072121
         ],
         "z": [
          "cantando"
         ]
        },
        {
         "hovertemplate": "color=volvíamos<br>x=%{x}<br>y=%{y}<br>z=%{z}<extra></extra>",
         "legendgroup": "volvíamos",
         "marker": {
          "color": "#B6E880",
          "symbol": "circle"
         },
         "mode": "markers",
         "name": "volvíamos",
         "scene": "scene",
         "showlegend": true,
         "type": "scatter3d",
         "x": [
          0.011482673697173595
         ],
         "y": [
          0.009520369581878185
         ],
         "z": [
          "volvíamos"
         ]
        },
        {
         "hovertemplate": "color=francisco<br>x=%{x}<br>y=%{y}<br>z=%{z}<extra></extra>",
         "legendgroup": "francisco",
         "marker": {
          "color": "#FF97FF",
          "symbol": "circle"
         },
         "mode": "markers",
         "name": "francisco",
         "scene": "scene",
         "showlegend": true,
         "type": "scatter3d",
         "x": [
          0.10289830714464188
         ],
         "y": [
          -0.03489990159869194
         ],
         "z": [
          "francisco"
         ]
        },
        {
         "hovertemplate": "color=san<br>x=%{x}<br>y=%{y}<br>z=%{z}<extra></extra>",
         "legendgroup": "san",
         "marker": {
          "color": "#FECB52",
          "symbol": "circle"
         },
         "mode": "markers",
         "name": "san",
         "scene": "scene",
         "showlegend": true,
         "type": "scatter3d",
         "x": [
          0.07896312326192856
         ],
         "y": [
          -0.04683922976255417
         ],
         "z": [
          "san"
         ]
        },
        {
         "hovertemplate": "color=estancia<br>x=%{x}<br>y=%{y}<br>z=%{z}<extra></extra>",
         "legendgroup": "estancia",
         "marker": {
          "color": "#636efa",
          "symbol": "circle"
         },
         "mode": "markers",
         "name": "estancia",
         "scene": "scene",
         "showlegend": true,
         "type": "scatter3d",
         "x": [
          0.08519549667835236
         ],
         "y": [
          0.09745116531848907
         ],
         "z": [
          "estancia"
         ]
        },
        {
         "hovertemplate": "color=haedo<br>x=%{x}<br>y=%{y}<br>z=%{z}<extra></extra>",
         "legendgroup": "haedo",
         "marker": {
          "color": "#EF553B",
          "symbol": "circle"
         },
         "mode": "markers",
         "name": "haedo",
         "scene": "scene",
         "showlegend": true,
         "type": "scatter3d",
         "x": [
          0.09717243909835815
         ],
         "y": [
          -0.06338651478290558
         ],
         "z": [
          "haedo"
         ]
        },
        {
         "hovertemplate": "color=bernardo<br>x=%{x}<br>y=%{y}<br>z=%{z}<extra></extra>",
         "legendgroup": "bernardo",
         "marker": {
          "color": "#00cc96",
          "symbol": "circle"
         },
         "mode": "markers",
         "name": "bernardo",
         "scene": "scene",
         "showlegend": true,
         "type": "scatter3d",
         "x": [
          0.01700218766927719
         ],
         "y": [
          -0.09742520749568939
         ],
         "z": [
          "bernardo"
         ]
        },
        {
         "hovertemplate": "color=volvía<br>x=%{x}<br>y=%{y}<br>z=%{z}<extra></extra>",
         "legendgroup": "volvía",
         "marker": {
          "color": "#ab63fa",
          "symbol": "circle"
         },
         "mode": "markers",
         "name": "volvía",
         "scene": "scene",
         "showlegend": true,
         "type": "scatter3d",
         "x": [
          0.007766677998006344
         ],
         "y": [
          -0.10184944421052933
         ],
         "z": [
          "volvía"
         ]
        },
        {
         "hovertemplate": "color=limitaciones<br>x=%{x}<br>y=%{y}<br>z=%{z}<extra></extra>",
         "legendgroup": "limitaciones",
         "marker": {
          "color": "#FFA15A",
          "symbol": "circle"
         },
         "mode": "markers",
         "name": "limitaciones",
         "scene": "scene",
         "showlegend": true,
         "type": "scatter3d",
         "x": [
          -0.0908472016453743
         ],
         "y": [
          -0.030953682959079742
         ],
         "z": [
          "limitaciones"
         ]
        },
        {
         "hovertemplate": "color=veranear<br>x=%{x}<br>y=%{y}<br>z=%{z}<extra></extra>",
         "legendgroup": "veranear",
         "marker": {
          "color": "#19d3f3",
          "symbol": "circle"
         },
         "mode": "markers",
         "name": "veranear",
         "scene": "scene",
         "showlegend": true,
         "type": "scatter3d",
         "x": [
          0.09162375330924988
         ],
         "y": [
          0.0024469441268593073
         ],
         "z": [
          "veranear"
         ]
        },
        {
         "hovertemplate": "color=llevado<br>x=%{x}<br>y=%{y}<br>z=%{z}<extra></extra>",
         "legendgroup": "llevado",
         "marker": {
          "color": "#FF6692",
          "symbol": "circle"
         },
         "mode": "markers",
         "name": "llevado",
         "scene": "scene",
         "showlegend": true,
         "type": "scatter3d",
         "x": [
          -0.13616620004177094
         ],
         "y": [
          -0.016638964414596558
         ],
         "z": [
          "llevado"
         ]
        },
        {
         "hovertemplate": "color=padre<br>x=%{x}<br>y=%{y}<br>z=%{z}<extra></extra>",
         "legendgroup": "padre",
         "marker": {
          "color": "#B6E880",
          "symbol": "circle"
         },
         "mode": "markers",
         "name": "padre",
         "scene": "scene",
         "showlegend": true,
         "type": "scatter3d",
         "x": [
          -0.09583274275064468
         ],
         "y": [
          0.0695621520280838
         ],
         "z": [
          "padre"
         ]
        },
        {
         "hovertemplate": "color=84<br>x=%{x}<br>y=%{y}<br>z=%{z}<extra></extra>",
         "legendgroup": "84",
         "marker": {
          "color": "#FF97FF",
          "symbol": "circle"
         },
         "mode": "markers",
         "name": "84",
         "scene": "scene",
         "showlegend": true,
         "type": "scatter3d",
         "x": [
          -0.10720603913068771
         ],
         "y": [
          -0.0725880116224289
         ],
         "z": [
          "84"
         ]
        },
        {
         "hovertemplate": "color=febrero<br>x=%{x}<br>y=%{y}<br>z=%{z}<extra></extra>",
         "legendgroup": "febrero",
         "marker": {
          "color": "#FECB52",
          "symbol": "circle"
         },
         "mode": "markers",
         "name": "febrero",
         "scene": "scene",
         "showlegend": true,
         "type": "scatter3d",
         "x": [
          0.019916173070669174
         ],
         "y": [
          0.0900147557258606
         ],
         "z": [
          "febrero"
         ]
        },
        {
         "hovertemplate": "color=o<br>x=%{x}<br>y=%{y}<br>z=%{z}<extra></extra>",
         "legendgroup": "o",
         "marker": {
          "color": "#636efa",
          "symbol": "circle"
         },
         "mode": "markers",
         "name": "o",
         "scene": "scene",
         "showlegend": true,
         "type": "scatter3d",
         "x": [
          0.016403788700699806
         ],
         "y": [
          -0.09751947969198227
         ],
         "z": [
          "o"
         ]
        },
        {
         "hovertemplate": "color=marzo<br>x=%{x}<br>y=%{y}<br>z=%{z}<extra></extra>",
         "legendgroup": "marzo",
         "marker": {
          "color": "#EF553B",
          "symbol": "circle"
         },
         "mode": "markers",
         "name": "marzo",
         "scene": "scene",
         "showlegend": true,
         "type": "scatter3d",
         "x": [
          0.07656818628311157
         ],
         "y": [
          0.09315576404333115
         ],
         "z": [
          "marzo"
         ]
        },
        {
         "hovertemplate": "color=atardecer<br>x=%{x}<br>y=%{y}<br>z=%{z}<extra></extra>",
         "legendgroup": "atardecer",
         "marker": {
          "color": "#00cc96",
          "symbol": "circle"
         },
         "mode": "markers",
         "name": "atardecer",
         "scene": "scene",
         "showlegend": true,
         "type": "scatter3d",
         "x": [
          -0.02051616832613945
         ],
         "y": [
          -0.026874031871557236
         ],
         "z": [
          "atardecer"
         ]
        },
        {
         "hovertemplate": "color=veo<br>x=%{x}<br>y=%{y}<br>z=%{z}<extra></extra>",
         "legendgroup": "veo",
         "marker": {
          "color": "#ab63fa",
          "symbol": "circle"
         },
         "mode": "markers",
         "name": "veo",
         "scene": "scene",
         "showlegend": true,
         "type": "scatter3d",
         "x": [
          0.07979541271924973
         ],
         "y": [
          0.09028444439172745
         ],
         "z": [
          "veo"
         ]
        },
        {
         "hovertemplate": "color=perspicuo<br>x=%{x}<br>y=%{y}<br>z=%{z}<extra></extra>",
         "legendgroup": "perspicuo",
         "marker": {
          "color": "#FFA15A",
          "symbol": "circle"
         },
         "mode": "markers",
         "name": "perspicuo",
         "scene": "scene",
         "showlegend": true,
         "type": "scatter3d",
         "x": [
          0.02635030262172222
         ],
         "y": [
          -0.05490561202168465
         ],
         "z": [
          "perspicuo"
         ]
        },
        {
         "hovertemplate": "color=circunstancia<br>x=%{x}<br>y=%{y}<br>z=%{z}<extra></extra>",
         "legendgroup": "circunstancia",
         "marker": {
          "color": "#19d3f3",
          "symbol": "circle"
         },
         "mode": "markers",
         "name": "circunstancia",
         "scene": "scene",
         "showlegend": true,
         "type": "scatter3d",
         "x": [
          -0.018457535654306412
         ],
         "y": [
          -0.046486929059028625
         ],
         "z": [
          "circunstancia"
         ]
        },
        {
         "hovertemplate": "color=felicidad<br>x=%{x}<br>y=%{y}<br>z=%{z}<extra></extra>",
         "legendgroup": "felicidad",
         "marker": {
          "color": "#FF6692",
          "symbol": "circle"
         },
         "mode": "markers",
         "name": "felicidad",
         "scene": "scene",
         "showlegend": true,
         "type": "scatter3d",
         "x": [
          -0.0029893449973315
         ],
         "y": [
          0.07941286265850067
         ],
         "z": [
          "felicidad"
         ]
        },
        {
         "hovertemplate": "color=después<br>x=%{x}<br>y=%{y}<br>z=%{z}<extra></extra>",
         "legendgroup": "después",
         "marker": {
          "color": "#B6E880",
          "symbol": "circle"
         },
         "mode": "markers",
         "name": "después",
         "scene": "scene",
         "showlegend": true,
         "type": "scatter3d",
         "x": [
          0.1155460998415947
         ],
         "y": [
          -0.0017695550341159105
         ],
         "z": [
          "después"
         ]
        },
        {
         "hovertemplate": "color=bochornoso<br>x=%{x}<br>y=%{y}<br>z=%{z}<extra></extra>",
         "legendgroup": "bochornoso",
         "marker": {
          "color": "#FF97FF",
          "symbol": "circle"
         },
         "mode": "markers",
         "name": "bochornoso",
         "scene": "scene",
         "showlegend": true,
         "type": "scatter3d",
         "x": [
          -0.04255342483520508
         ],
         "y": [
          0.07887007296085358
         ],
         "z": [
          "bochornoso"
         ]
        },
        {
         "hovertemplate": "color=corrimos<br>x=%{x}<br>y=%{y}<br>z=%{z}<extra></extra>",
         "legendgroup": "corrimos",
         "marker": {
          "color": "#FECB52",
          "symbol": "circle"
         },
         "mode": "markers",
         "name": "corrimos",
         "scene": "scene",
         "showlegend": true,
         "type": "scatter3d",
         "x": [
          -0.10681457817554474
         ],
         "y": [
          0.020495086908340454
         ],
         "z": [
          "corrimos"
         ]
        },
        {
         "hovertemplate": "color=elemental<br>x=%{x}<br>y=%{y}<br>z=%{z}<extra></extra>",
         "legendgroup": "elemental",
         "marker": {
          "color": "#636efa",
          "symbol": "circle"
         },
         "mode": "markers",
         "name": "elemental",
         "scene": "scene",
         "showlegend": true,
         "type": "scatter3d",
         "x": [
          0.09725039452314377
         ],
         "y": [
          0.17698556184768677
         ],
         "z": [
          "elemental"
         ]
        },
        {
         "hovertemplate": "color=agua<br>x=%{x}<br>y=%{y}<br>z=%{z}<extra></extra>",
         "legendgroup": "agua",
         "marker": {
          "color": "#EF553B",
          "symbol": "circle"
         },
         "mode": "markers",
         "name": "agua",
         "scene": "scene",
         "showlegend": true,
         "type": "scatter3d",
         "x": [
          0.012139745056629181
         ],
         "y": [
          0.04890409857034683
         ],
         "z": [
          "agua"
         ]
        },
        {
         "hovertemplate": "color=descampado<br>x=%{x}<br>y=%{y}<br>z=%{z}<extra></extra>",
         "legendgroup": "descampado",
         "marker": {
          "color": "#00cc96",
          "symbol": "circle"
         },
         "mode": "markers",
         "name": "descampado",
         "scene": "scene",
         "showlegend": true,
         "type": "scatter3d",
         "x": [
          0.0025747527834028006
         ],
         "y": [
          0.030431754887104034
         ],
         "z": [
          "descampado"
         ]
        },
        {
         "hovertemplate": "color=sorprendiera<br>x=%{x}<br>y=%{y}<br>z=%{z}<extra></extra>",
         "legendgroup": "sorprendiera",
         "marker": {
          "color": "#ab63fa",
          "symbol": "circle"
         },
         "mode": "markers",
         "name": "sorprendiera",
         "scene": "scene",
         "showlegend": true,
         "type": "scatter3d",
         "x": [
          0.0009058830328285694
         ],
         "y": [
          -0.005889118183404207
         ],
         "z": [
          "sorprendiera"
         ]
        },
        {
         "hovertemplate": "color=nos<br>x=%{x}<br>y=%{y}<br>z=%{z}<extra></extra>",
         "legendgroup": "nos",
         "marker": {
          "color": "#FFA15A",
          "symbol": "circle"
         },
         "mode": "markers",
         "name": "nos",
         "scene": "scene",
         "showlegend": true,
         "type": "scatter3d",
         "x": [
          -0.018241936340928078
         ],
         "y": [
          0.006657661870121956
         ],
         "z": [
          "nos"
         ]
        },
        {
         "hovertemplate": "color=esperanza<br>x=%{x}<br>y=%{y}<br>z=%{z}<extra></extra>",
         "legendgroup": "esperanza",
         "marker": {
          "color": "#19d3f3",
          "symbol": "circle"
         },
         "mode": "markers",
         "name": "esperanza",
         "scene": "scene",
         "showlegend": true,
         "type": "scatter3d",
         "x": [
          -0.02484264224767685
         ],
         "y": [
          0.0897843986749649
         ],
         "z": [
          "esperanza"
         ]
        },
        {
         "hovertemplate": "color=temor<br>x=%{x}<br>y=%{y}<br>z=%{z}<extra></extra>",
         "legendgroup": "temor",
         "marker": {
          "color": "#FF6692",
          "symbol": "circle"
         },
         "mode": "markers",
         "name": "temor",
         "scene": "scene",
         "showlegend": true,
         "type": "scatter3d",
         "x": [
          -0.010924394242465496
         ],
         "y": [
          -0.05170266330242157
         ],
         "z": [
          "temor"
         ]
        },
        {
         "hovertemplate": "color=tenía<br>x=%{x}<br>y=%{y}<br>z=%{z}<extra></extra>",
         "legendgroup": "tenía",
         "marker": {
          "color": "#B6E880",
          "symbol": "circle"
         },
         "mode": "markers",
         "name": "tenía",
         "scene": "scene",
         "showlegend": true,
         "type": "scatter3d",
         "x": [
          -0.034952957183122635
         ],
         "y": [
          0.005489866714924574
         ],
         "z": [
          "tenía"
         ]
        },
        {
         "hovertemplate": "color=árboles<br>x=%{x}<br>y=%{y}<br>z=%{z}<extra></extra>",
         "legendgroup": "árboles",
         "marker": {
          "color": "#FF97FF",
          "symbol": "circle"
         },
         "mode": "markers",
         "name": "árboles",
         "scene": "scene",
         "showlegend": true,
         "type": "scatter3d",
         "x": [
          0.0044631133787333965
         ],
         "y": [
          0.11290863901376724
         ],
         "z": [
          "árboles"
         ]
        },
        {
         "hovertemplate": "color=enloquecían<br>x=%{x}<br>y=%{y}<br>z=%{z}<extra></extra>",
         "legendgroup": "enloquecían",
         "marker": {
          "color": "#FECB52",
          "symbol": "circle"
         },
         "mode": "markers",
         "name": "enloquecían",
         "scene": "scene",
         "showlegend": true,
         "type": "scatter3d",
         "x": [
          -0.03106839396059513
         ],
         "y": [
          -0.0010382897453382611
         ],
         "z": [
          "enloquecían"
         ]
        },
        {
         "hovertemplate": "color=se<br>x=%{x}<br>y=%{y}<br>z=%{z}<extra></extra>",
         "legendgroup": "se",
         "marker": {
          "color": "#636efa",
          "symbol": "circle"
         },
         "mode": "markers",
         "name": "se",
         "scene": "scene",
         "showlegend": true,
         "type": "scatter3d",
         "x": [
          -0.02988620474934578
         ],
         "y": [
          -0.11988064646720886
         ],
         "z": [
          "se"
         ]
        },
        {
         "hovertemplate": "color=ya<br>x=%{x}<br>y=%{y}<br>z=%{z}<extra></extra>",
         "legendgroup": "ya",
         "marker": {
          "color": "#EF553B",
          "symbol": "circle"
         },
         "mode": "markers",
         "name": "ya",
         "scene": "scene",
         "showlegend": true,
         "type": "scatter3d",
         "x": [
          0.07482007145881653
         ],
         "y": [
          -0.14588740468025208
         ],
         "z": [
          "ya"
         ]
        },
        {
         "hovertemplate": "color=sur<br>x=%{x}<br>y=%{y}<br>z=%{z}<extra></extra>",
         "legendgroup": "sur",
         "marker": {
          "color": "#00cc96",
          "symbol": "circle"
         },
         "mode": "markers",
         "name": "sur",
         "scene": "scene",
         "showlegend": true,
         "type": "scatter3d",
         "x": [
          0.06175750494003296
         ],
         "y": [
          -0.004342337138950825
         ],
         "z": [
          "sur"
         ]
        },
        {
         "hovertemplate": "color=viento<br>x=%{x}<br>y=%{y}<br>z=%{z}<extra></extra>",
         "legendgroup": "viento",
         "marker": {
          "color": "#ab63fa",
          "symbol": "circle"
         },
         "mode": "markers",
         "name": "viento",
         "scene": "scene",
         "showlegend": true,
         "type": "scatter3d",
         "x": [
          -0.1662149876356125
         ],
         "y": [
          -0.10181471705436707
         ],
         "z": [
          "viento"
         ]
        },
        {
         "hovertemplate": "color=alentaba<br>x=%{x}<br>y=%{y}<br>z=%{z}<extra></extra>",
         "legendgroup": "alentaba",
         "marker": {
          "color": "#FFA15A",
          "symbol": "circle"
         },
         "mode": "markers",
         "name": "alentaba",
         "scene": "scene",
         "showlegend": true,
         "type": "scatter3d",
         "x": [
          0.0392359122633934
         ],
         "y": [
          -0.04772169142961502
         ],
         "z": [
          "alentaba"
         ]
        },
        {
         "hovertemplate": "color=cielo<br>x=%{x}<br>y=%{y}<br>z=%{z}<extra></extra>",
         "legendgroup": "cielo",
         "marker": {
          "color": "#19d3f3",
          "symbol": "circle"
         },
         "mode": "markers",
         "name": "cielo",
         "scene": "scene",
         "showlegend": true,
         "type": "scatter3d",
         "x": [
          -0.07394132763147354
         ],
         "y": [
          -0.045959003269672394
         ],
         "z": [
          "cielo"
         ]
        },
        {
         "hovertemplate": "color=escondido<br>x=%{x}<br>y=%{y}<br>z=%{z}<extra></extra>",
         "legendgroup": "escondido",
         "marker": {
          "color": "#FF6692",
          "symbol": "circle"
         },
         "mode": "markers",
         "name": "escondido",
         "scene": "scene",
         "showlegend": true,
         "type": "scatter3d",
         "x": [
          0.1360737681388855
         ],
         "y": [
          0.007796496152877808
         ],
         "z": [
          "escondido"
         ]
        },
        {
         "hovertemplate": "color=pizarra<br>x=%{x}<br>y=%{y}<br>z=%{z}<extra></extra>",
         "legendgroup": "pizarra",
         "marker": {
          "color": "#B6E880",
          "symbol": "circle"
         },
         "mode": "markers",
         "name": "pizarra",
         "scene": "scene",
         "showlegend": true,
         "type": "scatter3d",
         "x": [
          0.0005319162737578154
         ],
         "y": [
          0.055715229362249374
         ],
         "z": [
          "pizarra"
         ]
        },
        {
         "hovertemplate": "color=color<br>x=%{x}<br>y=%{y}<br>z=%{z}<extra></extra>",
         "legendgroup": "color",
         "marker": {
          "color": "#FF97FF",
          "symbol": "circle"
         },
         "mode": "markers",
         "name": "color",
         "scene": "scene",
         "showlegend": true,
         "type": "scatter3d",
         "x": [
          0.011733013205230236
         ],
         "y": [
          -0.16914790868759155
         ],
         "z": [
          "color"
         ]
        },
        {
         "hovertemplate": "color=enorme<br>x=%{x}<br>y=%{y}<br>z=%{z}<extra></extra>",
         "legendgroup": "enorme",
         "marker": {
          "color": "#FECB52",
          "symbol": "circle"
         },
         "mode": "markers",
         "name": "enorme",
         "scene": "scene",
         "showlegend": true,
         "type": "scatter3d",
         "x": [
          0.058293987065553665
         ],
         "y": [
          0.016125859692692757
         ],
         "z": [
          "enorme"
         ]
        },
        {
         "hovertemplate": "color=primer<br>x=%{x}<br>y=%{y}<br>z=%{z}<extra></extra>",
         "legendgroup": "primer",
         "marker": {
          "color": "#636efa",
          "symbol": "circle"
         },
         "mode": "markers",
         "name": "primer",
         "scene": "scene",
         "showlegend": true,
         "type": "scatter3d",
         "x": [
          0.06155501678586006
         ],
         "y": [
          0.022782661020755768
         ],
         "z": [
          "primer"
         ]
        },
        {
         "hovertemplate": "color=incurables<br>x=%{x}<br>y=%{y}<br>z=%{z}<extra></extra>",
         "legendgroup": "incurables",
         "marker": {
          "color": "#EF553B",
          "symbol": "circle"
         },
         "mode": "markers",
         "name": "incurables",
         "scene": "scene",
         "showlegend": true,
         "type": "scatter3d",
         "x": [
          0.02117282897233963
         ],
         "y": [
          -0.15134456753730774
         ],
         "z": [
          "incurables"
         ]
        },
        {
         "hovertemplate": "color=será<br>x=%{x}<br>y=%{y}<br>z=%{z}<extra></extra>",
         "legendgroup": "será",
         "marker": {
          "color": "#00cc96",
          "symbol": "circle"
         },
         "mode": "markers",
         "name": "será",
         "scene": "scene",
         "showlegend": true,
         "type": "scatter3d",
         "x": [
          -0.12522543966770172
         ],
         "y": [
          0.04321017861366272
         ],
         "z": [
          "será"
         ]
        },
        {
         "hovertemplate": "color=argentino<br>x=%{x}<br>y=%{y}<br>z=%{z}<extra></extra>",
         "legendgroup": "argentino",
         "marker": {
          "color": "#ab63fa",
          "symbol": "circle"
         },
         "mode": "markers",
         "name": "argentino",
         "scene": "scene",
         "showlegend": true,
         "type": "scatter3d",
         "x": [
          -0.04017212241888046
         ],
         "y": [
          0.09716616570949554
         ],
         "z": [
          "argentino"
         ]
        },
        {
         "hovertemplate": "color=literato<br>x=%{x}<br>y=%{y}<br>z=%{z}<extra></extra>",
         "legendgroup": "literato",
         "marker": {
          "color": "#FFA15A",
          "symbol": "circle"
         },
         "mode": "markers",
         "name": "literato",
         "scene": "scene",
         "showlegend": true,
         "type": "scatter3d",
         "x": [
          0.10432419925928116
         ],
         "y": [
          -0.10222706198692322
         ],
         "z": [
          "literato"
         ]
        },
        {
         "hovertemplate": "color=uruguayo<br>x=%{x}<br>y=%{y}<br>z=%{z}<extra></extra>",
         "legendgroup": "uruguayo",
         "marker": {
          "color": "#19d3f3",
          "symbol": "circle"
         },
         "mode": "markers",
         "name": "uruguayo",
         "scene": "scene",
         "showlegend": true,
         "type": "scatter3d",
         "x": [
          -0.04236644133925438
         ],
         "y": [
          -0.08585624396800995
         ],
         "z": [
          "uruguayo"
         ]
        },
        {
         "hovertemplate": "color=tema<br>x=%{x}<br>y=%{y}<br>z=%{z}<extra></extra>",
         "legendgroup": "tema",
         "marker": {
          "color": "#FF6692",
          "symbol": "circle"
         },
         "mode": "markers",
         "name": "tema",
         "scene": "scene",
         "showlegend": true,
         "type": "scatter3d",
         "x": [
          0.06090393289923668
         ],
         "y": [
          -0.04201890155673027
         ],
         "z": [
          "tema"
         ]
        },
        {
         "hovertemplate": "color=cuando<br>x=%{x}<br>y=%{y}<br>z=%{z}<extra></extra>",
         "legendgroup": "cuando",
         "marker": {
          "color": "#B6E880",
          "symbol": "circle"
         },
         "mode": "markers",
         "name": "cuando",
         "scene": "scene",
         "showlegend": true,
         "type": "scatter3d",
         "x": [
          0.007871262729167938
         ],
         "y": [
          0.07674944400787354
         ],
         "z": [
          "cuando"
         ]
        },
        {
         "hovertemplate": "color=uruguay<br>x=%{x}<br>y=%{y}<br>z=%{z}<extra></extra>",
         "legendgroup": "uruguay",
         "marker": {
          "color": "#FF97FF",
          "symbol": "circle"
         },
         "mode": "markers",
         "name": "uruguay",
         "scene": "scene",
         "showlegend": true,
         "type": "scatter3d",
         "x": [
          0.04102671146392822
         ],
         "y": [
          -0.07670723646879196
         ],
         "z": [
          "uruguay"
         ]
        },
        {
         "hovertemplate": "color=obligatorio<br>x=%{x}<br>y=%{y}<br>z=%{z}<extra></extra>",
         "legendgroup": "obligatorio",
         "marker": {
          "color": "#FECB52",
          "symbol": "circle"
         },
         "mode": "markers",
         "name": "obligatorio",
         "scene": "scene",
         "showlegend": true,
         "type": "scatter3d",
         "x": [
          -0.10756197571754456
         ],
         "y": [
          -0.060233891010284424
         ],
         "z": [
          "obligatorio"
         ]
        },
        {
         "hovertemplate": "color=género<br>x=%{x}<br>y=%{y}<br>z=%{z}<extra></extra>",
         "legendgroup": "género",
         "marker": {
          "color": "#636efa",
          "symbol": "circle"
         },
         "mode": "markers",
         "name": "género",
         "scene": "scene",
         "showlegend": true,
         "type": "scatter3d",
         "x": [
          -0.0011573630617931485
         ],
         "y": [
          0.14882270991802216
         ],
         "z": [
          "género"
         ]
        },
        {
         "hovertemplate": "color=ditirambo<br>x=%{x}<br>y=%{y}<br>z=%{z}<extra></extra>",
         "legendgroup": "ditirambo",
         "marker": {
          "color": "#EF553B",
          "symbol": "circle"
         },
         "mode": "markers",
         "name": "ditirambo",
         "scene": "scene",
         "showlegend": true,
         "type": "scatter3d",
         "x": [
          0.05278582498431206
         ],
         "y": [
          0.06933052092790604
         ],
         "z": [
          "ditirambo"
         ]
        },
        {
         "hovertemplate": "color=incurrir<br>x=%{x}<br>y=%{y}<br>z=%{z}<extra></extra>",
         "legendgroup": "incurrir",
         "marker": {
          "color": "#00cc96",
          "symbol": "circle"
         },
         "mode": "markers",
         "name": "incurrir",
         "scene": "scene",
         "showlegend": true,
         "type": "scatter3d",
         "x": [
          0.037785906344652176
         ],
         "y": [
          -0.02968212589621544
         ],
         "z": [
          "incurrir"
         ]
        },
        {
         "hovertemplate": "color=impedirá<br>x=%{x}<br>y=%{y}<br>z=%{z}<extra></extra>",
         "legendgroup": "impedirá",
         "marker": {
          "color": "#ab63fa",
          "symbol": "circle"
         },
         "mode": "markers",
         "name": "impedirá",
         "scene": "scene",
         "showlegend": true,
         "type": "scatter3d",
         "x": [
          0.1463128924369812
         ],
         "y": [
          -0.00230336282402277
         ],
         "z": [
          "impedirá"
         ]
        },
        {
         "hovertemplate": "color=condición<br>x=%{x}<br>y=%{y}<br>z=%{z}<extra></extra>",
         "legendgroup": "condición",
         "marker": {
          "color": "#FFA15A",
          "symbol": "circle"
         },
         "mode": "markers",
         "name": "condición",
         "scene": "scene",
         "showlegend": true,
         "type": "scatter3d",
         "x": [
          -0.008677151054143906
         ],
         "y": [
          -0.03074704296886921
         ],
         "z": [
          "condición"
         ]
        },
        {
         "hovertemplate": "color=ciertas<br>x=%{x}<br>y=%{y}<br>z=%{z}<extra></extra>",
         "legendgroup": "ciertas",
         "marker": {
          "color": "#19d3f3",
          "symbol": "circle"
         },
         "mode": "markers",
         "name": "ciertas",
         "scene": "scene",
         "showlegend": true,
         "type": "scatter3d",
         "x": [
          -0.020041046664118767
         ],
         "y": [
          0.14141258597373962
         ],
         "z": [
          "ciertas"
         ]
        },
        {
         "hovertemplate": "color=deplorable<br>x=%{x}<br>y=%{y}<br>z=%{z}<extra></extra>",
         "legendgroup": "deplorable",
         "marker": {
          "color": "#FF6692",
          "symbol": "circle"
         },
         "mode": "markers",
         "name": "deplorable",
         "scene": "scene",
         "showlegend": true,
         "type": "scatter3d",
         "x": [
          0.124459408223629
         ],
         "y": [
          -0.004973785486072302
         ],
         "z": [
          "deplorable"
         ]
        },
        {
         "hovertemplate": "color=ustedes<br>x=%{x}<br>y=%{y}<br>z=%{z}<extra></extra>",
         "legendgroup": "ustedes",
         "marker": {
          "color": "#B6E880",
          "symbol": "circle"
         },
         "mode": "markers",
         "name": "ustedes",
         "scene": "scene",
         "showlegend": true,
         "type": "scatter3d",
         "x": [
          0.008442160673439503
         ],
         "y": [
          0.0056959339417517185
         ],
         "z": [
          "ustedes"
         ]
        },
        {
         "hovertemplate": "color=editarán<br>x=%{x}<br>y=%{y}<br>z=%{z}<extra></extra>",
         "legendgroup": "editarán",
         "marker": {
          "color": "#FF97FF",
          "symbol": "circle"
         },
         "mode": "markers",
         "name": "editarán",
         "scene": "scene",
         "showlegend": true,
         "type": "scatter3d",
         "x": [
          0.022012751549482346
         ],
         "y": [
          0.1038082018494606
         ],
         "z": [
          "editarán"
         ]
        },
        {
         "hovertemplate": "color=volumen<br>x=%{x}<br>y=%{y}<br>z=%{z}<extra></extra>",
         "legendgroup": "volumen",
         "marker": {
          "color": "#FECB52",
          "symbol": "circle"
         },
         "mode": "markers",
         "name": "volumen",
         "scene": "scene",
         "showlegend": true,
         "type": "scatter3d",
         "x": [
          0.01642100140452385
         ],
         "y": [
          0.1091240793466568
         ],
         "z": [
          "volumen"
         ]
        },
        {
         "hovertemplate": "color=imparcial<br>x=%{x}<br>y=%{y}<br>z=%{z}<extra></extra>",
         "legendgroup": "imparcial",
         "marker": {
          "color": "#636efa",
          "symbol": "circle"
         },
         "mode": "markers",
         "name": "imparcial",
         "scene": "scene",
         "showlegend": true,
         "type": "scatter3d",
         "x": [
          0.06518128514289856
         ],
         "y": [
          0.04845934733748436
         ],
         "z": [
          "imparcial"
         ]
        },
        {
         "hovertemplate": "color=menos<br>x=%{x}<br>y=%{y}<br>z=%{z}<extra></extra>",
         "legendgroup": "menos",
         "marker": {
          "color": "#EF553B",
          "symbol": "circle"
         },
         "mode": "markers",
         "name": "menos",
         "scene": "scene",
         "showlegend": true,
         "type": "scatter3d",
         "x": [
          0.06352292746305466
         ],
         "y": [
          -0.03524775058031082
         ],
         "z": [
          "menos"
         ]
        },
        {
         "hovertemplate": "color=pobre<br>x=%{x}<br>y=%{y}<br>z=%{z}<extra></extra>",
         "legendgroup": "pobre",
         "marker": {
          "color": "#00cc96",
          "symbol": "circle"
         },
         "mode": "markers",
         "name": "pobre",
         "scene": "scene",
         "showlegend": true,
         "type": "scatter3d",
         "x": [
          0.17672094702720642
         ],
         "y": [
          0.023076295852661133
         ],
         "z": [
          "pobre"
         ]
        },
        {
         "hovertemplate": "color=especie<br>x=%{x}<br>y=%{y}<br>z=%{z}<extra></extra>",
         "legendgroup": "especie",
         "marker": {
          "color": "#ab63fa",
          "symbol": "circle"
         },
         "mode": "markers",
         "name": "especie",
         "scene": "scene",
         "showlegend": true,
         "type": "scatter3d",
         "x": [
          0.08335281163454056
         ],
         "y": [
          0.06152910366654396
         ],
         "z": [
          "especie"
         ]
        },
        {
         "hovertemplate": "color=breve<br>x=%{x}<br>y=%{y}<br>z=%{z}<extra></extra>",
         "legendgroup": "breve",
         "marker": {
          "color": "#FFA15A",
          "symbol": "circle"
         },
         "mode": "markers",
         "name": "breve",
         "scene": "scene",
         "showlegend": true,
         "type": "scatter3d",
         "x": [
          0.01518416590988636
         ],
         "y": [
          -0.07245676964521408
         ],
         "z": [
          "breve"
         ]
        },
        {
         "hovertemplate": "color=acaso<br>x=%{x}<br>y=%{y}<br>z=%{z}<extra></extra>",
         "legendgroup": "acaso",
         "marker": {
          "color": "#19d3f3",
          "symbol": "circle"
         },
         "mode": "markers",
         "name": "acaso",
         "scene": "scene",
         "showlegend": true,
         "type": "scatter3d",
         "x": [
          0.09486299008131027
         ],
         "y": [
          -0.04209311306476593
         ],
         "z": [
          "acaso"
         ]
        },
        {
         "hovertemplate": "color=cajetilla<br>x=%{x}<br>y=%{y}<br>z=%{z}<extra></extra>",
         "legendgroup": "cajetilla",
         "marker": {
          "color": "#FF6692",
          "symbol": "circle"
         },
         "mode": "markers",
         "name": "cajetilla",
         "scene": "scene",
         "showlegend": true,
         "type": "scatter3d",
         "x": [
          -0.11091333627700806
         ],
         "y": [
          0.02032017521560192
         ],
         "z": [
          "cajetilla"
         ]
        },
        {
         "hovertemplate": "color=porteño<br>x=%{x}<br>y=%{y}<br>z=%{z}<extra></extra>",
         "legendgroup": "porteño",
         "marker": {
          "color": "#B6E880",
          "symbol": "circle"
         },
         "mode": "markers",
         "name": "porteño",
         "scene": "scene",
         "showlegend": true,
         "type": "scatter3d",
         "x": [
          0.003147098934277892
         ],
         "y": [
          0.07952059060335159
         ],
         "z": [
          "porteño"
         ]
        },
        {
         "hovertemplate": "color=dijo<br>x=%{x}<br>y=%{y}<br>z=%{z}<extra></extra>",
         "legendgroup": "dijo",
         "marker": {
          "color": "#FF97FF",
          "symbol": "circle"
         },
         "mode": "markers",
         "name": "dijo",
         "scene": "scene",
         "showlegend": true,
         "type": "scatter3d",
         "x": [
          0.038813360035419464
         ],
         "y": [
          0.008537333458662033
         ],
         "z": [
          "dijo"
         ]
        },
        {
         "hovertemplate": "color=injuriosas<br>x=%{x}<br>y=%{y}<br>z=%{z}<extra></extra>",
         "legendgroup": "injuriosas",
         "marker": {
          "color": "#FECB52",
          "symbol": "circle"
         },
         "mode": "markers",
         "name": "injuriosas",
         "scene": "scene",
         "showlegend": true,
         "type": "scatter3d",
         "x": [
          -0.03428445756435394
         ],
         "y": [
          0.003938428126275539
         ],
         "z": [
          "injuriosas"
         ]
        },
        {
         "hovertemplate": "color=compadrito<br>x=%{x}<br>y=%{y}<br>z=%{z}<extra></extra>",
         "legendgroup": "compadrito",
         "marker": {
          "color": "#636efa",
          "symbol": "circle"
         },
         "mode": "markers",
         "name": "compadrito",
         "scene": "scene",
         "showlegend": true,
         "type": "scatter3d",
         "x": [
          -0.1023523285984993
         ],
         "y": [
          0.013107548467814922
         ],
         "z": [
          "compadrito"
         ]
        },
        {
         "hovertemplate": "color=también<br>x=%{x}<br>y=%{y}<br>z=%{z}<extra></extra>",
         "legendgroup": "también",
         "marker": {
          "color": "#EF553B",
          "symbol": "circle"
         },
         "mode": "markers",
         "name": "también",
         "scene": "scene",
         "showlegend": true,
         "type": "scatter3d",
         "x": [
          -0.11101363599300385
         ],
         "y": [
          0.07528489083051682
         ],
         "z": [
          "también"
         ]
        },
        {
         "hovertemplate": "color=olvidar<br>x=%{x}<br>y=%{y}<br>z=%{z}<extra></extra>",
         "legendgroup": "olvidar",
         "marker": {
          "color": "#00cc96",
          "symbol": "circle"
         },
         "mode": "markers",
         "name": "olvidar",
         "scene": "scene",
         "showlegend": true,
         "type": "scatter3d",
         "x": [
          0.0007753194659017026
         ],
         "y": [
          -0.10714790225028992
         ],
         "z": [
          "olvidar"
         ]
        },
        {
         "hovertemplate": "color=hay<br>x=%{x}<br>y=%{y}<br>z=%{z}<extra></extra>",
         "legendgroup": "hay",
         "marker": {
          "color": "#ab63fa",
          "symbol": "circle"
         },
         "mode": "markers",
         "name": "hay",
         "scene": "scene",
         "showlegend": true,
         "type": "scatter3d",
         "x": [
          -0.04910075664520264
         ],
         "y": [
          -0.08105820417404175
         ],
         "z": [
          "hay"
         ]
        },
        {
         "hovertemplate": "color=discuto<br>x=%{x}<br>y=%{y}<br>z=%{z}<extra></extra>",
         "legendgroup": "discuto",
         "marker": {
          "color": "#FFA15A",
          "symbol": "circle"
         },
         "mode": "markers",
         "name": "discuto",
         "scene": "scene",
         "showlegend": true,
         "type": "scatter3d",
         "x": [
          -0.05164945125579834
         ],
         "y": [
          -0.04386552795767784
         ],
         "z": [
          "discuto"
         ]
        },
        {
         "hovertemplate": "color=vernáculo<br>x=%{x}<br>y=%{y}<br>z=%{z}<extra></extra>",
         "legendgroup": "vernáculo",
         "marker": {
          "color": "#19d3f3",
          "symbol": "circle"
         },
         "mode": "markers",
         "name": "vernáculo",
         "scene": "scene",
         "showlegend": true,
         "type": "scatter3d",
         "x": [
          0.10945966839790344
         ],
         "y": [
          -0.0032235810067504644
         ],
         "z": [
          "vernáculo"
         ]
        },
        {
         "hovertemplate": "color=cimarrón<br>x=%{x}<br>y=%{y}<br>z=%{z}<extra></extra>",
         "legendgroup": "cimarrón",
         "marker": {
          "color": "#FF6692",
          "symbol": "circle"
         },
         "mode": "markers",
         "name": "cimarrón",
         "scene": "scene",
         "showlegend": true,
         "type": "scatter3d",
         "x": [
          -0.0060768136754632
         ],
         "y": [
          -0.037910811603069305
         ],
         "z": [
          "cimarrón"
         ]
        },
        {
         "hovertemplate": "color=zarathustra<br>x=%{x}<br>y=%{y}<br>z=%{z}<extra></extra>",
         "legendgroup": "zarathustra",
         "marker": {
          "color": "#B6E880",
          "symbol": "circle"
         },
         "mode": "markers",
         "name": "zarathustra",
         "scene": "scene",
         "showlegend": true,
         "type": "scatter3d",
         "x": [
          -0.03212077170610428
         ],
         "y": [
          0.05002393573522568
         ],
         "z": [
          "zarathustra"
         ]
        },
        {
         "hovertemplate": "color=superhombres<br>x=%{x}<br>y=%{y}<br>z=%{z}<extra></extra>",
         "legendgroup": "superhombres",
         "marker": {
          "color": "#FF97FF",
          "symbol": "circle"
         },
         "mode": "markers",
         "name": "superhombres",
         "scene": "scene",
         "showlegend": true,
         "type": "scatter3d",
         "x": [
          0.008887367323040962
         ],
         "y": [
          0.017564259469509125
         ],
         "z": [
          "superhombres"
         ]
        },
        {
         "hovertemplate": "color=precursor<br>x=%{x}<br>y=%{y}<br>z=%{z}<extra></extra>",
         "legendgroup": "precursor",
         "marker": {
          "color": "#FECB52",
          "symbol": "circle"
         },
         "mode": "markers",
         "name": "precursor",
         "scene": "scene",
         "showlegend": true,
         "type": "scatter3d",
         "x": [
          0.08768279105424881
         ],
         "y": [
          -0.17392143607139587
         ],
         "z": [
          "precursor"
         ]
        },
        {
         "hovertemplate": "color=escrito<br>x=%{x}<br>y=%{y}<br>z=%{z}<extra></extra>",
         "legendgroup": "escrito",
         "marker": {
          "color": "#636efa",
          "symbol": "circle"
         },
         "mode": "markers",
         "name": "escrito",
         "scene": "scene",
         "showlegend": true,
         "type": "scatter3d",
         "x": [
          0.04154026508331299
         ],
         "y": [
          -0.037103861570358276
         ],
         "z": [
          "escrito"
         ]
        },
        {
         "hovertemplate": "color=ipuche<br>x=%{x}<br>y=%{y}<br>z=%{z}<extra></extra>",
         "legendgroup": "ipuche",
         "marker": {
          "color": "#EF553B",
          "symbol": "circle"
         },
         "mode": "markers",
         "name": "ipuche",
         "scene": "scene",
         "showlegend": true,
         "type": "scatter3d",
         "x": [
          -0.006065621040761471
         ],
         "y": [
          -0.00023384735686704516
         ],
         "z": [
          "ipuche"
         ]
        },
        {
         "hovertemplate": "color=leandro<br>x=%{x}<br>y=%{y}<br>z=%{z}<extra></extra>",
         "legendgroup": "leandro",
         "marker": {
          "color": "#00cc96",
          "symbol": "circle"
         },
         "mode": "markers",
         "name": "leandro",
         "scene": "scene",
         "showlegend": true,
         "type": "scatter3d",
         "x": [
          -0.028170105069875717
         ],
         "y": [
          -0.04727042838931084
         ],
         "z": [
          "leandro"
         ]
        },
        {
         "hovertemplate": "color=pedro<br>x=%{x}<br>y=%{y}<br>z=%{z}<extra></extra>",
         "legendgroup": "pedro",
         "marker": {
          "color": "#ab63fa",
          "symbol": "circle"
         },
         "mode": "markers",
         "name": "pedro",
         "scene": "scene",
         "showlegend": true,
         "type": "scatter3d",
         "x": [
          0.021152932196855545
         ],
         "y": [
          -0.025816475972533226
         ],
         "z": [
          "pedro"
         ]
        },
        {
         "hovertemplate": "color=desventuras<br>x=%{x}<br>y=%{y}<br>z=%{z}<extra></extra>",
         "legendgroup": "desventuras",
         "marker": {
          "color": "#FFA15A",
          "symbol": "circle"
         },
         "mode": "markers",
         "name": "desventuras",
         "scene": "scene",
         "showlegend": true,
         "type": "scatter3d",
         "x": [
          0.06908244639635086
         ],
         "y": [
          -0.13393951952457428
         ],
         "z": [
          "desventuras"
         ]
        },
        {
         "hovertemplate": "color=para<br>x=%{x}<br>y=%{y}<br>z=%{z}<extra></extra>",
         "legendgroup": "para",
         "marker": {
          "color": "#19d3f3",
          "symbol": "circle"
         },
         "mode": "markers",
         "name": "para",
         "scene": "scene",
         "showlegend": true,
         "type": "scatter3d",
         "x": [
          -0.07868944108486176
         ],
         "y": [
          0.02399197593331337
         ],
         "z": [
          "para"
         ]
        },
        {
         "hovertemplate": "color=representaba<br>x=%{x}<br>y=%{y}<br>z=%{z}<extra></extra>",
         "legendgroup": "representaba",
         "marker": {
          "color": "#FF6692",
          "symbol": "circle"
         },
         "mode": "markers",
         "name": "representaba",
         "scene": "scene",
         "showlegend": true,
         "type": "scatter3d",
         "x": [
          -0.02816961519420147
         ],
         "y": [
          0.027237476781010628
         ],
         "z": [
          "representaba"
         ]
        },
        {
         "hovertemplate": "color=consta<br>x=%{x}<br>y=%{y}<br>z=%{z}<extra></extra>",
         "legendgroup": "consta",
         "marker": {
          "color": "#B6E880",
          "symbol": "circle"
         },
         "mode": "markers",
         "name": "consta",
         "scene": "scene",
         "showlegend": true,
         "type": "scatter3d",
         "x": [
          0.0322624035179615
         ],
         "y": [
          0.04730495065450668
         ],
         "z": [
          "consta"
         ]
        },
        {
         "hovertemplate": "color=suficiente<br>x=%{x}<br>y=%{y}<br>z=%{z}<extra></extra>",
         "legendgroup": "suficiente",
         "marker": {
          "color": "#FF97FF",
          "symbol": "circle"
         },
         "mode": "markers",
         "name": "suficiente",
         "scene": "scene",
         "showlegend": true,
         "type": "scatter3d",
         "x": [
          -0.06643445044755936
         ],
         "y": [
          -0.05025287717580795
         ],
         "z": [
          "suficiente"
         ]
        },
        {
         "hovertemplate": "color=modo<br>x=%{x}<br>y=%{y}<br>z=%{z}<extra></extra>",
         "legendgroup": "modo",
         "marker": {
          "color": "#FECB52",
          "symbol": "circle"
         },
         "mode": "markers",
         "name": "modo",
         "scene": "scene",
         "showlegend": true,
         "type": "scatter3d",
         "x": [
          -0.0491626113653183
         ],
         "y": [
          -0.010413648560643196
         ],
         "z": [
          "modo"
         ]
        },
        {
         "hovertemplate": "color=palabras<br>x=%{x}<br>y=%{y}<br>z=%{z}<extra></extra>",
         "legendgroup": "palabras",
         "marker": {
          "color": "#636efa",
          "symbol": "circle"
         },
         "mode": "markers",
         "name": "palabras",
         "scene": "scene",
         "showlegend": true,
         "type": "scatter3d",
         "x": [
          -0.09603188931941986
         ],
         "y": [
          -0.0816490650177002
         ],
         "z": [
          "palabras"
         ]
        },
        {
         "hovertemplate": "color=duda<br>x=%{x}<br>y=%{y}<br>z=%{z}<extra></extra>",
         "legendgroup": "duda",
         "marker": {
          "color": "#EF553B",
          "symbol": "circle"
         },
         "mode": "markers",
         "name": "duda",
         "scene": "scene",
         "showlegend": true,
         "type": "scatter3d",
         "x": [
          -0.11931804567575455
         ],
         "y": [
          0.019344888627529144
         ],
         "z": [
          "duda"
         ]
        }
       ],
       "layout": {
        "legend": {
         "title": {
          "text": "color"
         },
         "tracegroupgap": 0
        },
        "margin": {
         "t": 60
        },
        "scene": {
         "domain": {
          "x": [
           0,
           1
          ],
          "y": [
           0,
           1
          ]
         },
         "xaxis": {
          "title": {
           "text": "x"
          }
         },
         "yaxis": {
          "title": {
           "text": "y"
          }
         },
         "zaxis": {
          "title": {
           "text": "z"
          }
         }
        },
        "template": {
         "data": {
          "bar": [
           {
            "error_x": {
             "color": "#2a3f5f"
            },
            "error_y": {
             "color": "#2a3f5f"
            },
            "marker": {
             "line": {
              "color": "#E5ECF6",
              "width": 0.5
             },
             "pattern": {
              "fillmode": "overlay",
              "size": 10,
              "solidity": 0.2
             }
            },
            "type": "bar"
           }
          ],
          "barpolar": [
           {
            "marker": {
             "line": {
              "color": "#E5ECF6",
              "width": 0.5
             },
             "pattern": {
              "fillmode": "overlay",
              "size": 10,
              "solidity": 0.2
             }
            },
            "type": "barpolar"
           }
          ],
          "carpet": [
           {
            "aaxis": {
             "endlinecolor": "#2a3f5f",
             "gridcolor": "white",
             "linecolor": "white",
             "minorgridcolor": "white",
             "startlinecolor": "#2a3f5f"
            },
            "baxis": {
             "endlinecolor": "#2a3f5f",
             "gridcolor": "white",
             "linecolor": "white",
             "minorgridcolor": "white",
             "startlinecolor": "#2a3f5f"
            },
            "type": "carpet"
           }
          ],
          "choropleth": [
           {
            "colorbar": {
             "outlinewidth": 0,
             "ticks": ""
            },
            "type": "choropleth"
           }
          ],
          "contour": [
           {
            "colorbar": {
             "outlinewidth": 0,
             "ticks": ""
            },
            "colorscale": [
             [
              0,
              "#0d0887"
             ],
             [
              0.1111111111111111,
              "#46039f"
             ],
             [
              0.2222222222222222,
              "#7201a8"
             ],
             [
              0.3333333333333333,
              "#9c179e"
             ],
             [
              0.4444444444444444,
              "#bd3786"
             ],
             [
              0.5555555555555556,
              "#d8576b"
             ],
             [
              0.6666666666666666,
              "#ed7953"
             ],
             [
              0.7777777777777778,
              "#fb9f3a"
             ],
             [
              0.8888888888888888,
              "#fdca26"
             ],
             [
              1,
              "#f0f921"
             ]
            ],
            "type": "contour"
           }
          ],
          "contourcarpet": [
           {
            "colorbar": {
             "outlinewidth": 0,
             "ticks": ""
            },
            "type": "contourcarpet"
           }
          ],
          "heatmap": [
           {
            "colorbar": {
             "outlinewidth": 0,
             "ticks": ""
            },
            "colorscale": [
             [
              0,
              "#0d0887"
             ],
             [
              0.1111111111111111,
              "#46039f"
             ],
             [
              0.2222222222222222,
              "#7201a8"
             ],
             [
              0.3333333333333333,
              "#9c179e"
             ],
             [
              0.4444444444444444,
              "#bd3786"
             ],
             [
              0.5555555555555556,
              "#d8576b"
             ],
             [
              0.6666666666666666,
              "#ed7953"
             ],
             [
              0.7777777777777778,
              "#fb9f3a"
             ],
             [
              0.8888888888888888,
              "#fdca26"
             ],
             [
              1,
              "#f0f921"
             ]
            ],
            "type": "heatmap"
           }
          ],
          "heatmapgl": [
           {
            "colorbar": {
             "outlinewidth": 0,
             "ticks": ""
            },
            "colorscale": [
             [
              0,
              "#0d0887"
             ],
             [
              0.1111111111111111,
              "#46039f"
             ],
             [
              0.2222222222222222,
              "#7201a8"
             ],
             [
              0.3333333333333333,
              "#9c179e"
             ],
             [
              0.4444444444444444,
              "#bd3786"
             ],
             [
              0.5555555555555556,
              "#d8576b"
             ],
             [
              0.6666666666666666,
              "#ed7953"
             ],
             [
              0.7777777777777778,
              "#fb9f3a"
             ],
             [
              0.8888888888888888,
              "#fdca26"
             ],
             [
              1,
              "#f0f921"
             ]
            ],
            "type": "heatmapgl"
           }
          ],
          "histogram": [
           {
            "marker": {
             "pattern": {
              "fillmode": "overlay",
              "size": 10,
              "solidity": 0.2
             }
            },
            "type": "histogram"
           }
          ],
          "histogram2d": [
           {
            "colorbar": {
             "outlinewidth": 0,
             "ticks": ""
            },
            "colorscale": [
             [
              0,
              "#0d0887"
             ],
             [
              0.1111111111111111,
              "#46039f"
             ],
             [
              0.2222222222222222,
              "#7201a8"
             ],
             [
              0.3333333333333333,
              "#9c179e"
             ],
             [
              0.4444444444444444,
              "#bd3786"
             ],
             [
              0.5555555555555556,
              "#d8576b"
             ],
             [
              0.6666666666666666,
              "#ed7953"
             ],
             [
              0.7777777777777778,
              "#fb9f3a"
             ],
             [
              0.8888888888888888,
              "#fdca26"
             ],
             [
              1,
              "#f0f921"
             ]
            ],
            "type": "histogram2d"
           }
          ],
          "histogram2dcontour": [
           {
            "colorbar": {
             "outlinewidth": 0,
             "ticks": ""
            },
            "colorscale": [
             [
              0,
              "#0d0887"
             ],
             [
              0.1111111111111111,
              "#46039f"
             ],
             [
              0.2222222222222222,
              "#7201a8"
             ],
             [
              0.3333333333333333,
              "#9c179e"
             ],
             [
              0.4444444444444444,
              "#bd3786"
             ],
             [
              0.5555555555555556,
              "#d8576b"
             ],
             [
              0.6666666666666666,
              "#ed7953"
             ],
             [
              0.7777777777777778,
              "#fb9f3a"
             ],
             [
              0.8888888888888888,
              "#fdca26"
             ],
             [
              1,
              "#f0f921"
             ]
            ],
            "type": "histogram2dcontour"
           }
          ],
          "mesh3d": [
           {
            "colorbar": {
             "outlinewidth": 0,
             "ticks": ""
            },
            "type": "mesh3d"
           }
          ],
          "parcoords": [
           {
            "line": {
             "colorbar": {
              "outlinewidth": 0,
              "ticks": ""
             }
            },
            "type": "parcoords"
           }
          ],
          "pie": [
           {
            "automargin": true,
            "type": "pie"
           }
          ],
          "scatter": [
           {
            "fillpattern": {
             "fillmode": "overlay",
             "size": 10,
             "solidity": 0.2
            },
            "type": "scatter"
           }
          ],
          "scatter3d": [
           {
            "line": {
             "colorbar": {
              "outlinewidth": 0,
              "ticks": ""
             }
            },
            "marker": {
             "colorbar": {
              "outlinewidth": 0,
              "ticks": ""
             }
            },
            "type": "scatter3d"
           }
          ],
          "scattercarpet": [
           {
            "marker": {
             "colorbar": {
              "outlinewidth": 0,
              "ticks": ""
             }
            },
            "type": "scattercarpet"
           }
          ],
          "scattergeo": [
           {
            "marker": {
             "colorbar": {
              "outlinewidth": 0,
              "ticks": ""
             }
            },
            "type": "scattergeo"
           }
          ],
          "scattergl": [
           {
            "marker": {
             "colorbar": {
              "outlinewidth": 0,
              "ticks": ""
             }
            },
            "type": "scattergl"
           }
          ],
          "scattermapbox": [
           {
            "marker": {
             "colorbar": {
              "outlinewidth": 0,
              "ticks": ""
             }
            },
            "type": "scattermapbox"
           }
          ],
          "scatterpolar": [
           {
            "marker": {
             "colorbar": {
              "outlinewidth": 0,
              "ticks": ""
             }
            },
            "type": "scatterpolar"
           }
          ],
          "scatterpolargl": [
           {
            "marker": {
             "colorbar": {
              "outlinewidth": 0,
              "ticks": ""
             }
            },
            "type": "scatterpolargl"
           }
          ],
          "scatterternary": [
           {
            "marker": {
             "colorbar": {
              "outlinewidth": 0,
              "ticks": ""
             }
            },
            "type": "scatterternary"
           }
          ],
          "surface": [
           {
            "colorbar": {
             "outlinewidth": 0,
             "ticks": ""
            },
            "colorscale": [
             [
              0,
              "#0d0887"
             ],
             [
              0.1111111111111111,
              "#46039f"
             ],
             [
              0.2222222222222222,
              "#7201a8"
             ],
             [
              0.3333333333333333,
              "#9c179e"
             ],
             [
              0.4444444444444444,
              "#bd3786"
             ],
             [
              0.5555555555555556,
              "#d8576b"
             ],
             [
              0.6666666666666666,
              "#ed7953"
             ],
             [
              0.7777777777777778,
              "#fb9f3a"
             ],
             [
              0.8888888888888888,
              "#fdca26"
             ],
             [
              1,
              "#f0f921"
             ]
            ],
            "type": "surface"
           }
          ],
          "table": [
           {
            "cells": {
             "fill": {
              "color": "#EBF0F8"
             },
             "line": {
              "color": "white"
             }
            },
            "header": {
             "fill": {
              "color": "#C8D4E3"
             },
             "line": {
              "color": "white"
             }
            },
            "type": "table"
           }
          ]
         },
         "layout": {
          "annotationdefaults": {
           "arrowcolor": "#2a3f5f",
           "arrowhead": 0,
           "arrowwidth": 1
          },
          "autotypenumbers": "strict",
          "coloraxis": {
           "colorbar": {
            "outlinewidth": 0,
            "ticks": ""
           }
          },
          "colorscale": {
           "diverging": [
            [
             0,
             "#8e0152"
            ],
            [
             0.1,
             "#c51b7d"
            ],
            [
             0.2,
             "#de77ae"
            ],
            [
             0.3,
             "#f1b6da"
            ],
            [
             0.4,
             "#fde0ef"
            ],
            [
             0.5,
             "#f7f7f7"
            ],
            [
             0.6,
             "#e6f5d0"
            ],
            [
             0.7,
             "#b8e186"
            ],
            [
             0.8,
             "#7fbc41"
            ],
            [
             0.9,
             "#4d9221"
            ],
            [
             1,
             "#276419"
            ]
           ],
           "sequential": [
            [
             0,
             "#0d0887"
            ],
            [
             0.1111111111111111,
             "#46039f"
            ],
            [
             0.2222222222222222,
             "#7201a8"
            ],
            [
             0.3333333333333333,
             "#9c179e"
            ],
            [
             0.4444444444444444,
             "#bd3786"
            ],
            [
             0.5555555555555556,
             "#d8576b"
            ],
            [
             0.6666666666666666,
             "#ed7953"
            ],
            [
             0.7777777777777778,
             "#fb9f3a"
            ],
            [
             0.8888888888888888,
             "#fdca26"
            ],
            [
             1,
             "#f0f921"
            ]
           ],
           "sequentialminus": [
            [
             0,
             "#0d0887"
            ],
            [
             0.1111111111111111,
             "#46039f"
            ],
            [
             0.2222222222222222,
             "#7201a8"
            ],
            [
             0.3333333333333333,
             "#9c179e"
            ],
            [
             0.4444444444444444,
             "#bd3786"
            ],
            [
             0.5555555555555556,
             "#d8576b"
            ],
            [
             0.6666666666666666,
             "#ed7953"
            ],
            [
             0.7777777777777778,
             "#fb9f3a"
            ],
            [
             0.8888888888888888,
             "#fdca26"
            ],
            [
             1,
             "#f0f921"
            ]
           ]
          },
          "colorway": [
           "#636efa",
           "#EF553B",
           "#00cc96",
           "#ab63fa",
           "#FFA15A",
           "#19d3f3",
           "#FF6692",
           "#B6E880",
           "#FF97FF",
           "#FECB52"
          ],
          "font": {
           "color": "#2a3f5f"
          },
          "geo": {
           "bgcolor": "white",
           "lakecolor": "white",
           "landcolor": "#E5ECF6",
           "showlakes": true,
           "showland": true,
           "subunitcolor": "white"
          },
          "hoverlabel": {
           "align": "left"
          },
          "hovermode": "closest",
          "mapbox": {
           "style": "light"
          },
          "paper_bgcolor": "white",
          "plot_bgcolor": "#E5ECF6",
          "polar": {
           "angularaxis": {
            "gridcolor": "white",
            "linecolor": "white",
            "ticks": ""
           },
           "bgcolor": "#E5ECF6",
           "radialaxis": {
            "gridcolor": "white",
            "linecolor": "white",
            "ticks": ""
           }
          },
          "scene": {
           "xaxis": {
            "backgroundcolor": "#E5ECF6",
            "gridcolor": "white",
            "gridwidth": 2,
            "linecolor": "white",
            "showbackground": true,
            "ticks": "",
            "zerolinecolor": "white"
           },
           "yaxis": {
            "backgroundcolor": "#E5ECF6",
            "gridcolor": "white",
            "gridwidth": 2,
            "linecolor": "white",
            "showbackground": true,
            "ticks": "",
            "zerolinecolor": "white"
           },
           "zaxis": {
            "backgroundcolor": "#E5ECF6",
            "gridcolor": "white",
            "gridwidth": 2,
            "linecolor": "white",
            "showbackground": true,
            "ticks": "",
            "zerolinecolor": "white"
           }
          },
          "shapedefaults": {
           "line": {
            "color": "#2a3f5f"
           }
          },
          "ternary": {
           "aaxis": {
            "gridcolor": "white",
            "linecolor": "white",
            "ticks": ""
           },
           "baxis": {
            "gridcolor": "white",
            "linecolor": "white",
            "ticks": ""
           },
           "bgcolor": "#E5ECF6",
           "caxis": {
            "gridcolor": "white",
            "linecolor": "white",
            "ticks": ""
           }
          },
          "title": {
           "x": 0.05
          },
          "xaxis": {
           "automargin": true,
           "gridcolor": "white",
           "linecolor": "white",
           "ticks": "",
           "title": {
            "standoff": 15
           },
           "zerolinecolor": "white",
           "zerolinewidth": 2
          },
          "yaxis": {
           "automargin": true,
           "gridcolor": "white",
           "linecolor": "white",
           "ticks": "",
           "title": {
            "standoff": 15
           },
           "zerolinecolor": "white",
           "zerolinewidth": 2
          }
         }
        }
       }
      }
     },
     "metadata": {},
     "output_type": "display_data"
    }
   ],
   "source": [
    "import plotly.express as px\n",
    "\n",
    "df=pd.DataFrame([X_reduced[:,0],X_reduced[:,1],words]).transpose()\n",
    "df.columns = ['X','Y','WORD']\n",
    "df=df.set_index(\"WORD\")\n",
    "\n",
    "px.scatter_3d(\n",
    "    x=df.X,y=df.Y,z=df.index,color=df.index\n",
    ")"
   ]
  },
  {
   "cell_type": "code",
   "execution_count": null,
   "metadata": {},
   "outputs": [],
   "source": []
  }
 ],
 "metadata": {
  "kernelspec": {
   "display_name": "deep-learning",
   "language": "python",
   "name": "python3"
  },
  "language_info": {
   "codemirror_mode": {
    "name": "ipython",
    "version": 3
   },
   "file_extension": ".py",
   "mimetype": "text/x-python",
   "name": "python",
   "nbconvert_exporter": "python",
   "pygments_lexer": "ipython3",
   "version": "3.11.8"
  }
 },
 "nbformat": 4,
 "nbformat_minor": 2
}
