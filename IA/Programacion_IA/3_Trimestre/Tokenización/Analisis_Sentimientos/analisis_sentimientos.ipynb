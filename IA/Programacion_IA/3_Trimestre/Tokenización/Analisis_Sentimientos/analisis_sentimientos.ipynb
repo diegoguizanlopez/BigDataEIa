{
 "cells": [
  {
   "cell_type": "code",
   "execution_count": 1,
   "metadata": {},
   "outputs": [],
   "source": [
    "import pathlib\n",
    "\n",
    "path=str(pathlib.Path().resolve())+\"/\""
   ]
  },
  {
   "cell_type": "code",
   "execution_count": 2,
   "metadata": {},
   "outputs": [],
   "source": [
    "#!conda install -y gensim\n",
    "#!conda install -y nltk"
   ]
  },
  {
   "cell_type": "code",
   "execution_count": 3,
   "metadata": {},
   "outputs": [],
   "source": [
    "from gensim.models import Word2Vec\n",
    "import numpy as np\n",
    "from nltk.tokenize import word_tokenize\n",
    "import nltk"
   ]
  },
  {
   "cell_type": "code",
   "execution_count": 4,
   "metadata": {},
   "outputs": [
    {
     "name": "stderr",
     "output_type": "stream",
     "text": [
      "[nltk_data] Downloading package punkt to\n",
      "[nltk_data]     C:\\Users\\diego.guizanlopez\\AppData\\Roaming\\nltk_data..\n",
      "[nltk_data]     .\n",
      "[nltk_data]   Package punkt is already up-to-date!\n"
     ]
    },
    {
     "data": {
      "text/plain": [
       "True"
      ]
     },
     "execution_count": 4,
     "metadata": {},
     "output_type": "execute_result"
    }
   ],
   "source": [
    "nltk.download('punkt')"
   ]
  },
  {
   "cell_type": "code",
   "execution_count": 5,
   "metadata": {},
   "outputs": [],
   "source": [
    "import pandas as pd\n",
    "\n",
    "df = pd.read_csv(path+\"vandal.csv\")"
   ]
  },
  {
   "cell_type": "code",
   "execution_count": 7,
   "metadata": {},
   "outputs": [
    {
     "name": "stdout",
     "output_type": "stream",
     "text": [
      "Collecting package metadata (current_repodata.json): ...working... done\n",
      "Solving environment: ...working... done\n",
      "\n",
      "## Package Plan ##\n",
      "\n",
      "  environment location: C:\\Users\\diego.guizanlopez\\AppData\\Local\\miniconda3\\envs\\deep-learning\n",
      "\n",
      "  added / updated specs:\n",
      "    - pytorch-cpu\n",
      "    - torchvision-cpu\n",
      "\n",
      "\n",
      "The following packages will be downloaded:\n",
      "\n",
      "    package                    |            build\n",
      "    ---------------------------|-----------------\n",
      "    filelock-3.13.1            |  py311haa95532_0          24 KB\n",
      "    fsspec-2023.10.0           |  py311haa95532_0         359 KB\n",
      "    gmpy2-2.1.2                |  py311h7f96b67_0         140 KB\n",
      "    jinja2-3.1.3               |  py311haa95532_0         354 KB\n",
      "    libuv-1.44.2               |       h2bbff1b_0         288 KB\n",
      "    markupsafe-2.1.3           |  py311h2bbff1b_0          28 KB\n",
      "    mpc-1.1.0                  |       h7edee0f_1         260 KB\n",
      "    mpfr-4.0.2                 |       h62dcd97_1         1.5 MB\n",
      "    mpir-3.0.0                 |       hec2e145_1         1.3 MB\n",
      "    mpmath-1.3.0               |  py311haa95532_0         1.0 MB\n",
      "    networkx-3.1               |  py311haa95532_0         3.3 MB\n",
      "    ninja-1.10.2               |       haa95532_5          14 KB\n",
      "    ninja-base-1.10.2          |       h6d14046_5         255 KB\n",
      "    pytorch-2.2.0              |cpu_py311hd080823_0       112.1 MB\n",
      "    pytorch-cpu-2.2.0          |       h245b40c_0          19 KB\n",
      "    sympy-1.12                 |  py311haa95532_0        14.4 MB\n",
      "    torchvision-cpu-0.2.2      |             py_3          44 KB  pytorch\n",
      "    ------------------------------------------------------------\n",
      "                                           Total:       135.4 MB\n",
      "\n",
      "The following NEW packages will be INSTALLED:\n",
      "\n",
      "  cffi               pkgs/main/win-64::cffi-1.16.0-py311h2bbff1b_0 \n",
      "  filelock           pkgs/main/win-64::filelock-3.13.1-py311haa95532_0 \n",
      "  fsspec             pkgs/main/win-64::fsspec-2023.10.0-py311haa95532_0 \n",
      "  gmpy2              pkgs/main/win-64::gmpy2-2.1.2-py311h7f96b67_0 \n",
      "  jinja2             pkgs/main/win-64::jinja2-3.1.3-py311haa95532_0 \n",
      "  libuv              pkgs/main/win-64::libuv-1.44.2-h2bbff1b_0 \n",
      "  markupsafe         pkgs/main/win-64::markupsafe-2.1.3-py311h2bbff1b_0 \n",
      "  mpc                pkgs/main/win-64::mpc-1.1.0-h7edee0f_1 \n",
      "  mpfr               pkgs/main/win-64::mpfr-4.0.2-h62dcd97_1 \n",
      "  mpir               pkgs/main/win-64::mpir-3.0.0-hec2e145_1 \n",
      "  mpmath             pkgs/main/win-64::mpmath-1.3.0-py311haa95532_0 \n",
      "  networkx           pkgs/main/win-64::networkx-3.1-py311haa95532_0 \n",
      "  ninja              pkgs/main/win-64::ninja-1.10.2-haa95532_5 \n",
      "  ninja-base         pkgs/main/win-64::ninja-base-1.10.2-h6d14046_5 \n",
      "  pycparser          pkgs/main/noarch::pycparser-2.21-pyhd3eb1b0_0 \n",
      "  pytorch            pkgs/main/win-64::pytorch-2.2.0-cpu_py311hd080823_0 \n",
      "  pytorch-cpu        pkgs/main/win-64::pytorch-cpu-2.2.0-h245b40c_0 \n",
      "  sympy              pkgs/main/win-64::sympy-1.12-py311haa95532_0 \n",
      "  torchvision-cpu    pytorch/noarch::torchvision-cpu-0.2.2-py_3 \n",
      "  typing_extensions  pkgs/main/win-64::typing_extensions-4.9.0-py311haa95532_1 \n",
      "\n",
      "\n",
      "\n",
      "Downloading and Extracting Packages: ...working... done\n",
      "Preparing transaction: ...working... done\n",
      "Verifying transaction: ...working... done\n",
      "Executing transaction: ...working... done\n"
     ]
    },
    {
     "name": "stderr",
     "output_type": "stream",
     "text": [
      "\n",
      "\n",
      "==> WARNING: A newer version of conda exists. <==\n",
      "  current version: 23.9.0\n",
      "  latest version: 24.3.0\n",
      "\n",
      "Please update conda by running\n",
      "\n",
      "    $ conda update -n base -c defaults conda\n",
      "\n",
      "Or to minimize the number of packages updated during conda update use\n",
      "\n",
      "     conda install conda=24.3.0\n",
      "\n",
      "\n"
     ]
    }
   ],
   "source": [
    "#!conda install -y pytorch-cpu torchvision-cpu -c pytorch"
   ]
  },
  {
   "cell_type": "code",
   "execution_count": 9,
   "metadata": {},
   "outputs": [
    {
     "name": "stdout",
     "output_type": "stream",
     "text": [
      "WARNING:tensorflow:From c:\\Users\\diego.guizanlopez\\AppData\\Local\\miniconda3\\envs\\deep-learning\\Lib\\site-packages\\tf_keras\\src\\losses.py:2976: The name tf.losses.sparse_softmax_cross_entropy is deprecated. Please use tf.compat.v1.losses.sparse_softmax_cross_entropy instead.\n",
      "\n"
     ]
    }
   ],
   "source": [
    "import torch\n",
    "import transformers\n",
    "from transformers import pipeline\n",
    "\n",
    "device = 0 if torch.cuda.is_available() else -1\n",
    "transformers.utils.logging.set_verbosity_error()\n",
    "\n",
    "nlp = pipeline(\"text-classification\", model=\"nlptown/bert-base-multilingual-uncased-sentiment\", device=device)"
   ]
  },
  {
   "cell_type": "code",
   "execution_count": null,
   "metadata": {},
   "outputs": [],
   "source": []
  }
 ],
 "metadata": {
  "kernelspec": {
   "display_name": "deep-learning",
   "language": "python",
   "name": "python3"
  },
  "language_info": {
   "codemirror_mode": {
    "name": "ipython",
    "version": 3
   },
   "file_extension": ".py",
   "mimetype": "text/x-python",
   "name": "python",
   "nbconvert_exporter": "python",
   "pygments_lexer": "ipython3",
   "version": "3.11.8"
  }
 },
 "nbformat": 4,
 "nbformat_minor": 2
}
