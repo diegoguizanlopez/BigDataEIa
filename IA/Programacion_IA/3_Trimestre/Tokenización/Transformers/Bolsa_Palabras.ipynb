{
 "cells": [
  {
   "cell_type": "code",
   "execution_count": 36,
   "metadata": {},
   "outputs": [],
   "source": [
    "#!pip install -q transformers"
   ]
  },
  {
   "cell_type": "code",
   "execution_count": 43,
   "metadata": {},
   "outputs": [],
   "source": [
    "import re\n",
    "from collections import Counter\n",
    "\n",
    "def txt_to_bag_of_words(text):\n",
    "    \"\"\"A partir de un texto creamos la bolsa de palabras a partir del text y lo limpiamos en caso de caracter no alfanumérico, dividiendolo en palabras\n",
    "\n",
    "    Args:\n",
    "        text (str): Texto a convertir en bolsa\n",
    "\n",
    "    Returns:\n",
    "        Dicionary<str,int>: Diccionario de apariciones\n",
    "    \"\"\"\n",
    "    text = text.lower()\n",
    "    text = re.sub(r\"[^\\w\\s]\",' ',text)\n",
    "    words = text.split()\n",
    "    bow = Counter(words)\n",
    "    return bow\n",
    "\n",
    "def distancia_jacard(bow1,bow2):\n",
    "    \"\"\"Mide el grado de similitud entre dos conjuntos, sea cual sea el tipo de elementos. \n",
    "\n",
    "    Args:\n",
    "        bow1 (Dictionary<str,int>): Diccionario 1\n",
    "        bow2 (Dictionary<str,int>): Diccionario 2\n",
    "\n",
    "    Returns:\n",
    "        float: Valor de distancia jacard\n",
    "    \"\"\"\n",
    "    \n",
    "    keys1 = set(bow1.keys())\n",
    "    keys2 = set(bow2.keys())\n",
    "    interseccion = keys1.intersection(keys2)\n",
    "    union = keys1.union(keys2)\n",
    "    d = 1 - (len(interseccion) / len(union))\n",
    "    return d\n"
   ]
  },
  {
   "cell_type": "code",
   "execution_count": 44,
   "metadata": {},
   "outputs": [
    {
     "data": {
      "text/plain": [
       "Counter({'de': 2,\n",
       "         'prueba': 2,\n",
       "         'esto': 1,\n",
       "         'es': 1,\n",
       "         'un': 1,\n",
       "         'texto': 1,\n",
       "         'y': 1,\n",
       "         'otro': 1,\n",
       "         '777': 1})"
      ]
     },
     "execution_count": 44,
     "metadata": {},
     "output_type": "execute_result"
    }
   ],
   "source": [
    "txt = ' Esto es un texto.de prueba y otro de prueba 777'\n",
    "txt_to_bag_of_words(txt)"
   ]
  },
  {
   "cell_type": "code",
   "execution_count": 45,
   "metadata": {},
   "outputs": [],
   "source": [
    "text1 = \"\"\"En cambio, el software sí es de código abierto, siendo su sistema operativo oficial una versión adaptada de Debian, \n",
    "denominada Raspberry Pi OS, aunque permite usar otros sistemas operativos, incluido una versión de Windows 10. \n",
    "En todas sus versiones, incluye un procesador Broadcom, memoria RAM, GPU, puertos USB, HDMI, Ethernet (el primer modelo no lo tenía), \n",
    "40 pines GPIO (desde la Raspberry Pi 2) y un conector para cámara. Ninguna de sus ediciones incluye memoria, \n",
    "siendo esta en su primera versión una tarjeta SD y en ediciones posteriores una tarjeta MicroSD. \"\"\"\n",
    "\n",
    "text2 = \"\"\"La organización detrás de la Raspberry Pi consiste en dos brazos. \n",
    "Los primeros modelos fueron desarrollados por la Raspberry Pi Foundation. \n",
    "Después de que la Raspberry Pi 1 Modelo B fuese lanzado, la fundación creó Raspberry Pi Trading, \n",
    "con Eben Upton como CEO, para desarrollar el tercer modelo, el Raspberry Pi Modelo 1 B+. \n",
    "Raspberry Pi Trading es responsable de desarrollar la tecnología, \n",
    "mientras que la fundación es una organización sin fines de lucro educativa que tiene como objetivo promocionar la enseñanza de informática \n",
    "en escuelas y países en desarrollo. \"\"\"\n",
    "\n",
    "text3 = \"\"\"Las primeras ventas comenzaron el 29 de febrero de 2012 a las 06:00 UTC;39\n",
    "al mismo tiempo se anunció que el modelo A, que originalmente iba a tener 128 MB de RAM, tendría 256 MB.40 \n",
    "La página de la fundación también anunció que “Seis años después del origen del proyecto, \n",
    "estamos cerca de finalizar el primer arranque del proyecto - aunque esto es solo el principio de la historia de Raspberry Pi”.4 \n",
    "Por otro lado las dos tiendas que vendían las placas, Premier Farnell y RS Components, \n",
    "tuvieron una gran carga en sus servidores inmediatamente después del lanzamiento.4 \n",
    "La cuenta oficial de Raspberry Pi en Twitter informó que Premier Farnell vendió toda su existencia de inventario a los pocos minutos del momento \n",
    "de lanzamiento, mientras que RS Components tuvo 100.000 peticiones de interés el primer día.4 \n",
    "En los seis meses siguientes llegarían a vender 500.000 unidades.\"\"\""
   ]
  },
  {
   "cell_type": "code",
   "execution_count": 46,
   "metadata": {},
   "outputs": [],
   "source": [
    "bow1 = txt_to_bag_of_words(text1)\n",
    "bow2 = txt_to_bag_of_words(text2)\n",
    "bow3 = txt_to_bag_of_words(text3)\n",
    "d12 = distancia_jacard(bow1,bow2)\n",
    "d13 = distancia_jacard(bow1,bow3)\n",
    "d23 = distancia_jacard(bow2,bow3)"
   ]
  },
  {
   "cell_type": "code",
   "execution_count": 49,
   "metadata": {},
   "outputs": [
    {
     "name": "stdout",
     "output_type": "stream",
     "text": [
      "Counter({'en': 4, 'de': 4, 'una': 4, 'versión': 3, 'el': 2, 'siendo': 2, 'su': 2, 'raspberry': 2, 'pi': 2, 'sus': 2, 'incluye': 2, 'un': 2, 'memoria': 2, 'y': 2, 'ediciones': 2, 'tarjeta': 2, 'cambio': 1, 'software': 1, 'sí': 1, 'es': 1, 'código': 1, 'abierto': 1, 'sistema': 1, 'operativo': 1, 'oficial': 1, 'adaptada': 1, 'debian': 1, 'denominada': 1, 'os': 1, 'aunque': 1, 'permite': 1, 'usar': 1, 'otros': 1, 'sistemas': 1, 'operativos': 1, 'incluido': 1, 'windows': 1, '10': 1, 'todas': 1, 'versiones': 1, 'procesador': 1, 'broadcom': 1, 'ram': 1, 'gpu': 1, 'puertos': 1, 'usb': 1, 'hdmi': 1, 'ethernet': 1, 'primer': 1, 'modelo': 1, 'no': 1, 'lo': 1, 'tenía': 1, '40': 1, 'pines': 1, 'gpio': 1, 'desde': 1, 'la': 1, '2': 1, 'conector': 1, 'para': 1, 'cámara': 1, 'ninguna': 1, 'esta': 1, 'primera': 1, 'sd': 1, 'posteriores': 1, 'microsd': 1})\n",
      "Counter({'la': 8, 'raspberry': 6, 'pi': 6, 'de': 5, 'en': 3, 'que': 3, 'modelo': 3, 'organización': 2, '1': 2, 'b': 2, 'fundación': 2, 'trading': 2, 'como': 2, 'desarrollar': 2, 'el': 2, 'es': 2, 'detrás': 1, 'consiste': 1, 'dos': 1, 'brazos': 1, 'los': 1, 'primeros': 1, 'modelos': 1, 'fueron': 1, 'desarrollados': 1, 'por': 1, 'foundation': 1, 'después': 1, 'fuese': 1, 'lanzado': 1, 'creó': 1, 'con': 1, 'eben': 1, 'upton': 1, 'ceo': 1, 'para': 1, 'tercer': 1, 'responsable': 1, 'tecnología': 1, 'mientras': 1, 'una': 1, 'sin': 1, 'fines': 1, 'lucro': 1, 'educativa': 1, 'tiene': 1, 'objetivo': 1, 'promocionar': 1, 'enseñanza': 1, 'informática': 1, 'escuelas': 1, 'y': 1, 'países': 1, 'desarrollo': 1})\n",
      "Counter({'de': 11, 'que': 6, 'el': 5, 'a': 5, 'del': 5, 'las': 4, 'la': 4, '4': 3, 'en': 3, 'anunció': 2, 'mb': 2, 'seis': 2, 'después': 2, 'proyecto': 2, 'primer': 2, 'raspberry': 2, 'pi': 2, 'premier': 2, 'farnell': 2, 'rs': 2, 'components': 2, 'lanzamiento': 2, 'los': 2, '000': 2, 'primeras': 1, 'ventas': 1, 'comenzaron': 1, '29': 1, 'febrero': 1, '2012': 1, '06': 1, '00': 1, 'utc': 1, '39': 1, 'al': 1, 'mismo': 1, 'tiempo': 1, 'se': 1, 'modelo': 1, 'originalmente': 1, 'iba': 1, 'tener': 1, '128': 1, 'ram': 1, 'tendría': 1, '256': 1, '40': 1, 'página': 1, 'fundación': 1, 'también': 1, 'años': 1, 'origen': 1, 'estamos': 1, 'cerca': 1, 'finalizar': 1, 'arranque': 1, 'aunque': 1, 'esto': 1, 'es': 1, 'solo': 1, 'principio': 1, 'historia': 1, 'por': 1, 'otro': 1, 'lado': 1, 'dos': 1, 'tiendas': 1, 'vendían': 1, 'placas': 1, 'y': 1, 'tuvieron': 1, 'una': 1, 'gran': 1, 'carga': 1, 'sus': 1, 'servidores': 1, 'inmediatamente': 1, 'cuenta': 1, 'oficial': 1, 'twitter': 1, 'informó': 1, 'vendió': 1, 'toda': 1, 'su': 1, 'existencia': 1, 'inventario': 1, 'pocos': 1, 'minutos': 1, 'momento': 1, 'mientras': 1, 'tuvo': 1, '100': 1, 'peticiones': 1, 'interés': 1, 'día': 1, 'meses': 1, 'siguientes': 1, 'llegarían': 1, 'vender': 1, '500': 1, 'unidades': 1})\n"
     ]
    }
   ],
   "source": [
    "print(bow1)\n",
    "print(bow2)\n",
    "print(bow3)"
   ]
  },
  {
   "cell_type": "code",
   "execution_count": 47,
   "metadata": {},
   "outputs": [
    {
     "name": "stdout",
     "output_type": "stream",
     "text": [
      "0.9009009009009009 0.8881578947368421 0.8768115942028986\n"
     ]
    }
   ],
   "source": [
    "print(d12,d13,d23)"
   ]
  }
 ],
 "metadata": {
  "kernelspec": {
   "display_name": "deep-learning",
   "language": "python",
   "name": "python3"
  },
  "language_info": {
   "codemirror_mode": {
    "name": "ipython",
    "version": 3
   },
   "file_extension": ".py",
   "mimetype": "text/x-python",
   "name": "python",
   "nbconvert_exporter": "python",
   "pygments_lexer": "ipython3",
   "version": "3.11.8"
  }
 },
 "nbformat": 4,
 "nbformat_minor": 2
}
