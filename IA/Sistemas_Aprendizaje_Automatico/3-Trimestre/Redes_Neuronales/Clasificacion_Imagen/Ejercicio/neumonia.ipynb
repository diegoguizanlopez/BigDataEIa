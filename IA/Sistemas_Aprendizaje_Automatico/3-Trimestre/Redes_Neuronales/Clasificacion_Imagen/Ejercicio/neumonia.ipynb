{
 "cells": [
  {
   "cell_type": "code",
   "execution_count": 55,
   "metadata": {},
   "outputs": [],
   "source": [
    "import pathlib\n",
    "\n",
    "path=str(pathlib.Path().resolve())+\"/assets/\""
   ]
  },
  {
   "cell_type": "code",
   "execution_count": 59,
   "metadata": {},
   "outputs": [],
   "source": [
    "import os\n",
    "import numpy as np\n",
    "import cv2 as cv\n",
    "import random\n",
    "\n",
    "def get_data(path):\n",
    "    images = []  # Lista para las imágenes\n",
    "    labels = []  # Lista para las etiquetas\n",
    "    dirs = os.listdir(path)\n",
    "    \n",
    "    for i in os.listdir(path + \"/\" + dirs[0]):\n",
    "        images.append(cv.imread(path + \"/\" + dirs[0] + \"/\" + i))\n",
    "        labels.append(0)\n",
    "    print(path + \"/\" + dirs[0])\n",
    "    \n",
    "    for i in os.listdir(path + \"/\" + dirs[1]):\n",
    "        images.append(cv.imread(path + \"/\" + dirs[1] + \"/\" + i))\n",
    "        labels.append(1)\n",
    "    \n",
    "    # Barajar las imágenes y las etiquetas de manera sincronizada\n",
    "    combined = list(zip(images, labels))\n",
    "    random.shuffle(combined)\n",
    "    images, labels = zip(*combined)\n",
    "    \n",
    "    print(path + \"/\" + dirs[1])\n",
    "    \n",
    "    # Convertir las listas en arrays NumPy\n",
    "    images_array = np.array(images)\n",
    "    labels_array = np.array(labels)\n",
    "    \n",
    "    return images_array, labels_array\n"
   ]
  },
  {
   "cell_type": "code",
   "execution_count": 60,
   "metadata": {},
   "outputs": [
    {
     "name": "stdout",
     "output_type": "stream",
     "text": [
      "C:\\Users\\diego.guizanlopez\\Documents\\BigDataEIa\\IA\\Sistemas_Aprendizaje_Automatico\\3-Trimestre\\Redes_Neuronales\\Clasificacion_Imagen\\Ejercicio/assets/val/NORMAL\n",
      "C:\\Users\\diego.guizanlopez\\Documents\\BigDataEIa\\IA\\Sistemas_Aprendizaje_Automatico\\3-Trimestre\\Redes_Neuronales\\Clasificacion_Imagen\\Ejercicio/assets/val/PNEUMONIA\n",
      "C:\\Users\\diego.guizanlopez\\Documents\\BigDataEIa\\IA\\Sistemas_Aprendizaje_Automatico\\3-Trimestre\\Redes_Neuronales\\Clasificacion_Imagen\\Ejercicio/assets/test/NORMAL\n",
      "C:\\Users\\diego.guizanlopez\\Documents\\BigDataEIa\\IA\\Sistemas_Aprendizaje_Automatico\\3-Trimestre\\Redes_Neuronales\\Clasificacion_Imagen\\Ejercicio/assets/test/PNEUMONIA\n",
      "C:\\Users\\diego.guizanlopez\\Documents\\BigDataEIa\\IA\\Sistemas_Aprendizaje_Automatico\\3-Trimestre\\Redes_Neuronales\\Clasificacion_Imagen\\Ejercicio/assets/train/NORMAL\n",
      "C:\\Users\\diego.guizanlopez\\Documents\\BigDataEIa\\IA\\Sistemas_Aprendizaje_Automatico\\3-Trimestre\\Redes_Neuronales\\Clasificacion_Imagen\\Ejercicio/assets/train/PNEUMONIA\n"
     ]
    },
    {
     "ename": "ValueError",
     "evalue": "setting an array element with a sequence. The requested array has an inhomogeneous shape after 1 dimensions. The detected shape was (5216,) + inhomogeneous part.",
     "output_type": "error",
     "traceback": [
      "\u001b[1;31m---------------------------------------------------------------------------\u001b[0m",
      "\u001b[1;31mValueError\u001b[0m                                Traceback (most recent call last)",
      "Cell \u001b[1;32mIn[60], line 8\u001b[0m\n\u001b[0;32m      5\u001b[0m f2 \u001b[38;5;241m=\u001b[39m executor\u001b[38;5;241m.\u001b[39msubmit(get_data, path\u001b[38;5;241m+\u001b[39m\u001b[38;5;124m\"\u001b[39m\u001b[38;5;124mtest\u001b[39m\u001b[38;5;124m\"\u001b[39m)\n\u001b[0;32m      6\u001b[0m f3 \u001b[38;5;241m=\u001b[39m executor\u001b[38;5;241m.\u001b[39msubmit(get_data, path\u001b[38;5;241m+\u001b[39m\u001b[38;5;124m\"\u001b[39m\u001b[38;5;124mval\u001b[39m\u001b[38;5;124m\"\u001b[39m)\n\u001b[1;32m----> 8\u001b[0m X_train,y_train \u001b[38;5;241m=\u001b[39m \u001b[43mf1\u001b[49m\u001b[38;5;241;43m.\u001b[39;49m\u001b[43mresult\u001b[49m\u001b[43m(\u001b[49m\u001b[43m)\u001b[49m\n\u001b[0;32m      9\u001b[0m X_test,y_test \u001b[38;5;241m=\u001b[39m f2\u001b[38;5;241m.\u001b[39mresult()\n\u001b[0;32m     10\u001b[0m X_val,y_val \u001b[38;5;241m=\u001b[39m f3\u001b[38;5;241m.\u001b[39mresult()\n",
      "File \u001b[1;32mc:\\Users\\diego.guizanlopez\\AppData\\Local\\miniconda3\\envs\\ia\\lib\\concurrent\\futures\\_base.py:444\u001b[0m, in \u001b[0;36mFuture.result\u001b[1;34m(self, timeout)\u001b[0m\n\u001b[0;32m    442\u001b[0m     \u001b[38;5;28;01mraise\u001b[39;00m CancelledError()\n\u001b[0;32m    443\u001b[0m \u001b[38;5;28;01melif\u001b[39;00m \u001b[38;5;28mself\u001b[39m\u001b[38;5;241m.\u001b[39m_state \u001b[38;5;241m==\u001b[39m FINISHED:\n\u001b[1;32m--> 444\u001b[0m     \u001b[38;5;28;01mreturn\u001b[39;00m \u001b[38;5;28;43mself\u001b[39;49m\u001b[38;5;241;43m.\u001b[39;49m\u001b[43m__get_result\u001b[49m\u001b[43m(\u001b[49m\u001b[43m)\u001b[49m\n\u001b[0;32m    445\u001b[0m \u001b[38;5;28;01melse\u001b[39;00m:\n\u001b[0;32m    446\u001b[0m     \u001b[38;5;28;01mraise\u001b[39;00m \u001b[38;5;167;01mTimeoutError\u001b[39;00m()\n",
      "File \u001b[1;32mc:\\Users\\diego.guizanlopez\\AppData\\Local\\miniconda3\\envs\\ia\\lib\\concurrent\\futures\\_base.py:389\u001b[0m, in \u001b[0;36mFuture.__get_result\u001b[1;34m(self)\u001b[0m\n\u001b[0;32m    387\u001b[0m \u001b[38;5;28;01mif\u001b[39;00m \u001b[38;5;28mself\u001b[39m\u001b[38;5;241m.\u001b[39m_exception:\n\u001b[0;32m    388\u001b[0m     \u001b[38;5;28;01mtry\u001b[39;00m:\n\u001b[1;32m--> 389\u001b[0m         \u001b[38;5;28;01mraise\u001b[39;00m \u001b[38;5;28mself\u001b[39m\u001b[38;5;241m.\u001b[39m_exception\n\u001b[0;32m    390\u001b[0m     \u001b[38;5;28;01mfinally\u001b[39;00m:\n\u001b[0;32m    391\u001b[0m         \u001b[38;5;66;03m# Break a reference cycle with the exception in self._exception\u001b[39;00m\n\u001b[0;32m    392\u001b[0m         \u001b[38;5;28mself\u001b[39m \u001b[38;5;241m=\u001b[39m \u001b[38;5;28;01mNone\u001b[39;00m\n",
      "File \u001b[1;32mc:\\Users\\diego.guizanlopez\\AppData\\Local\\miniconda3\\envs\\ia\\lib\\concurrent\\futures\\thread.py:57\u001b[0m, in \u001b[0;36m_WorkItem.run\u001b[1;34m(self)\u001b[0m\n\u001b[0;32m     54\u001b[0m     \u001b[38;5;28;01mreturn\u001b[39;00m\n\u001b[0;32m     56\u001b[0m \u001b[38;5;28;01mtry\u001b[39;00m:\n\u001b[1;32m---> 57\u001b[0m     result \u001b[38;5;241m=\u001b[39m \u001b[38;5;28;43mself\u001b[39;49m\u001b[38;5;241;43m.\u001b[39;49m\u001b[43mfn\u001b[49m\u001b[43m(\u001b[49m\u001b[38;5;241;43m*\u001b[39;49m\u001b[38;5;28;43mself\u001b[39;49m\u001b[38;5;241;43m.\u001b[39;49m\u001b[43margs\u001b[49m\u001b[43m,\u001b[49m\u001b[43m \u001b[49m\u001b[38;5;241;43m*\u001b[39;49m\u001b[38;5;241;43m*\u001b[39;49m\u001b[38;5;28;43mself\u001b[39;49m\u001b[38;5;241;43m.\u001b[39;49m\u001b[43mkwargs\u001b[49m\u001b[43m)\u001b[49m\n\u001b[0;32m     58\u001b[0m \u001b[38;5;28;01mexcept\u001b[39;00m \u001b[38;5;167;01mBaseException\u001b[39;00m \u001b[38;5;28;01mas\u001b[39;00m exc:\n\u001b[0;32m     59\u001b[0m     \u001b[38;5;28mself\u001b[39m\u001b[38;5;241m.\u001b[39mfuture\u001b[38;5;241m.\u001b[39mset_exception(exc)\n",
      "Cell \u001b[1;32mIn[59], line 28\u001b[0m, in \u001b[0;36mget_data\u001b[1;34m(path)\u001b[0m\n\u001b[0;32m     25\u001b[0m \u001b[38;5;28mprint\u001b[39m(path \u001b[38;5;241m+\u001b[39m \u001b[38;5;124m\"\u001b[39m\u001b[38;5;124m/\u001b[39m\u001b[38;5;124m\"\u001b[39m \u001b[38;5;241m+\u001b[39m dirs[\u001b[38;5;241m1\u001b[39m])\n\u001b[0;32m     27\u001b[0m \u001b[38;5;66;03m# Convertir las listas en arrays NumPy\u001b[39;00m\n\u001b[1;32m---> 28\u001b[0m images_array \u001b[38;5;241m=\u001b[39m \u001b[43mnp\u001b[49m\u001b[38;5;241;43m.\u001b[39;49m\u001b[43marray\u001b[49m\u001b[43m(\u001b[49m\u001b[43mimages\u001b[49m\u001b[43m)\u001b[49m\n\u001b[0;32m     29\u001b[0m labels_array \u001b[38;5;241m=\u001b[39m np\u001b[38;5;241m.\u001b[39marray(labels)\n\u001b[0;32m     31\u001b[0m \u001b[38;5;28;01mreturn\u001b[39;00m images_array, labels_array\n",
      "\u001b[1;31mValueError\u001b[0m: setting an array element with a sequence. The requested array has an inhomogeneous shape after 1 dimensions. The detected shape was (5216,) + inhomogeneous part."
     ]
    }
   ],
   "source": [
    "from concurrent.futures import ThreadPoolExecutor\n",
    "\n",
    "with ThreadPoolExecutor() as executor:\n",
    "    f1 = executor.submit(get_data, path+\"train\")\n",
    "    f2 = executor.submit(get_data, path+\"test\")\n",
    "    f3 = executor.submit(get_data, path+\"val\")\n",
    "\n",
    "    X_train,y_train = f1.result()\n",
    "    X_test,y_test = f2.result()\n",
    "    X_val,y_val = f3.result()\n"
   ]
  },
  {
   "cell_type": "code",
   "execution_count": null,
   "metadata": {},
   "outputs": [],
   "source": [
    "from matplotlib import pyplot as plt\n",
    "\n",
    "\n",
    "class_names = [0,1]\n",
    "\n",
    "n_rows = 4\n",
    "n_cols = 10\n",
    "plt.figure(figsize=(n_cols * 1.2, n_rows * 1.2))\n",
    "for row in range(n_rows):\n",
    "    for col in range(n_cols):\n",
    "        index = n_cols * row + col\n",
    "        plt.subplot(n_rows, n_cols, index + 1)\n",
    "        plt.imshow(y_train[index], cmap=\"binary\", interpolation=\"nearest\")\n",
    "        plt.axis('off')\n",
    "        plt.title(class_names[y_train[index]], fontsize=12)\n",
    "plt.subplots_adjust(wspace=0.2, hspace=0.5)\n",
    "plt.show()"
   ]
  },
  {
   "cell_type": "code",
   "execution_count": null,
   "metadata": {},
   "outputs": [],
   "source": [
    "y_train"
   ]
  },
  {
   "cell_type": "code",
   "execution_count": null,
   "metadata": {},
   "outputs": [],
   "source": []
  }
 ],
 "metadata": {
  "kernelspec": {
   "display_name": "ia",
   "language": "python",
   "name": "python3"
  },
  "language_info": {
   "codemirror_mode": {
    "name": "ipython",
    "version": 3
   },
   "file_extension": ".py",
   "mimetype": "text/x-python",
   "name": "python",
   "nbconvert_exporter": "python",
   "pygments_lexer": "ipython3",
   "version": "3.8.18"
  }
 },
 "nbformat": 4,
 "nbformat_minor": 2
}
