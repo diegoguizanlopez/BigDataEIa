{
 "cells": [
  {
   "cell_type": "code",
   "execution_count": 90,
   "metadata": {},
   "outputs": [],
   "source": [
    "import pathlib\n",
    "import pandas as pd\n",
    "import matplotlib.pyplot as plt\n",
    "\n",
    "from tensorflow.keras.layers import Input, Dense, SimpleRNN\n",
    "from tensorflow.keras.models import Model\n",
    "from tensorflow.keras.optimizers import SGD\n",
    "from tensorflow.keras.utils import to_categorical\n",
    "import tensorflow as tf\n",
    "from tensorflow import keras\n",
    "import numpy as np"
   ]
  },
  {
   "cell_type": "code",
   "execution_count": 91,
   "metadata": {},
   "outputs": [],
   "source": [
    "\n",
    "path=str(pathlib.Path().resolve())+\"/\""
   ]
  },
  {
   "cell_type": "code",
   "execution_count": 92,
   "metadata": {},
   "outputs": [
    {
     "data": {
      "text/html": [
       "<div>\n",
       "<style scoped>\n",
       "    .dataframe tbody tr th:only-of-type {\n",
       "        vertical-align: middle;\n",
       "    }\n",
       "\n",
       "    .dataframe tbody tr th {\n",
       "        vertical-align: top;\n",
       "    }\n",
       "\n",
       "    .dataframe thead th {\n",
       "        text-align: right;\n",
       "    }\n",
       "</style>\n",
       "<table border=\"1\" class=\"dataframe\">\n",
       "  <thead>\n",
       "    <tr style=\"text-align: right;\">\n",
       "      <th></th>\n",
       "      <th>Fecha</th>\n",
       "      <th>Cerrar/último</th>\n",
       "      <th>Volumen</th>\n",
       "      <th>Abrir</th>\n",
       "      <th>Alto</th>\n",
       "      <th>Bajo</th>\n",
       "    </tr>\n",
       "  </thead>\n",
       "  <tbody>\n",
       "    <tr>\n",
       "      <th>0</th>\n",
       "      <td>03/04/2024</td>\n",
       "      <td>40,33</td>\n",
       "      <td>83717980</td>\n",
       "      <td>41,40</td>\n",
       "      <td>41,65</td>\n",
       "      <td>40,22</td>\n",
       "    </tr>\n",
       "    <tr>\n",
       "      <th>1</th>\n",
       "      <td>02/04/2024</td>\n",
       "      <td>43,94</td>\n",
       "      <td>32748360</td>\n",
       "      <td>43,925</td>\n",
       "      <td>44,08</td>\n",
       "      <td>43,50</td>\n",
       "    </tr>\n",
       "    <tr>\n",
       "      <th>2</th>\n",
       "      <td>01/04/2024</td>\n",
       "      <td>44,52</td>\n",
       "      <td>31712590</td>\n",
       "      <td>44,29</td>\n",
       "      <td>45,41</td>\n",
       "      <td>44,18</td>\n",
       "    </tr>\n",
       "    <tr>\n",
       "      <th>3</th>\n",
       "      <td>28/03/2024</td>\n",
       "      <td>44,17</td>\n",
       "      <td>54204190</td>\n",
       "      <td>43,76</td>\n",
       "      <td>44,60</td>\n",
       "      <td>43,71</td>\n",
       "    </tr>\n",
       "    <tr>\n",
       "      <th>4</th>\n",
       "      <td>27/03/2024</td>\n",
       "      <td>43,77</td>\n",
       "      <td>51017830</td>\n",
       "      <td>42,54</td>\n",
       "      <td>43,83</td>\n",
       "      <td>42,50</td>\n",
       "    </tr>\n",
       "    <tr>\n",
       "      <th>...</th>\n",
       "      <td>...</td>\n",
       "      <td>...</td>\n",
       "      <td>...</td>\n",
       "      <td>...</td>\n",
       "      <td>...</td>\n",
       "      <td>...</td>\n",
       "    </tr>\n",
       "    <tr>\n",
       "      <th>2511</th>\n",
       "      <td>10/04/2014</td>\n",
       "      <td>26,425</td>\n",
       "      <td>40390460</td>\n",
       "      <td>27,01</td>\n",
       "      <td>27,09</td>\n",
       "      <td>26,36</td>\n",
       "    </tr>\n",
       "    <tr>\n",
       "      <th>2512</th>\n",
       "      <td>09/04/2014</td>\n",
       "      <td>26,98</td>\n",
       "      <td>34467000</td>\n",
       "      <td>26,93</td>\n",
       "      <td>27,02</td>\n",
       "      <td>26,73</td>\n",
       "    </tr>\n",
       "    <tr>\n",
       "      <th>2513</th>\n",
       "      <td>08/04/2014</td>\n",
       "      <td>26,91</td>\n",
       "      <td>56564370</td>\n",
       "      <td>26,36</td>\n",
       "      <td>26,98</td>\n",
       "      <td>26,35</td>\n",
       "    </tr>\n",
       "    <tr>\n",
       "      <th>2514</th>\n",
       "      <td>07/04/2014</td>\n",
       "      <td>26,485</td>\n",
       "      <td>49693490</td>\n",
       "      <td>26,30</td>\n",
       "      <td>26,74</td>\n",
       "      <td>26,20</td>\n",
       "    </tr>\n",
       "    <tr>\n",
       "      <th>2515</th>\n",
       "      <td>04/04/2014</td>\n",
       "      <td>26,16</td>\n",
       "      <td>47829470</td>\n",
       "      <td>26,49</td>\n",
       "      <td>26,73</td>\n",
       "      <td>26,105</td>\n",
       "    </tr>\n",
       "  </tbody>\n",
       "</table>\n",
       "<p>2516 rows × 6 columns</p>\n",
       "</div>"
      ],
      "text/plain": [
       "           Fecha Cerrar/último   Volumen   Abrir   Alto    Bajo\n",
       "0     03/04/2024         40,33  83717980   41,40  41,65   40,22\n",
       "1     02/04/2024         43,94  32748360  43,925  44,08   43,50\n",
       "2     01/04/2024         44,52  31712590   44,29  45,41   44,18\n",
       "3     28/03/2024         44,17  54204190   43,76  44,60   43,71\n",
       "4     27/03/2024         43,77  51017830   42,54  43,83   42,50\n",
       "...          ...           ...       ...     ...    ...     ...\n",
       "2511  10/04/2014        26,425  40390460   27,01  27,09   26,36\n",
       "2512  09/04/2014         26,98  34467000   26,93  27,02   26,73\n",
       "2513  08/04/2014         26,91  56564370   26,36  26,98   26,35\n",
       "2514  07/04/2014        26,485  49693490   26,30  26,74   26,20\n",
       "2515  04/04/2014         26,16  47829470   26,49  26,73  26,105\n",
       "\n",
       "[2516 rows x 6 columns]"
      ]
     },
     "execution_count": 92,
     "metadata": {},
     "output_type": "execute_result"
    }
   ],
   "source": [
    "df=pd.read_csv(path+\"Intel_Market.csv\")\n",
    "df"
   ]
  },
  {
   "cell_type": "markdown",
   "metadata": {},
   "source": [
    "# Tratamiento"
   ]
  },
  {
   "cell_type": "markdown",
   "metadata": {},
   "source": [
    "Convertimos el campo fecha en fecha y lo seleccionamos como Index para hacerle un rolling, lo cambiamos a formato float el precio de cierre y le hacemos un Rolling de 7 días"
   ]
  },
  {
   "cell_type": "code",
   "execution_count": 93,
   "metadata": {},
   "outputs": [],
   "source": [
    "df['Fecha'] = pd.to_datetime(df['Fecha'], format='%d/%m/%Y').dt.date\n",
    "df = df.set_index(\"Fecha\")\n",
    "df['Cerrar/último'] = df['Cerrar/último'].str.replace(\",\",\".\").astype(np.float32)\n",
    "df = df[['Cerrar/último']].rolling(7).mean().dropna()\n",
    "df=df[['Cerrar/último']]"
   ]
  },
  {
   "cell_type": "markdown",
   "metadata": {},
   "source": [
    "Le hacemos un MinMaxScaler de los datos en un rango de 0-1"
   ]
  },
  {
   "cell_type": "code",
   "execution_count": 94,
   "metadata": {},
   "outputs": [],
   "source": [
    "from sklearn.preprocessing import MinMaxScaler\n",
    "\n",
    "scaler = MinMaxScaler(feature_range=(0,1))\n",
    "df_transformed = scaler.fit_transform(df)"
   ]
  },
  {
   "cell_type": "markdown",
   "metadata": {},
   "source": [
    "Recogemos los datos de Y y de X \n",
    "- Y : Valor de mercado\n",
    "- X : Fecha"
   ]
  },
  {
   "cell_type": "code",
   "execution_count": 95,
   "metadata": {},
   "outputs": [],
   "source": [
    "X = df_transformed[:-1]\n",
    "y = df_transformed[1:]"
   ]
  },
  {
   "cell_type": "code",
   "execution_count": 96,
   "metadata": {},
   "outputs": [
    {
     "data": {
      "text/plain": [
       "array([[0.42192749],\n",
       "       [0.4296045 ],\n",
       "       [0.42439509],\n",
       "       ...,\n",
       "       [0.03236994],\n",
       "       [0.03192439],\n",
       "       [0.03039927]])"
      ]
     },
     "execution_count": 96,
     "metadata": {},
     "output_type": "execute_result"
    }
   ],
   "source": [
    "X"
   ]
  },
  {
   "cell_type": "code",
   "execution_count": 97,
   "metadata": {},
   "outputs": [],
   "source": [
    "#from sklearn.preprocessing import LabelEncoder\n",
    "\n",
    "#l = LabelEncoder()\n",
    "#X = l.fit_transform(X)"
   ]
  },
  {
   "cell_type": "markdown",
   "metadata": {},
   "source": [
    "# División de datos"
   ]
  },
  {
   "cell_type": "markdown",
   "metadata": {},
   "source": [
    "Dividimos los datos donde:\n",
    "- Test: Será el 20% del Total del DataSet\n",
    "- Val: Será el 20% del DataSet restante (16% del Total)\n",
    "- Train: Será el resto del DataSet un total de 64% del DataSet"
   ]
  },
  {
   "cell_type": "code",
   "execution_count": 98,
   "metadata": {},
   "outputs": [
    {
     "data": {
      "text/plain": [
       "Index([2018-03-28, 2018-03-27, 2018-03-26, 2018-03-23, 2018-03-22, 2018-03-21,\n",
       "       2018-03-20, 2018-03-19, 2018-03-16, 2018-03-15, 2018-03-14, 2018-03-13,\n",
       "       2018-03-12, 2018-03-09, 2018-03-08, 2018-03-07, 2018-03-06, 2018-03-05,\n",
       "       2018-03-02, 2018-03-01, 2018-02-28, 2018-02-27, 2018-02-26, 2018-02-23,\n",
       "       2018-02-22, 2018-02-21, 2018-02-20, 2018-02-16, 2018-02-15, 2018-02-14,\n",
       "       2018-02-13, 2018-02-12, 2018-02-09, 2018-02-08, 2018-02-07, 2018-02-06,\n",
       "       2018-02-05, 2018-02-02, 2018-02-01, 2018-01-31, 2018-01-30, 2018-01-29,\n",
       "       2018-01-26, 2018-01-25, 2018-01-24, 2018-01-23, 2018-01-22, 2018-01-19,\n",
       "       2018-01-18, 2018-01-17],\n",
       "      dtype='object', name='Fecha')"
      ]
     },
     "execution_count": 98,
     "metadata": {},
     "output_type": "execute_result"
    }
   ],
   "source": [
    "df.index[len(X_train):][:50]"
   ]
  },
  {
   "cell_type": "code",
   "execution_count": 99,
   "metadata": {},
   "outputs": [],
   "source": [
    "from sklearn.model_selection import train_test_split\n",
    "\n",
    "value = int(len(X)*0.2)\n",
    "X_train_full, y_train_full, X_test, y_test = X[value:],y[value:],X[:value],y[:value]\n",
    "\n",
    "value = int(len(X_train_full)*0.2)\n",
    "X_train, y_train, X_val, y_val = X_train_full[value:],y_train_full[value:],X_train_full[:value],y_train_full[:value]"
   ]
  },
  {
   "cell_type": "code",
   "execution_count": 100,
   "metadata": {},
   "outputs": [],
   "source": [
    "import numpy as np\n",
    "\n",
    "\n",
    "#X_train = np.reshape(X_train, (X_train.shape[0], 1))\n",
    "#X_test = np.reshape(X_test, (X_test.shape[0], 1))"
   ]
  },
  {
   "cell_type": "markdown",
   "metadata": {},
   "source": [
    "# Red de predicción con 3 Neuronas"
   ]
  },
  {
   "cell_type": "markdown",
   "metadata": {},
   "source": [
    "Definimos una Red Neuronal con la siguiente arquitectura:\n",
    "- LSTM (X_neuronas, return_sequences=True, input_shape=[None,1])\n",
    "- SimpleRNN (X_neuronas, return_sequences=False)\n",
    "- Dense (1)"
   ]
  },
  {
   "cell_type": "code",
   "execution_count": 101,
   "metadata": {},
   "outputs": [],
   "source": [
    "\"\"\"OJO CON EL RETURN_SEQUENCES\"\"\"\n",
    "import sys\n",
    "\n",
    "\n",
    "def modelo_red_recurrente_3(x_train, y_train,n_neuronas,x_val,y_val):\n",
    "    early_stopping_cb = keras.callbacks.EarlyStopping(patience=5,restore_best_weights=True)\n",
    "    # return_sequences significa que solo de salida por Vector no por secuencia, lo que hará que vayan todas de vez\n",
    "    model = keras.models.Sequential([\n",
    "        keras.layers.LSTM(n_neuronas, return_sequences=True, input_shape=[None, 1]),\n",
    "        keras.layers.SimpleRNN(n_neuronas, return_sequences=False),\n",
    "        keras.layers.Dense(1)\n",
    "    ])\n",
    "    model.compile(loss=\"mse\", optimizer=\"adam\")\n",
    "    model.fit(x_train, y_train, epochs=sys.maxsize,validation_data=[x_val,y_val],callbacks=[early_stopping_cb])\n",
    "    return model"
   ]
  },
  {
   "cell_type": "markdown",
   "metadata": {},
   "source": [
    "Le decimos que use 40 neuronas y compruebe el Mean_squared_error para ver el resultado que ronda sobre 0.00X"
   ]
  },
  {
   "cell_type": "code",
   "execution_count": 102,
   "metadata": {},
   "outputs": [
    {
     "name": "stdout",
     "output_type": "stream",
     "text": [
      "Epoch 1/9223372036854775807\n"
     ]
    },
    {
     "name": "stdout",
     "output_type": "stream",
     "text": [
      "51/51 [==============================] - 3s 14ms/step - loss: 0.0582 - val_loss: 0.0179\n",
      "Epoch 2/9223372036854775807\n",
      "51/51 [==============================] - 0s 3ms/step - loss: 0.0106 - val_loss: 0.0027\n",
      "Epoch 3/9223372036854775807\n",
      "51/51 [==============================] - 0s 3ms/step - loss: 5.4185e-04 - val_loss: 1.4545e-04\n",
      "Epoch 4/9223372036854775807\n",
      "51/51 [==============================] - 0s 3ms/step - loss: 7.1967e-05 - val_loss: 1.1650e-04\n",
      "Epoch 5/9223372036854775807\n",
      "51/51 [==============================] - 0s 3ms/step - loss: 7.0184e-05 - val_loss: 1.1477e-04\n",
      "Epoch 6/9223372036854775807\n",
      "51/51 [==============================] - 0s 3ms/step - loss: 6.9998e-05 - val_loss: 1.1426e-04\n",
      "Epoch 7/9223372036854775807\n",
      "51/51 [==============================] - 0s 3ms/step - loss: 7.1392e-05 - val_loss: 1.1535e-04\n",
      "Epoch 8/9223372036854775807\n",
      "51/51 [==============================] - 0s 3ms/step - loss: 6.8308e-05 - val_loss: 1.1206e-04\n",
      "Epoch 9/9223372036854775807\n",
      "51/51 [==============================] - 0s 3ms/step - loss: 6.7404e-05 - val_loss: 1.1097e-04\n",
      "Epoch 10/9223372036854775807\n",
      "51/51 [==============================] - 0s 3ms/step - loss: 6.7048e-05 - val_loss: 1.1692e-04\n",
      "Epoch 11/9223372036854775807\n",
      "51/51 [==============================] - 0s 3ms/step - loss: 6.8139e-05 - val_loss: 1.1057e-04\n",
      "Epoch 12/9223372036854775807\n",
      "51/51 [==============================] - 0s 3ms/step - loss: 6.5583e-05 - val_loss: 1.1012e-04\n",
      "Epoch 13/9223372036854775807\n",
      "51/51 [==============================] - 0s 3ms/step - loss: 6.6447e-05 - val_loss: 1.0556e-04\n",
      "Epoch 14/9223372036854775807\n",
      "51/51 [==============================] - 0s 3ms/step - loss: 6.7869e-05 - val_loss: 1.0425e-04\n",
      "Epoch 15/9223372036854775807\n",
      "51/51 [==============================] - 0s 3ms/step - loss: 6.6549e-05 - val_loss: 1.1274e-04\n",
      "Epoch 16/9223372036854775807\n",
      "51/51 [==============================] - 0s 3ms/step - loss: 6.3289e-05 - val_loss: 1.0801e-04\n",
      "Epoch 17/9223372036854775807\n",
      "51/51 [==============================] - 0s 3ms/step - loss: 6.4133e-05 - val_loss: 1.0408e-04\n",
      "Epoch 18/9223372036854775807\n",
      "51/51 [==============================] - 0s 3ms/step - loss: 6.2056e-05 - val_loss: 1.0579e-04\n",
      "Epoch 19/9223372036854775807\n",
      "51/51 [==============================] - 0s 3ms/step - loss: 6.2006e-05 - val_loss: 1.0241e-04\n",
      "Epoch 20/9223372036854775807\n",
      "51/51 [==============================] - 0s 3ms/step - loss: 6.2238e-05 - val_loss: 9.9154e-05\n",
      "Epoch 21/9223372036854775807\n",
      "51/51 [==============================] - 0s 3ms/step - loss: 6.2241e-05 - val_loss: 1.0884e-04\n",
      "Epoch 22/9223372036854775807\n",
      "51/51 [==============================] - 0s 3ms/step - loss: 6.0439e-05 - val_loss: 1.0025e-04\n",
      "Epoch 23/9223372036854775807\n",
      "51/51 [==============================] - 0s 3ms/step - loss: 6.3023e-05 - val_loss: 1.0107e-04\n",
      "Epoch 24/9223372036854775807\n",
      "51/51 [==============================] - 0s 3ms/step - loss: 5.8843e-05 - val_loss: 1.1497e-04\n",
      "Epoch 25/9223372036854775807\n",
      "51/51 [==============================] - 0s 3ms/step - loss: 5.9559e-05 - val_loss: 9.8045e-05\n",
      "Epoch 26/9223372036854775807\n",
      "51/51 [==============================] - 0s 3ms/step - loss: 5.8448e-05 - val_loss: 1.0252e-04\n",
      "Epoch 27/9223372036854775807\n",
      "51/51 [==============================] - 0s 3ms/step - loss: 6.1504e-05 - val_loss: 1.0357e-04\n",
      "Epoch 28/9223372036854775807\n",
      "51/51 [==============================] - 0s 3ms/step - loss: 5.9748e-05 - val_loss: 9.6570e-05\n",
      "Epoch 29/9223372036854775807\n",
      "51/51 [==============================] - 0s 3ms/step - loss: 5.9806e-05 - val_loss: 9.5402e-05\n",
      "Epoch 30/9223372036854775807\n",
      "51/51 [==============================] - 0s 3ms/step - loss: 5.9747e-05 - val_loss: 9.6208e-05\n",
      "Epoch 31/9223372036854775807\n",
      "51/51 [==============================] - 0s 3ms/step - loss: 5.6852e-05 - val_loss: 9.8589e-05\n",
      "Epoch 32/9223372036854775807\n",
      "51/51 [==============================] - 0s 3ms/step - loss: 5.8804e-05 - val_loss: 9.6486e-05\n",
      "Epoch 33/9223372036854775807\n",
      "51/51 [==============================] - 0s 3ms/step - loss: 5.7513e-05 - val_loss: 9.7110e-05\n",
      "Epoch 34/9223372036854775807\n",
      "51/51 [==============================] - 0s 3ms/step - loss: 6.1899e-05 - val_loss: 1.0136e-04\n",
      "16/16 [==============================] - 0s 1ms/step\n",
      "rms modelo_red_recurrente_1 = 0.008100431357431943\n"
     ]
    }
   ],
   "source": [
    "from sklearn.metrics import mean_squared_error\n",
    "\n",
    "\n",
    "modelo = modelo_red_recurrente_3(X_train, y_train,40,X_val,y_val)\n",
    "y_pred = modelo.predict(X_test)\n",
    "\n",
    "rms = mean_squared_error(y_test, y_pred, squared=False)\n",
    "print(f\"rms modelo_red_recurrente_1 = {rms}\")"
   ]
  },
  {
   "cell_type": "markdown",
   "metadata": {},
   "source": [
    "Mostramos un gráfico de barras que va de X-train a (X_test | X_pred), para comparar la predicción con los datos reales\n",
    "\n",
    "- Creación de una constante ALL para ver la comparativa 50 datos - 50 datos de prediccion | 50 datos de test"
   ]
  },
  {
   "cell_type": "code",
   "execution_count": 136,
   "metadata": {},
   "outputs": [
    {
     "data": {
      "text/plain": [
       "Index([2022-06-07, 2022-06-06, 2022-06-03, 2022-06-02, 2022-06-01, 2022-05-31,\n",
       "       2022-05-27, 2022-05-26, 2022-05-25, 2022-05-24, 2022-05-23, 2022-05-20,\n",
       "       2022-05-19, 2022-05-18, 2022-05-17, 2022-05-16, 2022-05-13, 2022-05-12,\n",
       "       2022-05-11, 2022-05-10, 2022-05-09, 2022-05-06, 2022-05-05, 2022-05-04,\n",
       "       2022-05-03, 2022-05-02, 2022-04-29, 2022-04-28, 2022-04-27, 2022-04-26,\n",
       "       2022-04-25, 2022-04-22, 2022-04-21, 2022-04-20, 2022-04-19, 2022-04-18,\n",
       "       2022-04-14, 2022-04-13, 2022-04-12, 2022-04-11, 2022-04-08, 2022-04-07,\n",
       "       2022-04-06, 2022-04-05, 2022-04-04, 2022-04-01, 2022-03-31, 2022-03-30,\n",
       "       2022-03-29, 2022-03-28],\n",
       "      dtype='object', name='Fecha')"
      ]
     },
     "execution_count": 136,
     "metadata": {},
     "output_type": "execute_result"
    }
   ],
   "source": []
  },
  {
   "cell_type": "code",
   "execution_count": 126,
   "metadata": {},
   "outputs": [
    {
     "data": {
      "image/png": "[encoded data removed]",
      "text/plain": [
       "<Figure size 640x480 with 1 Axes>"
      ]
     },
     "metadata": {},
     "output_type": "display_data"
    }
   ],
   "source": [
    "import matplotlib.pyplot as plt\n",
    "\n",
    "ALL = False\n",
    "V_Test = len(X_test) if ALL else 50\n",
    "V_Train = len(X_train) if ALL else 50\n",
    "\n",
    "# Concatenar los índices de train y test para plotear\n",
    "index_train = df.index[-len(X_train_full):][:V_Train]  # Últimos valores de train\n",
    "index_test = df.index[:len(X_test)][-V_Test:]  # Primeros valores de test\n",
    "\n",
    "# Invertir la transformación de MinMaxScaler para obtener los valores verdaderos\n",
    "y_train_inverse = scaler.inverse_transform(y_train)\n",
    "y_test_inverse = scaler.inverse_transform(y_test)\n",
    "y_pred_inverse = scaler.inverse_transform(y_pred)\n",
    "\n",
    "# Plot de datos de entrenamiento\n",
    "plt.plot(index_train, y_train_inverse[:V_Train], label='Train Data')\n",
    "\n",
    "# Plot de datos de prueba\n",
    "plt.plot(index_test, y_test_inverse[-V_Test:], label='Test Data')\n",
    "\n",
    "# Plot de predicciones\n",
    "plt.plot(index_test, y_pred_inverse[-V_Test:], label='Predictions')\n",
    "\n",
    "plt.title('Comparación de Datos de Prueba y Predicciones (Valores Verdaderos)')\n",
    "plt.xlabel('Fecha')\n",
    "plt.ylabel('Cerrar/último')\n",
    "plt.legend()\n",
    "plt.xticks(rotation=45)\n",
    "plt.show()\n"
   ]
  },
  {
   "cell_type": "code",
   "execution_count": null,
   "metadata": {},
   "outputs": [],
   "source": [
    "def genera_train(serie,lg_secuencia,lg_y):\n",
    "    \"\"\"Genera el set de entrenamiento\n",
    "\n",
    "    Args:\n",
    "        serie (pd.Serie): Serie de datos\n",
    "        lg_secuencia (int): Longitud de la secuencia\n",
    "        lg_y (int): Longitud de los datos recogidos\n",
    "    \"\"\"\n",
    "    # Imaginemos que es de 20 entonces será 1000 - 20 - los valores que vamos recoger\n",
    "    x=[]\n",
    "    y=[]\n",
    "    ultimo = len(serie)-lg_secuencia-lg_y\n",
    "    for ix in range(ultimo):\n",
    "      x.append(serie[ix:ix+lg_secuencia])\n",
    "      y.append(serie[ix+lg_secuencia:ix+lg_secuencia+lg_y])\n",
    "    return np.array(x), np.array(y)\n",
    "\n",
    "X,y=genera_train(df_transformed,50,10)\n",
    "value = int(len(X)*0.2)\n",
    "X_train_full, y_train_full, X_test, y_test = X[value:],y[value:],X[:value],y[:value]\n",
    "X_train, y_train, X_val, y_val = X_train_full[value:],y_train_full[value:],X_train_full[:value],y_train_full[:value]"
   ]
  },
  {
   "cell_type": "code",
   "execution_count": null,
   "metadata": {},
   "outputs": [],
   "source": [
    "y_test = y_test.reshape((y_test.shape[0],y_test.shape[1]))\n",
    "y_train = y_train.reshape((y_train.shape[0],y_train.shape[1]))\n",
    "y_val = y_val.reshape((y_val.shape[0],y_val.shape[1]))"
   ]
  },
  {
   "cell_type": "code",
   "execution_count": null,
   "metadata": {},
   "outputs": [],
   "source": [
    "lg_y = 10\n",
    "early_stopping_cb = keras.callbacks.EarlyStopping(patience=5,restore_best_weights=True)\n",
    "rnn_predice_10 = keras.models.Sequential([\n",
    "    keras.layers.SimpleRNN(40, return_sequences=True, input_shape=[None, 1]),\n",
    "    keras.layers.SimpleRNN(40),\n",
    "    keras.layers.Dense(lg_y)\n",
    "    ])\n",
    "rnn_predice_10.compile(loss=\"mse\", optimizer=\"adam\")"
   ]
  },
  {
   "cell_type": "code",
   "execution_count": null,
   "metadata": {},
   "outputs": [
    {
     "name": "stdout",
     "output_type": "stream",
     "text": [
      "Epoch 1/9223372036854775807\n"
     ]
    },
    {
     "name": "stdout",
     "output_type": "stream",
     "text": [
      "46/46 [==============================] - 2s 18ms/step - loss: 0.0533 - val_loss: 0.0097\n",
      "Epoch 2/9223372036854775807\n",
      "46/46 [==============================] - 1s 11ms/step - loss: 0.0038 - val_loss: 0.0077\n",
      "Epoch 3/9223372036854775807\n",
      "46/46 [==============================] - 1s 11ms/step - loss: 0.0025 - val_loss: 0.0061\n",
      "Epoch 4/9223372036854775807\n",
      "46/46 [==============================] - 1s 11ms/step - loss: 0.0021 - val_loss: 0.0058\n",
      "Epoch 5/9223372036854775807\n",
      "46/46 [==============================] - 1s 11ms/step - loss: 0.0018 - val_loss: 0.0046\n",
      "Epoch 6/9223372036854775807\n",
      "46/46 [==============================] - 1s 12ms/step - loss: 0.0017 - val_loss: 0.0050\n",
      "Epoch 7/9223372036854775807\n",
      "46/46 [==============================] - 1s 11ms/step - loss: 0.0015 - val_loss: 0.0045\n",
      "Epoch 8/9223372036854775807\n",
      "46/46 [==============================] - 1s 11ms/step - loss: 0.0015 - val_loss: 0.0042\n",
      "Epoch 9/9223372036854775807\n",
      "46/46 [==============================] - 0s 11ms/step - loss: 0.0015 - val_loss: 0.0040\n",
      "Epoch 10/9223372036854775807\n",
      "46/46 [==============================] - 0s 10ms/step - loss: 0.0014 - val_loss: 0.0045\n",
      "Epoch 11/9223372036854775807\n",
      "46/46 [==============================] - 1s 12ms/step - loss: 0.0013 - val_loss: 0.0038\n",
      "Epoch 12/9223372036854775807\n",
      "46/46 [==============================] - 1s 11ms/step - loss: 0.0014 - val_loss: 0.0046\n",
      "Epoch 13/9223372036854775807\n",
      "46/46 [==============================] - 1s 11ms/step - loss: 0.0013 - val_loss: 0.0041\n",
      "Epoch 14/9223372036854775807\n",
      "46/46 [==============================] - 1s 11ms/step - loss: 0.0013 - val_loss: 0.0038\n",
      "Epoch 15/9223372036854775807\n",
      "46/46 [==============================] - 1s 11ms/step - loss: 0.0012 - val_loss: 0.0045\n",
      "Epoch 16/9223372036854775807\n",
      "46/46 [==============================] - 1s 11ms/step - loss: 0.0011 - val_loss: 0.0044\n",
      "Epoch 17/9223372036854775807\n",
      "46/46 [==============================] - 1s 12ms/step - loss: 0.0012 - val_loss: 0.0042\n",
      "Epoch 18/9223372036854775807\n",
      "46/46 [==============================] - 1s 12ms/step - loss: 0.0011 - val_loss: 0.0034\n",
      "Epoch 19/9223372036854775807\n",
      "46/46 [==============================] - 0s 10ms/step - loss: 0.0011 - val_loss: 0.0035\n",
      "Epoch 20/9223372036854775807\n",
      "46/46 [==============================] - 0s 11ms/step - loss: 0.0012 - val_loss: 0.0054\n",
      "Epoch 21/9223372036854775807\n",
      "46/46 [==============================] - 0s 10ms/step - loss: 0.0012 - val_loss: 0.0035\n",
      "Epoch 22/9223372036854775807\n",
      "46/46 [==============================] - 0s 11ms/step - loss: 0.0012 - val_loss: 0.0045\n",
      "Epoch 23/9223372036854775807\n",
      "46/46 [==============================] - 0s 10ms/step - loss: 0.0011 - val_loss: 0.0032\n",
      "Epoch 24/9223372036854775807\n",
      "46/46 [==============================] - 0s 11ms/step - loss: 0.0010 - val_loss: 0.0035\n",
      "Epoch 25/9223372036854775807\n",
      "46/46 [==============================] - 0s 10ms/step - loss: 0.0010 - val_loss: 0.0033\n",
      "Epoch 26/9223372036854775807\n",
      "46/46 [==============================] - 0s 11ms/step - loss: 0.0011 - val_loss: 0.0036\n",
      "Epoch 27/9223372036854775807\n",
      "46/46 [==============================] - 0s 11ms/step - loss: 0.0010 - val_loss: 0.0034\n",
      "Epoch 28/9223372036854775807\n",
      "46/46 [==============================] - 0s 11ms/step - loss: 0.0010 - val_loss: 0.0033\n"
     ]
    },
    {
     "data": {
      "text/plain": [
       "<keras.src.callbacks.History at 0x17bcf5a8890>"
      ]
     },
     "execution_count": 38,
     "metadata": {},
     "output_type": "execute_result"
    }
   ],
   "source": [
    "rnn_predice_10.fit(X_train, y_train,epochs=sys.maxsize,validation_data=[X_val,y_val],callbacks=[early_stopping_cb])"
   ]
  },
  {
   "cell_type": "code",
   "execution_count": null,
   "metadata": {},
   "outputs": [
    {
     "name": "stdout",
     "output_type": "stream",
     "text": [
      "16/16 [==============================] - 0s 3ms/step\n",
      "rms rnn_predice_10 = 0.03905146580528988\n"
     ]
    }
   ],
   "source": [
    "y_pred = rnn_predice_10.predict(X_test)\n",
    "#nsamples, nx, ny = y_pred.shape\n",
    "#y_pred = X_test.reshape((nsamples,nx*ny))\n",
    "y_test = y_test.reshape((y_test.shape[0],y_test.shape[1]))\n",
    "rms = mean_squared_error(y_test, y_pred, squared=False)\n",
    "print(f\"rms rnn_predice_10 = {rms}\")"
   ]
  }
 ],
 "metadata": {
  "kernelspec": {
   "display_name": "deep-learning",
   "language": "python",
   "name": "python3"
  },
  "language_info": {
   "codemirror_mode": {
    "name": "ipython",
    "version": 3
   },
   "file_extension": ".py",
   "mimetype": "text/x-python",
   "name": "python",
   "nbconvert_exporter": "python",
   "pygments_lexer": "ipython3",
   "version": "3.11.8"
  }
 },
 "nbformat": 4,
 "nbformat_minor": 2
}
