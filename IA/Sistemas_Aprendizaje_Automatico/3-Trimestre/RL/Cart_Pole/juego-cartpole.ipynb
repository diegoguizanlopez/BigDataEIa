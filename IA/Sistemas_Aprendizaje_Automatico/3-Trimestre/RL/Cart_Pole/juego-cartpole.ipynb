{
 "cells": [
  {
   "cell_type": "code",
   "execution_count": 29,
   "metadata": {},
   "outputs": [],
   "source": [
    "import gymnasium as gym\n",
    "import random\n",
    "import numpy as np\n",
    "import matplotlib.pyplot as plt"
   ]
  },
  {
   "cell_type": "code",
   "execution_count": 30,
   "metadata": {},
   "outputs": [
    {
     "data": {
      "text/plain": [
       "<matplotlib.image.AxesImage at 0x1e59e4d1490>"
      ]
     },
     "execution_count": 30,
     "metadata": {},
     "output_type": "execute_result"
    },
    {
     "data": {
      "image/png": "[encoded data removed]",
      "text/plain": [
       "<Figure size 640x480 with 1 Axes>"
      ]
     },
     "metadata": {},
     "output_type": "display_data"
    }
   ],
   "source": [
    "# render_mode=\"human\"\n",
    "environment = gym.make(\"CartPole-v1\",render_mode=\"rgb_array\")\n",
    "environment.reset()\n",
    "tablero = environment.render()\n",
    "plt.imshow(tablero)"
   ]
  },
  {
   "cell_type": "code",
   "execution_count": 31,
   "metadata": {},
   "outputs": [
    {
     "name": "stdout",
     "output_type": "stream",
     "text": [
      "Reward = 1.0 terminated = False truncated = False new_state = [-0.0463493  -0.2025788   0.04852023  0.26590338]\n"
     ]
    },
    {
     "data": {
      "text/plain": [
       "<matplotlib.image.AxesImage at 0x1e59a1b7070>"
      ]
     },
     "execution_count": 31,
     "metadata": {},
     "output_type": "execute_result"
    },
    {
     "data": {
      "image/png": "[encoded data removed]",
      "text/plain": [
       "<Figure size 640x480 with 1 Axes>"
      ]
     },
     "metadata": {},
     "output_type": "display_data"
    }
   ],
   "source": [
    "action = environment.action_space.sample()\n",
    "new_state, reward, terminated, truncated, info = environment.step(action)\n",
    "tablero = environment.render()\n",
    "print(f'Reward = {reward} terminated = {terminated} truncated = {truncated} new_state = {new_state}')\n",
    "plt.imshow(tablero)"
   ]
  },
  {
   "cell_type": "code",
   "execution_count": 32,
   "metadata": {},
   "outputs": [
    {
     "name": "stdout",
     "output_type": "stream",
     "text": [
      "0\n",
      "0\n",
      "1\n",
      "2\n",
      "3\n",
      "4\n",
      "5\n",
      "6\n",
      "7\n",
      "8\n",
      "9\n",
      "10\n",
      "11\n",
      "12\n",
      "13\n",
      "14\n",
      "15\n",
      "16\n",
      "17\n",
      "18\n",
      "19\n",
      "1\n",
      "0\n",
      "1\n",
      "2\n",
      "3\n",
      "4\n",
      "5\n",
      "6\n",
      "7\n",
      "8\n",
      "9\n",
      "10\n",
      "11\n",
      "12\n",
      "13\n",
      "14\n",
      "15\n",
      "16\n",
      "17\n",
      "18\n",
      "2\n",
      "0\n",
      "1\n",
      "2\n",
      "3\n",
      "4\n",
      "5\n",
      "6\n",
      "7\n",
      "8\n",
      "9\n",
      "10\n",
      "11\n",
      "12\n",
      "13\n",
      "14\n",
      "3\n",
      "0\n",
      "1\n",
      "2\n",
      "3\n",
      "4\n",
      "5\n",
      "6\n",
      "7\n",
      "8\n",
      "9\n",
      "10\n",
      "11\n",
      "12\n",
      "4\n",
      "0\n",
      "1\n",
      "2\n",
      "3\n",
      "4\n",
      "5\n",
      "6\n",
      "7\n",
      "8\n",
      "9\n",
      "10\n",
      "11\n",
      "12\n",
      "13\n",
      "14\n"
     ]
    }
   ],
   "source": [
    "# simulate the environment\n",
    "import time\n",
    "\n",
    "\n",
    "episodeNumber=5\n",
    "timeSteps=20\n",
    " \n",
    "environment = gym.make(\"CartPole-v1\",render_mode=\"human\")\n",
    " \n",
    "for episodeIndex in range(episodeNumber):\n",
    "    initial_state=environment.reset()\n",
    "    print(episodeIndex)\n",
    "    environment.render()\n",
    "    appendedObservations=[]\n",
    "    for timeIndex in range(timeSteps):\n",
    "        print(timeIndex)\n",
    "        random_action=environment.action_space.sample()\n",
    "        observation, reward, terminated, truncated, info =environment.step(random_action)\n",
    "        appendedObservations.append(observation)\n",
    "        time.sleep(0.1)\n",
    "        if (terminated):\n",
    "            time.sleep(1)\n",
    "            break\n",
    "environment.close() "
   ]
  },
  {
   "cell_type": "code",
   "execution_count": 67,
   "metadata": {},
   "outputs": [],
   "source": [
    "def get_dimension(x,y,size):\n",
    "    subinterval_limits = np.linspace(x, y, size + 1)\n",
    "    n=[]\n",
    "    for ind,x in enumerate(subinterval_limits):\n",
    "        if ind!=0:\n",
    "            n.append(x)\n",
    "        n.append(x)\n",
    "    if len(n)%2!=0:\n",
    "        n.pop(-1)\n",
    "    val=np.split(n,np.arange(2,len(n),2))\n",
    "    return subinterval_limits,val"
   ]
  },
  {
   "cell_type": "code",
   "execution_count": 72,
   "metadata": {},
   "outputs": [
    {
     "ename": "",
     "evalue": "",
     "output_type": "error",
     "traceback": [
      "\u001b[1;31mEl kernel se bloqueó al ejecutar código en la celda actual o en una celda anterior. \n",
      "\u001b[1;31mRevise el código de las celdas para identificar una posible causa del error. \n",
      "\u001b[1;31mHaga clic <a href='https://aka.ms/vscodeJupyterKernelCrash'>aquí</a> para obtener más información. \n",
      "\u001b[1;31mVea Jupyter <a href='command:jupyter.viewOutput'>log</a> para obtener más detalles."
     ]
    }
   ],
   "source": [
    "\n",
    "pos=get_dimension(-2.4,2.4,6)\n",
    "vel=get_dimension(-4,4,10)\n",
    "angl=get_dimension(-.2095,.2095,20)\n",
    "ang_vel=get_dimension(-4,4,10)"
   ]
  },
  {
   "cell_type": "code",
   "execution_count": 42,
   "metadata": {},
   "outputs": [
    {
     "ename": "NameError",
     "evalue": "name 'get_dimension' is not defined",
     "output_type": "error",
     "traceback": [
      "\u001b[1;31m---------------------------------------------------------------------------\u001b[0m",
      "\u001b[1;31mNameError\u001b[0m                                 Traceback (most recent call last)",
      "Cell \u001b[1;32mIn[42], line 3\u001b[0m\n\u001b[0;32m      1\u001b[0m \u001b[38;5;66;03m# CON MEJORA CONTINUA\u001b[39;00m\n\u001b[1;32m----> 3\u001b[0m \u001b[43mget_dimension\u001b[49m([\u001b[38;5;241m-\u001b[39m\u001b[38;5;241m2.4\u001b[39m,\u001b[38;5;241m1\u001b[39m])\n\u001b[0;32m      6\u001b[0m \u001b[38;5;66;03m# Hyperparameters\u001b[39;00m\n\u001b[0;32m      7\u001b[0m episodes \u001b[38;5;241m=\u001b[39m \u001b[38;5;241m10000\u001b[39m        \u001b[38;5;66;03m# Total number of episodes\u001b[39;00m\n",
      "\u001b[1;31mNameError\u001b[0m: name 'get_dimension' is not defined"
     ]
    }
   ],
   "source": [
    "# CON MEJORA CONTINUA\n",
    "\n",
    "\n",
    "\n",
    "# Hyperparameters\n",
    "episodes = 10000        # Total number of episodes\n",
    "alpha = 0.5            # Learning rate\n",
    "gamma = 0.9            # Discount factor\n",
    "epsilon = 1.0          # Amount of randomness in the action selection\n",
    "epsilon_decay = 0.001  # Fixed amount to decrease\n",
    "\n",
    "environment = gym.make(\"CartPole-v1\",render_mode=\"rgb_array\")\n",
    "# List of outcomes to plot\n",
    "outcomes = []\n",
    "\n",
    "print('Q-table before training:')\n",
    "#print(qtable)\n",
    "\n",
    "# Training\n",
    "listTouch=[]\n",
    "for x in range(episodes):\n",
    "    state = environment.reset()[0]\n",
    "    done = False\n",
    "\n",
    "    # By default, we consider our outcome to be a failure\n",
    "    outcomes.append(\"Failure\")\n",
    "\n",
    "    # Until the agent gets stuck in a hole or reaches the goal, keep training it\n",
    "    listTouch.append(0)\n",
    "    while not done:\n",
    "        # Generate a random number between 0 and 1\n",
    "        rnd = np.random.random()\n",
    "\n",
    "        if rnd < epsilon:\n",
    "          action = environment.action_space.sample()\n",
    "        # Else, take the action with the highest value in the current state\n",
    "        else:\n",
    "          action = np.argmax(qtable[state])\n",
    "        # Implement this action and move the agent in the desired direction\n",
    "        #new_state, reward, done, info = environment.step(action)\n",
    "        new_state, reward, terminated, truncated, info = environment.step(action)\n",
    "        done = terminated or truncated\n",
    "        # Update Q(s,a)\n",
    "        #qtable[state, action] = qtable[state, action] + \\\n",
    "        #                        alpha * (reward + gamma * np.max(qtable[new_state]) - qtable[state, action])\n",
    "\n",
    "        # Update our current state\n",
    "        state = new_state\n",
    "\n",
    "        # If we have a reward, it means that our outcome is a success\n",
    "        if reward:\n",
    "          listTouch[x] = listTouch[x]+1\n",
    "\n",
    "    # Update epsilon\n",
    "    epsilon = max(epsilon - epsilon_decay, 0)\n",
    "\n",
    "\n",
    "# Plot outcomes\n",
    "plt.figure(figsize=(12, 5))\n",
    "plt.xlabel(\"Run number\")\n",
    "plt.ylabel(\"Outcome\")\n",
    "ax = plt.gca()\n",
    "ax.set_facecolor('#efeeea')\n",
    "plt.plot(listTouch)\n",
    "plt.show()"
   ]
  },
  {
   "cell_type": "code",
   "execution_count": null,
   "metadata": {},
   "outputs": [],
   "source": []
  }
 ],
 "metadata": {
  "kernelspec": {
   "display_name": "ia",
   "language": "python",
   "name": "python3"
  },
  "language_info": {
   "codemirror_mode": {
    "name": "ipython",
    "version": 3
   },
   "file_extension": ".py",
   "mimetype": "text/x-python",
   "name": "python",
   "nbconvert_exporter": "python",
   "pygments_lexer": "ipython3",
   "version": "3.8.18"
  }
 },
 "nbformat": 4,
 "nbformat_minor": 2
}
