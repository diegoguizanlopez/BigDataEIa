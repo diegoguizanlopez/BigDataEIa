{
 "cells": [
  {
   "cell_type": "markdown",
   "metadata": {},
   "source": [
    "## Importación de gymnasium para entrenador de modelos"
   ]
  },
  {
   "cell_type": "code",
   "execution_count": null,
   "metadata": {},
   "outputs": [],
   "source": [
    "!pip install -q gymnasium\n",
    "!pip install gymnasium[toy-text]"
   ]
  },
  {
   "cell_type": "code",
   "execution_count": null,
   "metadata": {},
   "outputs": [],
   "source": [
    "import gymnasium as gym\n",
    "import random\n",
    "import numpy as np\n",
    "import matplotlib.pyplot as plt"
   ]
  },
  {
   "cell_type": "code",
   "execution_count": null,
   "metadata": {},
   "outputs": [],
   "source": [
    "# render_mode=\"human\"\n",
    "environment = gym.make(\"FrozenLake-v1\", is_slippery=False,\n",
    "                       render_mode=\"rgb_array\")\n",
    "environment.reset()\n",
    "tablero = environment.render()\n",
    "plt.imshow(tablero)"
   ]
  },
  {
   "cell_type": "code",
   "execution_count": null,
   "metadata": {},
   "outputs": [],
   "source": [
    "from os import environ\n",
    "nb_states = environment.observation_space.n\n",
    "nb_actions = environment.action_space.n\n",
    "qtable = np.zeros((nb_states, nb_actions))\n",
    "print(qtable)"
   ]
  },
  {
   "cell_type": "code",
   "execution_count": null,
   "metadata": {},
   "outputs": [],
   "source": [
    "action = 2\n",
    "environment.step(action)\n",
    "tablero = environment.render()\n",
    "plt.imshow(tablero)"
   ]
  },
  {
   "cell_type": "code",
   "execution_count": null,
   "metadata": {},
   "outputs": [],
   "source": [
    "action = environment.action_space.sample()\n",
    "new_state, reward, terminated, truncated, info = environment.step(action)\n",
    "tablero = environment.render()\n",
    "print(f'Reward = {reward} terminated = {terminated} truncated = {truncated} new_state = {new_state}')\n",
    "plt.imshow(tablero)\n"
   ]
  },
  {
   "cell_type": "code",
   "execution_count": null,
   "metadata": {},
   "outputs": [],
   "source": [
    "# Hyperparameters\n",
    "episodes = 1000        # Total number of episodes\n",
    "alpha = 0.5            # Learning rate\n",
    "gamma = 0.9            # Discount factor\n",
    "\n",
    "# List of outcomes to plot\n",
    "outcomes = []\n",
    "\n",
    "print('Q-table before training:')\n",
    "print(qtable)\n",
    "#environment = gym.make(\"FrozenLake-v1\", is_slippery=False,\n",
    "#                       render_mode=\"human\")\n",
    "\n",
    "# Training\n",
    "for i in range(episodes):\n",
    "    # Empieza la partida\n",
    "    state = environment.reset()[0]\n",
    "    done = False\n",
    "\n",
    "    # Por defecto es derrota hasta que se demuestre lo contrario\n",
    "    outcomes.append(\"Failure\")\n",
    "\n",
    "    # Hast que sucede algo se ejecuta\n",
    "    while not done:\n",
    "        # Recogemos la acción con mejor resultado\n",
    "        if np.max(qtable[state]) > 0:\n",
    "          action = np.argmax(qtable[state])\n",
    "\n",
    "        # Si no hay mejor acción se elige al azar\n",
    "        else:\n",
    "          action = environment.action_space.sample()\n",
    "\n",
    "        # Se mueve a la dirección deseada\n",
    "        new_state, reward, terminated, truncated, info = environment.step(action)\n",
    "        done = terminated or truncated\n",
    "        # Actualización Q(s,a)\n",
    "        qtable[state, action] = qtable[state, action] + \\\n",
    "                                alpha * (reward + gamma * np.max(qtable[new_state]) - qtable[state, action])\n",
    "\n",
    "        # Actualizar el estado actual del juego\n",
    "        state = new_state\n",
    "\n",
    "        # Si hay recompensa es que ganó\n",
    "        if reward:\n",
    "          outcomes[-1] = \"Success\"\n",
    "    print(i)\n",
    "print()\n",
    "print('===========================================')\n",
    "print('Q-table after training:')\n",
    "print(qtable)"
   ]
  },
  {
   "cell_type": "code",
   "execution_count": null,
   "metadata": {},
   "outputs": [],
   "source": [
    "# CON MEJORA CONTINUA\n",
    "\n",
    "qtable = np.zeros((environment.observation_space.n, environment.action_space.n))\n",
    "\n",
    "# Hyperparameters\n",
    "episodes = 1000        # Total number of episodes\n",
    "alpha = 0.5            # Learning rate\n",
    "gamma = 0.9            # Discount factor\n",
    "epsilon = 1.0          # Amount of randomness in the action selection\n",
    "epsilon_decay = 0.001  # Fixed amount to decrease\n",
    "\n",
    "environment = gym.make(\"FrozenLake-v1\", is_slippery=False,\n",
    "                       render_mode=\"human\")\n",
    "# List of outcomes to plot\n",
    "outcomes = []\n",
    "\n",
    "print('Q-table before training:')\n",
    "print(qtable)\n",
    "\n",
    "# Training\n",
    "for _ in range(episodes):\n",
    "    state = environment.reset()[0]\n",
    "    done = False\n",
    "\n",
    "    # By default, we consider our outcome to be a failure\n",
    "    outcomes.append(\"Failure\")\n",
    "\n",
    "    # Until the agent gets stuck in a hole or reaches the goal, keep training it\n",
    "    while not done:\n",
    "        # Generate a random number between 0 and 1\n",
    "        rnd = np.random.random()\n",
    "\n",
    "        # If random number < epsilon, take a random action\n",
    "        if rnd < epsilon:\n",
    "          action = environment.action_space.sample()\n",
    "        # Else, take the action with the highest value in the current state\n",
    "        else:\n",
    "          action = np.argmax(qtable[state])\n",
    "\n",
    "        # Implement this action and move the agent in the desired direction\n",
    "        #new_state, reward, done, info = environment.step(action)\n",
    "        new_state, reward, terminated, truncated, info = environment.step(action)\n",
    "        done = terminated or truncated\n",
    "        # Update Q(s,a)\n",
    "        qtable[state, action] = qtable[state, action] + \\\n",
    "                                alpha * (reward + gamma * np.max(qtable[new_state]) - qtable[state, action])\n",
    "\n",
    "        # Update our current state\n",
    "        state = new_state\n",
    "\n",
    "        # If we have a reward, it means that our outcome is a success\n",
    "        if reward:\n",
    "          outcomes[-1] = \"Success\"\n",
    "\n",
    "    # Update epsilon\n",
    "    epsilon = max(epsilon - epsilon_decay, 0)\n",
    "\n",
    "print()\n",
    "print('===========================================')\n",
    "print('Q-table after training:')\n",
    "print(qtable)\n",
    "\n",
    "# Plot outcomes\n",
    "plt.figure(figsize=(12, 5))\n",
    "plt.xlabel(\"Run number\")\n",
    "plt.ylabel(\"Outcome\")\n",
    "ax = plt.gca()\n",
    "ax.set_facecolor('#efeeea')\n",
    "plt.bar(range(len(outcomes)), outcomes, color=\"#0A047A\", width=1.0)\n",
    "plt.show()"
   ]
  },
  {
   "cell_type": "code",
   "execution_count": null,
   "metadata": {},
   "outputs": [],
   "source": []
  }
 ],
 "metadata": {
  "kernelspec": {
   "display_name": "ia",
   "language": "python",
   "name": "python3"
  },
  "language_info": {
   "codemirror_mode": {
    "name": "ipython",
    "version": 3
   },
   "file_extension": ".py",
   "mimetype": "text/x-python",
   "name": "python",
   "nbconvert_exporter": "python",
   "pygments_lexer": "ipython3",
   "version": "3.8.18"
  }
 },
 "nbformat": 4,
 "nbformat_minor": 2
}
