{
  "nbformat": 4,
  "nbformat_minor": 0,
  "metadata": {
    "colab": {
      "provenance": []
    },
    "kernelspec": {
      "name": "python3",
      "display_name": "Python 3"
    },
    "language_info": {
      "name": "python"
    }
  },
  "cells": [
    {
      "cell_type": "markdown",
      "source": [
        "# Transformación de datos"
      ],
      "metadata": {
        "id": "5_mITsyPKkdy"
      }
    },
    {
      "cell_type": "markdown",
      "source": [
        "En estadística, la transformación de datos se utiliza para ajustar valores de una variable a una distribución normal. Los datos se pueden transformar usando por ejemplo la raíz cuadrada o el logaritmo para asegurarse que los datos se ajusten a los supuestos de los modelos. Con la transformación, los datos pueden utilizarse para análisis como regresión, t de student, correlación y análisis de varianza.\n",
        "\n",
        "\n"
      ],
      "metadata": {
        "id": "F8YSL1wUKmma"
      }
    },
    {
      "cell_type": "markdown",
      "source": [
        "#### Determinación del sesgo o asimetría\n",
        "\n",
        "Las medidas de skewness (sesgo o asimetría) son indicadores que permiten establecer el grado de sesgo que presenta una distribución de probabilidad de una variable aleatoria. Si una distribución es simétrica, existe el mismo número de valores a la derecha que a la izquierda de la media, por tanto, el mismo número de desviaciones con signo positivo que con signo negativo.\n",
        "\n",
        "La función \"skew\" nos da una medida de en que dirección está desbalanceada la distribución y la función \"kurt\" del grado de desbalanceo (cómo es de \"afilada\")\n",
        "\n",
        "Si el valor resultante de \"skew\" está por encima de +1 o por debajo de -1, los datos están muy sesgados. Si está entre +0.5 y -0.5, está sesgado moderadamente. Si el valor es 0, entonces los datos son simétricos."
      ],
      "metadata": {
        "id": "O2kHQBDXLesj"
      }
    },
    {
      "cell_type": "code",
      "execution_count": null,
      "metadata": {
        "id": "5VyEtAfSKZ4G"
      },
      "outputs": [],
      "source": [
        "%matplotlib inline\n",
        "import pandas as pd\n",
        "import matplotlib.pyplot as plt\n",
        "import numpy as np\n",
        "import scipy.stats as stats\n",
        "\n",
        "df = pd.DataFrame({'Name': ['Dan', 'Joann', 'Pedro', 'Rosie', 'Ethan', 'Vicky', 'Frederic'],\n",
        "                   'Hours':[41,40,36,30,35,39,40]})\n",
        "\n",
        "hours = df['Hours']\n",
        "density = stats.gaussian_kde(hours)\n",
        "n, x, _ = plt.hist(hours, histtype='step', density=True, bins=25)\n",
        "plt.plot(x, density(x)*7)\n",
        "plt.axvline(hours.mean(), color='magenta', linestyle='dashed', linewidth=2)\n",
        "plt.axvline(hours.median(), color='green', linestyle='dashed', linewidth=2)\n",
        "\n",
        "print(' skewness: ' + str(hours.skew()))\n",
        "print(' kurtosis: ' + str(hours.kurt()))\n",
        "\n",
        "plt.show()"
      ]
    },
    {
      "cell_type": "markdown",
      "source": [
        "#### Transformaciones raíz, potencia y logaritmo\n"
      ],
      "metadata": {
        "id": "ysC7K-dKNpwI"
      }
    },
    {
      "cell_type": "code",
      "source": [
        "%matplotlib inline\n",
        "import pandas as pd\n",
        "import matplotlib.pyplot as plt\n",
        "import numpy as np\n",
        "import scipy.stats as stats\n",
        "\n",
        "df = pd.DataFrame({'Name': ['Dan', 'Joann', 'Pedro', 'Rosie', 'Ethan', 'Vicky', 'Frederic'],\n",
        "                   'Hours':[41,40,36,30,35,39,40]})\n",
        "\n",
        "hours = df['Hours']\n",
        "df[\"Raíz cuadrada\"] = np.sqrt(hours)\n",
        "df[\"Raíz cúbica\"] = np.cbrt(hours)\n",
        "df[\"Logaritmo\"] = np.log10(hours)\n",
        "df[\"Cuadrado\"] = np.square(hours)\n",
        "\n",
        "numcols = [\"Raíz cuadrada\", \"Raíz cúbica\", \"Logaritmo\", \"Cuadrado\"]\n",
        "\n",
        "for col in numcols:\n",
        "    print(df[col].name)\n",
        "    print(df[col].name + ' skewness: ' + str(df[col].skew()))\n",
        "    print(df[col].name + ' kurtosis: ' + str(df[col].kurt()))\n",
        "    density = stats.gaussian_kde(df[col])\n",
        "    n, x, _ = plt.hist(df[col], histtype='step', density=True, bins=25)\n",
        "    plt.plot(x, density(x)*6)\n",
        "    plt.show()\n",
        "    print('\\n')\n"
      ],
      "metadata": {
        "id": "pyYtFseMN9vm"
      },
      "execution_count": null,
      "outputs": []
    },
    {
      "cell_type": "markdown",
      "source": [
        "Parece que la transformación que mejor se adapta es la de elevar al cuadrado\n",
        "\n",
        "Probemos con una distribución sesgada hacia el lado izquierdo\n"
      ],
      "metadata": {
        "id": "bAp3bVV-SOUO"
      }
    },
    {
      "cell_type": "code",
      "source": [
        "%matplotlib inline\n",
        "import pandas as pd\n",
        "import matplotlib.pyplot as plt\n",
        "import numpy as np\n",
        "import scipy.stats as stats\n",
        "\n",
        "df = pd.DataFrame({'Name': ['Dan', 'Joann', 'Pedro', 'Rosie', 'Ethan', 'Vicky', 'Frederic'],\n",
        "                   'Hours':[50,54,50,189,550,4,590]})\n",
        "\n",
        "hours = df['Hours']\n",
        "df[\"Raíz cuadrada\"] = np.sqrt(hours)\n",
        "df[\"Raíz cúbica\"] = np.cbrt(hours)\n",
        "df[\"Logaritmo\"] = np.log10(hours)\n",
        "df[\"Cuadrado\"] = np.square(hours)\n",
        "\n",
        "numcols = [\"Raíz cuadrada\", \"Raíz cúbica\", \"Logaritmo\", \"Cuadrado\"]\n",
        "\n",
        "for col in numcols:\n",
        "    print(df[col].name)\n",
        "    print(df[col].name + ' skewness: ' + str(df[col].skew()))\n",
        "    print(df[col].name + ' kurtosis: ' + str(df[col].kurt()))\n",
        "    density = stats.gaussian_kde(df[col])\n",
        "    n, x, _ = plt.hist(df[col], histtype='step', density=True, bins=25)\n",
        "    plt.plot(x, density(x)*6)\n",
        "    plt.show()\n",
        "    print('\\n')"
      ],
      "metadata": {
        "colab": {
          "base_uri": "https://localhost:8080/",
          "height": 1000
        },
        "id": "R478vhzjSln6",
        "outputId": "45d9d17c-0377-4c61-b24f-ec25c7fd1aa3"
      },
      "execution_count": null,
      "outputs": [
        {
          "output_type": "stream",
          "name": "stdout",
          "text": [
            "Raíz cuadrada\n",
            "Raíz cuadrada skewness: 0.6466363822916701\n",
            "Raíz cuadrada kurtosis: -1.3005114584611395\n"
          ]
        },
        {
          "output_type": "display_data",
          "data": {
            "text/plain": [
              "<Figure size 640x480 with 1 Axes>"
            ],
            "image/png": "[encoded data removed]"
          },
          "metadata": {}
        },
        {
          "output_type": "stream",
          "name": "stdout",
          "text": [
            "\n",
            "\n",
            "Raíz cúbica\n",
            "Raíz cúbica skewness: 0.35173821875081895\n",
            "Raíz cúbica kurtosis: -1.1739631698939217\n"
          ]
        },
        {
          "output_type": "display_data",
          "data": {
            "text/plain": [
              "<Figure size 640x480 with 1 Axes>"
            ],
            "image/png": "[encoded data removed]"
          },
          "metadata": {}
        },
        {
          "output_type": "stream",
          "name": "stdout",
          "text": [
            "\n",
            "\n",
            "Logaritmo\n",
            "Logaritmo skewness: -0.669683673653464\n",
            "Logaritmo kurtosis: 0.5385785432597361\n"
          ]
        },
        {
          "output_type": "display_data",
          "data": {
            "text/plain": [
              "<Figure size 640x480 with 1 Axes>"
            ],
            "image/png": "[encoded data removed]"
          },
          "metadata": {}
        },
        {
          "output_type": "stream",
          "name": "stdout",
          "text": [
            "\n",
            "\n",
            "Cuadrado\n",
            "Cuadrado skewness: 1.2343330712767013\n",
            "Cuadrado kurtosis: -0.676193646641944\n"
          ]
        },
        {
          "output_type": "display_data",
          "data": {
            "text/plain": [
              "<Figure size 640x480 with 1 Axes>"
            ],
            "image/png": "[encoded data removed]"
          },
          "metadata": {}
        },
        {
          "output_type": "stream",
          "name": "stdout",
          "text": [
            "\n",
            "\n"
          ]
        }
      ]
    },
    {
      "cell_type": "markdown",
      "source": [
        "En este caso parece se la transformación raíz cúbica la que menor curtosis nos da\n"
      ],
      "metadata": {
        "id": "5UTfHn2vTWUT"
      }
    },
    {
      "cell_type": "markdown",
      "source": [
        "#### Tratamiento de outliers\n",
        "Si a pesar de las transformaciones anteriores (o en el caso de que no queramos efectuarlas) todavía nos quedan valores muy distantes de los demás podemos que optar por alguna de las siguientes soluciones para esos datos:\n",
        "\n",
        "\n",
        "> Eliminarlos\n",
        "\n",
        "> Imputarles otro valor (el percentil 5% o 95% por ejemplo)\n",
        "\n",
        "El siguiente código se podría usar para eliminar outliers"
      ],
      "metadata": {
        "id": "HWU00kkAXHEr"
      }
    },
    {
      "cell_type": "code",
      "source": [
        "q_low = df[\"col\"].quantile(0.01)\n",
        "q_hi  = df[\"col\"].quantile(0.99)\n",
        "\n",
        "df_filtrado = df[(df[\"col\"] < q_hi) & (df[\"col\"] > q_low)]"
      ],
      "metadata": {
        "id": "A0LvZyhZZKpQ"
      },
      "execution_count": null,
      "outputs": []
    },
    {
      "cell_type": "markdown",
      "source": [
        "O mejor incluso basarse en el valor Z-score para la operación"
      ],
      "metadata": {
        "id": "ATgn4fiMZRjB"
      }
    },
    {
      "cell_type": "code",
      "source": [
        "import pandas as pd\n",
        "import numpy as np\n",
        "from scipy import stats\n",
        "\n",
        "\n",
        "df = pd.DataFrame(np.random.randn(100, 3))\n",
        "df_filtrado = df[(np.abs(stats.zscore(df)) < 3).all(axis=1)]"
      ],
      "metadata": {
        "id": "Sadq35j-ZkhM"
      },
      "execution_count": null,
      "outputs": []
    },
    {
      "cell_type": "markdown",
      "source": [
        "#### Datos con campos nulos\n",
        "En caso de encontrarnos con datos faltantes podemos optar por suprimir esos registros (si nuestra fuente de datos es abundante) o bien imputarles un varlor (la media o la mediana suele ser un buen valor candidato)\n",
        "\n"
      ],
      "metadata": {
        "id": "AAwnK4jma2kg"
      }
    },
    {
      "cell_type": "code",
      "source": [
        "\n",
        "df['col_filtrada'] = df['col'].fillna( df['col'].mean()) # Imputando los valores perdidos por la media\n",
        "df['col_filtrada'] = df['col'].fillna( df['col'].median()) # Imputando los valores perdidos por la mediana\n"
      ],
      "metadata": {
        "id": "RveBnpsPb785"
      },
      "execution_count": null,
      "outputs": []
    },
    {
      "cell_type": "markdown",
      "source": [
        "En sklearn también hay funciones especializadas en la imputación (SimpleInputer, KNNImputer,  ...)"
      ],
      "metadata": {
        "id": "BmZyKGgNdtQ4"
      }
    },
    {
      "cell_type": "code",
      "source": [
        "from sklearn.impute import KNNImputer\n",
        "knn = KNNImputer(n_neighbors=5)\n",
        "neighbors = knn.fit_transform(data)"
      ],
      "metadata": {
        "id": "Jk_IP3q_dmvf"
      },
      "execution_count": null,
      "outputs": []
    },
    {
      "cell_type": "markdown",
      "source": [
        "#### Binning\n",
        "Es una técnica transformación que permite agrupar en variables categóricas las variables numéricas. Normalmente se hace determinando rangos. Esto permite determinar patrones que no se observarían facilmente con datos continuos\n"
      ],
      "metadata": {
        "id": "OQklmcZod4w0"
      }
    },
    {
      "cell_type": "code",
      "source": [
        "import pandas as pd\n",
        "\n",
        "#perform binning with 3 bins\n",
        "df['new_bin'] = pd.qcut(df['variable_name'], q=3)"
      ],
      "metadata": {
        "id": "ANeJqo4HeQyI"
      },
      "execution_count": null,
      "outputs": []
    },
    {
      "cell_type": "markdown",
      "source": [
        "También podríamos utilizar un algoritmo especializado para definir los rangos de cada uno de los grupos, como el algoritmo de K means (K medias). Este método de agrupamiento tiene como objetivo la partición de un conjunto de n observaciones en k grupos en el que cada observación pertenece al grupo cuyo valor medio es más cercano. Esta técnica es muy utilizada en minería de datos."
      ],
      "metadata": {
        "id": "9_TplqmCef_r"
      }
    },
    {
      "cell_type": "markdown",
      "source": [
        "#### Estandarización de datos\n",
        "La estandarización (también llamada normalización o escalado) se refiere al ajuste de los valores medidos en diferentes escalas respecto a una escala común. Es decir, ajusta todas las columnas al mismo rango.\n",
        "\n",
        "Min-Max\n",
        "\n",
        "La transformación es:\n",
        "$$Xstd = \\frac{(X - X.min(axis=0))}{(X.max(axis=0) - X.min(axis=0))}$$\n",
        "\n",
        "$$Xscaled = X_std * (max - min) + min$$\n"
      ],
      "metadata": {
        "id": "cqqJGTr6e39e"
      }
    },
    {
      "cell_type": "code",
      "source": [
        "import numpy as np\n",
        "from sklearn.preprocessing import MinMaxScaler\n",
        "# define data\n",
        "data = ([[100, 0.001], [8, 0.05], [50, 0.005], [88, 0.07], [4, 0.1]])\n",
        "print(data)\n",
        "# define min max scaler\n",
        "scaler = MinMaxScaler()\n",
        "# transform data\n",
        "scaled = scaler.fit_transform(data)\n",
        "print(scaled)"
      ],
      "metadata": {
        "colab": {
          "base_uri": "https://localhost:8080/"
        },
        "id": "84k9afsXfe3g",
        "outputId": "33b54ce3-cbab-4853-d13f-585f2dddf7dd"
      },
      "execution_count": null,
      "outputs": [
        {
          "output_type": "stream",
          "name": "stdout",
          "text": [
            "[[100, 0.001], [8, 0.05], [50, 0.005], [88, 0.07], [4, 0.1]]\n",
            "[[1.         0.        ]\n",
            " [0.04166667 0.49494949]\n",
            " [0.47916667 0.04040404]\n",
            " [0.875      0.6969697 ]\n",
            " [0.         1.        ]]\n"
          ]
        }
      ]
    },
    {
      "cell_type": "markdown",
      "source": [
        "Z score:\n",
        "\n",
        "Es el resultado de la restar cada valor menos la media poblacional y luego dividirlo entre la desviación estándar, como se aprecia en la siguiente fórmula\n",
        "\n",
        "$$Z=\\frac{(xi−μ)}{σ}$$"
      ],
      "metadata": {
        "id": "gW4wi3upglpb"
      }
    },
    {
      "cell_type": "code",
      "source": [
        "import numpy as np\n",
        "from sklearn.preprocessing import StandardScaler\n",
        "# define data\n",
        "data = ([[100, 0.001], [8, 0.05], [50, 0.005], [88, 0.07], [4, 0.1]])\n",
        "print(data)\n",
        "# define min max scaler\n",
        "scaler = StandardScaler()\n",
        "# transform data\n",
        "scaled = scaler.fit_transform(data)\n",
        "print(scaled)"
      ],
      "metadata": {
        "colab": {
          "base_uri": "https://localhost:8080/"
        },
        "id": "hI_wawLjg6Os",
        "outputId": "2d4d649d-35ff-4aab-f3ac-2f2a53f7e7a7"
      },
      "execution_count": null,
      "outputs": [
        {
          "output_type": "stream",
          "name": "stdout",
          "text": [
            "[[100, 0.001], [8, 0.05], [50, 0.005], [88, 0.07], [4, 0.1]]\n",
            "[[ 1.26398112 -1.16389967]\n",
            " [-1.06174414  0.12639634]\n",
            " [ 0.         -1.05856939]\n",
            " [ 0.96062565  0.65304778]\n",
            " [-1.16286263  1.44302493]]\n"
          ]
        }
      ]
    }
  ]
}