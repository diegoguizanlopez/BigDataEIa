{
 "cells": [
  {
   "cell_type": "code",
   "execution_count": 3,
   "metadata": {},
   "outputs": [],
   "source": [
    "import pathlib\n",
    "\n",
    "path=str(pathlib.Path().resolve())+\"\\\\Faces\""
   ]
  },
  {
   "cell_type": "code",
   "execution_count": 37,
   "metadata": {},
   "outputs": [],
   "source": [
    "import os\n",
    "import matplotlib.pyplot as plt\n",
    "import numpy as np\n",
    "import cv2 as cv\n",
    "import tensorflow as tf\n",
    "from concurrent.futures import ThreadPoolExecutor\n",
    "\n",
    "class ImageDataset(tf.keras.utils.Sequence):\n",
    "    def __init__(self, dir, transform=None):\n",
    "        self.data_dir = dir\n",
    "        self.transform = transform\n",
    "        self.train = self.__get_dataset_tensor__(os.path.join(dir, \"Train\"))\n",
    "        self.test = self.__get_dataset_tensor__(os.path.join(dir, \"Test\"))\n",
    "        self.val = self.__get_dataset_tensor__(os.path.join(dir, \"Validation\"))\n",
    "        self.x = self.train.concatenate(self.test).concatenate(self.val)\n",
    "        self.y = ['Fake','Real']\n",
    "\n",
    "    def __len__(self):\n",
    "        return len(self.images)\n",
    "\n",
    "    def __get_dataset_tensor__(self, dir):\n",
    "        dataset = tf.keras.utils.image_dataset_from_directory(\n",
    "            dir,\n",
    "            seed=42,\n",
    "            image_size=(128, 128))\n",
    "        if self.transform:\n",
    "            dataset = dataset.map(self.transform)\n",
    "        return dataset\n",
    "\n",
    "\n",
    "    def __getitem__(self, index):\n",
    "        image = self.images[index]\n",
    "\n",
    "        if self.transform:\n",
    "            image = self.transform(image)\n",
    "\n",
    "        return image\n",
    "\n",
    "    def transform_np(self, img, labels, type, needsArray=True):\n",
    "        threadL = []\n",
    "        images = []\n",
    "        lLabels = []\n",
    "\n",
    "        with ThreadPoolExecutor() as executor:\n",
    "            chunk_size = len(img) // 100\n",
    "            chunks = [img[i:i + chunk_size] for i in range(0, len(img), chunk_size)]\n",
    "            labelChunk = [labels[i:i + chunk_size] for i in range(0, len(img), chunk_size)]\n",
    "            for i, l in zip(chunks, labelChunk):\n",
    "                threadL.append(executor.submit(self.thread_array, i, l, type, needsArray))\n",
    "            for index, i in enumerate(threadL):\n",
    "                print(index)\n",
    "                values = i.result()\n",
    "                images.append(values[0])\n",
    "                lLabels.append(values[1])\n",
    "        return np.concatenate(images), np.concatenate(lLabels)\n",
    "\n",
    "    def thread_array(self, array, labels, type, needsArray):\n",
    "        return np.array([cv.cvtColor(cv.resize(cv.imread(x), dsize=(128, 128), interpolation=cv.INTER_AREA) if needsArray else x, type) for x in array]), labels\n"
   ]
  },
  {
   "cell_type": "code",
   "execution_count": null,
   "metadata": {},
   "outputs": [],
   "source": []
  },
  {
   "cell_type": "code",
   "execution_count": 38,
   "metadata": {},
   "outputs": [
    {
     "name": "stdout",
     "output_type": "stream",
     "text": [
      "Found 140002 files belonging to 2 classes.\n",
      "Found 10905 files belonging to 2 classes.\n",
      "Found 39428 files belonging to 2 classes.\n"
     ]
    },
    {
     "ename": "ResourceExhaustedError",
     "evalue": "{{function_node __wrapped__ConcatV2_N_5950_device_/job:localhost/replica:0/task:0/device:CPU:0}} OOM when allocating tensor with shape[190335,128,128,3] and type float on /job:localhost/replica:0/task:0/device:CPU:0 by allocator mklcpu [Op:ConcatV2] name: concat",
     "output_type": "error",
     "traceback": [
      "\u001b[1;31m---------------------------------------------------------------------------\u001b[0m",
      "\u001b[1;31mResourceExhaustedError\u001b[0m                    Traceback (most recent call last)",
      "Cell \u001b[1;32mIn[38], line 1\u001b[0m\n\u001b[1;32m----> 1\u001b[0m dataset \u001b[38;5;241m=\u001b[39m ImageDataset(path)\n",
      "Cell \u001b[1;32mIn[37], line 15\u001b[0m, in \u001b[0;36mImageDataset.__init__\u001b[1;34m(self, dir, transform)\u001b[0m\n\u001b[0;32m     13\u001b[0m \u001b[38;5;28mself\u001b[39m\u001b[38;5;241m.\u001b[39mtest \u001b[38;5;241m=\u001b[39m \u001b[38;5;28mself\u001b[39m\u001b[38;5;241m.\u001b[39m__get_dataset_tensor__(os\u001b[38;5;241m.\u001b[39mpath\u001b[38;5;241m.\u001b[39mjoin(\u001b[38;5;28mdir\u001b[39m, \u001b[38;5;124m\"\u001b[39m\u001b[38;5;124mTest\u001b[39m\u001b[38;5;124m\"\u001b[39m))\n\u001b[0;32m     14\u001b[0m \u001b[38;5;28mself\u001b[39m\u001b[38;5;241m.\u001b[39mval \u001b[38;5;241m=\u001b[39m \u001b[38;5;28mself\u001b[39m\u001b[38;5;241m.\u001b[39m__get_dataset_tensor__(os\u001b[38;5;241m.\u001b[39mpath\u001b[38;5;241m.\u001b[39mjoin(\u001b[38;5;28mdir\u001b[39m, \u001b[38;5;124m\"\u001b[39m\u001b[38;5;124mValidation\u001b[39m\u001b[38;5;124m\"\u001b[39m))\n\u001b[1;32m---> 15\u001b[0m \u001b[38;5;28mself\u001b[39m\u001b[38;5;241m.\u001b[39mX \u001b[38;5;241m=\u001b[39m \u001b[38;5;28mself\u001b[39m\u001b[38;5;241m.\u001b[39m__get_images__(\u001b[38;5;28mself\u001b[39m\u001b[38;5;241m.\u001b[39mtrain\u001b[38;5;241m.\u001b[39mconcatenate(\u001b[38;5;28mself\u001b[39m\u001b[38;5;241m.\u001b[39mtest)\u001b[38;5;241m.\u001b[39mconcatenate(\u001b[38;5;28mself\u001b[39m\u001b[38;5;241m.\u001b[39mval))\n\u001b[0;32m     16\u001b[0m \u001b[38;5;28mself\u001b[39m\u001b[38;5;241m.\u001b[39my \u001b[38;5;241m=\u001b[39m \u001b[38;5;28mself\u001b[39m\u001b[38;5;241m.\u001b[39m__get_labels__(\u001b[38;5;28mself\u001b[39m\u001b[38;5;241m.\u001b[39mtrain\u001b[38;5;241m.\u001b[39mconcatenate(\u001b[38;5;28mself\u001b[39m\u001b[38;5;241m.\u001b[39mtest)\u001b[38;5;241m.\u001b[39mconcatenate(\u001b[38;5;28mself\u001b[39m\u001b[38;5;241m.\u001b[39mval))\n",
      "Cell \u001b[1;32mIn[37], line 61\u001b[0m, in \u001b[0;36mImageDataset.__get_images__\u001b[1;34m(self, dataset)\u001b[0m\n\u001b[0;32m     60\u001b[0m \u001b[38;5;28;01mdef\u001b[39;00m \u001b[38;5;21m__get_images__\u001b[39m(\u001b[38;5;28mself\u001b[39m, dataset):\n\u001b[1;32m---> 61\u001b[0m     \u001b[38;5;28;01mreturn\u001b[39;00m tf\u001b[38;5;241m.\u001b[39mconcat([x \u001b[38;5;28;01mfor\u001b[39;00m x, y \u001b[38;5;129;01min\u001b[39;00m dataset], axis\u001b[38;5;241m=\u001b[39m\u001b[38;5;241m0\u001b[39m)\n",
      "File \u001b[1;32mc:\\Users\\diego.guizanlopez\\AppData\\Local\\miniconda3\\envs\\deep-learning\\Lib\\site-packages\\tensorflow\\python\\util\\traceback_utils.py:153\u001b[0m, in \u001b[0;36mfilter_traceback.<locals>.error_handler\u001b[1;34m(*args, **kwargs)\u001b[0m\n\u001b[0;32m    151\u001b[0m \u001b[38;5;28;01mexcept\u001b[39;00m \u001b[38;5;167;01mException\u001b[39;00m \u001b[38;5;28;01mas\u001b[39;00m e:\n\u001b[0;32m    152\u001b[0m   filtered_tb \u001b[38;5;241m=\u001b[39m _process_traceback_frames(e\u001b[38;5;241m.\u001b[39m__traceback__)\n\u001b[1;32m--> 153\u001b[0m   \u001b[38;5;28;01mraise\u001b[39;00m e\u001b[38;5;241m.\u001b[39mwith_traceback(filtered_tb) \u001b[38;5;28;01mfrom\u001b[39;00m \u001b[38;5;28;01mNone\u001b[39;00m\n\u001b[0;32m    154\u001b[0m \u001b[38;5;28;01mfinally\u001b[39;00m:\n\u001b[0;32m    155\u001b[0m   \u001b[38;5;28;01mdel\u001b[39;00m filtered_tb\n",
      "File \u001b[1;32mc:\\Users\\diego.guizanlopez\\AppData\\Local\\miniconda3\\envs\\deep-learning\\Lib\\site-packages\\tensorflow\\python\\framework\\ops.py:5883\u001b[0m, in \u001b[0;36mraise_from_not_ok_status\u001b[1;34m(e, name)\u001b[0m\n\u001b[0;32m   5881\u001b[0m \u001b[38;5;28;01mdef\u001b[39;00m \u001b[38;5;21mraise_from_not_ok_status\u001b[39m(e, name) \u001b[38;5;241m-\u001b[39m\u001b[38;5;241m>\u001b[39m NoReturn:\n\u001b[0;32m   5882\u001b[0m   e\u001b[38;5;241m.\u001b[39mmessage \u001b[38;5;241m+\u001b[39m\u001b[38;5;241m=\u001b[39m (\u001b[38;5;124m\"\u001b[39m\u001b[38;5;124m name: \u001b[39m\u001b[38;5;124m\"\u001b[39m \u001b[38;5;241m+\u001b[39m \u001b[38;5;28mstr\u001b[39m(name \u001b[38;5;28;01mif\u001b[39;00m name \u001b[38;5;129;01mis\u001b[39;00m \u001b[38;5;129;01mnot\u001b[39;00m \u001b[38;5;28;01mNone\u001b[39;00m \u001b[38;5;28;01melse\u001b[39;00m \u001b[38;5;124m\"\u001b[39m\u001b[38;5;124m\"\u001b[39m))\n\u001b[1;32m-> 5883\u001b[0m   \u001b[38;5;28;01mraise\u001b[39;00m core\u001b[38;5;241m.\u001b[39m_status_to_exception(e) \u001b[38;5;28;01mfrom\u001b[39;00m \u001b[38;5;28;01mNone\u001b[39;00m\n",
      "\u001b[1;31mResourceExhaustedError\u001b[0m: {{function_node __wrapped__ConcatV2_N_5950_device_/job:localhost/replica:0/task:0/device:CPU:0}} OOM when allocating tensor with shape[190335,128,128,3] and type float on /job:localhost/replica:0/task:0/device:CPU:0 by allocator mklcpu [Op:ConcatV2] name: concat"
     ]
    }
   ],
   "source": [
    "dataset = ImageDataset(path)"
   ]
  },
  {
   "cell_type": "code",
   "execution_count": 19,
   "metadata": {},
   "outputs": [],
   "source": [
    "from sklearn.preprocessing import LabelEncoder\n",
    "encoder = LabelEncoder()\n",
    "dataset.y=encoder.fit_transform(dataset.y)"
   ]
  },
  {
   "cell_type": "code",
   "execution_count": 20,
   "metadata": {},
   "outputs": [
    {
     "data": {
      "text/plain": [
       "array([0, 1], dtype=int64)"
      ]
     },
     "execution_count": 20,
     "metadata": {},
     "output_type": "execute_result"
    }
   ],
   "source": [
    "dataset.y"
   ]
  },
  {
   "cell_type": "code",
   "execution_count": 22,
   "metadata": {},
   "outputs": [
    {
     "ename": "TypeError",
     "evalue": "'_ConcatenateDataset' object is not subscriptable",
     "output_type": "error",
     "traceback": [
      "\u001b[1;31m---------------------------------------------------------------------------\u001b[0m",
      "\u001b[1;31mTypeError\u001b[0m                                 Traceback (most recent call last)",
      "Cell \u001b[1;32mIn[22], line 13\u001b[0m\n\u001b[0;32m     11\u001b[0m index \u001b[38;5;241m=\u001b[39m n_cols \u001b[38;5;241m*\u001b[39m row \u001b[38;5;241m+\u001b[39m col\n\u001b[0;32m     12\u001b[0m plt\u001b[38;5;241m.\u001b[39msubplot(n_rows, n_cols, index \u001b[38;5;241m+\u001b[39m \u001b[38;5;241m1\u001b[39m)\n\u001b[1;32m---> 13\u001b[0m plt\u001b[38;5;241m.\u001b[39mimshow(dataset\u001b[38;5;241m.\u001b[39mX[index]\u001b[38;5;241m.\u001b[39mnumpy(), cmap\u001b[38;5;241m=\u001b[39m\u001b[38;5;124m\"\u001b[39m\u001b[38;5;124mbinary\u001b[39m\u001b[38;5;124m\"\u001b[39m, interpolation\u001b[38;5;241m=\u001b[39m\u001b[38;5;124m\"\u001b[39m\u001b[38;5;124mnearest\u001b[39m\u001b[38;5;124m\"\u001b[39m)\n\u001b[0;32m     14\u001b[0m plt\u001b[38;5;241m.\u001b[39maxis(\u001b[38;5;124m'\u001b[39m\u001b[38;5;124moff\u001b[39m\u001b[38;5;124m'\u001b[39m)\n\u001b[0;32m     15\u001b[0m plt\u001b[38;5;241m.\u001b[39mtitle(class_names[dataset\u001b[38;5;241m.\u001b[39my[index]], fontsize\u001b[38;5;241m=\u001b[39m\u001b[38;5;241m12\u001b[39m)\n",
      "\u001b[1;31mTypeError\u001b[0m: '_ConcatenateDataset' object is not subscriptable"
     ]
    },
    {
     "data": {
      "image/png": "[encoded data removed]",
      "text/plain": [
       "<Figure size 1200x480 with 1 Axes>"
      ]
     },
     "metadata": {},
     "output_type": "display_data"
    }
   ],
   "source": [
    "from matplotlib import pyplot as plt\n",
    "\n",
    "\n",
    "class_names = np.unique(dataset.y)\n",
    "\n",
    "n_rows = 4\n",
    "n_cols = 10\n",
    "plt.figure(figsize=(n_cols * 1.2, n_rows * 1.2))\n",
    "for row in range(n_rows):\n",
    "    for col in range(n_cols):\n",
    "        index = n_cols * row + col\n",
    "        plt.subplot(n_rows, n_cols, index + 1)\n",
    "        plt.imshow(dataset.X[index].numpy(), cmap=\"binary\", interpolation=\"nearest\")\n",
    "        plt.axis('off')\n",
    "        plt.title(class_names[dataset.y[index]], fontsize=12)\n",
    "plt.subplots_adjust(wspace=0.2, hspace=0.5)\n",
    "plt.show()"
   ]
  },
  {
   "cell_type": "code",
   "execution_count": null,
   "metadata": {},
   "outputs": [
    {
     "data": {
      "text/plain": [
       "(128, 128)"
      ]
     },
     "execution_count": 9,
     "metadata": {},
     "output_type": "execute_result"
    }
   ],
   "source": [
    "dataset.images[0].shape"
   ]
  },
  {
   "cell_type": "code",
   "execution_count": null,
   "metadata": {},
   "outputs": [],
   "source": [
    "from sklearn.model_selection import train_test_split\n",
    "\n",
    "X_train_full, X_test , y_train_full, y_test = train_test_split(X,y,test_size=0.2,random_state=42)"
   ]
  },
  {
   "cell_type": "code",
   "execution_count": null,
   "metadata": {},
   "outputs": [],
   "source": [
    "X_train, X_val , y_train, y_val = train_test_split(X_train_full,y_train_full,test_size=0.2,random_state=42)"
   ]
  },
  {
   "cell_type": "code",
   "execution_count": null,
   "metadata": {},
   "outputs": [
    {
     "data": {
      "text/plain": [
       "<BarContainer object of 2 artists>"
      ]
     },
     "execution_count": 12,
     "metadata": {},
     "output_type": "execute_result"
    },
    {
     "data": {
      "image/png": "[encoded data removed]",
      "text/plain": [
       "<Figure size 640x480 with 1 Axes>"
      ]
     },
     "metadata": {},
     "output_type": "display_data"
    }
   ],
   "source": [
    "values=np.unique(y, return_counts=True)\n",
    "plt.bar(np.unique(encoder.inverse_transform(y)),values[1])"
   ]
  },
  {
   "cell_type": "markdown",
   "metadata": {},
   "source": [
    "# Model Processing"
   ]
  },
  {
   "cell_type": "code",
   "execution_count": null,
   "metadata": {},
   "outputs": [],
   "source": [
    "X_train = X_train / 255\n",
    "X_test = X_test / 255\n",
    "X_val = X_val / 255"
   ]
  },
  {
   "cell_type": "code",
   "execution_count": null,
   "metadata": {},
   "outputs": [
    {
     "name": "stdout",
     "output_type": "stream",
     "text": [
      "WARNING:tensorflow:From c:\\Users\\diego.guizanlopez\\AppData\\Local\\miniconda3\\envs\\deep-learning\\Lib\\site-packages\\keras\\src\\layers\\pooling\\max_pooling2d.py:161: The name tf.nn.max_pool is deprecated. Please use tf.nn.max_pool2d instead.\n",
      "\n",
      "Model: \"sequential_1\"\n",
      "_________________________________________________________________\n",
      " Layer (type)                Output Shape              Param #   \n",
      "=================================================================\n",
      " conv2d (Conv2D)             (None, 126, 126, 32)      320       \n",
      "                                                                 \n",
      " conv2d_1 (Conv2D)           (None, 124, 124, 32)      9248      \n",
      "                                                                 \n",
      " max_pooling2d (MaxPooling2  (None, 62, 62, 32)        0         \n",
      " D)                                                              \n",
      "                                                                 \n",
      " conv2d_2 (Conv2D)           (None, 60, 60, 64)        18496     \n",
      "                                                                 \n",
      " conv2d_3 (Conv2D)           (None, 58, 58, 64)        36928     \n",
      "                                                                 \n",
      " flatten (Flatten)           (None, 215296)            0         \n",
      "                                                                 \n",
      " dense (Dense)               (None, 128)               27558016  \n",
      "                                                                 \n",
      " dense_1 (Dense)             (None, 2)                 258       \n",
      "                                                                 \n",
      "=================================================================\n",
      "Total params: 27623266 (105.37 MB)\n",
      "Trainable params: 27623266 (105.37 MB)\n",
      "Non-trainable params: 0 (0.00 Byte)\n",
      "_________________________________________________________________\n"
     ]
    }
   ],
   "source": [
    "model = models.Sequential()\n",
    "\n",
    "# Va hacer 32 Kernels que serán 3X3 es decir\n",
    "# Recogera de cada 3 pixeles el central para la nueva imagen \n",
    "# Podríamos indicar los Strides (1,1) que son las casillas que avanza\n",
    "# Le decimos que sea 28 x 28 y que tenga un canal\n",
    "model.add(layers.Conv2D(32,(3,3),activation=\"relu\",input_shape=(X_train.shape[1],X_train.shape[2],1)))\n",
    "model.add(layers.Conv2D(32,(3,3),activation=\"relu\"))\n",
    "\n",
    "# Se va reduciendo la imagen por lo que podemos aumentar el número de filtros, donde la imagen se nos va a la mitad\n",
    "model.add(layers.MaxPooling2D((2,2)))\n",
    "\n",
    "# Lo normal es aumentar el número de filtros en la imagen\n",
    "model.add(layers.Conv2D(64,(3,3),activation=\"relu\"))\n",
    "model.add(layers.Conv2D(64,(3,3),activation=\"relu\"))\n",
    "#model.add(layers.MaxPooling2D((2,2)))\n",
    "\n",
    "# Aplana la capa actual\n",
    "#model.add(layers.Conv2D(128,(3,3),activation=\"relu\"))\n",
    "#model.add(layers.Conv2D(128,(3,3),activation=\"relu\"))\n",
    "model.add(layers.Flatten())\n",
    "\n",
    "model.add(layers.Dense(128,activation=\"relu\"))\n",
    "model.add(layers.Dense(len(np.unique(y_train_full)),activation=\"sigmoid\"))\n",
    "\n",
    "model.summary()"
   ]
  },
  {
   "cell_type": "code",
   "execution_count": null,
   "metadata": {},
   "outputs": [],
   "source": [
    "model.compile(loss=\"binary_crossentropy\",  optimizer=keras.optimizers.Adam(learning_rate=0.001),   metrics=[\"accuracy\"])"
   ]
  },
  {
   "cell_type": "code",
   "execution_count": null,
   "metadata": {},
   "outputs": [
    {
     "name": "stdout",
     "output_type": "stream",
     "text": [
      "Epoch 1/9223372036854775807\n"
     ]
    },
    {
     "ename": "ValueError",
     "evalue": "in user code:\n\n    File \"c:\\Users\\diego.guizanlopez\\AppData\\Local\\miniconda3\\envs\\deep-learning\\Lib\\site-packages\\keras\\src\\engine\\training.py\", line 1401, in train_function  *\n        return step_function(self, iterator)\n    File \"c:\\Users\\diego.guizanlopez\\AppData\\Local\\miniconda3\\envs\\deep-learning\\Lib\\site-packages\\keras\\src\\engine\\training.py\", line 1384, in step_function  **\n        outputs = model.distribute_strategy.run(run_step, args=(data,))\n    File \"c:\\Users\\diego.guizanlopez\\AppData\\Local\\miniconda3\\envs\\deep-learning\\Lib\\site-packages\\keras\\src\\engine\\training.py\", line 1373, in run_step  **\n        outputs = model.train_step(data)\n    File \"c:\\Users\\diego.guizanlopez\\AppData\\Local\\miniconda3\\envs\\deep-learning\\Lib\\site-packages\\keras\\src\\engine\\training.py\", line 1151, in train_step\n        loss = self.compute_loss(x, y, y_pred, sample_weight)\n    File \"c:\\Users\\diego.guizanlopez\\AppData\\Local\\miniconda3\\envs\\deep-learning\\Lib\\site-packages\\keras\\src\\engine\\training.py\", line 1209, in compute_loss\n        return self.compiled_loss(\n    File \"c:\\Users\\diego.guizanlopez\\AppData\\Local\\miniconda3\\envs\\deep-learning\\Lib\\site-packages\\keras\\src\\engine\\compile_utils.py\", line 277, in __call__\n        loss_value = loss_obj(y_t, y_p, sample_weight=sw)\n    File \"c:\\Users\\diego.guizanlopez\\AppData\\Local\\miniconda3\\envs\\deep-learning\\Lib\\site-packages\\keras\\src\\losses.py\", line 143, in __call__\n        losses = call_fn(y_true, y_pred)\n    File \"c:\\Users\\diego.guizanlopez\\AppData\\Local\\miniconda3\\envs\\deep-learning\\Lib\\site-packages\\keras\\src\\losses.py\", line 270, in call  **\n        return ag_fn(y_true, y_pred, **self._fn_kwargs)\n    File \"c:\\Users\\diego.guizanlopez\\AppData\\Local\\miniconda3\\envs\\deep-learning\\Lib\\site-packages\\keras\\src\\losses.py\", line 2532, in binary_crossentropy\n        backend.binary_crossentropy(y_true, y_pred, from_logits=from_logits),\n    File \"c:\\Users\\diego.guizanlopez\\AppData\\Local\\miniconda3\\envs\\deep-learning\\Lib\\site-packages\\keras\\src\\backend.py\", line 5822, in binary_crossentropy\n        return tf.nn.sigmoid_cross_entropy_with_logits(\n\n    ValueError: `logits` and `labels` must have the same shape, received ((None, 2) vs (None, 1)).\n",
     "output_type": "error",
     "traceback": [
      "\u001b[1;31m---------------------------------------------------------------------------\u001b[0m",
      "\u001b[1;31mValueError\u001b[0m                                Traceback (most recent call last)",
      "Cell \u001b[1;32mIn[18], line 19\u001b[0m\n\u001b[0;32m      3\u001b[0m \u001b[38;5;66;03m#gpus = tf.config.experimental.list_physical_devices('GPU')\u001b[39;00m\n\u001b[0;32m      4\u001b[0m \u001b[38;5;66;03m#print(gpus)\u001b[39;00m\n\u001b[0;32m      5\u001b[0m \u001b[38;5;66;03m#tf.config.set_visible_devices([], 'CPU') # hide the CPU\u001b[39;00m\n\u001b[1;32m   (...)\u001b[0m\n\u001b[0;32m     13\u001b[0m \u001b[38;5;66;03m#tf.config.set_visible_devices(cpus[0], 'CPU') # unhide potentially hidden CPU\u001b[39;00m\n\u001b[0;32m     14\u001b[0m \u001b[38;5;66;03m#tf.config.get_visible_devices()\u001b[39;00m\n\u001b[0;32m     16\u001b[0m early_stopping_cb \u001b[38;5;241m=\u001b[39m keras\u001b[38;5;241m.\u001b[39mcallbacks\u001b[38;5;241m.\u001b[39mEarlyStopping(patience\u001b[38;5;241m=\u001b[39m\u001b[38;5;241m1\u001b[39m,restore_best_weights\u001b[38;5;241m=\u001b[39m\u001b[38;5;28;01mTrue\u001b[39;00m)\n\u001b[1;32m---> 19\u001b[0m history \u001b[38;5;241m=\u001b[39m model\u001b[38;5;241m.\u001b[39mfit(X_train,y_train,epochs\u001b[38;5;241m=\u001b[39msys\u001b[38;5;241m.\u001b[39mmaxsize,validation_data\u001b[38;5;241m=\u001b[39m(X_val,y_val),callbacks\u001b[38;5;241m=\u001b[39m[early_stopping_cb])\n",
      "File \u001b[1;32mc:\\Users\\diego.guizanlopez\\AppData\\Local\\miniconda3\\envs\\deep-learning\\Lib\\site-packages\\keras\\src\\utils\\traceback_utils.py:70\u001b[0m, in \u001b[0;36mfilter_traceback.<locals>.error_handler\u001b[1;34m(*args, **kwargs)\u001b[0m\n\u001b[0;32m     67\u001b[0m     filtered_tb \u001b[38;5;241m=\u001b[39m _process_traceback_frames(e\u001b[38;5;241m.\u001b[39m__traceback__)\n\u001b[0;32m     68\u001b[0m     \u001b[38;5;66;03m# To get the full stack trace, call:\u001b[39;00m\n\u001b[0;32m     69\u001b[0m     \u001b[38;5;66;03m# `tf.debugging.disable_traceback_filtering()`\u001b[39;00m\n\u001b[1;32m---> 70\u001b[0m     \u001b[38;5;28;01mraise\u001b[39;00m e\u001b[38;5;241m.\u001b[39mwith_traceback(filtered_tb) \u001b[38;5;28;01mfrom\u001b[39;00m \u001b[38;5;28;01mNone\u001b[39;00m\n\u001b[0;32m     71\u001b[0m \u001b[38;5;28;01mfinally\u001b[39;00m:\n\u001b[0;32m     72\u001b[0m     \u001b[38;5;28;01mdel\u001b[39;00m filtered_tb\n",
      "File \u001b[1;32mC:\\Users\\DIEGO~1.GUI\\AppData\\Local\\Temp\\__autograph_generated_fileutb612ck.py:15\u001b[0m, in \u001b[0;36mouter_factory.<locals>.inner_factory.<locals>.tf__train_function\u001b[1;34m(iterator)\u001b[0m\n\u001b[0;32m     13\u001b[0m \u001b[38;5;28;01mtry\u001b[39;00m:\n\u001b[0;32m     14\u001b[0m     do_return \u001b[38;5;241m=\u001b[39m \u001b[38;5;28;01mTrue\u001b[39;00m\n\u001b[1;32m---> 15\u001b[0m     retval_ \u001b[38;5;241m=\u001b[39m ag__\u001b[38;5;241m.\u001b[39mconverted_call(ag__\u001b[38;5;241m.\u001b[39mld(step_function), (ag__\u001b[38;5;241m.\u001b[39mld(\u001b[38;5;28mself\u001b[39m), ag__\u001b[38;5;241m.\u001b[39mld(iterator)), \u001b[38;5;28;01mNone\u001b[39;00m, fscope)\n\u001b[0;32m     16\u001b[0m \u001b[38;5;28;01mexcept\u001b[39;00m:\n\u001b[0;32m     17\u001b[0m     do_return \u001b[38;5;241m=\u001b[39m \u001b[38;5;28;01mFalse\u001b[39;00m\n",
      "\u001b[1;31mValueError\u001b[0m: in user code:\n\n    File \"c:\\Users\\diego.guizanlopez\\AppData\\Local\\miniconda3\\envs\\deep-learning\\Lib\\site-packages\\keras\\src\\engine\\training.py\", line 1401, in train_function  *\n        return step_function(self, iterator)\n    File \"c:\\Users\\diego.guizanlopez\\AppData\\Local\\miniconda3\\envs\\deep-learning\\Lib\\site-packages\\keras\\src\\engine\\training.py\", line 1384, in step_function  **\n        outputs = model.distribute_strategy.run(run_step, args=(data,))\n    File \"c:\\Users\\diego.guizanlopez\\AppData\\Local\\miniconda3\\envs\\deep-learning\\Lib\\site-packages\\keras\\src\\engine\\training.py\", line 1373, in run_step  **\n        outputs = model.train_step(data)\n    File \"c:\\Users\\diego.guizanlopez\\AppData\\Local\\miniconda3\\envs\\deep-learning\\Lib\\site-packages\\keras\\src\\engine\\training.py\", line 1151, in train_step\n        loss = self.compute_loss(x, y, y_pred, sample_weight)\n    File \"c:\\Users\\diego.guizanlopez\\AppData\\Local\\miniconda3\\envs\\deep-learning\\Lib\\site-packages\\keras\\src\\engine\\training.py\", line 1209, in compute_loss\n        return self.compiled_loss(\n    File \"c:\\Users\\diego.guizanlopez\\AppData\\Local\\miniconda3\\envs\\deep-learning\\Lib\\site-packages\\keras\\src\\engine\\compile_utils.py\", line 277, in __call__\n        loss_value = loss_obj(y_t, y_p, sample_weight=sw)\n    File \"c:\\Users\\diego.guizanlopez\\AppData\\Local\\miniconda3\\envs\\deep-learning\\Lib\\site-packages\\keras\\src\\losses.py\", line 143, in __call__\n        losses = call_fn(y_true, y_pred)\n    File \"c:\\Users\\diego.guizanlopez\\AppData\\Local\\miniconda3\\envs\\deep-learning\\Lib\\site-packages\\keras\\src\\losses.py\", line 270, in call  **\n        return ag_fn(y_true, y_pred, **self._fn_kwargs)\n    File \"c:\\Users\\diego.guizanlopez\\AppData\\Local\\miniconda3\\envs\\deep-learning\\Lib\\site-packages\\keras\\src\\losses.py\", line 2532, in binary_crossentropy\n        backend.binary_crossentropy(y_true, y_pred, from_logits=from_logits),\n    File \"c:\\Users\\diego.guizanlopez\\AppData\\Local\\miniconda3\\envs\\deep-learning\\Lib\\site-packages\\keras\\src\\backend.py\", line 5822, in binary_crossentropy\n        return tf.nn.sigmoid_cross_entropy_with_logits(\n\n    ValueError: `logits` and `labels` must have the same shape, received ((None, 2) vs (None, 1)).\n"
     ]
    }
   ],
   "source": [
    "\n",
    "import sys\n",
    "\n",
    "#gpus = tf.config.experimental.list_physical_devices('GPU')\n",
    "#print(gpus)\n",
    "#tf.config.set_visible_devices([], 'CPU') # hide the CPU\n",
    "#tf.config.set_visible_devices(gpus[0], 'GPU') # unhide potentially hidden GPU\n",
    "#tf.config.get_visible_devices()\n",
    "\n",
    "\n",
    "#cpus = tf.config.experimental.list_physical_devices('CPU')\n",
    "#print(cpus)\n",
    "#tf.config.set_visible_devices([], 'GPU')  # hide the GPU\n",
    "#tf.config.set_visible_devices(cpus[0], 'CPU') # unhide potentially hidden CPU\n",
    "#tf.config.get_visible_devices()\n",
    "\n",
    "early_stopping_cb = keras.callbacks.EarlyStopping(patience=1,restore_best_weights=True)\n",
    "\n",
    "\n",
    "history = model.fit(X_train,y_train,epochs=sys.maxsize,validation_data=(X_val,y_val),callbacks=[early_stopping_cb])"
   ]
  },
  {
   "cell_type": "code",
   "execution_count": null,
   "metadata": {},
   "outputs": [
    {
     "ename": "NameError",
     "evalue": "name 'history' is not defined",
     "output_type": "error",
     "traceback": [
      "\u001b[1;31m---------------------------------------------------------------------------\u001b[0m",
      "\u001b[1;31mNameError\u001b[0m                                 Traceback (most recent call last)",
      "Cell \u001b[1;32mIn[15], line 1\u001b[0m\n\u001b[1;32m----> 1\u001b[0m pd\u001b[38;5;241m.\u001b[39mDataFrame(history\u001b[38;5;241m.\u001b[39mhistory)\u001b[38;5;241m.\u001b[39mplot(figsize\u001b[38;5;241m=\u001b[39m(\u001b[38;5;241m8\u001b[39m, \u001b[38;5;241m5\u001b[39m))\n\u001b[0;32m      2\u001b[0m plt\u001b[38;5;241m.\u001b[39mgrid(\u001b[38;5;28;01mTrue\u001b[39;00m)\n\u001b[0;32m      3\u001b[0m plt\u001b[38;5;241m.\u001b[39mgca()\u001b[38;5;241m.\u001b[39mset_ylim(\u001b[38;5;241m0\u001b[39m, \u001b[38;5;241m1\u001b[39m)\n",
      "\u001b[1;31mNameError\u001b[0m: name 'history' is not defined"
     ]
    }
   ],
   "source": [
    "pd.DataFrame(history.history).plot(figsize=(8, 5))\n",
    "plt.grid(True)\n",
    "plt.gca().set_ylim(0, 1)\n",
    "plt.show()"
   ]
  },
  {
   "cell_type": "code",
   "execution_count": null,
   "metadata": {},
   "outputs": [
    {
     "name": "stdout",
     "output_type": "stream",
     "text": [
      "25/25 [==============================] - 2s 60ms/step - loss: 2.6403 - accuracy: 0.3938\n"
     ]
    },
    {
     "data": {
      "text/plain": [
       "[2.6402697563171387, 0.39375001192092896]"
      ]
     },
     "execution_count": 16,
     "metadata": {},
     "output_type": "execute_result"
    }
   ],
   "source": [
    "model.evaluate(X_test,y_test)"
   ]
  },
  {
   "cell_type": "code",
   "execution_count": null,
   "metadata": {},
   "outputs": [
    {
     "name": "stdout",
     "output_type": "stream",
     "text": [
      "25/25 [==============================] - 2s 65ms/step\n"
     ]
    }
   ],
   "source": [
    "y_pred = model.predict(X_test).round(2)"
   ]
  },
  {
   "cell_type": "code",
   "execution_count": null,
   "metadata": {},
   "outputs": [
    {
     "data": {
      "text/plain": [
       "array(['sad', 'happy', 'happy', 'happy', 'sad', 'happy', 'happy', 'angry',\n",
       "       'sad', 'happy', 'sad', 'relaxed', 'sad', 'sad', 'sad', 'happy',\n",
       "       'happy', 'relaxed', 'happy', 'relaxed', 'relaxed', 'relaxed',\n",
       "       'angry', 'sad', 'happy', 'angry', 'happy', 'happy', 'happy',\n",
       "       'happy', 'sad', 'sad', 'sad', 'sad', 'happy', 'relaxed', 'sad',\n",
       "       'sad', 'angry', 'happy', 'happy', 'angry', 'sad', 'sad', 'sad',\n",
       "       'angry', 'happy', 'relaxed', 'angry', 'sad', 'sad', 'relaxed',\n",
       "       'happy', 'sad', 'relaxed', 'relaxed', 'sad', 'happy', 'relaxed',\n",
       "       'sad', 'sad', 'happy', 'sad', 'angry', 'sad', 'angry', 'sad',\n",
       "       'happy', 'happy', 'sad', 'angry', 'relaxed', 'happy', 'angry',\n",
       "       'relaxed', 'sad', 'angry', 'angry', 'angry', 'happy', 'happy',\n",
       "       'angry', 'relaxed', 'happy', 'happy', 'relaxed', 'happy',\n",
       "       'relaxed', 'happy', 'happy', 'sad', 'happy', 'relaxed', 'happy',\n",
       "       'sad', 'happy', 'sad', 'angry', 'happy', 'happy', 'happy', 'angry',\n",
       "       'happy', 'happy', 'sad', 'sad', 'happy', 'angry', 'happy',\n",
       "       'relaxed', 'sad', 'happy', 'happy', 'relaxed', 'sad', 'happy',\n",
       "       'happy', 'sad', 'relaxed', 'sad', 'happy', 'sad', 'relaxed', 'sad',\n",
       "       'relaxed', 'sad', 'relaxed', 'happy', 'happy', 'relaxed', 'angry',\n",
       "       'relaxed', 'sad', 'relaxed', 'sad', 'angry', 'angry', 'angry',\n",
       "       'angry', 'happy', 'angry', 'angry', 'angry', 'angry', 'happy',\n",
       "       'sad', 'happy', 'relaxed', 'angry', 'relaxed', 'angry', 'angry',\n",
       "       'relaxed', 'happy', 'sad', 'happy', 'happy', 'sad', 'happy',\n",
       "       'relaxed', 'sad', 'sad', 'relaxed', 'sad', 'relaxed', 'happy',\n",
       "       'happy', 'happy', 'angry', 'happy', 'happy', 'angry', 'angry',\n",
       "       'happy', 'angry', 'relaxed', 'angry', 'happy', 'sad', 'angry',\n",
       "       'sad', 'relaxed', 'relaxed', 'sad', 'happy', 'relaxed', 'sad',\n",
       "       'angry', 'sad', 'sad', 'happy', 'sad', 'happy', 'happy', 'angry',\n",
       "       'relaxed', 'happy', 'relaxed', 'relaxed', 'sad', 'relaxed',\n",
       "       'angry', 'happy', 'happy', 'happy', 'sad', 'angry', 'happy',\n",
       "       'angry', 'sad', 'happy', 'happy', 'happy', 'angry', 'angry',\n",
       "       'relaxed', 'sad', 'happy', 'sad', 'angry', 'relaxed', 'sad', 'sad',\n",
       "       'sad', 'happy', 'happy', 'relaxed', 'happy', 'sad', 'happy',\n",
       "       'happy', 'relaxed', 'happy', 'happy', 'happy', 'happy', 'happy',\n",
       "       'sad', 'happy', 'relaxed', 'relaxed', 'relaxed', 'angry', 'angry',\n",
       "       'relaxed', 'sad', 'happy', 'sad', 'happy', 'happy', 'relaxed',\n",
       "       'sad', 'relaxed', 'relaxed', 'happy', 'relaxed', 'angry', 'angry',\n",
       "       'angry', 'sad', 'angry', 'happy', 'angry', 'angry', 'relaxed',\n",
       "       'angry', 'sad', 'happy', 'sad', 'relaxed', 'angry', 'angry',\n",
       "       'happy', 'sad', 'sad', 'happy', 'relaxed', 'sad', 'happy', 'sad',\n",
       "       'happy', 'angry', 'sad', 'happy', 'sad', 'happy', 'angry',\n",
       "       'relaxed', 'happy', 'happy', 'angry', 'happy', 'happy', 'relaxed',\n",
       "       'relaxed', 'angry', 'sad', 'relaxed', 'angry', 'angry', 'sad',\n",
       "       'angry', 'happy', 'sad', 'relaxed', 'happy', 'happy', 'sad',\n",
       "       'angry', 'happy', 'happy', 'angry', 'happy', 'happy', 'sad',\n",
       "       'angry', 'angry', 'relaxed', 'happy', 'happy', 'happy', 'sad',\n",
       "       'sad', 'happy', 'sad', 'happy', 'angry', 'happy', 'angry', 'angry',\n",
       "       'sad', 'relaxed', 'relaxed', 'relaxed', 'happy', 'relaxed',\n",
       "       'angry', 'happy', 'happy', 'happy', 'sad', 'happy', 'angry', 'sad',\n",
       "       'angry', 'happy', 'relaxed', 'happy', 'angry', 'happy', 'happy',\n",
       "       'sad', 'relaxed', 'happy', 'sad', 'happy', 'sad', 'sad', 'angry',\n",
       "       'happy', 'relaxed', 'angry', 'happy', 'relaxed', 'happy',\n",
       "       'relaxed', 'happy', 'angry', 'happy', 'happy', 'happy', 'angry',\n",
       "       'angry', 'relaxed', 'relaxed', 'angry', 'relaxed', 'sad', 'happy',\n",
       "       'angry', 'happy', 'happy', 'angry', 'happy', 'sad', 'happy',\n",
       "       'happy', 'relaxed', 'happy', 'happy', 'angry', 'relaxed', 'sad',\n",
       "       'happy', 'relaxed', 'angry', 'sad', 'relaxed', 'angry', 'sad',\n",
       "       'sad', 'happy', 'sad', 'sad', 'happy', 'angry', 'relaxed', 'angry',\n",
       "       'happy', 'happy', 'sad', 'happy', 'happy', 'angry', 'sad', 'sad',\n",
       "       'happy', 'happy', 'angry', 'angry', 'sad', 'happy', 'relaxed',\n",
       "       'happy', 'angry', 'happy', 'sad', 'happy', 'sad', 'relaxed',\n",
       "       'relaxed', 'sad', 'sad', 'sad', 'relaxed', 'sad', 'angry', 'happy',\n",
       "       'relaxed', 'happy', 'sad', 'angry', 'sad', 'sad', 'sad', 'sad',\n",
       "       'happy', 'happy', 'happy', 'sad', 'sad', 'angry', 'sad', 'sad',\n",
       "       'sad', 'happy', 'relaxed', 'sad', 'sad', 'sad', 'relaxed', 'sad',\n",
       "       'sad', 'happy', 'happy', 'sad', 'happy', 'happy', 'happy',\n",
       "       'relaxed', 'sad', 'angry', 'happy', 'sad', 'angry', 'happy',\n",
       "       'angry', 'relaxed', 'angry', 'relaxed', 'relaxed', 'sad', 'happy',\n",
       "       'relaxed', 'happy', 'sad', 'relaxed', 'angry', 'happy', 'sad',\n",
       "       'happy', 'happy', 'sad', 'relaxed', 'sad', 'happy', 'sad', 'sad',\n",
       "       'happy', 'happy', 'angry', 'sad', 'angry', 'happy', 'sad', 'happy',\n",
       "       'happy', 'angry', 'happy', 'sad', 'angry', 'happy', 'happy', 'sad',\n",
       "       'sad', 'happy', 'happy', 'happy', 'angry', 'relaxed', 'happy',\n",
       "       'angry', 'happy', 'angry', 'sad', 'happy', 'sad', 'sad', 'happy',\n",
       "       'sad', 'happy', 'angry', 'angry', 'sad', 'sad', 'sad', 'sad',\n",
       "       'happy', 'relaxed', 'sad', 'happy', 'happy', 'relaxed', 'happy',\n",
       "       'happy', 'sad', 'happy', 'happy', 'happy', 'sad', 'sad', 'happy',\n",
       "       'relaxed', 'happy', 'sad', 'sad', 'relaxed', 'happy', 'happy',\n",
       "       'happy', 'relaxed', 'angry', 'relaxed', 'happy', 'happy', 'happy',\n",
       "       'happy', 'happy', 'happy', 'relaxed', 'happy', 'relaxed', 'sad',\n",
       "       'sad', 'sad', 'happy', 'angry', 'relaxed', 'relaxed', 'happy',\n",
       "       'happy', 'sad', 'relaxed', 'relaxed', 'happy', 'relaxed', 'sad',\n",
       "       'happy', 'sad', 'angry', 'sad', 'happy', 'relaxed', 'sad', 'happy',\n",
       "       'sad', 'happy', 'relaxed', 'relaxed', 'happy', 'angry', 'angry',\n",
       "       'happy', 'sad', 'angry', 'relaxed', 'sad', 'relaxed', 'happy',\n",
       "       'relaxed', 'angry', 'happy', 'happy', 'happy', 'relaxed', 'happy',\n",
       "       'happy', 'angry', 'sad', 'sad', 'sad', 'happy', 'sad', 'angry',\n",
       "       'happy', 'sad', 'sad', 'happy', 'angry', 'sad', 'angry', 'angry',\n",
       "       'sad', 'happy', 'sad', 'relaxed', 'happy', 'happy', 'happy',\n",
       "       'happy', 'sad', 'relaxed', 'sad', 'happy', 'happy', 'happy',\n",
       "       'happy', 'relaxed', 'angry', 'sad', 'angry', 'relaxed', 'happy',\n",
       "       'happy', 'happy', 'relaxed', 'happy', 'sad', 'sad', 'happy', 'sad',\n",
       "       'happy', 'happy', 'angry', 'angry', 'happy', 'relaxed', 'angry',\n",
       "       'sad', 'relaxed', 'relaxed', 'sad', 'sad', 'happy', 'angry',\n",
       "       'happy', 'happy', 'happy', 'happy', 'happy', 'relaxed', 'angry',\n",
       "       'angry', 'sad', 'angry', 'relaxed', 'happy', 'happy', 'happy',\n",
       "       'angry', 'angry', 'happy', 'sad', 'relaxed', 'sad', 'angry', 'sad',\n",
       "       'relaxed', 'happy', 'angry', 'angry', 'happy', 'sad', 'angry',\n",
       "       'happy', 'relaxed', 'relaxed', 'angry', 'sad', 'sad', 'sad',\n",
       "       'angry', 'sad', 'happy', 'relaxed', 'sad', 'relaxed', 'relaxed',\n",
       "       'happy', 'happy', 'relaxed', 'sad', 'sad', 'angry', 'sad',\n",
       "       'relaxed', 'sad', 'happy', 'happy', 'happy', 'sad', 'sad', 'sad',\n",
       "       'happy', 'happy', 'sad', 'happy', 'happy', 'sad', 'angry', 'angry',\n",
       "       'sad', 'happy', 'sad', 'angry', 'happy', 'angry', 'happy', 'angry',\n",
       "       'angry', 'relaxed', 'happy', 'sad', 'sad', 'angry', 'happy',\n",
       "       'happy', 'sad', 'sad', 'angry', 'angry', 'angry', 'happy', 'happy',\n",
       "       'relaxed', 'sad', 'sad', 'sad', 'sad', 'sad', 'angry', 'happy',\n",
       "       'happy', 'angry', 'angry', 'sad', 'relaxed', 'sad', 'happy', 'sad',\n",
       "       'angry', 'angry', 'angry', 'angry', 'happy', 'sad', 'angry',\n",
       "       'happy', 'happy', 'angry', 'happy', 'happy', 'sad', 'relaxed',\n",
       "       'sad', 'sad', 'happy', 'sad', 'sad', 'sad'], dtype=object)"
      ]
     },
     "execution_count": 18,
     "metadata": {},
     "output_type": "execute_result"
    }
   ],
   "source": [
    "y_pred = np.argmax(y_pred, axis=1)\n",
    "np.array(class_names)[y_pred]"
   ]
  },
  {
   "cell_type": "code",
   "execution_count": null,
   "metadata": {},
   "outputs": [
    {
     "data": {
      "text/plain": [
       "<sklearn.metrics._plot.confusion_matrix.ConfusionMatrixDisplay at 0x26ae4536b50>"
      ]
     },
     "execution_count": 19,
     "metadata": {},
     "output_type": "execute_result"
    },
    {
     "data": {
      "image/png": "[encoded data removed]",
      "text/plain": [
       "<Figure size 640x480 with 2 Axes>"
      ]
     },
     "metadata": {},
     "output_type": "display_data"
    }
   ],
   "source": [
    "from sklearn.metrics import confusion_matrix,ConfusionMatrixDisplay\n",
    "\n",
    "ConfusionMatrixDisplay(confusion_matrix(y_test,y_pred)).plot()"
   ]
  },
  {
   "cell_type": "code",
   "execution_count": null,
   "metadata": {},
   "outputs": [],
   "source": []
  }
 ],
 "metadata": {
  "kernelspec": {
   "display_name": "deep-learning",
   "language": "python",
   "name": "python3"
  },
  "language_info": {
   "codemirror_mode": {
    "name": "ipython",
    "version": 3
   },
   "file_extension": ".py",
   "mimetype": "text/x-python",
   "name": "python",
   "nbconvert_exporter": "python",
   "pygments_lexer": "ipython3",
   "version": "3.11.8"
  }
 },
 "nbformat": 4,
 "nbformat_minor": 2
}
