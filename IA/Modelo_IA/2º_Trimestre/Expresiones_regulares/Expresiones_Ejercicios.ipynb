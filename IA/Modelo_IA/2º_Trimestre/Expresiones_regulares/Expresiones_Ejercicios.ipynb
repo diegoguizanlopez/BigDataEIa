{
 "cells": [
  {
   "cell_type": "markdown",
   "metadata": {},
   "source": [
    "**1. Escribe un script para verificar que una cadena contenga solo un determinado conjunto de caracteres \n",
    "(en este caso az, AZ y 0-9).**"
   ]
  },
  {
   "cell_type": "code",
   "execution_count": 2,
   "metadata": {},
   "outputs": [
    {
     "name": "stdout",
     "output_type": "stream",
     "text": [
      "['p', 'r', 'u', 'e', 'b', 'a', 'd', 'e', 'c', 'a', 'd', 'e', 'n', 'a']\n"
     ]
    }
   ],
   "source": [
    "import re\n",
    "\n",
    "cadena=\"prueba de cadena\"\n",
    "\n",
    "m=re.findall(r'\\w',cadena)\n",
    "\n",
    "print(m)"
   ]
  },
  {
   "cell_type": "markdown",
   "metadata": {},
   "source": [
    "**2. Escribe un script que coincida con una cadena que tenga una a seguida de cero o más b**"
   ]
  },
  {
   "cell_type": "code",
   "execution_count": 33,
   "metadata": {},
   "outputs": [
    {
     "name": "stdout",
     "output_type": "stream",
     "text": [
      "['ab', 'ab', 'ab', 'a']\n"
     ]
    }
   ],
   "source": [
    "cadena=\"abcababac\"\n",
    "m=re.findall(r\"ab*\",cadena)\n",
    "print(m)"
   ]
  },
  {
   "cell_type": "markdown",
   "metadata": {},
   "source": [
    "**3. Escribe un script que coincida con una cadena que tenga una a seguida de una o más b.**"
   ]
  },
  {
   "cell_type": "code",
   "execution_count": 34,
   "metadata": {},
   "outputs": [
    {
     "name": "stdout",
     "output_type": "stream",
     "text": [
      "['ab', 'ab', 'ab']\n"
     ]
    }
   ],
   "source": [
    "m=re.findall(r\"ab+\",cadena)\n",
    "print(m)"
   ]
  },
  {
   "cell_type": "markdown",
   "metadata": {},
   "source": [
    "**4. Escribe un script que coincida con una cadena que tenga una a seguida de cero o una 'b'.**"
   ]
  },
  {
   "cell_type": "code",
   "execution_count": 35,
   "metadata": {},
   "outputs": [
    {
     "name": "stdout",
     "output_type": "stream",
     "text": [
      "['ab', 'ab', 'ab', 'a']\n"
     ]
    }
   ],
   "source": [
    "m=re.findall(r\"ab?\",cadena)\n",
    "print(m)"
   ]
  },
  {
   "cell_type": "markdown",
   "metadata": {},
   "source": [
    "**5. Escribe un script que coincida con una cadena que tenga una a seguida de tres 'b'.**"
   ]
  },
  {
   "cell_type": "code",
   "execution_count": 42,
   "metadata": {},
   "outputs": [
    {
     "name": "stdout",
     "output_type": "stream",
     "text": [
      "['abbb', 'abbb', 'abbb']\n"
     ]
    }
   ],
   "source": [
    "cadena=\"abbbaabbbaabbbb\"\n",
    "m=re.findall(r\"ab{3}\",cadena)\n",
    "print(m)"
   ]
  },
  {
   "cell_type": "markdown",
   "metadata": {},
   "source": [
    "**6. Escribe un script que coincida con una cadena que tenga una a seguida de dos o tres 'b'**"
   ]
  },
  {
   "cell_type": "code",
   "execution_count": 45,
   "metadata": {},
   "outputs": [
    {
     "name": "stdout",
     "output_type": "stream",
     "text": [
      "['abbb', 'abbb', 'abbb']\n"
     ]
    }
   ],
   "source": [
    "m=re.findall(r\"ab{2,3}\",cadena)\n",
    "print(m)"
   ]
  },
  {
   "cell_type": "markdown",
   "metadata": {},
   "source": [
    "**7. Escribe un script para encontrar secuencias de letras minúsculas unidas por un guión bajo**"
   ]
  },
  {
   "cell_type": "code",
   "execution_count": 237,
   "metadata": {},
   "outputs": [
    {
     "name": "stdout",
     "output_type": "stream",
     "text": [
      "['abcad_av_a__a', 'a_a']\n"
     ]
    }
   ],
   "source": [
    "cadena=\"abcad_av_a__a a_a a\"\n",
    "m=re.findall(r\"([a-z]+_[a-z_]{1,})\",cadena)\n",
    "print(m)"
   ]
  },
  {
   "cell_type": "markdown",
   "metadata": {},
   "source": [
    "**8. Escribe un script para encontrar las secuencias de una letra mayúscula seguida de letras minúsculas.**"
   ]
  },
  {
   "cell_type": "code",
   "execution_count": 52,
   "metadata": {},
   "outputs": [
    {
     "name": "stdout",
     "output_type": "stream",
     "text": [
      "['bC', 'aD']\n"
     ]
    }
   ],
   "source": [
    "cadena=\"abCaD\"\n",
    "m=re.findall(r\"[a-z][A-Z]\",cadena)\n",
    "print(m)"
   ]
  },
  {
   "cell_type": "markdown",
   "metadata": {},
   "source": [
    "**9. Escribe un script que coincida con una cadena que tenga una 'a' seguida de cualquier cosa que \n",
    "termine en 'b'.**"
   ]
  },
  {
   "cell_type": "code",
   "execution_count": 228,
   "metadata": {},
   "outputs": [
    {
     "name": "stdout",
     "output_type": "stream",
     "text": [
      "['abb']\n"
     ]
    }
   ],
   "source": [
    "cadena=\"abb\"\n",
    "m=re.findall(r\"^[b-zB-Z0-9]*a[b-zB-Z0-9]*b$\",cadena)\n",
    "print(m)"
   ]
  },
  {
   "cell_type": "markdown",
   "metadata": {},
   "source": [
    "**10. Escribe un script que haga coincidir una palabra al principio de una cadena.**"
   ]
  },
  {
   "cell_type": "code",
   "execution_count": 219,
   "metadata": {},
   "outputs": [
    {
     "name": "stdout",
     "output_type": "stream",
     "text": [
      "['prueba']\n"
     ]
    }
   ],
   "source": [
    "cadena = \"prueba1 prueba2\"\n",
    "m=re.findall(r\"^[a-zA-Z]*\",cadena)\n",
    "print(m)"
   ]
  },
  {
   "cell_type": "markdown",
   "metadata": {},
   "source": [
    "**38. Escribe un script para extraer valores entre comillas de una cadena.**"
   ]
  },
  {
   "cell_type": "code",
   "execution_count": 34,
   "metadata": {},
   "outputs": [
    {
     "name": "stdout",
     "output_type": "stream",
     "text": [
      "['texto', 'de prueba', 'de prueba 1 2']\n"
     ]
    }
   ],
   "source": [
    "cadena = \"esto es un \\\"texto\\\" \\\"de prueba\\\" \\\"de prueba 1 2\\\"\"\n",
    "# m=re.findall(r\"\\\"\\w+[\\s\\w]+?\\\"\",cadena)\n",
    "m=re.findall(r\"\\\"(.*?)\\\"\",cadena)\n",
    "print(m)"
   ]
  },
  {
   "cell_type": "markdown",
   "metadata": {},
   "source": [
    "**39. Escribe un script para eliminar múltiples espacios de una cadena.**"
   ]
  },
  {
   "cell_type": "code",
   "execution_count": 58,
   "metadata": {},
   "outputs": [
    {
     "name": "stdout",
     "output_type": "stream",
     "text": [
      "esto es un texto de una cadena\n"
     ]
    }
   ],
   "source": [
    "cadena = \"esto  es un texto   de una cadena\"\n",
    "m=re.sub(r\"( +)\",' ',cadena)\n",
    "print(m)"
   ]
  },
  {
   "cell_type": "markdown",
   "metadata": {},
   "source": [
    "**40. Escribe un script para eliminar todos los espacios en blanco de una cadena.**"
   ]
  },
  {
   "cell_type": "code",
   "execution_count": 59,
   "metadata": {},
   "outputs": [
    {
     "name": "stdout",
     "output_type": "stream",
     "text": [
      "estoesuntextodeunacadena\n"
     ]
    }
   ],
   "source": [
    "cadena = \"esto  es un texto   de una cadena\"\n",
    "m=re.sub(r\"( +)\",'',cadena)\n",
    "print(m)"
   ]
  },
  {
   "cell_type": "markdown",
   "metadata": {},
   "source": [
    "**41. Escribe un script para eliminar todo excepto los caracteres alfanuméricos de una cadena.**"
   ]
  },
  {
   "cell_type": "code",
   "execution_count": 68,
   "metadata": {},
   "outputs": [
    {
     "name": "stdout",
     "output_type": "stream",
     "text": [
      "estoesuntextodeunacadena\n"
     ]
    }
   ],
   "source": [
    "cadena = \"esto  es un texto de una cadena\"\n",
    "m=re.sub(r\"[^\\w]\",'',cadena)\n",
    "print(m)"
   ]
  },
  {
   "cell_type": "markdown",
   "metadata": {},
   "source": [
    "**46. Escribe un script para encontrar todos los adverbios y sus posiciones en una oración determinada.**"
   ]
  },
  {
   "cell_type": "code",
   "execution_count": 81,
   "metadata": {},
   "outputs": [
    {
     "name": "stdout",
     "output_type": "stream",
     "text": [
      "----------\n",
      "apropiadamente\n",
      "1\n",
      "15\n",
      "----------\n",
      "pruebamente\n",
      "16\n",
      "27\n",
      "----------\n",
      "textamente\n",
      "35\n",
      "45\n"
     ]
    }
   ],
   "source": [
    "cadena = \" apropiadamente pruebamente cadena textamente\"\n",
    "m=re.finditer(\"\\w+mente\",cadena)\n",
    "for n in m:\n",
    "    print(\"----------\")\n",
    "    print(n.group())\n",
    "    print(n.start())\n",
    "    print(n.end())"
   ]
  },
  {
   "cell_type": "markdown",
   "metadata": {},
   "source": []
  }
 ],
 "metadata": {
  "kernelspec": {
   "display_name": "ia",
   "language": "python",
   "name": "python3"
  },
  "language_info": {
   "codemirror_mode": {
    "name": "ipython",
    "version": 3
   },
   "file_extension": ".py",
   "mimetype": "text/x-python",
   "name": "python",
   "nbconvert_exporter": "python",
   "pygments_lexer": "ipython3",
   "version": "3.8.18"
  }
 },
 "nbformat": 4,
 "nbformat_minor": 2
}
