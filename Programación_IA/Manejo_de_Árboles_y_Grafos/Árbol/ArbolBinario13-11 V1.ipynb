{
 "cells": [
  {
   "cell_type": "markdown",
   "metadata": {},
   "source": [
    "# **Árboles binarios**"
   ]
  },
  {
   "cell_type": "code",
   "execution_count": 15,
   "metadata": {},
   "outputs": [
    {
     "name": "stdout",
     "output_type": "stream",
     "text": [
      "Persona: dni: 00000111 nombre:  edad: 0\n",
      "Persona: dni: 00000444 nombre:  edad: 0\n",
      "Persona: dni: 00000555 nombre:  edad: 0\n",
      "Persona: dni: 00000333 nombre:  edad: 0\n",
      "Persona: dni: 00000888 nombre:  edad: 0\n",
      "Persona: dni: 00000999 nombre:  edad: 0\n",
      "Persona: dni: 00000777 nombre:  edad: 0\n"
     ]
    }
   ],
   "source": [
    "class Persona:\n",
    "  def __init__(self, dni, nombre=\"Desconocido\", edad = 0):\n",
    "    self.dni = dni\n",
    "    self.nombre = nombre\n",
    "    self.edad = edad\n",
    "    self.izda = None\n",
    "    self.dcha = None\n",
    "\n",
    "  def anade(self, otra):\n",
    "#    print(f\"soy {self} e intento insertar a {otra}\")\n",
    "    if otra < self:\n",
    "#      print(\"hacia mi rama izda\")\n",
    "      if self.izda is None: self.izda = otra; # print(\"Hecho\")\n",
    "      else:                 self.izda.anade(otra)\n",
    "    else:\n",
    "#      print(\"hacia mi rama dcha\")\n",
    "      if self.dcha is None: self.dcha = otra; # print(\"Hecho\")\n",
    "      else:                 self.dcha.anade(otra)\n",
    "\n",
    "  def busca(self, dni):\n",
    "    if isinstance(dni, int): dni = str(dni)\n",
    "    while len(dni) < 8: dni = \"0\" + dni\n",
    "    return self.busca_aux(dni)\n",
    "\n",
    "  def busca_aux(self, dni):\n",
    "    if self.dni == dni: return self\n",
    "    if dni < self.dni:\n",
    "      if self.izda is None: return None\n",
    "      return self.izda.busca_aux(dni)\n",
    "    if self.dcha is None: return None\n",
    "    return self.dcha.busca_aux(dni)\n",
    "\n",
    "  def recorre_recursivo(self):\n",
    "    if self.izda: self.izda.recorre_recursivo()\n",
    "    if self.dcha: self.dcha.recorre_recursivo()\n",
    "    print(self)\n",
    "\n",
    "  @property\n",
    "  def dni(self):\n",
    "    return self._dni\n",
    "\n",
    "  @dni.setter\n",
    "  def dni(self, dni):\n",
    "    if isinstance(dni, int): dni = str(dni)\n",
    "    while len(dni) < 8: dni = \"0\" + dni\n",
    "    self._dni = dni\n",
    "\n",
    "  def __eq__(self, otro):\n",
    "    return self.dni == otro.dni\n",
    "  def __ne__(self, otro):\n",
    "    return self.dni != otro.dni\n",
    "  def __lt__(self, otro):\n",
    "    return self.dni < otro.dni\n",
    "  def __gt__(self, otro):\n",
    "    return self.dni > otro.dni\n",
    "  def __le__(self, otro):\n",
    "    return self.dni <= otro.dni\n",
    "  def __ge__(self, otro):\n",
    "    return self.dni >= otro.dni\n",
    "\n",
    "  def __str__(self):\n",
    "    return f\"Persona: dni: {self.dni} nombre: {self.nombre} edad: {self.edad}\"\n",
    "\n",
    "raiz = None\n",
    "dnis = [\"777\", \"333\", \"999\", \"888\", \"111\", \"555\", \"444\"]\n",
    "\n",
    "for d in dnis:\n",
    "  p = Persona(d, f\"\", 0)\n",
    "  if raiz is None: raiz = p\n",
    "  else: raiz.anade(p)\n",
    "\n",
    "raiz.recorre_recursivo()"
   ]
  }
 ],
 "metadata": {
  "kernelspec": {
   "display_name": "ia",
   "language": "python",
   "name": "python3"
  },
  "language_info": {
   "codemirror_mode": {
    "name": "ipython",
    "version": 3
   },
   "file_extension": ".py",
   "mimetype": "text/x-python",
   "name": "python",
   "nbconvert_exporter": "python",
   "pygments_lexer": "ipython3",
   "version": "3.8.18"
  }
 },
 "nbformat": 4,
 "nbformat_minor": 2
}
